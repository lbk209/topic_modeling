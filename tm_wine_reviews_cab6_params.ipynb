{
  "nbformat": 4,
  "nbformat_minor": 0,
  "metadata": {
    "colab": {
      "provenance": [],
      "toc_visible": true,
      "mount_file_id": "1HrN2HQV3QABpEeMVjjbqysyItPADNVd2",
      "authorship_tag": "ABX9TyOo1cNh7ftnvHAWw4AKqRiv",
      "include_colab_link": true
    },
    "kernelspec": {
      "name": "python3",
      "display_name": "Python 3"
    },
    "language_info": {
      "name": "python"
    }
  },
  "cells": [
    {
      "cell_type": "markdown",
      "metadata": {
        "id": "view-in-github",
        "colab_type": "text"
      },
      "source": [
        "<a href=\"https://colab.research.google.com/github/lbk209/topic_modeling/blob/main/tm_wine_reviews_cab6_params.ipynb\" target=\"_parent\"><img src=\"https://colab.research.google.com/assets/colab-badge.svg\" alt=\"Open In Colab\"/></a>"
      ]
    },
    {
      "cell_type": "markdown",
      "source": [
        "# Setting"
      ],
      "metadata": {
        "id": "TkpLdO6c-61g"
      }
    },
    {
      "cell_type": "code",
      "execution_count": 3,
      "metadata": {
        "id": "vjko2pzN45rO"
      },
      "outputs": [],
      "source": [
        "%%capture\n",
        "!pip install bertopic accelerate adjustText"
      ]
    },
    {
      "cell_type": "code",
      "source": [
        "import os\n",
        "import pandas as pd\n",
        "import plotly.express as px\n",
        "from tqdm import tqdm"
      ],
      "metadata": {
        "id": "RbdZTTNJ-w-R"
      },
      "execution_count": 4,
      "outputs": []
    },
    {
      "cell_type": "code",
      "source": [
        "# to work with path name having blank\n",
        "import locale\n",
        "locale.getpreferredencoding = lambda: \"UTF-8\""
      ],
      "metadata": {
        "id": "QoPg6nVz-tDh"
      },
      "execution_count": 5,
      "outputs": []
    },
    {
      "cell_type": "markdown",
      "source": [
        "run to copy files from google drive"
      ],
      "metadata": {
        "id": "LnpM5cUr_IGd"
      }
    },
    {
      "cell_type": "code",
      "source": [
        "from google.colab import drive\n",
        "drive.mount('/content/drive')"
      ],
      "metadata": {
        "colab": {
          "base_uri": "https://localhost:8080/"
        },
        "id": "iLVCVBUd-5Ee",
        "outputId": "e30715c7-03cd-4494-a4a0-0ea6023aab6b"
      },
      "execution_count": null,
      "outputs": [
        {
          "output_type": "stream",
          "name": "stdout",
          "text": [
            "Mounted at /content/drive\n"
          ]
        }
      ]
    },
    {
      "cell_type": "markdown",
      "source": [
        "run to upload files from local"
      ],
      "metadata": {
        "id": "WsL-WpGh_PGB"
      }
    },
    {
      "cell_type": "code",
      "source": [
        "from google.colab import files\n",
        "uploaded = files.upload()"
      ],
      "metadata": {
        "id": "lybwCdt1-1Ju"
      },
      "execution_count": null,
      "outputs": []
    },
    {
      "cell_type": "markdown",
      "source": [
        "# 🗂️ Data"
      ],
      "metadata": {
        "id": "JgPlYen7_iLT"
      }
    },
    {
      "cell_type": "code",
      "execution_count": 6,
      "metadata": {
        "id": "t7YMlt7xnbNw"
      },
      "outputs": [],
      "source": [
        "file = 'wine_reviews_cab6_transl2'\n",
        "path = 'sample_data'\n",
        "path_src = '/content/drive/MyDrive/Colab\\ Notebooks/'"
      ]
    },
    {
      "cell_type": "code",
      "execution_count": 7,
      "metadata": {
        "colab": {
          "base_uri": "https://localhost:8080/"
        },
        "id": "efJmiXNgnbNx",
        "outputId": "f15e777a-e75f-4217-f782-74f174958c49"
      },
      "outputs": [
        {
          "output_type": "stream",
          "name": "stdout",
          "text": [
            "Archive:  /content/drive/MyDrive/Colab Notebooks//wine_reviews_cab6_transl2.zip\n",
            "  inflating: sample_data/wine_reviews_cab6_transl2.csv  \n"
          ]
        }
      ],
      "source": [
        "!unzip {path_src}/{file}.zip -d {path}"
      ]
    },
    {
      "cell_type": "code",
      "execution_count": 8,
      "metadata": {
        "colab": {
          "base_uri": "https://localhost:8080/",
          "height": 293
        },
        "id": "hC3WNibdnbN1",
        "outputId": "279ebc51-4cc5-4131-aca6-345d3c5c2f55"
      },
      "outputs": [
        {
          "output_type": "execute_result",
          "data": {
            "text/plain": [
              "   id  wid                                               wine       date  \\\n",
              "0   0    0  Casillero del Diablo Cabernet Sauvignon (Reserva) 2024-01-24   \n",
              "1   1    0  Casillero del Diablo Cabernet Sauvignon (Reserva) 2024-01-20   \n",
              "2   2    0  Casillero del Diablo Cabernet Sauvignon (Reserva) 2024-01-19   \n",
              "3   3    0  Casillero del Diablo Cabernet Sauvignon (Reserva) 2024-01-18   \n",
              "4   4    0  Casillero del Diablo Cabernet Sauvignon (Reserva) 2024-01-17   \n",
              "\n",
              "                                              review lang  \\\n",
              "0          Little too cherry on the front end for me   en   \n",
              "1  En liten skarp knekk i smaken. Ok fredagsvin,m...   no   \n",
              "2                                              Aight   en   \n",
              "3                                      무난한 맛 가성비 좋은듯   ko   \n",
              "4  oak cherry black cherry chocolate blackcurrant...   en   \n",
              "\n",
              "                                       review_transl  review_len length_group  \n",
              "0          Little too cherry on the front end for me          41         > 10  \n",
              "1  A small sharp crack in the taste. Ok Friday wi...          62         > 10  \n",
              "2                                              Aight           5        <= 10  \n",
              "3                Good taste and good value for money          35         > 10  \n",
              "4  oak cherry black cherry chocolate blackcurrant...          77         > 10  "
            ],
            "text/html": [
              "\n",
              "  <div id=\"df-5a6f5966-0eb1-47d8-bfd4-50beb34d61ee\" class=\"colab-df-container\">\n",
              "    <div>\n",
              "<style scoped>\n",
              "    .dataframe tbody tr th:only-of-type {\n",
              "        vertical-align: middle;\n",
              "    }\n",
              "\n",
              "    .dataframe tbody tr th {\n",
              "        vertical-align: top;\n",
              "    }\n",
              "\n",
              "    .dataframe thead th {\n",
              "        text-align: right;\n",
              "    }\n",
              "</style>\n",
              "<table border=\"1\" class=\"dataframe\">\n",
              "  <thead>\n",
              "    <tr style=\"text-align: right;\">\n",
              "      <th></th>\n",
              "      <th>id</th>\n",
              "      <th>wid</th>\n",
              "      <th>wine</th>\n",
              "      <th>date</th>\n",
              "      <th>review</th>\n",
              "      <th>lang</th>\n",
              "      <th>review_transl</th>\n",
              "      <th>review_len</th>\n",
              "      <th>length_group</th>\n",
              "    </tr>\n",
              "  </thead>\n",
              "  <tbody>\n",
              "    <tr>\n",
              "      <th>0</th>\n",
              "      <td>0</td>\n",
              "      <td>0</td>\n",
              "      <td>Casillero del Diablo Cabernet Sauvignon (Reserva)</td>\n",
              "      <td>2024-01-24</td>\n",
              "      <td>Little too cherry on the front end for me</td>\n",
              "      <td>en</td>\n",
              "      <td>Little too cherry on the front end for me</td>\n",
              "      <td>41</td>\n",
              "      <td>&gt; 10</td>\n",
              "    </tr>\n",
              "    <tr>\n",
              "      <th>1</th>\n",
              "      <td>1</td>\n",
              "      <td>0</td>\n",
              "      <td>Casillero del Diablo Cabernet Sauvignon (Reserva)</td>\n",
              "      <td>2024-01-20</td>\n",
              "      <td>En liten skarp knekk i smaken. Ok fredagsvin,m...</td>\n",
              "      <td>no</td>\n",
              "      <td>A small sharp crack in the taste. Ok Friday wi...</td>\n",
              "      <td>62</td>\n",
              "      <td>&gt; 10</td>\n",
              "    </tr>\n",
              "    <tr>\n",
              "      <th>2</th>\n",
              "      <td>2</td>\n",
              "      <td>0</td>\n",
              "      <td>Casillero del Diablo Cabernet Sauvignon (Reserva)</td>\n",
              "      <td>2024-01-19</td>\n",
              "      <td>Aight</td>\n",
              "      <td>en</td>\n",
              "      <td>Aight</td>\n",
              "      <td>5</td>\n",
              "      <td>&lt;= 10</td>\n",
              "    </tr>\n",
              "    <tr>\n",
              "      <th>3</th>\n",
              "      <td>3</td>\n",
              "      <td>0</td>\n",
              "      <td>Casillero del Diablo Cabernet Sauvignon (Reserva)</td>\n",
              "      <td>2024-01-18</td>\n",
              "      <td>무난한 맛 가성비 좋은듯</td>\n",
              "      <td>ko</td>\n",
              "      <td>Good taste and good value for money</td>\n",
              "      <td>35</td>\n",
              "      <td>&gt; 10</td>\n",
              "    </tr>\n",
              "    <tr>\n",
              "      <th>4</th>\n",
              "      <td>4</td>\n",
              "      <td>0</td>\n",
              "      <td>Casillero del Diablo Cabernet Sauvignon (Reserva)</td>\n",
              "      <td>2024-01-17</td>\n",
              "      <td>oak cherry black cherry chocolate blackcurrant...</td>\n",
              "      <td>en</td>\n",
              "      <td>oak cherry black cherry chocolate blackcurrant...</td>\n",
              "      <td>77</td>\n",
              "      <td>&gt; 10</td>\n",
              "    </tr>\n",
              "  </tbody>\n",
              "</table>\n",
              "</div>\n",
              "    <div class=\"colab-df-buttons\">\n",
              "\n",
              "  <div class=\"colab-df-container\">\n",
              "    <button class=\"colab-df-convert\" onclick=\"convertToInteractive('df-5a6f5966-0eb1-47d8-bfd4-50beb34d61ee')\"\n",
              "            title=\"Convert this dataframe to an interactive table.\"\n",
              "            style=\"display:none;\">\n",
              "\n",
              "  <svg xmlns=\"http://www.w3.org/2000/svg\" height=\"24px\" viewBox=\"0 -960 960 960\">\n",
              "    <path d=\"M120-120v-720h720v720H120Zm60-500h600v-160H180v160Zm220 220h160v-160H400v160Zm0 220h160v-160H400v160ZM180-400h160v-160H180v160Zm440 0h160v-160H620v160ZM180-180h160v-160H180v160Zm440 0h160v-160H620v160Z\"/>\n",
              "  </svg>\n",
              "    </button>\n",
              "\n",
              "  <style>\n",
              "    .colab-df-container {\n",
              "      display:flex;\n",
              "      gap: 12px;\n",
              "    }\n",
              "\n",
              "    .colab-df-convert {\n",
              "      background-color: #E8F0FE;\n",
              "      border: none;\n",
              "      border-radius: 50%;\n",
              "      cursor: pointer;\n",
              "      display: none;\n",
              "      fill: #1967D2;\n",
              "      height: 32px;\n",
              "      padding: 0 0 0 0;\n",
              "      width: 32px;\n",
              "    }\n",
              "\n",
              "    .colab-df-convert:hover {\n",
              "      background-color: #E2EBFA;\n",
              "      box-shadow: 0px 1px 2px rgba(60, 64, 67, 0.3), 0px 1px 3px 1px rgba(60, 64, 67, 0.15);\n",
              "      fill: #174EA6;\n",
              "    }\n",
              "\n",
              "    .colab-df-buttons div {\n",
              "      margin-bottom: 4px;\n",
              "    }\n",
              "\n",
              "    [theme=dark] .colab-df-convert {\n",
              "      background-color: #3B4455;\n",
              "      fill: #D2E3FC;\n",
              "    }\n",
              "\n",
              "    [theme=dark] .colab-df-convert:hover {\n",
              "      background-color: #434B5C;\n",
              "      box-shadow: 0px 1px 3px 1px rgba(0, 0, 0, 0.15);\n",
              "      filter: drop-shadow(0px 1px 2px rgba(0, 0, 0, 0.3));\n",
              "      fill: #FFFFFF;\n",
              "    }\n",
              "  </style>\n",
              "\n",
              "    <script>\n",
              "      const buttonEl =\n",
              "        document.querySelector('#df-5a6f5966-0eb1-47d8-bfd4-50beb34d61ee button.colab-df-convert');\n",
              "      buttonEl.style.display =\n",
              "        google.colab.kernel.accessAllowed ? 'block' : 'none';\n",
              "\n",
              "      async function convertToInteractive(key) {\n",
              "        const element = document.querySelector('#df-5a6f5966-0eb1-47d8-bfd4-50beb34d61ee');\n",
              "        const dataTable =\n",
              "          await google.colab.kernel.invokeFunction('convertToInteractive',\n",
              "                                                    [key], {});\n",
              "        if (!dataTable) return;\n",
              "\n",
              "        const docLinkHtml = 'Like what you see? Visit the ' +\n",
              "          '<a target=\"_blank\" href=https://colab.research.google.com/notebooks/data_table.ipynb>data table notebook</a>'\n",
              "          + ' to learn more about interactive tables.';\n",
              "        element.innerHTML = '';\n",
              "        dataTable['output_type'] = 'display_data';\n",
              "        await google.colab.output.renderOutput(dataTable, element);\n",
              "        const docLink = document.createElement('div');\n",
              "        docLink.innerHTML = docLinkHtml;\n",
              "        element.appendChild(docLink);\n",
              "      }\n",
              "    </script>\n",
              "  </div>\n",
              "\n",
              "\n",
              "<div id=\"df-7127b065-9b62-4cc7-bf5d-075186aea2bd\">\n",
              "  <button class=\"colab-df-quickchart\" onclick=\"quickchart('df-7127b065-9b62-4cc7-bf5d-075186aea2bd')\"\n",
              "            title=\"Suggest charts\"\n",
              "            style=\"display:none;\">\n",
              "\n",
              "<svg xmlns=\"http://www.w3.org/2000/svg\" height=\"24px\"viewBox=\"0 0 24 24\"\n",
              "     width=\"24px\">\n",
              "    <g>\n",
              "        <path d=\"M19 3H5c-1.1 0-2 .9-2 2v14c0 1.1.9 2 2 2h14c1.1 0 2-.9 2-2V5c0-1.1-.9-2-2-2zM9 17H7v-7h2v7zm4 0h-2V7h2v10zm4 0h-2v-4h2v4z\"/>\n",
              "    </g>\n",
              "</svg>\n",
              "  </button>\n",
              "\n",
              "<style>\n",
              "  .colab-df-quickchart {\n",
              "      --bg-color: #E8F0FE;\n",
              "      --fill-color: #1967D2;\n",
              "      --hover-bg-color: #E2EBFA;\n",
              "      --hover-fill-color: #174EA6;\n",
              "      --disabled-fill-color: #AAA;\n",
              "      --disabled-bg-color: #DDD;\n",
              "  }\n",
              "\n",
              "  [theme=dark] .colab-df-quickchart {\n",
              "      --bg-color: #3B4455;\n",
              "      --fill-color: #D2E3FC;\n",
              "      --hover-bg-color: #434B5C;\n",
              "      --hover-fill-color: #FFFFFF;\n",
              "      --disabled-bg-color: #3B4455;\n",
              "      --disabled-fill-color: #666;\n",
              "  }\n",
              "\n",
              "  .colab-df-quickchart {\n",
              "    background-color: var(--bg-color);\n",
              "    border: none;\n",
              "    border-radius: 50%;\n",
              "    cursor: pointer;\n",
              "    display: none;\n",
              "    fill: var(--fill-color);\n",
              "    height: 32px;\n",
              "    padding: 0;\n",
              "    width: 32px;\n",
              "  }\n",
              "\n",
              "  .colab-df-quickchart:hover {\n",
              "    background-color: var(--hover-bg-color);\n",
              "    box-shadow: 0 1px 2px rgba(60, 64, 67, 0.3), 0 1px 3px 1px rgba(60, 64, 67, 0.15);\n",
              "    fill: var(--button-hover-fill-color);\n",
              "  }\n",
              "\n",
              "  .colab-df-quickchart-complete:disabled,\n",
              "  .colab-df-quickchart-complete:disabled:hover {\n",
              "    background-color: var(--disabled-bg-color);\n",
              "    fill: var(--disabled-fill-color);\n",
              "    box-shadow: none;\n",
              "  }\n",
              "\n",
              "  .colab-df-spinner {\n",
              "    border: 2px solid var(--fill-color);\n",
              "    border-color: transparent;\n",
              "    border-bottom-color: var(--fill-color);\n",
              "    animation:\n",
              "      spin 1s steps(1) infinite;\n",
              "  }\n",
              "\n",
              "  @keyframes spin {\n",
              "    0% {\n",
              "      border-color: transparent;\n",
              "      border-bottom-color: var(--fill-color);\n",
              "      border-left-color: var(--fill-color);\n",
              "    }\n",
              "    20% {\n",
              "      border-color: transparent;\n",
              "      border-left-color: var(--fill-color);\n",
              "      border-top-color: var(--fill-color);\n",
              "    }\n",
              "    30% {\n",
              "      border-color: transparent;\n",
              "      border-left-color: var(--fill-color);\n",
              "      border-top-color: var(--fill-color);\n",
              "      border-right-color: var(--fill-color);\n",
              "    }\n",
              "    40% {\n",
              "      border-color: transparent;\n",
              "      border-right-color: var(--fill-color);\n",
              "      border-top-color: var(--fill-color);\n",
              "    }\n",
              "    60% {\n",
              "      border-color: transparent;\n",
              "      border-right-color: var(--fill-color);\n",
              "    }\n",
              "    80% {\n",
              "      border-color: transparent;\n",
              "      border-right-color: var(--fill-color);\n",
              "      border-bottom-color: var(--fill-color);\n",
              "    }\n",
              "    90% {\n",
              "      border-color: transparent;\n",
              "      border-bottom-color: var(--fill-color);\n",
              "    }\n",
              "  }\n",
              "</style>\n",
              "\n",
              "  <script>\n",
              "    async function quickchart(key) {\n",
              "      const quickchartButtonEl =\n",
              "        document.querySelector('#' + key + ' button');\n",
              "      quickchartButtonEl.disabled = true;  // To prevent multiple clicks.\n",
              "      quickchartButtonEl.classList.add('colab-df-spinner');\n",
              "      try {\n",
              "        const charts = await google.colab.kernel.invokeFunction(\n",
              "            'suggestCharts', [key], {});\n",
              "      } catch (error) {\n",
              "        console.error('Error during call to suggestCharts:', error);\n",
              "      }\n",
              "      quickchartButtonEl.classList.remove('colab-df-spinner');\n",
              "      quickchartButtonEl.classList.add('colab-df-quickchart-complete');\n",
              "    }\n",
              "    (() => {\n",
              "      let quickchartButtonEl =\n",
              "        document.querySelector('#df-7127b065-9b62-4cc7-bf5d-075186aea2bd button');\n",
              "      quickchartButtonEl.style.display =\n",
              "        google.colab.kernel.accessAllowed ? 'block' : 'none';\n",
              "    })();\n",
              "  </script>\n",
              "</div>\n",
              "\n",
              "    </div>\n",
              "  </div>\n"
            ]
          },
          "metadata": {},
          "execution_count": 8
        }
      ],
      "source": [
        "import pandas as pd\n",
        "f = f'{path}/{file}.csv'\n",
        "df_reviews = pd.read_csv(f, parse_dates=['date'])\n",
        "df_reviews.head()"
      ]
    },
    {
      "cell_type": "markdown",
      "source": [
        "## Review data"
      ],
      "metadata": {
        "id": "nUgDy2gxwprg"
      }
    },
    {
      "cell_type": "code",
      "source": [
        "df = df_reviews.groupby(by=['wid','wine']).id.count().rename('count').reset_index(1)\n",
        "swid = df.loc[df['count']>100]\n",
        "swid"
      ],
      "metadata": {
        "colab": {
          "base_uri": "https://localhost:8080/",
          "height": 175
        },
        "id": "iugujzcChjSh",
        "outputId": "f7bcd674-98bb-4741-c6cd-30b3ffc23530"
      },
      "execution_count": 9,
      "outputs": [
        {
          "output_type": "execute_result",
          "data": {
            "text/plain": [
              "                                                  wine  count\n",
              "wid                                                          \n",
              "0    Casillero del Diablo Cabernet Sauvignon (Reserva)    472\n",
              "1                       Yellow Tail Cabernet Sauvignon    136\n",
              "3              San Pedro Gato Negro Cabernet Sauvignon    879"
            ],
            "text/html": [
              "\n",
              "  <div id=\"df-6d649e85-33eb-4d59-af14-007520f125eb\" class=\"colab-df-container\">\n",
              "    <div>\n",
              "<style scoped>\n",
              "    .dataframe tbody tr th:only-of-type {\n",
              "        vertical-align: middle;\n",
              "    }\n",
              "\n",
              "    .dataframe tbody tr th {\n",
              "        vertical-align: top;\n",
              "    }\n",
              "\n",
              "    .dataframe thead th {\n",
              "        text-align: right;\n",
              "    }\n",
              "</style>\n",
              "<table border=\"1\" class=\"dataframe\">\n",
              "  <thead>\n",
              "    <tr style=\"text-align: right;\">\n",
              "      <th></th>\n",
              "      <th>wine</th>\n",
              "      <th>count</th>\n",
              "    </tr>\n",
              "    <tr>\n",
              "      <th>wid</th>\n",
              "      <th></th>\n",
              "      <th></th>\n",
              "    </tr>\n",
              "  </thead>\n",
              "  <tbody>\n",
              "    <tr>\n",
              "      <th>0</th>\n",
              "      <td>Casillero del Diablo Cabernet Sauvignon (Reserva)</td>\n",
              "      <td>472</td>\n",
              "    </tr>\n",
              "    <tr>\n",
              "      <th>1</th>\n",
              "      <td>Yellow Tail Cabernet Sauvignon</td>\n",
              "      <td>136</td>\n",
              "    </tr>\n",
              "    <tr>\n",
              "      <th>3</th>\n",
              "      <td>San Pedro Gato Negro Cabernet Sauvignon</td>\n",
              "      <td>879</td>\n",
              "    </tr>\n",
              "  </tbody>\n",
              "</table>\n",
              "</div>\n",
              "    <div class=\"colab-df-buttons\">\n",
              "\n",
              "  <div class=\"colab-df-container\">\n",
              "    <button class=\"colab-df-convert\" onclick=\"convertToInteractive('df-6d649e85-33eb-4d59-af14-007520f125eb')\"\n",
              "            title=\"Convert this dataframe to an interactive table.\"\n",
              "            style=\"display:none;\">\n",
              "\n",
              "  <svg xmlns=\"http://www.w3.org/2000/svg\" height=\"24px\" viewBox=\"0 -960 960 960\">\n",
              "    <path d=\"M120-120v-720h720v720H120Zm60-500h600v-160H180v160Zm220 220h160v-160H400v160Zm0 220h160v-160H400v160ZM180-400h160v-160H180v160Zm440 0h160v-160H620v160ZM180-180h160v-160H180v160Zm440 0h160v-160H620v160Z\"/>\n",
              "  </svg>\n",
              "    </button>\n",
              "\n",
              "  <style>\n",
              "    .colab-df-container {\n",
              "      display:flex;\n",
              "      gap: 12px;\n",
              "    }\n",
              "\n",
              "    .colab-df-convert {\n",
              "      background-color: #E8F0FE;\n",
              "      border: none;\n",
              "      border-radius: 50%;\n",
              "      cursor: pointer;\n",
              "      display: none;\n",
              "      fill: #1967D2;\n",
              "      height: 32px;\n",
              "      padding: 0 0 0 0;\n",
              "      width: 32px;\n",
              "    }\n",
              "\n",
              "    .colab-df-convert:hover {\n",
              "      background-color: #E2EBFA;\n",
              "      box-shadow: 0px 1px 2px rgba(60, 64, 67, 0.3), 0px 1px 3px 1px rgba(60, 64, 67, 0.15);\n",
              "      fill: #174EA6;\n",
              "    }\n",
              "\n",
              "    .colab-df-buttons div {\n",
              "      margin-bottom: 4px;\n",
              "    }\n",
              "\n",
              "    [theme=dark] .colab-df-convert {\n",
              "      background-color: #3B4455;\n",
              "      fill: #D2E3FC;\n",
              "    }\n",
              "\n",
              "    [theme=dark] .colab-df-convert:hover {\n",
              "      background-color: #434B5C;\n",
              "      box-shadow: 0px 1px 3px 1px rgba(0, 0, 0, 0.15);\n",
              "      filter: drop-shadow(0px 1px 2px rgba(0, 0, 0, 0.3));\n",
              "      fill: #FFFFFF;\n",
              "    }\n",
              "  </style>\n",
              "\n",
              "    <script>\n",
              "      const buttonEl =\n",
              "        document.querySelector('#df-6d649e85-33eb-4d59-af14-007520f125eb button.colab-df-convert');\n",
              "      buttonEl.style.display =\n",
              "        google.colab.kernel.accessAllowed ? 'block' : 'none';\n",
              "\n",
              "      async function convertToInteractive(key) {\n",
              "        const element = document.querySelector('#df-6d649e85-33eb-4d59-af14-007520f125eb');\n",
              "        const dataTable =\n",
              "          await google.colab.kernel.invokeFunction('convertToInteractive',\n",
              "                                                    [key], {});\n",
              "        if (!dataTable) return;\n",
              "\n",
              "        const docLinkHtml = 'Like what you see? Visit the ' +\n",
              "          '<a target=\"_blank\" href=https://colab.research.google.com/notebooks/data_table.ipynb>data table notebook</a>'\n",
              "          + ' to learn more about interactive tables.';\n",
              "        element.innerHTML = '';\n",
              "        dataTable['output_type'] = 'display_data';\n",
              "        await google.colab.output.renderOutput(dataTable, element);\n",
              "        const docLink = document.createElement('div');\n",
              "        docLink.innerHTML = docLinkHtml;\n",
              "        element.appendChild(docLink);\n",
              "      }\n",
              "    </script>\n",
              "  </div>\n",
              "\n",
              "\n",
              "<div id=\"df-65bda255-f946-4bf4-a0ce-7a6abb02ef98\">\n",
              "  <button class=\"colab-df-quickchart\" onclick=\"quickchart('df-65bda255-f946-4bf4-a0ce-7a6abb02ef98')\"\n",
              "            title=\"Suggest charts\"\n",
              "            style=\"display:none;\">\n",
              "\n",
              "<svg xmlns=\"http://www.w3.org/2000/svg\" height=\"24px\"viewBox=\"0 0 24 24\"\n",
              "     width=\"24px\">\n",
              "    <g>\n",
              "        <path d=\"M19 3H5c-1.1 0-2 .9-2 2v14c0 1.1.9 2 2 2h14c1.1 0 2-.9 2-2V5c0-1.1-.9-2-2-2zM9 17H7v-7h2v7zm4 0h-2V7h2v10zm4 0h-2v-4h2v4z\"/>\n",
              "    </g>\n",
              "</svg>\n",
              "  </button>\n",
              "\n",
              "<style>\n",
              "  .colab-df-quickchart {\n",
              "      --bg-color: #E8F0FE;\n",
              "      --fill-color: #1967D2;\n",
              "      --hover-bg-color: #E2EBFA;\n",
              "      --hover-fill-color: #174EA6;\n",
              "      --disabled-fill-color: #AAA;\n",
              "      --disabled-bg-color: #DDD;\n",
              "  }\n",
              "\n",
              "  [theme=dark] .colab-df-quickchart {\n",
              "      --bg-color: #3B4455;\n",
              "      --fill-color: #D2E3FC;\n",
              "      --hover-bg-color: #434B5C;\n",
              "      --hover-fill-color: #FFFFFF;\n",
              "      --disabled-bg-color: #3B4455;\n",
              "      --disabled-fill-color: #666;\n",
              "  }\n",
              "\n",
              "  .colab-df-quickchart {\n",
              "    background-color: var(--bg-color);\n",
              "    border: none;\n",
              "    border-radius: 50%;\n",
              "    cursor: pointer;\n",
              "    display: none;\n",
              "    fill: var(--fill-color);\n",
              "    height: 32px;\n",
              "    padding: 0;\n",
              "    width: 32px;\n",
              "  }\n",
              "\n",
              "  .colab-df-quickchart:hover {\n",
              "    background-color: var(--hover-bg-color);\n",
              "    box-shadow: 0 1px 2px rgba(60, 64, 67, 0.3), 0 1px 3px 1px rgba(60, 64, 67, 0.15);\n",
              "    fill: var(--button-hover-fill-color);\n",
              "  }\n",
              "\n",
              "  .colab-df-quickchart-complete:disabled,\n",
              "  .colab-df-quickchart-complete:disabled:hover {\n",
              "    background-color: var(--disabled-bg-color);\n",
              "    fill: var(--disabled-fill-color);\n",
              "    box-shadow: none;\n",
              "  }\n",
              "\n",
              "  .colab-df-spinner {\n",
              "    border: 2px solid var(--fill-color);\n",
              "    border-color: transparent;\n",
              "    border-bottom-color: var(--fill-color);\n",
              "    animation:\n",
              "      spin 1s steps(1) infinite;\n",
              "  }\n",
              "\n",
              "  @keyframes spin {\n",
              "    0% {\n",
              "      border-color: transparent;\n",
              "      border-bottom-color: var(--fill-color);\n",
              "      border-left-color: var(--fill-color);\n",
              "    }\n",
              "    20% {\n",
              "      border-color: transparent;\n",
              "      border-left-color: var(--fill-color);\n",
              "      border-top-color: var(--fill-color);\n",
              "    }\n",
              "    30% {\n",
              "      border-color: transparent;\n",
              "      border-left-color: var(--fill-color);\n",
              "      border-top-color: var(--fill-color);\n",
              "      border-right-color: var(--fill-color);\n",
              "    }\n",
              "    40% {\n",
              "      border-color: transparent;\n",
              "      border-right-color: var(--fill-color);\n",
              "      border-top-color: var(--fill-color);\n",
              "    }\n",
              "    60% {\n",
              "      border-color: transparent;\n",
              "      border-right-color: var(--fill-color);\n",
              "    }\n",
              "    80% {\n",
              "      border-color: transparent;\n",
              "      border-right-color: var(--fill-color);\n",
              "      border-bottom-color: var(--fill-color);\n",
              "    }\n",
              "    90% {\n",
              "      border-color: transparent;\n",
              "      border-bottom-color: var(--fill-color);\n",
              "    }\n",
              "  }\n",
              "</style>\n",
              "\n",
              "  <script>\n",
              "    async function quickchart(key) {\n",
              "      const quickchartButtonEl =\n",
              "        document.querySelector('#' + key + ' button');\n",
              "      quickchartButtonEl.disabled = true;  // To prevent multiple clicks.\n",
              "      quickchartButtonEl.classList.add('colab-df-spinner');\n",
              "      try {\n",
              "        const charts = await google.colab.kernel.invokeFunction(\n",
              "            'suggestCharts', [key], {});\n",
              "      } catch (error) {\n",
              "        console.error('Error during call to suggestCharts:', error);\n",
              "      }\n",
              "      quickchartButtonEl.classList.remove('colab-df-spinner');\n",
              "      quickchartButtonEl.classList.add('colab-df-quickchart-complete');\n",
              "    }\n",
              "    (() => {\n",
              "      let quickchartButtonEl =\n",
              "        document.querySelector('#df-65bda255-f946-4bf4-a0ce-7a6abb02ef98 button');\n",
              "      quickchartButtonEl.style.display =\n",
              "        google.colab.kernel.accessAllowed ? 'block' : 'none';\n",
              "    })();\n",
              "  </script>\n",
              "</div>\n",
              "\n",
              "  <div id=\"id_4213db9a-4d76-4494-8559-9cedd668e46e\">\n",
              "    <style>\n",
              "      .colab-df-generate {\n",
              "        background-color: #E8F0FE;\n",
              "        border: none;\n",
              "        border-radius: 50%;\n",
              "        cursor: pointer;\n",
              "        display: none;\n",
              "        fill: #1967D2;\n",
              "        height: 32px;\n",
              "        padding: 0 0 0 0;\n",
              "        width: 32px;\n",
              "      }\n",
              "\n",
              "      .colab-df-generate:hover {\n",
              "        background-color: #E2EBFA;\n",
              "        box-shadow: 0px 1px 2px rgba(60, 64, 67, 0.3), 0px 1px 3px 1px rgba(60, 64, 67, 0.15);\n",
              "        fill: #174EA6;\n",
              "      }\n",
              "\n",
              "      [theme=dark] .colab-df-generate {\n",
              "        background-color: #3B4455;\n",
              "        fill: #D2E3FC;\n",
              "      }\n",
              "\n",
              "      [theme=dark] .colab-df-generate:hover {\n",
              "        background-color: #434B5C;\n",
              "        box-shadow: 0px 1px 3px 1px rgba(0, 0, 0, 0.15);\n",
              "        filter: drop-shadow(0px 1px 2px rgba(0, 0, 0, 0.3));\n",
              "        fill: #FFFFFF;\n",
              "      }\n",
              "    </style>\n",
              "    <button class=\"colab-df-generate\" onclick=\"generateWithVariable('swid')\"\n",
              "            title=\"Generate code using this dataframe.\"\n",
              "            style=\"display:none;\">\n",
              "\n",
              "  <svg xmlns=\"http://www.w3.org/2000/svg\" height=\"24px\"viewBox=\"0 0 24 24\"\n",
              "       width=\"24px\">\n",
              "    <path d=\"M7,19H8.4L18.45,9,17,7.55,7,17.6ZM5,21V16.75L18.45,3.32a2,2,0,0,1,2.83,0l1.4,1.43a1.91,1.91,0,0,1,.58,1.4,1.91,1.91,0,0,1-.58,1.4L9.25,21ZM18.45,9,17,7.55Zm-12,3A5.31,5.31,0,0,0,4.9,8.1,5.31,5.31,0,0,0,1,6.5,5.31,5.31,0,0,0,4.9,4.9,5.31,5.31,0,0,0,6.5,1,5.31,5.31,0,0,0,8.1,4.9,5.31,5.31,0,0,0,12,6.5,5.46,5.46,0,0,0,6.5,12Z\"/>\n",
              "  </svg>\n",
              "    </button>\n",
              "    <script>\n",
              "      (() => {\n",
              "      const buttonEl =\n",
              "        document.querySelector('#id_4213db9a-4d76-4494-8559-9cedd668e46e button.colab-df-generate');\n",
              "      buttonEl.style.display =\n",
              "        google.colab.kernel.accessAllowed ? 'block' : 'none';\n",
              "\n",
              "      buttonEl.onclick = () => {\n",
              "        google.colab.notebook.generateWithVariable('swid');\n",
              "      }\n",
              "      })();\n",
              "    </script>\n",
              "  </div>\n",
              "\n",
              "    </div>\n",
              "  </div>\n"
            ]
          },
          "metadata": {},
          "execution_count": 9
        }
      ]
    },
    {
      "cell_type": "code",
      "source": [
        "df_reviews = df_reviews.loc[df_reviews.wid.isin(swid.index)]"
      ],
      "metadata": {
        "id": "2U_4E78whxuW"
      },
      "execution_count": 10,
      "outputs": []
    },
    {
      "cell_type": "code",
      "execution_count": 11,
      "metadata": {
        "id": "8Ea0lYdIT6T3"
      },
      "outputs": [],
      "source": [
        "# DO NOT CHANGE the (document) id as it is index to topics of topic model (topic_model.topics_)\n",
        "docs = df_reviews.review_transl.tolist()"
      ]
    },
    {
      "cell_type": "markdown",
      "metadata": {
        "id": "0mDfAxLbYaeU"
      },
      "source": [
        "# 🗨️ **BERTopic**"
      ]
    },
    {
      "cell_type": "markdown",
      "source": [
        "## Params"
      ],
      "metadata": {
        "id": "0oNUN15aC7Bt"
      }
    },
    {
      "cell_type": "markdown",
      "source": [
        "### Embedding"
      ],
      "metadata": {
        "id": "9g50Xi47C-AB"
      }
    },
    {
      "cell_type": "code",
      "execution_count": 44,
      "metadata": {
        "id": "zqHw1tXi70tZ"
      },
      "outputs": [],
      "source": [
        "# 12-layer, 384-hidden\n",
        "st_id = 'all-MiniLM-L12-v2'"
      ]
    },
    {
      "cell_type": "markdown",
      "metadata": {
        "id": "Hzx9S6qCDJV3"
      },
      "source": [
        "### Dimensionality Reduction"
      ]
    },
    {
      "cell_type": "code",
      "execution_count": 45,
      "metadata": {
        "id": "zYDHhkTNDJWE"
      },
      "outputs": [],
      "source": [
        "n_components = 15\n",
        "n_neighbors = 10\n",
        "\n",
        "# the minimum distance apart that points are allowed to be in the low dimensional representation.\n",
        "# This means that low values of min_dist will result in clumpier embeddings.\n",
        "# This can be useful if you are interested in clustering, or in finer topological structure.\n",
        "# Larger values of min_dist will prevent UMAP from packing points together and will focus on the preservation of the broad topological structure instead.\n",
        "min_dist = 0 #0.1\n",
        "\n",
        "random_state=42"
      ]
    },
    {
      "cell_type": "markdown",
      "source": [
        "### Clustering"
      ],
      "metadata": {
        "id": "1ime7AmDBs5k"
      }
    },
    {
      "cell_type": "code",
      "source": [
        "# a lower min_cluster_size will generate more topics\n",
        "min_cluster_size = 100 #50\n",
        "\n",
        "# The implementation defaults this value (if it is unspecified) to whatever min_cluster_size is set to.\n",
        "# The larger the value of min_samples you provide, the more conservative the clustering – more points will be declared as noise,\n",
        "# and clusters will be restricted to progressively more dense area\n",
        "#min_samples = None\n",
        "r = 0.6\n",
        "min_samples = round(min_cluster_size*r)\n",
        "\n",
        "# We need this to avoid an AttributeError when integrating our custom HDBSCAN step with BERTopic\n",
        "prediction_data=True\n",
        "\n",
        "# can improve the resultant clusters\n",
        "gen_min_span_tree=True"
      ],
      "metadata": {
        "id": "h5ejsB5OBpKH"
      },
      "execution_count": 46,
      "outputs": []
    },
    {
      "cell_type": "markdown",
      "source": [
        "### BERTopic"
      ],
      "metadata": {
        "id": "2d6xzDT3HZsa"
      }
    },
    {
      "cell_type": "code",
      "source": [
        "# top n words in combined documents in a cluster\n",
        "top_n_words = 5 #10\n",
        "\n",
        "# Calculate the probabilities of all topics per document instead of the probability of the assigned topic per document.\n",
        "# This could slow down the extraction of topics if you have many documents (> 100_000).\n",
        "calculate_probabilities=False"
      ],
      "metadata": {
        "id": "E5vVooUWHT-Y"
      },
      "execution_count": 47,
      "outputs": []
    },
    {
      "cell_type": "markdown",
      "source": [
        "## **Sub-models**"
      ],
      "metadata": {
        "id": "IqKiI65MDa5N"
      }
    },
    {
      "cell_type": "code",
      "execution_count": null,
      "metadata": {
        "id": "hqhLlG8_YhtB"
      },
      "outputs": [],
      "source": [
        "from sentence_transformers import SentenceTransformer\n",
        "\n",
        "embedding_model = SentenceTransformer(st_id)\n",
        "embeddings = embedding_model.encode(docs, show_progress_bar=True)"
      ]
    },
    {
      "cell_type": "code",
      "source": [
        "from umap import UMAP\n",
        "\n",
        "umap_model = UMAP(\n",
        "    n_components=n_components,\n",
        "    n_neighbors=n_neighbors,\n",
        "    min_dist=min_dist,\n",
        "    metric='cosine', random_state=random_state)"
      ],
      "metadata": {
        "id": "dTDlXG9yBnlK"
      },
      "execution_count": 49,
      "outputs": []
    },
    {
      "cell_type": "code",
      "execution_count": 19,
      "metadata": {
        "id": "J4vl5olHgjXe",
        "colab": {
          "base_uri": "https://localhost:8080/"
        },
        "outputId": "19372ca8-f8c4-4bb7-a045-8eeda501331d"
      },
      "outputs": [
        {
          "output_type": "stream",
          "name": "stderr",
          "text": [
            "/usr/local/lib/python3.10/dist-packages/umap/umap_.py:1943: UserWarning: n_jobs value -1 overridden to 1 by setting random_state. Use no seed for parallelism.\n",
            "  warn(f\"n_jobs value {self.n_jobs} overridden to 1 by setting random_state. Use no seed for parallelism.\")\n"
          ]
        }
      ],
      "source": [
        "# Pre-reduce embeddings for visualization purposes\n",
        "reduced_embeddings = UMAP(n_neighbors=n_neighbors, n_components=2, min_dist=min_dist, metric='cosine', random_state=random_state).fit_transform(embeddings)"
      ]
    },
    {
      "cell_type": "code",
      "execution_count": 66,
      "metadata": {
        "id": "XL3oQPkJZQqF"
      },
      "outputs": [],
      "source": [
        "from hdbscan import HDBSCAN\n",
        "\n",
        "hdbscan_model = HDBSCAN(\n",
        "    min_cluster_size=min_cluster_size,\n",
        "    min_samples=min_samples,\n",
        "    metric='euclidean',\n",
        "    cluster_selection_method='eom',\n",
        "    prediction_data=prediction_data,\n",
        "    gen_min_span_tree=gen_min_span_tree\n",
        "    )"
      ]
    },
    {
      "cell_type": "code",
      "execution_count": 67,
      "metadata": {
        "id": "_tgJLEBoZU2U"
      },
      "outputs": [],
      "source": [
        "from bertopic.representation import KeyBERTInspired\n",
        "\n",
        "keybert = KeyBERTInspired()\n",
        "\n",
        "representation_model = {\n",
        "    \"KeyBERT\": keybert\n",
        "}"
      ]
    },
    {
      "cell_type": "markdown",
      "source": [
        "CountVectorizer before training the topic model to minimize the size of the resulting c-TF-IDF matrix:"
      ],
      "metadata": {
        "id": "HMWG8bQtztcR"
      }
    },
    {
      "cell_type": "code",
      "source": [
        "min_df = 0.01\n",
        "len(docs), min_df * len(docs)"
      ],
      "metadata": {
        "colab": {
          "base_uri": "https://localhost:8080/"
        },
        "id": "VAuCsRLF2HZu",
        "outputId": "dff569e3-896c-4de8-b73b-f24bf2c67399"
      },
      "execution_count": 60,
      "outputs": [
        {
          "output_type": "execute_result",
          "data": {
            "text/plain": [
              "(1487, 14.870000000000001)"
            ]
          },
          "metadata": {},
          "execution_count": 60
        }
      ]
    },
    {
      "cell_type": "code",
      "source": [
        "from sklearn.feature_extraction.text import CountVectorizer\n",
        "\n",
        "#vectorizer_model = None\n",
        "vectorizer_model = CountVectorizer(stop_words=\"english\", ngram_range=(1, 3), min_df=min_df)"
      ],
      "metadata": {
        "id": "S1RW4j1lzWi1"
      },
      "execution_count": 61,
      "outputs": []
    },
    {
      "cell_type": "markdown",
      "metadata": {
        "id": "HLVYJQf2aegN"
      },
      "source": [
        "## 🔥 **Training**\n",
        "\n",
        "Now that we have our models prepared, we can start training our topic model! We supply BERTopic with the sub-models of interest, run `.fit_transform`, and see what kind of topics we get."
      ]
    },
    {
      "cell_type": "code",
      "execution_count": 68,
      "metadata": {
        "colab": {
          "base_uri": "https://localhost:8080/"
        },
        "id": "UdokcXzW6C1g",
        "outputId": "c4d46de3-b023-4365-aa1e-349a8745d886"
      },
      "outputs": [
        {
          "output_type": "stream",
          "name": "stderr",
          "text": [
            "2024-02-06 00:46:11,967 - BERTopic - Dimensionality - Fitting the dimensionality reduction algorithm\n",
            "2024-02-06 00:46:19,630 - BERTopic - Dimensionality - Completed ✓\n",
            "2024-02-06 00:46:19,636 - BERTopic - Cluster - Start clustering the reduced embeddings\n",
            "2024-02-06 00:46:19,809 - BERTopic - Cluster - Completed ✓\n",
            "2024-02-06 00:46:19,819 - BERTopic - Representation - Extracting topics from clusters using representation models.\n",
            "2024-02-06 00:46:22,488 - BERTopic - Representation - Completed ✓\n"
          ]
        }
      ],
      "source": [
        "from bertopic import BERTopic\n",
        "\n",
        "topic_model = BERTopic(\n",
        "  # Sub-models\n",
        "  embedding_model=embedding_model,\n",
        "  umap_model=umap_model,\n",
        "  hdbscan_model=hdbscan_model,\n",
        "  representation_model=representation_model,\n",
        "  vectorizer_model=vectorizer_model,\n",
        "\n",
        "  top_n_words=top_n_words,\n",
        "  calculate_probabilities=calculate_probabilities,\n",
        "  verbose=True\n",
        ")\n",
        "\n",
        "# Train model\n",
        "topics, probs = topic_model.fit_transform(docs, embeddings)"
      ]
    },
    {
      "cell_type": "code",
      "execution_count": 63,
      "metadata": {
        "colab": {
          "base_uri": "https://localhost:8080/"
        },
        "id": "9_ZsLEBj9KMg",
        "outputId": "d3ae89eb-85e1-477e-cf51-c21f48103d3c"
      },
      "outputs": [
        {
          "output_type": "execute_result",
          "data": {
            "text/plain": [
              "2"
            ]
          },
          "metadata": {},
          "execution_count": 63
        }
      ],
      "source": [
        "# num of topics\n",
        "len(topic_model.get_topics()) - 1"
      ]
    },
    {
      "cell_type": "code",
      "execution_count": 64,
      "metadata": {
        "colab": {
          "base_uri": "https://localhost:8080/",
          "height": 143
        },
        "id": "_AD8lkB1NGZw",
        "outputId": "61313474-6661-4ce4-9a4f-0de61de32058"
      },
      "outputs": [
        {
          "output_type": "execute_result",
          "data": {
            "text/plain": [
              "   Topic  Count                           Name  \\\n",
              "0     -1    693   -1_good_cabernet_wine_medium   \n",
              "1      0    448  0_oak_cherry_chocolate_fruity   \n",
              "2      1    346      1_wine_good_red_good wine   \n",
              "\n",
              "                           Representation  \\\n",
              "0     [good, cabernet, wine, medium, red]   \n",
              "1  [oak, cherry, chocolate, fruity, good]   \n",
              "2     [wine, good, red, good wine, price]   \n",
              "\n",
              "                                             KeyBERT  \\\n",
              "0  [good, great, excellent, best, bad, decent, ni...   \n",
              "1  [oak cherry, black cherry, cherry black cherry...   \n",
              "2  [good wine, excellent wine, nice wine, wine go...   \n",
              "\n",
              "                                 Representative_Docs  \n",
              "0                            [Good, Very good, Good]  \n",
              "1  [oak cherry black cherry, oak cherry black che...  \n",
              "2         [Good wine!, A good wine!, Very good wine]  "
            ],
            "text/html": [
              "\n",
              "  <div id=\"df-f989ede3-1c4f-4106-ad20-5007ae77e88d\" class=\"colab-df-container\">\n",
              "    <div>\n",
              "<style scoped>\n",
              "    .dataframe tbody tr th:only-of-type {\n",
              "        vertical-align: middle;\n",
              "    }\n",
              "\n",
              "    .dataframe tbody tr th {\n",
              "        vertical-align: top;\n",
              "    }\n",
              "\n",
              "    .dataframe thead th {\n",
              "        text-align: right;\n",
              "    }\n",
              "</style>\n",
              "<table border=\"1\" class=\"dataframe\">\n",
              "  <thead>\n",
              "    <tr style=\"text-align: right;\">\n",
              "      <th></th>\n",
              "      <th>Topic</th>\n",
              "      <th>Count</th>\n",
              "      <th>Name</th>\n",
              "      <th>Representation</th>\n",
              "      <th>KeyBERT</th>\n",
              "      <th>Representative_Docs</th>\n",
              "    </tr>\n",
              "  </thead>\n",
              "  <tbody>\n",
              "    <tr>\n",
              "      <th>0</th>\n",
              "      <td>-1</td>\n",
              "      <td>693</td>\n",
              "      <td>-1_good_cabernet_wine_medium</td>\n",
              "      <td>[good, cabernet, wine, medium, red]</td>\n",
              "      <td>[good, great, excellent, best, bad, decent, ni...</td>\n",
              "      <td>[Good, Very good, Good]</td>\n",
              "    </tr>\n",
              "    <tr>\n",
              "      <th>1</th>\n",
              "      <td>0</td>\n",
              "      <td>448</td>\n",
              "      <td>0_oak_cherry_chocolate_fruity</td>\n",
              "      <td>[oak, cherry, chocolate, fruity, good]</td>\n",
              "      <td>[oak cherry, black cherry, cherry black cherry...</td>\n",
              "      <td>[oak cherry black cherry, oak cherry black che...</td>\n",
              "    </tr>\n",
              "    <tr>\n",
              "      <th>2</th>\n",
              "      <td>1</td>\n",
              "      <td>346</td>\n",
              "      <td>1_wine_good_red_good wine</td>\n",
              "      <td>[wine, good, red, good wine, price]</td>\n",
              "      <td>[good wine, excellent wine, nice wine, wine go...</td>\n",
              "      <td>[Good wine!, A good wine!, Very good wine]</td>\n",
              "    </tr>\n",
              "  </tbody>\n",
              "</table>\n",
              "</div>\n",
              "    <div class=\"colab-df-buttons\">\n",
              "\n",
              "  <div class=\"colab-df-container\">\n",
              "    <button class=\"colab-df-convert\" onclick=\"convertToInteractive('df-f989ede3-1c4f-4106-ad20-5007ae77e88d')\"\n",
              "            title=\"Convert this dataframe to an interactive table.\"\n",
              "            style=\"display:none;\">\n",
              "\n",
              "  <svg xmlns=\"http://www.w3.org/2000/svg\" height=\"24px\" viewBox=\"0 -960 960 960\">\n",
              "    <path d=\"M120-120v-720h720v720H120Zm60-500h600v-160H180v160Zm220 220h160v-160H400v160Zm0 220h160v-160H400v160ZM180-400h160v-160H180v160Zm440 0h160v-160H620v160ZM180-180h160v-160H180v160Zm440 0h160v-160H620v160Z\"/>\n",
              "  </svg>\n",
              "    </button>\n",
              "\n",
              "  <style>\n",
              "    .colab-df-container {\n",
              "      display:flex;\n",
              "      gap: 12px;\n",
              "    }\n",
              "\n",
              "    .colab-df-convert {\n",
              "      background-color: #E8F0FE;\n",
              "      border: none;\n",
              "      border-radius: 50%;\n",
              "      cursor: pointer;\n",
              "      display: none;\n",
              "      fill: #1967D2;\n",
              "      height: 32px;\n",
              "      padding: 0 0 0 0;\n",
              "      width: 32px;\n",
              "    }\n",
              "\n",
              "    .colab-df-convert:hover {\n",
              "      background-color: #E2EBFA;\n",
              "      box-shadow: 0px 1px 2px rgba(60, 64, 67, 0.3), 0px 1px 3px 1px rgba(60, 64, 67, 0.15);\n",
              "      fill: #174EA6;\n",
              "    }\n",
              "\n",
              "    .colab-df-buttons div {\n",
              "      margin-bottom: 4px;\n",
              "    }\n",
              "\n",
              "    [theme=dark] .colab-df-convert {\n",
              "      background-color: #3B4455;\n",
              "      fill: #D2E3FC;\n",
              "    }\n",
              "\n",
              "    [theme=dark] .colab-df-convert:hover {\n",
              "      background-color: #434B5C;\n",
              "      box-shadow: 0px 1px 3px 1px rgba(0, 0, 0, 0.15);\n",
              "      filter: drop-shadow(0px 1px 2px rgba(0, 0, 0, 0.3));\n",
              "      fill: #FFFFFF;\n",
              "    }\n",
              "  </style>\n",
              "\n",
              "    <script>\n",
              "      const buttonEl =\n",
              "        document.querySelector('#df-f989ede3-1c4f-4106-ad20-5007ae77e88d button.colab-df-convert');\n",
              "      buttonEl.style.display =\n",
              "        google.colab.kernel.accessAllowed ? 'block' : 'none';\n",
              "\n",
              "      async function convertToInteractive(key) {\n",
              "        const element = document.querySelector('#df-f989ede3-1c4f-4106-ad20-5007ae77e88d');\n",
              "        const dataTable =\n",
              "          await google.colab.kernel.invokeFunction('convertToInteractive',\n",
              "                                                    [key], {});\n",
              "        if (!dataTable) return;\n",
              "\n",
              "        const docLinkHtml = 'Like what you see? Visit the ' +\n",
              "          '<a target=\"_blank\" href=https://colab.research.google.com/notebooks/data_table.ipynb>data table notebook</a>'\n",
              "          + ' to learn more about interactive tables.';\n",
              "        element.innerHTML = '';\n",
              "        dataTable['output_type'] = 'display_data';\n",
              "        await google.colab.output.renderOutput(dataTable, element);\n",
              "        const docLink = document.createElement('div');\n",
              "        docLink.innerHTML = docLinkHtml;\n",
              "        element.appendChild(docLink);\n",
              "      }\n",
              "    </script>\n",
              "  </div>\n",
              "\n",
              "\n",
              "<div id=\"df-a511631a-82a0-473c-9f68-ff236cb309cd\">\n",
              "  <button class=\"colab-df-quickchart\" onclick=\"quickchart('df-a511631a-82a0-473c-9f68-ff236cb309cd')\"\n",
              "            title=\"Suggest charts\"\n",
              "            style=\"display:none;\">\n",
              "\n",
              "<svg xmlns=\"http://www.w3.org/2000/svg\" height=\"24px\"viewBox=\"0 0 24 24\"\n",
              "     width=\"24px\">\n",
              "    <g>\n",
              "        <path d=\"M19 3H5c-1.1 0-2 .9-2 2v14c0 1.1.9 2 2 2h14c1.1 0 2-.9 2-2V5c0-1.1-.9-2-2-2zM9 17H7v-7h2v7zm4 0h-2V7h2v10zm4 0h-2v-4h2v4z\"/>\n",
              "    </g>\n",
              "</svg>\n",
              "  </button>\n",
              "\n",
              "<style>\n",
              "  .colab-df-quickchart {\n",
              "      --bg-color: #E8F0FE;\n",
              "      --fill-color: #1967D2;\n",
              "      --hover-bg-color: #E2EBFA;\n",
              "      --hover-fill-color: #174EA6;\n",
              "      --disabled-fill-color: #AAA;\n",
              "      --disabled-bg-color: #DDD;\n",
              "  }\n",
              "\n",
              "  [theme=dark] .colab-df-quickchart {\n",
              "      --bg-color: #3B4455;\n",
              "      --fill-color: #D2E3FC;\n",
              "      --hover-bg-color: #434B5C;\n",
              "      --hover-fill-color: #FFFFFF;\n",
              "      --disabled-bg-color: #3B4455;\n",
              "      --disabled-fill-color: #666;\n",
              "  }\n",
              "\n",
              "  .colab-df-quickchart {\n",
              "    background-color: var(--bg-color);\n",
              "    border: none;\n",
              "    border-radius: 50%;\n",
              "    cursor: pointer;\n",
              "    display: none;\n",
              "    fill: var(--fill-color);\n",
              "    height: 32px;\n",
              "    padding: 0;\n",
              "    width: 32px;\n",
              "  }\n",
              "\n",
              "  .colab-df-quickchart:hover {\n",
              "    background-color: var(--hover-bg-color);\n",
              "    box-shadow: 0 1px 2px rgba(60, 64, 67, 0.3), 0 1px 3px 1px rgba(60, 64, 67, 0.15);\n",
              "    fill: var(--button-hover-fill-color);\n",
              "  }\n",
              "\n",
              "  .colab-df-quickchart-complete:disabled,\n",
              "  .colab-df-quickchart-complete:disabled:hover {\n",
              "    background-color: var(--disabled-bg-color);\n",
              "    fill: var(--disabled-fill-color);\n",
              "    box-shadow: none;\n",
              "  }\n",
              "\n",
              "  .colab-df-spinner {\n",
              "    border: 2px solid var(--fill-color);\n",
              "    border-color: transparent;\n",
              "    border-bottom-color: var(--fill-color);\n",
              "    animation:\n",
              "      spin 1s steps(1) infinite;\n",
              "  }\n",
              "\n",
              "  @keyframes spin {\n",
              "    0% {\n",
              "      border-color: transparent;\n",
              "      border-bottom-color: var(--fill-color);\n",
              "      border-left-color: var(--fill-color);\n",
              "    }\n",
              "    20% {\n",
              "      border-color: transparent;\n",
              "      border-left-color: var(--fill-color);\n",
              "      border-top-color: var(--fill-color);\n",
              "    }\n",
              "    30% {\n",
              "      border-color: transparent;\n",
              "      border-left-color: var(--fill-color);\n",
              "      border-top-color: var(--fill-color);\n",
              "      border-right-color: var(--fill-color);\n",
              "    }\n",
              "    40% {\n",
              "      border-color: transparent;\n",
              "      border-right-color: var(--fill-color);\n",
              "      border-top-color: var(--fill-color);\n",
              "    }\n",
              "    60% {\n",
              "      border-color: transparent;\n",
              "      border-right-color: var(--fill-color);\n",
              "    }\n",
              "    80% {\n",
              "      border-color: transparent;\n",
              "      border-right-color: var(--fill-color);\n",
              "      border-bottom-color: var(--fill-color);\n",
              "    }\n",
              "    90% {\n",
              "      border-color: transparent;\n",
              "      border-bottom-color: var(--fill-color);\n",
              "    }\n",
              "  }\n",
              "</style>\n",
              "\n",
              "  <script>\n",
              "    async function quickchart(key) {\n",
              "      const quickchartButtonEl =\n",
              "        document.querySelector('#' + key + ' button');\n",
              "      quickchartButtonEl.disabled = true;  // To prevent multiple clicks.\n",
              "      quickchartButtonEl.classList.add('colab-df-spinner');\n",
              "      try {\n",
              "        const charts = await google.colab.kernel.invokeFunction(\n",
              "            'suggestCharts', [key], {});\n",
              "      } catch (error) {\n",
              "        console.error('Error during call to suggestCharts:', error);\n",
              "      }\n",
              "      quickchartButtonEl.classList.remove('colab-df-spinner');\n",
              "      quickchartButtonEl.classList.add('colab-df-quickchart-complete');\n",
              "    }\n",
              "    (() => {\n",
              "      let quickchartButtonEl =\n",
              "        document.querySelector('#df-a511631a-82a0-473c-9f68-ff236cb309cd button');\n",
              "      quickchartButtonEl.style.display =\n",
              "        google.colab.kernel.accessAllowed ? 'block' : 'none';\n",
              "    })();\n",
              "  </script>\n",
              "</div>\n",
              "\n",
              "    </div>\n",
              "  </div>\n"
            ]
          },
          "metadata": {},
          "execution_count": 64
        }
      ],
      "source": [
        "# Show topics\n",
        "topic_model.get_topic_info().head(7)"
      ]
    },
    {
      "cell_type": "markdown",
      "source": [
        "## 💦 **Post-processing**"
      ],
      "metadata": {
        "id": "__6eqKDxNlrR"
      }
    },
    {
      "cell_type": "markdown",
      "source": [
        "### Vectorizer\n",
        "Pass the CountVectorizer after training where llm used full context in training => ???"
      ],
      "metadata": {
        "id": "BMtBaYJhVuT0"
      }
    },
    {
      "cell_type": "code",
      "source": [
        "try:\n",
        "    vectorizer_model\n",
        "    print('vectorizer_model assigned before!')\n",
        "except:\n",
        "    print('passing vectorizer_model ater training')"
      ],
      "metadata": {
        "colab": {
          "base_uri": "https://localhost:8080/"
        },
        "id": "healvu5d0RTq",
        "outputId": "d0eb1a21-f644-4718-b5d9-5f29bcef8c74"
      },
      "execution_count": 43,
      "outputs": [
        {
          "output_type": "stream",
          "name": "stdout",
          "text": [
            "vectorizer_model assigned before!\n"
          ]
        }
      ]
    },
    {
      "cell_type": "code",
      "source": [
        "import nltk\n",
        "nltk.download('stopwords')"
      ],
      "metadata": {
        "colab": {
          "base_uri": "https://localhost:8080/"
        },
        "id": "Y1q-B6LtJaXH",
        "outputId": "74788530-776f-4509-db68-cb05292b931f"
      },
      "execution_count": 27,
      "outputs": [
        {
          "output_type": "stream",
          "name": "stderr",
          "text": [
            "[nltk_data] Downloading package stopwords to /root/nltk_data...\n",
            "[nltk_data]   Unzipping corpora/stopwords.zip.\n"
          ]
        },
        {
          "output_type": "execute_result",
          "data": {
            "text/plain": [
              "True"
            ]
          },
          "metadata": {},
          "execution_count": 27
        }
      ]
    },
    {
      "cell_type": "code",
      "source": [
        "#stop_additional = ['cabernet', 'sauvignon', 'cab', 'wine']\n",
        "stop_additional = []\n",
        "\n",
        "ngram_range = (1, 3)\n",
        "\n",
        "# When building the vocabulary ignore terms that have a document frequency strictly lower than the given threshold.\n",
        "# This value is also called cut-off in the literature.\n",
        "# If float, the parameter represents a proportion of documents, integer absolute counts\n",
        "min_df = 10"
      ],
      "metadata": {
        "id": "4P-5_tEHK6xG"
      },
      "execution_count": 25,
      "outputs": []
    },
    {
      "cell_type": "code",
      "source": [
        "from sklearn.feature_extraction.text import CountVectorizer\n",
        "from nltk.corpus import stopwords\n",
        "\n",
        "# Fine-tune topic representations after training BERTopic\n",
        "# you can pass the CountVectorizer before and after training your topic model.\n",
        "# Passing it before training allows you to minimize the size of the resulting c-TF-IDF matrix\n",
        "\n",
        "stopwords = list(stopwords.words('english')) + stop_additional\n",
        "\n",
        "vectorizer_model = CountVectorizer(stop_words=stopwords, ngram_range=ngram_range, min_df=min_df)\n",
        "\n",
        "topic_model.update_topics(docs, vectorizer_model=vectorizer_model, top_n_words=top_n_words)"
      ],
      "metadata": {
        "id": "-pJBqKqMVtjK"
      },
      "execution_count": 37,
      "outputs": []
    },
    {
      "cell_type": "code",
      "source": [
        "topic_model.get_topic_info().head(7)"
      ],
      "metadata": {
        "colab": {
          "base_uri": "https://localhost:8080/",
          "height": 143
        },
        "id": "JWLmaQeMLGFT",
        "outputId": "16f2966c-00c8-4c2c-e7ed-437344b39cc6"
      },
      "execution_count": 38,
      "outputs": [
        {
          "output_type": "execute_result",
          "data": {
            "text/plain": [
              "   Topic  Count                           Name  \\\n",
              "0     -1    693   -1_good_wine_cabernet_medium   \n",
              "1      0    448  0_oak_cherry_chocolate_fruity   \n",
              "2      1    346      1_wine_good_red_good wine   \n",
              "\n",
              "                           Representation  \\\n",
              "0     [good, wine, cabernet, medium, red]   \n",
              "1  [oak, cherry, chocolate, fruity, good]   \n",
              "2     [wine, good, red, good wine, price]   \n",
              "\n",
              "                                             KeyBERT  \\\n",
              "0  [strawberry, ruby, flavor, fruit, tasty, fruit...   \n",
              "1  [strawberry, berries, cherries, flavor, fruit,...   \n",
              "2  [wine, wines, alcohol, bottle, drink, deliciou...   \n",
              "\n",
              "                                 Representative_Docs  \n",
              "0  [Full. Taste of plum and vanilla. Good for the...  \n",
              "1  [chocolate, oak, vanilla, cherry and blackberr...  \n",
              "2  [Good wine!, Good wine!!, Light wine, good val...  "
            ],
            "text/html": [
              "\n",
              "  <div id=\"df-e905f9d4-4ec3-4930-9395-b6a2229829d2\" class=\"colab-df-container\">\n",
              "    <div>\n",
              "<style scoped>\n",
              "    .dataframe tbody tr th:only-of-type {\n",
              "        vertical-align: middle;\n",
              "    }\n",
              "\n",
              "    .dataframe tbody tr th {\n",
              "        vertical-align: top;\n",
              "    }\n",
              "\n",
              "    .dataframe thead th {\n",
              "        text-align: right;\n",
              "    }\n",
              "</style>\n",
              "<table border=\"1\" class=\"dataframe\">\n",
              "  <thead>\n",
              "    <tr style=\"text-align: right;\">\n",
              "      <th></th>\n",
              "      <th>Topic</th>\n",
              "      <th>Count</th>\n",
              "      <th>Name</th>\n",
              "      <th>Representation</th>\n",
              "      <th>KeyBERT</th>\n",
              "      <th>Representative_Docs</th>\n",
              "    </tr>\n",
              "  </thead>\n",
              "  <tbody>\n",
              "    <tr>\n",
              "      <th>0</th>\n",
              "      <td>-1</td>\n",
              "      <td>693</td>\n",
              "      <td>-1_good_wine_cabernet_medium</td>\n",
              "      <td>[good, wine, cabernet, medium, red]</td>\n",
              "      <td>[strawberry, ruby, flavor, fruit, tasty, fruit...</td>\n",
              "      <td>[Full. Taste of plum and vanilla. Good for the...</td>\n",
              "    </tr>\n",
              "    <tr>\n",
              "      <th>1</th>\n",
              "      <td>0</td>\n",
              "      <td>448</td>\n",
              "      <td>0_oak_cherry_chocolate_fruity</td>\n",
              "      <td>[oak, cherry, chocolate, fruity, good]</td>\n",
              "      <td>[strawberry, berries, cherries, flavor, fruit,...</td>\n",
              "      <td>[chocolate, oak, vanilla, cherry and blackberr...</td>\n",
              "    </tr>\n",
              "    <tr>\n",
              "      <th>2</th>\n",
              "      <td>1</td>\n",
              "      <td>346</td>\n",
              "      <td>1_wine_good_red_good wine</td>\n",
              "      <td>[wine, good, red, good wine, price]</td>\n",
              "      <td>[wine, wines, alcohol, bottle, drink, deliciou...</td>\n",
              "      <td>[Good wine!, Good wine!!, Light wine, good val...</td>\n",
              "    </tr>\n",
              "  </tbody>\n",
              "</table>\n",
              "</div>\n",
              "    <div class=\"colab-df-buttons\">\n",
              "\n",
              "  <div class=\"colab-df-container\">\n",
              "    <button class=\"colab-df-convert\" onclick=\"convertToInteractive('df-e905f9d4-4ec3-4930-9395-b6a2229829d2')\"\n",
              "            title=\"Convert this dataframe to an interactive table.\"\n",
              "            style=\"display:none;\">\n",
              "\n",
              "  <svg xmlns=\"http://www.w3.org/2000/svg\" height=\"24px\" viewBox=\"0 -960 960 960\">\n",
              "    <path d=\"M120-120v-720h720v720H120Zm60-500h600v-160H180v160Zm220 220h160v-160H400v160Zm0 220h160v-160H400v160ZM180-400h160v-160H180v160Zm440 0h160v-160H620v160ZM180-180h160v-160H180v160Zm440 0h160v-160H620v160Z\"/>\n",
              "  </svg>\n",
              "    </button>\n",
              "\n",
              "  <style>\n",
              "    .colab-df-container {\n",
              "      display:flex;\n",
              "      gap: 12px;\n",
              "    }\n",
              "\n",
              "    .colab-df-convert {\n",
              "      background-color: #E8F0FE;\n",
              "      border: none;\n",
              "      border-radius: 50%;\n",
              "      cursor: pointer;\n",
              "      display: none;\n",
              "      fill: #1967D2;\n",
              "      height: 32px;\n",
              "      padding: 0 0 0 0;\n",
              "      width: 32px;\n",
              "    }\n",
              "\n",
              "    .colab-df-convert:hover {\n",
              "      background-color: #E2EBFA;\n",
              "      box-shadow: 0px 1px 2px rgba(60, 64, 67, 0.3), 0px 1px 3px 1px rgba(60, 64, 67, 0.15);\n",
              "      fill: #174EA6;\n",
              "    }\n",
              "\n",
              "    .colab-df-buttons div {\n",
              "      margin-bottom: 4px;\n",
              "    }\n",
              "\n",
              "    [theme=dark] .colab-df-convert {\n",
              "      background-color: #3B4455;\n",
              "      fill: #D2E3FC;\n",
              "    }\n",
              "\n",
              "    [theme=dark] .colab-df-convert:hover {\n",
              "      background-color: #434B5C;\n",
              "      box-shadow: 0px 1px 3px 1px rgba(0, 0, 0, 0.15);\n",
              "      filter: drop-shadow(0px 1px 2px rgba(0, 0, 0, 0.3));\n",
              "      fill: #FFFFFF;\n",
              "    }\n",
              "  </style>\n",
              "\n",
              "    <script>\n",
              "      const buttonEl =\n",
              "        document.querySelector('#df-e905f9d4-4ec3-4930-9395-b6a2229829d2 button.colab-df-convert');\n",
              "      buttonEl.style.display =\n",
              "        google.colab.kernel.accessAllowed ? 'block' : 'none';\n",
              "\n",
              "      async function convertToInteractive(key) {\n",
              "        const element = document.querySelector('#df-e905f9d4-4ec3-4930-9395-b6a2229829d2');\n",
              "        const dataTable =\n",
              "          await google.colab.kernel.invokeFunction('convertToInteractive',\n",
              "                                                    [key], {});\n",
              "        if (!dataTable) return;\n",
              "\n",
              "        const docLinkHtml = 'Like what you see? Visit the ' +\n",
              "          '<a target=\"_blank\" href=https://colab.research.google.com/notebooks/data_table.ipynb>data table notebook</a>'\n",
              "          + ' to learn more about interactive tables.';\n",
              "        element.innerHTML = '';\n",
              "        dataTable['output_type'] = 'display_data';\n",
              "        await google.colab.output.renderOutput(dataTable, element);\n",
              "        const docLink = document.createElement('div');\n",
              "        docLink.innerHTML = docLinkHtml;\n",
              "        element.appendChild(docLink);\n",
              "      }\n",
              "    </script>\n",
              "  </div>\n",
              "\n",
              "\n",
              "<div id=\"df-8781e2c9-4e82-41ce-9a68-6124f790df3c\">\n",
              "  <button class=\"colab-df-quickchart\" onclick=\"quickchart('df-8781e2c9-4e82-41ce-9a68-6124f790df3c')\"\n",
              "            title=\"Suggest charts\"\n",
              "            style=\"display:none;\">\n",
              "\n",
              "<svg xmlns=\"http://www.w3.org/2000/svg\" height=\"24px\"viewBox=\"0 0 24 24\"\n",
              "     width=\"24px\">\n",
              "    <g>\n",
              "        <path d=\"M19 3H5c-1.1 0-2 .9-2 2v14c0 1.1.9 2 2 2h14c1.1 0 2-.9 2-2V5c0-1.1-.9-2-2-2zM9 17H7v-7h2v7zm4 0h-2V7h2v10zm4 0h-2v-4h2v4z\"/>\n",
              "    </g>\n",
              "</svg>\n",
              "  </button>\n",
              "\n",
              "<style>\n",
              "  .colab-df-quickchart {\n",
              "      --bg-color: #E8F0FE;\n",
              "      --fill-color: #1967D2;\n",
              "      --hover-bg-color: #E2EBFA;\n",
              "      --hover-fill-color: #174EA6;\n",
              "      --disabled-fill-color: #AAA;\n",
              "      --disabled-bg-color: #DDD;\n",
              "  }\n",
              "\n",
              "  [theme=dark] .colab-df-quickchart {\n",
              "      --bg-color: #3B4455;\n",
              "      --fill-color: #D2E3FC;\n",
              "      --hover-bg-color: #434B5C;\n",
              "      --hover-fill-color: #FFFFFF;\n",
              "      --disabled-bg-color: #3B4455;\n",
              "      --disabled-fill-color: #666;\n",
              "  }\n",
              "\n",
              "  .colab-df-quickchart {\n",
              "    background-color: var(--bg-color);\n",
              "    border: none;\n",
              "    border-radius: 50%;\n",
              "    cursor: pointer;\n",
              "    display: none;\n",
              "    fill: var(--fill-color);\n",
              "    height: 32px;\n",
              "    padding: 0;\n",
              "    width: 32px;\n",
              "  }\n",
              "\n",
              "  .colab-df-quickchart:hover {\n",
              "    background-color: var(--hover-bg-color);\n",
              "    box-shadow: 0 1px 2px rgba(60, 64, 67, 0.3), 0 1px 3px 1px rgba(60, 64, 67, 0.15);\n",
              "    fill: var(--button-hover-fill-color);\n",
              "  }\n",
              "\n",
              "  .colab-df-quickchart-complete:disabled,\n",
              "  .colab-df-quickchart-complete:disabled:hover {\n",
              "    background-color: var(--disabled-bg-color);\n",
              "    fill: var(--disabled-fill-color);\n",
              "    box-shadow: none;\n",
              "  }\n",
              "\n",
              "  .colab-df-spinner {\n",
              "    border: 2px solid var(--fill-color);\n",
              "    border-color: transparent;\n",
              "    border-bottom-color: var(--fill-color);\n",
              "    animation:\n",
              "      spin 1s steps(1) infinite;\n",
              "  }\n",
              "\n",
              "  @keyframes spin {\n",
              "    0% {\n",
              "      border-color: transparent;\n",
              "      border-bottom-color: var(--fill-color);\n",
              "      border-left-color: var(--fill-color);\n",
              "    }\n",
              "    20% {\n",
              "      border-color: transparent;\n",
              "      border-left-color: var(--fill-color);\n",
              "      border-top-color: var(--fill-color);\n",
              "    }\n",
              "    30% {\n",
              "      border-color: transparent;\n",
              "      border-left-color: var(--fill-color);\n",
              "      border-top-color: var(--fill-color);\n",
              "      border-right-color: var(--fill-color);\n",
              "    }\n",
              "    40% {\n",
              "      border-color: transparent;\n",
              "      border-right-color: var(--fill-color);\n",
              "      border-top-color: var(--fill-color);\n",
              "    }\n",
              "    60% {\n",
              "      border-color: transparent;\n",
              "      border-right-color: var(--fill-color);\n",
              "    }\n",
              "    80% {\n",
              "      border-color: transparent;\n",
              "      border-right-color: var(--fill-color);\n",
              "      border-bottom-color: var(--fill-color);\n",
              "    }\n",
              "    90% {\n",
              "      border-color: transparent;\n",
              "      border-bottom-color: var(--fill-color);\n",
              "    }\n",
              "  }\n",
              "</style>\n",
              "\n",
              "  <script>\n",
              "    async function quickchart(key) {\n",
              "      const quickchartButtonEl =\n",
              "        document.querySelector('#' + key + ' button');\n",
              "      quickchartButtonEl.disabled = true;  // To prevent multiple clicks.\n",
              "      quickchartButtonEl.classList.add('colab-df-spinner');\n",
              "      try {\n",
              "        const charts = await google.colab.kernel.invokeFunction(\n",
              "            'suggestCharts', [key], {});\n",
              "      } catch (error) {\n",
              "        console.error('Error during call to suggestCharts:', error);\n",
              "      }\n",
              "      quickchartButtonEl.classList.remove('colab-df-spinner');\n",
              "      quickchartButtonEl.classList.add('colab-df-quickchart-complete');\n",
              "    }\n",
              "    (() => {\n",
              "      let quickchartButtonEl =\n",
              "        document.querySelector('#df-8781e2c9-4e82-41ce-9a68-6124f790df3c button');\n",
              "      quickchartButtonEl.style.display =\n",
              "        google.colab.kernel.accessAllowed ? 'block' : 'none';\n",
              "    })();\n",
              "  </script>\n",
              "</div>\n",
              "\n",
              "    </div>\n",
              "  </div>\n"
            ]
          },
          "metadata": {},
          "execution_count": 38
        }
      ]
    },
    {
      "cell_type": "markdown",
      "source": [
        "### Outlier reduction"
      ],
      "metadata": {
        "id": "viWzonzEdshF"
      }
    },
    {
      "cell_type": "code",
      "source": [
        "# Use the \"c-TF-IDF\" strategy with a threshold\n",
        "# threshold is the minimum similarity.\n",
        "new_topics = topic_model.reduce_outliers(docs, topics , strategy=\"c-tf-idf\", threshold=0.1)\n",
        "\n",
        "# count outliers\n",
        "len([x for x in new_topics if x < 0])"
      ],
      "metadata": {
        "colab": {
          "base_uri": "https://localhost:8080/"
        },
        "id": "s4gsuN44CWDM",
        "outputId": "ce9f201b-c47c-4e9b-c366-312be9f772ec"
      },
      "execution_count": null,
      "outputs": [
        {
          "output_type": "execute_result",
          "data": {
            "text/plain": [
              "6455"
            ]
          },
          "metadata": {},
          "execution_count": 34
        }
      ]
    },
    {
      "cell_type": "code",
      "source": [
        "t = topics\n",
        "#t = new_topics\n",
        "\n",
        "new_topics = topic_model.reduce_outliers(docs, t , strategy=\"distributions\", threshold=0.5)\n",
        "\n",
        "# count outliers\n",
        "len([x for x in new_topics if x < 0])"
      ],
      "metadata": {
        "colab": {
          "base_uri": "https://localhost:8080/"
        },
        "id": "vSyocWNCYuQS",
        "outputId": "5ea177c8-101d-4401-9143-ef9345c530d5"
      },
      "execution_count": null,
      "outputs": [
        {
          "output_type": "stream",
          "name": "stderr",
          "text": [
            "100%|██████████| 7/7 [00:22<00:00,  3.25s/it]\n"
          ]
        },
        {
          "output_type": "execute_result",
          "data": {
            "text/plain": [
              "6231"
            ]
          },
          "metadata": {},
          "execution_count": 39
        }
      ]
    },
    {
      "cell_type": "code",
      "source": [
        "t = topics\n",
        "#t = new_topics\n",
        "new_topics = topic_model.reduce_outliers(docs, t, strategy=\"embeddings\", threshold=0.5)\n",
        "\n",
        "# count outliers\n",
        "len([x for x in new_topics if x < 0])"
      ],
      "metadata": {
        "colab": {
          "base_uri": "https://localhost:8080/"
        },
        "id": "VsasvSeXQ3tw",
        "outputId": "332cc251-8d11-480f-d9ec-5a4606fe5325"
      },
      "execution_count": null,
      "outputs": [
        {
          "output_type": "execute_result",
          "data": {
            "text/plain": [
              "1988"
            ]
          },
          "metadata": {},
          "execution_count": 41
        }
      ]
    },
    {
      "cell_type": "code",
      "source": [
        "t = topics\n",
        "#t = new_topics\n",
        "\n",
        "# the threshold is minimum probability when strategy=\"probabilities\"\n",
        "new_topics = topic_model.reduce_outliers(docs, t, strategy=\"probabilities\", probabilities=probs, threshold=0.05)\n",
        "\n",
        "# count outliers\n",
        "len([x for x in new_topics if x < 0])"
      ],
      "metadata": {
        "colab": {
          "base_uri": "https://localhost:8080/"
        },
        "id": "DvLfVO7xsHHa",
        "outputId": "730019b0-2278-4b6d-870e-4673b9b9bf1b"
      },
      "execution_count": null,
      "outputs": [
        {
          "output_type": "execute_result",
          "data": {
            "text/plain": [
              "6678"
            ]
          },
          "metadata": {},
          "execution_count": 40
        }
      ]
    },
    {
      "cell_type": "markdown",
      "source": [
        "#### update with new_topics"
      ],
      "metadata": {
        "id": "3_b-n8YGZBjO"
      }
    },
    {
      "cell_type": "code",
      "source": [
        "topic_model.update_topics(docs, topics=new_topics)"
      ],
      "metadata": {
        "colab": {
          "base_uri": "https://localhost:8080/"
        },
        "id": "i7cP-RKIWfU_",
        "outputId": "7a314d3a-8233-4ccd-a14f-90d3710cc490"
      },
      "execution_count": null,
      "outputs": [
        {
          "output_type": "stream",
          "name": "stderr",
          "text": [
            "2024-01-22 01:08:32,468 - BERTopic - WARNING: Using a custom list of topic assignments may lead to errors if topic reduction techniques are used afterwards. Make sure that manually assigning topics is the last step in the pipeline.Note that topic embeddings will also be created through weightedc-TF-IDF embeddings instead of centroid embeddings.\n"
          ]
        }
      ]
    },
    {
      "cell_type": "markdown",
      "source": [
        "# 📊 Visualization"
      ],
      "metadata": {
        "id": "zGojJQetIZV6"
      }
    },
    {
      "cell_type": "code",
      "execution_count": null,
      "metadata": {
        "colab": {
          "base_uri": "https://localhost:8080/",
          "height": 767
        },
        "id": "_AFEa4z7cpfP",
        "outputId": "3d50b100-cff2-45cf-b3b5-4bf84756d627"
      },
      "outputs": [
        {
          "output_type": "display_data",
          "data": {
            "text/html": [
              "<html>\n",
              "<head><meta charset=\"utf-8\" /></head>\n",
              "<body>\n",
              "    <div>            <script src=\"https://cdnjs.cloudflare.com/ajax/libs/mathjax/2.7.5/MathJax.js?config=TeX-AMS-MML_SVG\"></script><script type=\"text/javascript\">if (window.MathJax && window.MathJax.Hub && window.MathJax.Hub.Config) {window.MathJax.Hub.Config({SVG: {font: \"STIX-Web\"}});}</script>                <script type=\"text/javascript\">window.PlotlyConfig = {MathJaxConfig: 'local'};</script>\n",
              "        <script charset=\"utf-8\" src=\"https://cdn.plot.ly/plotly-2.24.1.min.js\"></script>                <div id=\"ef779b94-74f9-4cf8-9aaf-7d8e151026e6\" class=\"plotly-graph-div\" style=\"height:750px; width:1200px;\"></div>            <script type=\"text/javascript\">                                    window.PLOTLYENV=window.PLOTLYENV || {};                                    if (document.getElementById(\"ef779b94-74f9-4cf8-9aaf-7d8e151026e6\")) {                    Plotly.newPlot(                        \"ef779b94-74f9-4cf8-9aaf-7d8e151026e6\",                        [{\"hoverinfo\":\"text\",\"hovertext\":[\"88\\u002f100, either the veal tartare was magical, or it was a combination, but you will lick your fingers\",\"Tart, dense, without bitterness and without acid\",\"Delicious\",\"Rich and delicious\",\"Good in taste with food to enjoy\",\"Let it breathe for 25 minutes so that it is not so alcoholic in taste.\",\"Red but with an acidity, more pronounced in white wines\",\"Rich with Jericuan Lomo and beautiful company\",\"One of my favorites for 13 years now. Dining room, dense. With meat\\ud83d\\udd25\",\"Tasty\",\"Great !\",\"Fruity and intense, with notes of strawberry and chocolate\",\"affordable, easy to get in the shops. no expectations on this one\",\"It goes well with meat stew.\",\"@Dawn Buchko\",\"Bueno\",\"3.5\\u2b50 I liked this Gato Negro, which is widely sold here in Brazil! It went well with a barbecue. Che\",\"D\",\"Great for everyday life\",\"The cost performance is good anyway. I know it's popular. A type that appeals to everyone. It doesn'\",\"Bom\",\"\\ud83d\\udc4d\\ud83c\\udffdSuited better with dinner. Bit too rich and dark just for a glass by itself.\",\"I bought it cheaply at a convenience store, but the taste is not good.. You shouldn't buy just anyth\",\"It has a dried dark fruity scent and a smoky scent when swirled. When you open a pack of cigarettes \",\"So good! Delicious\",\"Excessively dry for my taste. Lots of wood flavor. Consume only with meat.\",\"At front of my house. Stakepub very comfortable.\",\"It's thin and the alcohol splatters too much. You can drink it if you expose it to the air for a few\",\"Tasty\",\"Picked up on sale for $11, used for cooking. Had a glass a couple days later and surprisingly balanc\",\"Heavy earthy nose, clubs you over the head with it. Some leathery blackberries. The finish is long a\",\"Smoky in aroma and taste. Dry.\",\"Great with cheese and pizza\",\"chocolate\",\"Pronounced tannin, \\u201cknits\\u201d. It's hard to drink 1 glass\",\"Good cheap red. Dark fruit, earthy, definitely worth the price\",\"Alone, 202209, good cost-effectiveness\",\"This 2020 I thought was very good. Intense aroma of strawberries and red fruits, violet color, spice\",\"I found it very dry and with a lot of acidity\",\"High density CS, in an earthy Chilean style. Strong dose of tannins and acidity, tamed by relative b\",\"Good\",\"Excellent value for money! Intense aroma and full-bodied drink.\",\"Full of chocolate flavor\",\"Bueno\",\"More acidic than I expected, but just learning\",\"chocolate blackberry\",\"Cherry\",\"Ok\",\"Bon\",\"vanilla blackberry cherry blackcurrant\",\"Very astringent\",\"good\",\"Difficult\",\"Very reasonable. Worth repeating\",\"Pretty normal for everyday life.\",\"Way too strong, gasoline notes\",\"Slightly acetic on the nose. Bland and lacking proper tannic structure. Decent for cooking but not p\",\"For all connoisseurs of good price-performance ratio. A delight for the palate with fruity and leath\",\"chocolate bittery medium\",\"I like the Gato Negro because is a classical good wine. Is a fruited wine and the your acid is very \",\"Unremarkable\",\"All right but rather bland, light and almost bland without depth\",\"So\",\"Solid 3 stars. Never dissapoints. Never hangs you out to dry. Simple. Preferably accompanied by a gl\",\"Bold and dry with medium acidic flavour.\",\"The price was cheap, but there was almost no scent. The label is cute\",\"12.9.2022: Easy drinking in a breezy cold Paris restaurant, with fragrance nose and obvious oak and \",\"Okay, but it's a funny choice to bring this unironically to a Sunday dinner\",\"Light, very easy to drink.\",\"Former go-to when it was supposed to be cheap in the spring\",\"Shelf classic!\",\"Dongwon Benest\",\"A bit heavier with a chocolate aftertaste but delicious\",\"Little sweet but it\\u2019s cheap\",\"Full. Taste of plum and vanilla. Good for the price.\",\"4,45eur\",\"Very soft body. Dry, with slight taste of cherry. Not bad, but not memorable\",\"Bom\",\"Smells like cat shit\",\"Enjoy a very pleasant side of beef on the barbecue\",\"Good but needs more flavour\",\"Soooo much better than the price and the reputation. Super friendly. Round, but not without characte\",\"Very acidic\",\"Blackberry, vanilla... a young wine to spend a quiet night.\",\"It has a strong flavor that hits you hard. spicy.\",\"Its density and intensity make it attractive to the palate, letting its notes of strawberry and choc\",\"Not worth recommanding\",\"Bom\",\"Bom.\",\"Almost no taste.\",\"Cherry\",\"Cost-effective Red\",\"Jean's nose said, pepper, red fruits, and lots of spicy notes.... Simple and good\",\"Tastes like hay\",\"This wine was bought at home to put in the sauce. Was immediately worried that the sauce would be us\",\"chocolate dark chocolate pepper good aroma but too bitter\",\"Very light wine\",\"Great taste for the price. Had it NYE.\",\"Very very tasty\",\"Decent volume, hangs well on the wood. Dark, spicy notes.\",\"Cassis has a tobacco-like smell after swallowing. Good acidity. It has a bitter taste that lingers o\",\"Deliciaaaa!\",\"As for the price, the taste is very normal, not astringent or very tannic.\",\"Gato negro is best enjoyed from cardboard, they say. It delivered pretty much exactly what I expecte\",\"vanilla blackberry cherry strawberry jammy fruits on your face. Fake oak touch, sweet and simple. Al\",\"Amazing value for money, fruity, superb with Comt\\u00e9.\",\"Top\",\"it\\u2019s really cheap. very bold and tannic. it does not fit me\",\"Typical CS. Cherry \\ud83c\\udf52, plum.\",\"Getting drunk and drinking red wine\\u2764\\ufe0f\\u200d\\ud83d\\udd25\",\"The taste is too spicy\",\"Good for everyday life.\",\"It's okay\",\"Fruity strawberry note\",\"Light and tasty\",\"oak pepper blackberry\",\"Great!\",\"Soft-drinking, cheap, cool cat\",\"@Naira Ravanny\",\"good value, really tasty and fruity. especially darker fruits\",\"Not too heavy, very drinkable\",\"PaRRRRRRRait\",\"Gato negro, its real name, black cat (or black cat for short) far too fat for a cat, I recommend the\",\"Not my taste\",\"Fruity aroma with intense notes of cherries, strong on the palate, soft tannins, persistent finish. \",\"Good for everyday life! Health !\",\"Not a rockstar but pretty good for the price and value, Dark berry on the nose, raspberry, leather a\",\"Oui\",\"Lacks depth but nice for the price. Chocolate black fruit cherry\",\"Cat urine smell?\",\"lol black cat\",\"Despite its subtle name, Gato Negro is a classic red wine without specificity which unfortunately su\",\"Reasonable price and taste not bad\",\"@Jeongmin\",\"Excellent value for money! Very pleasant flavor!\",\"Light wine with strawberry notes (not sweet). Fresh and fruity on the palate. Slightly acidic at fir\",\"Good cost performance.\",\"good\",\"Good basic CS\",\"Very intense, fruity palate, goes well with meat and pasta, but an uncorked wine... With a light tou\",\"Course meeting!\",\"Good for everyday life.\",\"0.99 million won Lotte Mart\",\"Blackberry Vanilla Cherry @\",\"Fantastic\",\"fresh and fruty wine! with cute cat\",\"Good for the day\",\"Been drinking since I was young A perfectly ok classic with the cherry tone and the vanilla I like! \",\"Reasonable\",\"Too strong alcohol scent, astringent, but good scent\",\"Nice to lamb\",\"Pleasant taste, tastes like berries. Excellent for your money\",\"Meh\",\"Astringent, use on humid days, preferably in December during hallacas season.\",\"Fruity and spicy\",\"Cute little & light wine.\",\"Cherry\",\"SPEEDBLIC\\u003c3 : 10 4 4 4 4\",\"Strong and dark fruits.\",\"Very good, goes very well with red meat and pasta...\",\"Lots of body and personality\",\"Tannic\",\"Best considering the price. It has a bit of sugar, quite a fruity flavor, and a bit of alcohol. On t\",\"Good cost-benefit.\",\"Smell and blackberry blackcurrant honey\",\"Stay away\",\"Smooth and balanced\",\"Half-baked and easy\",\"Ixiii\",\"G\",\"Mt bom!\",\"Body river simplicity\",\"Tasty\",\"That's lucky! \\ud83c\\udde7\\ud83c\\uddf7\\ud83d\\udd34\\u26ab\\ufe0f Three-time champion of America.\",\"Cruise to Alaska, my son brought this one. Good but a bit too spicy for my taste\",\"Intense color and high acidity.\",\"Cheap and ok\",\"\\ud83d\\udc40 Brick red, ruby color, persistent tear. \\ud83d\\udc43\\ud83c\\udffb Rose petal, iron. \\ud83d\\udc45 Some chocolate, spices like white p\",\"Better than the 2016 vintage. Slightly high alcohol content, tannins and aromas present with good ac\",\"Great\",\"Cheap and always good!\",\"Quite tasty for the price! Just enjoy drinking it away, vo!\",\"2021. Super light and sweet for a cab but too dry to be a red blend\",\"Tasty!\",\"Nice wine, really young, sweet flavors of cherry and vanilla.\",\"I feel good\",\"Bom\",\"Too much aging and blackberry. Well I do not know...\",\"Shenai enjoyed with her Beef stew\",\"Good match with spagetti bolognes \\ud83c\\udf5d\\ud83c\\udf5d\",\"Great\",\"Very tasty!\",\"Fragrant and rich scent, not too sweet. Would repurchase - 100% vintage - 2019 9,900 won\",\"What it lacks in taste, it makes up for in price. Absolutely works on a budget. Relatively dry with \",\"Great\",\"Nice and rich but a bit too sweet\",\"Don\\u2019t do that.\",\"Disappoints. What a strange aftertaste. We just emptied the bottle.\",\"Nice\",\"20240116 Brie, chorizo \\u200b\\u200bsausage 49\",\"Not the madness of the year but good quality\\u002fcooked value, I recommend!\",\"Excellent to pair with meats\",\"Little too cherry on the front end for me\",\"Full body. Cherry Plum tobacco pepper notes. So good for real men.\",\"Chocolate\",\"Play with refined and sophisticated notes.\",\"Good wine from \\ud83c\\udde8\\ud83c\\uddf1! \\ud83c\\udf47 100% Cabernet Sauvignon \\ud83d\\udc43\\ud83c\\udffc woody and fruity \\ud83c\\udf77 ruby red \\ud83d\\udc45 medium body, red fruit\",\"tobacco\",\"H h\",\"Great value for money! Intense, fruity, dry, with notes of strawberry, cherry and chocolate.\",\"Fave go to, cheap buy full bodied\",\"A classic on Chilean tables. It is a pleasure to be able to buy it in Catalunya for everyday use.\",\"Fruity notes, delicious\",\"Berrilicious\",\"Tart, a glass is enough, no smell of alcohol\",\"Vanilla notes\",\"Decent, pass. For the price it's not bad\",\"We feel the sun \\u2600\\ufe0f interesting\",\"A bit better than merlot, has more body, less sweet. But it is a very average wine.\",\"Fructuous, good for pasta\",\"Too sweet, not great\",\"Very easy to drink as nice and smooth, oak black cherry and chocolate with a slight pepper note, nic\",\"Strong and striking flavor\",\"Okay. Very sweet\",\"Tastes like red wine\",\"Tastes good blackberry\",\"Always considered by \\\"experts\\\" a good value. On sale for $12 offers value with some nice flavours an\",\"Not a good taste\",\"Mids\",\"In shit\",\"For me the best of the casilleros\",\"Too light and astringent\",\"Rich fruit flavor, spicy\",\"Was going to go for the fondue but had to get a taste, not something I'll buy again Hardly worth end\",\"Great. Velvety, aroma of raspberry and strawberry, slightly sweet.\",\"Intense, fresh aroma. Chocolate Notes. Intense in the mouth, leaving a soft but deep taste.\",\"Gato. Negro. Simple. Honest. Cheap. Oak. Cherry.\",\"With friends\",\"Very rich\",\"Good\",\"Classic! Good. Curious: In my company we call this bringing \\\"Mollie the wine\\\", because we have a bla\",\"3.7. The aroma includes red berries, cherries, freshly cut grass and a touch of barrel. The taste is\",\"Drier. It doesn't suit our palate yet. November\\u002f22\",\"Good\",\"During the heat. Cold... Wonderful.\",\"Want to test\",\"Nice taste, take your time to emjoy it red fruit @\",\"Good shit\",\"Nice strong supermarket wine. Just a little firmer than the merlot variant. Blackcurrant, chocolate\",\"It's slightly smoky and goes well with meat. It's delicious.\",\"Must drink with food. Would not drink alone. Very bitter.\",\"Slightly few tannins\",\"mushroom\",\"For this price? So good - raspberries, peppery and bold. Juicy tannins\",\"good cherry\",\"Not really my taste\",\"Perfect!\",\"great to get through a Monday evening.\",\"Light and very easy to take. Nothing complex but correct for its category.\",\"Pfiouuuuu, an unappreciable gato negro. Already the name does not seem too relevant to me given the \",\"It feels a bit heavy, but not too dry. It tastes good when eaten with meat.\",\"Let it breathe for about 10 minutes and you can consume it. Tasty\",\"Red berries and liquorice nose and an okay finish\",\"Seems to be underrated. Pretty nice easy tasting, mildly dry. Smooth, medium body.\",\"bueno\",\"Serve with Pizza and enjoy.\",\"I loved it, very easy to take on a daily basis, delicious.\",\"happy halloween!! \\ud83d\\udc80\\ud83d\\udc7b\\ud83c\\udf83 andddd first snow of the season \\u2744\\ufe0f and lol rip i ain\\u2019t going to my mpp class t\",\"Not my fave taste!\",\"Very tasty, good value for money\",\"Very present scent of plum. The value for money of this label is fantastic. I love taking it with be\",\"cat is cat\",\"I want to give you a zero. But that's not possible, so I give you a one.\",\"With my love\",\"in balans\",\"good\",\"Tasty. Great option for the price. I ate it with pasta.\",\"Bom\",\"Con Cherry\",\"Spicy scent, dry with oak taste\",\"Dunno\",\"Scent of a little red fruit. Medium tannins. Overall drinkable. Drunk in Thailand at an Italian rest\",\"I like chocolate, very delicious chocolate\",\"Disappointing. Lots of vinegar.\",\"Tasty\",\"cost-effective\",\"Look, this cat has its value, you want a simple wine for that family barbecue, this is the cat, faci\",\"A woody flavor, not very full-bodied. It goes well with a pizza.\",\"Always a winner, smooth and nice taste of berries - good price!\",\"Very light, medium acidity. Vanilla is clearly felt. Tannins are also felt, but in moderation. If yo\",\"Fine. Quite dense and rich\",\"fit but not a fan\",\"Intense and striking.\",\"Light and sweet. Cute taste.\",\"Every sip I took felt like I was drinking the devil's poison.\",\"Great find for the price! Packed with blackberries and a full mouth feel with dark fruits and a slig\",\"AND 86 pts\",\"Yum\",\"Hardy red wine, always come back to it. Nothing special but an easy default choice.\",\"Wine with blackberry and balanced flavor. @\",\"Worst red I\\u2019ve had all 2022\",\"Actually the 2021 Well balanced, smooth. Great value. Would be good to cook with oak red fruit\",\"Taste of Holidays\",\"Full-bodied\",\"Strong ruby \\u200b\\u200bred wine, noticeable blackcurrant, cherry, vanilla. Delicate notes of spicy spices. Sh\",\"Better than I thought after having tried the Merlot. Soft as I liked and good body to my palate.\",\"did not love but cheapest available\",\"Spicy and full flavour\",\"Light Chili that tastes good!\",\"Too much tannins\",\"Surprisingly good with spicy food.\",\"Super beaux tannins\",\"Cost-effective \\u002f A taste that everyone will like\",\"Buy wine to accompany chili. rather easy to drink, quite light for its category and fruity, perfect \",\"7-Eleven 17,000 won (January 24) There is almost no scent. Not recommended. Taste of alcohol in grap\",\"It is decent with a modest price!! I would buy it again!!!\",\"Heavy earthy nose, clubs you over the head with it. Some leathery blackberries. The finish is long a\",\"The black Cat! Jorr\\u00e5 that name fits in well... heavy wine that almost stretches in the smoky directi\",\"Long time no see. My youth.It was so good, but emart...4980won. It's a really good deal.\",\"Doesn\\u2019t smell good but ok to drink\",\"Delicate, light and very easy to pair.\",\"Delicious\",\"Acid\",\"Pairs well with Oltermanni.\",\"Very acidic, rich for clericot but not alone.\",\"Good red wine that goes down easy\",\"All right. A big plus is that it was in a plastic bottle\",\"Ok\",\"Delicious. Highly recommend for price. Green pepper and earthy.\",\"@Bukchon\",\"Black cat, seven lifes\",\"Jammy fantastic\",\"Great\",\"Lightweight and goes everywhere\",\"0,4\\u002f5\\u2b50\\ufe0f Only had a smell of it, that had me to not even dare to take a sip. The worst possible wine \",\"I like yellowtail brand. Cheap and decent.\",\"Fresh fruity and spicy. Good!\",\"Strong, striking taste!\",\"Average body. Plum and chocolate.\",\"Pass ok\",\"Chip\",\"a lot of smell, good\",\"A little high acidity\",\"Beautiful color, smooth acidity\",\"Great\",\"Good for the price, medium tannins, strong aroma\",\"Cherry and Oak on nose and palate. Really good qpr\",\"very light for a cabernet, dark fruit flavor, short finish, smooth, very easy to drink\",\"Oh, it has a subtle oaky scent (it smells great) (requires 30 minutes of breeding) and the soft oaky\",\"Bold and fruity while also dry and bitter.\",\"Fruity it's wine\",\"Light and cost-effective\",\"Bom\",\"Perfect. Grades\",\"Cheap and cheerful\",\"Seems a little more acidic than normal\",\"OK\",\"blackberry pepper\",\"overpriced, despite being tasty, I expected more.\",\"Legal cost benefit\",\"Add with ice. Drink warmer\",\"RCP insuperable.\",\"Yummy\",\"Spicy\",\"Sweet\",\"Another Gato, Like music through my body, just like a vibrato, Mineur quite liked it, Just suck, don\",\"Good\",\"Unobtrusive, dry, without excess acid.\",\"Delicious in pasta sauce\\u002fstew meat! Mild in taste.\",\"Little bit too sweet for me\",\"Bom\",\"Bueno\",\"Enjoyed this bottle.\",\"Medium tatino. Pleasant.\",\"Globe score 88; crowd pleasing style enjoyable fruity character soft creamy texture $17\",\"Fuckin sharp\",\"Valid for everyday life. It went well with the lamb in Geovane's sauce.\",\"If is cheap buy it\",\"Easy to neck. Not so easy to keep down. oak blackberry\",\"Inexpensive works well with fried goat's cheese\",\"blackberry off dry not complex but ok\",\"Raspberry, blackcurrant, blackberry, licorice. Lovely, underrated and cheap. Very similar to a Venet\",\"Dark purple with a good body. Notes of plums, wood and chocolate are perceived. As you take it, it e\",\"Good nose, sweet beginning. To spicy at the tail with pepper and too dry for my pallet.\",\"Middle wine\",\"Fruity notes\",\"Delicious\",\"nice with cheese, smells like chocolate\",\"The advantage and disadvantage of kasho is that there are many other options and there are no specia\",\"Pair with Korean fired chicken and onion Easy to drink, perfect for conversation\",\"full bodied. Good for it\\u2019s cheap price.\",\"blackberry cherry vanilla Aftertaste\",\"Excellent\",\"I liked the flavor of berries and the sweetness of the wine. It's not as full-bodied as I expected a\",\"Good\",\"Best slightly cold.\",\"Yeah....\",\"All right, all right\",\"Pairs well with cheese\",\"Perfect for sharing\",\"Hot dog evening with Bastien and mom I love it\",\"Full body\",\"Good cost-benefit. But, alcohol is very present.\",\"Strong taste of alcohol.\",\"Very good with risotto\",\"Light and good taste\",\"A \\\"black cat\\\", light, docile and with trimmed nails, from the traditional San Pedro winery. Basic, f\",\"Dry and striking, full-bodied\",\"Medium\",\"Good red!!\",\"Good flavor\",\"Cost-effectiveness\",\"Merlot seems to taste better, but it is the best wine for the price.\",\"WSET Diploma D2 training.\",\"It is a classic. They recommended it to me and I liked it. I leave it as a second option, not becaus\",\"it's not special but not bad. so you haven't tried it. i recommad.\",\"Not rich, light sourness. I wouldn't take it a second time\",\"Flavored water\",\"Suave\",\"Cheap but a bit cheesy\",\"Right in the beak\",\"Solid for a cheapo, Blackberry and vanilla\",\"It's quite satisfactory, too monotonous, thin and light, a very simple one.\",\"Good value for money, light tannins, balanced acidity. Red fruits! It paired well with Calabrian and\",\"2019 harvest, Chilean from which I expected more. For the price it was average. I thought the alcoho\",\"Former hitter at cheap spring\",\"Chocolate\",\"Excellent aroma, full-bodied color, medium to intense tannin and slightly more pronounced acidity.\",\"shiraz is better in this brand\",\"acidic to drink but very drinkable\",\"@itsuda\",\"Dirty acid\",\"Good\",\"This is best \\\"enjoyed\\\" in a glass of milk served straight from a carton preheated on the windowsill \",\"A delight with a good fejoada\",\"Very good flavor\",\"Drinkable but not very enjoyable. Fruit forward of raspberry gummy candy and tart cherry pie.\",\"My favorite red that you can buy at the supermarket!\",\"Might be cheap but it's good. Deep color, nice aroma, a bit of tannin.\",\"A subtle flavor not like other bitter cabernets....which can confuse a demanding palate....I will co\",\"Medium Body, Earthy, blackberry, smoke nose. semi-dry, crispy. sweet and also a bit spicy finish. sm\",\"Angico water bark tone and quince leaf taste. Little tannin and relatively smooth for a Cabernet.\",\"The alcohol sticks out a little in the background. chocolate oak vanilla blackberry\",\"Red wine\",\"Well, you can go without pity\",\"Reasonable.\",\"Vanilla rhubarb blackberry\",\"Tasty\",\"Good flavor\",\"With David Z\\u00fa\\u00f1iga in Atlanta\",\"Okay\",\"Lots of berries in the taste, good with pizza, for example, very affordable, medium-bodied taste, fr\",\"It is a very smooth wine, for those new to this world of wine, Gato Negro is a good option.\",\"Super delicious!! Karnegott\",\"Only accepted.\",\"Poor\",\"Rich good\",\"Perfect! Light and full-bodied!\",\"Too acidic and dry, it can be seen with a good cooking\",\"Pleasant\",\"Wonderful, great to accompany a beautiful pie at dinner with friends.\",\"Cold\",\"Miau\",\"Powerful nose but ultimately rather round on the palate. Gourmet finish, on cherry\",\"earthy @\",\"Better than I expected, smell of red fruits, slightly sweet flavor, ruby \\u200b\\u200bcolor, very pleasant for \",\"Red cherry\",\"Nomnomnom\",\"Light but enjoyable. No after taste ofcource but overall pleasant.\",\"Very light with sweet bitter finish\",\"Very good! If its acidity were lower, it would be better.\",\"Excellent taste\",null],\"marker\":{\"color\":\"#CFD8DC\",\"opacity\":0.5,\"size\":5},\"mode\":\"markers+text\",\"name\":\"other\",\"showlegend\":false,\"x\":[2.2112765312194824,4.195576190948486,5.948197841644287,6.281073093414307,3.608647584915161,4.171668529510498,1.2998535633087158,6.292052268981934,3.4292073249816895,5.894584655761719,9.007092475891113,2.5792925357818604,6.328878879547119,3.074021100997925,6.661593437194824,6.875591278076172,-2.459141969680786,7.0906267166137695,7.307870864868164,6.098236083984375,7.7007036209106445,3.3903913497924805,3.9486865997314453,1.1870934963226318,5.835843086242676,4.428985595703125,5.772968769073486,4.207131862640381,5.8720526695251465,3.5879313945770264,1.7370229959487915,4.335918426513672,3.133131504058838,1.8796371221542358,1.9017668962478638,1.092287302017212,6.28732967376709,1.5682603120803833,4.477354049682617,2.566873550415039,9.156982421875,3.6053287982940674,1.918726921081543,6.8806071281433105,4.501284599304199,-0.36276257038116455,-0.5026285648345947,8.729516983032227,-0.480854332447052,-0.39391905069351196,2.6481263637542725,9.142350196838379,4.698646545410156,6.308331489562988,7.2760772705078125,2.7677929401397705,1.7314265966415405,3.6370580196380615,1.8093318939208984,-2.4583487510681152,6.99545955657959,4.917671203613281,8.909870147705078,1.8653743267059326,4.376190662384033,1.878140926361084,2.3186824321746826,3.363450765609741,4.757060527801514,6.1212944984436035,3.433804988861084,6.668912887573242,2.1046271324157715,6.30789041519165,1.850192904472351,1.8220423460006714,3.858325719833374,7.701959133148193,-0.7886300086975098,2.8301920890808105,5.604440689086914,2.2973875999450684,4.4822845458984375,0.6326255798339844,3.0752546787261963,2.376967430114746,7.603822231292725,7.687203884124756,7.70543909072876,4.101660251617432,-0.5004693865776062,6.283493995666504,3.054274320602417,4.075186729431152,-2.4529824256896973,1.811453938484192,3.476632833480835,6.0839691162109375,5.832543849945068,2.6575522422790527,1.1589232683181763,6.662564754486084,3.409855365753174,-2.4551095962524414,0.7178975939750671,2.9852092266082764,6.710788249969482,5.755513668060303,-0.39380913972854614,2.892577886581421,3.1229021549224854,7.300073623657227,8.69174575805664,2.802722215652466,4.818432807922363,-0.322267085313797,9.004281997680664,-0.8383499979972839,6.653339385986328,2.432426929473877,4.7196221351623535,6.667753219604492,-0.8523370027542114,6.762721061706543,2.2108287811279297,7.304418563842773,1.877387285232544,6.881568908691406,2.406142473220825,-0.7473278641700745,-0.8604997396469116,-2.45786190032959,5.943382740020752,6.632220268249512,3.42807674407959,-2.458986282348633,6.431237697601318,9.160475730895996,4.368034362792969,2.6400279998779297,7.430004119873047,7.296988487243652,4.561746120452881,-0.4277041256427765,8.996313095092773,-0.8021873235702515,9.159871101379395,1.859513759613037,6.301836013793945,1.9782161712646484,3.9464330673217773,2.570838451385498,7.69209098815918,2.6308677196502686,3.071244478225708,3.4645628929138184,-0.5030837059020996,1.800296425819397,0.6512966752052307,3.158555269241333,5.663698673248291,2.5433874130249023,1.1090611219406128,6.315343856811523,-0.36279261112213135,8.65762710571289,5.7000732421875,4.103332996368408,7.954866886138916,7.082257270812988,7.705560207366943,4.81084680557251,5.91425085067749,4.142432689666748,3.1112639904022217,4.477194309234619,6.17324686050415,0.5714656710624695,1.5826548337936401,8.983428955078125,6.1496453285217285,3.517594814300537,1.4908486604690552,5.876909255981445,1.7863003015518188,9.008546829223633,7.702406883239746,-0.49030792713165283,3.086822032928467,3.038116931915283,9.012478828430176,5.819122314453125,2.18931245803833,1.138290524482727,9.120875358581543,6.295863151550293,8.654402732849121,3.78959059715271,9.031201362609863,1.8240222930908203,3.2575628757476807,3.0576813220977783,-0.5017004609107971,2.05114483833313,1.8886185884475708,2.734856605529785,0.08339028060436249,0.32659924030303955,7.060666561126709,2.3310251235961914,5.703098297119141,3.4333457946777344,2.7531368732452393,6.078052520751953,2.256626605987549,2.7364964485168457,6.855447292327881,5.831338882446289,1.5988399982452393,3.216808319091797,6.375560760498047,2.2838497161865234,5.585467338562012,8.677896499633789,2.749462842941284,-0.3931361436843872,3.671172618865967,6.713726043701172,6.705550193786621,6.956349849700928,0.03797289356589317,2.66249680519104,3.033245801925659,3.5869200229644775,2.212888717651367,2.7855541706085205,-2.4580512046813965,7.031736850738525,6.279490947723389,9.167638778686523,-0.8394825458526611,2.1041321754455566,2.0562736988067627,9.14931583404541,5.724960803985596,8.668362617492676,1.0720728635787964,9.14968204498291,1.5298550128936768,3.1074607372283936,3.999089479446411,1.8919363021850586,1.6941193342208862,2.0354602336883545,-0.49848127365112305,6.78460693359375,8.912248611450195,7.3326005935668945,4.81613826751709,-2.458627939224243,4.422994136810303,4.156306743621826,1.7568126916885376,3.9536123275756836,6.87972354888916,2.9140281677246094,3.568939685821533,2.024338483810425,6.757606029510498,3.33288311958313,1.6605463027954102,-0.864933431148529,1.8417820930480957,6.987608909606934,6.907454967498779,9.158951759338379,3.269270181655884,7.700781345367432,-0.5034030079841614,1.129370093345642,7.942866802215576,1.8118029832839966,1.8722827434539795,4.4748454093933105,5.916758060455322,6.265670299530029,-0.8198987245559692,2.6370131969451904,2.4074859619140625,1.6654678583145142,6.29082727432251,5.8310017585754395,5.559148788452148,4.73065710067749,4.009399890899658,2.383976936340332,1.7046997547149658,7.646669864654541,2.737592935562134,0.6530684232711792,0.9520696401596069,1.561172604560852,3.813826560974121,5.602269649505615,0.5705220103263855,2.391010284423828,6.134322166442871,3.060016393661499,3.0543880462646484,1.9171950817108154,3.120504140853882,1.977447509765625,6.189260005950928,2.7912020683288574,1.947368860244751,6.863580703735352,1.7352453470230103,-0.8360723853111267,6.183799743652344,3.998734474182129,4.916561603546143,5.939964294433594,4.531342506408691,3.0603480339050293,4.5042405128479,2.77083683013916,3.8059849739074707,8.725833892822266,3.3251590728759766,6.673959255218506,-0.859676718711853,6.177361488342285,8.998758316040039,5.9518561363220215,-0.7412014007568359,5.717925071716309,3.0904624462127686,5.6318817138671875,1.8279844522476196,8.71035385131836,-0.5006979703903198,4.879021167755127,4.483006000518799,4.513874053955078,8.998284339904785,1.9333196878433228,1.800596833229065,4.714679718017578,1.1398791074752808,4.285965442657471,2.767252206802368,6.260002136230469,7.705145835876465,7.690467357635498,6.134418487548828,4.4963483810424805,8.741150856018066,-0.3459340035915375,3.6217832565307617,6.347250461578369,4.2378997802734375,6.914250373840332,5.975752353668213,3.0935237407684326,8.984552383422852,-2.458057403564453,9.150737762451172,4.356967449188232,3.1537439823150635,6.355882167816162,7.704364776611328,6.890420436859131,3.75998592376709,6.003479957580566,2.5147600173950195,5.856778144836426,3.104194402694702,6.751961708068848,-0.3025587499141693,3.11380672454834,-0.48659437894821167,0.6690708994865417,0.47122156620025635,1.7906286716461182,3.4741744995117188,2.772507667541504,5.957304954528809,3.1309638023376465,6.327016353607178,3.197502851486206,5.598537445068359,-0.36967140436172485,8.999788284301758,0.8385767340660095,9.156722068786621,5.734193325042725,8.637386322021484,8.717748641967773,3.1010284423828125,7.324009895324707,3.4514663219451904,5.576492786407471,6.217756748199463,3.894820213317871,3.127814769744873,4.837399005889893,-0.8174940347671509,5.541766166687012,6.337764263153076,0.9827635884284973,5.706571578979492,6.2783589363098145,1.5940269231796265,7.481250762939453,3.4300670623779297,6.344634056091309,6.26895809173584,4.040621280670166,5.7378621101379395,6.192324638366699,6.911825180053711,-0.4232546091079712,4.890314102172852,2.4624428749084473,1.2307355403900146,6.129874229431152,1.8787223100662231,1.832655906677246,1.6094226837158203,4.476293087005615,6.645111560821533,4.486711502075195,9.147926330566406,3.734673500061035,5.93441104888916,5.7129926681518555,4.038919448852539,0.9469428062438965,2.0208656787872314,2.7611336708068848,1.7335721254348755,2.020036458969116,0.6052544713020325,2.973146438598633,4.837696552276611,6.312567710876465,-0.4633995592594147,5.88884973526001,5.695897579193115,6.984528541564941,8.712784767150879,2.468205213546753,-2.4590249061584473,5.835622787475586,8.673829078674316,6.2125773429870605,6.270380973815918,5.571992874145508,4.480143070220947,9.032726287841797,3.225928783416748,5.72450590133667,6.950699806213379,1.774612545967102,6.5871100425720215,1.1848583221435547,-0.49553802609443665,7.705554962158203,4.6924591064453125,4.744339942932129,4.4460015296936035,5.745083332061768,4.072667598724365],\"y\":[7.607590675354004,6.055840492248535,5.849946022033691,7.877323627471924,7.695645332336426,7.794227600097656,10.502317428588867,7.896078109741211,9.19481372833252,5.841876983642578,5.976269721984863,6.398519515991211,8.510055541992188,7.817380905151367,5.301778316497803,5.146175384521484,11.07495403289795,5.781651973724365,8.567349433898926,9.434757232666016,4.991207122802734,9.414507865905762,8.3099365234375,7.360431671142578,5.9437408447265625,6.694644927978516,7.663455486297607,8.035176277160645,5.813054084777832,8.660667419433594,7.37801456451416,6.727377414703369,7.989535331726074,5.294024467468262,6.643545150756836,7.218819618225098,9.554972648620605,7.972324371337891,5.670150279998779,7.379708766937256,5.7177934646606445,8.480453491210938,5.344374656677246,5.144031524658203,5.507734775543213,6.1147847175598145,4.903387546539307,6.807799339294434,4.913305759429932,6.087712287902832,6.53207540512085,5.733321666717529,8.543716430664062,8.445640563964844,8.500734329223633,5.584131717681885,7.1286211013793945,8.615228652954102,5.314139366149902,11.071074485778809,5.5411763191223145,6.633190155029297,6.12123441696167,7.5521087646484375,6.6153035163879395,8.835611343383789,9.18654727935791,9.436381340026855,6.407257556915283,8.203547477722168,9.040964126586914,5.313817977905273,5.510363578796387,7.993200778961182,5.877322673797607,11.668131828308105,6.570193290710449,4.987671375274658,9.735841751098633,9.68394947052002,6.232000827789307,7.3079681396484375,5.521798133850098,8.792825698852539,6.892867088317871,6.698329925537109,5.064072132110596,4.980196475982666,4.988402843475342,7.126228332519531,4.903542518615723,9.562941551208496,6.75637674331665,7.273453235626221,11.077056884765625,5.350306510925293,11.241735458374023,8.79593276977539,5.935068130493164,8.741022109985352,7.333343029022217,5.414748668670654,7.386250019073486,11.076481819152832,8.791059494018555,7.75838565826416,6.250497341156006,7.450403213500977,5.195827484130859,10.800196647644043,6.861693859100342,8.58967399597168,6.921017169952393,5.604768753051758,6.407048225402832,5.997686386108398,5.977329730987549,9.840402603149414,5.325467586517334,7.283425331115723,6.4001946449279785,5.454430103302002,9.834135055541992,7.00827169418335,6.797363758087158,8.5625581741333,7.403988838195801,5.146836757659912,7.257814407348633,9.719884872436523,9.822752952575684,11.074847221374512,8.55006217956543,5.347034454345703,8.16031551361084,11.074896812438965,9.518004417419434,5.718403339385986,8.932373046875,8.214984893798828,6.332554817199707,8.59261703491211,9.12639331817627,6.076632976531982,6.003998279571533,9.868732452392578,5.712531566619873,8.936259269714355,8.458840370178223,8.880831718444824,10.604833602905273,7.207268238067627,5.129547595977783,6.524389743804932,6.711187839508057,11.238321304321289,4.910057544708252,11.679803848266602,6.4519829750061035,7.800325870513916,7.836526393890381,6.338232517242432,8.005179405212402,9.584821701049805,6.126588821411133,6.801768779754639,6.970961570739746,7.779256343841553,6.784742832183838,5.701620101928711,4.991290092468262,8.261256217956543,5.846783638000488,10.005960464477539,6.903534412384033,5.504733085632324,8.256723403930664,8.274008750915527,7.991237163543701,6.031258583068848,8.244175910949707,8.119668960571289,8.024232864379883,5.872622013092041,9.244492530822754,5.810022354125977,4.993851661682129,6.103479385375977,7.837440490722656,8.411443710327148,6.006596565246582,5.94970178604126,7.430821418762207,5.873081207275391,5.82401180267334,7.902824878692627,6.671931743621826,9.006916046142578,5.974586486816406,11.670291900634766,8.021899223327637,7.729365348815918,4.899914264678955,5.914198398590088,5.2845964431762695,5.5986857414245605,10.642218589782715,5.840433597564697,5.708427906036377,7.244645595550537,8.020842552185059,9.059104919433594,5.595405101776123,5.744803428649902,9.368903160095215,5.576203346252441,8.912003517150879,6.862008571624756,10.89210033416748,6.5471510887146,7.940230369567871,9.192483901977539,6.240348815917969,7.758571147918701,10.801492691040039,6.128492832183838,8.5983247756958,6.999320983886719,6.288037300109863,6.499796390533447,11.084342956542969,6.534747123718262,6.7643256187438965,7.708813190460205,7.286744594573975,6.832146644592285,11.071996688842773,6.588027477264404,7.901698112487793,5.705831050872803,9.8610258102417,6.96857213973999,6.983357906341553,5.724712371826172,7.628815174102783,6.894399642944336,7.210110664367676,5.718695640563965,10.837984085083008,7.641517639160156,7.733887195587158,6.6410956382751465,5.267488956451416,6.866607666015625,4.902246475219727,6.998615264892578,5.973637580871582,8.537515640258789,6.462377071380615,11.075763702392578,6.61382532119751,7.7812395095825195,7.406232833862305,6.898561477661133,5.143406867980957,9.661012649536133,7.864755153656006,7.052278518676758,7.017624855041504,8.051074028015137,9.003434181213379,9.80223560333252,11.680782318115234,6.59928560256958,6.458343505859375,5.717830181121826,7.824788570404053,4.991202354431152,4.898561954498291,5.894653797149658,5.548063278198242,9.190673828125,5.287332057952881,5.516079902648926,5.829702377319336,9.561501502990723,9.860922813415527,7.430409908294678,7.211428642272949,6.4057230949401855,7.862958908081055,7.751486301422119,6.320923328399658,6.417112350463867,8.2515230178833,7.211778163909912,11.650121688842773,5.346243381500244,10.755454063415527,8.847126007080078,7.520345687866211,7.978558540344238,7.674753665924072,7.879184722900391,8.308634757995605,7.792212009429932,8.191530227661133,6.892568111419678,6.941406726837158,6.6460442543029785,7.248715877532959,6.622804641723633,9.489535331726074,9.636871337890625,8.87128734588623,8.907280921936035,7.3819780349731445,9.88637924194336,8.96578311920166,8.208386421203613,6.511940956115723,5.8586249351501465,5.466068267822266,8.237244606018066,5.5348992347717285,10.772305488586426,9.205406188964844,6.8051652908325195,8.041213989257812,5.28617000579834,9.825218200683594,5.723458290100098,6.003570556640625,8.001361846923828,9.742809295654297,8.251193046569824,6.7042012214660645,6.213139057159424,5.520925998687744,6.886655330657959,4.901314735412598,7.320237159729004,5.494552135467529,5.53968620300293,6.011438846588135,6.711889266967773,7.23870849609375,6.372411727905273,5.9571051597595215,6.632171154022217,9.756357192993164,9.531575202941895,4.998401641845703,6.29452657699585,8.244903564453125,5.517607688903809,6.790289878845215,6.049315929412842,8.622224807739258,9.608099937438965,7.792439937591553,5.598788738250732,5.822420120239258,6.857997894287109,6.076723098754883,11.075546264648438,5.7242302894592285,5.828882694244385,7.762634754180908,7.981582164764404,4.985961437225342,5.1327433586120605,9.964652061462402,5.931412696838379,6.999160289764404,6.439345836639404,7.844223499298096,8.915179252624512,5.96299409866333,8.021342277526855,6.071094036102295,8.848440170288086,8.282815933227539,7.108720779418945,11.157387733459473,5.593320846557617,5.845419883728027,7.85504150390625,9.420019149780273,7.401190757751465,7.868059158325195,6.106858253479004,6.006916522979736,8.306211471557617,5.7220587730407715,7.614414691925049,6.715567588806152,6.873229026794434,8.002998352050781,8.528772354125977,9.140522956848145,7.8888773918151855,9.539740562438965,8.089044570922852,7.600653648376465,6.450144290924072,9.880366325378418,7.736616134643555,6.031949996948242,7.439234733581543,6.1783366203308105,9.570240020751953,10.89054012298584,6.279438495635986,9.035791397094727,9.008184432983398,7.862878322601318,6.9016900062561035,6.415891647338867,8.19198226928711,6.501660346984863,6.076577663421631,6.622615814208984,7.2864508628845215,10.7789306640625,8.159838676452637,5.294785022735596,6.604150772094727,10.91435432434082,5.600374698638916,5.319725513458252,5.520017147064209,5.7304205894470215,7.720794200897217,5.9259796142578125,6.148473262786865,7.76435661315918,7.463480472564697,6.8375630378723145,7.146318435668945,7.368615627288818,6.688270092010498,8.730817794799805,10.881996154785156,8.110222816467285,8.48265552520752,6.082669258117676,5.826768398284912,6.189724445343018,6.5780839920043945,6.83729887008667,7.2530388832092285,11.074554443359375,5.933518886566162,6.9312334060668945,8.077852249145508,7.904464244842529,7.843649387359619,5.53974723815918,5.790773868560791,8.03603458404541,7.644996166229248,5.413652420043945,7.141968727111816,5.2652997970581055,7.402106285095215,4.904612064361572,4.988549709320068,6.363044738769531,6.4269256591796875,5.475543022155762,6.181848526000977,7.358678340911865],\"type\":\"scattergl\"},{\"hoverinfo\":\"text\",\"hovertext\":[\"Softnose, lots of wine in your glass with rough edge and long finish\",\"Nice starter wine!\",\"It really surprised me, good wine and excellent value for money.\",\"Delicious wine in Zeist during the EYOF preparation with good company\",\"The new packaging is ridiculous... it devalues \\u200b\\u200bthe excellent wine that it is, real wine requires a\",\"Taste to tap, offensive aroma. One of the best selling wines in Chile. The cap is no longer noticeab\",\"My grandfather's favorite wine.\",\"It is a good Cabernet wine that has a lot of commercial appeal and is the flagship for those who wan\",\"The best value for money. Chilean wine does not disappoint.\",\"Wonderfully firm, full-bodied wine, good aftertaste, spicy.\",\"Good wine to accompany meats\",\"Spicy wine. Notes of oak, red fruit and herbs\",\"Great wine \\ud83c\\udf77\",\"Very good wine, for starting quinchara.\",\"Reasonable wine for the price. Nice color. Berries - black and red\",\"A great and easy-to-please wine! oak currant plum black cherry vanilla\",\"Really, for what you\\u2019re paying you could do much worse. Cherry, blackberry, strawberry, vanilla, oak\",\"There are times when this wine comes out watery but there are other times when for the price it is a\",\"Beautiful wine for warm nights\",\"Not really my taste, I've had better wine\",\"blackberry chocolate oak blackcurrant smoke dark fruit Lower tannins than many other wines I\\u2019ve samp\",\"Easy to drink, fruity and a little on the sweeter side. Gets a little blue from it! Own company at t\",\"A pleasant wine without many pretensions, but good for everyday use. Dry and with medium acidity; Fo\",\"Striking wine with strong oak notes, high alcohol content\",\"Well. Table wine.\",\"Nice good value tesco wine\",\"This is the second time in a day that this manufacturer comes across. Lots of raspberry jam, a littl\",\"Young wine, good value for money, a little strong in alcohol and acidity.\",\"Earthy notes on the nose, not overly sweet, nice red wine.\",\"Reasonable price, good daily wine\",\"Very good everyday wine\",\"Someone else gave it to my father-in-law, who gave me a bottle. The outer packaging is cheap, the wi\",\"Ranked 75th among Chilean wines, 65 points\",\"I drank this wine several times and it was better. This bottle was worse, I don't know why. Correct \",\"Totally ok wine for the price\",\"This is my first wine purchase and it was a terrible experience. It just tasted like hand sanitizer \",\"This is a very honest entry-level wine, it has standards, it is always an alternative.\",\"Pronounced wine. Very own taste. I liked it with pasta.\",\"A pretty red wine which comforts with its warmth and its nuances of black fruits.\",\"Good wine, without praise or infamy.\",\"strong wine\",\"Today was my first experience tasting wine focusing on its qualities. I must say this experience was\",\"Wine difficult to drink\",\"Worst wine I\\u2019ve ever had. Every sip makes me nauseous. This is what I should expect for $7\\u002fbottle wi\",\"A classic of the Chilean genre. Everything is fine.\",\"Good wine from Chile \\ud83c\\udde8\\ud83c\\uddf1\",\"Good wine, classic without achieving anything special but that always accompanies well\",\"A classic wine to share with family and friends. Or to dummy before hitting the clubs \\ud83e\\udee0\",\"Quite a decent wine\",\"Light wine, a bit too sweet, red fruits, oak, light tannins.\",\"Good wine, intense, dry, and one of the best value for money.\",\"Light wine\",\"Really edible for this price. Taste like young wines like Crianzas of Rioja.\",\"Okay talk wine with red, dark berries and oak barrel character.\",\"Good wine for the price not my favorite but resolve A+\",\"Tasty wine\",\"Excellent, full-bodied wine, woody touch, with notes of cassis, red fruits, touch of vanilla, coffee\",\"Very enjoyable, smooth wine. Lacking a bit in depth, but most pleasant and good for the price - inCh\",\"A small sharp crack in the taste. Ok Friday wine, but no more.\",\"Good value for money! The first wine of the East Sea Caravan. The sugar content was low and there wa\",\"Bought this wine mainly for the label, the name and the story. But...no regrets at all. Lacks a bit \",\"With red fruit aromas and white meat accompaniment, this promotional bottle is suitable.\",\"Great wine, balanced and great value for money\",\"Easy and tasty wine!\",\"This one tastes so horrible that the only purpose of this must be to make mulled wine from it\\ud83c\\udf85\\ud83c\\udffc\",\"Excellent wine price quality\",\"Not expensive but very delicious wine. Bananas flavour is very interesting\",\"Ecuador \\ud83c\\uddea\\ud83c\\udde8 neighbors wine \\ud83c\\udf77\",\"Very good wine I was pleasantly surprised\",\"Simple wine, you get what you pay.\",\"Chilean wine\",\"Be very careful when purchasing this wine. Semi-dry wine. Small description on the back of the bottl\",\"Don\\u2019t like this wine. My wife likes it and I\\u2019ll drink it when she buys it but not to my taste\\u2026\",\"Place: home Occasion: Liza Teleshevskaya is our guest Food: homemade burgers with beef cutlet Impres\",\"Great flavor, goes well with everything. A good wine\",\"I drank it as a dessert wine. It's very delicious when chilled. The color of the wine was also beaut\",\"Excellent inexpensive table wine without pretensions.\",\"Simple wine for everyday life\",\"Costo must-have item. Oak, chocolate, blackcurrant, tobacco. The wine is dry and full-bodied, yet su\",\"In my memory it was better, I recommend finding another and better wine if you're buying wine on a d\",\"Delicious, soft wine. Can you last an evening? Reasonable aftertaste.\",\"Chilean\",\"Good, pretty, cheap. No pretension. Easy to taste for most people. Sweet, very fruity, but decent as\",\"Acceptable wine. Rich, tart, simple in feel\",\"Full and good ba de scheup me frut from moama (LG)\",\"Great wine!\",\"Wonderful wine.\",\"You can feel the fruit flavor with just the right amount of weight. Best among cheap table wines\",\"It was once a good wine\\u2026 not anymore!\",\"Reserva 2020, great wine, strong with notes of oak and cherry.\",\"Tired damn wine, blas\\u00e9 like S\\u00f6ren\",\"party wine\",\"chocolate, blackberry, cherry. Pleasant Chilean, you immediately recognize the country when you take\",\"Nice wine. Lots of black fruit, wood. Slightly sour in the aftertaste\",\"Very tasty wine bought for \\u20ac4.20. With lots of flavors. Perfect for an aperitif.\",\"Very poor wine\",\"Very good quality price. Finally, it is a young and economical wine, which is why it is considered a\",\"Good wine ideal for during the week price quality good. A lot of fruit\",\"Wine for everyday life, great, it still deserves to be corked, a metal Coca-Cola style cap doesn't g\",\"Good entry wine leather dark fruits Earthy\",\"Fruity, rich, pleasant in the mouth. Grapes and fractionation in Mendoza? I thought it was from Shil\",\"Fruity, rather sweet for a dry wine\",\"Extremely great value-for-money wine to drink at midday ball\",\"A typical and classic Chilean wine, a little \\\"formatted\\\" but pleasant and tasty. Beautiful aromas of\",\"For a $10 a bottle this is a 4. No complexity, but very drinkable and $10 a bottle. Pizza was invent\",\"Well, it was a cheap wine that didn't really impress me.\",\"Smooth wine\",\"Strong and intense, the first sip is strong after letting the wine breathe it becomes smooth! Very g\",\"Third wine of the night.\",\"pleasant wine for cheese board and\\u002for pasta. Showing taste; oak vanilla cream\",\"A decently pleasant and soft scent meets you. cherry tobacco graphite leather. Dark burgundy color. \",\"Cost-effective wine.. Smooth, moderate acidity and body.. Buy it for around 10,000 won.\",\"Okay for a \\u20ac8-\\u20ac9 supermarket wine. You\\u2019ll find much worse in this price range.\",\"Vanilla and mocca on a hard level! Soft, balanced. Spectacular wine! It goes very well with differen\",\"Excellent value for money up to 30 reais! Aromas of red fruits and velvety tannins that make it a gr\",\"Easy wine, visually it appears dense, in the smell test there is little other than alcohol. In the m\",\"Fruity nicely wine \\ud83c\\udf77\\u2764\\ufe0f\",\"Beyond the austere dark color, this wine delivers aromas of black fruits on the nose that are comple\",\"I wasn't expecting much from a wine from Chile but I was wrong. This is a perfectly decent wine with\",\"The wine is not for everyone, but it has a pleasant aftertaste.\",\"Good wine! Notes of Oak and cherry.\",\"Excellent vin\",\"Nice wine with wild asparagus \\ud83d\\ude0b\",\"It's my favorite Australian wine, full-bodied and pairs well with red meat!\",\"super nice wine with good flavors goes well with great company\",\"Nice wine, round rich taste with a smooth finish. Pretty dense, with a fruitful and cedar taste. Rec\",\"Super smooth, sweet wine, with good presence in the mouth, has entry notes but the middle notes do n\",\"Value for money in term of table wine that you buy from local gorcery shop next to your house. Full \",\"On the nose, offering black pepper, vanilla, nutmeg and cedar black cherry and black currant. In the\",\"230816 Lotte Hotel Ellie wedding wine seems to be good value for money? Light and soft tannin with a\",\"Excellent wine, accentuated flavor of oak and chocolate with hints of blackberry giving a smooth aro\",\"A decent wine for cheese and meat.\",\"Drinkable cheap wine\",\"Error-free wine to drink\",\"Atonement wine Inexpensive yet delicious kkasho\",\"Who doesn't like drinking a well-known wine? Tasty from start to finish. I recommend.\",\"Excellent wine, goes well with red meat or cheese.\",\"I like this wine but it has a lot of room to improve\\u2026 checking back, this shit is asssssss\",\"Good wine, tasty and pleasant. Owner of intense aromas, such as cherry, plum and soft notes of vanil\",\"A very interesting wine, worth some Bordeaux\",\"Unexpectedly slightly sweet. Mild bouquet. Smooth and lightly bodied. Great bottle of wine to share \",\"Good wine for the pizza\",\"Red fruits and high acidity characterize this wine. A table wine without many pretensions, but pleas\",\"oak cherry blackcurrant plum pepper blackberry Good wine for its price, fruity and some sharper note\",\"Pretty good for $5 wine. Leathery, tannic.\",\"An ok wine but no more. Not included in the wine list.\",\"I really didn't like this wine very much. It seems to me that it has no notable character and can be\",\"a real warrior\",\"Good wine. Quite a lot of red and black fruit flavor.\",\"An elegant and fair wine! A good alcoholic strength, with lots of fruit and a slightly sweet chocola\",\"Copa Club Panam\\u00e1 VIP Room Gate 207\",\"I bought a small bottle of this wine half years ago and kept in a fridge. It was somewhat dry but ve\",\"Soft, tasty wine during the week\",\"Let's be clear here, this wine is nothing more and nothing less than what it proports to be: an inex\",\"It has a moderate weight and a strong acidity, but it goes well together and I enjoyed it as a cost-\",\"Chilean classics\",\"Delicious wine. Smooth, fruity and too dry. Delicious with an evening on the couch with cheese\\u002fsausa\",\"Dark fruit, oak, a good wine for the price but nothing overly remarkable.\",\"Not great but you can\\u2019t beat the price. This wine has a salty and thin feel. Would not use as table \",\"A very commercial wine\",\"It's a cost-effective wine.\",\"Strong wine. Delicious with red roast meat.\",\"Rating: 3.0 \\u2b50 Wine tasted at the Wine Fair of Bella Via supermarket, Noroeste, in Bras\\u00edlia, on June \",\"Standard Chilean red wine. Excellent taste.\",\"On the strong side, oaky, chocolate. Blackberry. A good overall wine with a very reasonable price. E\",\"A red wine like many others but could just as easily have been published by Fun and sold as juice. A\",\"Low complexity wine, the flavor disappears after the sip. Strong alcohol aroma\",\"Nice reliable bold wine for beefs and strong cheeses. Good price\\u002fquality ratio\",\"Honest wine, goes well with meat. For a Sunday lunch, it's a good option.\",\"It's easy to drink and has a satisfying taste. Recommended as an everyday table wine\",\"Honest wine for the price found, cork stopper, full-bodied, intense red color, tannins present. Wood\",\"Excellent Australian wine, smooth, fruity and round tannins. A pleasant surprise.\",\"No no no. What a joke! Wish there were more wines in small bottles. Likes to try new wines... I unde\",\"Light wine\",\"Pleasant, fruity, easy-drinking wine, ideal for weekdays. R$ 35.00 (Jul\\u002f23)\",\"Good value wine\",\"On fruits and sugar but without any length. An affordable but not very interesting wine.\",\"Long live Latin America! It's good\",\"Moderate. Wine to give away which is ok. Less full-bodied, slight touch of vanilla. Although quite f\",\"Wonderfully soft wine, notes of oak. And cinnamon. Red fruit\",\"A dry and intense wine.\",\"Wine with aroma of red fruits, tannins present\",\"Delicious Chilean wine, unfortunately no longer the quality of 30 years ago when I brought it with m\",\"Not good acidic tastes like it old wine that been sitting out\",\"Simple wine to enjoy on a Friday night\",\"Wine with little depth, aromas of cinnamon and currant. Strong in attack and a persistent aftertaste\",\"A good wine!\",\"Good wine. I love it. In thailand 399thb.\",\"As the name suggests, this wine must have been made either by or for the devil. Atrocious.\",\"Severe table wine. Of course, you can drink, but this is a feat.\",\"A rather exciting wine with a lot of flavor, very tart on first contact with the tongue which then b\",\"I\\u2019m gunna (not the rapper\\ud83d\\ude02) be brutally honest here. This wine is like the friend in the friend grou\",\"A wine that Brazilians like with smoothness and flavor\",\"Also from the children for their version of sangria. It is appreciated that you do not use my wines\",\"Light and sweet for a South American wine. Suitable as an aperitif or with chili\",\"Excellent wine for the money!! Very smooth, slightly oaky and mild fruit. Jammy and delicious. It wa\",\"This is your everyday wine. Blackcurrant, pepper, oak, leathery, dry and smooth.\",\"I really like this wine. We like to eat pizza and this wine.\",\"A value wine\",\"Leathery and pretty good wine. Pleasantly surprised\",\"A great value for money wine, very harmonious between fruits, tannins and acidity. Perfect combinati\",\"Excellent wine, drunk on an evening in Iceland!\",\"Excellent dense wine\",\"Watery but had better 6$ wine\",\"A good table wine with an intense color. On the nose, coffee, cocoa, oak and dark fruits. The taste \",\"Nice wine with the price\",\"I've had better things to do with them\",\"Soft wine with sweet notes. Good CPR. Go down alone. Table wine.\",\"Full-bodied. Good alcohol content. Good wine. Oak\",\"Very good wine. Pleasant berry aroma. The taste is prunes, a little nutty.\",\"Good value. Balanced and light taste. Furthermore, It is not sweet and little sour, so i think it wo\",\"A dark purple Cabernet, dry with medium acidity, with ripe black and red fruits such as cherry, plum\",\"Light wine, good value for money, very fruity, notes of red fruits, notably blackcurrant in the majo\",\"You can't go wrong with Australian wine! Very tasty, tannin remains, but subtle and slightly dry. Go\",\"Simple, everyday wine that neither delights nor surprises. 84gg\",\"Wine for everyday life, but I confess that I expected more. I found the acidity a little imbalanced.\",\"A very specific smell, the smell of very smelly socks. Doesn't look like Chile at all\",\"Nice wine. Drinks well\",\"Simple wine, very nicely balanced, fruity, goes well with steak or even just a glass of it after wor\",\"Ripe black fruits. A balanced wine.\",\"Fruity wine. Nice to go with a meal.\",\"A real taste of cocoa emerges from this thick wine, to try during an aperitif with friends\",\"Harvest 2021. Light wine, with aromas of ripe fruits, slightly acidic and short drink. He doesn't st\",\"It's worth promoting and serving visitors who don't have any great desire to drink better wine.\",\"Tastes like fruit, nice wine, neutral dry.\",\"Best of daily wine oak cherry dark chocolate @\",\"cherry red fruit blackcurrant Accessible wine Aromas of red fruits Pairing with goat cheese Spaghett\",\"I found it on sale for 26 reais... but honestly? Not very impressive. For the average price I always\",\"Tasty ok cs wine.\",\"Absolutely no wine, you can\\u2019t even call it wine. There is a bitter taste, plus a cloying sweetness. \",\"Definitely one of the best wines I tried in the lower price range. Rarely saw such a well balanced c\",\"Great wine, fills the palate. Nice for special occasions.\",\"If there is a single red wine flavor, this is definitely it. Like white wine but muskier, would make\",\"My favorite Wine\",\"Great value for money wine\",\"Young wine. Little alcohol for a Cabernet Sauvignon. For the cost, it's worth it.\",\"Intense wine, with pungent flavors, medium tannins and considerable acidity, a good finish that main\",\"Served poolside in Orlando. Tastes a bit manufactured. Oak dust and vanilla extract and prune. Not t\",\"It\\u2019s an easy to drink red wine at a very low price point.\",\"Good wine, balanced acidity, soft tannins. Good cost-benefit.\",\"Tasteless and rather boring wine. Said \\\"a bad match for you\\\" when scanning \\ud83d\\ude02\",\"Good light and accessible wine\",\"A Chilean wine that has increased its price by X3 in 2 years due to fashion, it is not worth its pri\",\"It has a reputation, but it could be better\",\"Good wine, works with most things!\",\"Sick cheap wine\",\"Ok wine\",\"An honest wine, both in price and in its delivery to the palate.\",\"Yay Chilean wine hiiii\",\"This wine immediately seemed like a very good Chilean wine to be enjoyed in moderation \\ud83d\\udc4c\",\"Nice wine to drink with friends on a winter evening when you are sitting inside with a piece of chee\",\"Very good Chilean Cabernet!\",\"A balanced wine, little tannin, little acidity, but it appears. Light!\",\"Low quality wine\",\"Excellent drinking wine, nice to sip!\",\"A delicious wine. We don't like red but this one is doable\",\"Good dry acidic wine with a strong mocha taste. I enjoy this wine but it has a little too much of an\",\"Very good red wine at a reasonable price.\",\"Got this after a friend recommended it and even though I usually reach for sweeter wines this was an\",\"Aromatic wine with a mild flavor at the end of the palate that can become cloying when consumed in l\",\"Easy socialize wine\",\"Screw cap stopper which denotes a concern with the cost of the product. In the glass, the color is i\",\"Light fruity aroma, wine for everyday life.\",\"Honest everyday wine\",\"Wonderful wine, fragrant, full-bodied and that's it.\",\"Alcohol is very noticeable. Grapes are reasonably ripe or the fermentation process has been stopped \",\"It's incredible how they manage to bottle the amount of wine they bottle with this quality\\u2026.\",\"Drank on pork ribs and merguez. Never really existed. Way too light for me.\",\"Good taste. Decent dry wine\",\"A very pleasant wine on the palate\",\"ARGENTINE MENDOZA VARIETY! IT'S NOT CHILEAN. Very full-bodied with rich and extremely round tannins.\",\"Is there a cork shortage I\\u2019m unaware of\",\"A fairly correct wine in terms of price and quality, quite defined color in a crimson red. On the no\",\"Delicious wine for various occasions. Despite being intense, it is an easy wine to drink, goes down \",\"A good wine, a good option when there is a lack of label options.\",\"I have great appreciation for this wine that has become an affectionate memory. Full-bodied and stri\",\"oak cherry dark fruit red fruit. We (my girlfriend and I tried it!) we finished it in less that 30 m\",\"Pleasant wine for the price\",\"Very fruity and jammy flavoured wine good for drinking any time\",\"Smooth fruity wine, delicious as an aperitif or spicy food. Drink at BBQ with red meat and marinated\",\"A three liter can on Monday. Good taste. chocolate oak vanilla blackberry cherry blackcurrant plum r\",\"Bright red wine, on the palate it showed medium sweetness, high acidity and medium tannin. It is a w\",\"oak dark fruit This is a good wine that can be easily purchased at convenience stores.\",\"Good wine for a normal day. Light tannins.\",\"Nice nice Chilean! Ruby red color, black berries in the nose, the same berries on the palate with sm\",\"Good wine\",\"Quite a natural wine.\",\"Rated it low due to the fact its a Yellow Tail wine; usually you know what you're going to get, a re\",\"Wine with good value for money. Slightly full-bodied flavor. It goes well with pizza.\",\"Round and nice. Good with steak and maybe drinking wine\",\"Low-end Chilean wine with excellent Price\\u002fQuality. Much better than many superior wines.\",\"Wine from liked folder (rating guessed and uploaded by ARG)\",\"Very pleasant wine for a supermarket wine. Nice balance between tannins and drinkability. Light toas\",\"The classic TV commercial wine! Nothing wrong with that, has its retention in the easy drinking and \",\"For me is this wine a bit sweet\",\"Good wine!!\",\"Nice wine for in between, few tannins\",\"Nice wine with friends plum vanilla cherry earthy oak\",\"Light, table wine no exceptions, but can drink. I taste light chocolate and oak\",\"A touch of summer in Bologna and fruity tomato flavors refined with a dash of raspberry. The wine si\",\"It is a good wine, it is easy to drink. Good value for money.\",\"Nice and bright chilean wine. On the nose - cherry, graphite, blackberry. On the pallate - quite mod\",\"A bit grass a bit bubblegum a bit prune a bit apricot but overall impression is flat but reveals chi\",\"Fantastic wine for a moderate price.\",\"Classic table wine after all, not enough to restore sight to a blind person. In short, it tastes dis\",\"Wine, so to speak, from the lower clergy, without much bouquet, feels a little bit in the mouth, but\",\"Leg\\u00e9 wine ideal for an aperitif with several choices of cold meats or cheese or others\",\"Good wine! Very pleasant.\",\"I already know a good wine to buy without making mistakes. Excellent wine for everyday life, I was s\",\"I would accompany it with a well-prepared meal, perhaps red meat. It's not for everyone. This wine h\",\"Cheapest wine at the store. Didn't drink any. Just used it to make short ribs.\",\"nice conversation wine, sweet\",\"Excellent wine, with a strong woody taste, but which does not stick in the mouth, dry just right, wi\",\"Wonderful wine, tannins in the right amount, a light and pleasant sweetness, balanced acidity, witho\",\"All wine is bad, unfortunately this is not the exception that proves the rule\",\"Good wine!\",\"For me the best in Chile\",\"Nice wine with drinks.\",\"Delicious Chilean CS. Aromatic. Easy. Tasted at the silver wedding of our esteemed friend C\\u00e9sar. Clo\",\"Fruity scent. Blackberries, blackcurrants, okay for the food (high-rev) but a bit thin and impersona\",\"Well-bodied wine. Excellent value for money. Fruity.\",\"We must admit, there are worse\",\"Great wine, I recommend it\",\"Very surprised by the quality of this wine given the price, very pleasant and round in the mouth, as\",\"Closer to semi-dry than dry. Powerful cherry on the nose, but overall a very simple scent. The wine \",\"Fairly smooth, medium-bodied Chilean red. Not bad as a budget wine but nothing special.\",\"Typically wine from the Sun \\u2600\\ufe0f\",\"A good table wine!\",\"Very nice CS from Chile went well with home made meats and great value for money chocolate oak smoke\",\"Very smooth wine, considering it is medium dry. Woody taste, vanilla and red fruits. First time we d\",\"Wine to drink on a daily basis. Health!\",\"A good wine, but it remains very alcoholic at the end on the palate. Good oak and pepper flavor\",\"Quite surprising! For the price this is a great value. We used this for sauce making but decided to \",\"Deep tannins, aroma of cherry and plums with a light touch of vanilla. Great value for money wine\",\"Oh surprise! I was not expecting a pleasant wine, I had been \\\"waiting\\\" for a long time. Acceptable b\",\"Green and acidic. Chile has good wines but not this one.\",\"This wine is not bad, but it has no interest. It is sweet, slightly fruity without any character, it\",\"The typical green smell of Chilean wine is too strong... .\",\"The bright and addictive taste of cork comes to the fore, followed by red currants and oak. Wine for\",\"Very cute bottle! \\ud83d\\udc08\\u200d\\u2b1b The wine itself has lots of dark fruit and blackcurrant. A bit on the acidic s\",\"A simple wine to wash down with dinner.\",\"Nice cheap wine.\",\"oak black cherry chocolate plum vanilla Great cheap daily wine from Chile\",\"You might be like... low money. And, it pairs with a well-priced wine. Screw cap! Bahhhh what decade\",\"Young wine, very fruity, reminiscent of ripe red fruits, not very persistent, tannins present. Great\",\"Cassis and leather on the palate. Soft tannins. Okay wine for its value\",\"Good cheap wine\",\"Talking about this wine is a waste of time. Very fun wine to drink, easy to like, complex for its pr\",\"Works well as a mulled wine. Not for spicy food though\",\"It\\u2019s fine wine with cheese plum blackcurrant tobacco pepper dark chocolate bell pepper\",\"Dry wine. Bitter, I didn't like it\",\"Very good wine\",\"Chilean wine bought in Brazil in Santos, light fruity, cherry, black currant, slight almond aftertas\",\"Great wine to put in to cooking \\ud83e\\udd58\",\"Palatable for newbies to wine. It is a very smooth wine with small woody touches at the end. early g\",\"Very plain and simple but okay and easy to like for most non-wine lovers.\",\"A very simple entry wine. Its aromas are covered by a chemical cloud of green wood. Your body is not\",\"Vanilla, blackberry, chocolate, oak. Tart cherry finish. OK wine, especially for the price.\",\"Fine wine, not fantastic\",\"Warm and acidic wine with dark, but friendly wood flavors, flavors such as cedar, pepper, bitter cho\",\"not a huge fan of this one. it tastes too much like wine at the beginning\",\"Only wine I\\u2019ve tasted. Instant 5 stars\",\"Yeah, table wine Plum, blackberries and oak\",\"Dark cherry, strawberry, plum, blueberry, Oak, and Leather. Daily red wine\",\"Red fruits and tanned blackberries, I have already tried it at baptisms, weddings, baby showers and \",\"Low quality low price low\\u002fmid taste Not sure if I tasted the grape or just flavored color . Price at\",\"No there are many better wines for a reasonable price than this. Buy Tabali or Errazurriz instead\",\"Not a bad wine. But a bit too much acidity for the wine. Its ok\",\"it\\u2019s a really nice wine for this price, fruity, right acidity\",\"In my eyes still the best choicevin thus low price category. It arrived to Finland in 1990 and becom\",\"A standard daily wine for me. I prefer a dry, acidic taste, so this is the most appropriate wine. It\",\"Nothing surprising, but it is a consistent label. Good wine for everyday life and for beginners.\",\"Very good wine for your money! A little too sweet, maybe but very flavourful. Nice and smooth oak an\",\"Nice wine, especially considering the price. Easy to drink with notes of red fruit and vanilla.\",\"Ok wine for value for money. Very dry, very acidic.\",\"Chile\",\"A simple cab wine. Nice semi-deep red colour. Medium body, slightly dry and medium acidity. Stays in\",\"Great wine, nice warm flavors and easy to drink!\"],\"marker\":{\"opacity\":0.5,\"size\":5},\"mode\":\"markers+text\",\"name\":\"0_good_red_price\",\"text\":[\"\",\"\",\"\",\"\",\"\",\"\",\"\",\"\",\"\",\"\",\"\",\"\",\"\",\"\",\"\",\"\",\"\",\"\",\"\",\"\",\"\",\"\",\"\",\"\",\"\",\"\",\"\",\"\",\"\",\"\",\"\",\"\",\"\",\"\",\"\",\"\",\"\",\"\",\"\",\"\",\"\",\"\",\"\",\"\",\"\",\"\",\"\",\"\",\"\",\"\",\"\",\"\",\"\",\"\",\"\",\"\",\"\",\"\",\"\",\"\",\"\",\"\",\"\",\"\",\"\",\"\",\"\",\"\",\"\",\"\",\"\",\"\",\"\",\"\",\"\",\"\",\"\",\"\",\"\",\"\",\"\",\"\",\"\",\"\",\"\",\"\",\"\",\"\",\"\",\"\",\"\",\"\",\"\",\"\",\"\",\"\",\"\",\"\",\"\",\"\",\"\",\"\",\"\",\"\",\"\",\"\",\"\",\"\",\"\",\"\",\"\",\"\",\"\",\"\",\"\",\"\",\"\",\"\",\"\",\"\",\"\",\"\",\"\",\"\",\"\",\"\",\"\",\"\",\"\",\"\",\"\",\"\",\"\",\"\",\"\",\"\",\"\",\"\",\"\",\"\",\"\",\"\",\"\",\"\",\"\",\"\",\"\",\"\",\"\",\"\",\"\",\"\",\"\",\"\",\"\",\"\",\"\",\"\",\"\",\"\",\"\",\"\",\"\",\"\",\"\",\"\",\"\",\"\",\"\",\"\",\"\",\"\",\"\",\"\",\"\",\"\",\"\",\"\",\"\",\"\",\"\",\"\",\"\",\"\",\"\",\"\",\"\",\"\",\"\",\"\",\"\",\"\",\"\",\"\",\"\",\"\",\"\",\"\",\"\",\"\",\"\",\"\",\"\",\"\",\"\",\"\",\"\",\"\",\"\",\"\",\"\",\"\",\"\",\"\",\"\",\"\",\"\",\"\",\"\",\"\",\"\",\"\",\"\",\"\",\"\",\"\",\"\",\"\",\"\",\"\",\"\",\"\",\"\",\"\",\"\",\"\",\"\",\"\",\"\",\"\",\"\",\"\",\"\",\"\",\"\",\"\",\"\",\"\",\"\",\"\",\"\",\"\",\"\",\"\",\"\",\"\",\"\",\"\",\"\",\"\",\"\",\"\",\"\",\"\",\"\",\"\",\"\",\"\",\"\",\"\",\"\",\"\",\"\",\"\",\"\",\"\",\"\",\"\",\"\",\"\",\"\",\"\",\"\",\"\",\"\",\"\",\"\",\"\",\"\",\"\",\"\",\"\",\"\",\"\",\"\",\"\",\"\",\"\",\"\",\"\",\"\",\"\",\"\",\"\",\"\",\"\",\"\",\"\",\"\",\"\",\"\",\"\",\"\",\"\",\"\",\"\",\"\",\"\",\"\",\"\",\"\",\"\",\"\",\"\",\"\",\"\",\"\",\"\",\"\",\"\",\"\",\"\",\"\",\"\",\"\",\"\",\"\",\"\",\"\",\"\",\"\",\"\",\"\",\"\",\"\",\"\",\"\",\"\",\"\",\"\",\"\",\"\",\"\",\"\",\"\",\"\",\"\",\"\",\"\",\"\",\"\",\"\",\"\",\"\",\"\",\"\",\"\",\"\",\"\",\"\",\"\",\"\",\"\",\"\",\"\",\"\",\"\",\"\"],\"textfont\":{\"size\":12},\"x\":[2.07027006149292,3.8118271827697754,2.4646971225738525,3.5772016048431396,2.5687360763549805,1.1237555742263794,3.758275270462036,0.9903310537338257,1.0020332336425781,2.0893595218658447,2.8500442504882812,1.1749367713928223,3.786591053009033,3.4851925373077393,1.667008399963379,0.8824019432067871,1.6597819328308105,2.449598550796509,3.4337899684906006,2.8572447299957275,0.6950938105583191,2.1894025802612305,2.3576369285583496,1.1271522045135498,3.2074625492095947,2.6488795280456543,2.147791862487793,2.5960943698883057,1.4093385934829712,2.582749843597412,3.486712694168091,2.517727851867676,0.9556285738945007,1.8530927896499634,2.9272749423980713,2.244692325592041,2.160907030105591,2.4471383094787598,1.4623428583145142,3.465916872024536,3.477020502090454,2.1672120094299316,3.1305322647094727,2.6637468338012695,0.5219631195068359,0.8202580809593201,3.2290847301483154,3.047396659851074,3.323734760284424,1.1352976560592651,2.6496405601501465,3.4358043670654297,1.8753139972686768,1.0444670915603638,2.7841038703918457,3.6600897312164307,1.294617772102356,1.9864877462387085,2.7032766342163086,2.1175436973571777,2.229651689529419,1.249160647392273,2.62504506111145,3.445077896118164,2.5625743865966797,2.70399808883667,2.140045642852783,0.8200073838233948,2.607729434967041,3.099712371826172,0.8938239812850952,2.4160170555114746,2.409369707107544,2.8528287410736084,3.398420810699463,2.162421464920044,2.7270026206970215,3.1512646675109863,1.247010588645935,2.1804800033569336,2.4913108348846436,0.5573222637176514,2.082872152328491,3.188232183456421,1.9991445541381836,3.8202338218688965,3.7556464672088623,2.1830248832702637,3.4946162700653076,1.1525731086730957,3.6474106311798096,3.393221855163574,0.7098264694213867,1.451628565788269,1.960984468460083,3.104797601699829,2.0514285564422607,2.372924327850342,2.913541316986084,0.9852334260940552,0.8199700713157654,2.725668430328369,2.64402174949646,1.0388574600219727,1.9503823518753052,2.9722466468811035,3.094386100769043,2.3053460121154785,3.542015790939331,1.8851079940795898,1.6517894268035889,2.647239923477173,2.9258639812469482,2.0249011516571045,1.942336916923523,1.8397960662841797,2.8310163021087646,0.9324996471405029,0.9763118028640747,2.4412238597869873,1.1637245416641235,3.836275100708008,3.6608197689056396,2.4472672939300537,3.552060127258301,2.124821901321411,2.0412635803222656,2.568775177001953,1.6799665689468384,2.130253553390503,1.2191345691680908,2.9472062587738037,3.001811981201172,3.0808804035186768,2.8641951084136963,2.4165430068969727,2.8707387447357178,2.181058406829834,1.7191420793533325,2.0351226329803467,1.5597153902053833,2.931663990020752,1.5036133527755737,0.7604694962501526,2.678004264831543,3.3977012634277344,2.132176160812378,3.470085859298706,1.5687651634216309,1.8447707891464233,0.5586264729499817,2.2287280559539795,3.2151131629943848,2.2375855445861816,2.3777008056640625,0.5332355499267578,2.510382652282715,1.0808264017105103,2.1350111961364746,3.2130699157714844,2.960747003555298,2.754635810852051,0.9291005730628967,0.9914183616638184,0.7770638465881348,1.6019387245178223,1.9129725694656372,2.524022340774536,2.8674871921539307,2.2953600883483887,1.2919936180114746,1.6264630556106567,2.3744935989379883,3.43612003326416,2.229595899581909,2.6602933406829834,1.872902512550354,0.5436692833900452,2.228461742401123,1.1801601648330688,2.934668779373169,1.455240249633789,0.9292817711830139,2.5946097373962402,3.2408182621002197,1.9056669473648071,3.433128833770752,3.5725674629211426,3.4218780994415283,3.0869133472442627,1.93710196018219,2.997387170791626,1.1407183408737183,1.2772284746170044,1.1879262924194336,1.9974209070205688,1.2849390506744385,2.8512520790100098,2.670210599899292,2.505557060241699,1.1000862121582031,3.7617263793945312,3.7265443801879883,2.5483529567718506,1.3664952516555786,2.7688565254211426,2.943965196609497,2.8090407848358154,1.2392808198928833,1.9761871099472046,1.7993841171264648,1.1290348768234253,1.7856996059417725,1.6151336431503296,3.2722463607788086,2.9973697662353516,0.8398364186286926,3.786933183670044,2.7009079456329346,1.4317327737808228,2.7894952297210693,1.8530629873275757,1.8196598291397095,3.0300168991088867,2.0233516693115234,0.8608617782592773,1.267441749572754,2.057616949081421,3.6669251918792725,2.5621535778045654,2.122619152069092,3.0836424827575684,2.5782761573791504,3.840204954147339,2.6204097270965576,2.7464118003845215,1.9819964170455933,1.3410794734954834,2.62284779548645,1.6622669696807861,2.426072359085083,3.4351813793182373,0.9698587656021118,2.1599862575531006,3.504897117614746,3.0262699127197266,3.5602734088897705,3.015979766845703,0.8581145405769348,0.9246777892112732,1.9389392137527466,0.30564987659454346,1.628910779953003,3.1157217025756836,3.791435480117798,1.560806155204773,2.108445167541504,2.5864179134368896,0.8931258320808411,1.960997462272644,3.117359161376953,1.3213276863098145,1.7723981142044067,3.289799451828003,1.7830140590667725,1.873010516166687,2.5660436153411865,3.063730478286743,2.603106737136841,3.019412040710449,0.861865222454071,2.596177339553833,1.3908400535583496,2.714946746826172,3.2915329933166504,2.222939968109131,1.02530038356781,2.797933340072632,2.1349644660949707,2.8115687370300293,0.7454412579536438,1.513047695159912,1.035739541053772,1.6466084718704224,0.7455326318740845,3.690931797027588,3.373680353164673,2.035323143005371,2.676872730255127,2.6960155963897705,1.0254089832305908,2.0003256797790527,1.425832748413086,0.8477477431297302,2.384791851043701,3.810777425765991,1.6078745126724243,0.9000752568244934,1.1677361726760864,2.251743793487549,2.0151283740997314,0.9031534790992737,1.757738709449768,2.7740976810455322,2.350430727005005,2.399688482284546,2.8968665599823,3.737928867340088,2.1850249767303467,2.8702967166900635,2.9802284240722656,3.783804416656494,2.264051675796509,1.5880438089370728,3.0692594051361084,3.8179690837860107,0.5334609150886536,3.5561113357543945,0.6962105631828308,1.8071174621582031,2.311631202697754,2.9741086959838867,3.634416103363037,1.9500517845153809,2.4183878898620605,1.120079755783081,3.4251298904418945,3.1734273433685303,0.636599600315094,2.239290952682495,3.169973850250244,2.266352415084839,2.2621352672576904,1.5902104377746582,2.5655338764190674,1.042942762374878,2.1945977210998535,0.9317383170127869,1.321692705154419,1.4031401872634888,3.1005308628082275,2.939023494720459,0.792500376701355,2.028651475906372,1.5378755331039429,1.6963905096054077,2.9360742568969727,2.11655330657959,2.739867925643921,0.827698826789856,2.543300151824951,3.7506155967712402,0.9840419888496399,3.606039524078369,1.999232292175293,2.8977715969085693,1.7627816200256348,0.7675105929374695,3.297442674636841,1.350921630859375,2.477898359298706,3.5179171562194824,0.9561705589294434,0.9208722710609436,1.389197587966919,2.0297887325286865,2.1667263507843018,2.570415496826172,2.437983274459839,1.9958422183990479,2.330172061920166,2.450373649597168,1.7987993955612183,2.205376148223877,2.617443323135376,0.532468318939209,1.6873384714126587,3.368709087371826],\"y\":[9.764111518859863,10.476829528808594,11.285667419433594,10.426499366760254,11.172001838684082,10.527596473693848,10.509403228759766,11.040151596069336,11.090566635131836,9.667258262634277,9.762252807617188,9.34480094909668,10.428430557250977,10.599720001220703,10.531876564025879,9.11913013458252,10.523469924926758,10.353530883789062,10.988088607788086,10.88671875,8.970870971679688,10.4686918258667,10.393019676208496,9.378971099853516,10.503914833068848,11.65122127532959,10.962838172912598,10.367565155029297,9.759751319885254,11.50527572631836,10.84992790222168,11.108867645263672,11.137757301330566,10.745990753173828,11.377768516540527,10.838129043579102,11.039230346679688,10.024070739746094,10.300178527832031,10.708571434020996,11.118378639221191,10.645776748657227,11.311081886291504,11.03862190246582,10.97828483581543,11.08804988861084,10.576164245605469,10.434337615966797,10.634604454040527,9.2866792678833,10.583123207092285,11.170242309570312,11.134567260742188,9.268104553222656,11.58631706237793,10.780041694641113,9.407670021057129,10.746258735656738,10.871079444885254,10.970767974853516,10.871084213256836,9.827308654785156,11.662491798400879,10.645157814025879,10.838698387145996,11.60975170135498,11.049684524536133,11.053974151611328,11.224770545959473,11.059649467468262,11.055225372314453,10.358156204223633,10.746428489685059,9.729927062988281,10.360322952270508,10.442967414855957,10.649486541748047,10.98275089263916,9.95299243927002,11.073053359985352,10.370509147644043,10.994691848754883,10.713171005249023,10.660501480102539,10.145413398742676,10.431278228759766,10.54842472076416,10.806020736694336,10.727261543273926,9.370190620422363,10.828557968139648,11.032271385192871,10.71887493133545,10.346612930297852,11.047636032104492,11.398478507995605,11.009075164794922,11.409151077270508,10.998398780822754,9.018841743469238,10.622151374816895,9.756710052490234,11.649776458740234,10.87441635131836,11.572379112243652,11.395506858825684,10.025399208068848,9.49819278717041,11.030379295349121,10.03273868560791,9.35058307647705,10.650321960449219,11.369566917419434,10.083609580993652,11.153701782226562,9.533323287963867,9.782549858093262,10.632797241210938,11.058627128601074,10.447481155395508,9.37930679321289,10.503742218017578,10.381250381469727,10.090217590332031,10.42947769165039,10.328160285949707,10.436391830444336,11.715652465820312,10.4863920211792,11.504202842712402,9.370386123657227,9.921393394470215,11.305562019348145,11.312867164611816,11.140368461608887,10.687813758850098,9.928994178771973,11.089668273925781,9.38457202911377,10.892196655273438,10.151315689086914,9.955445289611816,10.195027351379395,9.004904747009277,11.437978744506836,10.734916687011719,11.065610885620117,10.185638427734375,10.372715950012207,10.576323509216309,10.971786499023438,10.53293228149414,11.10780143737793,11.157337188720703,10.632624626159668,10.994701385498047,10.051582336425781,9.289717674255371,10.79505729675293,10.508440017700195,11.212567329406738,10.0371732711792,11.079551696777344,10.937088012695312,9.020586967468262,10.189866065979004,9.606261253356934,11.359941482543945,9.83913803100586,10.602106094360352,9.418403625488281,9.825035095214844,11.28409481048584,11.186721801757812,11.425118446350098,11.650530815124512,10.30095386505127,10.978523254394531,10.190559387207031,9.343623161315918,10.393996238708496,9.815489768981934,11.08991527557373,10.741040229797363,11.016942977905273,9.701236724853516,10.272098541259766,10.350419998168945,10.75468635559082,10.468006134033203,10.230024337768555,10.808387756347656,10.824573516845703,9.464299201965332,10.707674980163574,10.329100608825684,9.961004257202148,9.964097023010254,11.654212951660156,11.285883903503418,11.007813453674316,10.473920822143555,10.651799201965332,10.316079139709473,9.51705551147461,11.588113784790039,10.970355033874512,10.304080963134766,9.422904014587402,10.017501831054688,10.519428253173828,9.271857261657715,10.465300559997559,9.852286338806152,10.972427368164062,10.853470802307129,10.855210304260254,10.569884300231934,10.224823951721191,10.290205955505371,9.741291999816895,9.598636627197266,10.340450286865234,11.0413179397583,9.8548002243042,9.121575355529785,9.900252342224121,11.265164375305176,10.69607162475586,10.904919624328613,11.159407615661621,10.168306350708008,10.028229713439941,10.485045433044434,11.699767112731934,10.583749771118164,9.630757331848145,9.473010063171387,11.057461738586426,9.692646026611328,10.816173553466797,11.156332969665527,11.085301399230957,11.107315063476562,10.518470764160156,11.41321849822998,10.819867134094238,10.193618774414062,11.079230308532715,11.103652954101562,10.052048683166504,10.831878662109375,9.598649024963379,11.374473571777344,10.431215286254883,10.35509204864502,10.247858047485352,11.175342559814453,9.044240951538086,9.713494300842285,10.977093696594238,10.329307556152344,9.537755012512207,11.059613227844238,9.561799049377441,9.920909881591797,11.364728927612305,11.419206619262695,10.397566795349121,10.117594718933105,10.726896286010742,10.97521686553955,10.34605884552002,9.985517501831055,10.6243314743042,10.314957618713379,9.513198852539062,11.598846435546875,10.005926132202148,9.760965347290039,9.102301597595215,10.090300559997559,9.33310604095459,9.682565689086914,10.703848838806152,10.675117492675781,10.679971694946289,10.949023246765137,10.204578399658203,10.024297714233398,11.05111026763916,10.839667320251465,10.05154800415039,9.097817420959473,10.551464080810547,10.425357818603516,9.708921432495117,9.040682792663574,9.311212539672852,9.816024780273438,10.968548774719238,10.65061092376709,9.802392959594727,11.565438270568848,10.766717910766602,10.381467819213867,9.825276374816895,10.490263938903809,10.96845817565918,9.7772216796875,11.36732292175293,10.551383018493652,10.381978034973145,9.731121063232422,11.346628189086914,10.459826469421387,11.002155303955078,10.655793190002441,10.574231147766113,9.272183418273926,10.803686141967773,11.04039192199707,10.320435523986816,11.068351745605469,10.28577995300293,10.68022346496582,10.856022834777832,10.370325088500977,10.611446380615234,10.225337982177734,10.86057186126709,10.165776252746582,11.24058723449707,9.052942276000977,11.0554780960083,10.724868774414062,10.845592498779297,10.83421802520752,9.527288436889648,10.295414924621582,10.568424224853516,11.4595308303833,9.094151496887207,10.4736328125,10.177103042602539,9.662434577941895,11.412205696105957,10.777979850769043,9.666102409362793,9.106685638427734,10.274263381958008,10.554403305053711,10.610800743103027,10.323052406311035,10.374495506286621,10.507184982299805,9.512001991271973,8.856903076171875,10.702128410339355,9.467733383178711,10.763470649719238,10.86703109741211,8.957415580749512,8.948223114013672,9.526030540466309,10.971583366394043,11.165594100952148,10.898000717163086,10.705376625061035,11.247636795043945,10.369160652160645,11.234881401062012,10.463373184204102,10.67481803894043,10.688094139099121,10.989004135131836,9.50064468383789,10.322492599487305],\"type\":\"scattergl\"},{\"hoverinfo\":\"text\",\"hovertext\":[\"Oaky some red plum black plum Bit chocolate Just 3.4 okay daily\",\"Smoky, plum, finishes dry. Leathery smell on the nose. Low acidity. Perfect with lamb, pizza. Stunne\",\"Deep ruby \\u200b\\u200bred color. On the tongue deep red fruit and black fruit, cocoa, licorice, spices, pepper\",\"Flavor of an intense woody ruby, fruity, with great value for money.\",\"Ruby colored wine. Aroma of red fruits. On the palate, it showed medium body and tannins! Acidity ab\",\"blackberry chocolate oak blackcurrant plum\",\"'Dokkaebi' edition in S.Korea ruby color pepper a little oak licorice leather note on nose med body \",\"vanilla chocolate cherry blackcurrant coffee\",\"chocolate vanilla oak blackberry blackcurrant cherry tobacco\",\"Plum, blueberry, very juicy, even slightly jammy. Medium acidity, medium tannin, soft, dark berries.\",\"Very woody, oak, vanilla, black fruit, raisins, vegetable, very accentuated pepper, medium tannin, h\",\"Raspberry, black currant, spices, not bad\",\"Color: dark ruby red Aromas: strawberries, vinegar Flavors: fruity Impressions: good with cheese\",\"Tart, \\u201cempty\\u201d on the exhale, no aftertaste. Smell and main notes: currant, oak. Full tannins. Averag\",\"oak chocolate strawberry\",\"Clear ruby red color, medium viscosity. Clear and medium intense smell, fruity, spices, black curran\",\"P says leathery raspberry, drinkable, forgettable. Red.\",\"Deep ruby color. A cheaper Chilean red that lacks complexity. Sour cherry, blackcurrant, plum, and s\",\"Not too shabby Bought as am a little tiddled oak cherry black cherry\",\"Fox\",\"Oak scent, dried fruit flavor, moderate acidity and slight tannin. It also smells like vanilla, but \",\"oak chocolate blackcurrant grass Well balanced , simple and neat. Good structure. Healthy for house \",\"cherry black cherry oak\",\"Oak, blackberries and when on discount excellent.\",\"Full of black fruit. Vanilla, Oak, some chocolate and a little pepper. Red fruit aftertaste. Good en\",\"Ruby red. Medium + body and dry. Balanced tannin and acid. Blackberry blackcurrant plum red cherry r\",\"Basic red. Would not recommend for the taste. Palate: chocolate oak blackberry cherry\",\"Very Very Nice to bbq Food \\ud83d\\ude03 chocolate strawberry Perfect to meat and chocolates.\",\"Vanilla oak\",\"Lovely notes of cherry, blackcurrant and berries. Not so strong tannin, great with beef.\",\"oak cherry blackcurrant\",\"Dry and full of smokey oak notes. Doesn't linger very long. Not a bad red for the price.\",\"Deep beetroot colour with a nice berry, some wood, spices. Flavour is fruity, wooden, spicy and some\",\"plum oak cherry cheese\",\"Deep ruby \\u200b\\u200bred color, aromas of red fruits, balanced in the mouth, medium finish, good option for e\",\"Quite fruity Medium nose of red fruits In the mouth it's vanilla And the acidity comes out quickly..\",\"Medium intensity red. On the nose \\ud83d\\udc43 it is very fruity, with emphasis on red fruits, but it brings a \",\"Cheap and easy to drink, with moderate acidity, sweetness and tannins, the ratio of red fruits to bl\",\"chocolate blackberry cherry vanilla\",\"Dark fruit, Orange peel, tobacco\",\"Tasty, but very dry. Perfect tannin. Notes of cherry, oak, plum, smoke, red fruits.\",\"Oak. Opened. Terrible.\",\"Chocolate, vanilla, oak, soft, red fruit, delicious\",\"Intense ruby \\u200b\\u200bcolor, aroma of red fruits and chocolate, on the palate red fruits such as strawberry\",\"Excellent for its value, bold, notes of blackberry, currant and chocolate, slightly acidic\",\"Oak, strong tanin, spicy, simple and I feel good with prosciutto.\",\"Deep ruby colour. Intense nose of leather, chocolate and oak. Bold with notes of chocolate, oak and \",\"I can smell black plums, vanilla, with a strong color. Adorable\",\"Supple, full, red fruit with little tannin\",\"chocolate vanilla cherry leather\",\"Chocolate, oak\",\"Exquisite, woody aroma, red fruits, mocha coffee, bitter chocolate tobacco\",\"cherry oak\",\"Elegant and sensual aroma with touches of blackberry and light tannin flavor.\",\"- blackberry - oak - plum\",\"Strong, drier, agree with comments of black and red fruits\",\"black currant cherry cinnamon chocolate oak tobacco\",\"Short finish, very fruity, little acid and astringent blackcurrant\",\"oak strawberry vanilla baking spices\",\"Light bodied, medium tannin. Top notes are metallic and cherry. Drinkable but boring\",\"Aromas of black fruits, plum, woody and well present notes of aging. The flavor matches the aromas, \",\"Notes of red fruits, cassis, vanilla and chocolate; Medium body, good mouthfeel, with a soft finish.\",\"oak ripe blackberry musk leather earthy ash chalk dust clay pot key lime\",\"Red fruit. Medium layer and body, low acidity. Excellent\",\"Little smoky in the nose. Dark fruits and tad of spice on the finish. Smooth\",\"Ruby red color, medium body without movement, thin legs, slow tears, notes of red pepper before shak\",\"Black berry and black currant and a sweet note I can\\u2019t pinpoint on the nose with berry on the palate\",\"Note of oak and chocolate, beautiful color, dry, very cool and lightly fruity! 2020 harvest\",\"Dark ruby \\u200b\\u200bin color, medium body with soft tannins. It has notes of red fruits (strawberry and cher\",\"vanilla\",\"High acids, without the presence of tannins. Bitterness Impossible to taste It seemed spoiled. I wil\",\"S: bold forest berries and spicy. Somewhat sour (?). V: want to drink again to confirm that I don't \",\"With a lot of flavor, it leaves a dry palate with wood tones, but very aggressive on the palate.\",\"Good CxB, fruity, spice and herbal.\",\"chocolate oak vanilla blackberry blackcurrant tobacco red fruit\",\"vanilla oak blackberry blackcurrant\",\"Notes of oak, chocolate, black fruit and cranberries. Empty on the palate; a complete lack of concen\",\"oak leather\",\"Plum, cooked dark fruit , blackberry jam with hints of grass notes .\",\"Blackberries in syrup on the nose, chocolate on the palate and residual anise\",\"chocolate oak vanilla\",\"This always delivers. Some tobacco, black currant.\",\"Mulberry leather scent, dark red fruit scent, light garnet-colored oak scent, cream cheese pepper sc\",\"oak and plum\",\"oak chocolate black cherry blackcurrant vanilla blackberry dark chocolate pepper raspberry strawberr\",\"chocolate oak vanilla\",\"Delicate aroma of strawberry and cocoa, very light flavor, acidity is lost in the mouth. chocolate v\",\"oak cherry blackcurrant chocolate\",\"Aroma of black fruit with a slightly smoky note\",\"chocolate, oak, vanilla, cherry and blackberry.\",\"Oak and chocolate\",\"Fruity red, intense ruby \\u200b\\u200bcolor, a sweet touch, rich in tannins... good pairing with hams and chees\",\"chocolate oak plum blackberry red fruit Very woody, soft tannins\",\"red fruit black fruit\",\"Bitter yet smooth. Strong oak with black Cherry flavours\",\"Fruity, tasty, round and velvety tannins. Slightly citrusy finish! Red fruits\",\"Ruby color, good taste, fried..\",\"Better than other vintages Body, acidity chocolate oak cherry red fruits\",\"Lots of plum and oak\",\"oak cherry black cherry blackcurrant plum blackberry pepper earthy\",\"Some users mention vanilla, oak and chocolate. Absolutely correct. Plus an unexpected fullness and a\",\"Zero bouquet, high tannins and acidity.\",\"cherry plum oak\",\"oak cherry black cherry blackcurrant\",\"Ruby red enjoyed back from Peyrilhac with duck rillettes, p\\u00e2t\\u00e9 de campagne and t\\u00eate de cochon mousse\",\"Fruity with toasted wood, bright and clear medium ruby \\u200b\\u200bcolor, medium body, light and pleasant swee\",\"tobaco, leather but not much\",\"oak dark chocolate coffee leather leather A good wine!\",\"A note of strawberries and chocolate fruit on the palate goes well with red meat and hard cheeses\",\"2020 harvest in August\\u002f2023. Ruby color, very present aroma of black fruits with a touch of wood and\",\"bell pepper green bell pepper oak black cherry leather Heavy on the green bell pepper. Had to dig de\",\"Cherry sm blackcurrant plum pepper\",\"Red fruits, light black fruits and at the end a chocolate.\",\"Surprisingly sweet and light than expected. blackberry vanilla .\",\"N: vanilla, tar, chocolate P: dark fruit and berries, vanilla, strawberry\",\"Medium ruby. Medium intensity of simple generic ripe fresh primary red and black fruit some blackber\",\"Medium body, good blackberry on the nose and jammy jelly in the glass. Mineral and a little earthy. \",\"COLOR: Ruby, high intensity, marked halos. TEARS: Colorful; medium viscosity. SMELL: High intensity;\",\"Oak, vanilla, berries, plums, cherries \\ud83c\\udf52 Good value for money but nothing extra vagrant if that's wh\",\"Vinegary on the nose and sour juice on the pallet\",\"Well level of tannins. Saturated and easy to drink. Has chocolate oak vanilla vanilla cherry blackcu\",\"Dry, tart, plum, leather\",\"Ruby red in colour. Nose of oak, caramel, cherries, chocolate, vanilla and smoke. Semidry with very \",\"A mix of chocolate and vanilla with a blackberry flavor. Very tasty for a moment for two and with pa\",\"For my palate, the tannin felt very noticeable.\",\"oak blackberry red fruit dark fruit dark chocolate Musty, woody, soft tannins A bit bitter, dark fla\",\"More intense and complex on the nose than on the palate. Intense aromas of wood, spices, red berries\",\"Bright ruby \\u200b\\u200bcolor with a clear shine. It's a little thick and feels powerful. In addition to aroma\",\"oak vanilla blackberry smoke wax Purple Balance: 1.0 Length: 0.5 Intensity: 1.0 Complexity: 0.75\",\"Very smooth cherry plum dark fruit red fruit oak\",\"Ambiguous aromas of leather and tomato as well as cherry and blackberry. An interesting experience f\",\"smoke oak\",\"oak cherry black cherry chocolate cassis oak cassis plum\",\"cherry blackcurrant cassis\",\"oak vanilla plum blackberry\",\"Oak, plum\\u002fblackberry and maybe cherry.\",\"Transparent cor rubi acids presenttannin\",\"\\ud83d\\udc43: dark chocolate, blackberry, cherry, leather, oak, pepper, cassis and mint \\ud83d\\udc45: red fruit, vanilla, \",\"Notes of chocolate and red berries. Bold and nice.\",\"Cherry, chocolate, smoky\",\"Nose and indefinable taste\",\"Intense ruby \\u200b\\u200bcolor with fruit aromas. A good value for money.\",\"Ruby red color. Cassis, peach, cherry, chocolate. Mild and elegant.\",\"Red fruits on the nose of strawberry and red cherries hint of black plum, very interesting mix. Some\",\"excellent, light, tasty, no tannin\",\"Great summer red. Light and pairs well with pork, beef, bread and salad. No heavy acid, very smooth.\",\"Dark in colour, some oak on the pallet. Dark fruit\",\"pepper pepper leather cedar\",\"Aromatic, with vanilla flavor. Unmistakable character. Slightly acidic. Medium low astringency.\",\"cherry black cherry blackcurrant dark chocolate\",\"Ruby color. Aromas of ripe fruit. In the mouth, high acidity and pleasant tannins, light body.\",\"ca cherry plum chocolate dark chocolate grass tobacco\",\"Intense ruby \\u200b\\u200bcolor. Balanced tannin. Earthy aroma. Medium body. Little sweetness.\",\"Oak on the nose. Remarkable spicy, tobacco in front. Full body, low-medium acidity. Middle lasting. \",\"oak cherry black cherry very dry @\",\"Blackcurrants. Pepper firmly mild in taste.\",\"Oak. Chocolate. Dark fruit. Cassis. Medium+ body, mild tannins and lots of acidity. A little harsh a\",\"Strong vanilla syrup \\u002f extract flavor that was hard to get past\",\"Very easy with any conversation or red meat meal. Medium to full body. Medium acidity. Solid tannins\",\"Aroma : blackcurrant Flavor : oak, smoke, raspberry, cherry\",\"Consistent, dubious name but still pleasant blackcurrant cranberry spice mix for baking cigar box nu\",\"Not too full, quite berry but not too harsh. Lots of oak at the beginning and vanilla at the end. Qu\",\"Astringent, strong. Oak and wood.\",\"Bright ruby. Fruit and quince green notes on the nose\\u2014quite pleasant. Dry, direct fruit, very little\",\"oak cherry blackcurrant smoke\",\"Tasty, notes of chocolate, strawberry, vanilla, blackberry and cherry\",\"chocolate, strawberries, (blackberries, strawberries) vanilla\",\"oak\",\"black cherry plum Sweet and tart dark fruit. With just just the right amount of bitterness.\",\"Medium ruby \\u200b\\u200bcolor. Aromas of black fruits, green bell pepper, vanilla. High body, medium alcohol. \",\"tobacco black fruit cedar wood\",\"chocolate vanilla red fruit mint\",\"Ruby color, strong and fruity aroma\",\"Okayish. Tobacco, red fruit\",\"Some strong oak notes upon opening. Firm and dry with a slightly bitter taste. Soft acids. Moderate \",\"Very good, I taste of chocolate in the background. chocolate tobacco\",\"Flavor of wood and nuts and violet colors, very marked dry oak wood flavor of forest fruits.\",\"Oak and blackberry on the nose, as you expect from a CS. The taste also gives chocolate, blueberry a\",\"Oak, vanilla\",\"Not acidic chocolate earthy dark fruit\",\"Very strong oak which diffuse other flavors\",\"oak black cherry chocolate cherry blackcurrant\",\"oak blackberry smoke red fruit leather @\",\"pepper coffee red currant\",\"oak cherry black cherry\",\"plum blackberry cherry\",\"Yellow tail, this is my first time having it. Since the price is so cheap, I thought it was worth it\",\"plum\",\"a little sweeter than ideal, good body but at the expense of sweetness, nice aroma trying to be comp\",\"blackberry red fruit\",\"Pretty decent Cabernet chocolate blackberry tobacco\",\"oak cherry simple feeling\",\"oak black cherry blackcurrant pepper smoke tobacco\",\"oak chocolate black currant tobacco black pepper Very present tints, very acidic. I don't like oak n\",\"Aroma: oak, red fruits. Taste: semi dry, bit tanic, oaky. Nice.\",\"L: smooth at first & classic not sure about the aftertaste E: medium bodied oak & cherry, only thing\",\"cherry blackberry black currant\",\"Musty, woody, tannin, tobacco\",\"oak cherry black cherry chocolate blackcurrant plum vanilla blackberry pepper\",\"Red fruits and light acidity\",\"chocolate oak\",\"On the nose red fruits. Soft tannins\",\"Carbernet Sauvinon with a bit of sweetness vanilla oak blackberry cherry plum prune fig\",\"Fruity with black and red fruits. Light tannins and little persistence. @\",\"Overdeveloped berry juice, cherry Miro Kukkonen\",\"red fruit end, predominantly chocolate oak vanilla and blackberry\",\"inky, buttery, smooth, cheap cab that vanishes into oak chips full bodied, low-medium acidity, mediu\",\"Blackberry, plum, cherry & vanilla. Juicy, round - wonderful alone & even better paired w\\u002f meal. Gre\",\"Fruity, blackberry, low acidity, medium tannin, light persistence. Easy to drink wine.\",\"Medium bodied with an acidic finish. Light flavours and cherries\",\"Pretty cherry color. Beautiful aromas of red fruits (strawberries) and chocolate. Intense and fruity\",\"Light, vanilla, low acid. I miss the aromatics, tartness and brightness.\",\"Deep purple. chocolate On the nose. Medium bodied, with hints of vanilla and blackberry\",\"Acidic not very sweet. Very simple one note red cherries and maybe a hint of tobacco on my palate. A\",\"oak black cherry plum chocolate vanilla\",\"Red fruits, blackberries, cherry, from flowers to jellies....it has complexity and sweet rays, it's \",\"oak, cherry , leather, earthy\",\"cherry cassis vanilla pepper red fruit A fruity Cabernet. With a bit of a bitter aftertaste which I \",\"Bwa. Alcohol scent and red fruit. Soft, full and round in the mouth. Fruity, oak. Short finish. Duri\",\"Sour, Cassis, Dark Chocolate\",\"Medium body medium tannin complex nose and flavor (difficult to express but not in good meaning ) no\",\"Medium ruby color, nose of dark fruits dominant over reds, and oak. Medium high body, mdium acidity,\"],\"marker\":{\"opacity\":0.5,\"size\":5},\"mode\":\"markers+text\",\"name\":\"1_oak_chocolate_cherry\",\"text\":[\"\",\"\",\"\",\"\",\"\",\"\",\"\",\"\",\"\",\"\",\"\",\"\",\"\",\"\",\"\",\"\",\"\",\"\",\"\",\"\",\"\",\"\",\"\",\"\",\"\",\"\",\"\",\"\",\"\",\"\",\"\",\"\",\"\",\"\",\"\",\"\",\"\",\"\",\"\",\"\",\"\",\"\",\"\",\"\",\"\",\"\",\"\",\"\",\"\",\"\",\"\",\"\",\"\",\"\",\"\",\"\",\"\",\"\",\"\",\"\",\"\",\"\",\"\",\"\",\"\",\"\",\"\",\"\",\"\",\"\",\"\",\"\",\"\",\"\",\"\",\"\",\"\",\"\",\"\",\"\",\"\",\"\",\"\",\"\",\"\",\"\",\"\",\"\",\"\",\"\",\"\",\"\",\"\",\"\",\"\",\"\",\"\",\"\",\"\",\"\",\"\",\"\",\"\",\"\",\"\",\"\",\"\",\"\",\"\",\"\",\"\",\"\",\"\",\"\",\"\",\"\",\"\",\"\",\"\",\"\",\"\",\"\",\"\",\"\",\"\",\"\",\"\",\"\",\"\",\"\",\"\",\"\",\"\",\"\",\"\",\"\",\"\",\"\",\"\",\"\",\"\",\"\",\"\",\"\",\"\",\"\",\"\",\"\",\"\",\"\",\"\",\"\",\"\",\"\",\"\",\"\",\"\",\"\",\"\",\"\",\"\",\"\",\"\",\"\",\"\",\"\",\"\",\"\",\"\",\"\",\"\",\"\",\"\",\"\",\"\",\"\",\"\",\"\",\"\",\"\",\"\",\"\",\"\",\"\",\"\",\"\",\"\",\"\",\"\",\"\",\"\",\"\",\"\",\"\",\"\",\"\",\"\",\"\",\"\",\"\",\"\",\"\",\"\",\"\",\"\",\"\",\"\",\"\",\"\",\"\",\"\",\"\",\"\",\"\",\"\",\"\",\"\",\"\",\"\",\"\",\"\",\"\"],\"textfont\":{\"size\":12},\"x\":[0.5851354598999023,0.6870405673980713,0.494196355342865,0.1617460995912552,0.4093640446662903,-0.05483930557966232,0.4127345383167267,0.46192270517349243,0.2549980878829956,0.5920591354370117,0.8336629271507263,0.8974908590316772,0.44915518164634705,1.2477364540100098,0.7033573985099792,0.36871322989463806,0.6261240243911743,0.28832873702049255,0.20168837904930115,0.5209094285964966,1.156231164932251,0.5413659811019897,0.19671465456485748,0.19993561506271362,0.6388508081436157,0.528885543346405,0.6987796425819397,0.7874408960342407,0.6605785489082336,1.3990603685379028,0.18512573838233948,1.140528678894043,0.38760650157928467,0.10836353152990341,0.5105409026145935,1.2047923803329468,1.112998366355896,1.022308588027954,-0.13300609588623047,0.4457010328769684,1.2280423641204834,0.5970374345779419,0.45804840326309204,0.24808736145496368,0.3156713545322418,1.0358270406723022,0.4336475729942322,1.0045312643051147,1.2329216003417969,0.60215824842453,0.637596607208252,0.38019898533821106,0.24263954162597656,0.22541357576847076,-0.22604477405548096,0.7187545299530029,0.3075960874557495,0.9120333194732666,0.7000248432159424,1.3663097620010376,1.020318865776062,1.011842131614685,0.31002405285835266,1.050382137298584,1.691180944442749,0.34553754329681396,1.2654073238372803,0.95738285779953,0.23951534926891327,0.6990824341773987,1.5133849382400513,0.6590099334716797,2.271878242492676,1.040911078453064,0.2656557559967041,-0.30969905853271484,1.1372013092041016,0.4955935776233673,0.3095800280570984,1.4268474578857422,0.673058032989502,0.3146606981754303,0.9497430324554443,0.028651613742113113,0.2489161193370819,0.6975052356719971,1.1354230642318726,0.5002155303955078,1.6593273878097534,0.26386940479278564,0.6590004563331604,0.5132988095283508,0.7599732279777527,0.5750235915184021,0.6465108394622803,1.149829387664795,0.2046099156141281,1.0401288270950317,0.07742839306592941,0.22827591001987457,0.7073342800140381,1.7029350996017456,0.05732916295528412,0.2094842791557312,0.2804737985134125,0.22205322980880737,0.4707196354866028,1.019206166267395,1.2337157726287842,0.181845560669899,0.4136008322238922,0.27172669768333435,0.5956975221633911,-0.10622431337833405,0.2631676197052002,0.2823370397090912,0.38698819279670715,0.23090645670890808,0.17011934518814087,1.6397258043289185,1.4222376346588135,0.5035317540168762,0.43174508213996887,-0.035165973007678986,1.934645175933838,0.46658095717430115,1.9226776361465454,0.16595397889614105,-0.2196686714887619,0.4654551148414612,0.4132125973701477,0.531946063041687,0.18228720128536224,0.1646411418914795,-0.21933749318122864,0.14806976914405823,1.6835033893585205,0.31921350955963135,0.5171043276786804,0.2180110067129135,1.6483699083328247,0.13579583168029785,0.5271167755126953,1.0471833944320679,1.9141309261322021,0.7868201732635498,0.8021597862243652,0.43932050466537476,1.6963685750961304,0.4005001485347748,0.22565524280071259,0.30060961842536926,0.23451685905456543,0.9988511204719543,0.1989179402589798,0.7970293164253235,0.9861749410629272,0.7255805134773254,1.1984894275665283,0.9100713133811951,0.8986141085624695,1.4860869646072388,0.994081974029541,0.1387595236301422,0.30693280696868896,0.3129332363605499,0.22283661365509033,0.5902893543243408,1.0206398963928223,0.22397607564926147,0.32084283232688904,0.0756768062710762,0.16850030422210693,0.41771918535232544,1.1149879693984985,0.21430224180221558,1.0757715702056885,0.5445424318313599,0.6375685334205627,1.0552690029144287,1.0154850482940674,0.28045549988746643,0.30422815680503845,0.34441614151000977,0.19632788002490997,-0.21986083686351776,0.9520219564437866,-0.029997549951076508,1.200701355934143,-0.28601956367492676,0.18133793771266937,0.18979735672473907,0.3999030888080597,0.6379245519638062,1.1142170429229736,0.5930194854736328,-0.3286397457122803,0.7698994874954224,0.27377060055732727,0.9769599437713623,0.6720767021179199,1.1696733236312866,0.670444905757904,1.0341291427612305,-0.23409081995487213,0.21090245246887207,0.7806190252304077,0.3128319978713989,0.9296854138374329,0.9172683358192444,1.1671411991119385,1.7607131004333496,0.529617428779602,1.1012932062149048,0.611112117767334,0.6122634410858154,0.5169605612754822,1.0497530698776245,1.1288410425186157,0.6867671012878418,1.2289409637451172,0.25024914741516113],\"y\":[5.34304666519165,7.560985088348389,7.768019676208496,7.781651496887207,8.153447151184082,5.747570037841797,7.579380989074707,5.184536933898926,6.018712520599365,6.541255474090576,6.275396347045898,6.331734657287598,7.695266246795654,6.206546783447266,5.011319160461426,8.049027442932129,7.826865196228027,7.74406623840332,5.106688022613525,4.9997406005859375,6.096280097961426,5.12589168548584,5.108927249908447,5.878332614898682,6.383723735809326,7.846238136291504,7.600996971130371,6.7040019035339355,5.036785125732422,6.5897440910339355,5.142792224884033,5.913633823394775,7.446579456329346,5.346588611602783,7.606925010681152,6.902307987213135,7.18661642074585,6.84230375289917,6.214470386505127,6.169314384460449,6.501436233520508,5.0060529708862305,6.173205852508545,7.750104904174805,6.457819938659668,6.195387363433838,7.5950469970703125,6.595936298370361,6.759466171264648,5.191762447357178,5.0524139404296875,6.1177077293396,5.0971903800964355,7.256200313568115,5.847402572631836,6.563994407653809,5.914268493652344,6.983017444610596,5.025040626525879,6.569308280944824,6.549283027648926,6.79235315322876,5.897618770599365,7.016278266906738,7.175360679626465,7.677928924560547,6.581319332122803,5.497863292694092,7.796412944793701,4.998676300048828,6.444802284240723,5.996301651000977,6.918358325958252,6.455231189727783,6.040895462036133,6.017996311187744,6.020567417144775,5.473532199859619,6.354342937469482,6.819821834564209,5.028040409088135,5.988276481628418,6.0571370124816895,5.389630317687988,6.009174823760986,5.067688941955566,6.733806610107422,5.145318508148193,6.656682968139648,6.10490083694458,5.0450968742370605,7.63454532623291,6.433126449584961,6.471823692321777,5.778149127960205,6.827281475067139,7.772822380065918,7.072800636291504,5.368138313293457,5.7498321533203125,5.054551124572754,6.557193279266357,5.368417263031006,5.130003452301025,7.751115798950195,7.798721790313721,5.4157233238220215,8.893531799316406,6.823237419128418,7.762528419494629,5.926749229431152,5.774024486541748,6.4030842781066895,6.383395195007324,6.127575397491455,7.7611260414123535,7.752291679382324,7.8656134605407715,5.949707508087158,6.902004718780518,6.47133207321167,5.48016357421875,7.615394592285156,6.415194988250732,6.689321517944336,6.1247053146362305,6.989295482635498,7.80757474899292,6.010110378265381,5.7201995849609375,7.219118118286133,5.08784294128418,5.422449588775635,5.123882293701172,5.8863139152526855,5.882152557373047,6.52545690536499,6.11491584777832,6.628299236297607,6.06320333480835,6.92285680770874,7.77866792678833,7.5973896980285645,6.741338729858398,6.7500152587890625,7.483848571777344,6.279234409332275,5.564371109008789,6.487884998321533,5.289592742919922,7.7756218910217285,5.965519428253174,7.742866039276123,6.243530750274658,5.1274189949035645,6.062928676605225,6.234021186828613,5.100474834442139,6.31785774230957,6.143304824829102,6.210904598236084,5.9454450607299805,5.656433582305908,7.844151496887207,5.341869831085205,6.444162368774414,6.1853437423706055,5.032559394836426,6.610941410064697,7.78706169128418,5.700393199920654,6.112554550170898,7.807036399841309,6.120721340179443,6.1252241134643555,5.971705913543701,6.051166534423828,6.225564479827881,5.008339881896973,6.861500263214111,5.546265602111816,5.195291996002197,5.805577278137207,6.049724578857422,5.117530345916748,5.816722393035889,7.199236869812012,5.431161403656006,7.161351203918457,6.054702281951904,6.048183441162109,5.097481727600098,5.724627494812012,6.01628303527832,6.019187927246094,5.789698600769043,6.041697978973389,6.385741710662842,5.791997909545898,6.9302778244018555,5.008040904998779,6.814881324768066,6.410308361053467,6.788127899169922,5.8232293128967285,6.128544330596924,6.109715461730957,6.409764766693115,6.653552055358887,7.056447982788086,7.10823917388916,6.388375759124756,7.590271472930908,6.820911884307861,5.189211845397949,6.479840278625488,5.464118003845215,6.964826583862305,6.080283164978027,5.672861576080322,6.416680812835693,7.7750067710876465],\"type\":\"scattergl\"},{\"hoverinfo\":\"text\",\"hovertext\":[\"Like juice\",\"Average taste\",\"Fruity\",\"Guarantee of a good experience Light acidity Pleasant blend of flavor\",\"Fruity, pleasant on the palate, good value for money. Suitable for light dishes\",\"Pretty good for the price, easy to drink when having a party.\",\"Deeply fruity and tannic\",\"Fruity, inexpensive\",\"Featureless and lacking in taste and aroma\",\"Drinkable, slightly sour\",\"Fruity, intense, full of textures and aromas, I really enjoyed it!!!\",\"Day by day - simple\",\"Spicy bitterness, rich, truly dry. I liked the label, I have the same cat at home.\\ud83e\\udef6\\ud83d\\ude0d\\ud83d\\ude05\",\"Generic. Good for Thursday night\",\"Fruity and light, simple but pleasant in the mouth\",\"A good companion for nights when there are no other companions, haha. Fruity with a light chocolate \",\"Fruity, good to taste\",\"Tasted extra good from a social security block on camping\",\"Very fruity and sweet, also very dry\",\"Not drinkable.\",\"fruity Impressions: good with cheese\",\"Light sour\",\"Fruity and intense, good to eat with red meat\",\"Smooth slightly fruity after finish. Good with cheese. A good choice for everyday meals.\",\"Medium body, slightly spicy flavor, not sweet, but a sweet flavor comes up when swallowed, a bitter \",\"I loved its aroma of fresh fruits.\",\"Personally, I feel like it lacks a Carniver Zinfandel flavor. However, this is because the scent of \",\"Simple flat flavour\",\"Salty yet savory. Plum, light red cherries. Good everyday drinker for the price Layne Yancey\",\"Nice and spicy, but sour aftertaste\",\"Smooth easy drinking\",\"Strong smell and flavor. Good Pairing with meats\",\"Lots of flavour, a bit sour, little aftertaste\",\"Soft, slightly sour, red currant, cherry, slightly earthy vanilla. Just okay!\",\"Fruity\\u2026 I loved the flavor.\",\"Very sour and bitter, not delicious\",\"didn\\u2019t enjoy, unpleasant in the mouth. tart and a hint of spice, yet somehow boring.\",\"Not to my taste at all. Experienced it as bitter and with too much alcohol taste\",\"Great value compared to what it offers. Good value for money. There are countless bottles that I hav\",\"Balanced intensity. Rich aroma. Notes of fruit and chocolate. Pairs well with red meats and cheeses.\",\"Fruity, dry, excellent to accompany with meals\",\"Sour, but not too bitter or dry. Would want to try it again some time\",\"Super easy to take, low acidity in my opinion. But good body and aroma.\",\"Juicyyyyy\",\"Too \\u201dthin\\u201d for my taste - taste is not rich enough with rich flavoured food.\",\"Fruity and light\",\"Good aroma. But a rather thin body. Also slightly sweet taste.\",\"Acceptable, medium body, soft with wood tones and red fruits\",\"Earthy start that leads into red berries and cherries. Dry start which turns a little less so in the\",\"Drank at Caesar\\u2019s Windsor with Court and my honey\",\"Too punchy.\",\"Bitter. Light body\",\"Thin flavor, tasted a bit bitter\",\"Light, smooth and soft flavor\",\"It was just ok\\u2026 a bit of smoke. Earthy. Not too sweet. Drank it alone.\",\"Smooth, very drinkable and would pair well with dark meats. Good coffee flavors. Lacks something tho\",\"Considering the price, a very good value for money. Quite well balanced, easy to drink...a decent \\\"a\",\"Remembering old times. Basic\\u00e3o.\",\"Good fruity etc but a little ledge like yum but I'm not transcended you see what \\ud83d\\udcaa\\ud83d\\udde1\",\"Fruity with sourness\",\"Quite sour honestly. Ngl not even gonna cap frfr \\ud83d\\udc80\\ud83d\\udc80\\ud83d\\udc80\\ud83d\\udcaf\\ud83d\\udcaf\\ud83e\\udd76\\ud83e\\udd76 @\",\"For a morning glass at the airport - quite decent, although more for barbecue or other meat, ... gen\",\"Served at an Event, quite drinkable.\",\"Fruity, sour, light taste\",\"Very sweet really loved how sweet it was with just hints of sour.Very delicious with snacks and red \",\"A bit sour for me. The flavours stays in mouth for a long time\",\"Fruity after taste with a smooth finish\",\"Easy to drink, delicious, strong taste\",\"Unpleasant aftertaste, as well as smell.\",\"Delicious and fresh fruit flavor.\",\"Very good and smoother and more fruity\",\"Soft and very rich fruity\",\"Fruity and good for relaxing evening glas.\",\"Easy drinking but not standout\",\"Thin, breezy, a taste correspondent with it's price\",\"Fruity but too light\",\"There is no astringent taste and very little fruit taste. It is very easy to drink because there is \",\"Drinks well with drinks, but not special at all. Right.\",\"Easy to drink with a peppery aftertaste at a great price\",\"Lack of flavor\",\"Light-bodied, watery. Cherry, blackberry on the palate. Overall, it was disappointing, for the money\",\"Fruity with a touch of strawberry\",\"Fruity with strawberry aroma... Easy to enjoy even more with a soup... and a temperature of 15\\u00b0C whi\",\"Very good, and doesn't give you a headache. To always take\",\"Moderate across all parameters. But drinkable and sweet. Good value for money.\",\"You can drink. It feels quite young, without long aging in barrels - sourish, you can even smell the\",\"Very smooth dry red with fruity flavors\",\"Didn\\u2019t impress. Better choices available for everyday easy drinking.\",\"A nice, enjoyable easy-drinker for a cheap price.\",\"Smells disgusting. Tastes like that.\",\"Beautiful earthy aroma at first. Using airator is the best option. Acidity became smoother. Good par\",\"Good value for money, easy to drink, so if you want to drink it every day, this is it\",\"Very light and not at all oily. With a good tear and pleasant on the palate and not at all unpleasan\",\"You can drink\",\"Tasty, sweet taste of fruit and berries!\",\"Dark\\u002fheavy fruity taste, sour\",\"Tasted like fermented kool-aid. Couldn't even finish the glass. Myself and two others dumped this do\",\"Great fructose! Yummy lol\",\"Plain and easy to drink. Suits most circumstances.\",\"Taste for 2 seconds, then the taste disappears\",\"Very fruity even if little nose.\",\"Basic\",\"Tasty, without bitterness\",\"Sweet and fruity\",\"Did not like. Bitter, tart, watery. I don't recommend it. Well, I don\\u2019t really want to throw it away\",\"Lotte Mart 4,900 won If you drink it while thinking about the price, you can just drink it, but I pr\",\"Perfect! There is a slight bitterness in the 2020 harvest. I didn\\u2019t notice it before.\",\"Light and fruity, it promises notes of chocolate and strawberry but is not easily noticeable.\",\"Pleasant flavor and texture. A little simple but suitable for a night of tapas.\",\"I liked this drop-Nice smooth flavour.\",\"Quite bitter, maybe works better for cooking\",\"Good density, pronounced berry taste.\",\"Nice in this price. Easy to drink\",\"Okay, fruity\",\"Not finished drinking once\",\"January 31, 21 Metriot and bad memories\",\"Easily drinkable and reliably inexpensive.\",\"Full-bodied, fruity, delicious with salad\",\"With a mild taste.\",\"Fruity. Unbeatable value for money.\",\"Intense and fruity! It goes well with a medallion! \\ud83d\\ude0b\",\"Fresh and fruity\",\"Stuffy aroma. J\\u00e4rnlukt. Surt\",\"Pretty good. Easy to drink even without food.\",\"Fruity, sweet, easy to drink\",\"Let's say it's going well. For a night without great pretensions. Light, soft... you can take it\",\"Easy to drink\",\"Pleasant, good for everyday life Average presence of alcohol, bitterness at the end\",\"Texture and aroma, fruity and intense\",\"Thin, but tasty. A definite grape flavor. A bit sweet.\",\"Sweet, a little sour, good but thin and bland. No headache.\",\"Fresh, fruity, slightly tannic with quite marked acidity. Correct\",\"Cheap to drink, easy to drink and cheap!\",\"I like the impressive kangaroo label and reasonable price. I think the taste is full-bodied but not \",\"Fruity, intense, an astringency consistent with the intensity!\",\"Fruity with a striking flavor! Delicious!\",\"Pretty good to drink!\",\"It\\u2019s good because it\\u2019s not stuffy!\",\"Fruity and light\",\"Fruity. Very good price for performance\",\"Good, but a little alcoholic\",\"very good and fruity but someone mentioned it reminds them of milk and now i can\\u2019t untaste that\",\"A bit too sour, alcohol quite present\",\"Slightly fruity. Good value for money \\ud83d\\ude0f\",\"Drinkable but poor quality\",\"I am basic but I currently like this bottle and I\\u2019m getting it for $5 from Smart & Final. It\\u2019s relia\",\"Retrospect add, tasted several times yrs ago at stations and so far :)\",\"Full-bodied and has acidity. Meaty enough to chew! \\ud83d\\ude00\",\"Fresh, a little sour, a little sweet\",\"Slightly sour, good with salty things. Less good with cheeses.\",\"Drinkable, nice, well rounded flavour. Not too sweet, a touch dry, good.\",\"Only used in sauce etc\",\"Sweet and fruity aroma, but less layered and easy to get tired of\",\"Good ALC of 13.5%, but really not a fan of the flavor. Will do in a pinch, but would pick something \",\"Tastes a bit like sour cherries. Fairly rough and torn\",\"The young person in her bad state For an end to an aperitif....\",\"Masitttang, moderately bitter and heavy\",\"Dry, good body, flavors of vanilla and red fruits, woody, little acid. Very good\",\"A simple, pleasant drink for everyday life.\",\"The whole thing felt vague. It doesn't have much fruit, but it's soft and easy to drink. The label i\",\"Very good very nice fruity\",\"Fruity\",\"Fruity, smooth and refreshing. You can stock up on Carrefour when it\\u2019s on sale.\",\"Fruity and sweet\",\"Very smooth and light. vanilla vanilla chocolate\",\"Catchy! Unlike the Macron government.\",\"Very fruity and an excellent color\",\"Disgusting. Bitterness, harshness - this is its description\"],\"marker\":{\"opacity\":0.5,\"size\":5},\"mode\":\"markers+text\",\"name\":\"2_fruity_good_drink\",\"text\":[\"\",\"\",\"\",\"\",\"\",\"\",\"\",\"\",\"\",\"\",\"\",\"\",\"\",\"\",\"\",\"\",\"\",\"\",\"\",\"\",\"\",\"\",\"\",\"\",\"\",\"\",\"\",\"\",\"\",\"\",\"\",\"\",\"\",\"\",\"\",\"\",\"\",\"\",\"\",\"\",\"\",\"\",\"\",\"\",\"\",\"\",\"\",\"\",\"\",\"\",\"\",\"\",\"\",\"\",\"\",\"\",\"\",\"\",\"\",\"\",\"\",\"\",\"\",\"\",\"\",\"\",\"\",\"\",\"\",\"\",\"\",\"\",\"\",\"\",\"\",\"\",\"\",\"\",\"\",\"\",\"\",\"\",\"\",\"\",\"\",\"\",\"\",\"\",\"\",\"\",\"\",\"\",\"\",\"\",\"\",\"\",\"\",\"\",\"\",\"\",\"\",\"\",\"\",\"\",\"\",\"\",\"\",\"\",\"\",\"\",\"\",\"\",\"\",\"\",\"\",\"\",\"\",\"\",\"\",\"\",\"\",\"\",\"\",\"\",\"\",\"\",\"\",\"\",\"\",\"\",\"\",\"\",\"\",\"\",\"\",\"\",\"\",\"\",\"\",\"\",\"\",\"\",\"\",\"\",\"\",\"\",\"\",\"\",\"\",\"\",\"\",\"\",\"\",\"\",\"\",\"\",\"\",\"\",\"\",\"\",\"\",\"\",\"\",\"\",\"\",\"\",\"\",\"\"],\"textfont\":{\"size\":12},\"x\":[3.6945488452911377,4.078585147857666,3.2881405353546143,3.7816696166992188,3.1732161045074463,4.1880574226379395,3.426882028579712,3.3102469444274902,3.153374433517456,3.9399237632751465,2.896230459213257,4.350065231323242,3.9554712772369385,3.983879566192627,3.5943400859832764,2.9048895835876465,3.2374775409698486,3.8606350421905518,3.665724992752075,4.234279155731201,3.398740291595459,3.7149527072906494,3.136056900024414,3.482851266860962,3.5877134799957275,3.086312770843506,2.9644250869750977,4.004218101501465,3.537045478820801,3.338225841522217,4.524168968200684,3.103203773498535,3.6757571697235107,3.7527382373809814,3.1190414428710938,3.8234715461730957,3.442617893218994,3.735869884490967,3.8884849548339844,2.777568817138672,3.5555975437164307,3.694540500640869,3.6413493156433105,3.381276845932007,3.95525860786438,3.428717613220215,3.542004346847534,3.1560466289520264,3.782438039779663,4.045214653015137,3.3422653675079346,4.05942440032959,3.8790199756622314,3.8778746128082275,3.827580690383911,3.900881052017212,3.9150354862213135,4.251049518585205,3.1625173091888428,3.4548463821411133,3.705798625946045,3.97946834564209,4.108513355255127,3.6382193565368652,3.9030470848083496,3.744555711746216,3.3879501819610596,4.0103678703308105,3.165069580078125,3.116844415664673,3.260669469833374,3.425025463104248,3.199774742126465,4.559014797210693,3.905419111251831,3.294081926345825,3.500559091567993,4.537782192230225,4.418193340301514,3.9841582775115967,3.777064561843872,3.195512056350708,2.956707239151001,4.234265327453613,3.915630340576172,4.272220134735107,3.835789442062378,4.534234046936035,4.462029457092285,4.0488762855529785,3.082228422164917,4.114098072052002,4.0303955078125,4.3400702476501465,2.653738021850586,3.578094959259033,3.6283719539642334,3.203124523162842,4.499569416046143,4.049368858337402,3.262735605239868,4.348019123077393,4.102120399475098,3.5174853801727295,3.729825496673584,4.291251182556152,4.0160651206970215,3.794337034225464,3.6074626445770264,3.989515781402588,3.88430118560791,2.7032015323638916,4.391190052032471,3.327141284942627,4.2367777824401855,4.298801422119141,4.434105396270752,3.2911336421966553,3.8798086643218994,3.2576589584350586,2.929105758666992,3.5478086471557617,3.0864157676696777,4.218080997467041,3.5767822265625,3.880202531814575,4.534628391265869,4.048123836517334,2.871932029724121,3.7212674617767334,3.7581052780151367,3.738694906234741,4.502139568328857,3.633720874786377,2.8171465396881104,3.1520018577575684,4.154069423675537,3.4320895671844482,3.421661615371704,3.2018394470214844,4.260687828063965,3.136066198348999,3.9367570877075195,3.137481212615967,4.216714859008789,4.213253974914551,3.809478282928467,3.263862371444702,3.749399185180664,3.7230465412139893,3.892115354537964,3.5223276615142822,3.157984733581543,3.7113420963287354,3.6251139640808105,4.223385810852051,3.9485621452331543,3.88562273979187,4.412484169006348,3.5557358264923096,3.115833282470703,3.2711641788482666,3.343949556350708,3.5306079387664795,3.96733021736145,3.4491052627563477,3.102978229522705,4.106022834777832],\"y\":[6.588841438293457,7.1235151290893555,5.856241703033447,7.102565765380859,6.247991561889648,8.441502571105957,5.92844295501709,5.962091445922852,6.924261093139648,7.576892852783203,6.4555888175964355,8.88065242767334,7.253258228302002,8.412939071655273,6.15607213973999,6.263267517089844,6.159960746765137,7.167003154754639,6.3161492347717285,8.0841646194458,6.2632975578308105,6.914351463317871,6.269421577453613,6.325481414794922,7.138906955718994,6.505063533782959,7.137810230255127,6.955238342285156,6.889260292053223,6.947494029998779,8.409746170043945,7.556692600250244,7.209698677062988,6.710244655609131,6.259058952331543,7.182257652282715,7.185264587402344,7.508965969085693,8.779793739318848,6.937977313995361,6.199038028717041,7.009087562561035,7.392450332641602,5.911705493927002,7.128729820251465,5.928753852844238,7.086004257202148,6.032395362854004,6.674319267272949,8.142171859741211,5.849968433380127,7.067259311676025,7.106808185577393,6.815438270568848,7.59618616104126,6.772995948791504,8.64318561553955,8.802937507629395,6.069302558898926,6.01425313949585,6.9924163818359375,8.62011432647705,8.108242988586426,6.807061672210693,7.197639465332031,7.1017913818359375,6.25302267074585,7.895126819610596,6.942933082580566,6.55882453918457,6.385717391967773,6.011834621429443,6.204252243041992,8.444737434387207,7.083810329437256,5.983671188354492,7.368357181549072,8.483475685119629,8.469765663146973,7.0383734703063965,6.4990363121032715,5.7984395027160645,6.407319068908691,8.195189476013184,8.497257232666016,8.038432121276855,6.593240261077881,8.456790924072266,8.502820014953613,7.346132278442383,7.509782791137695,8.787334442138672,6.230406284332275,8.086535453796387,7.040881156921387,6.872549057006836,7.457516670227051,6.469585418701172,8.458566665649414,7.150151252746582,5.956125736236572,8.873242378234863,7.242990016937256,6.029962539672852,7.528133392333984,8.925141334533691,7.279330730438232,6.208139419555664,7.31809663772583,6.860808372497559,7.216404914855957,7.128631591796875,8.522326469421387,5.845596790313721,8.174408912658691,8.71206283569336,8.460138320922852,6.222837924957275,6.863776206970215,5.952591419219971,6.363018989562988,6.22675085067749,6.891380310058594,8.422686576843262,6.110598087310791,8.550199508666992,8.448533058166504,8.452743530273438,6.771209716796875,7.048397064208984,7.286162853240967,6.243995189666748,8.472933769226074,7.499111652374268,6.451083183288574,6.249237537384033,8.39472770690918,6.3386945724487305,5.906790256500244,6.107761859893799,8.478096008300781,6.366967678070068,7.621951580047607,6.143070697784424,8.112709045410156,8.809886932373047,7.0930023193359375,6.277079105377197,6.396534442901611,7.0573225021362305,7.501596450805664,7.255104064941406,6.881038188934326,7.355671405792236,6.902087688446045,8.532472610473633,7.143956184387207,6.611645698547363,8.683151245117188,6.075873374938965,6.238752365112305,5.8322343826293945,6.200003623962402,6.032776355743408,6.614791393280029,5.950960636138916,6.178032398223877,7.304052352905273],\"type\":\"scattergl\"},{\"hoverinfo\":\"text\",\"hovertext\":[\"Very refreshing\",\"Very good\",\"Really bad\",\"Hard to understand what this is \\ud83e\\udd74 Not good.\",\"Didn't really like it\",\"It is what it is \\ud83e\\udd37\\ud83c\\udf77\\ud83e\\udd23\",\"Very good!\",\"Definitely not bad!!!\",\"Just awful\",\"Same review\",\"Very very\",\"Very good\",\"Nothing exciting\",\"Excellent, my favorite!! The best I've ever had, ideal to accompany with a boob and a good family fi\",\"Very good\",\"nothing\",\"Well, no favourite, but quite ok\",\"Still nice\",\"I expected more\",\"I really like\",\"Very strong\",\"I like it\",\"Very good, I would buy again\",\"He supports with nothing\",\"Very good\",\"Honestly, it's pretty swag \\u2694\\ufe0f\\u2694\\ufe0f\\u2694\\ufe0f\\ud83d\\udca5\",\"Very good\",\"Stable\",\"Excellent I love it\",\"I think it's my favorite\",\"Simple, it is what it is. He doesn't dress up, but he fits the bill like jeans.\",\"Not good\",\"Surprise\",\"Love it\",\"Normal\",\"Very good\",\"very bad\",\"Very good, I liked it\",\"not bad\\u2026\",\"Strong but ok\",\"Nice balance Ok \\ud83d\\udc4d\",\"Aight\",\"So damn cute\",\"It\\u2019s in my blood - I love it\",\"Super always liked it\",\"Nice slob\",\"I liked\",\"Surprisingly good\",\"Very good thank you\",\"Very good\",\"I like it. As for the newspaper\",\"My Best, ONE AND ONLY\",\"nice in Finland in a suit\",\"Very good!\",\"Not bed\",\"I adore\",\"I adore!!!!\",\"Very average\",\"Very sweet\",\"Not bad\",\"Not bad\",\"average\",\"So good that \\u263a\\ufe0f\",\"!Just marvelous! I had it as birthday present from my sister and it makes it most special.\",\"I liked it well....\",\"Fuck you\",\"It's good\",\"Straight up lousy\",\"I love\",\"very good !\",\"norm\",\"Very good\",\"I honestly think it's amazing\",\"Strong at first but then good.\",\"Very good\",\"My favorite!\",\"Mom hates got Jorge to like it lol\",\"Very good\",\"Very good\"],\"marker\":{\"opacity\":0.5,\"size\":5},\"mode\":\"markers+text\",\"name\":\"3_good_good good_bad\",\"text\":[\"\",\"\",\"\",\"\",\"\",\"\",\"\",\"\",\"\",\"\",\"\",\"\",\"\",\"\",\"\",\"\",\"\",\"\",\"\",\"\",\"\",\"\",\"\",\"\",\"\",\"\",\"\",\"\",\"\",\"\",\"\",\"\",\"\",\"\",\"\",\"\",\"\",\"\",\"\",\"\",\"\",\"\",\"\",\"\",\"\",\"\",\"\",\"\",\"\",\"\",\"\",\"\",\"\",\"\",\"\",\"\",\"\",\"\",\"\",\"\",\"\",\"\",\"\",\"\",\"\",\"\",\"\",\"\",\"\",\"\",\"\",\"\",\"\",\"\",\"\",\"\",\"\",\"\",\"\"],\"textfont\":{\"size\":12},\"x\":[9.045289039611816,9.055858612060547,8.149275779724121,7.937010288238525,8.107791900634766,7.931901454925537,9.047114372253418,8.198956489562988,8.047229766845703,8.14534854888916,9.065547943115234,9.0317964553833,7.962196350097656,8.217802047729492,9.066106796264648,7.908500671386719,7.186824321746826,7.937636852264404,8.092364311218262,8.01805591583252,6.834263801574707,8.07370376586914,9.056413650512695,7.65581750869751,9.003707885742188,7.59901762008667,9.063213348388672,6.73264217376709,8.201905250549316,7.947205543518066,7.654091835021973,8.0789155960083,8.105506896972656,8.047691345214844,7.034183979034424,9.064773559570312,8.165678024291992,9.037109375,8.188166618347168,6.7741475105285645,6.706408500671387,8.006330490112305,8.034253120422363,7.976474285125732,8.08572769165039,7.80474328994751,8.101615905761719,9.060929298400879,9.074592590332031,9.071283340454102,8.568740844726562,7.26964807510376,7.56525182723999,9.052578926086426,7.9222092628479,8.010668754577637,7.902707576751709,7.201718807220459,8.754350662231445,8.175982475280762,8.195768356323242,7.130630970001221,8.888920783996582,7.620059967041016,8.165765762329102,8.141233444213867,8.474294662475586,7.68393087387085,8.01418399810791,9.054913520812988,7.072719573974609,9.081774711608887,7.910362720489502,6.787465572357178,9.077577590942383,7.5246076583862305,8.07470989227295,9.080099105834961,9.06367015838623],\"y\":[8.133909225463867,8.116023063659668,7.934525489807129,7.842300891876221,7.143993854522705,7.835464000701904,8.10338306427002,7.9445295333862305,7.877790451049805,7.890039443969727,8.132706642150879,8.120736122131348,7.73455286026001,7.9469757080078125,8.123013496398926,7.722806930541992,7.0445733070373535,7.564388751983643,7.3853535652160645,7.106654644012451,7.4040207862854,7.155292987823486,8.124640464782715,7.640591621398926,8.074101448059082,7.761658668518066,8.13133716583252,7.364451885223389,7.1860575675964355,7.1753764152526855,7.716856479644775,7.898193836212158,7.61710262298584,7.043400287628174,7.957887649536133,8.123671531677246,7.905619144439697,8.102093696594238,7.933060646057129,7.374250888824463,7.359793186187744,6.91829776763916,7.099132537841797,7.128717422485352,7.150546073913574,7.310718536376953,7.175698757171631,8.127452850341797,8.127861022949219,8.128490447998047,7.7190351486206055,7.03736686706543,7.750367164611816,8.114133834838867,7.865996360778809,7.060624599456787,7.044902801513672,7.907742977142334,7.830910682678223,7.916763782501221,7.940485954284668,7.879395008087158,8.03504753112793,8.056024551391602,7.149942398071289,6.836561679840088,7.777004241943359,7.915937900543213,7.065472602844238,8.117317199707031,7.854290008544922,8.138762474060059,7.398590087890625,7.397012233734131,8.124116897583008,7.140878677368164,7.188560485839844,8.140753746032715,8.120407104492188],\"type\":\"scattergl\"},{\"hoverinfo\":\"text\",\"hovertext\":[\"Standard Cabernet Sauvignon with that price point\",\"A great Cabernet at value for money! The touch of black fruits, wonderfully indescribable!\",\"Australian Cabernet Sauvignon \\ud83d\\udc41\\ufe0f Pomegranate color \\ud83d\\udc43 Blackberry, blackcurrant, plum, cherry, vanilla\",\"Saint Peter Black Cat. Cabernet Sauvignon 2020 Curico Valley. Chile Patient gift. Deep intense ruby \",\"Gateau Negro, Cabernet Sauvignon, 13 degrees, chile, yumseuhyang... the taste is good...\",\"In addition to its beautiful dark red color, this wine will delight you with the strong scent of che\",\"Light to medium bodied Cabernet Sauvignon, feels like it\\u2019s been bottled far too early. Smooth and ta\",\"Nothing special. Very thin for a cabernet. But it's tasty, good for sangria or something like that\",\"Acceptable Chilean cabernet sauvignon...\",\"Nice deep red color. Interesting nose with notes of blackberries, pepper. Interesting taste with ear\",\"A ruby \\u200b\\u200bred Cabernet Sauvignon, with aromas of cherries, black currants and black plum. It is rich \",\"A good cabernet for meat dishes.\",\"This made me not want to drink cab for a while. Way too sweet, tasted almost syrup-like. I would not\",\"Ordinary cabernet sauvignon. Maybe a little brighter than usual - thanks to the Chilean sun.\",\"One good option for today Whoo Hoo \\ud83c\\udf77 \\ud83e\\udddb\\u200d\\u2642\\ufe0f \\ud83d\\udc40 = Dark Ruby Red \\ud83d\\udc43 = Aromas of Red Fruits, Cassis, Vanill\",\"This Chilean Cabernet Sauvignon was a pleasant discovery, with an explosion of cherry on the nose, w\",\"A good Chilean Cabernet. Classic\",\"Not a big fan of Cabernet Sauvignon in general, but a very nice bottle, very balanced, ideal with a \",\"It was my first time drinking Casillero del diablo. It was a little sour at first, but after a few d\",\"The demonstration that cab sauv is a cynical grape, which just needs to be propagated and venerated \",\"I don't like wines in the mid-10,000 won range... I think I'll drink Barefoot Cabernet Sauvignon.\",\"Very tasty Cabernet Sauvignon. Smooth, goes very well with pizza\",\"Casillero del diablo Cabernet Sauvignon Central Valley Chile Ruby color of medium intensity. Aromas \",\"The tradition of a light, closed wine that, over time in the glass, exudes aromas of red fruits and \",\"Chile does Cabernet Sauvignon very well. And Gato Negro is a great example for a really affordable o\",\"Casillero del Diablo Red \\ud83c\\udf77 Dry Oaked 2019 13.5% Central Valley, Chile \\ud83c\\udde8\\ud83c\\uddf1 Variety: Cabernet Sauvignon\",\"The wine is heavy, with soft tannins, a bit sweet, and lacks layering. It tastes like grape-flavored\",\"CVKUF garden party. Blind tasting competition layer 3: Strong and abrupt smell of oak chips, USA Pin\",\"Not my favorite cabernet, but on offer 2 for \\u20ac8 or so, so yes.\",\"Serve this chilled and it\\u2019s going to be very difficult to find a better cab sauv in this price range\",\"Nice bottle, but kept taking me to the page for the normal casillero del Diablo. This in unacceptabl\",\"Cabernet never disappoints. Excellent grape and excellent wine. Black cat surprised me. A good wine \",\"Among sauvignons, it has a strong taste and strong acidity. I don't like it.\",\"Nice as a good Cabernet Sauvignon\",\"Ready to drink, fresh, zingy Cab Sauv. Red fruit on the nose with some vanilla. Medium to heavy in b\",\"Sauvignon with a light body, ruby, light tannins... it is not a striking wine. However, good value f\",\"Aussie 100% Cabernet Sauvignon, Deep purple hue, not bad but nothing special taste. Smooth tannins a\",\"Cab Sauv - \\ud83c\\udde8\\ud83c\\uddf1 Buy Again? \\u274c \\ud83d\\udcb0 Gift \\ud83e\\udd37 Central Valley. Cassis & blackberry but an unwelcome vegetal tas\",\"Excellent Cabernet Sauvignon! However, the value in the Brazilian market is high.\",\"Tastes like Cabernet Sauvignon, young and a little mischievous. Always have a bunch in the cellar, b\",\"Supermarket\\u002fparty cabernet. Jammy and overly fruity. A bit artificial\\u002fcooked fruit, full bodied. 82\\u002f\",\"Half mouth Cabernet... Break a deal when you have no other options\",\"Rovaniemi, very good cabernet from chile, from original grapes from Europe old continent\",\"Casillero del Diablo Cabernet Sauvignon has rich, full-bodied flavor profile with notes of black cur\",\"Bouquet of leather and dark fruit, black cherry or jam. After my dad read the what the label says (c\",\"Nice soft cabernet\",\"An interesting dark red, oaky with hints of prune, I think it's a bit too tannic for a Cabernet.\",\"After a long, exhausting hike, through mires and rivers, from early sunset to dawn, this wine smells\",\"The nose is not unpleasant, but fairly uniform. The standardized product side is there. A certain sw\",\"Sauvignon bom\",\"I used this for cooking, but it\\u2019s drinkable wine. Deep color fruity and sweeter than most Cabernet\",\"Good tasting Cabernet Sauvignon.\",\"Decent Cabernet Sauvignon with very good value for money. A certain woodiness on the palate.\",\"A traditional Cabernet. Tannin at the beginning and leather at the end.\",\"Cheap but drinkable Chilean Cabernet Sauvignon. On the nose notes of blackberry, cocoa and spices. M\",\"Light colour and nose for a Cab. Ribena and strawberries on the nose. Decent structure and a mild, o\",\"South Eastern Australian wine. \\\"classic and velvety, with notes of juicy blackcurrants, sweet mocha \",\"A good Cabernet! Reminiscent of ripe red fruits in aroma and taste. It is a wine without error. Whet\",\"Solid juicy cab\",\"Rubber, minerals, a bit of prune, typical unbalanced Chilean cabernet. Too much taste of rubber, poo\",\"An Australian Cabernet. Full-bodied ruby \\u200b\\u200blook and aroma of ripe fruits. It has soft and firm tanni\",\"Announced light and fruity, this Cabernet Sauvignon delivers on its promise, with a very reduced pri\",\"This Chilean Cabernet Sauvignon is a classic. Dark ruby \\u200b\\u200bcolor, plum aromas. Flavor with spicy note\",\"Cherry flavour. Nothing more recognizable than that. Still your perfect okay cabernet sauvignon\",\"It\\u2019s a decent Australian Cabernet Sauvignon with blackcurrant, mocha and spices at 13.5%. \\ud83c\\udf77\\ud83c\\udf77\\ud83c\\udf77\",\"Quite sunny, it is not a model of balance but does not catch the palate. Correct but not unforgettab\",\"winesoeasy.com THE HARMONY All Balanced Smooth Medium-Full Body Oak Famous Harmonies Cabernet Sauvig\"],\"marker\":{\"opacity\":0.5,\"size\":5},\"mode\":\"markers+text\",\"name\":\"4_medium_like_tannins\",\"text\":[\"\",\"\",\"\",\"\",\"\",\"\",\"\",\"\",\"\",\"\",\"\",\"\",\"\",\"\",\"\",\"\",\"\",\"\",\"\",\"\",\"\",\"\",\"\",\"\",\"\",\"\",\"\",\"\",\"\",\"\",\"\",\"\",\"\",\"\",\"\",\"\",\"\",\"\",\"\",\"\",\"\",\"\",\"\",\"\",\"\",\"\",\"\",\"\",\"\",\"\",\"\",\"\",\"\",\"\",\"\",\"\",\"\",\"\",\"\",\"\",\"\",\"\",\"\",\"\",\"\",\"\",\"\"],\"textfont\":{\"size\":12},\"x\":[-0.5437904596328735,-0.3632136285305023,-0.3342071771621704,-0.6305519938468933,-0.4349123537540436,-0.2053953856229782,-0.5568602085113525,-0.39653706550598145,-0.5016131401062012,-0.40170878171920776,-0.4384603500366211,-0.41528555750846863,-0.3782326579093933,-0.57908695936203,-0.1007855162024498,-0.5318682789802551,-0.1947883814573288,-0.5118569135665894,-0.20947381854057312,-0.4631539285182953,-0.5015014410018921,-0.535243570804596,-0.28413358330726624,-0.5586763620376587,-0.5368208885192871,-0.313075989484787,-0.3296383321285248,-0.3003268837928772,-0.33612146973609924,-0.43769940733909607,-0.1888032704591751,-0.6097737550735474,-0.4774368107318878,-0.5160048604011536,-0.45808982849121094,0.02614421211183071,-0.33214661478996277,-0.4347763955593109,-0.5170169472694397,-0.5343974232673645,-0.2964421212673187,-0.30939310789108276,-0.26118549704551697,-0.2707829177379608,-0.4301130175590515,-0.2833070755004883,-0.3410271108150482,-0.22521184384822845,-0.17850743234157562,-0.5497992634773254,-0.25983428955078125,-0.5091770887374878,-0.4837760627269745,-0.3794786334037781,-0.4957231879234314,-0.34730592370033264,-0.11028317362070084,-0.35298970341682434,-0.332254558801651,-0.1452597975730896,-0.38375452160835266,-0.545142412185669,-0.42953741550445557,-0.5480143427848816,-0.43540480732917786,-0.5625085830688477,-0.480241984128952],\"y\":[10.86939811706543,10.376380920410156,10.72946548461914,10.601044654846191,10.896221160888672,10.530285835266113,10.887700080871582,10.27973461151123,10.90973949432373,10.654251098632812,10.694538116455078,10.397048950195312,10.32214069366455,10.9293794631958,10.70133113861084,10.845107078552246,10.523920059204102,10.892419815063477,11.075239181518555,10.73523998260498,10.881110191345215,10.878725051879883,10.99753189086914,10.779803276062012,10.88181209564209,10.925484657287598,10.531830787658691,10.653247833251953,10.438060760498047,10.486031532287598,11.081562042236328,10.304792404174805,10.769688606262207,10.922853469848633,10.614300727844238,10.657336235046387,10.741106986999512,10.598538398742676,10.877229690551758,10.755398750305176,10.281671524047852,10.454418182373047,10.734273910522461,11.060484886169434,10.550891876220703,10.423748016357422,10.400506019592285,10.428689002990723,10.500207901000977,10.868254661560059,10.338991165161133,10.840657234191895,10.891955375671387,10.463571548461914,10.83154582977295,10.424809455871582,10.779744148254395,10.407913208007812,10.406518936157227,10.464871406555176,10.536203384399414,10.830403327941895,10.8605318069458,10.846158981323242,10.872115135192871,10.919636726379395,10.844870567321777],\"type\":\"scattergl\"},{\"hoverinfo\":\"text\",\"hovertext\":[\"It\\u2019s just okay. Good price.\",\"Good value for money\",\"Good value\",\"Good value\",\"Good value!\",\"Great value for money\",\"I took it at home\",\"Good quality-price ratio\",\"Excellent value for money\",\"Nice surprise. Excellent value for money\",\"Repurchase+, repurchase because my husband likes it\",\"Got it for 10.99 not bad\",\"Price to quality is great.\",\"Not bad for the price\",\"For the value, excellent\",\"Nothing wrong with it.\",\"Well, somewhat okay in this price range. But I doubt to get this one again\",\"Good taste and good value for money\",\"One of my favourites considering the price, very reliable like a black lab\",\"Good value for money\",\"Good value\",\"Excellent for the price\",\"Very good great value for money\",\"Good price\",\"Good value.\",\"Excellent value for money ratio. It improves with time.\",\"Excellent value for money\",\"Good value for money\",\"Good price\\u002fquality ratio\",\"For $5 bucks I ain\\u2019t mad at it.\",\"Excellent value for money.\",\"Great value for money! We love it\",\"For money yes, for money yes. This could have been the best $6 investment I've ever made, but alas, \",\"Really not bad for the price\",\"Very good value for money\",\"Nice good price quality\",\"You get what you pay\",\"Considering the price, I have to give it this rating. (Sale price 9,000 units)\",\"I always take it. I really like it It has all the benefits (price and quality)\",\"Nothing special, but quite good\",\"It worths 10 dollar\",\"Best value for money.\",\"Totally okay for the price!\",\"Great value for money\",\"Good for this money\",\"Good value for money, quite powerful\",\"Homeplus 7,000 won, not bad value for money\",\"good value for price\",\"Nothing special , buy something else\",\"You get what you pay for.\",\"Very good value for money .\"],\"marker\":{\"opacity\":0.5,\"size\":5},\"mode\":\"markers+text\",\"name\":\"5_value_money_value money\",\"text\":[\"\",\"\",\"\",\"\",\"\",\"\",\"\",\"\",\"\",\"\",\"\",\"\",\"\",\"\",\"\",\"\",\"\",\"\",\"\",\"\",\"\",\"\",\"\",\"\",\"\",\"\",\"\",\"\",\"\",\"\",\"\",\"\",\"\",\"\",\"\",\"\",\"\",\"\",\"\",\"\",\"\",\"\",\"\",\"\",\"\",\"\",\"\",\"\",\"\",\"\",\"\"],\"textfont\":{\"size\":12},\"x\":[7.016749382019043,7.076436519622803,7.584991455078125,7.596907615661621,7.604240894317627,7.220967769622803,6.67250394821167,7.071561813354492,7.201421737670898,7.2871599197387695,6.529647350311279,7.024993896484375,6.973944187164307,7.063775062561035,7.150548458099365,7.115986347198486,6.985326290130615,6.965803146362305,6.536423206329346,7.097529411315918,7.583103179931641,7.116074562072754,7.24113655090332,7.550564289093018,7.598363399505615,7.109048843383789,7.162225246429443,7.045741081237793,7.035558700561523,7.062854766845703,7.217310428619385,7.264861106872559,7.129814624786377,7.064899921417236,7.224136829376221,7.335190773010254,6.868136882781982,7.04852819442749,6.510076522827148,6.461237907409668,7.091831684112549,7.087915897369385,7.003952503204346,7.219285011291504,7.05148983001709,7.146466255187988,7.030576229095459,7.124300003051758,6.464451313018799,6.839341640472412,7.259607791900635],\"y\":[9.037184715270996,9.595044136047363,9.532301902770996,9.53388500213623,9.52413558959961,9.524107933044434,8.935081481933594,9.59748649597168,9.497828483581543,9.432145118713379,9.056784629821777,9.133075714111328,9.553789138793945,9.10973834991455,9.33540153503418,8.90013313293457,8.996926307678223,9.528666496276855,8.856130599975586,9.59241008758545,9.535356521606445,9.24943733215332,9.468886375427246,9.501422882080078,9.532271385192871,9.606356620788574,9.522404670715332,9.644434928894043,9.609606742858887,9.152295112609863,9.49667739868164,9.45156192779541,9.598522186279297,9.149261474609375,9.478095054626465,9.437067031860352,9.613255500793457,9.599141120910645,8.933188438415527,8.945759773254395,9.312633514404297,9.623068809509277,9.033775329589844,9.49777889251709,9.616903305053711,9.50533676147461,9.65705680847168,9.553609848022461,8.92305850982666,9.58333683013916,9.479435920715332],\"type\":\"scattergl\"},{\"hoverinfo\":\"text\",\"hovertext\":[\"Soft, light\",\"Imagine a dry personality! They don't happen that much! But good for the price\",\"so so. light.\",\"Too dry for my liking!\",\"Semi-dry, pair with cjileven nogada. Good, overalls not Spectacular\",\"Dry, light\",\"Smooth\",\"A little dry.. average rating\",\"Pleasant to the palate. Woody.\",\"Smooth start and dry finish at the end.\",\"The truth is that although it is a little dry, it is smooth, it can be taken causally even without t\",\"Decent, a bit too dry.\",\"Bold but Smooth, dry, not so sweet - everything just right\",\"Bold and dry - good value for the price, but not delicate on the flavours\",\"Poured\",\"Dry and too strong\",\"Discreet. Advised.\",\"Dry, good value\",\"A bit sharp\\u002f tannic but goes down well\",\"Nice and soft and supple\",\"Strong & dry\",\"Quite ok, but not very good. Cannot be measured with valpolicella\",\"Yes, nice and soft\",\"I liked it, dry and very striking!\",\"Hhhmm, needs a bit more density\",\"Not a terrible choice but not the best either. Rather on the dry side, I would say.\",\"Dry and delicious\",\"Softer than expected, perfect for everyday use\",\"Decent and a good value. A bit jammy, but still sufficiently dry. Fairly simple and straightforward.\",\"She's as rough as Kiki from Kiki's Delivery Service.\",\"Very soft\",\"Sweat and normal\",\"A little watery\",\"Light, woody\",\"Not expressive. Not good and not bad\",\"Smooth as hell, like a christopher nolan movie, leaves more to be desired at the end \\ud83d\\ude0b\",\"Too dry and too oaky for me.\",\"Quite pleasant, a proven choice.\",\"Light and smooth\",\"Very smooth and pleasant, I liked it.\",\"Dry, amazing price and worth it.\",\"Smooth, one of the best\",\"I think it\\u2019s pretty \\u201cwatery\\u201d for the price\",\"A bit flat\",\"Dry, very pleasant with fresh pasta\",\"Honest.\",\"Just a flat hit\",\"Fairly bold and dry. Quite nice.\",\"Needs to breathe\",\"Good and filling,\"],\"marker\":{\"opacity\":0.5,\"size\":5},\"mode\":\"markers+text\",\"name\":\"6_dry_smooth_bit\",\"text\":[\"\",\"\",\"\",\"\",\"\",\"\",\"\",\"\",\"\",\"\",\"\",\"\",\"\",\"\",\"\",\"\",\"\",\"\",\"\",\"\",\"\",\"\",\"\",\"\",\"\",\"\",\"\",\"\",\"\",\"\",\"\",\"\",\"\",\"\",\"\",\"\",\"\",\"\",\"\",\"\",\"\",\"\",\"\",\"\",\"\",\"\",\"\",\"\",\"\",\"\"],\"textfont\":{\"size\":12},\"x\":[5.316065311431885,5.293818473815918,5.2215576171875,5.263624668121338,5.2824015617370605,5.253092288970947,5.694649696350098,5.2565717697143555,5.117862224578857,5.629325866699219,5.304321765899658,5.280641078948975,4.78561544418335,4.695330619812012,5.071825981140137,5.205965995788574,5.287982940673828,5.236104965209961,5.673649311065674,5.37076997756958,5.251522064208984,5.217111110687256,5.332830905914307,5.300831317901611,5.109346866607666,5.357488632202148,5.019320964813232,5.394425392150879,5.233100891113281,5.285592079162598,5.347581386566162,5.445410251617432,5.126531600952148,5.226308822631836,4.940084934234619,5.681965351104736,5.218297004699707,5.58390998840332,5.647250652313232,5.4874677658081055,5.2515950202941895,5.664185047149658,5.132777214050293,5.594781398773193,5.07883358001709,5.328256130218506,5.667623043060303,4.851380348205566,4.962928295135498,5.008444786071777],\"y\":[6.778299808502197,7.182560920715332,6.6487884521484375,7.103151798248291,7.030239582061768,6.875667572021484,6.93030309677124,7.073033332824707,6.69234561920166,6.9368791580200195,7.127377986907959,7.108297824859619,6.76754903793335,6.749960422515869,7.257835388183594,7.043835639953613,7.254184246063232,7.008379936218262,6.961075782775879,6.876980304718018,6.993988990783691,7.258492946624756,6.809812545776367,7.060601711273193,7.294252395629883,7.079023838043213,6.929442405700684,6.866443634033203,7.166114330291748,6.861555099487305,6.828249454498291,7.264229774475098,7.209726810455322,6.7510294914245605,6.718088150024414,6.9231648445129395,7.0819783210754395,7.001430988311768,6.891732692718506,6.972647666931152,7.050017356872559,6.951834201812744,7.228875637054443,7.110592365264893,6.9629082679748535,7.342985153198242,7.070909023284912,6.845296382904053,7.344417095184326,7.248643398284912],\"type\":\"scattergl\"}],                        {\"template\":{\"data\":{\"barpolar\":[{\"marker\":{\"line\":{\"color\":\"white\",\"width\":0.5},\"pattern\":{\"fillmode\":\"overlay\",\"size\":10,\"solidity\":0.2}},\"type\":\"barpolar\"}],\"bar\":[{\"error_x\":{\"color\":\"rgb(36,36,36)\"},\"error_y\":{\"color\":\"rgb(36,36,36)\"},\"marker\":{\"line\":{\"color\":\"white\",\"width\":0.5},\"pattern\":{\"fillmode\":\"overlay\",\"size\":10,\"solidity\":0.2}},\"type\":\"bar\"}],\"carpet\":[{\"aaxis\":{\"endlinecolor\":\"rgb(36,36,36)\",\"gridcolor\":\"white\",\"linecolor\":\"white\",\"minorgridcolor\":\"white\",\"startlinecolor\":\"rgb(36,36,36)\"},\"baxis\":{\"endlinecolor\":\"rgb(36,36,36)\",\"gridcolor\":\"white\",\"linecolor\":\"white\",\"minorgridcolor\":\"white\",\"startlinecolor\":\"rgb(36,36,36)\"},\"type\":\"carpet\"}],\"choropleth\":[{\"colorbar\":{\"outlinewidth\":1,\"tickcolor\":\"rgb(36,36,36)\",\"ticks\":\"outside\"},\"type\":\"choropleth\"}],\"contourcarpet\":[{\"colorbar\":{\"outlinewidth\":1,\"tickcolor\":\"rgb(36,36,36)\",\"ticks\":\"outside\"},\"type\":\"contourcarpet\"}],\"contour\":[{\"colorbar\":{\"outlinewidth\":1,\"tickcolor\":\"rgb(36,36,36)\",\"ticks\":\"outside\"},\"colorscale\":[[0.0,\"#440154\"],[0.1111111111111111,\"#482878\"],[0.2222222222222222,\"#3e4989\"],[0.3333333333333333,\"#31688e\"],[0.4444444444444444,\"#26828e\"],[0.5555555555555556,\"#1f9e89\"],[0.6666666666666666,\"#35b779\"],[0.7777777777777778,\"#6ece58\"],[0.8888888888888888,\"#b5de2b\"],[1.0,\"#fde725\"]],\"type\":\"contour\"}],\"heatmapgl\":[{\"colorbar\":{\"outlinewidth\":1,\"tickcolor\":\"rgb(36,36,36)\",\"ticks\":\"outside\"},\"colorscale\":[[0.0,\"#440154\"],[0.1111111111111111,\"#482878\"],[0.2222222222222222,\"#3e4989\"],[0.3333333333333333,\"#31688e\"],[0.4444444444444444,\"#26828e\"],[0.5555555555555556,\"#1f9e89\"],[0.6666666666666666,\"#35b779\"],[0.7777777777777778,\"#6ece58\"],[0.8888888888888888,\"#b5de2b\"],[1.0,\"#fde725\"]],\"type\":\"heatmapgl\"}],\"heatmap\":[{\"colorbar\":{\"outlinewidth\":1,\"tickcolor\":\"rgb(36,36,36)\",\"ticks\":\"outside\"},\"colorscale\":[[0.0,\"#440154\"],[0.1111111111111111,\"#482878\"],[0.2222222222222222,\"#3e4989\"],[0.3333333333333333,\"#31688e\"],[0.4444444444444444,\"#26828e\"],[0.5555555555555556,\"#1f9e89\"],[0.6666666666666666,\"#35b779\"],[0.7777777777777778,\"#6ece58\"],[0.8888888888888888,\"#b5de2b\"],[1.0,\"#fde725\"]],\"type\":\"heatmap\"}],\"histogram2dcontour\":[{\"colorbar\":{\"outlinewidth\":1,\"tickcolor\":\"rgb(36,36,36)\",\"ticks\":\"outside\"},\"colorscale\":[[0.0,\"#440154\"],[0.1111111111111111,\"#482878\"],[0.2222222222222222,\"#3e4989\"],[0.3333333333333333,\"#31688e\"],[0.4444444444444444,\"#26828e\"],[0.5555555555555556,\"#1f9e89\"],[0.6666666666666666,\"#35b779\"],[0.7777777777777778,\"#6ece58\"],[0.8888888888888888,\"#b5de2b\"],[1.0,\"#fde725\"]],\"type\":\"histogram2dcontour\"}],\"histogram2d\":[{\"colorbar\":{\"outlinewidth\":1,\"tickcolor\":\"rgb(36,36,36)\",\"ticks\":\"outside\"},\"colorscale\":[[0.0,\"#440154\"],[0.1111111111111111,\"#482878\"],[0.2222222222222222,\"#3e4989\"],[0.3333333333333333,\"#31688e\"],[0.4444444444444444,\"#26828e\"],[0.5555555555555556,\"#1f9e89\"],[0.6666666666666666,\"#35b779\"],[0.7777777777777778,\"#6ece58\"],[0.8888888888888888,\"#b5de2b\"],[1.0,\"#fde725\"]],\"type\":\"histogram2d\"}],\"histogram\":[{\"marker\":{\"line\":{\"color\":\"white\",\"width\":0.6}},\"type\":\"histogram\"}],\"mesh3d\":[{\"colorbar\":{\"outlinewidth\":1,\"tickcolor\":\"rgb(36,36,36)\",\"ticks\":\"outside\"},\"type\":\"mesh3d\"}],\"parcoords\":[{\"line\":{\"colorbar\":{\"outlinewidth\":1,\"tickcolor\":\"rgb(36,36,36)\",\"ticks\":\"outside\"}},\"type\":\"parcoords\"}],\"pie\":[{\"automargin\":true,\"type\":\"pie\"}],\"scatter3d\":[{\"line\":{\"colorbar\":{\"outlinewidth\":1,\"tickcolor\":\"rgb(36,36,36)\",\"ticks\":\"outside\"}},\"marker\":{\"colorbar\":{\"outlinewidth\":1,\"tickcolor\":\"rgb(36,36,36)\",\"ticks\":\"outside\"}},\"type\":\"scatter3d\"}],\"scattercarpet\":[{\"marker\":{\"colorbar\":{\"outlinewidth\":1,\"tickcolor\":\"rgb(36,36,36)\",\"ticks\":\"outside\"}},\"type\":\"scattercarpet\"}],\"scattergeo\":[{\"marker\":{\"colorbar\":{\"outlinewidth\":1,\"tickcolor\":\"rgb(36,36,36)\",\"ticks\":\"outside\"}},\"type\":\"scattergeo\"}],\"scattergl\":[{\"marker\":{\"colorbar\":{\"outlinewidth\":1,\"tickcolor\":\"rgb(36,36,36)\",\"ticks\":\"outside\"}},\"type\":\"scattergl\"}],\"scattermapbox\":[{\"marker\":{\"colorbar\":{\"outlinewidth\":1,\"tickcolor\":\"rgb(36,36,36)\",\"ticks\":\"outside\"}},\"type\":\"scattermapbox\"}],\"scatterpolargl\":[{\"marker\":{\"colorbar\":{\"outlinewidth\":1,\"tickcolor\":\"rgb(36,36,36)\",\"ticks\":\"outside\"}},\"type\":\"scatterpolargl\"}],\"scatterpolar\":[{\"marker\":{\"colorbar\":{\"outlinewidth\":1,\"tickcolor\":\"rgb(36,36,36)\",\"ticks\":\"outside\"}},\"type\":\"scatterpolar\"}],\"scatter\":[{\"fillpattern\":{\"fillmode\":\"overlay\",\"size\":10,\"solidity\":0.2},\"type\":\"scatter\"}],\"scatterternary\":[{\"marker\":{\"colorbar\":{\"outlinewidth\":1,\"tickcolor\":\"rgb(36,36,36)\",\"ticks\":\"outside\"}},\"type\":\"scatterternary\"}],\"surface\":[{\"colorbar\":{\"outlinewidth\":1,\"tickcolor\":\"rgb(36,36,36)\",\"ticks\":\"outside\"},\"colorscale\":[[0.0,\"#440154\"],[0.1111111111111111,\"#482878\"],[0.2222222222222222,\"#3e4989\"],[0.3333333333333333,\"#31688e\"],[0.4444444444444444,\"#26828e\"],[0.5555555555555556,\"#1f9e89\"],[0.6666666666666666,\"#35b779\"],[0.7777777777777778,\"#6ece58\"],[0.8888888888888888,\"#b5de2b\"],[1.0,\"#fde725\"]],\"type\":\"surface\"}],\"table\":[{\"cells\":{\"fill\":{\"color\":\"rgb(237,237,237)\"},\"line\":{\"color\":\"white\"}},\"header\":{\"fill\":{\"color\":\"rgb(217,217,217)\"},\"line\":{\"color\":\"white\"}},\"type\":\"table\"}]},\"layout\":{\"annotationdefaults\":{\"arrowhead\":0,\"arrowwidth\":1},\"autotypenumbers\":\"strict\",\"coloraxis\":{\"colorbar\":{\"outlinewidth\":1,\"tickcolor\":\"rgb(36,36,36)\",\"ticks\":\"outside\"}},\"colorscale\":{\"diverging\":[[0.0,\"rgb(103,0,31)\"],[0.1,\"rgb(178,24,43)\"],[0.2,\"rgb(214,96,77)\"],[0.3,\"rgb(244,165,130)\"],[0.4,\"rgb(253,219,199)\"],[0.5,\"rgb(247,247,247)\"],[0.6,\"rgb(209,229,240)\"],[0.7,\"rgb(146,197,222)\"],[0.8,\"rgb(67,147,195)\"],[0.9,\"rgb(33,102,172)\"],[1.0,\"rgb(5,48,97)\"]],\"sequential\":[[0.0,\"#440154\"],[0.1111111111111111,\"#482878\"],[0.2222222222222222,\"#3e4989\"],[0.3333333333333333,\"#31688e\"],[0.4444444444444444,\"#26828e\"],[0.5555555555555556,\"#1f9e89\"],[0.6666666666666666,\"#35b779\"],[0.7777777777777778,\"#6ece58\"],[0.8888888888888888,\"#b5de2b\"],[1.0,\"#fde725\"]],\"sequentialminus\":[[0.0,\"#440154\"],[0.1111111111111111,\"#482878\"],[0.2222222222222222,\"#3e4989\"],[0.3333333333333333,\"#31688e\"],[0.4444444444444444,\"#26828e\"],[0.5555555555555556,\"#1f9e89\"],[0.6666666666666666,\"#35b779\"],[0.7777777777777778,\"#6ece58\"],[0.8888888888888888,\"#b5de2b\"],[1.0,\"#fde725\"]]},\"colorway\":[\"#1F77B4\",\"#FF7F0E\",\"#2CA02C\",\"#D62728\",\"#9467BD\",\"#8C564B\",\"#E377C2\",\"#7F7F7F\",\"#BCBD22\",\"#17BECF\"],\"font\":{\"color\":\"rgb(36,36,36)\"},\"geo\":{\"bgcolor\":\"white\",\"lakecolor\":\"white\",\"landcolor\":\"white\",\"showlakes\":true,\"showland\":true,\"subunitcolor\":\"white\"},\"hoverlabel\":{\"align\":\"left\"},\"hovermode\":\"closest\",\"mapbox\":{\"style\":\"light\"},\"paper_bgcolor\":\"white\",\"plot_bgcolor\":\"white\",\"polar\":{\"angularaxis\":{\"gridcolor\":\"rgb(232,232,232)\",\"linecolor\":\"rgb(36,36,36)\",\"showgrid\":false,\"showline\":true,\"ticks\":\"outside\"},\"bgcolor\":\"white\",\"radialaxis\":{\"gridcolor\":\"rgb(232,232,232)\",\"linecolor\":\"rgb(36,36,36)\",\"showgrid\":false,\"showline\":true,\"ticks\":\"outside\"}},\"scene\":{\"xaxis\":{\"backgroundcolor\":\"white\",\"gridcolor\":\"rgb(232,232,232)\",\"gridwidth\":2,\"linecolor\":\"rgb(36,36,36)\",\"showbackground\":true,\"showgrid\":false,\"showline\":true,\"ticks\":\"outside\",\"zeroline\":false,\"zerolinecolor\":\"rgb(36,36,36)\"},\"yaxis\":{\"backgroundcolor\":\"white\",\"gridcolor\":\"rgb(232,232,232)\",\"gridwidth\":2,\"linecolor\":\"rgb(36,36,36)\",\"showbackground\":true,\"showgrid\":false,\"showline\":true,\"ticks\":\"outside\",\"zeroline\":false,\"zerolinecolor\":\"rgb(36,36,36)\"},\"zaxis\":{\"backgroundcolor\":\"white\",\"gridcolor\":\"rgb(232,232,232)\",\"gridwidth\":2,\"linecolor\":\"rgb(36,36,36)\",\"showbackground\":true,\"showgrid\":false,\"showline\":true,\"ticks\":\"outside\",\"zeroline\":false,\"zerolinecolor\":\"rgb(36,36,36)\"}},\"shapedefaults\":{\"fillcolor\":\"black\",\"line\":{\"width\":0},\"opacity\":0.3},\"ternary\":{\"aaxis\":{\"gridcolor\":\"rgb(232,232,232)\",\"linecolor\":\"rgb(36,36,36)\",\"showgrid\":false,\"showline\":true,\"ticks\":\"outside\"},\"baxis\":{\"gridcolor\":\"rgb(232,232,232)\",\"linecolor\":\"rgb(36,36,36)\",\"showgrid\":false,\"showline\":true,\"ticks\":\"outside\"},\"bgcolor\":\"white\",\"caxis\":{\"gridcolor\":\"rgb(232,232,232)\",\"linecolor\":\"rgb(36,36,36)\",\"showgrid\":false,\"showline\":true,\"ticks\":\"outside\"}},\"title\":{\"x\":0.05},\"xaxis\":{\"automargin\":true,\"gridcolor\":\"rgb(232,232,232)\",\"linecolor\":\"rgb(36,36,36)\",\"showgrid\":false,\"showline\":true,\"ticks\":\"outside\",\"title\":{\"standoff\":15},\"zeroline\":false,\"zerolinecolor\":\"rgb(36,36,36)\"},\"yaxis\":{\"automargin\":true,\"gridcolor\":\"rgb(232,232,232)\",\"linecolor\":\"rgb(36,36,36)\",\"showgrid\":false,\"showline\":true,\"ticks\":\"outside\",\"title\":{\"standoff\":15},\"zeroline\":false,\"zerolinecolor\":\"rgb(36,36,36)\"}}},\"shapes\":[{\"line\":{\"color\":\"#CFD8DC\",\"width\":2},\"type\":\"line\",\"x0\":3.857385665178299,\"x1\":3.857385665178299,\"y0\":4.1637776613235475,\"y1\":13.47300033569336},{\"line\":{\"color\":\"#9E9E9E\",\"width\":2},\"type\":\"line\",\"x0\":-2.828013265132904,\"x1\":10.542784595489502,\"y0\":8.818388998508453,\"y1\":8.818388998508453}],\"annotations\":[{\"showarrow\":false,\"text\":\"D1\",\"x\":-2.828013265132904,\"y\":8.818388998508453,\"yshift\":10},{\"showarrow\":false,\"text\":\"D2\",\"x\":3.857385665178299,\"xshift\":10,\"y\":13.47300033569336}],\"title\":{\"font\":{\"size\":22,\"color\":\"Black\"},\"text\":\"\\u003cb\\u003eDocuments and Topics\\u003c\\u002fb\\u003e\",\"x\":0.5,\"xanchor\":\"center\",\"yanchor\":\"top\"},\"width\":1200,\"height\":750,\"xaxis\":{\"visible\":false},\"yaxis\":{\"visible\":false}},                        {\"responsive\": true}                    ).then(function(){\n",
              "                            \n",
              "var gd = document.getElementById('ef779b94-74f9-4cf8-9aaf-7d8e151026e6');\n",
              "var x = new MutationObserver(function (mutations, observer) {{\n",
              "        var display = window.getComputedStyle(gd).display;\n",
              "        if (!display || display === 'none') {{\n",
              "            console.log([gd, 'removed!']);\n",
              "            Plotly.purge(gd);\n",
              "            observer.disconnect();\n",
              "        }}\n",
              "}});\n",
              "\n",
              "// Listen for the removal of the full notebook cells\n",
              "var notebookContainer = gd.closest('#notebook-container');\n",
              "if (notebookContainer) {{\n",
              "    x.observe(notebookContainer, {childList: true});\n",
              "}}\n",
              "\n",
              "// Listen for the clearing of the current output cell\n",
              "var outputEl = gd.closest('.output');\n",
              "if (outputEl) {{\n",
              "    x.observe(outputEl, {childList: true});\n",
              "}}\n",
              "\n",
              "                        })                };                            </script>        </div>\n",
              "</body>\n",
              "</html>"
            ]
          },
          "metadata": {}
        }
      ],
      "source": [
        "titles = [x[:100] for x in docs]\n",
        "topics_to_visualize = range(20)\n",
        "\n",
        "topic_model.visualize_documents(titles, reduced_embeddings=reduced_embeddings,\n",
        "                                hide_annotations=True, hide_document_hover=False,\n",
        "                                topics=topics_to_visualize,\n",
        "                                #custom_labels=True\n",
        "                                )"
      ]
    },
    {
      "cell_type": "markdown",
      "metadata": {
        "id": "wdDXtlkKB0WY"
      },
      "source": [
        "## Topics per Class"
      ]
    },
    {
      "cell_type": "code",
      "execution_count": null,
      "metadata": {
        "id": "UuZwl-2LUwnz",
        "colab": {
          "base_uri": "https://localhost:8080/"
        },
        "outputId": "6b6102f2-941c-4cca-de04-91f1e0b7f394"
      },
      "outputs": [
        {
          "output_type": "stream",
          "name": "stderr",
          "text": [
            "3it [00:00, 16.52it/s]\n"
          ]
        }
      ],
      "source": [
        "classes = df_reviews.wine.tolist()\n",
        "topics_per_class = topic_model.topics_per_class(docs, classes=classes)"
      ]
    },
    {
      "cell_type": "code",
      "execution_count": null,
      "metadata": {
        "id": "hnYWtw8hwavb"
      },
      "outputs": [],
      "source": [
        "custom_labels = True\n",
        "normalize_frequency = False"
      ]
    },
    {
      "cell_type": "code",
      "execution_count": null,
      "metadata": {
        "colab": {
          "base_uri": "https://localhost:8080/",
          "height": 517
        },
        "id": "oVhlcmQhUvPK",
        "outputId": "e3c1fbbc-38e1-4fec-9a18-659e9154b224"
      },
      "outputs": [
        {
          "output_type": "display_data",
          "data": {
            "text/html": [
              "<html>\n",
              "<head><meta charset=\"utf-8\" /></head>\n",
              "<body>\n",
              "    <div>            <script src=\"https://cdnjs.cloudflare.com/ajax/libs/mathjax/2.7.5/MathJax.js?config=TeX-AMS-MML_SVG\"></script><script type=\"text/javascript\">if (window.MathJax && window.MathJax.Hub && window.MathJax.Hub.Config) {window.MathJax.Hub.Config({SVG: {font: \"STIX-Web\"}});}</script>                <script type=\"text/javascript\">window.PlotlyConfig = {MathJaxConfig: 'local'};</script>\n",
              "        <script charset=\"utf-8\" src=\"https://cdn.plot.ly/plotly-2.24.1.min.js\"></script>                <div id=\"de1d5c0c-332a-4872-91cc-f731e6f37a92\" class=\"plotly-graph-div\" style=\"height:500px; width:1000px;\"></div>            <script type=\"text/javascript\">                                    window.PLOTLYENV=window.PLOTLYENV || {};                                    if (document.getElementById(\"de1d5c0c-332a-4872-91cc-f731e6f37a92\")) {                    Plotly.newPlot(                        \"de1d5c0c-332a-4872-91cc-f731e6f37a92\",                        [{\"hoverinfo\":\"text\",\"hovertext\":[\"\\u003cb\\u003eTopic 0\\u003c\\u002fb\\u003e\\u003cbr\\u003eWords: good, fruity, sweet, like, money\",\"\\u003cb\\u003eTopic 0\\u003c\\u002fb\\u003e\\u003cbr\\u003eWords: good, oak, price, red, chilean\",\"\\u003cb\\u003eTopic 0\\u003c\\u002fb\\u003e\\u003cbr\\u003eWords: good, nice, red, price, taste\"],\"marker\":{\"color\":\"#E69F00\"},\"name\":\"0_good_red_price_nice\",\"orientation\":\"h\",\"visible\":true,\"x\":[33,125,220],\"y\":[\"Yellow Tail Cabernet Sauvignon\",\"Casillero del Diablo Cabernet Sauvignon (Reserva)\",\"San Pedro Gato Negro Cabernet Sauvignon\"],\"type\":\"bar\"},{\"hoverinfo\":\"text\",\"hovertext\":[\"\\u003cb\\u003eTopic 1\\u003c\\u002fb\\u003e\\u003cbr\\u003eWords: oak, medium, vanilla, chocolate, black\",\"\\u003cb\\u003eTopic 1\\u003c\\u002fb\\u003e\\u003cbr\\u003eWords: oak, cherry, chocolate, black, medium\",\"\\u003cb\\u003eTopic 1\\u003c\\u002fb\\u003e\\u003cbr\\u003eWords: oak, chocolate, red, vanilla, cherry\"],\"marker\":{\"color\":\"#56B4E9\"},\"name\":\"1_oak_chocolate_cherry_red\",\"orientation\":\"h\",\"visible\":\"legendonly\",\"x\":[24,87,111],\"y\":[\"Yellow Tail Cabernet Sauvignon\",\"Casillero del Diablo Cabernet Sauvignon (Reserva)\",\"San Pedro Gato Negro Cabernet Sauvignon\"],\"type\":\"bar\"},{\"hoverinfo\":\"text\",\"hovertext\":[\"\\u003cb\\u003eTopic 2\\u003c\\u002fb\\u003e\\u003cbr\\u003eWords: fruity, good, drink, easy drink, easy\",\"\\u003cb\\u003eTopic 2\\u003c\\u002fb\\u003e\\u003cbr\\u003eWords: fruity, good, drink, easy, bitter\",\"\\u003cb\\u003eTopic 2\\u003c\\u002fb\\u003e\\u003cbr\\u003eWords: fruity, good, sour, drink, taste\"],\"marker\":{\"color\":\"#009E73\"},\"name\":\"2_fruity_good_drink_easy\",\"orientation\":\"h\",\"visible\":\"legendonly\",\"x\":[16,35,117],\"y\":[\"Yellow Tail Cabernet Sauvignon\",\"Casillero del Diablo Cabernet Sauvignon (Reserva)\",\"San Pedro Gato Negro Cabernet Sauvignon\"],\"type\":\"bar\"},{\"hoverinfo\":\"text\",\"hovertext\":[\"\\u003cb\\u003eTopic 3\\u003c\\u002fb\\u003e\\u003cbr\\u003eWords: average good surprisingly, good love bed, love bed, good surprisingly good, good surprisingly\",\"\\u003cb\\u003eTopic 3\\u003c\\u002fb\\u003e\\u003cbr\\u003eWords: good, good good, love good, love, bad\",\"\\u003cb\\u003eTopic 3\\u003c\\u002fb\\u003e\\u003cbr\\u003eWords: good, good good, bad, like, liked\"],\"marker\":{\"color\":\"#F0E442\"},\"name\":\"3_good_good good_bad_love\",\"orientation\":\"h\",\"visible\":\"legendonly\",\"x\":[6,28,45],\"y\":[\"Yellow Tail Cabernet Sauvignon\",\"Casillero del Diablo Cabernet Sauvignon (Reserva)\",\"San Pedro Gato Negro Cabernet Sauvignon\"],\"type\":\"bar\"},{\"hoverinfo\":\"text\",\"hovertext\":[\"\\u003cb\\u003eTopic 4\\u003c\\u002fb\\u003e\\u003cbr\\u003eWords: australian, like, mocha, tannins, sauv\",\"\\u003cb\\u003eTopic 4\\u003c\\u002fb\\u003e\\u003cbr\\u003eWords: medium, med, nose, casillero del, diablo\",\"\\u003cb\\u003eTopic 4\\u003c\\u002fb\\u003e\\u003cbr\\u003eWords: medium, like, chile, tannins, black\"],\"marker\":{\"color\":\"#D55E00\"},\"name\":\"4_medium_like_tannins_black\",\"orientation\":\"h\",\"visible\":\"legendonly\",\"x\":[12,22,33],\"y\":[\"Yellow Tail Cabernet Sauvignon\",\"Casillero del Diablo Cabernet Sauvignon (Reserva)\",\"San Pedro Gato Negro Cabernet Sauvignon\"],\"type\":\"bar\"},{\"hoverinfo\":\"text\",\"hovertext\":[\"\\u003cb\\u003eTopic 5\\u003c\\u002fb\\u003e\\u003cbr\\u003eWords: value, bad price, money, value money, bad\",\"\\u003cb\\u003eTopic 5\\u003c\\u002fb\\u003e\\u003cbr\\u003eWords: value, money, value money, good value, price\",\"\\u003cb\\u003eTopic 5\\u003c\\u002fb\\u003e\\u003cbr\\u003eWords: value, money, value money, good, good value\"],\"marker\":{\"color\":\"#0072B2\"},\"name\":\"5_value_money_value money_good value\",\"orientation\":\"h\",\"visible\":\"legendonly\",\"x\":[5,19,27],\"y\":[\"Yellow Tail Cabernet Sauvignon\",\"Casillero del Diablo Cabernet Sauvignon (Reserva)\",\"San Pedro Gato Negro Cabernet Sauvignon\"],\"type\":\"bar\"},{\"hoverinfo\":\"text\",\"hovertext\":[\"\\u003cb\\u003eTopic 6\\u003c\\u002fb\\u003e\\u003cbr\\u003eWords: dry, breathe honest smooth, straightforward dry, fairly simple straightforward, bit jammy\",\"\\u003cb\\u003eTopic 6\\u003c\\u002fb\\u003e\\u003cbr\\u003eWords: dry, dry good, smooth, bold, dry good value\",\"\\u003cb\\u003eTopic 6\\u003c\\u002fb\\u003e\\u003cbr\\u003eWords: dry, smooth, soft, bit, kiki\"],\"marker\":{\"color\":\"#CC79A7\"},\"name\":\"6_dry_smooth_bit_good\",\"orientation\":\"h\",\"visible\":\"legendonly\",\"x\":[6,17,27],\"y\":[\"Yellow Tail Cabernet Sauvignon\",\"Casillero del Diablo Cabernet Sauvignon (Reserva)\",\"San Pedro Gato Negro Cabernet Sauvignon\"],\"type\":\"bar\"}],                        {\"template\":{\"data\":{\"barpolar\":[{\"marker\":{\"line\":{\"color\":\"white\",\"width\":0.5},\"pattern\":{\"fillmode\":\"overlay\",\"size\":10,\"solidity\":0.2}},\"type\":\"barpolar\"}],\"bar\":[{\"error_x\":{\"color\":\"rgb(36,36,36)\"},\"error_y\":{\"color\":\"rgb(36,36,36)\"},\"marker\":{\"line\":{\"color\":\"white\",\"width\":0.5},\"pattern\":{\"fillmode\":\"overlay\",\"size\":10,\"solidity\":0.2}},\"type\":\"bar\"}],\"carpet\":[{\"aaxis\":{\"endlinecolor\":\"rgb(36,36,36)\",\"gridcolor\":\"white\",\"linecolor\":\"white\",\"minorgridcolor\":\"white\",\"startlinecolor\":\"rgb(36,36,36)\"},\"baxis\":{\"endlinecolor\":\"rgb(36,36,36)\",\"gridcolor\":\"white\",\"linecolor\":\"white\",\"minorgridcolor\":\"white\",\"startlinecolor\":\"rgb(36,36,36)\"},\"type\":\"carpet\"}],\"choropleth\":[{\"colorbar\":{\"outlinewidth\":1,\"tickcolor\":\"rgb(36,36,36)\",\"ticks\":\"outside\"},\"type\":\"choropleth\"}],\"contourcarpet\":[{\"colorbar\":{\"outlinewidth\":1,\"tickcolor\":\"rgb(36,36,36)\",\"ticks\":\"outside\"},\"type\":\"contourcarpet\"}],\"contour\":[{\"colorbar\":{\"outlinewidth\":1,\"tickcolor\":\"rgb(36,36,36)\",\"ticks\":\"outside\"},\"colorscale\":[[0.0,\"#440154\"],[0.1111111111111111,\"#482878\"],[0.2222222222222222,\"#3e4989\"],[0.3333333333333333,\"#31688e\"],[0.4444444444444444,\"#26828e\"],[0.5555555555555556,\"#1f9e89\"],[0.6666666666666666,\"#35b779\"],[0.7777777777777778,\"#6ece58\"],[0.8888888888888888,\"#b5de2b\"],[1.0,\"#fde725\"]],\"type\":\"contour\"}],\"heatmapgl\":[{\"colorbar\":{\"outlinewidth\":1,\"tickcolor\":\"rgb(36,36,36)\",\"ticks\":\"outside\"},\"colorscale\":[[0.0,\"#440154\"],[0.1111111111111111,\"#482878\"],[0.2222222222222222,\"#3e4989\"],[0.3333333333333333,\"#31688e\"],[0.4444444444444444,\"#26828e\"],[0.5555555555555556,\"#1f9e89\"],[0.6666666666666666,\"#35b779\"],[0.7777777777777778,\"#6ece58\"],[0.8888888888888888,\"#b5de2b\"],[1.0,\"#fde725\"]],\"type\":\"heatmapgl\"}],\"heatmap\":[{\"colorbar\":{\"outlinewidth\":1,\"tickcolor\":\"rgb(36,36,36)\",\"ticks\":\"outside\"},\"colorscale\":[[0.0,\"#440154\"],[0.1111111111111111,\"#482878\"],[0.2222222222222222,\"#3e4989\"],[0.3333333333333333,\"#31688e\"],[0.4444444444444444,\"#26828e\"],[0.5555555555555556,\"#1f9e89\"],[0.6666666666666666,\"#35b779\"],[0.7777777777777778,\"#6ece58\"],[0.8888888888888888,\"#b5de2b\"],[1.0,\"#fde725\"]],\"type\":\"heatmap\"}],\"histogram2dcontour\":[{\"colorbar\":{\"outlinewidth\":1,\"tickcolor\":\"rgb(36,36,36)\",\"ticks\":\"outside\"},\"colorscale\":[[0.0,\"#440154\"],[0.1111111111111111,\"#482878\"],[0.2222222222222222,\"#3e4989\"],[0.3333333333333333,\"#31688e\"],[0.4444444444444444,\"#26828e\"],[0.5555555555555556,\"#1f9e89\"],[0.6666666666666666,\"#35b779\"],[0.7777777777777778,\"#6ece58\"],[0.8888888888888888,\"#b5de2b\"],[1.0,\"#fde725\"]],\"type\":\"histogram2dcontour\"}],\"histogram2d\":[{\"colorbar\":{\"outlinewidth\":1,\"tickcolor\":\"rgb(36,36,36)\",\"ticks\":\"outside\"},\"colorscale\":[[0.0,\"#440154\"],[0.1111111111111111,\"#482878\"],[0.2222222222222222,\"#3e4989\"],[0.3333333333333333,\"#31688e\"],[0.4444444444444444,\"#26828e\"],[0.5555555555555556,\"#1f9e89\"],[0.6666666666666666,\"#35b779\"],[0.7777777777777778,\"#6ece58\"],[0.8888888888888888,\"#b5de2b\"],[1.0,\"#fde725\"]],\"type\":\"histogram2d\"}],\"histogram\":[{\"marker\":{\"line\":{\"color\":\"white\",\"width\":0.6}},\"type\":\"histogram\"}],\"mesh3d\":[{\"colorbar\":{\"outlinewidth\":1,\"tickcolor\":\"rgb(36,36,36)\",\"ticks\":\"outside\"},\"type\":\"mesh3d\"}],\"parcoords\":[{\"line\":{\"colorbar\":{\"outlinewidth\":1,\"tickcolor\":\"rgb(36,36,36)\",\"ticks\":\"outside\"}},\"type\":\"parcoords\"}],\"pie\":[{\"automargin\":true,\"type\":\"pie\"}],\"scatter3d\":[{\"line\":{\"colorbar\":{\"outlinewidth\":1,\"tickcolor\":\"rgb(36,36,36)\",\"ticks\":\"outside\"}},\"marker\":{\"colorbar\":{\"outlinewidth\":1,\"tickcolor\":\"rgb(36,36,36)\",\"ticks\":\"outside\"}},\"type\":\"scatter3d\"}],\"scattercarpet\":[{\"marker\":{\"colorbar\":{\"outlinewidth\":1,\"tickcolor\":\"rgb(36,36,36)\",\"ticks\":\"outside\"}},\"type\":\"scattercarpet\"}],\"scattergeo\":[{\"marker\":{\"colorbar\":{\"outlinewidth\":1,\"tickcolor\":\"rgb(36,36,36)\",\"ticks\":\"outside\"}},\"type\":\"scattergeo\"}],\"scattergl\":[{\"marker\":{\"colorbar\":{\"outlinewidth\":1,\"tickcolor\":\"rgb(36,36,36)\",\"ticks\":\"outside\"}},\"type\":\"scattergl\"}],\"scattermapbox\":[{\"marker\":{\"colorbar\":{\"outlinewidth\":1,\"tickcolor\":\"rgb(36,36,36)\",\"ticks\":\"outside\"}},\"type\":\"scattermapbox\"}],\"scatterpolargl\":[{\"marker\":{\"colorbar\":{\"outlinewidth\":1,\"tickcolor\":\"rgb(36,36,36)\",\"ticks\":\"outside\"}},\"type\":\"scatterpolargl\"}],\"scatterpolar\":[{\"marker\":{\"colorbar\":{\"outlinewidth\":1,\"tickcolor\":\"rgb(36,36,36)\",\"ticks\":\"outside\"}},\"type\":\"scatterpolar\"}],\"scatter\":[{\"fillpattern\":{\"fillmode\":\"overlay\",\"size\":10,\"solidity\":0.2},\"type\":\"scatter\"}],\"scatterternary\":[{\"marker\":{\"colorbar\":{\"outlinewidth\":1,\"tickcolor\":\"rgb(36,36,36)\",\"ticks\":\"outside\"}},\"type\":\"scatterternary\"}],\"surface\":[{\"colorbar\":{\"outlinewidth\":1,\"tickcolor\":\"rgb(36,36,36)\",\"ticks\":\"outside\"},\"colorscale\":[[0.0,\"#440154\"],[0.1111111111111111,\"#482878\"],[0.2222222222222222,\"#3e4989\"],[0.3333333333333333,\"#31688e\"],[0.4444444444444444,\"#26828e\"],[0.5555555555555556,\"#1f9e89\"],[0.6666666666666666,\"#35b779\"],[0.7777777777777778,\"#6ece58\"],[0.8888888888888888,\"#b5de2b\"],[1.0,\"#fde725\"]],\"type\":\"surface\"}],\"table\":[{\"cells\":{\"fill\":{\"color\":\"rgb(237,237,237)\"},\"line\":{\"color\":\"white\"}},\"header\":{\"fill\":{\"color\":\"rgb(217,217,217)\"},\"line\":{\"color\":\"white\"}},\"type\":\"table\"}]},\"layout\":{\"annotationdefaults\":{\"arrowhead\":0,\"arrowwidth\":1},\"autotypenumbers\":\"strict\",\"coloraxis\":{\"colorbar\":{\"outlinewidth\":1,\"tickcolor\":\"rgb(36,36,36)\",\"ticks\":\"outside\"}},\"colorscale\":{\"diverging\":[[0.0,\"rgb(103,0,31)\"],[0.1,\"rgb(178,24,43)\"],[0.2,\"rgb(214,96,77)\"],[0.3,\"rgb(244,165,130)\"],[0.4,\"rgb(253,219,199)\"],[0.5,\"rgb(247,247,247)\"],[0.6,\"rgb(209,229,240)\"],[0.7,\"rgb(146,197,222)\"],[0.8,\"rgb(67,147,195)\"],[0.9,\"rgb(33,102,172)\"],[1.0,\"rgb(5,48,97)\"]],\"sequential\":[[0.0,\"#440154\"],[0.1111111111111111,\"#482878\"],[0.2222222222222222,\"#3e4989\"],[0.3333333333333333,\"#31688e\"],[0.4444444444444444,\"#26828e\"],[0.5555555555555556,\"#1f9e89\"],[0.6666666666666666,\"#35b779\"],[0.7777777777777778,\"#6ece58\"],[0.8888888888888888,\"#b5de2b\"],[1.0,\"#fde725\"]],\"sequentialminus\":[[0.0,\"#440154\"],[0.1111111111111111,\"#482878\"],[0.2222222222222222,\"#3e4989\"],[0.3333333333333333,\"#31688e\"],[0.4444444444444444,\"#26828e\"],[0.5555555555555556,\"#1f9e89\"],[0.6666666666666666,\"#35b779\"],[0.7777777777777778,\"#6ece58\"],[0.8888888888888888,\"#b5de2b\"],[1.0,\"#fde725\"]]},\"colorway\":[\"#1F77B4\",\"#FF7F0E\",\"#2CA02C\",\"#D62728\",\"#9467BD\",\"#8C564B\",\"#E377C2\",\"#7F7F7F\",\"#BCBD22\",\"#17BECF\"],\"font\":{\"color\":\"rgb(36,36,36)\"},\"geo\":{\"bgcolor\":\"white\",\"lakecolor\":\"white\",\"landcolor\":\"white\",\"showlakes\":true,\"showland\":true,\"subunitcolor\":\"white\"},\"hoverlabel\":{\"align\":\"left\"},\"hovermode\":\"closest\",\"mapbox\":{\"style\":\"light\"},\"paper_bgcolor\":\"white\",\"plot_bgcolor\":\"white\",\"polar\":{\"angularaxis\":{\"gridcolor\":\"rgb(232,232,232)\",\"linecolor\":\"rgb(36,36,36)\",\"showgrid\":false,\"showline\":true,\"ticks\":\"outside\"},\"bgcolor\":\"white\",\"radialaxis\":{\"gridcolor\":\"rgb(232,232,232)\",\"linecolor\":\"rgb(36,36,36)\",\"showgrid\":false,\"showline\":true,\"ticks\":\"outside\"}},\"scene\":{\"xaxis\":{\"backgroundcolor\":\"white\",\"gridcolor\":\"rgb(232,232,232)\",\"gridwidth\":2,\"linecolor\":\"rgb(36,36,36)\",\"showbackground\":true,\"showgrid\":false,\"showline\":true,\"ticks\":\"outside\",\"zeroline\":false,\"zerolinecolor\":\"rgb(36,36,36)\"},\"yaxis\":{\"backgroundcolor\":\"white\",\"gridcolor\":\"rgb(232,232,232)\",\"gridwidth\":2,\"linecolor\":\"rgb(36,36,36)\",\"showbackground\":true,\"showgrid\":false,\"showline\":true,\"ticks\":\"outside\",\"zeroline\":false,\"zerolinecolor\":\"rgb(36,36,36)\"},\"zaxis\":{\"backgroundcolor\":\"white\",\"gridcolor\":\"rgb(232,232,232)\",\"gridwidth\":2,\"linecolor\":\"rgb(36,36,36)\",\"showbackground\":true,\"showgrid\":false,\"showline\":true,\"ticks\":\"outside\",\"zeroline\":false,\"zerolinecolor\":\"rgb(36,36,36)\"}},\"shapedefaults\":{\"fillcolor\":\"black\",\"line\":{\"width\":0},\"opacity\":0.3},\"ternary\":{\"aaxis\":{\"gridcolor\":\"rgb(232,232,232)\",\"linecolor\":\"rgb(36,36,36)\",\"showgrid\":false,\"showline\":true,\"ticks\":\"outside\"},\"baxis\":{\"gridcolor\":\"rgb(232,232,232)\",\"linecolor\":\"rgb(36,36,36)\",\"showgrid\":false,\"showline\":true,\"ticks\":\"outside\"},\"bgcolor\":\"white\",\"caxis\":{\"gridcolor\":\"rgb(232,232,232)\",\"linecolor\":\"rgb(36,36,36)\",\"showgrid\":false,\"showline\":true,\"ticks\":\"outside\"}},\"title\":{\"x\":0.05},\"xaxis\":{\"automargin\":true,\"gridcolor\":\"rgb(232,232,232)\",\"linecolor\":\"rgb(36,36,36)\",\"showgrid\":false,\"showline\":true,\"ticks\":\"outside\",\"title\":{\"standoff\":15},\"zeroline\":false,\"zerolinecolor\":\"rgb(36,36,36)\"},\"yaxis\":{\"automargin\":true,\"gridcolor\":\"rgb(232,232,232)\",\"linecolor\":\"rgb(36,36,36)\",\"showgrid\":false,\"showline\":true,\"ticks\":\"outside\",\"title\":{\"standoff\":15},\"zeroline\":false,\"zerolinecolor\":\"rgb(36,36,36)\"}}},\"xaxis\":{\"showgrid\":true,\"title\":{\"text\":\"Frequency\"}},\"yaxis\":{\"showgrid\":true,\"title\":{\"text\":\"Class\"}},\"title\":{\"font\":{\"size\":22,\"color\":\"Black\"},\"text\":\"\\u003cb\\u003eTopics per Class\\u003c\\u002fb\\u003e\",\"y\":0.95,\"x\":0.4,\"xanchor\":\"center\",\"yanchor\":\"top\"},\"hoverlabel\":{\"font\":{\"size\":16,\"family\":\"Rockwell\"},\"bgcolor\":\"white\"},\"width\":1000,\"height\":500,\"legend\":{\"title\":{\"text\":\"\\u003cb\\u003eGlobal Topic Representation\"}}},                        {\"responsive\": true}                    ).then(function(){\n",
              "                            \n",
              "var gd = document.getElementById('de1d5c0c-332a-4872-91cc-f731e6f37a92');\n",
              "var x = new MutationObserver(function (mutations, observer) {{\n",
              "        var display = window.getComputedStyle(gd).display;\n",
              "        if (!display || display === 'none') {{\n",
              "            console.log([gd, 'removed!']);\n",
              "            Plotly.purge(gd);\n",
              "            observer.disconnect();\n",
              "        }}\n",
              "}});\n",
              "\n",
              "// Listen for the removal of the full notebook cells\n",
              "var notebookContainer = gd.closest('#notebook-container');\n",
              "if (notebookContainer) {{\n",
              "    x.observe(notebookContainer, {childList: true});\n",
              "}}\n",
              "\n",
              "// Listen for the clearing of the current output cell\n",
              "var outputEl = gd.closest('.output');\n",
              "if (outputEl) {{\n",
              "    x.observe(outputEl, {childList: true});\n",
              "}}\n",
              "\n",
              "                        })                };                            </script>        </div>\n",
              "</body>\n",
              "</html>"
            ]
          },
          "metadata": {}
        }
      ],
      "source": [
        "topic_model.visualize_topics_per_class(topics_per_class, top_n_topics=10,\n",
        "                                       normalize_frequency = normalize_frequency,\n",
        "                                       width=1000, height=500,\n",
        "                                       custom_labels=custom_labels)"
      ]
    },
    {
      "cell_type": "markdown",
      "metadata": {
        "id": "JBF8rJCnxzZ9"
      },
      "source": [
        "Share of reviews"
      ]
    },
    {
      "cell_type": "code",
      "execution_count": null,
      "metadata": {
        "colab": {
          "base_uri": "https://localhost:8080/"
        },
        "id": "cjMeGMTovaLp",
        "outputId": "0e2f50eb-eb2f-4ccc-cf1f-832ebbb8d35d"
      },
      "outputs": [
        {
          "output_type": "execute_result",
          "data": {
            "text/plain": [
              "(1487, 1487)"
            ]
          },
          "metadata": {},
          "execution_count": 161
        }
      ],
      "source": [
        "total_freq = df_reviews.groupby('wine').count().id.to_dict() # num of documents per class\n",
        "\n",
        "df = topics_per_class.assign(Frequency=topics_per_class.apply(lambda x: x.Frequency/total_freq[x.Class], axis=1))\n",
        "\n",
        "sum([v for k,v in total_freq.items()]), len(docs)"
      ]
    },
    {
      "cell_type": "code",
      "source": [
        "total_freq"
      ],
      "metadata": {
        "colab": {
          "base_uri": "https://localhost:8080/"
        },
        "id": "3GrQ_NJOQgwX",
        "outputId": "6ccd24fe-5356-4221-b025-d7984b81f240"
      },
      "execution_count": null,
      "outputs": [
        {
          "output_type": "execute_result",
          "data": {
            "text/plain": [
              "{'Casillero del Diablo Cabernet Sauvignon (Reserva)': 472,\n",
              " 'San Pedro Gato Negro Cabernet Sauvignon': 879,\n",
              " 'Yellow Tail Cabernet Sauvignon': 136}"
            ]
          },
          "metadata": {},
          "execution_count": 152
        }
      ]
    },
    {
      "cell_type": "code",
      "execution_count": null,
      "metadata": {
        "colab": {
          "base_uri": "https://localhost:8080/",
          "height": 517
        },
        "id": "LN2kcWV6vMBg",
        "outputId": "37e20954-8711-4ee8-b8bc-66e0559f2e83"
      },
      "outputs": [
        {
          "output_type": "display_data",
          "data": {
            "text/html": [
              "<html>\n",
              "<head><meta charset=\"utf-8\" /></head>\n",
              "<body>\n",
              "    <div>            <script src=\"https://cdnjs.cloudflare.com/ajax/libs/mathjax/2.7.5/MathJax.js?config=TeX-AMS-MML_SVG\"></script><script type=\"text/javascript\">if (window.MathJax && window.MathJax.Hub && window.MathJax.Hub.Config) {window.MathJax.Hub.Config({SVG: {font: \"STIX-Web\"}});}</script>                <script type=\"text/javascript\">window.PlotlyConfig = {MathJaxConfig: 'local'};</script>\n",
              "        <script charset=\"utf-8\" src=\"https://cdn.plot.ly/plotly-2.24.1.min.js\"></script>                <div id=\"54fe8781-5dc1-4ec1-af51-ea99a31098a0\" class=\"plotly-graph-div\" style=\"height:500px; width:1000px;\"></div>            <script type=\"text/javascript\">                                    window.PLOTLYENV=window.PLOTLYENV || {};                                    if (document.getElementById(\"54fe8781-5dc1-4ec1-af51-ea99a31098a0\")) {                    Plotly.newPlot(                        \"54fe8781-5dc1-4ec1-af51-ea99a31098a0\",                        [{\"hoverinfo\":\"text\",\"hovertext\":[\"\\u003cb\\u003eTopic 0\\u003c\\u002fb\\u003e\\u003cbr\\u003eWords: good, fruity, sweet, like, money\",\"\\u003cb\\u003eTopic 0\\u003c\\u002fb\\u003e\\u003cbr\\u003eWords: good, oak, price, red, chilean\",\"\\u003cb\\u003eTopic 0\\u003c\\u002fb\\u003e\\u003cbr\\u003eWords: good, nice, red, price, taste\"],\"marker\":{\"color\":\"#E69F00\"},\"name\":\"0_good_red_price_nice\",\"orientation\":\"h\",\"visible\":true,\"x\":[0.2426470588235294,0.2648305084745763,0.2502844141069397],\"y\":[\"Yellow Tail Cabernet Sauvignon\",\"Casillero del Diablo Cabernet Sauvignon (Reserva)\",\"San Pedro Gato Negro Cabernet Sauvignon\"],\"type\":\"bar\"},{\"hoverinfo\":\"text\",\"hovertext\":[\"\\u003cb\\u003eTopic 1\\u003c\\u002fb\\u003e\\u003cbr\\u003eWords: oak, medium, vanilla, chocolate, black\",\"\\u003cb\\u003eTopic 1\\u003c\\u002fb\\u003e\\u003cbr\\u003eWords: oak, cherry, chocolate, black, medium\",\"\\u003cb\\u003eTopic 1\\u003c\\u002fb\\u003e\\u003cbr\\u003eWords: oak, chocolate, red, vanilla, cherry\"],\"marker\":{\"color\":\"#56B4E9\"},\"name\":\"1_oak_chocolate_cherry_red\",\"orientation\":\"h\",\"visible\":\"legendonly\",\"x\":[0.17647058823529413,0.1843220338983051,0.12627986348122866],\"y\":[\"Yellow Tail Cabernet Sauvignon\",\"Casillero del Diablo Cabernet Sauvignon (Reserva)\",\"San Pedro Gato Negro Cabernet Sauvignon\"],\"type\":\"bar\"},{\"hoverinfo\":\"text\",\"hovertext\":[\"\\u003cb\\u003eTopic 2\\u003c\\u002fb\\u003e\\u003cbr\\u003eWords: fruity, good, drink, easy drink, easy\",\"\\u003cb\\u003eTopic 2\\u003c\\u002fb\\u003e\\u003cbr\\u003eWords: fruity, good, drink, easy, bitter\",\"\\u003cb\\u003eTopic 2\\u003c\\u002fb\\u003e\\u003cbr\\u003eWords: fruity, good, sour, drink, taste\"],\"marker\":{\"color\":\"#009E73\"},\"name\":\"2_fruity_good_drink_easy\",\"orientation\":\"h\",\"visible\":\"legendonly\",\"x\":[0.11764705882352941,0.07415254237288135,0.13310580204778158],\"y\":[\"Yellow Tail Cabernet Sauvignon\",\"Casillero del Diablo Cabernet Sauvignon (Reserva)\",\"San Pedro Gato Negro Cabernet Sauvignon\"],\"type\":\"bar\"},{\"hoverinfo\":\"text\",\"hovertext\":[\"\\u003cb\\u003eTopic 3\\u003c\\u002fb\\u003e\\u003cbr\\u003eWords: average good surprisingly, good love bed, love bed, good surprisingly good, good surprisingly\",\"\\u003cb\\u003eTopic 3\\u003c\\u002fb\\u003e\\u003cbr\\u003eWords: good, good good, love good, love, bad\",\"\\u003cb\\u003eTopic 3\\u003c\\u002fb\\u003e\\u003cbr\\u003eWords: good, good good, bad, like, liked\"],\"marker\":{\"color\":\"#F0E442\"},\"name\":\"3_good_good good_bad_love\",\"orientation\":\"h\",\"visible\":\"legendonly\",\"x\":[0.04411764705882353,0.059322033898305086,0.051194539249146756],\"y\":[\"Yellow Tail Cabernet Sauvignon\",\"Casillero del Diablo Cabernet Sauvignon (Reserva)\",\"San Pedro Gato Negro Cabernet Sauvignon\"],\"type\":\"bar\"},{\"hoverinfo\":\"text\",\"hovertext\":[\"\\u003cb\\u003eTopic 4\\u003c\\u002fb\\u003e\\u003cbr\\u003eWords: australian, like, mocha, tannins, sauv\",\"\\u003cb\\u003eTopic 4\\u003c\\u002fb\\u003e\\u003cbr\\u003eWords: medium, med, nose, casillero del, diablo\",\"\\u003cb\\u003eTopic 4\\u003c\\u002fb\\u003e\\u003cbr\\u003eWords: medium, like, chile, tannins, black\"],\"marker\":{\"color\":\"#D55E00\"},\"name\":\"4_medium_like_tannins_black\",\"orientation\":\"h\",\"visible\":\"legendonly\",\"x\":[0.08823529411764706,0.046610169491525424,0.03754266211604096],\"y\":[\"Yellow Tail Cabernet Sauvignon\",\"Casillero del Diablo Cabernet Sauvignon (Reserva)\",\"San Pedro Gato Negro Cabernet Sauvignon\"],\"type\":\"bar\"},{\"hoverinfo\":\"text\",\"hovertext\":[\"\\u003cb\\u003eTopic 5\\u003c\\u002fb\\u003e\\u003cbr\\u003eWords: value, bad price, money, value money, bad\",\"\\u003cb\\u003eTopic 5\\u003c\\u002fb\\u003e\\u003cbr\\u003eWords: value, money, value money, good value, price\",\"\\u003cb\\u003eTopic 5\\u003c\\u002fb\\u003e\\u003cbr\\u003eWords: value, money, value money, good, good value\"],\"marker\":{\"color\":\"#0072B2\"},\"name\":\"5_value_money_value money_good value\",\"orientation\":\"h\",\"visible\":\"legendonly\",\"x\":[0.03676470588235294,0.04025423728813559,0.030716723549488054],\"y\":[\"Yellow Tail Cabernet Sauvignon\",\"Casillero del Diablo Cabernet Sauvignon (Reserva)\",\"San Pedro Gato Negro Cabernet Sauvignon\"],\"type\":\"bar\"},{\"hoverinfo\":\"text\",\"hovertext\":[\"\\u003cb\\u003eTopic 6\\u003c\\u002fb\\u003e\\u003cbr\\u003eWords: dry, breathe honest smooth, straightforward dry, fairly simple straightforward, bit jammy\",\"\\u003cb\\u003eTopic 6\\u003c\\u002fb\\u003e\\u003cbr\\u003eWords: dry, dry good, smooth, bold, dry good value\",\"\\u003cb\\u003eTopic 6\\u003c\\u002fb\\u003e\\u003cbr\\u003eWords: dry, smooth, soft, bit, kiki\"],\"marker\":{\"color\":\"#CC79A7\"},\"name\":\"6_dry_smooth_bit_good\",\"orientation\":\"h\",\"visible\":\"legendonly\",\"x\":[0.04411764705882353,0.036016949152542374,0.030716723549488054],\"y\":[\"Yellow Tail Cabernet Sauvignon\",\"Casillero del Diablo Cabernet Sauvignon (Reserva)\",\"San Pedro Gato Negro Cabernet Sauvignon\"],\"type\":\"bar\"}],                        {\"template\":{\"data\":{\"barpolar\":[{\"marker\":{\"line\":{\"color\":\"white\",\"width\":0.5},\"pattern\":{\"fillmode\":\"overlay\",\"size\":10,\"solidity\":0.2}},\"type\":\"barpolar\"}],\"bar\":[{\"error_x\":{\"color\":\"rgb(36,36,36)\"},\"error_y\":{\"color\":\"rgb(36,36,36)\"},\"marker\":{\"line\":{\"color\":\"white\",\"width\":0.5},\"pattern\":{\"fillmode\":\"overlay\",\"size\":10,\"solidity\":0.2}},\"type\":\"bar\"}],\"carpet\":[{\"aaxis\":{\"endlinecolor\":\"rgb(36,36,36)\",\"gridcolor\":\"white\",\"linecolor\":\"white\",\"minorgridcolor\":\"white\",\"startlinecolor\":\"rgb(36,36,36)\"},\"baxis\":{\"endlinecolor\":\"rgb(36,36,36)\",\"gridcolor\":\"white\",\"linecolor\":\"white\",\"minorgridcolor\":\"white\",\"startlinecolor\":\"rgb(36,36,36)\"},\"type\":\"carpet\"}],\"choropleth\":[{\"colorbar\":{\"outlinewidth\":1,\"tickcolor\":\"rgb(36,36,36)\",\"ticks\":\"outside\"},\"type\":\"choropleth\"}],\"contourcarpet\":[{\"colorbar\":{\"outlinewidth\":1,\"tickcolor\":\"rgb(36,36,36)\",\"ticks\":\"outside\"},\"type\":\"contourcarpet\"}],\"contour\":[{\"colorbar\":{\"outlinewidth\":1,\"tickcolor\":\"rgb(36,36,36)\",\"ticks\":\"outside\"},\"colorscale\":[[0.0,\"#440154\"],[0.1111111111111111,\"#482878\"],[0.2222222222222222,\"#3e4989\"],[0.3333333333333333,\"#31688e\"],[0.4444444444444444,\"#26828e\"],[0.5555555555555556,\"#1f9e89\"],[0.6666666666666666,\"#35b779\"],[0.7777777777777778,\"#6ece58\"],[0.8888888888888888,\"#b5de2b\"],[1.0,\"#fde725\"]],\"type\":\"contour\"}],\"heatmapgl\":[{\"colorbar\":{\"outlinewidth\":1,\"tickcolor\":\"rgb(36,36,36)\",\"ticks\":\"outside\"},\"colorscale\":[[0.0,\"#440154\"],[0.1111111111111111,\"#482878\"],[0.2222222222222222,\"#3e4989\"],[0.3333333333333333,\"#31688e\"],[0.4444444444444444,\"#26828e\"],[0.5555555555555556,\"#1f9e89\"],[0.6666666666666666,\"#35b779\"],[0.7777777777777778,\"#6ece58\"],[0.8888888888888888,\"#b5de2b\"],[1.0,\"#fde725\"]],\"type\":\"heatmapgl\"}],\"heatmap\":[{\"colorbar\":{\"outlinewidth\":1,\"tickcolor\":\"rgb(36,36,36)\",\"ticks\":\"outside\"},\"colorscale\":[[0.0,\"#440154\"],[0.1111111111111111,\"#482878\"],[0.2222222222222222,\"#3e4989\"],[0.3333333333333333,\"#31688e\"],[0.4444444444444444,\"#26828e\"],[0.5555555555555556,\"#1f9e89\"],[0.6666666666666666,\"#35b779\"],[0.7777777777777778,\"#6ece58\"],[0.8888888888888888,\"#b5de2b\"],[1.0,\"#fde725\"]],\"type\":\"heatmap\"}],\"histogram2dcontour\":[{\"colorbar\":{\"outlinewidth\":1,\"tickcolor\":\"rgb(36,36,36)\",\"ticks\":\"outside\"},\"colorscale\":[[0.0,\"#440154\"],[0.1111111111111111,\"#482878\"],[0.2222222222222222,\"#3e4989\"],[0.3333333333333333,\"#31688e\"],[0.4444444444444444,\"#26828e\"],[0.5555555555555556,\"#1f9e89\"],[0.6666666666666666,\"#35b779\"],[0.7777777777777778,\"#6ece58\"],[0.8888888888888888,\"#b5de2b\"],[1.0,\"#fde725\"]],\"type\":\"histogram2dcontour\"}],\"histogram2d\":[{\"colorbar\":{\"outlinewidth\":1,\"tickcolor\":\"rgb(36,36,36)\",\"ticks\":\"outside\"},\"colorscale\":[[0.0,\"#440154\"],[0.1111111111111111,\"#482878\"],[0.2222222222222222,\"#3e4989\"],[0.3333333333333333,\"#31688e\"],[0.4444444444444444,\"#26828e\"],[0.5555555555555556,\"#1f9e89\"],[0.6666666666666666,\"#35b779\"],[0.7777777777777778,\"#6ece58\"],[0.8888888888888888,\"#b5de2b\"],[1.0,\"#fde725\"]],\"type\":\"histogram2d\"}],\"histogram\":[{\"marker\":{\"line\":{\"color\":\"white\",\"width\":0.6}},\"type\":\"histogram\"}],\"mesh3d\":[{\"colorbar\":{\"outlinewidth\":1,\"tickcolor\":\"rgb(36,36,36)\",\"ticks\":\"outside\"},\"type\":\"mesh3d\"}],\"parcoords\":[{\"line\":{\"colorbar\":{\"outlinewidth\":1,\"tickcolor\":\"rgb(36,36,36)\",\"ticks\":\"outside\"}},\"type\":\"parcoords\"}],\"pie\":[{\"automargin\":true,\"type\":\"pie\"}],\"scatter3d\":[{\"line\":{\"colorbar\":{\"outlinewidth\":1,\"tickcolor\":\"rgb(36,36,36)\",\"ticks\":\"outside\"}},\"marker\":{\"colorbar\":{\"outlinewidth\":1,\"tickcolor\":\"rgb(36,36,36)\",\"ticks\":\"outside\"}},\"type\":\"scatter3d\"}],\"scattercarpet\":[{\"marker\":{\"colorbar\":{\"outlinewidth\":1,\"tickcolor\":\"rgb(36,36,36)\",\"ticks\":\"outside\"}},\"type\":\"scattercarpet\"}],\"scattergeo\":[{\"marker\":{\"colorbar\":{\"outlinewidth\":1,\"tickcolor\":\"rgb(36,36,36)\",\"ticks\":\"outside\"}},\"type\":\"scattergeo\"}],\"scattergl\":[{\"marker\":{\"colorbar\":{\"outlinewidth\":1,\"tickcolor\":\"rgb(36,36,36)\",\"ticks\":\"outside\"}},\"type\":\"scattergl\"}],\"scattermapbox\":[{\"marker\":{\"colorbar\":{\"outlinewidth\":1,\"tickcolor\":\"rgb(36,36,36)\",\"ticks\":\"outside\"}},\"type\":\"scattermapbox\"}],\"scatterpolargl\":[{\"marker\":{\"colorbar\":{\"outlinewidth\":1,\"tickcolor\":\"rgb(36,36,36)\",\"ticks\":\"outside\"}},\"type\":\"scatterpolargl\"}],\"scatterpolar\":[{\"marker\":{\"colorbar\":{\"outlinewidth\":1,\"tickcolor\":\"rgb(36,36,36)\",\"ticks\":\"outside\"}},\"type\":\"scatterpolar\"}],\"scatter\":[{\"fillpattern\":{\"fillmode\":\"overlay\",\"size\":10,\"solidity\":0.2},\"type\":\"scatter\"}],\"scatterternary\":[{\"marker\":{\"colorbar\":{\"outlinewidth\":1,\"tickcolor\":\"rgb(36,36,36)\",\"ticks\":\"outside\"}},\"type\":\"scatterternary\"}],\"surface\":[{\"colorbar\":{\"outlinewidth\":1,\"tickcolor\":\"rgb(36,36,36)\",\"ticks\":\"outside\"},\"colorscale\":[[0.0,\"#440154\"],[0.1111111111111111,\"#482878\"],[0.2222222222222222,\"#3e4989\"],[0.3333333333333333,\"#31688e\"],[0.4444444444444444,\"#26828e\"],[0.5555555555555556,\"#1f9e89\"],[0.6666666666666666,\"#35b779\"],[0.7777777777777778,\"#6ece58\"],[0.8888888888888888,\"#b5de2b\"],[1.0,\"#fde725\"]],\"type\":\"surface\"}],\"table\":[{\"cells\":{\"fill\":{\"color\":\"rgb(237,237,237)\"},\"line\":{\"color\":\"white\"}},\"header\":{\"fill\":{\"color\":\"rgb(217,217,217)\"},\"line\":{\"color\":\"white\"}},\"type\":\"table\"}]},\"layout\":{\"annotationdefaults\":{\"arrowhead\":0,\"arrowwidth\":1},\"autotypenumbers\":\"strict\",\"coloraxis\":{\"colorbar\":{\"outlinewidth\":1,\"tickcolor\":\"rgb(36,36,36)\",\"ticks\":\"outside\"}},\"colorscale\":{\"diverging\":[[0.0,\"rgb(103,0,31)\"],[0.1,\"rgb(178,24,43)\"],[0.2,\"rgb(214,96,77)\"],[0.3,\"rgb(244,165,130)\"],[0.4,\"rgb(253,219,199)\"],[0.5,\"rgb(247,247,247)\"],[0.6,\"rgb(209,229,240)\"],[0.7,\"rgb(146,197,222)\"],[0.8,\"rgb(67,147,195)\"],[0.9,\"rgb(33,102,172)\"],[1.0,\"rgb(5,48,97)\"]],\"sequential\":[[0.0,\"#440154\"],[0.1111111111111111,\"#482878\"],[0.2222222222222222,\"#3e4989\"],[0.3333333333333333,\"#31688e\"],[0.4444444444444444,\"#26828e\"],[0.5555555555555556,\"#1f9e89\"],[0.6666666666666666,\"#35b779\"],[0.7777777777777778,\"#6ece58\"],[0.8888888888888888,\"#b5de2b\"],[1.0,\"#fde725\"]],\"sequentialminus\":[[0.0,\"#440154\"],[0.1111111111111111,\"#482878\"],[0.2222222222222222,\"#3e4989\"],[0.3333333333333333,\"#31688e\"],[0.4444444444444444,\"#26828e\"],[0.5555555555555556,\"#1f9e89\"],[0.6666666666666666,\"#35b779\"],[0.7777777777777778,\"#6ece58\"],[0.8888888888888888,\"#b5de2b\"],[1.0,\"#fde725\"]]},\"colorway\":[\"#1F77B4\",\"#FF7F0E\",\"#2CA02C\",\"#D62728\",\"#9467BD\",\"#8C564B\",\"#E377C2\",\"#7F7F7F\",\"#BCBD22\",\"#17BECF\"],\"font\":{\"color\":\"rgb(36,36,36)\"},\"geo\":{\"bgcolor\":\"white\",\"lakecolor\":\"white\",\"landcolor\":\"white\",\"showlakes\":true,\"showland\":true,\"subunitcolor\":\"white\"},\"hoverlabel\":{\"align\":\"left\"},\"hovermode\":\"closest\",\"mapbox\":{\"style\":\"light\"},\"paper_bgcolor\":\"white\",\"plot_bgcolor\":\"white\",\"polar\":{\"angularaxis\":{\"gridcolor\":\"rgb(232,232,232)\",\"linecolor\":\"rgb(36,36,36)\",\"showgrid\":false,\"showline\":true,\"ticks\":\"outside\"},\"bgcolor\":\"white\",\"radialaxis\":{\"gridcolor\":\"rgb(232,232,232)\",\"linecolor\":\"rgb(36,36,36)\",\"showgrid\":false,\"showline\":true,\"ticks\":\"outside\"}},\"scene\":{\"xaxis\":{\"backgroundcolor\":\"white\",\"gridcolor\":\"rgb(232,232,232)\",\"gridwidth\":2,\"linecolor\":\"rgb(36,36,36)\",\"showbackground\":true,\"showgrid\":false,\"showline\":true,\"ticks\":\"outside\",\"zeroline\":false,\"zerolinecolor\":\"rgb(36,36,36)\"},\"yaxis\":{\"backgroundcolor\":\"white\",\"gridcolor\":\"rgb(232,232,232)\",\"gridwidth\":2,\"linecolor\":\"rgb(36,36,36)\",\"showbackground\":true,\"showgrid\":false,\"showline\":true,\"ticks\":\"outside\",\"zeroline\":false,\"zerolinecolor\":\"rgb(36,36,36)\"},\"zaxis\":{\"backgroundcolor\":\"white\",\"gridcolor\":\"rgb(232,232,232)\",\"gridwidth\":2,\"linecolor\":\"rgb(36,36,36)\",\"showbackground\":true,\"showgrid\":false,\"showline\":true,\"ticks\":\"outside\",\"zeroline\":false,\"zerolinecolor\":\"rgb(36,36,36)\"}},\"shapedefaults\":{\"fillcolor\":\"black\",\"line\":{\"width\":0},\"opacity\":0.3},\"ternary\":{\"aaxis\":{\"gridcolor\":\"rgb(232,232,232)\",\"linecolor\":\"rgb(36,36,36)\",\"showgrid\":false,\"showline\":true,\"ticks\":\"outside\"},\"baxis\":{\"gridcolor\":\"rgb(232,232,232)\",\"linecolor\":\"rgb(36,36,36)\",\"showgrid\":false,\"showline\":true,\"ticks\":\"outside\"},\"bgcolor\":\"white\",\"caxis\":{\"gridcolor\":\"rgb(232,232,232)\",\"linecolor\":\"rgb(36,36,36)\",\"showgrid\":false,\"showline\":true,\"ticks\":\"outside\"}},\"title\":{\"x\":0.05},\"xaxis\":{\"automargin\":true,\"gridcolor\":\"rgb(232,232,232)\",\"linecolor\":\"rgb(36,36,36)\",\"showgrid\":false,\"showline\":true,\"ticks\":\"outside\",\"title\":{\"standoff\":15},\"zeroline\":false,\"zerolinecolor\":\"rgb(36,36,36)\"},\"yaxis\":{\"automargin\":true,\"gridcolor\":\"rgb(232,232,232)\",\"linecolor\":\"rgb(36,36,36)\",\"showgrid\":false,\"showline\":true,\"ticks\":\"outside\",\"title\":{\"standoff\":15},\"zeroline\":false,\"zerolinecolor\":\"rgb(36,36,36)\"}}},\"xaxis\":{\"showgrid\":true,\"title\":{\"text\":\"Frequency\"}},\"yaxis\":{\"showgrid\":true,\"title\":{\"text\":\"Class\"}},\"title\":{\"font\":{\"size\":22,\"color\":\"Black\"},\"text\":\"\\u003cb\\u003eTopics per Class\\u003c\\u002fb\\u003e\",\"y\":0.95,\"x\":0.4,\"xanchor\":\"center\",\"yanchor\":\"top\"},\"hoverlabel\":{\"font\":{\"size\":16,\"family\":\"Rockwell\"},\"bgcolor\":\"white\"},\"width\":1000,\"height\":500,\"legend\":{\"title\":{\"text\":\"\\u003cb\\u003eGlobal Topic Representation\"}}},                        {\"responsive\": true}                    ).then(function(){\n",
              "                            \n",
              "var gd = document.getElementById('54fe8781-5dc1-4ec1-af51-ea99a31098a0');\n",
              "var x = new MutationObserver(function (mutations, observer) {{\n",
              "        var display = window.getComputedStyle(gd).display;\n",
              "        if (!display || display === 'none') {{\n",
              "            console.log([gd, 'removed!']);\n",
              "            Plotly.purge(gd);\n",
              "            observer.disconnect();\n",
              "        }}\n",
              "}});\n",
              "\n",
              "// Listen for the removal of the full notebook cells\n",
              "var notebookContainer = gd.closest('#notebook-container');\n",
              "if (notebookContainer) {{\n",
              "    x.observe(notebookContainer, {childList: true});\n",
              "}}\n",
              "\n",
              "// Listen for the clearing of the current output cell\n",
              "var outputEl = gd.closest('.output');\n",
              "if (outputEl) {{\n",
              "    x.observe(outputEl, {childList: true});\n",
              "}}\n",
              "\n",
              "                        })                };                            </script>        </div>\n",
              "</body>\n",
              "</html>"
            ]
          },
          "metadata": {}
        }
      ],
      "source": [
        "topic_model.visualize_topics_per_class(df, top_n_topics=10,\n",
        "                                       normalize_frequency = normalize_frequency,\n",
        "                                       width=1000, height=500,\n",
        "                                       custom_labels=custom_labels)"
      ]
    },
    {
      "cell_type": "markdown",
      "source": [
        "# 🎚️ **Parameter Study**"
      ],
      "metadata": {
        "id": "jLeTztGa21do"
      }
    },
    {
      "cell_type": "code",
      "execution_count": null,
      "metadata": {
        "id": "VNa_-9eC3LNN"
      },
      "outputs": [],
      "source": [
        "#-- Embedding\n",
        "st_id = 'all-MiniLM-L12-v2'\n",
        "\n",
        "#-- UMAP\n",
        "n_components = 15\n",
        "n_neighbors = 10\n",
        "\n",
        "# the minimum distance apart that points are allowed to be in the low dimensional representation.\n",
        "# This means that low values of min_dist will result in clumpier embeddings.\n",
        "# This can be useful if you are interested in clustering, or in finer topological structure.\n",
        "# Larger values of min_dist will prevent UMAP from packing points together and will focus on the preservation of the broad topological structure instead.\n",
        "min_dist = 0 #0.1\n",
        "\n",
        "random_state=42\n",
        "\n",
        "#-- HDBSCAN\n",
        "# a lower min_cluster_size will generate more topics\n",
        "min_cluster_size = 100 #50\n",
        "\n",
        "# The implementation defaults this value (if it is unspecified) to whatever min_cluster_size is set to.\n",
        "# The larger the value of min_samples you provide, the more conservative the clustering – more points will be declared as noise,\n",
        "# and clusters will be restricted to progressively more dense area\n",
        "#min_samples = None\n",
        "r = 0.6\n",
        "min_samples = round(min_cluster_size*r)\n",
        "\n",
        "# We need this to avoid an AttributeError when integrating our custom HDBSCAN step with BERTopic\n",
        "prediction_data=True\n",
        "\n",
        "# can improve the resultant clusters\n",
        "gen_min_span_tree=True\n",
        "\n",
        "\n",
        "#-- BERTopic\n",
        "# top n words in combined documents in a cluster\n",
        "top_n_words = 5 #10\n",
        "\n",
        "# Calculate the probabilities of all topics per document instead of the probability of the assigned topic per document.\n",
        "# This could slow down the extraction of topics if you have many documents (> 100_000).\n",
        "calculate_probabilities=False"
      ]
    },
    {
      "cell_type": "code",
      "source": [
        "from sentence_transformers import SentenceTransformer\n",
        "from umap import UMAP\n",
        "from hdbscan import HDBSCAN\n",
        "from bertopic.representation import KeyBERTInspired\n",
        "from sklearn.feature_extraction.text import CountVectorizer\n",
        "from bertopic import BERTopic\n",
        "\n",
        "def train_bertopic(docs,\n",
        "                   min_df, # CountVectorizer\n",
        "                   n_components, n_neighbors, min_dist, random_state, # UMAP\n",
        "                   min_cluster_size, min_samples, # HDBSCAN\n",
        "                   st_id = 'all-MiniLM-L12-v2',\n",
        "                   ngram_range=(1, 3),\n",
        "                   show_progress_bar=False,\n",
        "                   prediction_data=True,\n",
        "                   gen_min_span_tree=True,\n",
        "                   top_n_words=5,\n",
        "                   calculate_probabilities=False,\n",
        "                   verbose=False\n",
        "                   ):\n",
        "\n",
        "    #-- sub-models\n",
        "    embedding_model = SentenceTransformer(st_id)\n",
        "    embeddings = embedding_model.encode(docs, show_progress_bar=show_progress_bar)\n",
        "\n",
        "    vectorizer_model = CountVectorizer(stop_words=\"english\", ngram_range=ngram_range, min_df=min_df)\n",
        "\n",
        "    umap_model = UMAP(\n",
        "        n_components=n_components,\n",
        "        n_neighbors=n_neighbors,\n",
        "        min_dist=min_dist,\n",
        "        metric='cosine', random_state=random_state)\n",
        "\n",
        "    hdbscan_model = HDBSCAN(\n",
        "        min_cluster_size=min_cluster_size,\n",
        "        min_samples=min_samples,\n",
        "        metric='euclidean',\n",
        "        cluster_selection_method='eom',\n",
        "        prediction_data=prediction_data,\n",
        "        gen_min_span_tree=gen_min_span_tree\n",
        "        )\n",
        "\n",
        "    keybert = KeyBERTInspired()\n",
        "    representation_model = {\n",
        "        \"KeyBERT\": keybert\n",
        "    }\n",
        "\n",
        "    #-- train bertopic\n",
        "    topic_model = BERTopic(\n",
        "        embedding_model=embedding_model,\n",
        "        umap_model=umap_model,\n",
        "        hdbscan_model=hdbscan_model,\n",
        "        vectorizer_model=vectorizer_model,\n",
        "        representation_model=representation_model,\n",
        "\n",
        "        top_n_words=top_n_words,\n",
        "        calculate_probabilities=calculate_probabilities,\n",
        "        verbose=verbose\n",
        "    )\n",
        "\n",
        "    # Train model\n",
        "    topics, probs = topic_model.fit_transform(docs, embeddings)\n",
        "\n",
        "    # Show topics\n",
        "    return topic_model.get_topic_info()"
      ],
      "metadata": {
        "id": "leewqRHI23wc"
      },
      "execution_count": 71,
      "outputs": []
    },
    {
      "cell_type": "code",
      "source": [
        "\n",
        "\n",
        "for p in params:\n",
        "    t = train_bertopic(docs, st_id, min_df,\n",
        "                       n_components, n_neighbors, min_dist, random_state,\n",
        "                       min_cluster_size, min_samples)"
      ],
      "metadata": {
        "id": "sNHlV5Dx6Rzk"
      },
      "execution_count": null,
      "outputs": []
    },
    {
      "cell_type": "code",
      "source": [
        "min_df = 0.01\n",
        "n_components = 15\n",
        "n_neighbors = 10\n",
        "min_dist = 0\n",
        "random_state = 42\n",
        "min_cluster_size = 100\n",
        "min_samples = None\n",
        "\n",
        "param_set = [50, 100]\n",
        "\n",
        "df_cs = pd.DataFrame()\n",
        "#for i, min_cluster_size in tqdm(enumerate(param_set)):\n",
        "for i, min_cluster_size in enumerate(param_set):\n",
        "    df = train_bertopic(docs,\n",
        "                    min_df, # CountVectorizer\n",
        "                    n_components, n_neighbors, min_dist, random_state, # UMAP\n",
        "                    min_cluster_size, min_samples)\n",
        "\n",
        "    n = len(df) - 1\n",
        "    print(f'{i}) num of topics: {n}')\n",
        "\n",
        "    df = df.loc[df.Topic==0, ['Count', 'Representation']].assign(case=i)\n",
        "    df_cs = pd.concat([df_cs, df])\n",
        "\n",
        "df_cs"
      ],
      "metadata": {
        "colab": {
          "base_uri": "https://localhost:8080/",
          "height": 177
        },
        "id": "F8tbuJrS6pjY",
        "outputId": "df60d3cc-faa0-420f-aa0d-625623dbdc72"
      },
      "execution_count": 87,
      "outputs": [
        {
          "output_type": "stream",
          "name": "stderr",
          "text": [
            "1it [00:54, 54.41s/it]"
          ]
        },
        {
          "output_type": "stream",
          "name": "stdout",
          "text": [
            "num of topics: 6\n"
          ]
        },
        {
          "output_type": "stream",
          "name": "stderr",
          "text": [
            "2it [02:08, 64.42s/it]"
          ]
        },
        {
          "output_type": "stream",
          "name": "stdout",
          "text": [
            "num of topics: 2\n"
          ]
        },
        {
          "output_type": "stream",
          "name": "stderr",
          "text": [
            "\n"
          ]
        },
        {
          "output_type": "execute_result",
          "data": {
            "text/plain": [
              "   Count                         Representation  case\n",
              "1    345    [wine, good, good wine, red, price]     0\n",
              "1    497  [oak, cherry, chocolate, fruity, red]     1"
            ],
            "text/html": [
              "\n",
              "  <div id=\"df-46e4ee78-c610-48fe-9ced-9d2f58429f8a\" class=\"colab-df-container\">\n",
              "    <div>\n",
              "<style scoped>\n",
              "    .dataframe tbody tr th:only-of-type {\n",
              "        vertical-align: middle;\n",
              "    }\n",
              "\n",
              "    .dataframe tbody tr th {\n",
              "        vertical-align: top;\n",
              "    }\n",
              "\n",
              "    .dataframe thead th {\n",
              "        text-align: right;\n",
              "    }\n",
              "</style>\n",
              "<table border=\"1\" class=\"dataframe\">\n",
              "  <thead>\n",
              "    <tr style=\"text-align: right;\">\n",
              "      <th></th>\n",
              "      <th>Count</th>\n",
              "      <th>Representation</th>\n",
              "      <th>case</th>\n",
              "    </tr>\n",
              "  </thead>\n",
              "  <tbody>\n",
              "    <tr>\n",
              "      <th>1</th>\n",
              "      <td>345</td>\n",
              "      <td>[wine, good, good wine, red, price]</td>\n",
              "      <td>0</td>\n",
              "    </tr>\n",
              "    <tr>\n",
              "      <th>1</th>\n",
              "      <td>497</td>\n",
              "      <td>[oak, cherry, chocolate, fruity, red]</td>\n",
              "      <td>1</td>\n",
              "    </tr>\n",
              "  </tbody>\n",
              "</table>\n",
              "</div>\n",
              "    <div class=\"colab-df-buttons\">\n",
              "\n",
              "  <div class=\"colab-df-container\">\n",
              "    <button class=\"colab-df-convert\" onclick=\"convertToInteractive('df-46e4ee78-c610-48fe-9ced-9d2f58429f8a')\"\n",
              "            title=\"Convert this dataframe to an interactive table.\"\n",
              "            style=\"display:none;\">\n",
              "\n",
              "  <svg xmlns=\"http://www.w3.org/2000/svg\" height=\"24px\" viewBox=\"0 -960 960 960\">\n",
              "    <path d=\"M120-120v-720h720v720H120Zm60-500h600v-160H180v160Zm220 220h160v-160H400v160Zm0 220h160v-160H400v160ZM180-400h160v-160H180v160Zm440 0h160v-160H620v160ZM180-180h160v-160H180v160Zm440 0h160v-160H620v160Z\"/>\n",
              "  </svg>\n",
              "    </button>\n",
              "\n",
              "  <style>\n",
              "    .colab-df-container {\n",
              "      display:flex;\n",
              "      gap: 12px;\n",
              "    }\n",
              "\n",
              "    .colab-df-convert {\n",
              "      background-color: #E8F0FE;\n",
              "      border: none;\n",
              "      border-radius: 50%;\n",
              "      cursor: pointer;\n",
              "      display: none;\n",
              "      fill: #1967D2;\n",
              "      height: 32px;\n",
              "      padding: 0 0 0 0;\n",
              "      width: 32px;\n",
              "    }\n",
              "\n",
              "    .colab-df-convert:hover {\n",
              "      background-color: #E2EBFA;\n",
              "      box-shadow: 0px 1px 2px rgba(60, 64, 67, 0.3), 0px 1px 3px 1px rgba(60, 64, 67, 0.15);\n",
              "      fill: #174EA6;\n",
              "    }\n",
              "\n",
              "    .colab-df-buttons div {\n",
              "      margin-bottom: 4px;\n",
              "    }\n",
              "\n",
              "    [theme=dark] .colab-df-convert {\n",
              "      background-color: #3B4455;\n",
              "      fill: #D2E3FC;\n",
              "    }\n",
              "\n",
              "    [theme=dark] .colab-df-convert:hover {\n",
              "      background-color: #434B5C;\n",
              "      box-shadow: 0px 1px 3px 1px rgba(0, 0, 0, 0.15);\n",
              "      filter: drop-shadow(0px 1px 2px rgba(0, 0, 0, 0.3));\n",
              "      fill: #FFFFFF;\n",
              "    }\n",
              "  </style>\n",
              "\n",
              "    <script>\n",
              "      const buttonEl =\n",
              "        document.querySelector('#df-46e4ee78-c610-48fe-9ced-9d2f58429f8a button.colab-df-convert');\n",
              "      buttonEl.style.display =\n",
              "        google.colab.kernel.accessAllowed ? 'block' : 'none';\n",
              "\n",
              "      async function convertToInteractive(key) {\n",
              "        const element = document.querySelector('#df-46e4ee78-c610-48fe-9ced-9d2f58429f8a');\n",
              "        const dataTable =\n",
              "          await google.colab.kernel.invokeFunction('convertToInteractive',\n",
              "                                                    [key], {});\n",
              "        if (!dataTable) return;\n",
              "\n",
              "        const docLinkHtml = 'Like what you see? Visit the ' +\n",
              "          '<a target=\"_blank\" href=https://colab.research.google.com/notebooks/data_table.ipynb>data table notebook</a>'\n",
              "          + ' to learn more about interactive tables.';\n",
              "        element.innerHTML = '';\n",
              "        dataTable['output_type'] = 'display_data';\n",
              "        await google.colab.output.renderOutput(dataTable, element);\n",
              "        const docLink = document.createElement('div');\n",
              "        docLink.innerHTML = docLinkHtml;\n",
              "        element.appendChild(docLink);\n",
              "      }\n",
              "    </script>\n",
              "  </div>\n",
              "\n",
              "\n",
              "<div id=\"df-ab46a1fe-f86b-4819-bccd-cc345c8d8406\">\n",
              "  <button class=\"colab-df-quickchart\" onclick=\"quickchart('df-ab46a1fe-f86b-4819-bccd-cc345c8d8406')\"\n",
              "            title=\"Suggest charts\"\n",
              "            style=\"display:none;\">\n",
              "\n",
              "<svg xmlns=\"http://www.w3.org/2000/svg\" height=\"24px\"viewBox=\"0 0 24 24\"\n",
              "     width=\"24px\">\n",
              "    <g>\n",
              "        <path d=\"M19 3H5c-1.1 0-2 .9-2 2v14c0 1.1.9 2 2 2h14c1.1 0 2-.9 2-2V5c0-1.1-.9-2-2-2zM9 17H7v-7h2v7zm4 0h-2V7h2v10zm4 0h-2v-4h2v4z\"/>\n",
              "    </g>\n",
              "</svg>\n",
              "  </button>\n",
              "\n",
              "<style>\n",
              "  .colab-df-quickchart {\n",
              "      --bg-color: #E8F0FE;\n",
              "      --fill-color: #1967D2;\n",
              "      --hover-bg-color: #E2EBFA;\n",
              "      --hover-fill-color: #174EA6;\n",
              "      --disabled-fill-color: #AAA;\n",
              "      --disabled-bg-color: #DDD;\n",
              "  }\n",
              "\n",
              "  [theme=dark] .colab-df-quickchart {\n",
              "      --bg-color: #3B4455;\n",
              "      --fill-color: #D2E3FC;\n",
              "      --hover-bg-color: #434B5C;\n",
              "      --hover-fill-color: #FFFFFF;\n",
              "      --disabled-bg-color: #3B4455;\n",
              "      --disabled-fill-color: #666;\n",
              "  }\n",
              "\n",
              "  .colab-df-quickchart {\n",
              "    background-color: var(--bg-color);\n",
              "    border: none;\n",
              "    border-radius: 50%;\n",
              "    cursor: pointer;\n",
              "    display: none;\n",
              "    fill: var(--fill-color);\n",
              "    height: 32px;\n",
              "    padding: 0;\n",
              "    width: 32px;\n",
              "  }\n",
              "\n",
              "  .colab-df-quickchart:hover {\n",
              "    background-color: var(--hover-bg-color);\n",
              "    box-shadow: 0 1px 2px rgba(60, 64, 67, 0.3), 0 1px 3px 1px rgba(60, 64, 67, 0.15);\n",
              "    fill: var(--button-hover-fill-color);\n",
              "  }\n",
              "\n",
              "  .colab-df-quickchart-complete:disabled,\n",
              "  .colab-df-quickchart-complete:disabled:hover {\n",
              "    background-color: var(--disabled-bg-color);\n",
              "    fill: var(--disabled-fill-color);\n",
              "    box-shadow: none;\n",
              "  }\n",
              "\n",
              "  .colab-df-spinner {\n",
              "    border: 2px solid var(--fill-color);\n",
              "    border-color: transparent;\n",
              "    border-bottom-color: var(--fill-color);\n",
              "    animation:\n",
              "      spin 1s steps(1) infinite;\n",
              "  }\n",
              "\n",
              "  @keyframes spin {\n",
              "    0% {\n",
              "      border-color: transparent;\n",
              "      border-bottom-color: var(--fill-color);\n",
              "      border-left-color: var(--fill-color);\n",
              "    }\n",
              "    20% {\n",
              "      border-color: transparent;\n",
              "      border-left-color: var(--fill-color);\n",
              "      border-top-color: var(--fill-color);\n",
              "    }\n",
              "    30% {\n",
              "      border-color: transparent;\n",
              "      border-left-color: var(--fill-color);\n",
              "      border-top-color: var(--fill-color);\n",
              "      border-right-color: var(--fill-color);\n",
              "    }\n",
              "    40% {\n",
              "      border-color: transparent;\n",
              "      border-right-color: var(--fill-color);\n",
              "      border-top-color: var(--fill-color);\n",
              "    }\n",
              "    60% {\n",
              "      border-color: transparent;\n",
              "      border-right-color: var(--fill-color);\n",
              "    }\n",
              "    80% {\n",
              "      border-color: transparent;\n",
              "      border-right-color: var(--fill-color);\n",
              "      border-bottom-color: var(--fill-color);\n",
              "    }\n",
              "    90% {\n",
              "      border-color: transparent;\n",
              "      border-bottom-color: var(--fill-color);\n",
              "    }\n",
              "  }\n",
              "</style>\n",
              "\n",
              "  <script>\n",
              "    async function quickchart(key) {\n",
              "      const quickchartButtonEl =\n",
              "        document.querySelector('#' + key + ' button');\n",
              "      quickchartButtonEl.disabled = true;  // To prevent multiple clicks.\n",
              "      quickchartButtonEl.classList.add('colab-df-spinner');\n",
              "      try {\n",
              "        const charts = await google.colab.kernel.invokeFunction(\n",
              "            'suggestCharts', [key], {});\n",
              "      } catch (error) {\n",
              "        console.error('Error during call to suggestCharts:', error);\n",
              "      }\n",
              "      quickchartButtonEl.classList.remove('colab-df-spinner');\n",
              "      quickchartButtonEl.classList.add('colab-df-quickchart-complete');\n",
              "    }\n",
              "    (() => {\n",
              "      let quickchartButtonEl =\n",
              "        document.querySelector('#df-ab46a1fe-f86b-4819-bccd-cc345c8d8406 button');\n",
              "      quickchartButtonEl.style.display =\n",
              "        google.colab.kernel.accessAllowed ? 'block' : 'none';\n",
              "    })();\n",
              "  </script>\n",
              "</div>\n",
              "\n",
              "  <div id=\"id_75e2f431-9645-422e-8af4-11e2aa191ca3\">\n",
              "    <style>\n",
              "      .colab-df-generate {\n",
              "        background-color: #E8F0FE;\n",
              "        border: none;\n",
              "        border-radius: 50%;\n",
              "        cursor: pointer;\n",
              "        display: none;\n",
              "        fill: #1967D2;\n",
              "        height: 32px;\n",
              "        padding: 0 0 0 0;\n",
              "        width: 32px;\n",
              "      }\n",
              "\n",
              "      .colab-df-generate:hover {\n",
              "        background-color: #E2EBFA;\n",
              "        box-shadow: 0px 1px 2px rgba(60, 64, 67, 0.3), 0px 1px 3px 1px rgba(60, 64, 67, 0.15);\n",
              "        fill: #174EA6;\n",
              "      }\n",
              "\n",
              "      [theme=dark] .colab-df-generate {\n",
              "        background-color: #3B4455;\n",
              "        fill: #D2E3FC;\n",
              "      }\n",
              "\n",
              "      [theme=dark] .colab-df-generate:hover {\n",
              "        background-color: #434B5C;\n",
              "        box-shadow: 0px 1px 3px 1px rgba(0, 0, 0, 0.15);\n",
              "        filter: drop-shadow(0px 1px 2px rgba(0, 0, 0, 0.3));\n",
              "        fill: #FFFFFF;\n",
              "      }\n",
              "    </style>\n",
              "    <button class=\"colab-df-generate\" onclick=\"generateWithVariable('df_cs')\"\n",
              "            title=\"Generate code using this dataframe.\"\n",
              "            style=\"display:none;\">\n",
              "\n",
              "  <svg xmlns=\"http://www.w3.org/2000/svg\" height=\"24px\"viewBox=\"0 0 24 24\"\n",
              "       width=\"24px\">\n",
              "    <path d=\"M7,19H8.4L18.45,9,17,7.55,7,17.6ZM5,21V16.75L18.45,3.32a2,2,0,0,1,2.83,0l1.4,1.43a1.91,1.91,0,0,1,.58,1.4,1.91,1.91,0,0,1-.58,1.4L9.25,21ZM18.45,9,17,7.55Zm-12,3A5.31,5.31,0,0,0,4.9,8.1,5.31,5.31,0,0,0,1,6.5,5.31,5.31,0,0,0,4.9,4.9,5.31,5.31,0,0,0,6.5,1,5.31,5.31,0,0,0,8.1,4.9,5.31,5.31,0,0,0,12,6.5,5.46,5.46,0,0,0,6.5,12Z\"/>\n",
              "  </svg>\n",
              "    </button>\n",
              "    <script>\n",
              "      (() => {\n",
              "      const buttonEl =\n",
              "        document.querySelector('#id_75e2f431-9645-422e-8af4-11e2aa191ca3 button.colab-df-generate');\n",
              "      buttonEl.style.display =\n",
              "        google.colab.kernel.accessAllowed ? 'block' : 'none';\n",
              "\n",
              "      buttonEl.onclick = () => {\n",
              "        google.colab.notebook.generateWithVariable('df_cs');\n",
              "      }\n",
              "      })();\n",
              "    </script>\n",
              "  </div>\n",
              "\n",
              "    </div>\n",
              "  </div>\n"
            ]
          },
          "metadata": {},
          "execution_count": 87
        }
      ]
    },
    {
      "cell_type": "code",
      "source": [
        "print(df.loc[df.Topic==0, ['Count', 'Representation']].to_markdown())"
      ],
      "metadata": {
        "colab": {
          "base_uri": "https://localhost:8080/"
        },
        "id": "KEjPtEEiBQ4n",
        "outputId": "6bc258c3-ddd2-4eee-cda4-6069335022ae"
      },
      "execution_count": 84,
      "outputs": [
        {
          "output_type": "stream",
          "name": "stdout",
          "text": [
            "|    |   Count | Representation                                  |\n",
            "|---:|--------:|:------------------------------------------------|\n",
            "|  1 |     497 | ['oak', 'cherry', 'chocolate', 'fruity', 'red'] |\n"
          ]
        }
      ]
    },
    {
      "cell_type": "code",
      "source": [
        "df.loc[df.Topic==0, ['Count', 'Representation']].assign(case=1)"
      ],
      "metadata": {
        "colab": {
          "base_uri": "https://localhost:8080/",
          "height": 81
        },
        "id": "94FzOHAMCRzS",
        "outputId": "10e64fd6-b9af-4156-ddee-434774dbdbb0"
      },
      "execution_count": 86,
      "outputs": [
        {
          "output_type": "execute_result",
          "data": {
            "text/plain": [
              "   Count                         Representation  case\n",
              "1    497  [oak, cherry, chocolate, fruity, red]     1"
            ],
            "text/html": [
              "\n",
              "  <div id=\"df-8690f0cc-4f53-460e-bc4f-d1110336fc12\" class=\"colab-df-container\">\n",
              "    <div>\n",
              "<style scoped>\n",
              "    .dataframe tbody tr th:only-of-type {\n",
              "        vertical-align: middle;\n",
              "    }\n",
              "\n",
              "    .dataframe tbody tr th {\n",
              "        vertical-align: top;\n",
              "    }\n",
              "\n",
              "    .dataframe thead th {\n",
              "        text-align: right;\n",
              "    }\n",
              "</style>\n",
              "<table border=\"1\" class=\"dataframe\">\n",
              "  <thead>\n",
              "    <tr style=\"text-align: right;\">\n",
              "      <th></th>\n",
              "      <th>Count</th>\n",
              "      <th>Representation</th>\n",
              "      <th>case</th>\n",
              "    </tr>\n",
              "  </thead>\n",
              "  <tbody>\n",
              "    <tr>\n",
              "      <th>1</th>\n",
              "      <td>497</td>\n",
              "      <td>[oak, cherry, chocolate, fruity, red]</td>\n",
              "      <td>1</td>\n",
              "    </tr>\n",
              "  </tbody>\n",
              "</table>\n",
              "</div>\n",
              "    <div class=\"colab-df-buttons\">\n",
              "\n",
              "  <div class=\"colab-df-container\">\n",
              "    <button class=\"colab-df-convert\" onclick=\"convertToInteractive('df-8690f0cc-4f53-460e-bc4f-d1110336fc12')\"\n",
              "            title=\"Convert this dataframe to an interactive table.\"\n",
              "            style=\"display:none;\">\n",
              "\n",
              "  <svg xmlns=\"http://www.w3.org/2000/svg\" height=\"24px\" viewBox=\"0 -960 960 960\">\n",
              "    <path d=\"M120-120v-720h720v720H120Zm60-500h600v-160H180v160Zm220 220h160v-160H400v160Zm0 220h160v-160H400v160ZM180-400h160v-160H180v160Zm440 0h160v-160H620v160ZM180-180h160v-160H180v160Zm440 0h160v-160H620v160Z\"/>\n",
              "  </svg>\n",
              "    </button>\n",
              "\n",
              "  <style>\n",
              "    .colab-df-container {\n",
              "      display:flex;\n",
              "      gap: 12px;\n",
              "    }\n",
              "\n",
              "    .colab-df-convert {\n",
              "      background-color: #E8F0FE;\n",
              "      border: none;\n",
              "      border-radius: 50%;\n",
              "      cursor: pointer;\n",
              "      display: none;\n",
              "      fill: #1967D2;\n",
              "      height: 32px;\n",
              "      padding: 0 0 0 0;\n",
              "      width: 32px;\n",
              "    }\n",
              "\n",
              "    .colab-df-convert:hover {\n",
              "      background-color: #E2EBFA;\n",
              "      box-shadow: 0px 1px 2px rgba(60, 64, 67, 0.3), 0px 1px 3px 1px rgba(60, 64, 67, 0.15);\n",
              "      fill: #174EA6;\n",
              "    }\n",
              "\n",
              "    .colab-df-buttons div {\n",
              "      margin-bottom: 4px;\n",
              "    }\n",
              "\n",
              "    [theme=dark] .colab-df-convert {\n",
              "      background-color: #3B4455;\n",
              "      fill: #D2E3FC;\n",
              "    }\n",
              "\n",
              "    [theme=dark] .colab-df-convert:hover {\n",
              "      background-color: #434B5C;\n",
              "      box-shadow: 0px 1px 3px 1px rgba(0, 0, 0, 0.15);\n",
              "      filter: drop-shadow(0px 1px 2px rgba(0, 0, 0, 0.3));\n",
              "      fill: #FFFFFF;\n",
              "    }\n",
              "  </style>\n",
              "\n",
              "    <script>\n",
              "      const buttonEl =\n",
              "        document.querySelector('#df-8690f0cc-4f53-460e-bc4f-d1110336fc12 button.colab-df-convert');\n",
              "      buttonEl.style.display =\n",
              "        google.colab.kernel.accessAllowed ? 'block' : 'none';\n",
              "\n",
              "      async function convertToInteractive(key) {\n",
              "        const element = document.querySelector('#df-8690f0cc-4f53-460e-bc4f-d1110336fc12');\n",
              "        const dataTable =\n",
              "          await google.colab.kernel.invokeFunction('convertToInteractive',\n",
              "                                                    [key], {});\n",
              "        if (!dataTable) return;\n",
              "\n",
              "        const docLinkHtml = 'Like what you see? Visit the ' +\n",
              "          '<a target=\"_blank\" href=https://colab.research.google.com/notebooks/data_table.ipynb>data table notebook</a>'\n",
              "          + ' to learn more about interactive tables.';\n",
              "        element.innerHTML = '';\n",
              "        dataTable['output_type'] = 'display_data';\n",
              "        await google.colab.output.renderOutput(dataTable, element);\n",
              "        const docLink = document.createElement('div');\n",
              "        docLink.innerHTML = docLinkHtml;\n",
              "        element.appendChild(docLink);\n",
              "      }\n",
              "    </script>\n",
              "  </div>\n",
              "\n",
              "\n",
              "    </div>\n",
              "  </div>\n"
            ]
          },
          "metadata": {},
          "execution_count": 86
        }
      ]
    },
    {
      "cell_type": "code",
      "source": [],
      "metadata": {
        "id": "qlJHdfA4Catp"
      },
      "execution_count": null,
      "outputs": []
    },
    {
      "cell_type": "markdown",
      "source": [
        "check Set Params in https://github.com/lbk209/gradient_boosting/blob/main/02s_training_signals_LgbmTuning.ipynb"
      ],
      "metadata": {
        "id": "rv0f8aMKDpMQ"
      }
    }
  ]
}