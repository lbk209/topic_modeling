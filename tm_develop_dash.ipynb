{
  "nbformat": 4,
  "nbformat_minor": 0,
  "metadata": {
    "colab": {
      "provenance": [],
      "toc_visible": true,
      "mount_file_id": "19_Lf8v9THBsH435mLX9_tCA7HR6WvnLX",
      "authorship_tag": "ABX9TyNm5qeM6BgfaQsplo6fn7Aw",
      "include_colab_link": true
    },
    "kernelspec": {
      "name": "python3",
      "display_name": "Python 3"
    },
    "language_info": {
      "name": "python"
    }
  },
  "cells": [
    {
      "cell_type": "markdown",
      "metadata": {
        "id": "view-in-github",
        "colab_type": "text"
      },
      "source": [
        "<a href=\"https://colab.research.google.com/github/lbk209/topic_modeling/blob/main/tm_develop_dash.ipynb\" target=\"_parent\"><img src=\"https://colab.research.google.com/assets/colab-badge.svg\" alt=\"Open In Colab\"/></a>"
      ]
    },
    {
      "cell_type": "code",
      "source": [
        "%%capture\n",
        "!pip install dash dash_bootstrap_components"
      ],
      "metadata": {
        "id": "lwbMp2oGDcX-"
      },
      "execution_count": null,
      "outputs": []
    },
    {
      "cell_type": "code",
      "execution_count": null,
      "metadata": {
        "id": "UvrQAcxHDOv9"
      },
      "outputs": [],
      "source": [
        "from dash import Dash, dcc, html, Input, Output\n",
        "import plotly.express as px\n",
        "import dash_bootstrap_components as dbc\n",
        "\n",
        "app = Dash(__name__, external_stylesheets=[dbc.themes.BOOTSTRAP])\n",
        "\n",
        "iris = px.data.iris()\n",
        "gapminder = px.data.gapminder()\n",
        "tips = px.data.tips()\n",
        "carshare = px.data.carshare()\n",
        "\n",
        "figure_templates = [\n",
        "    \"plotly\",\n",
        "    \"ggplot2\",\n",
        "    \"seaborn\",\n",
        "    \"simple_white\",\n",
        "    \"plotly_white\",\n",
        "    \"plotly_dark\",\n",
        "    \"presentation\",\n",
        "    \"xgridoff\",\n",
        "    \"ygridoff\",\n",
        "    \"gridon\",\n",
        "    \"none\",\n",
        "]\n",
        "\n",
        "change_figure_template = html.Div(\n",
        "    [\n",
        "        html.Div(\"Change Figure Template\"),\n",
        "        dcc.Dropdown(figure_templates, figure_templates[0], id=\"template\"),\n",
        "    ],\n",
        "    className=\"pb-4\",\n",
        ")\n",
        "\n",
        "\n",
        "app.layout = dbc.Container(\n",
        "    [\n",
        "        dbc.Row(dbc.Col(change_figure_template, lg=6)),\n",
        "        dbc.Row(dbc.Col(html.Div(id=\"graphs\"))),\n",
        "    ],\n",
        "    className=\"dbc p-4\",\n",
        "    fluid=True,\n",
        ")\n",
        "\n",
        "\n",
        "@app.callback(\n",
        "    Output(\"graphs\", \"children\"),\n",
        "    Input(\"template\", \"value\"),\n",
        ")\n",
        "def update_graph_theme(template):\n",
        "    graph1 = dcc.Graph(\n",
        "        figure=px.scatter(\n",
        "            iris,\n",
        "            x=\"sepal_width\",\n",
        "            y=\"sepal_length\",\n",
        "            color=\"species\",\n",
        "            title=f\"Iris <br>{template} figure template\",\n",
        "            template=template,\n",
        "        ),\n",
        "        className=\"border\",\n",
        "    )\n",
        "    graph2 = dcc.Graph(\n",
        "        figure=px.scatter(\n",
        "            gapminder,\n",
        "            x=\"gdpPercap\",\n",
        "            y=\"lifeExp\",\n",
        "            size=\"pop\",\n",
        "            color=\"continent\",\n",
        "            hover_name=\"country\",\n",
        "            animation_frame=\"year\",\n",
        "            animation_group=\"country\",\n",
        "            log_x=True,\n",
        "            size_max=60,\n",
        "            title=f\"Gapminder <br>{template} figure template\",\n",
        "            template=template,\n",
        "        ),\n",
        "        className=\"border\",\n",
        "    )\n",
        "    graph3 = dcc.Graph(\n",
        "        figure=px.violin(\n",
        "            tips,\n",
        "            y=\"tip\",\n",
        "            x=\"smoker\",\n",
        "            color=\"sex\",\n",
        "            box=True,\n",
        "            points=\"all\",\n",
        "            hover_data=tips.columns,\n",
        "            title=f\"Tips <br>{template} figure template\",\n",
        "            template=template,\n",
        "        ),\n",
        "        className=\"border\",\n",
        "    )\n",
        "    graph4 = dcc.Graph(\n",
        "        figure=px.scatter_mapbox(\n",
        "            carshare,\n",
        "            lat=\"centroid_lat\",\n",
        "            lon=\"centroid_lon\",\n",
        "            color=\"peak_hour\",\n",
        "            size=\"car_hours\",\n",
        "            size_max=15,\n",
        "            zoom=10,\n",
        "            mapbox_style=\"carto-positron\",\n",
        "            title=f\"Carshare <br> {template} figure template\",\n",
        "            template=template,\n",
        "        ),\n",
        "        className=\"border\",\n",
        "    )\n",
        "\n",
        "    return [\n",
        "        dbc.Row([dbc.Col(graph1, lg=6), dbc.Col(graph2, lg=6)]),\n",
        "        dbc.Row([dbc.Col(graph3, lg=6), dbc.Col(graph4, lg=6)], className=\"mt-4\"),\n",
        "    ]\n",
        "\n",
        "\n",
        "if __name__ == \"__main__\":\n",
        "    app.run_server(debug=True)"
      ]
    },
    {
      "cell_type": "code",
      "source": [
        "# Import packages\n",
        "from dash import Dash, html, dash_table, dcc, callback, Output, Input\n",
        "import pandas as pd\n",
        "import plotly.express as px\n",
        "import dash_bootstrap_components as dbc\n",
        "\n",
        "# Incorporate data\n",
        "df = pd.read_csv('https://raw.githubusercontent.com/plotly/datasets/master/gapminder2007.csv')\n",
        "\n",
        "# Initialize the app - incorporate a Dash Bootstrap theme\n",
        "external_stylesheets = [dbc.themes.CERULEAN]\n",
        "app = Dash(__name__, external_stylesheets=external_stylesheets)\n",
        "\n",
        "# App layout\n",
        "app.layout = dbc.Container([\n",
        "    dbc.Row([\n",
        "        html.Div('My First App with Data, Graph, and Controls', className=\"text-primary text-center fs-3\")\n",
        "    ]),\n",
        "\n",
        "    dbc.Row([\n",
        "        dbc.RadioItems(options=[{\"label\": x, \"value\": x} for x in ['pop', 'lifeExp', 'gdpPercap']],\n",
        "                       value='lifeExp',\n",
        "                       inline=True,\n",
        "                       id='radio-buttons-final')\n",
        "    ]),\n",
        "\n",
        "    dbc.Row([\n",
        "        dbc.Col([\n",
        "            dash_table.DataTable(data=df.to_dict('records'), page_size=12, style_table={'overflowX': 'auto'})\n",
        "        ], width=6),\n",
        "\n",
        "        dbc.Col([\n",
        "            dcc.Graph(figure={}, id='my-first-graph-final')\n",
        "        ], width=6),\n",
        "    ]),\n",
        "\n",
        "], fluid=True)\n",
        "\n",
        "# Add controls to build the interaction\n",
        "@callback(\n",
        "    Output(component_id='my-first-graph-final', component_property='figure'),\n",
        "    Input(component_id='radio-buttons-final', component_property='value')\n",
        ")\n",
        "def update_graph(col_chosen):\n",
        "    fig = px.histogram(df, x='continent', y=col_chosen, histfunc='avg')\n",
        "    return fig\n",
        "\n",
        "# Run the app\n",
        "if __name__ == '__main__':\n",
        "    app.run(debug=True)\n"
      ],
      "metadata": {
        "colab": {
          "base_uri": "https://localhost:8080/",
          "height": 671
        },
        "id": "gvSifcqSEBGa",
        "outputId": "3df63cc5-1f9c-4115-a4ae-92d6b1a8c7be"
      },
      "execution_count": null,
      "outputs": [
        {
          "output_type": "display_data",
          "data": {
            "text/plain": [
              "<IPython.core.display.Javascript object>"
            ],
            "application/javascript": [
              "(async (port, path, width, height, cache, element) => {\n",
              "    if (!google.colab.kernel.accessAllowed && !cache) {\n",
              "      return;\n",
              "    }\n",
              "    element.appendChild(document.createTextNode(''));\n",
              "    const url = await google.colab.kernel.proxyPort(port, {cache});\n",
              "    const iframe = document.createElement('iframe');\n",
              "    iframe.src = new URL(path, url).toString();\n",
              "    iframe.height = height;\n",
              "    iframe.width = width;\n",
              "    iframe.style.border = 0;\n",
              "    iframe.allow = [\n",
              "        'accelerometer',\n",
              "        'autoplay',\n",
              "        'camera',\n",
              "        'clipboard-read',\n",
              "        'clipboard-write',\n",
              "        'gyroscope',\n",
              "        'magnetometer',\n",
              "        'microphone',\n",
              "        'serial',\n",
              "        'usb',\n",
              "        'xr-spatial-tracking',\n",
              "    ].join('; ');\n",
              "    element.appendChild(iframe);\n",
              "  })(8050, \"/\", \"100%\", 650, false, window.element)"
            ]
          },
          "metadata": {}
        }
      ]
    },
    {
      "cell_type": "markdown",
      "source": [
        "# Design"
      ],
      "metadata": {
        "id": "S_1u2WMzIysa"
      }
    },
    {
      "cell_type": "code",
      "source": [
        "%%capture\n",
        "!pip install dash dash_bootstrap_components"
      ],
      "metadata": {
        "id": "9x6VO1DDGX6-"
      },
      "execution_count": null,
      "outputs": []
    },
    {
      "cell_type": "code",
      "source": [
        "%%capture\n",
        "figs_zip = 'moscato_distr'\n",
        "!unzip -u {figs_zip}.zip"
      ],
      "metadata": {
        "id": "weL_FxK8DUVd"
      },
      "execution_count": null,
      "outputs": []
    },
    {
      "cell_type": "code",
      "source": [
        "import os\n",
        "\n",
        "figs_path, figs_file = figs_zip.split('_')\n",
        "\n",
        "figs_files = [x for x in os.listdir(figs_path) if x.startswith(figs_file)]\n",
        "figs_files = sorted(figs_files)\n",
        "\n",
        "if len(figs_files) == 0:\n",
        "    print('ERROR!: No fig to read')"
      ],
      "metadata": {
        "id": "sFXqUzkEIRAI"
      },
      "execution_count": null,
      "outputs": []
    },
    {
      "cell_type": "code",
      "source": [
        "import re\n",
        "\n",
        "pattern = r'\\d+(?=\\.json)'\n",
        "tids = [int(re.findall(pattern, x)[0]) for x in figs_files]"
      ],
      "metadata": {
        "id": "EUv6Y5C2Jlho"
      },
      "execution_count": null,
      "outputs": []
    },
    {
      "cell_type": "code",
      "source": [
        "options = [{'label':f'Topic {t}', 'value': f} for t, f in zip(tids, figs_files)]"
      ],
      "metadata": {
        "id": "PF1Vb6OPMMjp"
      },
      "execution_count": null,
      "outputs": []
    },
    {
      "cell_type": "code",
      "source": [
        "# Import packages\n",
        "from dash import Dash, html, dash_table, dcc, callback, Output, Input\n",
        "import plotly.express as px\n",
        "import plotly.io as pio\n",
        "import dash_bootstrap_components as dbc\n",
        "\n",
        "\n",
        "# Initialize the app - incorporate a Dash Bootstrap theme\n",
        "external_stylesheets = [dbc.themes.FLATLY]\n",
        "app = Dash(__name__, external_stylesheets=external_stylesheets)\n",
        "\n",
        "\n",
        "# App layout\n",
        "app.layout = dbc.Container([\n",
        "    #dbc.Row(html.Div('t', className=\"text-center\")),\n",
        "    html.Br(),\n",
        "    dbc.Row(\n",
        "        #html.Div('Topic Distribution', className=\"text-primary text-center fs-3\")\n",
        "        html.Div('Topic Distribution', className=\"text-primary text-center fs-4\")\n",
        "    ),\n",
        "    #html.Br(style={\"height\": 10}),\n",
        "    dbc.Row(\n",
        "        #dcc.Dropdown(options=options, value=options[0]['value'], id=\"topics\"),\n",
        "        dbc.Col(\n",
        "            dcc.Dropdown(options=options, value=options[0]['value'], id=\"topics\"),\n",
        "            #width=\"auto\"\n",
        "            width=3,\n",
        "            ),\n",
        "        justify=\"center\"\n",
        "    ),\n",
        "\n",
        "    dbc.Row(\n",
        "        dcc.Graph(figure={}, id='topic_distribution')\n",
        "    ),\n",
        "\n",
        "], fluid=True)\n",
        "\n",
        "\n",
        "# Add controls to build the interaction\n",
        "@callback(\n",
        "    Output(component_id='topic_distribution', component_property='figure'),\n",
        "    Input(component_id='topics', component_property='value')\n",
        ")\n",
        "def plot_topic_distr(file):\n",
        "    f = f'{figs_path}/{file}'\n",
        "    fig = pio.read_json(f)\n",
        "    return fig\n",
        "\n",
        "\n",
        "# Run the app\n",
        "if __name__ == '__main__':\n",
        "    app.run(debug=False,\n",
        "            jupyter_width=800, #\"70%\",\n",
        "            #jupyter_height=None\n",
        "            )\n"
      ],
      "metadata": {
        "colab": {
          "base_uri": "https://localhost:8080/",
          "height": 671
        },
        "id": "BDGCP0WzELef",
        "outputId": "dd4dffcf-5631-4f62-a333-31b775cf13c4"
      },
      "execution_count": null,
      "outputs": [
        {
          "output_type": "display_data",
          "data": {
            "text/plain": [
              "<IPython.core.display.Javascript object>"
            ],
            "application/javascript": [
              "(async (port, path, width, height, cache, element) => {\n",
              "    if (!google.colab.kernel.accessAllowed && !cache) {\n",
              "      return;\n",
              "    }\n",
              "    element.appendChild(document.createTextNode(''));\n",
              "    const url = await google.colab.kernel.proxyPort(port, {cache});\n",
              "    const iframe = document.createElement('iframe');\n",
              "    iframe.src = new URL(path, url).toString();\n",
              "    iframe.height = height;\n",
              "    iframe.width = width;\n",
              "    iframe.style.border = 0;\n",
              "    iframe.allow = [\n",
              "        'accelerometer',\n",
              "        'autoplay',\n",
              "        'camera',\n",
              "        'clipboard-read',\n",
              "        'clipboard-write',\n",
              "        'gyroscope',\n",
              "        'magnetometer',\n",
              "        'microphone',\n",
              "        'serial',\n",
              "        'usb',\n",
              "        'xr-spatial-tracking',\n",
              "    ].join('; ');\n",
              "    element.appendChild(iframe);\n",
              "  })(8050, \"/\", 800, 650, false, window.element)"
            ]
          },
          "metadata": {}
        }
      ]
    },
    {
      "cell_type": "markdown",
      "source": [
        "## testing"
      ],
      "metadata": {
        "id": "NZSfykcgS-k6"
      }
    },
    {
      "cell_type": "code",
      "source": [
        "figs_path"
      ],
      "metadata": {
        "colab": {
          "base_uri": "https://localhost:8080/",
          "height": 35
        },
        "id": "m5PN-ep4bvGK",
        "outputId": "8c81689d-4ad5-4538-b9cc-99db27dd2d94"
      },
      "execution_count": null,
      "outputs": [
        {
          "output_type": "execute_result",
          "data": {
            "text/plain": [
              "'.'"
            ],
            "application/vnd.google.colaboratory.intrinsic+json": {
              "type": "string"
            }
          },
          "metadata": {},
          "execution_count": 148
        }
      ]
    },
    {
      "cell_type": "code",
      "source": [
        "!cp moscato/*00.json ."
      ],
      "metadata": {
        "id": "GTsYRTfBcjDb"
      },
      "execution_count": null,
      "outputs": []
    },
    {
      "cell_type": "code",
      "source": [
        "figs_path ='moscato'"
      ],
      "metadata": {
        "id": "YUNils_qdslE"
      },
      "execution_count": null,
      "outputs": []
    },
    {
      "cell_type": "code",
      "source": [
        "arg = f'{options}'.replace('\\'', '\\\"')\n",
        "%run review_topic_distr.py '{arg}' '{figs_path}'"
      ],
      "metadata": {
        "colab": {
          "base_uri": "https://localhost:8080/",
          "height": 721
        },
        "id": "6zsIX20HZq06",
        "outputId": "8401391b-82ff-4fa5-cb1a-cde88874c21e"
      },
      "execution_count": null,
      "outputs": [
        {
          "output_type": "display_data",
          "data": {
            "text/plain": [
              "<IPython.core.display.Javascript object>"
            ],
            "application/javascript": [
              "(async (port, path, width, height, cache, element) => {\n",
              "    if (!google.colab.kernel.accessAllowed && !cache) {\n",
              "      return;\n",
              "    }\n",
              "    element.appendChild(document.createTextNode(''));\n",
              "    const url = await google.colab.kernel.proxyPort(port, {cache});\n",
              "    const iframe = document.createElement('iframe');\n",
              "    iframe.src = new URL(path, url).toString();\n",
              "    iframe.height = height;\n",
              "    iframe.width = width;\n",
              "    iframe.style.border = 0;\n",
              "    iframe.allow = [\n",
              "        'accelerometer',\n",
              "        'autoplay',\n",
              "        'camera',\n",
              "        'clipboard-read',\n",
              "        'clipboard-write',\n",
              "        'gyroscope',\n",
              "        'magnetometer',\n",
              "        'microphone',\n",
              "        'serial',\n",
              "        'usb',\n",
              "        'xr-spatial-tracking',\n",
              "    ].join('; ');\n",
              "    element.appendChild(iframe);\n",
              "  })(8050, \"/\", 800, 700, false, window.element)"
            ]
          },
          "metadata": {}
        }
      ]
    },
    {
      "cell_type": "code",
      "source": [
        "# Import packages\n",
        "from dash import Dash, html, dash_table, dcc, callback, Output, Input\n",
        "import plotly.express as px\n",
        "import plotly.io as pio\n",
        "import dash_bootstrap_components as dbc\n",
        "import sys\n",
        "\n",
        "\n",
        "# Initialize the app - incorporate a Dash Bootstrap theme\n",
        "external_stylesheets = [dbc.themes.FLATLY]\n",
        "app = Dash(__name__, external_stylesheets=external_stylesheets)\n",
        "\n",
        "\n",
        "# App layout\n",
        "app.layout = dbc.Container([\n",
        "    dbc.Row(html.Div('test')),\n",
        "    dbc.Row(\n",
        "        html.Div('Topic Distribution', className=\"text-primary text-center fs-3\")\n",
        "    ),\n",
        "\n",
        "    dbc.Row(\n",
        "        #dcc.Dropdown(options=options, value=options[0]['value'], id=\"topics\"),\n",
        "        dbc.Col(\n",
        "            dcc.Dropdown(options=options, value=options[0]['value'], id=\"topics\"),\n",
        "            #width=\"auto\"\n",
        "            width=4,\n",
        "            ),\n",
        "        justify=\"center\"\n",
        "    ),\n",
        "\n",
        "    dbc.Row(\n",
        "        dcc.Graph(figure={}, id='topic_distribution')\n",
        "    ),\n",
        "\n",
        "], fluid=True)\n",
        "\n",
        "\n",
        "# Add controls to build the interaction\n",
        "@callback(\n",
        "    Output(component_id='topic_distribution', component_property='figure'),\n",
        "    Input(component_id='topics', component_property='value')\n",
        ")\n",
        "def plot_topic_distr(file):\n",
        "    f = f'{figs_path}/{file}'\n",
        "    fig = pio.read_json(f)\n",
        "    return fig\n",
        "\n",
        "\n",
        "# Run the app\n",
        "if __name__ == '__main__':\n",
        "\n",
        "    options = json.loads(sys.argv[1])\n",
        "    print(options)\n",
        "\n",
        "    app.run(debug=False,\n",
        "            jupyter_width=800 #\"70%\"\n",
        "            )\n"
      ],
      "metadata": {
        "id": "tHByM4MPcOt9",
        "colab": {
          "base_uri": "https://localhost:8080/",
          "height": 339
        },
        "outputId": "85fcc7f5-a8c1-4f5f-fde9-7c0da2acb8bd"
      },
      "execution_count": null,
      "outputs": [
        {
          "output_type": "error",
          "ename": "JSONDecodeError",
          "evalue": "Expecting value: line 1 column 1 (char 0)",
          "traceback": [
            "\u001b[0;31m---------------------------------------------------------------------------\u001b[0m",
            "\u001b[0;31mJSONDecodeError\u001b[0m                           Traceback (most recent call last)",
            "\u001b[0;32m<ipython-input-114-4b04d50d63b9>\u001b[0m in \u001b[0;36m<cell line: 50>\u001b[0;34m()\u001b[0m\n\u001b[1;32m     50\u001b[0m \u001b[0;32mif\u001b[0m \u001b[0m__name__\u001b[0m \u001b[0;34m==\u001b[0m \u001b[0;34m'__main__'\u001b[0m\u001b[0;34m:\u001b[0m\u001b[0;34m\u001b[0m\u001b[0;34m\u001b[0m\u001b[0m\n\u001b[1;32m     51\u001b[0m \u001b[0;34m\u001b[0m\u001b[0m\n\u001b[0;32m---> 52\u001b[0;31m     \u001b[0moptions\u001b[0m \u001b[0;34m=\u001b[0m \u001b[0mjson\u001b[0m\u001b[0;34m.\u001b[0m\u001b[0mloads\u001b[0m\u001b[0;34m(\u001b[0m\u001b[0msys\u001b[0m\u001b[0;34m.\u001b[0m\u001b[0margv\u001b[0m\u001b[0;34m[\u001b[0m\u001b[0;36m1\u001b[0m\u001b[0;34m]\u001b[0m\u001b[0;34m)\u001b[0m\u001b[0;34m\u001b[0m\u001b[0;34m\u001b[0m\u001b[0m\n\u001b[0m\u001b[1;32m     53\u001b[0m     \u001b[0mprint\u001b[0m\u001b[0;34m(\u001b[0m\u001b[0moptions\u001b[0m\u001b[0;34m)\u001b[0m\u001b[0;34m\u001b[0m\u001b[0;34m\u001b[0m\u001b[0m\n\u001b[1;32m     54\u001b[0m \u001b[0;34m\u001b[0m\u001b[0m\n",
            "\u001b[0;32m/usr/lib/python3.10/json/__init__.py\u001b[0m in \u001b[0;36mloads\u001b[0;34m(s, cls, object_hook, parse_float, parse_int, parse_constant, object_pairs_hook, **kw)\u001b[0m\n\u001b[1;32m    344\u001b[0m             \u001b[0mparse_int\u001b[0m \u001b[0;32mis\u001b[0m \u001b[0;32mNone\u001b[0m \u001b[0;32mand\u001b[0m \u001b[0mparse_float\u001b[0m \u001b[0;32mis\u001b[0m \u001b[0;32mNone\u001b[0m \u001b[0;32mand\u001b[0m\u001b[0;34m\u001b[0m\u001b[0;34m\u001b[0m\u001b[0m\n\u001b[1;32m    345\u001b[0m             parse_constant is None and object_pairs_hook is None and not kw):\n\u001b[0;32m--> 346\u001b[0;31m         \u001b[0;32mreturn\u001b[0m \u001b[0m_default_decoder\u001b[0m\u001b[0;34m.\u001b[0m\u001b[0mdecode\u001b[0m\u001b[0;34m(\u001b[0m\u001b[0ms\u001b[0m\u001b[0;34m)\u001b[0m\u001b[0;34m\u001b[0m\u001b[0;34m\u001b[0m\u001b[0m\n\u001b[0m\u001b[1;32m    347\u001b[0m     \u001b[0;32mif\u001b[0m \u001b[0mcls\u001b[0m \u001b[0;32mis\u001b[0m \u001b[0;32mNone\u001b[0m\u001b[0;34m:\u001b[0m\u001b[0;34m\u001b[0m\u001b[0;34m\u001b[0m\u001b[0m\n\u001b[1;32m    348\u001b[0m         \u001b[0mcls\u001b[0m \u001b[0;34m=\u001b[0m \u001b[0mJSONDecoder\u001b[0m\u001b[0;34m\u001b[0m\u001b[0;34m\u001b[0m\u001b[0m\n",
            "\u001b[0;32m/usr/lib/python3.10/json/decoder.py\u001b[0m in \u001b[0;36mdecode\u001b[0;34m(self, s, _w)\u001b[0m\n\u001b[1;32m    335\u001b[0m \u001b[0;34m\u001b[0m\u001b[0m\n\u001b[1;32m    336\u001b[0m         \"\"\"\n\u001b[0;32m--> 337\u001b[0;31m         \u001b[0mobj\u001b[0m\u001b[0;34m,\u001b[0m \u001b[0mend\u001b[0m \u001b[0;34m=\u001b[0m \u001b[0mself\u001b[0m\u001b[0;34m.\u001b[0m\u001b[0mraw_decode\u001b[0m\u001b[0;34m(\u001b[0m\u001b[0ms\u001b[0m\u001b[0;34m,\u001b[0m \u001b[0midx\u001b[0m\u001b[0;34m=\u001b[0m\u001b[0m_w\u001b[0m\u001b[0;34m(\u001b[0m\u001b[0ms\u001b[0m\u001b[0;34m,\u001b[0m \u001b[0;36m0\u001b[0m\u001b[0;34m)\u001b[0m\u001b[0;34m.\u001b[0m\u001b[0mend\u001b[0m\u001b[0;34m(\u001b[0m\u001b[0;34m)\u001b[0m\u001b[0;34m)\u001b[0m\u001b[0;34m\u001b[0m\u001b[0;34m\u001b[0m\u001b[0m\n\u001b[0m\u001b[1;32m    338\u001b[0m         \u001b[0mend\u001b[0m \u001b[0;34m=\u001b[0m \u001b[0m_w\u001b[0m\u001b[0;34m(\u001b[0m\u001b[0ms\u001b[0m\u001b[0;34m,\u001b[0m \u001b[0mend\u001b[0m\u001b[0;34m)\u001b[0m\u001b[0;34m.\u001b[0m\u001b[0mend\u001b[0m\u001b[0;34m(\u001b[0m\u001b[0;34m)\u001b[0m\u001b[0;34m\u001b[0m\u001b[0;34m\u001b[0m\u001b[0m\n\u001b[1;32m    339\u001b[0m         \u001b[0;32mif\u001b[0m \u001b[0mend\u001b[0m \u001b[0;34m!=\u001b[0m \u001b[0mlen\u001b[0m\u001b[0;34m(\u001b[0m\u001b[0ms\u001b[0m\u001b[0;34m)\u001b[0m\u001b[0;34m:\u001b[0m\u001b[0;34m\u001b[0m\u001b[0;34m\u001b[0m\u001b[0m\n",
            "\u001b[0;32m/usr/lib/python3.10/json/decoder.py\u001b[0m in \u001b[0;36mraw_decode\u001b[0;34m(self, s, idx)\u001b[0m\n\u001b[1;32m    353\u001b[0m             \u001b[0mobj\u001b[0m\u001b[0;34m,\u001b[0m \u001b[0mend\u001b[0m \u001b[0;34m=\u001b[0m \u001b[0mself\u001b[0m\u001b[0;34m.\u001b[0m\u001b[0mscan_once\u001b[0m\u001b[0;34m(\u001b[0m\u001b[0ms\u001b[0m\u001b[0;34m,\u001b[0m \u001b[0midx\u001b[0m\u001b[0;34m)\u001b[0m\u001b[0;34m\u001b[0m\u001b[0;34m\u001b[0m\u001b[0m\n\u001b[1;32m    354\u001b[0m         \u001b[0;32mexcept\u001b[0m \u001b[0mStopIteration\u001b[0m \u001b[0;32mas\u001b[0m \u001b[0merr\u001b[0m\u001b[0;34m:\u001b[0m\u001b[0;34m\u001b[0m\u001b[0;34m\u001b[0m\u001b[0m\n\u001b[0;32m--> 355\u001b[0;31m             \u001b[0;32mraise\u001b[0m \u001b[0mJSONDecodeError\u001b[0m\u001b[0;34m(\u001b[0m\u001b[0;34m\"Expecting value\"\u001b[0m\u001b[0;34m,\u001b[0m \u001b[0ms\u001b[0m\u001b[0;34m,\u001b[0m \u001b[0merr\u001b[0m\u001b[0;34m.\u001b[0m\u001b[0mvalue\u001b[0m\u001b[0;34m)\u001b[0m \u001b[0;32mfrom\u001b[0m \u001b[0;32mNone\u001b[0m\u001b[0;34m\u001b[0m\u001b[0;34m\u001b[0m\u001b[0m\n\u001b[0m\u001b[1;32m    356\u001b[0m         \u001b[0;32mreturn\u001b[0m \u001b[0mobj\u001b[0m\u001b[0;34m,\u001b[0m \u001b[0mend\u001b[0m\u001b[0;34m\u001b[0m\u001b[0;34m\u001b[0m\u001b[0m\n",
            "\u001b[0;31mJSONDecodeError\u001b[0m: Expecting value: line 1 column 1 (char 0)"
          ]
        }
      ]
    },
    {
      "cell_type": "code",
      "source": [
        "t = {'label': 'Topic 0', 'value': 'distr_topic00.json'}\n",
        "%run test2 \"{t}\""
      ],
      "metadata": {
        "colab": {
          "base_uri": "https://localhost:8080/",
          "height": 356
        },
        "id": "0ne7hIUXJcZv",
        "outputId": "f5ef41b7-e8a1-4c30-875c-c7fe6b13fa49"
      },
      "execution_count": null,
      "outputs": [
        {
          "output_type": "error",
          "ename": "JSONDecodeError",
          "evalue": "Expecting property name enclosed in double quotes: line 1 column 2 (char 1)",
          "traceback": [
            "\u001b[0;31m---------------------------------------------------------------------------\u001b[0m",
            "\u001b[0;31mJSONDecodeError\u001b[0m                           Traceback (most recent call last)",
            "\u001b[0;32m/content/test2.py\u001b[0m in \u001b[0;36m<module>\u001b[0;34m\u001b[0m\n\u001b[1;32m      3\u001b[0m \u001b[0;34m\u001b[0m\u001b[0m\n\u001b[1;32m      4\u001b[0m \u001b[0;32mif\u001b[0m \u001b[0m__name__\u001b[0m \u001b[0;34m==\u001b[0m \u001b[0;34m'__main__'\u001b[0m\u001b[0;34m:\u001b[0m\u001b[0;34m\u001b[0m\u001b[0;34m\u001b[0m\u001b[0m\n\u001b[0;32m----> 5\u001b[0;31m     \u001b[0mopions\u001b[0m\u001b[0;34m=\u001b[0m\u001b[0mjson\u001b[0m\u001b[0;34m.\u001b[0m\u001b[0mloads\u001b[0m\u001b[0;34m(\u001b[0m\u001b[0msys\u001b[0m\u001b[0;34m.\u001b[0m\u001b[0margv\u001b[0m\u001b[0;34m[\u001b[0m\u001b[0;36m1\u001b[0m\u001b[0;34m]\u001b[0m\u001b[0;34m)\u001b[0m\u001b[0;34m\u001b[0m\u001b[0;34m\u001b[0m\u001b[0m\n\u001b[0m\u001b[1;32m      6\u001b[0m \u001b[0;34m\u001b[0m\u001b[0m\n\u001b[1;32m      7\u001b[0m     \u001b[0mprint\u001b[0m\u001b[0;34m(\u001b[0m\u001b[0;34mf'{options[\"label\"]}'\u001b[0m\u001b[0;34m)\u001b[0m\u001b[0;34m\u001b[0m\u001b[0;34m\u001b[0m\u001b[0m\n",
            "\u001b[0;32m/usr/lib/python3.10/json/__init__.py\u001b[0m in \u001b[0;36mloads\u001b[0;34m(s, cls, object_hook, parse_float, parse_int, parse_constant, object_pairs_hook, **kw)\u001b[0m\n\u001b[1;32m    344\u001b[0m             \u001b[0mparse_int\u001b[0m \u001b[0;32mis\u001b[0m \u001b[0;32mNone\u001b[0m \u001b[0;32mand\u001b[0m \u001b[0mparse_float\u001b[0m \u001b[0;32mis\u001b[0m \u001b[0;32mNone\u001b[0m \u001b[0;32mand\u001b[0m\u001b[0;34m\u001b[0m\u001b[0;34m\u001b[0m\u001b[0m\n\u001b[1;32m    345\u001b[0m             parse_constant is None and object_pairs_hook is None and not kw):\n\u001b[0;32m--> 346\u001b[0;31m         \u001b[0;32mreturn\u001b[0m \u001b[0m_default_decoder\u001b[0m\u001b[0;34m.\u001b[0m\u001b[0mdecode\u001b[0m\u001b[0;34m(\u001b[0m\u001b[0ms\u001b[0m\u001b[0;34m)\u001b[0m\u001b[0;34m\u001b[0m\u001b[0;34m\u001b[0m\u001b[0m\n\u001b[0m\u001b[1;32m    347\u001b[0m     \u001b[0;32mif\u001b[0m \u001b[0mcls\u001b[0m \u001b[0;32mis\u001b[0m \u001b[0;32mNone\u001b[0m\u001b[0;34m:\u001b[0m\u001b[0;34m\u001b[0m\u001b[0;34m\u001b[0m\u001b[0m\n\u001b[1;32m    348\u001b[0m         \u001b[0mcls\u001b[0m \u001b[0;34m=\u001b[0m \u001b[0mJSONDecoder\u001b[0m\u001b[0;34m\u001b[0m\u001b[0;34m\u001b[0m\u001b[0m\n",
            "\u001b[0;32m/usr/lib/python3.10/json/decoder.py\u001b[0m in \u001b[0;36mdecode\u001b[0;34m(self, s, _w)\u001b[0m\n\u001b[1;32m    335\u001b[0m \u001b[0;34m\u001b[0m\u001b[0m\n\u001b[1;32m    336\u001b[0m         \"\"\"\n\u001b[0;32m--> 337\u001b[0;31m         \u001b[0mobj\u001b[0m\u001b[0;34m,\u001b[0m \u001b[0mend\u001b[0m \u001b[0;34m=\u001b[0m \u001b[0mself\u001b[0m\u001b[0;34m.\u001b[0m\u001b[0mraw_decode\u001b[0m\u001b[0;34m(\u001b[0m\u001b[0ms\u001b[0m\u001b[0;34m,\u001b[0m \u001b[0midx\u001b[0m\u001b[0;34m=\u001b[0m\u001b[0m_w\u001b[0m\u001b[0;34m(\u001b[0m\u001b[0ms\u001b[0m\u001b[0;34m,\u001b[0m \u001b[0;36m0\u001b[0m\u001b[0;34m)\u001b[0m\u001b[0;34m.\u001b[0m\u001b[0mend\u001b[0m\u001b[0;34m(\u001b[0m\u001b[0;34m)\u001b[0m\u001b[0;34m)\u001b[0m\u001b[0;34m\u001b[0m\u001b[0;34m\u001b[0m\u001b[0m\n\u001b[0m\u001b[1;32m    338\u001b[0m         \u001b[0mend\u001b[0m \u001b[0;34m=\u001b[0m \u001b[0m_w\u001b[0m\u001b[0;34m(\u001b[0m\u001b[0ms\u001b[0m\u001b[0;34m,\u001b[0m \u001b[0mend\u001b[0m\u001b[0;34m)\u001b[0m\u001b[0;34m.\u001b[0m\u001b[0mend\u001b[0m\u001b[0;34m(\u001b[0m\u001b[0;34m)\u001b[0m\u001b[0;34m\u001b[0m\u001b[0;34m\u001b[0m\u001b[0m\n\u001b[1;32m    339\u001b[0m         \u001b[0;32mif\u001b[0m \u001b[0mend\u001b[0m \u001b[0;34m!=\u001b[0m \u001b[0mlen\u001b[0m\u001b[0;34m(\u001b[0m\u001b[0ms\u001b[0m\u001b[0;34m)\u001b[0m\u001b[0;34m:\u001b[0m\u001b[0;34m\u001b[0m\u001b[0;34m\u001b[0m\u001b[0m\n",
            "\u001b[0;32m/usr/lib/python3.10/json/decoder.py\u001b[0m in \u001b[0;36mraw_decode\u001b[0;34m(self, s, idx)\u001b[0m\n\u001b[1;32m    351\u001b[0m         \"\"\"\n\u001b[1;32m    352\u001b[0m         \u001b[0;32mtry\u001b[0m\u001b[0;34m:\u001b[0m\u001b[0;34m\u001b[0m\u001b[0;34m\u001b[0m\u001b[0m\n\u001b[0;32m--> 353\u001b[0;31m             \u001b[0mobj\u001b[0m\u001b[0;34m,\u001b[0m \u001b[0mend\u001b[0m \u001b[0;34m=\u001b[0m \u001b[0mself\u001b[0m\u001b[0;34m.\u001b[0m\u001b[0mscan_once\u001b[0m\u001b[0;34m(\u001b[0m\u001b[0ms\u001b[0m\u001b[0;34m,\u001b[0m \u001b[0midx\u001b[0m\u001b[0;34m)\u001b[0m\u001b[0;34m\u001b[0m\u001b[0;34m\u001b[0m\u001b[0m\n\u001b[0m\u001b[1;32m    354\u001b[0m         \u001b[0;32mexcept\u001b[0m \u001b[0mStopIteration\u001b[0m \u001b[0;32mas\u001b[0m \u001b[0merr\u001b[0m\u001b[0;34m:\u001b[0m\u001b[0;34m\u001b[0m\u001b[0;34m\u001b[0m\u001b[0m\n\u001b[1;32m    355\u001b[0m             \u001b[0;32mraise\u001b[0m \u001b[0mJSONDecodeError\u001b[0m\u001b[0;34m(\u001b[0m\u001b[0;34m\"Expecting value\"\u001b[0m\u001b[0;34m,\u001b[0m \u001b[0ms\u001b[0m\u001b[0;34m,\u001b[0m \u001b[0merr\u001b[0m\u001b[0;34m.\u001b[0m\u001b[0mvalue\u001b[0m\u001b[0;34m)\u001b[0m \u001b[0;32mfrom\u001b[0m \u001b[0;32mNone\u001b[0m\u001b[0;34m\u001b[0m\u001b[0;34m\u001b[0m\u001b[0m\n",
            "\u001b[0;31mJSONDecodeError\u001b[0m: Expecting property name enclosed in double quotes: line 1 column 2 (char 1)"
          ]
        }
      ]
    },
    {
      "cell_type": "code",
      "source": [
        "t['label']"
      ],
      "metadata": {
        "colab": {
          "base_uri": "https://localhost:8080/",
          "height": 35
        },
        "id": "C-ex2l9hJ0gk",
        "outputId": "496eddc1-9a59-48fa-f106-0a113b5b7be8"
      },
      "execution_count": null,
      "outputs": [
        {
          "output_type": "execute_result",
          "data": {
            "text/plain": [
              "'Topic 0'"
            ],
            "application/vnd.google.colaboratory.intrinsic+json": {
              "type": "string"
            }
          },
          "metadata": {},
          "execution_count": 27
        }
      ]
    },
    {
      "cell_type": "code",
      "source": [
        "#%run test2 \"[1, 2]\"\n",
        "#%run test2 '[1, 2]'\n",
        "\n",
        "#t = [1,2]\n",
        "t = ['a', 'b']\n",
        "%run test2 \"{t}\"\n",
        "\n",
        "#%run test2 \"['test1', 'test2']\""
      ],
      "metadata": {
        "colab": {
          "base_uri": "https://localhost:8080/",
          "height": 356
        },
        "id": "rK78pFnTMVIQ",
        "outputId": "bbbb5bbb-3a87-43ac-8f56-52c9035183c4"
      },
      "execution_count": null,
      "outputs": [
        {
          "output_type": "stream",
          "name": "stdout",
          "text": [
            "['a', 'b']\n"
          ]
        },
        {
          "output_type": "error",
          "ename": "JSONDecodeError",
          "evalue": "Expecting value: line 1 column 2 (char 1)",
          "traceback": [
            "\u001b[0;31m---------------------------------------------------------------------------\u001b[0m",
            "\u001b[0;31mJSONDecodeError\u001b[0m                           Traceback (most recent call last)",
            "\u001b[0;32m/content/test2.py\u001b[0m in \u001b[0;36m<module>\u001b[0;34m\u001b[0m\n\u001b[1;32m      5\u001b[0m     \u001b[0mprint\u001b[0m\u001b[0;34m(\u001b[0m\u001b[0msys\u001b[0m\u001b[0;34m.\u001b[0m\u001b[0margv\u001b[0m\u001b[0;34m[\u001b[0m\u001b[0;36m1\u001b[0m\u001b[0;34m]\u001b[0m\u001b[0;34m)\u001b[0m\u001b[0;34m\u001b[0m\u001b[0;34m\u001b[0m\u001b[0m\n\u001b[1;32m      6\u001b[0m \u001b[0;34m\u001b[0m\u001b[0m\n\u001b[0;32m----> 7\u001b[0;31m     \u001b[0moptions\u001b[0m\u001b[0;34m=\u001b[0m\u001b[0mjson\u001b[0m\u001b[0;34m.\u001b[0m\u001b[0mloads\u001b[0m\u001b[0;34m(\u001b[0m\u001b[0msys\u001b[0m\u001b[0;34m.\u001b[0m\u001b[0margv\u001b[0m\u001b[0;34m[\u001b[0m\u001b[0;36m1\u001b[0m\u001b[0;34m]\u001b[0m\u001b[0;34m)\u001b[0m\u001b[0;34m\u001b[0m\u001b[0;34m\u001b[0m\u001b[0m\n\u001b[0m\u001b[1;32m      8\u001b[0m \u001b[0;34m\u001b[0m\u001b[0m\n\u001b[1;32m      9\u001b[0m     \u001b[0;31m#print(f'{options[\"label\"]}')\u001b[0m\u001b[0;34m\u001b[0m\u001b[0;34m\u001b[0m\u001b[0m\n",
            "\u001b[0;32m/usr/lib/python3.10/json/__init__.py\u001b[0m in \u001b[0;36mloads\u001b[0;34m(s, cls, object_hook, parse_float, parse_int, parse_constant, object_pairs_hook, **kw)\u001b[0m\n\u001b[1;32m    344\u001b[0m             \u001b[0mparse_int\u001b[0m \u001b[0;32mis\u001b[0m \u001b[0;32mNone\u001b[0m \u001b[0;32mand\u001b[0m \u001b[0mparse_float\u001b[0m \u001b[0;32mis\u001b[0m \u001b[0;32mNone\u001b[0m \u001b[0;32mand\u001b[0m\u001b[0;34m\u001b[0m\u001b[0;34m\u001b[0m\u001b[0m\n\u001b[1;32m    345\u001b[0m             parse_constant is None and object_pairs_hook is None and not kw):\n\u001b[0;32m--> 346\u001b[0;31m         \u001b[0;32mreturn\u001b[0m \u001b[0m_default_decoder\u001b[0m\u001b[0;34m.\u001b[0m\u001b[0mdecode\u001b[0m\u001b[0;34m(\u001b[0m\u001b[0ms\u001b[0m\u001b[0;34m)\u001b[0m\u001b[0;34m\u001b[0m\u001b[0;34m\u001b[0m\u001b[0m\n\u001b[0m\u001b[1;32m    347\u001b[0m     \u001b[0;32mif\u001b[0m \u001b[0mcls\u001b[0m \u001b[0;32mis\u001b[0m \u001b[0;32mNone\u001b[0m\u001b[0;34m:\u001b[0m\u001b[0;34m\u001b[0m\u001b[0;34m\u001b[0m\u001b[0m\n\u001b[1;32m    348\u001b[0m         \u001b[0mcls\u001b[0m \u001b[0;34m=\u001b[0m \u001b[0mJSONDecoder\u001b[0m\u001b[0;34m\u001b[0m\u001b[0;34m\u001b[0m\u001b[0m\n",
            "\u001b[0;32m/usr/lib/python3.10/json/decoder.py\u001b[0m in \u001b[0;36mdecode\u001b[0;34m(self, s, _w)\u001b[0m\n\u001b[1;32m    335\u001b[0m \u001b[0;34m\u001b[0m\u001b[0m\n\u001b[1;32m    336\u001b[0m         \"\"\"\n\u001b[0;32m--> 337\u001b[0;31m         \u001b[0mobj\u001b[0m\u001b[0;34m,\u001b[0m \u001b[0mend\u001b[0m \u001b[0;34m=\u001b[0m \u001b[0mself\u001b[0m\u001b[0;34m.\u001b[0m\u001b[0mraw_decode\u001b[0m\u001b[0;34m(\u001b[0m\u001b[0ms\u001b[0m\u001b[0;34m,\u001b[0m \u001b[0midx\u001b[0m\u001b[0;34m=\u001b[0m\u001b[0m_w\u001b[0m\u001b[0;34m(\u001b[0m\u001b[0ms\u001b[0m\u001b[0;34m,\u001b[0m \u001b[0;36m0\u001b[0m\u001b[0;34m)\u001b[0m\u001b[0;34m.\u001b[0m\u001b[0mend\u001b[0m\u001b[0;34m(\u001b[0m\u001b[0;34m)\u001b[0m\u001b[0;34m)\u001b[0m\u001b[0;34m\u001b[0m\u001b[0;34m\u001b[0m\u001b[0m\n\u001b[0m\u001b[1;32m    338\u001b[0m         \u001b[0mend\u001b[0m \u001b[0;34m=\u001b[0m \u001b[0m_w\u001b[0m\u001b[0;34m(\u001b[0m\u001b[0ms\u001b[0m\u001b[0;34m,\u001b[0m \u001b[0mend\u001b[0m\u001b[0;34m)\u001b[0m\u001b[0;34m.\u001b[0m\u001b[0mend\u001b[0m\u001b[0;34m(\u001b[0m\u001b[0;34m)\u001b[0m\u001b[0;34m\u001b[0m\u001b[0;34m\u001b[0m\u001b[0m\n\u001b[1;32m    339\u001b[0m         \u001b[0;32mif\u001b[0m \u001b[0mend\u001b[0m \u001b[0;34m!=\u001b[0m \u001b[0mlen\u001b[0m\u001b[0;34m(\u001b[0m\u001b[0ms\u001b[0m\u001b[0;34m)\u001b[0m\u001b[0;34m:\u001b[0m\u001b[0;34m\u001b[0m\u001b[0;34m\u001b[0m\u001b[0m\n",
            "\u001b[0;32m/usr/lib/python3.10/json/decoder.py\u001b[0m in \u001b[0;36mraw_decode\u001b[0;34m(self, s, idx)\u001b[0m\n\u001b[1;32m    353\u001b[0m             \u001b[0mobj\u001b[0m\u001b[0;34m,\u001b[0m \u001b[0mend\u001b[0m \u001b[0;34m=\u001b[0m \u001b[0mself\u001b[0m\u001b[0;34m.\u001b[0m\u001b[0mscan_once\u001b[0m\u001b[0;34m(\u001b[0m\u001b[0ms\u001b[0m\u001b[0;34m,\u001b[0m \u001b[0midx\u001b[0m\u001b[0;34m)\u001b[0m\u001b[0;34m\u001b[0m\u001b[0;34m\u001b[0m\u001b[0m\n\u001b[1;32m    354\u001b[0m         \u001b[0;32mexcept\u001b[0m \u001b[0mStopIteration\u001b[0m \u001b[0;32mas\u001b[0m \u001b[0merr\u001b[0m\u001b[0;34m:\u001b[0m\u001b[0;34m\u001b[0m\u001b[0;34m\u001b[0m\u001b[0m\n\u001b[0;32m--> 355\u001b[0;31m             \u001b[0;32mraise\u001b[0m \u001b[0mJSONDecodeError\u001b[0m\u001b[0;34m(\u001b[0m\u001b[0;34m\"Expecting value\"\u001b[0m\u001b[0;34m,\u001b[0m \u001b[0ms\u001b[0m\u001b[0;34m,\u001b[0m \u001b[0merr\u001b[0m\u001b[0;34m.\u001b[0m\u001b[0mvalue\u001b[0m\u001b[0;34m)\u001b[0m \u001b[0;32mfrom\u001b[0m \u001b[0;32mNone\u001b[0m\u001b[0;34m\u001b[0m\u001b[0;34m\u001b[0m\u001b[0m\n\u001b[0m\u001b[1;32m    356\u001b[0m         \u001b[0;32mreturn\u001b[0m \u001b[0mobj\u001b[0m\u001b[0;34m,\u001b[0m \u001b[0mend\u001b[0m\u001b[0;34m\u001b[0m\u001b[0;34m\u001b[0m\u001b[0m\n",
            "\u001b[0;31mJSONDecodeError\u001b[0m: Expecting value: line 1 column 2 (char 1)"
          ]
        }
      ]
    },
    {
      "cell_type": "code",
      "source": [
        "import json\n",
        "\n",
        "#t = [1,2]\n",
        "#t = ['a', 'b'] # JSONDecodeError\n",
        "#t = [\"a\", \"b\"] # JSONDecodeError\n",
        "#t = [\\'a\\', \\'b\\']\n",
        "json.loads(f\"{t}\")"
      ],
      "metadata": {
        "colab": {
          "base_uri": "https://localhost:8080/",
          "height": 304
        },
        "id": "CrgRlIlAMzSx",
        "outputId": "139dd92b-c0af-4c9b-c02f-dbacd11f1f04"
      },
      "execution_count": null,
      "outputs": [
        {
          "output_type": "error",
          "ename": "JSONDecodeError",
          "evalue": "Expecting value: line 1 column 2 (char 1)",
          "traceback": [
            "\u001b[0;31m---------------------------------------------------------------------------\u001b[0m",
            "\u001b[0;31mJSONDecodeError\u001b[0m                           Traceback (most recent call last)",
            "\u001b[0;32m<ipython-input-46-b1de0fc38d94>\u001b[0m in \u001b[0;36m<cell line: 7>\u001b[0;34m()\u001b[0m\n\u001b[1;32m      5\u001b[0m \u001b[0mt\u001b[0m \u001b[0;34m=\u001b[0m \u001b[0;34m[\u001b[0m\u001b[0;34m\"a\"\u001b[0m\u001b[0;34m,\u001b[0m \u001b[0;34m\"b\"\u001b[0m\u001b[0;34m]\u001b[0m\u001b[0;34m\u001b[0m\u001b[0;34m\u001b[0m\u001b[0m\n\u001b[1;32m      6\u001b[0m \u001b[0;34m\u001b[0m\u001b[0m\n\u001b[0;32m----> 7\u001b[0;31m \u001b[0mjson\u001b[0m\u001b[0;34m.\u001b[0m\u001b[0mloads\u001b[0m\u001b[0;34m(\u001b[0m\u001b[0;34mf\"{t}\"\u001b[0m\u001b[0;34m)\u001b[0m\u001b[0;34m\u001b[0m\u001b[0;34m\u001b[0m\u001b[0m\n\u001b[0m",
            "\u001b[0;32m/usr/lib/python3.10/json/__init__.py\u001b[0m in \u001b[0;36mloads\u001b[0;34m(s, cls, object_hook, parse_float, parse_int, parse_constant, object_pairs_hook, **kw)\u001b[0m\n\u001b[1;32m    344\u001b[0m             \u001b[0mparse_int\u001b[0m \u001b[0;32mis\u001b[0m \u001b[0;32mNone\u001b[0m \u001b[0;32mand\u001b[0m \u001b[0mparse_float\u001b[0m \u001b[0;32mis\u001b[0m \u001b[0;32mNone\u001b[0m \u001b[0;32mand\u001b[0m\u001b[0;34m\u001b[0m\u001b[0;34m\u001b[0m\u001b[0m\n\u001b[1;32m    345\u001b[0m             parse_constant is None and object_pairs_hook is None and not kw):\n\u001b[0;32m--> 346\u001b[0;31m         \u001b[0;32mreturn\u001b[0m \u001b[0m_default_decoder\u001b[0m\u001b[0;34m.\u001b[0m\u001b[0mdecode\u001b[0m\u001b[0;34m(\u001b[0m\u001b[0ms\u001b[0m\u001b[0;34m)\u001b[0m\u001b[0;34m\u001b[0m\u001b[0;34m\u001b[0m\u001b[0m\n\u001b[0m\u001b[1;32m    347\u001b[0m     \u001b[0;32mif\u001b[0m \u001b[0mcls\u001b[0m \u001b[0;32mis\u001b[0m \u001b[0;32mNone\u001b[0m\u001b[0;34m:\u001b[0m\u001b[0;34m\u001b[0m\u001b[0;34m\u001b[0m\u001b[0m\n\u001b[1;32m    348\u001b[0m         \u001b[0mcls\u001b[0m \u001b[0;34m=\u001b[0m \u001b[0mJSONDecoder\u001b[0m\u001b[0;34m\u001b[0m\u001b[0;34m\u001b[0m\u001b[0m\n",
            "\u001b[0;32m/usr/lib/python3.10/json/decoder.py\u001b[0m in \u001b[0;36mdecode\u001b[0;34m(self, s, _w)\u001b[0m\n\u001b[1;32m    335\u001b[0m \u001b[0;34m\u001b[0m\u001b[0m\n\u001b[1;32m    336\u001b[0m         \"\"\"\n\u001b[0;32m--> 337\u001b[0;31m         \u001b[0mobj\u001b[0m\u001b[0;34m,\u001b[0m \u001b[0mend\u001b[0m \u001b[0;34m=\u001b[0m \u001b[0mself\u001b[0m\u001b[0;34m.\u001b[0m\u001b[0mraw_decode\u001b[0m\u001b[0;34m(\u001b[0m\u001b[0ms\u001b[0m\u001b[0;34m,\u001b[0m \u001b[0midx\u001b[0m\u001b[0;34m=\u001b[0m\u001b[0m_w\u001b[0m\u001b[0;34m(\u001b[0m\u001b[0ms\u001b[0m\u001b[0;34m,\u001b[0m \u001b[0;36m0\u001b[0m\u001b[0;34m)\u001b[0m\u001b[0;34m.\u001b[0m\u001b[0mend\u001b[0m\u001b[0;34m(\u001b[0m\u001b[0;34m)\u001b[0m\u001b[0;34m)\u001b[0m\u001b[0;34m\u001b[0m\u001b[0;34m\u001b[0m\u001b[0m\n\u001b[0m\u001b[1;32m    338\u001b[0m         \u001b[0mend\u001b[0m \u001b[0;34m=\u001b[0m \u001b[0m_w\u001b[0m\u001b[0;34m(\u001b[0m\u001b[0ms\u001b[0m\u001b[0;34m,\u001b[0m \u001b[0mend\u001b[0m\u001b[0;34m)\u001b[0m\u001b[0;34m.\u001b[0m\u001b[0mend\u001b[0m\u001b[0;34m(\u001b[0m\u001b[0;34m)\u001b[0m\u001b[0;34m\u001b[0m\u001b[0;34m\u001b[0m\u001b[0m\n\u001b[1;32m    339\u001b[0m         \u001b[0;32mif\u001b[0m \u001b[0mend\u001b[0m \u001b[0;34m!=\u001b[0m \u001b[0mlen\u001b[0m\u001b[0;34m(\u001b[0m\u001b[0ms\u001b[0m\u001b[0;34m)\u001b[0m\u001b[0;34m:\u001b[0m\u001b[0;34m\u001b[0m\u001b[0;34m\u001b[0m\u001b[0m\n",
            "\u001b[0;32m/usr/lib/python3.10/json/decoder.py\u001b[0m in \u001b[0;36mraw_decode\u001b[0;34m(self, s, idx)\u001b[0m\n\u001b[1;32m    353\u001b[0m             \u001b[0mobj\u001b[0m\u001b[0;34m,\u001b[0m \u001b[0mend\u001b[0m \u001b[0;34m=\u001b[0m \u001b[0mself\u001b[0m\u001b[0;34m.\u001b[0m\u001b[0mscan_once\u001b[0m\u001b[0;34m(\u001b[0m\u001b[0ms\u001b[0m\u001b[0;34m,\u001b[0m \u001b[0midx\u001b[0m\u001b[0;34m)\u001b[0m\u001b[0;34m\u001b[0m\u001b[0;34m\u001b[0m\u001b[0m\n\u001b[1;32m    354\u001b[0m         \u001b[0;32mexcept\u001b[0m \u001b[0mStopIteration\u001b[0m \u001b[0;32mas\u001b[0m \u001b[0merr\u001b[0m\u001b[0;34m:\u001b[0m\u001b[0;34m\u001b[0m\u001b[0;34m\u001b[0m\u001b[0m\n\u001b[0;32m--> 355\u001b[0;31m             \u001b[0;32mraise\u001b[0m \u001b[0mJSONDecodeError\u001b[0m\u001b[0;34m(\u001b[0m\u001b[0;34m\"Expecting value\"\u001b[0m\u001b[0;34m,\u001b[0m \u001b[0ms\u001b[0m\u001b[0;34m,\u001b[0m \u001b[0merr\u001b[0m\u001b[0;34m.\u001b[0m\u001b[0mvalue\u001b[0m\u001b[0;34m)\u001b[0m \u001b[0;32mfrom\u001b[0m \u001b[0;32mNone\u001b[0m\u001b[0;34m\u001b[0m\u001b[0;34m\u001b[0m\u001b[0m\n\u001b[0m\u001b[1;32m    356\u001b[0m         \u001b[0;32mreturn\u001b[0m \u001b[0mobj\u001b[0m\u001b[0;34m,\u001b[0m \u001b[0mend\u001b[0m\u001b[0;34m\u001b[0m\u001b[0;34m\u001b[0m\u001b[0m\n",
            "\u001b[0;31mJSONDecodeError\u001b[0m: Expecting value: line 1 column 2 (char 1)"
          ]
        }
      ]
    },
    {
      "cell_type": "code",
      "source": [
        "%run test3.py '{\"a\": 1, \"b\": 2}'"
      ],
      "metadata": {
        "colab": {
          "base_uri": "https://localhost:8080/"
        },
        "id": "3uBsnPpbN0WM",
        "outputId": "18dadbad-eb97-4641-9ea8-d50de9ed3a13"
      },
      "execution_count": null,
      "outputs": [
        {
          "output_type": "stream",
          "name": "stdout",
          "text": [
            "Dictionary: {'a': 1, 'b': 2}\n"
          ]
        }
      ]
    },
    {
      "cell_type": "code",
      "source": [
        "t = [\"a\", \"b\"]\n",
        "json.loads(f'{t}')"
      ],
      "metadata": {
        "colab": {
          "base_uri": "https://localhost:8080/",
          "height": 287
        },
        "id": "G5Q7MJJzPfMs",
        "outputId": "93e28149-845b-4303-bae0-7eb0ca78af45"
      },
      "execution_count": null,
      "outputs": [
        {
          "output_type": "error",
          "ename": "JSONDecodeError",
          "evalue": "Expecting value: line 1 column 2 (char 1)",
          "traceback": [
            "\u001b[0;31m---------------------------------------------------------------------------\u001b[0m",
            "\u001b[0;31mJSONDecodeError\u001b[0m                           Traceback (most recent call last)",
            "\u001b[0;32m<ipython-input-48-e3dba125f011>\u001b[0m in \u001b[0;36m<cell line: 2>\u001b[0;34m()\u001b[0m\n\u001b[1;32m      1\u001b[0m \u001b[0mt\u001b[0m \u001b[0;34m=\u001b[0m \u001b[0;34m[\u001b[0m\u001b[0;34m\"a\"\u001b[0m\u001b[0;34m,\u001b[0m \u001b[0;34m\"b\"\u001b[0m\u001b[0;34m]\u001b[0m\u001b[0;34m\u001b[0m\u001b[0;34m\u001b[0m\u001b[0m\n\u001b[0;32m----> 2\u001b[0;31m \u001b[0mjson\u001b[0m\u001b[0;34m.\u001b[0m\u001b[0mloads\u001b[0m\u001b[0;34m(\u001b[0m\u001b[0;34mf'{t}'\u001b[0m\u001b[0;34m)\u001b[0m\u001b[0;34m\u001b[0m\u001b[0;34m\u001b[0m\u001b[0m\n\u001b[0m",
            "\u001b[0;32m/usr/lib/python3.10/json/__init__.py\u001b[0m in \u001b[0;36mloads\u001b[0;34m(s, cls, object_hook, parse_float, parse_int, parse_constant, object_pairs_hook, **kw)\u001b[0m\n\u001b[1;32m    344\u001b[0m             \u001b[0mparse_int\u001b[0m \u001b[0;32mis\u001b[0m \u001b[0;32mNone\u001b[0m \u001b[0;32mand\u001b[0m \u001b[0mparse_float\u001b[0m \u001b[0;32mis\u001b[0m \u001b[0;32mNone\u001b[0m \u001b[0;32mand\u001b[0m\u001b[0;34m\u001b[0m\u001b[0;34m\u001b[0m\u001b[0m\n\u001b[1;32m    345\u001b[0m             parse_constant is None and object_pairs_hook is None and not kw):\n\u001b[0;32m--> 346\u001b[0;31m         \u001b[0;32mreturn\u001b[0m \u001b[0m_default_decoder\u001b[0m\u001b[0;34m.\u001b[0m\u001b[0mdecode\u001b[0m\u001b[0;34m(\u001b[0m\u001b[0ms\u001b[0m\u001b[0;34m)\u001b[0m\u001b[0;34m\u001b[0m\u001b[0;34m\u001b[0m\u001b[0m\n\u001b[0m\u001b[1;32m    347\u001b[0m     \u001b[0;32mif\u001b[0m \u001b[0mcls\u001b[0m \u001b[0;32mis\u001b[0m \u001b[0;32mNone\u001b[0m\u001b[0;34m:\u001b[0m\u001b[0;34m\u001b[0m\u001b[0;34m\u001b[0m\u001b[0m\n\u001b[1;32m    348\u001b[0m         \u001b[0mcls\u001b[0m \u001b[0;34m=\u001b[0m \u001b[0mJSONDecoder\u001b[0m\u001b[0;34m\u001b[0m\u001b[0;34m\u001b[0m\u001b[0m\n",
            "\u001b[0;32m/usr/lib/python3.10/json/decoder.py\u001b[0m in \u001b[0;36mdecode\u001b[0;34m(self, s, _w)\u001b[0m\n\u001b[1;32m    335\u001b[0m \u001b[0;34m\u001b[0m\u001b[0m\n\u001b[1;32m    336\u001b[0m         \"\"\"\n\u001b[0;32m--> 337\u001b[0;31m         \u001b[0mobj\u001b[0m\u001b[0;34m,\u001b[0m \u001b[0mend\u001b[0m \u001b[0;34m=\u001b[0m \u001b[0mself\u001b[0m\u001b[0;34m.\u001b[0m\u001b[0mraw_decode\u001b[0m\u001b[0;34m(\u001b[0m\u001b[0ms\u001b[0m\u001b[0;34m,\u001b[0m \u001b[0midx\u001b[0m\u001b[0;34m=\u001b[0m\u001b[0m_w\u001b[0m\u001b[0;34m(\u001b[0m\u001b[0ms\u001b[0m\u001b[0;34m,\u001b[0m \u001b[0;36m0\u001b[0m\u001b[0;34m)\u001b[0m\u001b[0;34m.\u001b[0m\u001b[0mend\u001b[0m\u001b[0;34m(\u001b[0m\u001b[0;34m)\u001b[0m\u001b[0;34m)\u001b[0m\u001b[0;34m\u001b[0m\u001b[0;34m\u001b[0m\u001b[0m\n\u001b[0m\u001b[1;32m    338\u001b[0m         \u001b[0mend\u001b[0m \u001b[0;34m=\u001b[0m \u001b[0m_w\u001b[0m\u001b[0;34m(\u001b[0m\u001b[0ms\u001b[0m\u001b[0;34m,\u001b[0m \u001b[0mend\u001b[0m\u001b[0;34m)\u001b[0m\u001b[0;34m.\u001b[0m\u001b[0mend\u001b[0m\u001b[0;34m(\u001b[0m\u001b[0;34m)\u001b[0m\u001b[0;34m\u001b[0m\u001b[0;34m\u001b[0m\u001b[0m\n\u001b[1;32m    339\u001b[0m         \u001b[0;32mif\u001b[0m \u001b[0mend\u001b[0m \u001b[0;34m!=\u001b[0m \u001b[0mlen\u001b[0m\u001b[0;34m(\u001b[0m\u001b[0ms\u001b[0m\u001b[0;34m)\u001b[0m\u001b[0;34m:\u001b[0m\u001b[0;34m\u001b[0m\u001b[0;34m\u001b[0m\u001b[0m\n",
            "\u001b[0;32m/usr/lib/python3.10/json/decoder.py\u001b[0m in \u001b[0;36mraw_decode\u001b[0;34m(self, s, idx)\u001b[0m\n\u001b[1;32m    353\u001b[0m             \u001b[0mobj\u001b[0m\u001b[0;34m,\u001b[0m \u001b[0mend\u001b[0m \u001b[0;34m=\u001b[0m \u001b[0mself\u001b[0m\u001b[0;34m.\u001b[0m\u001b[0mscan_once\u001b[0m\u001b[0;34m(\u001b[0m\u001b[0ms\u001b[0m\u001b[0;34m,\u001b[0m \u001b[0midx\u001b[0m\u001b[0;34m)\u001b[0m\u001b[0;34m\u001b[0m\u001b[0;34m\u001b[0m\u001b[0m\n\u001b[1;32m    354\u001b[0m         \u001b[0;32mexcept\u001b[0m \u001b[0mStopIteration\u001b[0m \u001b[0;32mas\u001b[0m \u001b[0merr\u001b[0m\u001b[0;34m:\u001b[0m\u001b[0;34m\u001b[0m\u001b[0;34m\u001b[0m\u001b[0m\n\u001b[0;32m--> 355\u001b[0;31m             \u001b[0;32mraise\u001b[0m \u001b[0mJSONDecodeError\u001b[0m\u001b[0;34m(\u001b[0m\u001b[0;34m\"Expecting value\"\u001b[0m\u001b[0;34m,\u001b[0m \u001b[0ms\u001b[0m\u001b[0;34m,\u001b[0m \u001b[0merr\u001b[0m\u001b[0;34m.\u001b[0m\u001b[0mvalue\u001b[0m\u001b[0;34m)\u001b[0m \u001b[0;32mfrom\u001b[0m \u001b[0;32mNone\u001b[0m\u001b[0;34m\u001b[0m\u001b[0;34m\u001b[0m\u001b[0m\n\u001b[0m\u001b[1;32m    356\u001b[0m         \u001b[0;32mreturn\u001b[0m \u001b[0mobj\u001b[0m\u001b[0;34m,\u001b[0m \u001b[0mend\u001b[0m\u001b[0;34m\u001b[0m\u001b[0;34m\u001b[0m\u001b[0m\n",
            "\u001b[0;31mJSONDecodeError\u001b[0m: Expecting value: line 1 column 2 (char 1)"
          ]
        }
      ]
    },
    {
      "cell_type": "code",
      "source": [
        "f'{t}'"
      ],
      "metadata": {
        "colab": {
          "base_uri": "https://localhost:8080/",
          "height": 35
        },
        "id": "mKuUVsQIPsHB",
        "outputId": "2626d4f2-9fbf-446a-e0fe-98396c613f2f"
      },
      "execution_count": null,
      "outputs": [
        {
          "output_type": "execute_result",
          "data": {
            "text/plain": [
              "\"['a', 'b']\""
            ],
            "application/vnd.google.colaboratory.intrinsic+json": {
              "type": "string"
            }
          },
          "metadata": {},
          "execution_count": 49
        }
      ]
    },
    {
      "cell_type": "code",
      "source": [
        "a = {'a':1, 'b':2}\n",
        "#%run test2 '{a}'\n",
        "%run test2 \"{a}\""
      ],
      "metadata": {
        "colab": {
          "base_uri": "https://localhost:8080/",
          "height": 374
        },
        "id": "i4_sru4MPxZs",
        "outputId": "f09112fb-888f-4a65-e3a4-6c6e7771d82f"
      },
      "execution_count": null,
      "outputs": [
        {
          "output_type": "stream",
          "name": "stdout",
          "text": [
            "{'a': 1, 'b': 2}\n"
          ]
        },
        {
          "output_type": "error",
          "ename": "JSONDecodeError",
          "evalue": "Expecting property name enclosed in double quotes: line 1 column 2 (char 1)",
          "traceback": [
            "\u001b[0;31m---------------------------------------------------------------------------\u001b[0m",
            "\u001b[0;31mJSONDecodeError\u001b[0m                           Traceback (most recent call last)",
            "\u001b[0;32m/content/test2.py\u001b[0m in \u001b[0;36m<module>\u001b[0;34m\u001b[0m\n\u001b[1;32m      5\u001b[0m     \u001b[0mprint\u001b[0m\u001b[0;34m(\u001b[0m\u001b[0msys\u001b[0m\u001b[0;34m.\u001b[0m\u001b[0margv\u001b[0m\u001b[0;34m[\u001b[0m\u001b[0;36m1\u001b[0m\u001b[0;34m]\u001b[0m\u001b[0;34m)\u001b[0m\u001b[0;34m\u001b[0m\u001b[0;34m\u001b[0m\u001b[0m\n\u001b[1;32m      6\u001b[0m \u001b[0;34m\u001b[0m\u001b[0m\n\u001b[0;32m----> 7\u001b[0;31m     \u001b[0moptions\u001b[0m\u001b[0;34m=\u001b[0m\u001b[0mjson\u001b[0m\u001b[0;34m.\u001b[0m\u001b[0mloads\u001b[0m\u001b[0;34m(\u001b[0m\u001b[0msys\u001b[0m\u001b[0;34m.\u001b[0m\u001b[0margv\u001b[0m\u001b[0;34m[\u001b[0m\u001b[0;36m1\u001b[0m\u001b[0;34m]\u001b[0m\u001b[0;34m)\u001b[0m\u001b[0;34m\u001b[0m\u001b[0;34m\u001b[0m\u001b[0m\n\u001b[0m\u001b[1;32m      8\u001b[0m \u001b[0;34m\u001b[0m\u001b[0m\n\u001b[1;32m      9\u001b[0m     \u001b[0;31m#print(f'{options[\"label\"]}')\u001b[0m\u001b[0;34m\u001b[0m\u001b[0;34m\u001b[0m\u001b[0m\n",
            "\u001b[0;32m/usr/lib/python3.10/json/__init__.py\u001b[0m in \u001b[0;36mloads\u001b[0;34m(s, cls, object_hook, parse_float, parse_int, parse_constant, object_pairs_hook, **kw)\u001b[0m\n\u001b[1;32m    344\u001b[0m             \u001b[0mparse_int\u001b[0m \u001b[0;32mis\u001b[0m \u001b[0;32mNone\u001b[0m \u001b[0;32mand\u001b[0m \u001b[0mparse_float\u001b[0m \u001b[0;32mis\u001b[0m \u001b[0;32mNone\u001b[0m \u001b[0;32mand\u001b[0m\u001b[0;34m\u001b[0m\u001b[0;34m\u001b[0m\u001b[0m\n\u001b[1;32m    345\u001b[0m             parse_constant is None and object_pairs_hook is None and not kw):\n\u001b[0;32m--> 346\u001b[0;31m         \u001b[0;32mreturn\u001b[0m \u001b[0m_default_decoder\u001b[0m\u001b[0;34m.\u001b[0m\u001b[0mdecode\u001b[0m\u001b[0;34m(\u001b[0m\u001b[0ms\u001b[0m\u001b[0;34m)\u001b[0m\u001b[0;34m\u001b[0m\u001b[0;34m\u001b[0m\u001b[0m\n\u001b[0m\u001b[1;32m    347\u001b[0m     \u001b[0;32mif\u001b[0m \u001b[0mcls\u001b[0m \u001b[0;32mis\u001b[0m \u001b[0;32mNone\u001b[0m\u001b[0;34m:\u001b[0m\u001b[0;34m\u001b[0m\u001b[0;34m\u001b[0m\u001b[0m\n\u001b[1;32m    348\u001b[0m         \u001b[0mcls\u001b[0m \u001b[0;34m=\u001b[0m \u001b[0mJSONDecoder\u001b[0m\u001b[0;34m\u001b[0m\u001b[0;34m\u001b[0m\u001b[0m\n",
            "\u001b[0;32m/usr/lib/python3.10/json/decoder.py\u001b[0m in \u001b[0;36mdecode\u001b[0;34m(self, s, _w)\u001b[0m\n\u001b[1;32m    335\u001b[0m \u001b[0;34m\u001b[0m\u001b[0m\n\u001b[1;32m    336\u001b[0m         \"\"\"\n\u001b[0;32m--> 337\u001b[0;31m         \u001b[0mobj\u001b[0m\u001b[0;34m,\u001b[0m \u001b[0mend\u001b[0m \u001b[0;34m=\u001b[0m \u001b[0mself\u001b[0m\u001b[0;34m.\u001b[0m\u001b[0mraw_decode\u001b[0m\u001b[0;34m(\u001b[0m\u001b[0ms\u001b[0m\u001b[0;34m,\u001b[0m \u001b[0midx\u001b[0m\u001b[0;34m=\u001b[0m\u001b[0m_w\u001b[0m\u001b[0;34m(\u001b[0m\u001b[0ms\u001b[0m\u001b[0;34m,\u001b[0m \u001b[0;36m0\u001b[0m\u001b[0;34m)\u001b[0m\u001b[0;34m.\u001b[0m\u001b[0mend\u001b[0m\u001b[0;34m(\u001b[0m\u001b[0;34m)\u001b[0m\u001b[0;34m)\u001b[0m\u001b[0;34m\u001b[0m\u001b[0;34m\u001b[0m\u001b[0m\n\u001b[0m\u001b[1;32m    338\u001b[0m         \u001b[0mend\u001b[0m \u001b[0;34m=\u001b[0m \u001b[0m_w\u001b[0m\u001b[0;34m(\u001b[0m\u001b[0ms\u001b[0m\u001b[0;34m,\u001b[0m \u001b[0mend\u001b[0m\u001b[0;34m)\u001b[0m\u001b[0;34m.\u001b[0m\u001b[0mend\u001b[0m\u001b[0;34m(\u001b[0m\u001b[0;34m)\u001b[0m\u001b[0;34m\u001b[0m\u001b[0;34m\u001b[0m\u001b[0m\n\u001b[1;32m    339\u001b[0m         \u001b[0;32mif\u001b[0m \u001b[0mend\u001b[0m \u001b[0;34m!=\u001b[0m \u001b[0mlen\u001b[0m\u001b[0;34m(\u001b[0m\u001b[0ms\u001b[0m\u001b[0;34m)\u001b[0m\u001b[0;34m:\u001b[0m\u001b[0;34m\u001b[0m\u001b[0;34m\u001b[0m\u001b[0m\n",
            "\u001b[0;32m/usr/lib/python3.10/json/decoder.py\u001b[0m in \u001b[0;36mraw_decode\u001b[0;34m(self, s, idx)\u001b[0m\n\u001b[1;32m    351\u001b[0m         \"\"\"\n\u001b[1;32m    352\u001b[0m         \u001b[0;32mtry\u001b[0m\u001b[0;34m:\u001b[0m\u001b[0;34m\u001b[0m\u001b[0;34m\u001b[0m\u001b[0m\n\u001b[0;32m--> 353\u001b[0;31m             \u001b[0mobj\u001b[0m\u001b[0;34m,\u001b[0m \u001b[0mend\u001b[0m \u001b[0;34m=\u001b[0m \u001b[0mself\u001b[0m\u001b[0;34m.\u001b[0m\u001b[0mscan_once\u001b[0m\u001b[0;34m(\u001b[0m\u001b[0ms\u001b[0m\u001b[0;34m,\u001b[0m \u001b[0midx\u001b[0m\u001b[0;34m)\u001b[0m\u001b[0;34m\u001b[0m\u001b[0;34m\u001b[0m\u001b[0m\n\u001b[0m\u001b[1;32m    354\u001b[0m         \u001b[0;32mexcept\u001b[0m \u001b[0mStopIteration\u001b[0m \u001b[0;32mas\u001b[0m \u001b[0merr\u001b[0m\u001b[0;34m:\u001b[0m\u001b[0;34m\u001b[0m\u001b[0;34m\u001b[0m\u001b[0m\n\u001b[1;32m    355\u001b[0m             \u001b[0;32mraise\u001b[0m \u001b[0mJSONDecodeError\u001b[0m\u001b[0;34m(\u001b[0m\u001b[0;34m\"Expecting value\"\u001b[0m\u001b[0;34m,\u001b[0m \u001b[0ms\u001b[0m\u001b[0;34m,\u001b[0m \u001b[0merr\u001b[0m\u001b[0;34m.\u001b[0m\u001b[0mvalue\u001b[0m\u001b[0;34m)\u001b[0m \u001b[0;32mfrom\u001b[0m \u001b[0;32mNone\u001b[0m\u001b[0;34m\u001b[0m\u001b[0;34m\u001b[0m\u001b[0m\n",
            "\u001b[0;31mJSONDecodeError\u001b[0m: Expecting property name enclosed in double quotes: line 1 column 2 (char 1)"
          ]
        }
      ]
    },
    {
      "cell_type": "code",
      "source": [
        "a = {\"a\":1, \"b\":2}\n",
        "%run test2 \"{a}\""
      ],
      "metadata": {
        "colab": {
          "base_uri": "https://localhost:8080/",
          "height": 374
        },
        "id": "1QnhH2eoQC_o",
        "outputId": "d3af72ff-1a42-4af9-dd9f-15e68d77d7bf"
      },
      "execution_count": null,
      "outputs": [
        {
          "output_type": "stream",
          "name": "stdout",
          "text": [
            "{'a': 1, 'b': 2}\n"
          ]
        },
        {
          "output_type": "error",
          "ename": "JSONDecodeError",
          "evalue": "Expecting property name enclosed in double quotes: line 1 column 2 (char 1)",
          "traceback": [
            "\u001b[0;31m---------------------------------------------------------------------------\u001b[0m",
            "\u001b[0;31mJSONDecodeError\u001b[0m                           Traceback (most recent call last)",
            "\u001b[0;32m/content/test2.py\u001b[0m in \u001b[0;36m<module>\u001b[0;34m\u001b[0m\n\u001b[1;32m      5\u001b[0m     \u001b[0mprint\u001b[0m\u001b[0;34m(\u001b[0m\u001b[0msys\u001b[0m\u001b[0;34m.\u001b[0m\u001b[0margv\u001b[0m\u001b[0;34m[\u001b[0m\u001b[0;36m1\u001b[0m\u001b[0;34m]\u001b[0m\u001b[0;34m)\u001b[0m\u001b[0;34m\u001b[0m\u001b[0;34m\u001b[0m\u001b[0m\n\u001b[1;32m      6\u001b[0m \u001b[0;34m\u001b[0m\u001b[0m\n\u001b[0;32m----> 7\u001b[0;31m     \u001b[0moptions\u001b[0m\u001b[0;34m=\u001b[0m\u001b[0mjson\u001b[0m\u001b[0;34m.\u001b[0m\u001b[0mloads\u001b[0m\u001b[0;34m(\u001b[0m\u001b[0msys\u001b[0m\u001b[0;34m.\u001b[0m\u001b[0margv\u001b[0m\u001b[0;34m[\u001b[0m\u001b[0;36m1\u001b[0m\u001b[0;34m]\u001b[0m\u001b[0;34m)\u001b[0m\u001b[0;34m\u001b[0m\u001b[0;34m\u001b[0m\u001b[0m\n\u001b[0m\u001b[1;32m      8\u001b[0m \u001b[0;34m\u001b[0m\u001b[0m\n\u001b[1;32m      9\u001b[0m     \u001b[0;31m#print(f'{options[\"label\"]}')\u001b[0m\u001b[0;34m\u001b[0m\u001b[0;34m\u001b[0m\u001b[0m\n",
            "\u001b[0;32m/usr/lib/python3.10/json/__init__.py\u001b[0m in \u001b[0;36mloads\u001b[0;34m(s, cls, object_hook, parse_float, parse_int, parse_constant, object_pairs_hook, **kw)\u001b[0m\n\u001b[1;32m    344\u001b[0m             \u001b[0mparse_int\u001b[0m \u001b[0;32mis\u001b[0m \u001b[0;32mNone\u001b[0m \u001b[0;32mand\u001b[0m \u001b[0mparse_float\u001b[0m \u001b[0;32mis\u001b[0m \u001b[0;32mNone\u001b[0m \u001b[0;32mand\u001b[0m\u001b[0;34m\u001b[0m\u001b[0;34m\u001b[0m\u001b[0m\n\u001b[1;32m    345\u001b[0m             parse_constant is None and object_pairs_hook is None and not kw):\n\u001b[0;32m--> 346\u001b[0;31m         \u001b[0;32mreturn\u001b[0m \u001b[0m_default_decoder\u001b[0m\u001b[0;34m.\u001b[0m\u001b[0mdecode\u001b[0m\u001b[0;34m(\u001b[0m\u001b[0ms\u001b[0m\u001b[0;34m)\u001b[0m\u001b[0;34m\u001b[0m\u001b[0;34m\u001b[0m\u001b[0m\n\u001b[0m\u001b[1;32m    347\u001b[0m     \u001b[0;32mif\u001b[0m \u001b[0mcls\u001b[0m \u001b[0;32mis\u001b[0m \u001b[0;32mNone\u001b[0m\u001b[0;34m:\u001b[0m\u001b[0;34m\u001b[0m\u001b[0;34m\u001b[0m\u001b[0m\n\u001b[1;32m    348\u001b[0m         \u001b[0mcls\u001b[0m \u001b[0;34m=\u001b[0m \u001b[0mJSONDecoder\u001b[0m\u001b[0;34m\u001b[0m\u001b[0;34m\u001b[0m\u001b[0m\n",
            "\u001b[0;32m/usr/lib/python3.10/json/decoder.py\u001b[0m in \u001b[0;36mdecode\u001b[0;34m(self, s, _w)\u001b[0m\n\u001b[1;32m    335\u001b[0m \u001b[0;34m\u001b[0m\u001b[0m\n\u001b[1;32m    336\u001b[0m         \"\"\"\n\u001b[0;32m--> 337\u001b[0;31m         \u001b[0mobj\u001b[0m\u001b[0;34m,\u001b[0m \u001b[0mend\u001b[0m \u001b[0;34m=\u001b[0m \u001b[0mself\u001b[0m\u001b[0;34m.\u001b[0m\u001b[0mraw_decode\u001b[0m\u001b[0;34m(\u001b[0m\u001b[0ms\u001b[0m\u001b[0;34m,\u001b[0m \u001b[0midx\u001b[0m\u001b[0;34m=\u001b[0m\u001b[0m_w\u001b[0m\u001b[0;34m(\u001b[0m\u001b[0ms\u001b[0m\u001b[0;34m,\u001b[0m \u001b[0;36m0\u001b[0m\u001b[0;34m)\u001b[0m\u001b[0;34m.\u001b[0m\u001b[0mend\u001b[0m\u001b[0;34m(\u001b[0m\u001b[0;34m)\u001b[0m\u001b[0;34m)\u001b[0m\u001b[0;34m\u001b[0m\u001b[0;34m\u001b[0m\u001b[0m\n\u001b[0m\u001b[1;32m    338\u001b[0m         \u001b[0mend\u001b[0m \u001b[0;34m=\u001b[0m \u001b[0m_w\u001b[0m\u001b[0;34m(\u001b[0m\u001b[0ms\u001b[0m\u001b[0;34m,\u001b[0m \u001b[0mend\u001b[0m\u001b[0;34m)\u001b[0m\u001b[0;34m.\u001b[0m\u001b[0mend\u001b[0m\u001b[0;34m(\u001b[0m\u001b[0;34m)\u001b[0m\u001b[0;34m\u001b[0m\u001b[0;34m\u001b[0m\u001b[0m\n\u001b[1;32m    339\u001b[0m         \u001b[0;32mif\u001b[0m \u001b[0mend\u001b[0m \u001b[0;34m!=\u001b[0m \u001b[0mlen\u001b[0m\u001b[0;34m(\u001b[0m\u001b[0ms\u001b[0m\u001b[0;34m)\u001b[0m\u001b[0;34m:\u001b[0m\u001b[0;34m\u001b[0m\u001b[0;34m\u001b[0m\u001b[0m\n",
            "\u001b[0;32m/usr/lib/python3.10/json/decoder.py\u001b[0m in \u001b[0;36mraw_decode\u001b[0;34m(self, s, idx)\u001b[0m\n\u001b[1;32m    351\u001b[0m         \"\"\"\n\u001b[1;32m    352\u001b[0m         \u001b[0;32mtry\u001b[0m\u001b[0;34m:\u001b[0m\u001b[0;34m\u001b[0m\u001b[0;34m\u001b[0m\u001b[0m\n\u001b[0;32m--> 353\u001b[0;31m             \u001b[0mobj\u001b[0m\u001b[0;34m,\u001b[0m \u001b[0mend\u001b[0m \u001b[0;34m=\u001b[0m \u001b[0mself\u001b[0m\u001b[0;34m.\u001b[0m\u001b[0mscan_once\u001b[0m\u001b[0;34m(\u001b[0m\u001b[0ms\u001b[0m\u001b[0;34m,\u001b[0m \u001b[0midx\u001b[0m\u001b[0;34m)\u001b[0m\u001b[0;34m\u001b[0m\u001b[0;34m\u001b[0m\u001b[0m\n\u001b[0m\u001b[1;32m    354\u001b[0m         \u001b[0;32mexcept\u001b[0m \u001b[0mStopIteration\u001b[0m \u001b[0;32mas\u001b[0m \u001b[0merr\u001b[0m\u001b[0;34m:\u001b[0m\u001b[0;34m\u001b[0m\u001b[0;34m\u001b[0m\u001b[0m\n\u001b[1;32m    355\u001b[0m             \u001b[0;32mraise\u001b[0m \u001b[0mJSONDecodeError\u001b[0m\u001b[0;34m(\u001b[0m\u001b[0;34m\"Expecting value\"\u001b[0m\u001b[0;34m,\u001b[0m \u001b[0ms\u001b[0m\u001b[0;34m,\u001b[0m \u001b[0merr\u001b[0m\u001b[0;34m.\u001b[0m\u001b[0mvalue\u001b[0m\u001b[0;34m)\u001b[0m \u001b[0;32mfrom\u001b[0m \u001b[0;32mNone\u001b[0m\u001b[0;34m\u001b[0m\u001b[0;34m\u001b[0m\u001b[0m\n",
            "\u001b[0;31mJSONDecodeError\u001b[0m: Expecting property name enclosed in double quotes: line 1 column 2 (char 1)"
          ]
        }
      ]
    },
    {
      "cell_type": "code",
      "source": [
        "a2 = f\"{a}\"\n",
        "\n",
        "json.loads(a2)"
      ],
      "metadata": {
        "colab": {
          "base_uri": "https://localhost:8080/",
          "height": 322
        },
        "id": "C6LhrY4kQoHx",
        "outputId": "193666f8-a2d4-48b8-cf83-1683748a23ff"
      },
      "execution_count": null,
      "outputs": [
        {
          "output_type": "error",
          "ename": "JSONDecodeError",
          "evalue": "Expecting property name enclosed in double quotes: line 1 column 2 (char 1)",
          "traceback": [
            "\u001b[0;31m---------------------------------------------------------------------------\u001b[0m",
            "\u001b[0;31mJSONDecodeError\u001b[0m                           Traceback (most recent call last)",
            "\u001b[0;32m<ipython-input-62-30b973d5327f>\u001b[0m in \u001b[0;36m<cell line: 3>\u001b[0;34m()\u001b[0m\n\u001b[1;32m      1\u001b[0m \u001b[0ma2\u001b[0m \u001b[0;34m=\u001b[0m \u001b[0;34mf\"{a}\"\u001b[0m\u001b[0;34m\u001b[0m\u001b[0;34m\u001b[0m\u001b[0m\n\u001b[1;32m      2\u001b[0m \u001b[0;34m\u001b[0m\u001b[0m\n\u001b[0;32m----> 3\u001b[0;31m \u001b[0mjson\u001b[0m\u001b[0;34m.\u001b[0m\u001b[0mloads\u001b[0m\u001b[0;34m(\u001b[0m\u001b[0ma2\u001b[0m\u001b[0;34m)\u001b[0m\u001b[0;34m\u001b[0m\u001b[0;34m\u001b[0m\u001b[0m\n\u001b[0m",
            "\u001b[0;32m/usr/lib/python3.10/json/__init__.py\u001b[0m in \u001b[0;36mloads\u001b[0;34m(s, cls, object_hook, parse_float, parse_int, parse_constant, object_pairs_hook, **kw)\u001b[0m\n\u001b[1;32m    344\u001b[0m             \u001b[0mparse_int\u001b[0m \u001b[0;32mis\u001b[0m \u001b[0;32mNone\u001b[0m \u001b[0;32mand\u001b[0m \u001b[0mparse_float\u001b[0m \u001b[0;32mis\u001b[0m \u001b[0;32mNone\u001b[0m \u001b[0;32mand\u001b[0m\u001b[0;34m\u001b[0m\u001b[0;34m\u001b[0m\u001b[0m\n\u001b[1;32m    345\u001b[0m             parse_constant is None and object_pairs_hook is None and not kw):\n\u001b[0;32m--> 346\u001b[0;31m         \u001b[0;32mreturn\u001b[0m \u001b[0m_default_decoder\u001b[0m\u001b[0;34m.\u001b[0m\u001b[0mdecode\u001b[0m\u001b[0;34m(\u001b[0m\u001b[0ms\u001b[0m\u001b[0;34m)\u001b[0m\u001b[0;34m\u001b[0m\u001b[0;34m\u001b[0m\u001b[0m\n\u001b[0m\u001b[1;32m    347\u001b[0m     \u001b[0;32mif\u001b[0m \u001b[0mcls\u001b[0m \u001b[0;32mis\u001b[0m \u001b[0;32mNone\u001b[0m\u001b[0;34m:\u001b[0m\u001b[0;34m\u001b[0m\u001b[0;34m\u001b[0m\u001b[0m\n\u001b[1;32m    348\u001b[0m         \u001b[0mcls\u001b[0m \u001b[0;34m=\u001b[0m \u001b[0mJSONDecoder\u001b[0m\u001b[0;34m\u001b[0m\u001b[0;34m\u001b[0m\u001b[0m\n",
            "\u001b[0;32m/usr/lib/python3.10/json/decoder.py\u001b[0m in \u001b[0;36mdecode\u001b[0;34m(self, s, _w)\u001b[0m\n\u001b[1;32m    335\u001b[0m \u001b[0;34m\u001b[0m\u001b[0m\n\u001b[1;32m    336\u001b[0m         \"\"\"\n\u001b[0;32m--> 337\u001b[0;31m         \u001b[0mobj\u001b[0m\u001b[0;34m,\u001b[0m \u001b[0mend\u001b[0m \u001b[0;34m=\u001b[0m \u001b[0mself\u001b[0m\u001b[0;34m.\u001b[0m\u001b[0mraw_decode\u001b[0m\u001b[0;34m(\u001b[0m\u001b[0ms\u001b[0m\u001b[0;34m,\u001b[0m \u001b[0midx\u001b[0m\u001b[0;34m=\u001b[0m\u001b[0m_w\u001b[0m\u001b[0;34m(\u001b[0m\u001b[0ms\u001b[0m\u001b[0;34m,\u001b[0m \u001b[0;36m0\u001b[0m\u001b[0;34m)\u001b[0m\u001b[0;34m.\u001b[0m\u001b[0mend\u001b[0m\u001b[0;34m(\u001b[0m\u001b[0;34m)\u001b[0m\u001b[0;34m)\u001b[0m\u001b[0;34m\u001b[0m\u001b[0;34m\u001b[0m\u001b[0m\n\u001b[0m\u001b[1;32m    338\u001b[0m         \u001b[0mend\u001b[0m \u001b[0;34m=\u001b[0m \u001b[0m_w\u001b[0m\u001b[0;34m(\u001b[0m\u001b[0ms\u001b[0m\u001b[0;34m,\u001b[0m \u001b[0mend\u001b[0m\u001b[0;34m)\u001b[0m\u001b[0;34m.\u001b[0m\u001b[0mend\u001b[0m\u001b[0;34m(\u001b[0m\u001b[0;34m)\u001b[0m\u001b[0;34m\u001b[0m\u001b[0;34m\u001b[0m\u001b[0m\n\u001b[1;32m    339\u001b[0m         \u001b[0;32mif\u001b[0m \u001b[0mend\u001b[0m \u001b[0;34m!=\u001b[0m \u001b[0mlen\u001b[0m\u001b[0;34m(\u001b[0m\u001b[0ms\u001b[0m\u001b[0;34m)\u001b[0m\u001b[0;34m:\u001b[0m\u001b[0;34m\u001b[0m\u001b[0;34m\u001b[0m\u001b[0m\n",
            "\u001b[0;32m/usr/lib/python3.10/json/decoder.py\u001b[0m in \u001b[0;36mraw_decode\u001b[0;34m(self, s, idx)\u001b[0m\n\u001b[1;32m    351\u001b[0m         \"\"\"\n\u001b[1;32m    352\u001b[0m         \u001b[0;32mtry\u001b[0m\u001b[0;34m:\u001b[0m\u001b[0;34m\u001b[0m\u001b[0;34m\u001b[0m\u001b[0m\n\u001b[0;32m--> 353\u001b[0;31m             \u001b[0mobj\u001b[0m\u001b[0;34m,\u001b[0m \u001b[0mend\u001b[0m \u001b[0;34m=\u001b[0m \u001b[0mself\u001b[0m\u001b[0;34m.\u001b[0m\u001b[0mscan_once\u001b[0m\u001b[0;34m(\u001b[0m\u001b[0ms\u001b[0m\u001b[0;34m,\u001b[0m \u001b[0midx\u001b[0m\u001b[0;34m)\u001b[0m\u001b[0;34m\u001b[0m\u001b[0;34m\u001b[0m\u001b[0m\n\u001b[0m\u001b[1;32m    354\u001b[0m         \u001b[0;32mexcept\u001b[0m \u001b[0mStopIteration\u001b[0m \u001b[0;32mas\u001b[0m \u001b[0merr\u001b[0m\u001b[0;34m:\u001b[0m\u001b[0;34m\u001b[0m\u001b[0;34m\u001b[0m\u001b[0m\n\u001b[1;32m    355\u001b[0m             \u001b[0;32mraise\u001b[0m \u001b[0mJSONDecodeError\u001b[0m\u001b[0;34m(\u001b[0m\u001b[0;34m\"Expecting value\"\u001b[0m\u001b[0;34m,\u001b[0m \u001b[0ms\u001b[0m\u001b[0;34m,\u001b[0m \u001b[0merr\u001b[0m\u001b[0;34m.\u001b[0m\u001b[0mvalue\u001b[0m\u001b[0;34m)\u001b[0m \u001b[0;32mfrom\u001b[0m \u001b[0;32mNone\u001b[0m\u001b[0;34m\u001b[0m\u001b[0;34m\u001b[0m\u001b[0m\n",
            "\u001b[0;31mJSONDecodeError\u001b[0m: Expecting property name enclosed in double quotes: line 1 column 2 (char 1)"
          ]
        }
      ]
    },
    {
      "cell_type": "code",
      "source": [
        "%run test3.py '{\"a\": 1, \"b\": 2}'"
      ],
      "metadata": {
        "colab": {
          "base_uri": "https://localhost:8080/"
        },
        "id": "vF8V85t1RHc4",
        "outputId": "cedf78bf-22dc-449e-d9ba-4bce27fa8fe4"
      },
      "execution_count": null,
      "outputs": [
        {
          "output_type": "stream",
          "name": "stdout",
          "text": [
            "Dictionary: {'a': 1, 'b': 2}\n"
          ]
        }
      ]
    },
    {
      "cell_type": "code",
      "source": [
        "a"
      ],
      "metadata": {
        "colab": {
          "base_uri": "https://localhost:8080/"
        },
        "id": "sZt97F6DRPtM",
        "outputId": "f088676e-2a69-4ba6-eff9-0dd644d4a61f"
      },
      "execution_count": null,
      "outputs": [
        {
          "output_type": "execute_result",
          "data": {
            "text/plain": [
              "{'a': 1, 'b': 2}"
            ]
          },
          "metadata": {},
          "execution_count": 65
        }
      ]
    },
    {
      "cell_type": "code",
      "source": [
        "a2 = f'{a}'.replace('\\'', '\\\"')\n",
        "%run test3.py '{a2}'"
      ],
      "metadata": {
        "colab": {
          "base_uri": "https://localhost:8080/"
        },
        "id": "_-d2ScN0SXvD",
        "outputId": "067afc84-fea8-4f59-87d4-4f46b0a667e5"
      },
      "execution_count": null,
      "outputs": [
        {
          "output_type": "stream",
          "name": "stdout",
          "text": [
            "Dictionary: {'a': 1, 'b': 2}\n"
          ]
        }
      ]
    },
    {
      "cell_type": "code",
      "source": [
        "options2 = f'{options}'.replace('\\'', '\\\"')\n",
        "%run test3.py '{options2}'"
      ],
      "metadata": {
        "colab": {
          "base_uri": "https://localhost:8080/"
        },
        "id": "NZGWrScJSe5T",
        "outputId": "d648d952-8eac-4424-d178-7bf070380ca4"
      },
      "execution_count": null,
      "outputs": [
        {
          "output_type": "stream",
          "name": "stdout",
          "text": [
            "Dictionary: [{'label': 'Topic 0', 'value': 'distr_topic00.json'}, {'label': 'Topic 1', 'value': 'distr_topic01.json'}, {'label': 'Topic 2', 'value': 'distr_topic02.json'}, {'label': 'Topic 3', 'value': 'distr_topic03.json'}, {'label': 'Topic 4', 'value': 'distr_topic04.json'}, {'label': 'Topic 5', 'value': 'distr_topic05.json'}, {'label': 'Topic 6', 'value': 'distr_topic06.json'}, {'label': 'Topic 7', 'value': 'distr_topic07.json'}, {'label': 'Topic 8', 'value': 'distr_topic08.json'}, {'label': 'Topic 9', 'value': 'distr_topic09.json'}, {'label': 'Topic 10', 'value': 'distr_topic10.json'}, {'label': 'Topic 11', 'value': 'distr_topic11.json'}, {'label': 'Topic 12', 'value': 'distr_topic12.json'}, {'label': 'Topic 13', 'value': 'distr_topic13.json'}, {'label': 'Topic 14', 'value': 'distr_topic14.json'}, {'label': 'Topic 15', 'value': 'distr_topic15.json'}, {'label': 'Topic 16', 'value': 'distr_topic16.json'}, {'label': 'Topic 17', 'value': 'distr_topic17.json'}, {'label': 'Topic 18', 'value': 'distr_topic18.json'}, {'label': 'Topic 19', 'value': 'distr_topic19.json'}, {'label': 'Topic 20', 'value': 'distr_topic20.json'}, {'label': 'Topic 21', 'value': 'distr_topic21.json'}, {'label': 'Topic 22', 'value': 'distr_topic22.json'}, {'label': 'Topic 23', 'value': 'distr_topic23.json'}, {'label': 'Topic 24', 'value': 'distr_topic24.json'}, {'label': 'Topic 25', 'value': 'distr_topic25.json'}, {'label': 'Topic 26', 'value': 'distr_topic26.json'}, {'label': 'Topic 27', 'value': 'distr_topic27.json'}, {'label': 'Topic 28', 'value': 'distr_topic28.json'}, {'label': 'Topic 29', 'value': 'distr_topic29.json'}, {'label': 'Topic 30', 'value': 'distr_topic30.json'}, {'label': 'Topic 31', 'value': 'distr_topic31.json'}, {'label': 'Topic 32', 'value': 'distr_topic32.json'}, {'label': 'Topic 33', 'value': 'distr_topic33.json'}, {'label': 'Topic 34', 'value': 'distr_topic34.json'}, {'label': 'Topic 35', 'value': 'distr_topic35.json'}, {'label': 'Topic 36', 'value': 'distr_topic36.json'}, {'label': 'Topic 37', 'value': 'distr_topic37.json'}]\n"
          ]
        }
      ]
    },
    {
      "cell_type": "code",
      "source": [
        "%run test2.py '{options2}'"
      ],
      "metadata": {
        "colab": {
          "base_uri": "https://localhost:8080/"
        },
        "id": "LvFpcuaMS34w",
        "outputId": "8f0e95b4-9c3f-4952-9f89-5ca6acb21e32"
      },
      "execution_count": null,
      "outputs": [
        {
          "output_type": "stream",
          "name": "stdout",
          "text": [
            "[{\"label\": \"Topic 0\", \"value\": \"distr_topic00.json\"}, {\"label\": \"Topic 1\", \"value\": \"distr_topic01.json\"}, {\"label\": \"Topic 2\", \"value\": \"distr_topic02.json\"}, {\"label\": \"Topic 3\", \"value\": \"distr_topic03.json\"}, {\"label\": \"Topic 4\", \"value\": \"distr_topic04.json\"}, {\"label\": \"Topic 5\", \"value\": \"distr_topic05.json\"}, {\"label\": \"Topic 6\", \"value\": \"distr_topic06.json\"}, {\"label\": \"Topic 7\", \"value\": \"distr_topic07.json\"}, {\"label\": \"Topic 8\", \"value\": \"distr_topic08.json\"}, {\"label\": \"Topic 9\", \"value\": \"distr_topic09.json\"}, {\"label\": \"Topic 10\", \"value\": \"distr_topic10.json\"}, {\"label\": \"Topic 11\", \"value\": \"distr_topic11.json\"}, {\"label\": \"Topic 12\", \"value\": \"distr_topic12.json\"}, {\"label\": \"Topic 13\", \"value\": \"distr_topic13.json\"}, {\"label\": \"Topic 14\", \"value\": \"distr_topic14.json\"}, {\"label\": \"Topic 15\", \"value\": \"distr_topic15.json\"}, {\"label\": \"Topic 16\", \"value\": \"distr_topic16.json\"}, {\"label\": \"Topic 17\", \"value\": \"distr_topic17.json\"}, {\"label\": \"Topic 18\", \"value\": \"distr_topic18.json\"}, {\"label\": \"Topic 19\", \"value\": \"distr_topic19.json\"}, {\"label\": \"Topic 20\", \"value\": \"distr_topic20.json\"}, {\"label\": \"Topic 21\", \"value\": \"distr_topic21.json\"}, {\"label\": \"Topic 22\", \"value\": \"distr_topic22.json\"}, {\"label\": \"Topic 23\", \"value\": \"distr_topic23.json\"}, {\"label\": \"Topic 24\", \"value\": \"distr_topic24.json\"}, {\"label\": \"Topic 25\", \"value\": \"distr_topic25.json\"}, {\"label\": \"Topic 26\", \"value\": \"distr_topic26.json\"}, {\"label\": \"Topic 27\", \"value\": \"distr_topic27.json\"}, {\"label\": \"Topic 28\", \"value\": \"distr_topic28.json\"}, {\"label\": \"Topic 29\", \"value\": \"distr_topic29.json\"}, {\"label\": \"Topic 30\", \"value\": \"distr_topic30.json\"}, {\"label\": \"Topic 31\", \"value\": \"distr_topic31.json\"}, {\"label\": \"Topic 32\", \"value\": \"distr_topic32.json\"}, {\"label\": \"Topic 33\", \"value\": \"distr_topic33.json\"}, {\"label\": \"Topic 34\", \"value\": \"distr_topic34.json\"}, {\"label\": \"Topic 35\", \"value\": \"distr_topic35.json\"}, {\"label\": \"Topic 36\", \"value\": \"distr_topic36.json\"}, {\"label\": \"Topic 37\", \"value\": \"distr_topic37.json\"}]\n",
            "Topic 0\n",
            "[{'label': 'Topic 0', 'value': 'distr_topic00.json'}, {'label': 'Topic 1', 'value': 'distr_topic01.json'}, {'label': 'Topic 2', 'value': 'distr_topic02.json'}, {'label': 'Topic 3', 'value': 'distr_topic03.json'}, {'label': 'Topic 4', 'value': 'distr_topic04.json'}, {'label': 'Topic 5', 'value': 'distr_topic05.json'}, {'label': 'Topic 6', 'value': 'distr_topic06.json'}, {'label': 'Topic 7', 'value': 'distr_topic07.json'}, {'label': 'Topic 8', 'value': 'distr_topic08.json'}, {'label': 'Topic 9', 'value': 'distr_topic09.json'}, {'label': 'Topic 10', 'value': 'distr_topic10.json'}, {'label': 'Topic 11', 'value': 'distr_topic11.json'}, {'label': 'Topic 12', 'value': 'distr_topic12.json'}, {'label': 'Topic 13', 'value': 'distr_topic13.json'}, {'label': 'Topic 14', 'value': 'distr_topic14.json'}, {'label': 'Topic 15', 'value': 'distr_topic15.json'}, {'label': 'Topic 16', 'value': 'distr_topic16.json'}, {'label': 'Topic 17', 'value': 'distr_topic17.json'}, {'label': 'Topic 18', 'value': 'distr_topic18.json'}, {'label': 'Topic 19', 'value': 'distr_topic19.json'}, {'label': 'Topic 20', 'value': 'distr_topic20.json'}, {'label': 'Topic 21', 'value': 'distr_topic21.json'}, {'label': 'Topic 22', 'value': 'distr_topic22.json'}, {'label': 'Topic 23', 'value': 'distr_topic23.json'}, {'label': 'Topic 24', 'value': 'distr_topic24.json'}, {'label': 'Topic 25', 'value': 'distr_topic25.json'}, {'label': 'Topic 26', 'value': 'distr_topic26.json'}, {'label': 'Topic 27', 'value': 'distr_topic27.json'}, {'label': 'Topic 28', 'value': 'distr_topic28.json'}, {'label': 'Topic 29', 'value': 'distr_topic29.json'}, {'label': 'Topic 30', 'value': 'distr_topic30.json'}, {'label': 'Topic 31', 'value': 'distr_topic31.json'}, {'label': 'Topic 32', 'value': 'distr_topic32.json'}, {'label': 'Topic 33', 'value': 'distr_topic33.json'}, {'label': 'Topic 34', 'value': 'distr_topic34.json'}, {'label': 'Topic 35', 'value': 'distr_topic35.json'}, {'label': 'Topic 36', 'value': 'distr_topic36.json'}, {'label': 'Topic 37', 'value': 'distr_topic37.json'}]\n"
          ]
        }
      ]
    },
    {
      "cell_type": "code",
      "source": [
        "# Import packages\n",
        "from dash import Dash, html, dash_table, dcc, callback, Output, Input\n",
        "import plotly.express as px\n",
        "import plotly.io as pio\n",
        "import dash_bootstrap_components as dbc\n",
        "\n",
        "\n",
        "# Initialize the app - incorporate a Dash Bootstrap theme\n",
        "external_stylesheets = [dbc.themes.FLATLY]\n",
        "app = Dash(__name__, external_stylesheets=external_stylesheets)\n",
        "\n",
        "\n",
        "# App layout\n",
        "app.layout = dbc.Container([\n",
        "    html.Div([\n",
        "        dbc.Stack([\n",
        "            html.Div('Topic Distribution', className=\"text-primary text-center fs-4\"),\n",
        "            dcc.Dropdown(options=options, value=options[0]['value'], id=\"topics\")\n",
        "        ], gap=2)\n",
        "    ]),\n",
        "\n",
        "    dbc.Row(\n",
        "        dcc.Graph(figure={}, id='topic_distribution')\n",
        "    ),\n",
        "\n",
        "], fluid=True)\n",
        "\n",
        "\n",
        "# Add controls to build the interaction\n",
        "@callback(\n",
        "    Output(component_id='topic_distribution', component_property='figure'),\n",
        "    Input(component_id='topics', component_property='value')\n",
        ")\n",
        "def plot_topic_distr(file):\n",
        "    f = f'{figs_path}/{file}'\n",
        "    fig = pio.read_json(f)\n",
        "    return fig\n",
        "\n",
        "\n",
        "# Run the app\n",
        "if __name__ == '__main__':\n",
        "    app.run(debug=False,\n",
        "            jupyter_width=800, #\"70%\",\n",
        "            jupyter_height=700\n",
        "            )"
      ],
      "metadata": {
        "colab": {
          "base_uri": "https://localhost:8080/",
          "height": 721
        },
        "id": "muv61pHaTVmo",
        "outputId": "4edd1452-2b85-4308-b48e-9d6c2b4611f2"
      },
      "execution_count": null,
      "outputs": [
        {
          "output_type": "display_data",
          "data": {
            "text/plain": [
              "<IPython.core.display.Javascript object>"
            ],
            "application/javascript": [
              "(async (port, path, width, height, cache, element) => {\n",
              "    if (!google.colab.kernel.accessAllowed && !cache) {\n",
              "      return;\n",
              "    }\n",
              "    element.appendChild(document.createTextNode(''));\n",
              "    const url = await google.colab.kernel.proxyPort(port, {cache});\n",
              "    const iframe = document.createElement('iframe');\n",
              "    iframe.src = new URL(path, url).toString();\n",
              "    iframe.height = height;\n",
              "    iframe.width = width;\n",
              "    iframe.style.border = 0;\n",
              "    iframe.allow = [\n",
              "        'accelerometer',\n",
              "        'autoplay',\n",
              "        'camera',\n",
              "        'clipboard-read',\n",
              "        'clipboard-write',\n",
              "        'gyroscope',\n",
              "        'magnetometer',\n",
              "        'microphone',\n",
              "        'serial',\n",
              "        'usb',\n",
              "        'xr-spatial-tracking',\n",
              "    ].join('; ');\n",
              "    element.appendChild(iframe);\n",
              "  })(8050, \"/\", 800, 700, false, window.element)"
            ]
          },
          "metadata": {}
        }
      ]
    },
    {
      "cell_type": "code",
      "source": [
        "# Import packages\n",
        "from dash import Dash, html, dash_table, dcc, callback, Output, Input\n",
        "import plotly.express as px\n",
        "import plotly.io as pio\n",
        "import dash_bootstrap_components as dbc\n",
        "\n",
        "\n",
        "# Initialize the app - incorporate a Dash Bootstrap theme\n",
        "external_stylesheets = [dbc.themes.FLATLY]\n",
        "app = Dash(__name__, external_stylesheets=external_stylesheets)\n",
        "\n",
        "\n",
        "# App layout\n",
        "app.layout = dbc.Container([\n",
        "    dbc.Row(\n",
        "        dbc.Col([\n",
        "            #html.Div('Topic Distribution', className=\"text-primary text-center fs-3\")\n",
        "            html.Div('Topic Distribution', className=\"text-primary text-center fs-4\")\n",
        "            ], style={\"height\": \"200%\"}\n",
        "                ),\n",
        "    ),\n",
        "    dbc.Row(\n",
        "        #dcc.Dropdown(options=options, value=options[0]['value'], id=\"topics\"),\n",
        "        dbc.Col(\n",
        "            dcc.Dropdown(options=options, value=options[0]['value'], id=\"topics\"),\n",
        "            #width=\"auto\"\n",
        "            width=3,\n",
        "            ),\n",
        "        justify=\"center\"\n",
        "    ),\n",
        "\n",
        "    dbc.Row(\n",
        "        dcc.Graph(figure={}, id='topic_distribution')\n",
        "    ),\n",
        "\n",
        "], fluid=True)\n",
        "\n",
        "\n",
        "# Add controls to build the interaction\n",
        "@callback(\n",
        "    Output(component_id='topic_distribution', component_property='figure'),\n",
        "    Input(component_id='topics', component_property='value')\n",
        ")\n",
        "def plot_topic_distr(file):\n",
        "    f = f'{figs_path}/{file}'\n",
        "    fig = pio.read_json(f)\n",
        "    return fig\n",
        "\n",
        "\n",
        "# Run the app\n",
        "if __name__ == '__main__':\n",
        "    app.run(debug=False,\n",
        "            jupyter_width=800 #\"70%\"\n",
        "            )"
      ],
      "metadata": {
        "colab": {
          "base_uri": "https://localhost:8080/",
          "height": 671
        },
        "id": "NIuBkIQvi54E",
        "outputId": "c21ba70a-8b1e-4910-87e7-84bdf0ad3ee0"
      },
      "execution_count": null,
      "outputs": [
        {
          "output_type": "display_data",
          "data": {
            "text/plain": [
              "<IPython.core.display.Javascript object>"
            ],
            "application/javascript": [
              "(async (port, path, width, height, cache, element) => {\n",
              "    if (!google.colab.kernel.accessAllowed && !cache) {\n",
              "      return;\n",
              "    }\n",
              "    element.appendChild(document.createTextNode(''));\n",
              "    const url = await google.colab.kernel.proxyPort(port, {cache});\n",
              "    const iframe = document.createElement('iframe');\n",
              "    iframe.src = new URL(path, url).toString();\n",
              "    iframe.height = height;\n",
              "    iframe.width = width;\n",
              "    iframe.style.border = 0;\n",
              "    iframe.allow = [\n",
              "        'accelerometer',\n",
              "        'autoplay',\n",
              "        'camera',\n",
              "        'clipboard-read',\n",
              "        'clipboard-write',\n",
              "        'gyroscope',\n",
              "        'magnetometer',\n",
              "        'microphone',\n",
              "        'serial',\n",
              "        'usb',\n",
              "        'xr-spatial-tracking',\n",
              "    ].join('; ');\n",
              "    element.appendChild(iframe);\n",
              "  })(8050, \"/\", 800, 650, false, window.element)"
            ]
          },
          "metadata": {}
        }
      ]
    },
    {
      "cell_type": "code",
      "source": [],
      "metadata": {
        "id": "UhM6ZDFln4s0"
      },
      "execution_count": null,
      "outputs": []
    },
    {
      "cell_type": "markdown",
      "source": [
        "# Desgin2"
      ],
      "metadata": {
        "id": "gmCUt2moHypL"
      }
    },
    {
      "cell_type": "markdown",
      "source": [
        "*test1*"
      ],
      "metadata": {
        "id": "-v5V0R23eun5"
      }
    },
    {
      "cell_type": "code",
      "source": [
        "# Import packages\n",
        "from dash import Dash, html, dash_table, dcc, callback, Output, Input\n",
        "import plotly.express as px\n",
        "import plotly.io as pio\n",
        "import dash_bootstrap_components as dbc\n",
        "import sys, json\n",
        "\n",
        "\n",
        "# Command-Line Arguments: fig files, their path\n",
        "\"\"\"\n",
        "arg_options = json.loads(sys.argv[1])\n",
        "\n",
        "if len(sys.argv) >= 3:\n",
        "    arg_path = sys.argv[2]\n",
        "else:\n",
        "    arg_path = '.'\n",
        "\"\"\"\n",
        "\n",
        "arg_options = options\n",
        "arg_path = figs_path\n",
        "\n",
        "\n",
        "# Initialize the app - incorporate a Dash Bootstrap theme\n",
        "#external_stylesheets = [dbc.themes.FLATLY]\n",
        "external_stylesheets=[dbc.themes.BOOTSTRAP]\n",
        "app = Dash(__name__, external_stylesheets=external_stylesheets)\n",
        "\n",
        "dropdown = html.Div([\n",
        "        dcc.Dropdown(options=arg_options, value=arg_options[0]['value'], id=\"topics\",\n",
        "                     multi=True),\n",
        "])\n",
        "\n",
        "download = html.Div([\n",
        "    html.Button(\"Download Topics\", id=\"btn-download-topics\", style={'font-size': '13px'}),\n",
        "    dcc.Download(id=\"download-topics\")\n",
        "])\n",
        "\n",
        "# App layout\n",
        "app.layout = dbc.Container(\n",
        "    [\n",
        "        dbc.Row(html.Div(\"Topic Distribution\")),\n",
        "        #dbc.Row([dbc.Col(dropdown, lg=6), dbc.Col(download, className=\"btn btn-secondary\", lg=2)]),\n",
        "        dbc.Row([dbc.Col(dropdown, lg=6), dbc.Col(download, lg=2)], align=\"center\"),\n",
        "        dbc.Row(dbc.Col(html.Div(id=\"graphs\"))),\n",
        "    ],\n",
        "    className=\"dbc p-4\",\n",
        "    fluid=True,\n",
        ")\n",
        "\n",
        "\n",
        "# Add controls to build the interaction\n",
        "@callback(\n",
        "    Output(component_id=\"graphs\", component_property=\"children\"),\n",
        "    Input(component_id='topics', component_property='value')\n",
        ")\n",
        "def plot_topic_distr(files):\n",
        "\n",
        "    if not isinstance(files, list):\n",
        "        files = [files]\n",
        "\n",
        "    graphs = []\n",
        "    for f in files:\n",
        "        f = f'{arg_path}/{f}'\n",
        "        fig = pio.read_json(f)\n",
        "        g = dcc.Graph(figure=fig, className=\"border\")\n",
        "        graphs.append(g)\n",
        "\n",
        "    layout = []\n",
        "    cols = []\n",
        "    for i, g in enumerate(graphs, start=1):\n",
        "        cols.append(dbc.Col(g))\n",
        "        if (i % 2 == 0) or (i == len(graphs)):\n",
        "            layout.append(dbc.Row(cols, className=\"mt-2\"))\n",
        "            cols = []\n",
        "\n",
        "    return layout\n",
        "\n",
        "\n",
        "@callback(\n",
        "    Output(\"download-topics\", \"data\"),\n",
        "    Input(\"btn-download-topics\", \"n_clicks\"),\n",
        "    Input(component_id='topics', component_property='value'),\n",
        "    prevent_initial_call=True,\n",
        ")\n",
        "def func(n_clicks, topics):\n",
        "    return dict(content=f'{topics}', filename=\"topics.txt\")\n",
        "\n",
        "\n",
        "# Run the app\n",
        "if __name__ == '__main__':\n",
        "    app.run(debug=True,\n",
        "            #jupyter_width=arg_width, #\"70%\"\n",
        "            #jupyter_height=arg_height, #\"70%\"\n",
        "            )"
      ],
      "metadata": {
        "colab": {
          "base_uri": "https://localhost:8080/",
          "height": 671
        },
        "id": "SH39FKC3TDn3",
        "outputId": "8c6f3977-0bce-4cfc-91d5-00dca3ae591a"
      },
      "execution_count": null,
      "outputs": [
        {
          "output_type": "display_data",
          "data": {
            "text/plain": [
              "<IPython.core.display.Javascript object>"
            ],
            "application/javascript": [
              "(async (port, path, width, height, cache, element) => {\n",
              "    if (!google.colab.kernel.accessAllowed && !cache) {\n",
              "      return;\n",
              "    }\n",
              "    element.appendChild(document.createTextNode(''));\n",
              "    const url = await google.colab.kernel.proxyPort(port, {cache});\n",
              "    const iframe = document.createElement('iframe');\n",
              "    iframe.src = new URL(path, url).toString();\n",
              "    iframe.height = height;\n",
              "    iframe.width = width;\n",
              "    iframe.style.border = 0;\n",
              "    iframe.allow = [\n",
              "        'accelerometer',\n",
              "        'autoplay',\n",
              "        'camera',\n",
              "        'clipboard-read',\n",
              "        'clipboard-write',\n",
              "        'gyroscope',\n",
              "        'magnetometer',\n",
              "        'microphone',\n",
              "        'serial',\n",
              "        'usb',\n",
              "        'xr-spatial-tracking',\n",
              "    ].join('; ');\n",
              "    element.appendChild(iframe);\n",
              "  })(8050, \"/\", \"100%\", 650, false, window.element)"
            ]
          },
          "metadata": {}
        }
      ]
    },
    {
      "cell_type": "markdown",
      "source": [
        "*test2*"
      ],
      "metadata": {
        "id": "LLg3_nh_eyHw"
      }
    },
    {
      "cell_type": "code",
      "source": [
        "# Import packages\n",
        "from dash import Dash, html, dash_table, dcc, callback, Output, Input\n",
        "import plotly.express as px\n",
        "import plotly.io as pio\n",
        "import dash_bootstrap_components as dbc\n",
        "import sys, json\n",
        "\n",
        "import io\n",
        "from base64 import b64encode\n",
        "\n",
        "\n",
        "# Command-Line Arguments: fig files, their path\n",
        "\"\"\"\n",
        "arg_options = json.loads(sys.argv[1])\n",
        "\n",
        "if len(sys.argv) >= 3:\n",
        "    arg_path = sys.argv[2]\n",
        "else:\n",
        "    arg_path = '.'\n",
        "\"\"\"\n",
        "\n",
        "arg_options = options\n",
        "arg_path = figs_path\n",
        "\n",
        "\n",
        "# Initialize the app - incorporate a Dash Bootstrap theme\n",
        "#external_stylesheets = [dbc.themes.FLATLY]\n",
        "external_stylesheets=[dbc.themes.BOOTSTRAP]\n",
        "app = Dash(__name__, external_stylesheets=external_stylesheets)\n",
        "\n",
        "dropdown = html.Div([\n",
        "        dcc.Dropdown(options=arg_options, value=arg_options[0]['value'], id=\"topics\",\n",
        "                     multi=True),\n",
        "])\n",
        "\n",
        "#download = html.Div([\n",
        "#    html.Button(\"Download Topics\", id=\"btn-download-topics\", style={'font-size': '13px'}),\n",
        "#    dcc.Download(id=\"download-topics\")\n",
        "#])\n",
        "\n",
        "download = html.A(\n",
        "    html.Button(\"Download Topics\", id=\"btn-download-topics\", style={'font-size': '13px'}),\n",
        "    id=\"download-topics\",\n",
        "    href=\"href\",\n",
        "    download=\"topics.txt\",\n",
        ")\n",
        "\n",
        "# App layout\n",
        "app.layout = dbc.Container(\n",
        "    [\n",
        "        dbc.Row(html.Div(\"Topic Distribution\")),\n",
        "        #dbc.Row([dbc.Col(dropdown, lg=6), dbc.Col(download, className=\"btn btn-secondary\", lg=2)]),\n",
        "        dbc.Row([dbc.Col(dropdown, lg=6), dbc.Col(download, lg=2)], align=\"center\"),\n",
        "        dbc.Row(dbc.Col(html.Div(id=\"graphs\"))),\n",
        "    ],\n",
        "    className=\"dbc p-4\",\n",
        "    fluid=True,\n",
        ")\n",
        "\n",
        "\n",
        "# Add controls to build the interaction\n",
        "@callback(\n",
        "    Output(component_id=\"graphs\", component_property=\"children\"),\n",
        "    Input(component_id='topics', component_property='value')\n",
        ")\n",
        "def plot_topic_distr(files):\n",
        "\n",
        "    if not isinstance(files, list):\n",
        "        files = [files]\n",
        "\n",
        "    graphs = []\n",
        "    for f in files:\n",
        "        f = f'{arg_path}/{f}'\n",
        "        fig = pio.read_json(f)\n",
        "        g = dcc.Graph(figure=fig, className=\"border\")\n",
        "        graphs.append(g)\n",
        "\n",
        "    layout = []\n",
        "    cols = []\n",
        "    for i, g in enumerate(graphs, start=1):\n",
        "        cols.append(dbc.Col(g))\n",
        "        if (i % 2 == 0) or (i == len(graphs)):\n",
        "            layout.append(dbc.Row(cols, className=\"mt-2\"))\n",
        "            cols = []\n",
        "\n",
        "    return layout\n",
        "\n",
        "\n",
        "@callback(\n",
        "    Output(\"download-topics\", \"href\"),\n",
        "    Input(\"btn-download-topics\", \"n_clicks\"),\n",
        "    Input(component_id='topics', component_property='value'),\n",
        ")\n",
        "def func(n_clicks, topics):\n",
        "    # Creating a string buffer\n",
        "    buffer = io.StringIO()\n",
        "    buffer.write(f'{topics}')\n",
        "\n",
        "    # Creating a link to 'hello.txt' containing the string \"hello world!\"\n",
        "    href = \"data:text/plain;base64,\" + b64encode(buffer.getvalue().encode()).decode()\n",
        "\n",
        "    return href\n",
        "\n",
        "\n",
        "# Run the app\n",
        "if __name__ == '__main__':\n",
        "    app.run(debug=True,\n",
        "            #jupyter_width=arg_width, #\"70%\"\n",
        "            #jupyter_height=arg_height, #\"70%\"\n",
        "            )"
      ],
      "metadata": {
        "colab": {
          "base_uri": "https://localhost:8080/",
          "height": 671
        },
        "id": "vJaxMaG1eyH2",
        "outputId": "71fb1c14-d87b-4d3d-e668-a44dca12ed3e"
      },
      "execution_count": null,
      "outputs": [
        {
          "output_type": "display_data",
          "data": {
            "text/plain": [
              "<IPython.core.display.Javascript object>"
            ],
            "application/javascript": [
              "(async (port, path, width, height, cache, element) => {\n",
              "    if (!google.colab.kernel.accessAllowed && !cache) {\n",
              "      return;\n",
              "    }\n",
              "    element.appendChild(document.createTextNode(''));\n",
              "    const url = await google.colab.kernel.proxyPort(port, {cache});\n",
              "    const iframe = document.createElement('iframe');\n",
              "    iframe.src = new URL(path, url).toString();\n",
              "    iframe.height = height;\n",
              "    iframe.width = width;\n",
              "    iframe.style.border = 0;\n",
              "    iframe.allow = [\n",
              "        'accelerometer',\n",
              "        'autoplay',\n",
              "        'camera',\n",
              "        'clipboard-read',\n",
              "        'clipboard-write',\n",
              "        'gyroscope',\n",
              "        'magnetometer',\n",
              "        'microphone',\n",
              "        'serial',\n",
              "        'usb',\n",
              "        'xr-spatial-tracking',\n",
              "    ].join('; ');\n",
              "    element.appendChild(iframe);\n",
              "  })(8050, \"/\", \"100%\", 650, false, window.element)"
            ]
          },
          "metadata": {}
        }
      ]
    },
    {
      "cell_type": "code",
      "source": [
        "from dash import Dash, dcc, html, Input, Output, callback\n",
        "\n",
        "app = Dash(__name__)\n",
        "app.layout = html.Div([\n",
        "    html.Button(\"Download Text\", id=\"btn-download-txt\"),\n",
        "    dcc.Download(id=\"download-text\")\n",
        "])\n",
        "\n",
        "\n",
        "@callback(\n",
        "    Output(\"download-text\", \"data\"),\n",
        "    Input(\"btn-download-txt\", \"n_clicks\"),\n",
        "    #prevent_initial_call=True,\n",
        ")\n",
        "def func(n_clicks):\n",
        "    return dict(content=\"Hello world!\", filename=\"hello.txt\")\n",
        "\n",
        "\n",
        "if __name__ == \"__main__\":\n",
        "    app.run(debug=True)\n"
      ],
      "metadata": {
        "colab": {
          "base_uri": "https://localhost:8080/",
          "height": 671
        },
        "id": "kRE6u5zCVylP",
        "outputId": "afa22082-3b09-49db-ce3a-b0660f5946bc"
      },
      "execution_count": null,
      "outputs": [
        {
          "output_type": "display_data",
          "data": {
            "text/plain": [
              "<IPython.core.display.Javascript object>"
            ],
            "application/javascript": [
              "(async (port, path, width, height, cache, element) => {\n",
              "    if (!google.colab.kernel.accessAllowed && !cache) {\n",
              "      return;\n",
              "    }\n",
              "    element.appendChild(document.createTextNode(''));\n",
              "    const url = await google.colab.kernel.proxyPort(port, {cache});\n",
              "    const iframe = document.createElement('iframe');\n",
              "    iframe.src = new URL(path, url).toString();\n",
              "    iframe.height = height;\n",
              "    iframe.width = width;\n",
              "    iframe.style.border = 0;\n",
              "    iframe.allow = [\n",
              "        'accelerometer',\n",
              "        'autoplay',\n",
              "        'camera',\n",
              "        'clipboard-read',\n",
              "        'clipboard-write',\n",
              "        'gyroscope',\n",
              "        'magnetometer',\n",
              "        'microphone',\n",
              "        'serial',\n",
              "        'usb',\n",
              "        'xr-spatial-tracking',\n",
              "    ].join('; ');\n",
              "    element.appendChild(iframe);\n",
              "  })(8050, \"/\", \"100%\", 650, false, window.element)"
            ]
          },
          "metadata": {}
        }
      ]
    },
    {
      "cell_type": "code",
      "source": [
        "from dash import Dash, dcc, html, Input, Output\n",
        "import plotly.express as px\n",
        "import pandas as pd\n",
        "import dash_bootstrap_components as dbc\n",
        "from base64 import b64encode\n",
        "import io\n",
        "\n",
        "app = Dash(__name__, external_stylesheets=[dbc.themes.BOOTSTRAP])\n",
        "\n",
        "df = pd.read_csv(\n",
        "    \"https://raw.githubusercontent.com/plotly/datasets/master/us-cities-top-1k.csv\"\n",
        ")\n",
        "df = df[[\"City\", \"State\", \"Population\"]]\n",
        "\n",
        "dropdown_state = dcc.Dropdown(\n",
        "    id=\"dropdown\", options=df.State, value=\"New York\"\n",
        ")\n",
        "\n",
        "download_button = html.A(\n",
        "    html.Button(\"Download as HTML\"),\n",
        "    id=\"href\",\n",
        "    href=\"href\",\n",
        "    download=\"plotly_graph.html\",\n",
        ")\n",
        "\n",
        "app.layout = dbc.Container(\n",
        "    [\n",
        "        html.H2(\"U.S. Top 10 City Populations by State\"),\n",
        "        html.Hr(),\n",
        "        dbc.Row(\n",
        "            [\n",
        "                dbc.Col([dropdown_state, download_button], md=6, sm=12),\n",
        "                dbc.Col(dcc.Graph(id=\"graph\")),\n",
        "            ]\n",
        "        ),\n",
        "    ]\n",
        ")\n",
        "\n",
        "\n",
        "@app.callback(\n",
        "    Output(\"graph\", \"figure\"),\n",
        "    Output(\"href\", \"href\"),\n",
        "    Input(\"dropdown\", \"value\"),\n",
        ")\n",
        "def update_bar_chart(state):\n",
        "\n",
        "    dff = df[df.State == state].sort_values(by=\"Population\").head(10)\n",
        "\n",
        "    fig = px.bar(dff, x=\"Population\", y=\"City\", text=\"Population\")\n",
        "\n",
        "    buffer = io.StringIO()\n",
        "    fig.write_html(buffer)\n",
        "    html_bytes = buffer.getvalue().encode()\n",
        "    encoded = b64encode(html_bytes).decode()\n",
        "    href = \"data:text/html;base64,\" + encoded\n",
        "\n",
        "    return fig, href\n",
        "\n",
        "\n",
        "if __name__ == \"__main__\":\n",
        "    app.run_server(debug=True)"
      ],
      "metadata": {
        "colab": {
          "base_uri": "https://localhost:8080/",
          "height": 671
        },
        "id": "zAi6jMxfVye1",
        "outputId": "56d2083e-8be2-4b59-829e-d2b2ca8c0f79"
      },
      "execution_count": null,
      "outputs": [
        {
          "output_type": "display_data",
          "data": {
            "text/plain": [
              "<IPython.core.display.Javascript object>"
            ],
            "application/javascript": [
              "(async (port, path, width, height, cache, element) => {\n",
              "    if (!google.colab.kernel.accessAllowed && !cache) {\n",
              "      return;\n",
              "    }\n",
              "    element.appendChild(document.createTextNode(''));\n",
              "    const url = await google.colab.kernel.proxyPort(port, {cache});\n",
              "    const iframe = document.createElement('iframe');\n",
              "    iframe.src = new URL(path, url).toString();\n",
              "    iframe.height = height;\n",
              "    iframe.width = width;\n",
              "    iframe.style.border = 0;\n",
              "    iframe.allow = [\n",
              "        'accelerometer',\n",
              "        'autoplay',\n",
              "        'camera',\n",
              "        'clipboard-read',\n",
              "        'clipboard-write',\n",
              "        'gyroscope',\n",
              "        'magnetometer',\n",
              "        'microphone',\n",
              "        'serial',\n",
              "        'usb',\n",
              "        'xr-spatial-tracking',\n",
              "    ].join('; ');\n",
              "    element.appendChild(iframe);\n",
              "  })(8050, \"/\", \"100%\", 650, false, window.element)"
            ]
          },
          "metadata": {}
        }
      ]
    },
    {
      "cell_type": "code",
      "source": [
        "import random\n",
        "from dash import Dash, dcc, html, Input, Output, State, callback\n",
        "import plotly.express as px\n",
        "\n",
        "\n",
        "app = Dash(__name__)\n",
        "\n",
        "initial_x = [random.randint(1, 50) for _ in range(15)]\n",
        "initial_y = [random.randint(1, 50) for _ in range(15)]\n",
        "\n",
        "\n",
        "def report(x, y, n):\n",
        "    return f\"\"\"\n",
        "        Report #{n}\n",
        "         - The max X point is {max(x)}\n",
        "         - The max Y point is {max(y)}\n",
        "         - The sum of X points are {sum(x)}\n",
        "         - The sum of Y points are {sum(y)}\n",
        "        \"\"\"\n",
        "\n",
        "\n",
        "app.layout = html.Div(\n",
        "    [\n",
        "        html.H3(\"Build a Graph and Download Report\", style={\"textAlign\": \"center\"}),\n",
        "        html.Button(\"Generate values\", id=\"random-val\", n_clicks=0),\n",
        "        html.Button(\"Download report\", id=\"save-button\"),\n",
        "        html.Div(\n",
        "            \"To download the figure, hover over the graph and click the camera icon.\",\n",
        "            style={\"textAlign\": \"right\"},\n",
        "        ),\n",
        "        dcc.Graph(\n",
        "            id=\"graph\",\n",
        "            figure=px.scatter(x=initial_x, y=initial_y, title=\"Figure #0\"),\n",
        "        ),\n",
        "        dcc.Markdown(\n",
        "            report(initial_x, initial_y, 0), id=\"onscreen-report\"\n",
        "        ),\n",
        "        dcc.Download(id=\"download-component\"),\n",
        "    ]\n",
        ")\n",
        "\n",
        "\n",
        "@callback(\n",
        "    Output(\"graph\", \"figure\"),\n",
        "    Output(\"onscreen-report\", \"children\"),\n",
        "    Input(\"random-val\", \"n_clicks\"),\n",
        "    prevent_initial_call=True,\n",
        ")\n",
        "def update_report(n):\n",
        "    x = [random.randint(1, 50) for _ in range(15)]\n",
        "    y = [random.randint(1, 50) for _ in range(15)]\n",
        "    fig = px.scatter(x=x, y=y, title=f\"Figure #{n}\")\n",
        "    return fig, report(x, y, n)\n",
        "\n",
        "\n",
        "@callback(\n",
        "    Output(\"download-component\", \"data\"),\n",
        "    Input(\"save-button\", \"n_clicks\"),\n",
        "    State(\"onscreen-report\", \"children\"),\n",
        "    prevent_initial_call=True,\n",
        ")\n",
        "def download_report(_, current_report):\n",
        "    return dict(content=current_report, filename=\"my-report.txt\")\n",
        "\n",
        "\n",
        "if __name__ == \"__main__\":\n",
        "    app.run_server(debug=True)"
      ],
      "metadata": {
        "colab": {
          "base_uri": "https://localhost:8080/",
          "height": 671
        },
        "id": "D6857lxyVycB",
        "outputId": "37542282-a0d3-4f02-9d15-118a0c7084b0"
      },
      "execution_count": null,
      "outputs": [
        {
          "output_type": "display_data",
          "data": {
            "text/plain": [
              "<IPython.core.display.Javascript object>"
            ],
            "application/javascript": [
              "(async (port, path, width, height, cache, element) => {\n",
              "    if (!google.colab.kernel.accessAllowed && !cache) {\n",
              "      return;\n",
              "    }\n",
              "    element.appendChild(document.createTextNode(''));\n",
              "    const url = await google.colab.kernel.proxyPort(port, {cache});\n",
              "    const iframe = document.createElement('iframe');\n",
              "    iframe.src = new URL(path, url).toString();\n",
              "    iframe.height = height;\n",
              "    iframe.width = width;\n",
              "    iframe.style.border = 0;\n",
              "    iframe.allow = [\n",
              "        'accelerometer',\n",
              "        'autoplay',\n",
              "        'camera',\n",
              "        'clipboard-read',\n",
              "        'clipboard-write',\n",
              "        'gyroscope',\n",
              "        'magnetometer',\n",
              "        'microphone',\n",
              "        'serial',\n",
              "        'usb',\n",
              "        'xr-spatial-tracking',\n",
              "    ].join('; ');\n",
              "    element.appendChild(iframe);\n",
              "  })(8050, \"/\", \"100%\", 650, false, window.element)"
            ]
          },
          "metadata": {}
        }
      ]
    },
    {
      "cell_type": "markdown",
      "source": [
        "## update"
      ],
      "metadata": {
        "id": "OsTIkYP3I3qk"
      }
    },
    {
      "cell_type": "code",
      "source": [
        "%%capture\n",
        "!pip install dash dash_bootstrap_components"
      ],
      "metadata": {
        "id": "isGG-TE9LQl-"
      },
      "execution_count": null,
      "outputs": []
    },
    {
      "cell_type": "code",
      "source": [
        "import os, re\n",
        "\n",
        "#zfile = 'moscato_distr'\n",
        "#zfile = 'moscato_sdistr'\n",
        "zfile = 'reds2_sdistr'\n",
        "\n",
        "path_src = '/content/drive/MyDrive/Colab\\ Notebooks/'"
      ],
      "metadata": {
        "id": "T71qp1Qw6cqe"
      },
      "execution_count": null,
      "outputs": []
    },
    {
      "cell_type": "code",
      "source": [
        "%%capture\n",
        "!unzip -u {path_src}/{zfile}.zip"
      ],
      "metadata": {
        "id": "eA4kLH30LQmI"
      },
      "execution_count": null,
      "outputs": []
    },
    {
      "cell_type": "code",
      "source": [
        "figs_path, figs_file = zfile.split('_')\n",
        "\n",
        "figs_files = [x for x in os.listdir(figs_path) if x.startswith(figs_file)]\n",
        "figs_files = sorted(figs_files)\n",
        "\n",
        "n = len(figs_files)\n",
        "if n == 0:\n",
        "    print('ERROR!: No fig to read')\n",
        "else:\n",
        "    print(f'{n} figs ready to load')"
      ],
      "metadata": {
        "colab": {
          "base_uri": "https://localhost:8080/"
        },
        "outputId": "c9e034ec-3c72-4f78-a996-10290b9c230e",
        "id": "925qSeujLQmK"
      },
      "execution_count": null,
      "outputs": [
        {
          "output_type": "stream",
          "name": "stdout",
          "text": [
            "32 figs ready to load\n"
          ]
        }
      ]
    },
    {
      "cell_type": "code",
      "source": [
        "pattern = r'\\d+(?=\\.json)'\n",
        "tids = [int(re.findall(pattern, x)[0]) for x in figs_files]\n",
        "\n",
        "options = [{'label':f'Topic {t}', 'value': f} for t, f in zip(tids, figs_files)]"
      ],
      "metadata": {
        "id": "zt7FGJMmLQmM"
      },
      "execution_count": null,
      "outputs": []
    },
    {
      "cell_type": "code",
      "source": [
        "# Import packages\n",
        "from dash import Dash, html, dcc, callback, Output, Input, State\n",
        "import plotly.express as px\n",
        "import plotly.io as pio\n",
        "import dash_bootstrap_components as dbc\n",
        "import sys, json\n",
        "import io, re\n",
        "\n",
        "import base64\n",
        "\n",
        "\n",
        "# Command-Line Arguments: fig files, their path\n",
        "\"\"\"\n",
        "arg_options = json.loads(sys.argv[1])\n",
        "\n",
        "if len(sys.argv) >= 3:\n",
        "    arg_path = sys.argv[2]\n",
        "else:\n",
        "    arg_path = '.'\n",
        "\"\"\"\n",
        "\n",
        "arg_options = options\n",
        "arg_path = figs_path\n",
        "\n",
        "\n",
        "\n",
        "# Initialize the app - incorporate a Dash Bootstrap theme\n",
        "external_stylesheets = [dbc.themes.FLATLY]\n",
        "#external_stylesheets=[dbc.themes.BOOTSTRAP]\n",
        "\n",
        "app = Dash(__name__, external_stylesheets=external_stylesheets)\n",
        "\n",
        "title =  html.H4(\"Topic Distribution\", className=\"text-primary\")\n",
        "\n",
        "dropdown = dcc.Dropdown(options=arg_options, value=arg_options[0]['value'],\n",
        "                        id=\"topics\", multi=True)\n",
        "\n",
        "buttons = dbc.Stack(\n",
        "    [\n",
        "        dbc.Button(\"Save\", id='save-button',\n",
        "                   color=\"secondary\", className=\"btn btn-primary btn-sm\"),\n",
        "        dcc.Upload(dbc.Button(\"Load\", color=\"secondary\", className=\"btn btn-primary btn-sm\"),\n",
        "                   id='load-topics')\n",
        "\n",
        "    ],\n",
        "    #className= \"m-1\",\n",
        "    direction=\"horizontal\",\n",
        "    gap=2\n",
        ")\n",
        "\n",
        "# App layout\n",
        "app.layout = dbc.Container(\n",
        "    [\n",
        "        dbc.Row(dbc.Col(title, lg=6)),\n",
        "        dbc.Row([dbc.Col(dropdown, lg=6), dbc.Col(buttons)], align=\"center\"),\n",
        "        dbc.Row(dbc.Col(html.Div(id=\"graphs\"))),\n",
        "        dcc.Download(id=\"save-topics\"),\n",
        "    ],\n",
        "    className=\"dbc p-4\",\n",
        "    fluid=True,\n",
        ")\n",
        "\n",
        "\n",
        "# Add controls to build the interaction\n",
        "@callback(\n",
        "    Output(component_id=\"graphs\", component_property=\"children\"),\n",
        "    Input(component_id='topics', component_property='value')\n",
        ")\n",
        "def plot_topic_distr(files):\n",
        "    \"\"\"\n",
        "    files: list of json file names to plot\n",
        "    \"\"\"\n",
        "    if not isinstance(files, list):\n",
        "        files = [files]\n",
        "\n",
        "    graphs = []\n",
        "    for f in files:\n",
        "        f = f'{arg_path}/{f}'\n",
        "        fig = pio.read_json(f)\n",
        "        g = dcc.Graph(figure=fig, className=\"border\")\n",
        "        graphs.append(g)\n",
        "\n",
        "    layout = []\n",
        "    cols = []\n",
        "    for i, g in enumerate(graphs, start=1):\n",
        "        cols.append(dbc.Col(g))\n",
        "        if (i % 2 == 0) or (i == len(graphs)):\n",
        "            layout.append(dbc.Row(cols, className=\"mt-2\"))\n",
        "            cols = []\n",
        "\n",
        "    layout = 'figs: '  + ', '.join(files) # testing\n",
        "    return layout\n",
        "\n",
        "\n",
        "@callback(\n",
        "    Output(\"save-topics\", \"data\"),\n",
        "    Input('save-button', 'n_clicks'),\n",
        "    State('topics', 'value'),\n",
        "    prevent_initial_call=True\n",
        ")\n",
        "def save_topics(n_clicks, files):\n",
        "    \"\"\"\n",
        "    save file names of choice in dropdown in a txt file\n",
        "    \"\"\"\n",
        "    if not isinstance(files, list):\n",
        "        files = [files]\n",
        "\n",
        "    pattern = r'\\d+(?=\\.json)'\n",
        "    tids = [int(re.findall(pattern, x)[0]) for x in files]\n",
        "    tids = '_'.join([str(x) for x in tids])\n",
        "    filename = os.path.commonprefix(files) # get common string\n",
        "    filename = re.sub(r'\\d+$', '', filename) # strip a number suffix\n",
        "    filename = f'{filename}_{tids}.txt'\n",
        "\n",
        "    content = ', '.join(files)\n",
        "    return dict(content=f'{content}', filename=filename)\n",
        "\n",
        "\n",
        "@callback(Output(component_id=\"topics\", component_property=\"value\"),\n",
        "          Input('load-topics', 'contents'),\n",
        "          State('load-topics', 'filename'),\n",
        "          State('load-topics', 'last_modified'),\n",
        "          prevent_initial_call=True)\n",
        "def load_topics(contents, filename, date):\n",
        "    content_type, content_string = contents.split(',')\n",
        "    decoded = base64.b64decode(content_string)\n",
        "    files = decoded.decode('utf-8') # a string containing json file names\n",
        "    files = re.findall(r'\\w+\\.json', files) # list of json files\n",
        "    return files\n",
        "\n",
        "\n",
        "# Run the app\n",
        "if __name__ == '__main__':\n",
        "    app.run(debug=True,\n",
        "            #jupyter_width=arg_width, #\"70%\"\n",
        "            #jupyter_height=arg_height, #\"70%\"\n",
        "            )"
      ],
      "metadata": {
        "id": "4e-7gS_2Iaz-",
        "colab": {
          "base_uri": "https://localhost:8080/",
          "height": 671
        },
        "outputId": "c653be96-a895-4762-9b2b-c2a6cd9127bf"
      },
      "execution_count": null,
      "outputs": [
        {
          "output_type": "display_data",
          "data": {
            "text/plain": [
              "<IPython.core.display.Javascript object>"
            ],
            "application/javascript": [
              "(async (port, path, width, height, cache, element) => {\n",
              "    if (!google.colab.kernel.accessAllowed && !cache) {\n",
              "      return;\n",
              "    }\n",
              "    element.appendChild(document.createTextNode(''));\n",
              "    const url = await google.colab.kernel.proxyPort(port, {cache});\n",
              "    const iframe = document.createElement('iframe');\n",
              "    iframe.src = new URL(path, url).toString();\n",
              "    iframe.height = height;\n",
              "    iframe.width = width;\n",
              "    iframe.style.border = 0;\n",
              "    iframe.allow = [\n",
              "        'accelerometer',\n",
              "        'autoplay',\n",
              "        'camera',\n",
              "        'clipboard-read',\n",
              "        'clipboard-write',\n",
              "        'gyroscope',\n",
              "        'magnetometer',\n",
              "        'microphone',\n",
              "        'serial',\n",
              "        'usb',\n",
              "        'xr-spatial-tracking',\n",
              "    ].join('; ');\n",
              "    element.appendChild(iframe);\n",
              "  })(8050, \"/\", \"100%\", 650, false, window.element)"
            ]
          },
          "metadata": {}
        }
      ]
    },
    {
      "cell_type": "code",
      "source": [
        "files = 'sdistr_topic00.json, sdistr_topic01.json'\n",
        "\n",
        "re.findall(r'\\w+\\.json', files)\n",
        "\n",
        "\n",
        "def strip_numbers_at_end(string):\n",
        "    return re.sub(r'\\d+$', '', string)\n",
        "\n",
        "# Example usage:\n",
        "string = \"123abc\"\n",
        "string"
      ],
      "metadata": {
        "colab": {
          "base_uri": "https://localhost:8080/",
          "height": 35
        },
        "id": "oK7vCSlYwmjD",
        "outputId": "51954a0a-8d59-48c4-c0cb-993ff9ec8f51"
      },
      "execution_count": null,
      "outputs": [
        {
          "output_type": "execute_result",
          "data": {
            "text/plain": [
              "'123abc'"
            ],
            "application/vnd.google.colaboratory.intrinsic+json": {
              "type": "string"
            }
          },
          "metadata": {},
          "execution_count": 57
        }
      ]
    },
    {
      "cell_type": "code",
      "source": [
        "def find_common_prefix(strings):\n",
        "    if not strings:\n",
        "        return \"\"\n",
        "\n",
        "    # Sort the list of strings to bring the shortest string to the front\n",
        "    strings.sort()\n",
        "\n",
        "    # Take the first string as a reference\n",
        "    first_string = strings[0]\n",
        "    common_prefix = \"\"\n",
        "\n",
        "    # Iterate through the characters of the first string\n",
        "    for i in range(len(first_string)):\n",
        "        # Check if the character is the same across all strings\n",
        "        if all(string[i] == first_string[i] for string in strings):\n",
        "            common_prefix += first_string[i]\n",
        "        else:\n",
        "            # Break the loop as soon as a character differs\n",
        "            break\n",
        "\n",
        "    return common_prefix\n",
        "\n",
        "# Example usage:\n",
        "strings = [\"apple\", \"ape\", \"apricot\"]\n",
        "strings = ['sdistr_topic00.json', 'sdistr_topic01.json']\n",
        "print(find_common_prefix(strings))  # Output: \"ap\""
      ],
      "metadata": {
        "colab": {
          "base_uri": "https://localhost:8080/"
        },
        "id": "DJ9J6GEYxrGH",
        "outputId": "1579fa5a-6bd0-4cf8-f09d-796a1c52bb6d"
      },
      "execution_count": null,
      "outputs": [
        {
          "output_type": "stream",
          "name": "stdout",
          "text": [
            "sdistr_topic0\n"
          ]
        }
      ]
    },
    {
      "cell_type": "code",
      "source": [
        "import os\n",
        "common = os.path.commonprefix(strings)\n",
        "common"
      ],
      "metadata": {
        "colab": {
          "base_uri": "https://localhost:8080/",
          "height": 35
        },
        "id": "Ca8UtuXHyM_C",
        "outputId": "5c6ed2f4-8630-4919-f7d7-8df3b5001f48"
      },
      "execution_count": null,
      "outputs": [
        {
          "output_type": "execute_result",
          "data": {
            "text/plain": [
              "'sdistr_topic0'"
            ],
            "application/vnd.google.colaboratory.intrinsic+json": {
              "type": "string"
            }
          },
          "metadata": {},
          "execution_count": 52
        }
      ]
    },
    {
      "cell_type": "code",
      "source": [
        "contents = \"data:text/plain;base64,c2Rpc3RyX3RvcGljMDAuanNvbiwgc2Rpc3RyX3RvcGljMDMuanNvbg==\"\n",
        "content_type, content_string = contents.split(',')\n",
        "decoded = base64.b64decode(content_string)"
      ],
      "metadata": {
        "id": "yV1A67cOrDed"
      },
      "execution_count": null,
      "outputs": []
    },
    {
      "cell_type": "code",
      "source": [
        "str(decoded)"
      ],
      "metadata": {
        "colab": {
          "base_uri": "https://localhost:8080/",
          "height": 35
        },
        "id": "fiWyU-KO5-a8",
        "outputId": "2572f696-2c03-4e9a-b969-9937ac22473d"
      },
      "execution_count": null,
      "outputs": [
        {
          "output_type": "execute_result",
          "data": {
            "text/plain": [
              "\"b'sdistr_topic00.json, sdistr_topic03.json'\""
            ],
            "application/vnd.google.colaboratory.intrinsic+json": {
              "type": "string"
            }
          },
          "metadata": {},
          "execution_count": 79
        }
      ]
    },
    {
      "cell_type": "code",
      "source": [
        "decoded.decode('UTF-8')"
      ],
      "metadata": {
        "colab": {
          "base_uri": "https://localhost:8080/",
          "height": 35
        },
        "id": "jS7N5cOz66yf",
        "outputId": "02e31fa8-1061-4f44-e559-318b7bc99bdf"
      },
      "execution_count": null,
      "outputs": [
        {
          "output_type": "execute_result",
          "data": {
            "text/plain": [
              "'sdistr_topic00.json, sdistr_topic03.json'"
            ],
            "application/vnd.google.colaboratory.intrinsic+json": {
              "type": "string"
            }
          },
          "metadata": {},
          "execution_count": 81
        }
      ]
    },
    {
      "cell_type": "code",
      "source": [
        "contents = \"data:text/plain;base64,c2Rpc3RyX3RvcGljMDAuanNvbiwgc2Rpc3RyX3RvcGljMDMuanNvbg==\"\n",
        "content_type, content_string = contents.split(',')\n",
        "decoded = base64.b64decode(content_string)\n",
        "files = decoded.decode('utf-8')\n",
        "files = re.findall(r'\\w+\\.json', files)\n",
        "files"
      ],
      "metadata": {
        "colab": {
          "base_uri": "https://localhost:8080/"
        },
        "id": "tQilQIbo8Mit",
        "outputId": "35444038-4d76-43e7-d39e-c92fafa14d43"
      },
      "execution_count": null,
      "outputs": [
        {
          "output_type": "execute_result",
          "data": {
            "text/plain": [
              "['sdistr_topic00.json', 'sdistr_topic03.json']"
            ]
          },
          "metadata": {},
          "execution_count": 84
        }
      ]
    },
    {
      "cell_type": "code",
      "source": [
        "from dash import Dash, dcc, html, dash_table, Input, Output, State, callback\n",
        "\n",
        "import base64\n",
        "import datetime\n",
        "import io, re\n",
        "\n",
        "import pandas as pd\n",
        "\n",
        "external_stylesheets = ['https://codepen.io/chriddyp/pen/bWLwgP.css']\n",
        "\n",
        "app = Dash(__name__, external_stylesheets=external_stylesheets)\n",
        "\n",
        "app.layout = html.Div([\n",
        "    dcc.Upload(\n",
        "        id='upload-data',\n",
        "        children=html.Div([\n",
        "            'Drag and Drop or ',\n",
        "            html.A('Select Files')\n",
        "        ]),\n",
        "        style={\n",
        "            'width': '100%',\n",
        "            'height': '60px',\n",
        "            'lineHeight': '60px',\n",
        "            'borderWidth': '1px',\n",
        "            'borderStyle': 'dashed',\n",
        "            'borderRadius': '5px',\n",
        "            'textAlign': 'center',\n",
        "            'margin': '10px'\n",
        "        },\n",
        "        # Allow multiple files to be uploaded\n",
        "        multiple=True\n",
        "    ),\n",
        "    html.Div(id='output-data-upload'),\n",
        "])\n",
        "\n",
        "def parse_contents(contents, filename, date):\n",
        "    content_type, content_string = contents.split(',')\n",
        "\n",
        "    decoded = base64.b64decode(content_string)\n",
        "    try:\n",
        "        file = io.StringIO(decoded.decode('utf-8'))\n",
        "        with open(file) as f:\n",
        "            contents = f.read()\n",
        "    except Exception as e:\n",
        "        print(e)\n",
        "        return html.Div([\n",
        "            'There was an error processing this file.'\n",
        "        ])\n",
        "\n",
        "    return re.findall(r'\\w+\\.json', contents)\n",
        "\n",
        "\n",
        "@callback(Output('output-data-upload', 'children'),\n",
        "              Input('upload-data', 'contents'),\n",
        "              State('upload-data', 'filename'),\n",
        "              State('upload-data', 'last_modified'))\n",
        "def update_output(list_of_contents, list_of_names, list_of_dates):\n",
        "    if list_of_contents is not None:\n",
        "        children = [\n",
        "            parse_contents(c, n, d) for c, n, d in\n",
        "            zip(list_of_contents, list_of_names, list_of_dates)]\n",
        "        return children\n",
        "\n",
        "if __name__ == '__main__':\n",
        "    app.run(debug=True)\n"
      ],
      "metadata": {
        "colab": {
          "base_uri": "https://localhost:8080/",
          "height": 671
        },
        "id": "pyIOn7gSOJI6",
        "outputId": "dba7a590-23a4-478d-e5d7-e135fb0dfca8"
      },
      "execution_count": null,
      "outputs": [
        {
          "output_type": "display_data",
          "data": {
            "text/plain": [
              "<IPython.core.display.Javascript object>"
            ],
            "application/javascript": [
              "(async (port, path, width, height, cache, element) => {\n",
              "    if (!google.colab.kernel.accessAllowed && !cache) {\n",
              "      return;\n",
              "    }\n",
              "    element.appendChild(document.createTextNode(''));\n",
              "    const url = await google.colab.kernel.proxyPort(port, {cache});\n",
              "    const iframe = document.createElement('iframe');\n",
              "    iframe.src = new URL(path, url).toString();\n",
              "    iframe.height = height;\n",
              "    iframe.width = width;\n",
              "    iframe.style.border = 0;\n",
              "    iframe.allow = [\n",
              "        'accelerometer',\n",
              "        'autoplay',\n",
              "        'camera',\n",
              "        'clipboard-read',\n",
              "        'clipboard-write',\n",
              "        'gyroscope',\n",
              "        'magnetometer',\n",
              "        'microphone',\n",
              "        'serial',\n",
              "        'usb',\n",
              "        'xr-spatial-tracking',\n",
              "    ].join('; ');\n",
              "    element.appendChild(iframe);\n",
              "  })(8050, \"/\", \"100%\", 650, false, window.element)"
            ]
          },
          "metadata": {}
        }
      ]
    },
    {
      "cell_type": "code",
      "source": [
        "file = 'topics.txt'\n",
        "with open(file) as f:\n",
        "    contents = f.read()\n",
        "    print(contents)"
      ],
      "metadata": {
        "colab": {
          "base_uri": "https://localhost:8080/"
        },
        "id": "eFSA_aDmdcGQ",
        "outputId": "10f3777b-460d-46c0-fc92-d236f97e8c39"
      },
      "execution_count": null,
      "outputs": [
        {
          "output_type": "stream",
          "name": "stdout",
          "text": [
            "sdistr_topic00.json, sdistr_topic06.json\n"
          ]
        }
      ]
    },
    {
      "cell_type": "code",
      "source": [
        "contents.strip(' ').split(',')"
      ],
      "metadata": {
        "colab": {
          "base_uri": "https://localhost:8080/"
        },
        "id": "q0UEdW9HpKtm",
        "outputId": "8ed42f90-2c8b-4af2-b0ef-0aff321d1df9"
      },
      "execution_count": null,
      "outputs": [
        {
          "output_type": "execute_result",
          "data": {
            "text/plain": [
              "['sdistr_topic00.json', ' sdistr_topic06.json']"
            ]
          },
          "metadata": {},
          "execution_count": 42
        }
      ]
    },
    {
      "cell_type": "code",
      "source": [
        "contents.split(',')"
      ],
      "metadata": {
        "colab": {
          "base_uri": "https://localhost:8080/"
        },
        "id": "I8EblJI0ptEj",
        "outputId": "42bec071-1b28-4ce5-a2d8-3834f0adc4ce"
      },
      "execution_count": null,
      "outputs": [
        {
          "output_type": "execute_result",
          "data": {
            "text/plain": [
              "['sdistr_topic00.json', ' sdistr_topic06.json']"
            ]
          },
          "metadata": {},
          "execution_count": 40
        }
      ]
    },
    {
      "cell_type": "code",
      "source": [
        "import re\n",
        "\n",
        "re.findall(r'\\w+\\.json', contents)\n"
      ],
      "metadata": {
        "colab": {
          "base_uri": "https://localhost:8080/"
        },
        "id": "GF-QAUMNp0Qa",
        "outputId": "c1a7811e-c84e-4b9c-fae2-fd63c5384434"
      },
      "execution_count": null,
      "outputs": [
        {
          "output_type": "execute_result",
          "data": {
            "text/plain": [
              "['sdistr_topic00.json', 'sdistr_topic06.json']"
            ]
          },
          "metadata": {},
          "execution_count": 43
        }
      ]
    },
    {
      "cell_type": "code",
      "source": [
        "@callback(Output(component_id=\"loaded\", component_property=\"children\"),\n",
        "          Input('load-topics', 'contents'),\n",
        "          State('load-topics', 'filename'),\n",
        "          State('load-topics', 'last_modified'),\n",
        "          prevent_initial_call=True)\n",
        "def update_output(n_clicks, list_of_contents, list_of_names, list_of_dates):\n",
        "    if list_of_contents is not None:\n",
        "        children = [\n",
        "            parse_contents(c, n, d) for c, n, d in\n",
        "            zip(list_of_contents, list_of_names, list_of_dates)\n",
        "            ]\n",
        "\n",
        "        children = ', '.join(children)\n",
        "\n",
        "        return children"
      ],
      "metadata": {
        "id": "73xwXhRuqVjR"
      },
      "execution_count": null,
      "outputs": []
    },
    {
      "cell_type": "markdown",
      "source": [
        "# Testing"
      ],
      "metadata": {
        "id": "0Fi3VRSpFkn_"
      }
    },
    {
      "cell_type": "code",
      "source": [
        "# Import packages\n",
        "from dash import Dash, html, dcc, callback, Output, Input, State, no_update\n",
        "import plotly.express as px\n",
        "import plotly.io as pio\n",
        "import dash_bootstrap_components as dbc\n",
        "import sys\n",
        "import io, re, os\n",
        "import base64\n",
        "\n",
        "# Command-Line Arguments: file prefix, file path\n",
        "\"\"\"\n",
        "if len(sys.argv) < 2:\n",
        "    print('ERROR: No prefix')\n",
        "\n",
        "fig_prfx = sys.argv[1]\n",
        "if len(sys.argv) >= 3:\n",
        "    fig_path = sys.argv[2]\n",
        "else:\n",
        "    fig_path = '.'\n",
        "\n",
        "# get json file pattern\n",
        "if len(sys.argv) >= 4:\n",
        "    pattern = sys.argv[3]\n",
        "else:\n",
        "    pattern = r'\\d+(?=\\.json)'\n",
        "\"\"\"\n",
        "\n",
        "fig_path = 'reds2'\n",
        "fig_prfx = 'sdistr'\n",
        "pattern = r'\\d+(?=\\.json)'\n",
        "\n",
        "# get json file list\n",
        "fig_files = [x for x in os.listdir(fig_path) if x.startswith(fig_prfx)]\n",
        "fig_files = sorted(fig_files)\n",
        "\n",
        "n = len(fig_files)\n",
        "if n == 0:\n",
        "    print('ERROR!: No fig to read')\n",
        "else:\n",
        "    #print(f'{n} figs ready to load')\n",
        "    pass\n",
        "\n",
        "# create topic options (dicts of label and value) for dropdown menu\n",
        "tids = [int(re.findall(pattern, x)[0]) for x in fig_files]\n",
        "options = [{'label':f'Topic {t}', 'value': f} for t, f in zip(tids, fig_files)]\n",
        "\n",
        "# Initialize the app - incorporate a Dash Bootstrap theme\n",
        "external_stylesheets = [dbc.themes.FLATLY]\n",
        "#external_stylesheets=[dbc.themes.BOOTSTRAP]\n",
        "\n",
        "app = Dash(__name__, external_stylesheets=external_stylesheets)\n",
        "\n",
        "title =  html.H4(\"Topic Distribution\", className=\"text-primary\")\n",
        "\n",
        "dropdown = dcc.Dropdown(options=options, value=options[0]['value'],\n",
        "                        id=\"topics\", multi=True)\n",
        "\n",
        "buttons = dbc.Stack(\n",
        "    [\n",
        "        dbc.Button(\"Save\", id='save-button',\n",
        "                   color=\"secondary\", className=\"btn btn-primary btn-sm\"),\n",
        "        dcc.Upload(dbc.Button(\"Load\", color=\"secondary\", className=\"btn btn-primary btn-sm\"),\n",
        "                   id='load-topics')\n",
        "\n",
        "    ],\n",
        "    #className= \"m-1\",\n",
        "    direction=\"horizontal\",\n",
        "    gap=2\n",
        ")\n",
        "\n",
        "# App layout\n",
        "app.layout = dbc.Container(\n",
        "    [\n",
        "        dbc.Row(dbc.Col(title, lg=6)),\n",
        "        dbc.Row([dbc.Col(dropdown, lg=6), dbc.Col(buttons)], align=\"center\"),\n",
        "        dbc.Row(dbc.Col(html.Div(id=\"graphs\"))),\n",
        "        dcc.Download(id=\"save-topics\"),\n",
        "    ],\n",
        "    className=\"dbc p-4\",\n",
        "    fluid=True,\n",
        ")\n",
        "\n",
        "\n",
        "# Add controls to build the interaction\n",
        "@callback(\n",
        "    Output(component_id=\"graphs\", component_property=\"children\"),\n",
        "    Input(component_id='topics', component_property='value')\n",
        ")\n",
        "def plot_topic_distr(files):\n",
        "    \"\"\"\n",
        "    files: list of json file names to plot\n",
        "    \"\"\"\n",
        "    if not isinstance(files, list):\n",
        "        files = [files]\n",
        "\n",
        "    graphs = []\n",
        "    for f in files:\n",
        "        f = f'{fig_path}/{f}'\n",
        "        fig = pio.read_json(f)\n",
        "        g = dcc.Graph(figure=fig, className=\"border\")\n",
        "        graphs.append(g)\n",
        "\n",
        "    layout = []\n",
        "    cols = []\n",
        "    for i, g in enumerate(graphs, start=1):\n",
        "        cols.append(dbc.Col(g))\n",
        "        if (i % 2 == 0) or (i == len(graphs)):\n",
        "            layout.append(dbc.Row(cols, className=\"mt-2\"))\n",
        "            cols = []\n",
        "\n",
        "    #layout = 'figs: '  + ', '.join(files) # testing\n",
        "    return layout\n",
        "\n",
        "\n",
        "@callback(\n",
        "    Output(\"save-topics\", \"data\"),\n",
        "    Input('save-button', 'n_clicks'),\n",
        "    State('topics', 'value'),\n",
        "    prevent_initial_call=True\n",
        ")\n",
        "def save_topics(n_clicks, files):\n",
        "    \"\"\"\n",
        "    save file names of choice in dropdown in a txt file\n",
        "    \"\"\"\n",
        "    if not isinstance(files, list):\n",
        "        files = [files]\n",
        "\n",
        "    pattern = r'\\d+(?=\\.json)'\n",
        "    tids = [int(re.findall(pattern, x)[0]) for x in files]\n",
        "    tids = '_'.join([str(x) for x in tids])\n",
        "    filename = os.path.commonprefix(files) # get common string\n",
        "    filename = re.sub(r'\\d+$', '', filename) # strip a number suffix\n",
        "    filename = f'{filename}_{tids}.txt'\n",
        "\n",
        "    content = ', '.join(files)\n",
        "    return dict(content=f'{content}', filename=filename)\n",
        "\n",
        "\n",
        "@callback([Output(component_id=\"topics\", component_property=\"value\"),\n",
        "          Output('load-topics', 'contents')],\n",
        "          Input('load-topics', 'contents'),\n",
        "          State('load-topics', 'filename'),\n",
        "          State('load-topics', 'last_modified'),\n",
        "          prevent_initial_call=True)\n",
        "def load_topics(contents, filename, date):\n",
        "    try:\n",
        "        content_type, content_string = contents.split(',')\n",
        "        decoded = base64.b64decode(content_string)\n",
        "        files = decoded.decode('utf-8') # a string containing json file names\n",
        "        files = re.findall(r'\\w+\\.json', files) # list of json files\n",
        "        if len(files) == 0:\n",
        "            files = no_update\n",
        "    except Exception as e:\n",
        "        print(e)\n",
        "        files = no_update\n",
        "\n",
        "    return files, None\n",
        "\n",
        "\n",
        "# Run the app\n",
        "if __name__ == '__main__':\n",
        "    app.run(debug=True,\n",
        "            #jupyter_width=arg_width, #\"70%\"\n",
        "            jupyter_height=600, #\"70%\"\n",
        "            )"
      ],
      "metadata": {
        "id": "uektJtDZGfWY",
        "colab": {
          "base_uri": "https://localhost:8080/",
          "height": 621
        },
        "outputId": "72c8854d-ed70-4c00-b46c-d022ce304efb"
      },
      "execution_count": 93,
      "outputs": [
        {
          "output_type": "display_data",
          "data": {
            "text/plain": [
              "<IPython.core.display.Javascript object>"
            ],
            "application/javascript": [
              "(async (port, path, width, height, cache, element) => {\n",
              "    if (!google.colab.kernel.accessAllowed && !cache) {\n",
              "      return;\n",
              "    }\n",
              "    element.appendChild(document.createTextNode(''));\n",
              "    const url = await google.colab.kernel.proxyPort(port, {cache});\n",
              "    const iframe = document.createElement('iframe');\n",
              "    iframe.src = new URL(path, url).toString();\n",
              "    iframe.height = height;\n",
              "    iframe.width = width;\n",
              "    iframe.style.border = 0;\n",
              "    iframe.allow = [\n",
              "        'accelerometer',\n",
              "        'autoplay',\n",
              "        'camera',\n",
              "        'clipboard-read',\n",
              "        'clipboard-write',\n",
              "        'gyroscope',\n",
              "        'magnetometer',\n",
              "        'microphone',\n",
              "        'serial',\n",
              "        'usb',\n",
              "        'xr-spatial-tracking',\n",
              "    ].join('; ');\n",
              "    element.appendChild(iframe);\n",
              "  })(8050, \"/\", \"100%\", 600, false, window.element)"
            ]
          },
          "metadata": {}
        }
      ]
    },
    {
      "cell_type": "code",
      "source": [
        "from dash import Dash, html, dcc, Input, Output, State, callback\n",
        "\n",
        "app = Dash(__name__)\n",
        "app.layout = html.Div([\n",
        "    dcc.Store(id='session', storage_type='memory', data={'filenames': []}),\n",
        "    dcc.Upload([html.Div('Drag and drop file or click to Upload...')], id='file-picker', multiple=True),\n",
        "    dcc.Dropdown(id='file-dropdown', className='file-dropdown'),\n",
        "    html.Button('delete all', id='delete-all')\n",
        "])\n",
        "\n",
        "\n",
        "@callback(\n",
        "    [Output('file-dropdown', 'options'),\n",
        "     Output('file-dropdown', 'value'),\n",
        "     Output('session', 'data'),\n",
        "     Output('file-picker', 'contents')],  # workaround for issue 816\n",
        "    Input('file-picker', 'contents'),\n",
        "    State('file-picker', 'filename'),\n",
        "    State('session', 'data'),\n",
        "    prevent_initial_call=True\n",
        ")\n",
        "def upload_file(file_contents_list, filename_list, session_data):\n",
        "    for file_contents, filename in zip(file_contents_list, filename_list):\n",
        "        session_data = process_file(file_contents, filename, session_data)\n",
        "    filenames = session_data['filenames']\n",
        "    currently_selected_file = filenames[0] if filenames[0] else None\n",
        "    return filenames, currently_selected_file, session_data, None  # Always return None for the file-picker contents\n",
        "\n",
        "\n",
        "@callback(\n",
        "    [Output('file-dropdown', 'options', allow_duplicate=True),\n",
        "     Output('file-dropdown', 'value', allow_duplicate=True),\n",
        "     Output('session', 'data', allow_duplicate=True)],\n",
        "    Input('delete-all', 'n_clicks'),\n",
        "    prevent_initial_call=True\n",
        ")\n",
        "def delete_all_uploads(_):\n",
        "    return [], None, {'filenames': []}\n",
        "\n",
        "\n",
        "def process_file(file_contents, filename, session_data):\n",
        "    # Do whatever you want with file_contents and filename in here. In your application, you'd probably want to do\n",
        "    # something more sophisticated. Here, I'm just adding the filename to a list in a dcc.Store component for\n",
        "    # demonstration purposes.\n",
        "    session_data['filenames'].append(filename)\n",
        "    return session_data\n",
        "\n",
        "\n",
        "app.run(debug=True)"
      ],
      "metadata": {
        "id": "ypwNwOOvWD_0",
        "colab": {
          "base_uri": "https://localhost:8080/",
          "height": 671
        },
        "outputId": "e5cfe9a8-d59a-4d55-d1a9-4f4015662ccc"
      },
      "execution_count": null,
      "outputs": [
        {
          "output_type": "display_data",
          "data": {
            "text/plain": [
              "<IPython.core.display.Javascript object>"
            ],
            "application/javascript": [
              "(async (port, path, width, height, cache, element) => {\n",
              "    if (!google.colab.kernel.accessAllowed && !cache) {\n",
              "      return;\n",
              "    }\n",
              "    element.appendChild(document.createTextNode(''));\n",
              "    const url = await google.colab.kernel.proxyPort(port, {cache});\n",
              "    const iframe = document.createElement('iframe');\n",
              "    iframe.src = new URL(path, url).toString();\n",
              "    iframe.height = height;\n",
              "    iframe.width = width;\n",
              "    iframe.style.border = 0;\n",
              "    iframe.allow = [\n",
              "        'accelerometer',\n",
              "        'autoplay',\n",
              "        'camera',\n",
              "        'clipboard-read',\n",
              "        'clipboard-write',\n",
              "        'gyroscope',\n",
              "        'magnetometer',\n",
              "        'microphone',\n",
              "        'serial',\n",
              "        'usb',\n",
              "        'xr-spatial-tracking',\n",
              "    ].join('; ');\n",
              "    element.appendChild(iframe);\n",
              "  })(8050, \"/\", \"100%\", 650, false, window.element)"
            ]
          },
          "metadata": {}
        }
      ]
    },
    {
      "cell_type": "code",
      "source": [
        "def func(a, b):\n",
        "    return a, b"
      ],
      "metadata": {
        "id": "dq95qj2HfS-M"
      },
      "execution_count": null,
      "outputs": []
    },
    {
      "cell_type": "code",
      "source": [
        "func(1,2)"
      ],
      "metadata": {
        "colab": {
          "base_uri": "https://localhost:8080/"
        },
        "id": "UBKKWSjjhAJM",
        "outputId": "c3231c15-9708-4305-eada-c3889670b59d"
      },
      "execution_count": null,
      "outputs": [
        {
          "output_type": "execute_result",
          "data": {
            "text/plain": [
              "(1, 2)"
            ]
          },
          "metadata": {},
          "execution_count": 84
        }
      ]
    },
    {
      "cell_type": "code",
      "source": [],
      "metadata": {
        "id": "UNIlQ-IVhBKn"
      },
      "execution_count": null,
      "outputs": []
    }
  ]
}