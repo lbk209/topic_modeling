{
  "nbformat": 4,
  "nbformat_minor": 0,
  "metadata": {
    "colab": {
      "provenance": [],
      "authorship_tag": "ABX9TyNuDrV1xCXOSnSid/iR1/Pj",
      "include_colab_link": true
    },
    "kernelspec": {
      "name": "python3",
      "display_name": "Python 3"
    },
    "language_info": {
      "name": "python"
    }
  },
  "cells": [
    {
      "cell_type": "markdown",
      "metadata": {
        "id": "view-in-github",
        "colab_type": "text"
      },
      "source": [
        "<a href=\"https://colab.research.google.com/github/lbk209/topic_modeling/blob/main/tm_develop_dash.ipynb\" target=\"_parent\"><img src=\"https://colab.research.google.com/assets/colab-badge.svg\" alt=\"Open In Colab\"/></a>"
      ]
    },
    {
      "cell_type": "code",
      "source": [
        "%%capture\n",
        "!pip install dash dash_bootstrap_components"
      ],
      "metadata": {
        "id": "lwbMp2oGDcX-"
      },
      "execution_count": 5,
      "outputs": []
    },
    {
      "cell_type": "code",
      "execution_count": null,
      "metadata": {
        "id": "UvrQAcxHDOv9"
      },
      "outputs": [],
      "source": [
        "from dash import Dash, dcc, html, Input, Output\n",
        "import plotly.express as px\n",
        "import dash_bootstrap_components as dbc\n",
        "\n",
        "app = Dash(__name__, external_stylesheets=[dbc.themes.BOOTSTRAP])\n",
        "\n",
        "iris = px.data.iris()\n",
        "gapminder = px.data.gapminder()\n",
        "tips = px.data.tips()\n",
        "carshare = px.data.carshare()\n",
        "\n",
        "figure_templates = [\n",
        "    \"plotly\",\n",
        "    \"ggplot2\",\n",
        "    \"seaborn\",\n",
        "    \"simple_white\",\n",
        "    \"plotly_white\",\n",
        "    \"plotly_dark\",\n",
        "    \"presentation\",\n",
        "    \"xgridoff\",\n",
        "    \"ygridoff\",\n",
        "    \"gridon\",\n",
        "    \"none\",\n",
        "]\n",
        "\n",
        "change_figure_template = html.Div(\n",
        "    [\n",
        "        html.Div(\"Change Figure Template\"),\n",
        "        dcc.Dropdown(figure_templates, figure_templates[0], id=\"template\"),\n",
        "    ],\n",
        "    className=\"pb-4\",\n",
        ")\n",
        "\n",
        "\n",
        "app.layout = dbc.Container(\n",
        "    [\n",
        "        dbc.Row(dbc.Col(change_figure_template, lg=6)),\n",
        "        dbc.Row(dbc.Col(html.Div(id=\"graphs\"))),\n",
        "    ],\n",
        "    className=\"dbc p-4\",\n",
        "    fluid=True,\n",
        ")\n",
        "\n",
        "\n",
        "@app.callback(\n",
        "    Output(\"graphs\", \"children\"),\n",
        "    Input(\"template\", \"value\"),\n",
        ")\n",
        "def update_graph_theme(template):\n",
        "    graph1 = dcc.Graph(\n",
        "        figure=px.scatter(\n",
        "            iris,\n",
        "            x=\"sepal_width\",\n",
        "            y=\"sepal_length\",\n",
        "            color=\"species\",\n",
        "            title=f\"Iris <br>{template} figure template\",\n",
        "            template=template,\n",
        "        ),\n",
        "        className=\"border\",\n",
        "    )\n",
        "    graph2 = dcc.Graph(\n",
        "        figure=px.scatter(\n",
        "            gapminder,\n",
        "            x=\"gdpPercap\",\n",
        "            y=\"lifeExp\",\n",
        "            size=\"pop\",\n",
        "            color=\"continent\",\n",
        "            hover_name=\"country\",\n",
        "            animation_frame=\"year\",\n",
        "            animation_group=\"country\",\n",
        "            log_x=True,\n",
        "            size_max=60,\n",
        "            title=f\"Gapminder <br>{template} figure template\",\n",
        "            template=template,\n",
        "        ),\n",
        "        className=\"border\",\n",
        "    )\n",
        "    graph3 = dcc.Graph(\n",
        "        figure=px.violin(\n",
        "            tips,\n",
        "            y=\"tip\",\n",
        "            x=\"smoker\",\n",
        "            color=\"sex\",\n",
        "            box=True,\n",
        "            points=\"all\",\n",
        "            hover_data=tips.columns,\n",
        "            title=f\"Tips <br>{template} figure template\",\n",
        "            template=template,\n",
        "        ),\n",
        "        className=\"border\",\n",
        "    )\n",
        "    graph4 = dcc.Graph(\n",
        "        figure=px.scatter_mapbox(\n",
        "            carshare,\n",
        "            lat=\"centroid_lat\",\n",
        "            lon=\"centroid_lon\",\n",
        "            color=\"peak_hour\",\n",
        "            size=\"car_hours\",\n",
        "            size_max=15,\n",
        "            zoom=10,\n",
        "            mapbox_style=\"carto-positron\",\n",
        "            title=f\"Carshare <br> {template} figure template\",\n",
        "            template=template,\n",
        "        ),\n",
        "        className=\"border\",\n",
        "    )\n",
        "\n",
        "    return [\n",
        "        dbc.Row([dbc.Col(graph1, lg=6), dbc.Col(graph2, lg=6)]),\n",
        "        dbc.Row([dbc.Col(graph3, lg=6), dbc.Col(graph4, lg=6)], className=\"mt-4\"),\n",
        "    ]\n",
        "\n",
        "\n",
        "if __name__ == \"__main__\":\n",
        "    app.run_server(debug=True)"
      ]
    },
    {
      "cell_type": "code",
      "source": [
        "# Import packages\n",
        "from dash import Dash, html, dash_table, dcc, callback, Output, Input\n",
        "import pandas as pd\n",
        "import plotly.express as px\n",
        "import dash_bootstrap_components as dbc\n",
        "\n",
        "# Incorporate data\n",
        "df = pd.read_csv('https://raw.githubusercontent.com/plotly/datasets/master/gapminder2007.csv')\n",
        "\n",
        "# Initialize the app - incorporate a Dash Bootstrap theme\n",
        "external_stylesheets = [dbc.themes.CERULEAN]\n",
        "app = Dash(__name__, external_stylesheets=external_stylesheets)\n",
        "\n",
        "# App layout\n",
        "app.layout = dbc.Container([\n",
        "    dbc.Row([\n",
        "        html.Div('My First App with Data, Graph, and Controls', className=\"text-primary text-center fs-3\")\n",
        "    ]),\n",
        "\n",
        "    dbc.Row([\n",
        "        dbc.RadioItems(options=[{\"label\": x, \"value\": x} for x in ['pop', 'lifeExp', 'gdpPercap']],\n",
        "                       value='lifeExp',\n",
        "                       inline=True,\n",
        "                       id='radio-buttons-final')\n",
        "    ]),\n",
        "\n",
        "    dbc.Row([\n",
        "        dbc.Col([\n",
        "            dash_table.DataTable(data=df.to_dict('records'), page_size=12, style_table={'overflowX': 'auto'})\n",
        "        ], width=6),\n",
        "\n",
        "        dbc.Col([\n",
        "            dcc.Graph(figure={}, id='my-first-graph-final')\n",
        "        ], width=6),\n",
        "    ]),\n",
        "\n",
        "], fluid=True)\n",
        "\n",
        "# Add controls to build the interaction\n",
        "@callback(\n",
        "    Output(component_id='my-first-graph-final', component_property='figure'),\n",
        "    Input(component_id='radio-buttons-final', component_property='value')\n",
        ")\n",
        "def update_graph(col_chosen):\n",
        "    fig = px.histogram(df, x='continent', y=col_chosen, histfunc='avg')\n",
        "    return fig\n",
        "\n",
        "# Run the app\n",
        "if __name__ == '__main__':\n",
        "    app.run(debug=True)\n"
      ],
      "metadata": {
        "colab": {
          "base_uri": "https://localhost:8080/",
          "height": 671
        },
        "id": "gvSifcqSEBGa",
        "outputId": "3df63cc5-1f9c-4115-a4ae-92d6b1a8c7be"
      },
      "execution_count": 44,
      "outputs": [
        {
          "output_type": "display_data",
          "data": {
            "text/plain": [
              "<IPython.core.display.Javascript object>"
            ],
            "application/javascript": [
              "(async (port, path, width, height, cache, element) => {\n",
              "    if (!google.colab.kernel.accessAllowed && !cache) {\n",
              "      return;\n",
              "    }\n",
              "    element.appendChild(document.createTextNode(''));\n",
              "    const url = await google.colab.kernel.proxyPort(port, {cache});\n",
              "    const iframe = document.createElement('iframe');\n",
              "    iframe.src = new URL(path, url).toString();\n",
              "    iframe.height = height;\n",
              "    iframe.width = width;\n",
              "    iframe.style.border = 0;\n",
              "    iframe.allow = [\n",
              "        'accelerometer',\n",
              "        'autoplay',\n",
              "        'camera',\n",
              "        'clipboard-read',\n",
              "        'clipboard-write',\n",
              "        'gyroscope',\n",
              "        'magnetometer',\n",
              "        'microphone',\n",
              "        'serial',\n",
              "        'usb',\n",
              "        'xr-spatial-tracking',\n",
              "    ].join('; ');\n",
              "    element.appendChild(iframe);\n",
              "  })(8050, \"/\", \"100%\", 650, false, window.element)"
            ]
          },
          "metadata": {}
        }
      ]
    },
    {
      "cell_type": "markdown",
      "source": [
        "# Design"
      ],
      "metadata": {
        "id": "S_1u2WMzIysa"
      }
    },
    {
      "cell_type": "code",
      "source": [
        "%%capture\n",
        "figs_zip = 'moscato_distr'\n",
        "!unzip -u {figs_zip}.zip"
      ],
      "metadata": {
        "id": "weL_FxK8DUVd"
      },
      "execution_count": 21,
      "outputs": []
    },
    {
      "cell_type": "code",
      "source": [
        "import os\n",
        "\n",
        "figs_path, figs_file = figs_zip.split('_')\n",
        "\n",
        "figs_files = [x for x in os.listdir(figs_path) if x.startswith(figs_file)]\n",
        "figs_files = sorted(figs_files)\n",
        "\n",
        "if len(figs_files) == 0:\n",
        "    print('ERROR!: No fig to read')"
      ],
      "metadata": {
        "id": "sFXqUzkEIRAI"
      },
      "execution_count": 22,
      "outputs": []
    },
    {
      "cell_type": "code",
      "source": [
        "pattern = r'\\d+(?=\\.json)'\n",
        "tids = [int(re.findall(pattern, x)[0]) for x in files]\n",
        "tids"
      ],
      "metadata": {
        "id": "EUv6Y5C2Jlho"
      },
      "execution_count": null,
      "outputs": []
    },
    {
      "cell_type": "code",
      "source": [
        "options = [{'label':f'Topic {t}', 'value': f} for t, f in zip(tids, figs_files)]"
      ],
      "metadata": {
        "id": "PF1Vb6OPMMjp"
      },
      "execution_count": 31,
      "outputs": []
    },
    {
      "cell_type": "code",
      "source": [
        "# Import packages\n",
        "from dash import Dash, html, dash_table, dcc, callback, Output, Input\n",
        "import plotly.express as px\n",
        "import plotly.io as pio\n",
        "import dash_bootstrap_components as dbc\n",
        "\n",
        "\n",
        "# Initialize the app - incorporate a Dash Bootstrap theme\n",
        "external_stylesheets = [dbc.themes.CERULEAN]\n",
        "app = Dash(__name__, external_stylesheets=external_stylesheets)\n",
        "\n",
        "\n",
        "# App layout\n",
        "app.layout = dbc.Container([\n",
        "    dbc.Row(\n",
        "        html.Div('Topic Distribution', className=\"text-primary text-center fs-3\")\n",
        "    ),\n",
        "\n",
        "    dbc.Row(\n",
        "        #dcc.Dropdown(options=options, value=options[0]['value'], id=\"topics\"),\n",
        "        dbc.Col(\n",
        "            dcc.Dropdown(options=options, value=options[0]['value'], id=\"topics\"),\n",
        "            #width=\"auto\"\n",
        "            width=4,\n",
        "            ),\n",
        "        justify=\"center\"\n",
        "    ),\n",
        "\n",
        "    dbc.Row(\n",
        "        dcc.Graph(figure={}, id='topic_distribution')\n",
        "    ),\n",
        "\n",
        "], fluid=True)\n",
        "\n",
        "\n",
        "# Add controls to build the interaction\n",
        "@callback(\n",
        "    Output(component_id='topic_distribution', component_property='figure'),\n",
        "    Input(component_id='topics', component_property='value')\n",
        ")\n",
        "def plot_topic_distr(file):\n",
        "    f = f'{figs_path}/{file}'\n",
        "    fig = pio.read_json(f)\n",
        "    return fig\n",
        "\n",
        "\n",
        "# Run the app\n",
        "if __name__ == '__main__':\n",
        "    app.run(debug=False,\n",
        "            jupyter_width=800 #\"70%\"\n",
        "            )\n"
      ],
      "metadata": {
        "colab": {
          "base_uri": "https://localhost:8080/",
          "height": 671
        },
        "id": "BDGCP0WzELef",
        "outputId": "361e823c-7a7e-4b3d-9661-80d0f9df52bd"
      },
      "execution_count": 45,
      "outputs": [
        {
          "output_type": "display_data",
          "data": {
            "text/plain": [
              "<IPython.core.display.Javascript object>"
            ],
            "application/javascript": [
              "(async (port, path, width, height, cache, element) => {\n",
              "    if (!google.colab.kernel.accessAllowed && !cache) {\n",
              "      return;\n",
              "    }\n",
              "    element.appendChild(document.createTextNode(''));\n",
              "    const url = await google.colab.kernel.proxyPort(port, {cache});\n",
              "    const iframe = document.createElement('iframe');\n",
              "    iframe.src = new URL(path, url).toString();\n",
              "    iframe.height = height;\n",
              "    iframe.width = width;\n",
              "    iframe.style.border = 0;\n",
              "    iframe.allow = [\n",
              "        'accelerometer',\n",
              "        'autoplay',\n",
              "        'camera',\n",
              "        'clipboard-read',\n",
              "        'clipboard-write',\n",
              "        'gyroscope',\n",
              "        'magnetometer',\n",
              "        'microphone',\n",
              "        'serial',\n",
              "        'usb',\n",
              "        'xr-spatial-tracking',\n",
              "    ].join('; ');\n",
              "    element.appendChild(iframe);\n",
              "  })(8050, \"/\", 800, 650, false, window.element)"
            ]
          },
          "metadata": {}
        }
      ]
    },
    {
      "cell_type": "code",
      "source": [],
      "metadata": {
        "id": "tHByM4MPcOt9"
      },
      "execution_count": null,
      "outputs": []
    }
  ]
}