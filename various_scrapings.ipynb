{
 "cells": [
  {
   "cell_type": "code",
   "execution_count": 6,
   "id": "db5fc1a7-de71-409c-9e7c-0dd9e4c27251",
   "metadata": {},
   "outputs": [],
   "source": [
    "from wine_scrapers import simple_scraper"
   ]
  },
  {
   "cell_type": "code",
   "execution_count": 8,
   "id": "bbb6eda0-fcc1-4f3f-ae50-a3dd8a65aab4",
   "metadata": {},
   "outputs": [
    {
     "data": {
      "text/plain": [
       "['Wine Terms For Body',\n",
       " 'Wine Terms for Style',\n",
       " 'Wine Terms For Tannin',\n",
       " 'Wine Terms For Acidity',\n",
       " 'Wine Terms For Alcohol',\n",
       " 'Wine Terms For Fruit',\n",
       " 'Wine Terms for Herb',\n",
       " 'Wine Terms for Spice',\n",
       " 'Wine Terms for Flower',\n",
       " 'Wine Terms for Oak',\n",
       " 'Wine Terms for Yeast',\n",
       " 'Wine Terms for Inorganic',\n",
       " '',\n",
       " '',\n",
       " 'Join Our Newsletter']"
      ]
     },
     "execution_count": 8,
     "metadata": {},
     "output_type": "execute_result"
    }
   ],
   "source": [
    "url = 'https://winefolly.com/tips/wine-descriptions-chart-infographic/'\n",
    "\n",
    "cat = simple_scraper(url, 'h3', by=By.TAG_NAME)\n",
    "cat = cat['h3']\n",
    "cat"
   ]
  },
  {
   "cell_type": "code",
   "execution_count": 33,
   "id": "6f13dae0-0989-4e31-900c-15ea68cee7d8",
   "metadata": {},
   "outputs": [
    {
     "data": {
      "text/plain": [
       "['Wine Terms For Body',\n",
       " 'Wine Terms for Style',\n",
       " 'Wine Terms For Tannin',\n",
       " 'Wine Terms For Acidity',\n",
       " 'Wine Terms For Alcohol',\n",
       " 'Wine Terms For Fruit',\n",
       " 'Wine Terms for Herb',\n",
       " 'Wine Terms for Spice',\n",
       " 'Wine Terms for Flower',\n",
       " 'Wine Terms for Oak',\n",
       " 'Wine Terms for Yeast',\n",
       " 'Wine Terms for Inorganic']"
      ]
     },
     "execution_count": 33,
     "metadata": {},
     "output_type": "execute_result"
    }
   ],
   "source": [
    "cat = cat[:-3]\n",
    "cat"
   ]
  },
  {
   "cell_type": "code",
   "execution_count": 37,
   "id": "95b0d21b-050f-4ed7-ae56-65d30d1bf5cf",
   "metadata": {
    "scrolled": true
   },
   "outputs": [],
   "source": [
    "from selenium import webdriver\n",
    "from selenium.webdriver.common.by import By\n",
    "\n",
    "driver = webdriver.Chrome() \n",
    "driver.get(url)\n",
    "#time.sleep(1)\n",
    "\n",
    "result = dict()\n",
    "for i, h3 in enumerate(cat, start=1):\n",
    "    dt = driver.find_elements(By.XPATH, f'//*[@id=\"main\"]/dl[{i}]/dt')\n",
    "    dd = driver.find_elements(By.XPATH, f'//*[@id=\"main\"]/dl[{i}]/dd')\n",
    "    result[h3] = {k.text: v.text for k,v in zip(dt,dd)}\n",
    "        \n",
    "driver.quit()"
   ]
  },
  {
   "cell_type": "code",
   "execution_count": 39,
   "id": "602c56ea-92d2-4352-aa7c-7e9f3d7decbe",
   "metadata": {},
   "outputs": [],
   "source": [
    "result = dict()\n",
    "for i, h3 in enumerate(cat, start=1):\n",
    "    dt = f'//*[@id=\"main\"]/dl[{i}]/dt'\n",
    "    dd = f'//*[@id=\"main\"]/dl[{i}]/dd'\n",
    "    r = simple_scraper(url, dt, dd, by=By.XPATH)\n",
    "    result[h3] = dict(zip(r[dt],r[dd]))"
   ]
  },
  {
   "cell_type": "code",
   "execution_count": 46,
   "id": "62f72c0f-ac3c-49ae-8103-a234b31d48e7",
   "metadata": {},
   "outputs": [
    {
     "data": {
      "text/plain": [
       "dict_keys(['Wine Terms For Body', 'Wine Terms for Style', 'Wine Terms For Tannin', 'Wine Terms For Acidity', 'Wine Terms For Alcohol', 'Wine Terms For Fruit', 'Wine Terms for Herb', 'Wine Terms for Spice', 'Wine Terms for Flower', 'Wine Terms for Oak', 'Wine Terms for Yeast', 'Wine Terms for Inorganic'])"
      ]
     },
     "execution_count": 46,
     "metadata": {},
     "output_type": "execute_result"
    }
   ],
   "source": [
    "result.keys()"
   ]
  },
  {
   "cell_type": "code",
   "execution_count": 47,
   "id": "0fc50f94-494c-4c44-b66f-d52d01480e7e",
   "metadata": {},
   "outputs": [
    {
     "data": {
      "text/plain": [
       "{'Thin': 'a wine that has acidity but little substance',\n",
       " 'Cliff-Edge': 'the taste of a wine disappears quickly',\n",
       " 'Hollow': 'a wine with no mid-palate',\n",
       " 'Mellow': 'a wine without major intensity',\n",
       " 'Short': 'a wine with short lasting flavor',\n",
       " 'Austere': 'a wine that’s hard to drink',\n",
       " 'Angular': 'a wine that has rough edges',\n",
       " 'Delicate': 'a wine that is faintly bodied',\n",
       " 'Elegant': 'a wine tasting light-bodied with high acidity',\n",
       " 'Light-Bodied': 'a wine that is light on the palate',\n",
       " 'Finesse': 'a wine that has well integrated acid and tannin',\n",
       " 'Closed': 'a wine that doesn’t have much flavor but has tannin',\n",
       " 'Polished': 'a wine that tastes clean and well-made',\n",
       " 'Complex': 'a wine that keeps on delivering more interesting flavors',\n",
       " 'Full-Bodied': 'a big, bold flavored wine',\n",
       " 'Tight': 'a wine with high tannin that interferes with other flavors',\n",
       " 'Firm': 'a wine with high tannin that dries out your mouth',\n",
       " 'Powerful': 'a bold wine with high intensity',\n",
       " 'Concentrated': 'a wine with bold fruit flavors, moderate acidity and tannin',\n",
       " 'Dense': 'a wine with bold fruit flavors and moderate tannin',\n",
       " 'Opulent': 'a bold wine with smooth tannins and lower acidity',\n",
       " 'Rich': 'a wine saturated with fruit flavors',\n",
       " 'Extracted': 'a wine that is darker and richer than most wines in its style',\n",
       " 'Flabby': 'a wine that has very low acidity',\n",
       " 'Fat': 'a wine with fruit but no acidity or tannin'}"
      ]
     },
     "execution_count": 47,
     "metadata": {},
     "output_type": "execute_result"
    }
   ],
   "source": [
    "result['Wine Terms For Body']"
   ]
  },
  {
   "cell_type": "code",
   "execution_count": 45,
   "id": "d5df3ddc-868b-4686-8944-f14f0edfb6ee",
   "metadata": {},
   "outputs": [],
   "source": [
    "# selenium의 webdriver를 사용하기 위한 import\n",
    "from selenium import webdriver\n",
    "\n",
    "# selenium으로 키를 조작하기 위한 import\n",
    "#from selenium.webdriver.common.keys import Keys\n",
    "from selenium.webdriver.common.by import By\n",
    "\n",
    "#from selenium.common.exceptions import ElementNotVisibleException, StaleElementReferenceException, NoSuchElementException\n",
    "\n",
    "# 페이지 로딩을 기다리는데에 사용할 time 모듈 import\n",
    "import time\n",
    "\n",
    "#import pandas as pd \n",
    "#import numpy as np\n",
    "#from tqdm import tqdm\n",
    "#from datetime import datetime\n",
    "\n",
    "#import os\n",
    "\n",
    "def simple_scraper(url, *elements, by=By.CLASS_NAME, driver=None, quit_driver=True):\n",
    "    if driver is None:\n",
    "        driver = webdriver.Chrome() \n",
    "        driver.get(url)\n",
    "        time.sleep(2)\n",
    "\n",
    "    result = dict()\n",
    "    for e in elements:\n",
    "        l = driver.find_elements(by, e)\n",
    "        result[e] = [x.text for x in l]\n",
    "\n",
    "    if quit_driver:\n",
    "        driver.quit()\n",
    "    \n",
    "    return (result, driver)\n",
    "\n",
    "\n",
    "driver = None\n",
    "quit_driver = False\n",
    "\n",
    "result = dict()\n",
    "for i, h3 in enumerate(cat, start=1):\n",
    "    dt = f'//*[@id=\"main\"]/dl[{i}]/dt'\n",
    "    dd = f'//*[@id=\"main\"]/dl[{i}]/dd'\n",
    "    r, driver = simple_scraper(url, dt, dd, by=By.XPATH, driver=driver, quit_driver=quit_driver)\n",
    "    result[h3] = dict(zip(r[dt],r[dd]))\n",
    "\n",
    "driver.quit()"
   ]
  },
  {
   "cell_type": "code",
   "execution_count": 43,
   "id": "c0252631-df0a-411f-9957-b9f75abcb07d",
   "metadata": {},
   "outputs": [
    {
     "data": {
      "text/plain": [
       "<selenium.webdriver.chrome.webdriver.WebDriver (session=\"586e9db586d083f6355ae610c99ab681\")>"
      ]
     },
     "execution_count": 43,
     "metadata": {},
     "output_type": "execute_result"
    }
   ],
   "source": [
    "driver"
   ]
  },
  {
   "cell_type": "code",
   "execution_count": null,
   "id": "04051da8-1864-4d07-877f-d8bb38ab5be0",
   "metadata": {},
   "outputs": [],
   "source": []
  }
 ],
 "metadata": {
  "kernelspec": {
   "display_name": "scrap2",
   "language": "python",
   "name": "scrap2"
  },
  "language_info": {
   "codemirror_mode": {
    "name": "ipython",
    "version": 3
   },
   "file_extension": ".py",
   "mimetype": "text/x-python",
   "name": "python",
   "nbconvert_exporter": "python",
   "pygments_lexer": "ipython3",
   "version": "3.9.18"
  }
 },
 "nbformat": 4,
 "nbformat_minor": 5
}
