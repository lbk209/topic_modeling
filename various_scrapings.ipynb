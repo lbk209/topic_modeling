{
 "cells": [
  {
   "cell_type": "code",
   "execution_count": 3,
   "id": "db5fc1a7-de71-409c-9e7c-0dd9e4c27251",
   "metadata": {},
   "outputs": [],
   "source": [
    "from wine_scrapers import simple_scraper, By"
   ]
  },
  {
   "cell_type": "code",
   "execution_count": 6,
   "id": "bbb6eda0-fcc1-4f3f-ae50-a3dd8a65aab4",
   "metadata": {},
   "outputs": [
    {
     "data": {
      "text/plain": [
       "['Wine Terms For Body',\n",
       " 'Wine Terms for Style',\n",
       " 'Wine Terms For Tannin',\n",
       " 'Wine Terms For Acidity',\n",
       " 'Wine Terms For Alcohol',\n",
       " 'Wine Terms For Fruit',\n",
       " 'Wine Terms for Herb',\n",
       " 'Wine Terms for Spice',\n",
       " 'Wine Terms for Flower',\n",
       " 'Wine Terms for Oak',\n",
       " 'Wine Terms for Yeast',\n",
       " 'Wine Terms for Inorganic',\n",
       " '',\n",
       " '',\n",
       " 'Join Our Newsletter']"
      ]
     },
     "execution_count": 6,
     "metadata": {},
     "output_type": "execute_result"
    }
   ],
   "source": [
    "url = 'https://winefolly.com/tips/wine-descriptions-chart-infographic/'\n",
    "\n",
    "cat, _ = simple_scraper(url, 'h3', by=By.TAG_NAME)\n",
    "cat = cat['h3']\n",
    "cat"
   ]
  },
  {
   "cell_type": "code",
   "execution_count": 8,
   "id": "6f13dae0-0989-4e31-900c-15ea68cee7d8",
   "metadata": {},
   "outputs": [
    {
     "data": {
      "text/plain": [
       "['Body',\n",
       " 'Style',\n",
       " 'Tannin',\n",
       " 'Acidity',\n",
       " 'Alcohol',\n",
       " 'Fruit',\n",
       " 'Herb',\n",
       " 'Spice',\n",
       " 'Flower',\n",
       " 'Oak',\n",
       " 'Yeast',\n",
       " 'Inorganic']"
      ]
     },
     "execution_count": 8,
     "metadata": {},
     "output_type": "execute_result"
    }
   ],
   "source": [
    "cat = [x.split()[-1] for x in cat[:-3]]\n",
    "cat"
   ]
  },
  {
   "cell_type": "code",
   "execution_count": 9,
   "id": "d5df3ddc-868b-4686-8944-f14f0edfb6ee",
   "metadata": {},
   "outputs": [],
   "source": [
    "driver = None\n",
    "quit_driver = False\n",
    "\n",
    "result = dict()\n",
    "for i, h3 in enumerate(cat, start=1):\n",
    "    dt = f'//*[@id=\"main\"]/dl[{i}]/dt'\n",
    "    dd = f'//*[@id=\"main\"]/dl[{i}]/dd'\n",
    "    r, driver = simple_scraper(url, dt, dd, by=By.XPATH, driver=driver, quit_driver=quit_driver)\n",
    "    result[h3] = dict(zip(r[dt],r[dd]))\n",
    "\n",
    "driver.quit()"
   ]
  },
  {
   "cell_type": "code",
   "execution_count": 10,
   "id": "62f72c0f-ac3c-49ae-8103-a234b31d48e7",
   "metadata": {},
   "outputs": [
    {
     "data": {
      "text/plain": [
       "dict_keys(['Body', 'Style', 'Tannin', 'Acidity', 'Alcohol', 'Fruit', 'Herb', 'Spice', 'Flower', 'Oak', 'Yeast', 'Inorganic'])"
      ]
     },
     "execution_count": 10,
     "metadata": {},
     "output_type": "execute_result"
    }
   ],
   "source": [
    "result.keys()"
   ]
  },
  {
   "cell_type": "code",
   "execution_count": 12,
   "id": "0fc50f94-494c-4c44-b66f-d52d01480e7e",
   "metadata": {},
   "outputs": [
    {
     "data": {
      "text/plain": [
       "{'Bitter': 'bitter tannin is very intense and ‘green’',\n",
       " 'Harsh': 'tannin that dries out your mouth',\n",
       " 'Aggressive': 'tannin that drowns out the other wine flavors',\n",
       " 'Grippy': 'tannin that sticks to the sides of your mouth',\n",
       " 'Angular': 'tannin that hits one spot on your palate',\n",
       " 'Powerful': 'big smooth tannins',\n",
       " 'Coarse': 'tannins with a choppy grit, like course sandpaper',\n",
       " 'Leathery': 'delicate but earthy tannin often found in older wine',\n",
       " 'Rigid': 'aggressive tannins in the front of your mouth',\n",
       " 'Muscular': 'aggressive chalky tannin; used to describe young wines',\n",
       " 'Firm': 'persistent fine-grained tannin',\n",
       " 'Structured': 'well integrated but persistent fine-grained tannin',\n",
       " 'Chewy': 'a tannin that makes you want to chew it from the sides of your mouth',\n",
       " 'Chocolate': 'fine-grained smooth tannin with very little bite',\n",
       " 'Silky': 'fine-grained ultra smooth tannins with very little bite',\n",
       " 'Smooth': 'well integrated tannin',\n",
       " 'Round': 'smooth tannin with no bite',\n",
       " 'Opulent': 'more fruit than tannin',\n",
       " 'Velvety': 'very smooth tannin',\n",
       " 'Voluptuous': 'more fruit than tannin',\n",
       " 'Supple': 'well integrated tannin',\n",
       " 'Soft': 'low tannin',\n",
       " 'Mellow': 'little-to-no tannin',\n",
       " 'Spineless': 'lack of tannin makes wine taste weak',\n",
       " 'Flabby': 'lack of tannin makes wine taste weak'}"
      ]
     },
     "execution_count": 12,
     "metadata": {},
     "output_type": "execute_result"
    }
   ],
   "source": [
    "result['Tannin']"
   ]
  },
  {
   "cell_type": "code",
   "execution_count": null,
   "id": "04051da8-1864-4d07-877f-d8bb38ab5be0",
   "metadata": {},
   "outputs": [],
   "source": []
  }
 ],
 "metadata": {
  "kernelspec": {
   "display_name": "scrap2",
   "language": "python",
   "name": "scrap2"
  },
  "language_info": {
   "codemirror_mode": {
    "name": "ipython",
    "version": 3
   },
   "file_extension": ".py",
   "mimetype": "text/x-python",
   "name": "python",
   "nbconvert_exporter": "python",
   "pygments_lexer": "ipython3",
   "version": "3.9.18"
  }
 },
 "nbformat": 4,
 "nbformat_minor": 5
}
