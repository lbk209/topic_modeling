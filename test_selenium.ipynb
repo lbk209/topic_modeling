{
 "cells": [
  {
   "cell_type": "code",
   "execution_count": 1,
   "id": "db150f0e-c8bc-413c-b640-45e2bfc753b7",
   "metadata": {},
   "outputs": [],
   "source": [
    "# selenium의 webdriver를 사용하기 위한 import\n",
    "from selenium import webdriver\n",
    "\n",
    "# selenium으로 키를 조작하기 위한 import\n",
    "from selenium.webdriver.common.keys import Keys\n",
    "from selenium.webdriver.common.by import By\n",
    "\n",
    "# 페이지 로딩을 기다리는데에 사용할 time 모듈 import\n",
    "import time"
   ]
  },
  {
   "cell_type": "markdown",
   "id": "170107d9-473f-411d-afd2-878a3c630396",
   "metadata": {},
   "source": [
    "# Open browser"
   ]
  },
  {
   "cell_type": "code",
   "execution_count": 34,
   "id": "8e3e5c4e-41bc-41d7-81b5-2f8a40371ced",
   "metadata": {},
   "outputs": [],
   "source": [
    "# 크롬드라이버 실행. 4.6 버전부터 크롬드라이버 별도 다운로드 및 경로 설정 불필요\n",
    "driver = webdriver.Chrome() \n",
    "\n",
    "#크롬 드라이버에 url 주소 넣고 실행\n",
    "site = 'https://www.vivino.com/casillero-del-diablo-cabernet-sauvignon-reserva-central-valley/w/1135067?ref=nav-search#all_reviews'\n",
    "driver.get(site)\n",
    "\n",
    "# 페이지가 완전히 로딩되도록 3초동안 기다림\n",
    "time.sleep(3)"
   ]
  },
  {
   "cell_type": "markdown",
   "id": "23a2ad30-90e3-4564-a45f-8bf343ededc2",
   "metadata": {},
   "source": [
    "# Get community review list"
   ]
  },
  {
   "cell_type": "code",
   "execution_count": 35,
   "id": "dc0f6e3e-9ac1-495e-a57c-c7859795fd89",
   "metadata": {},
   "outputs": [],
   "source": [
    "# Open community review window by clicking Show more reviews\n",
    "path = \"//button[@tabindex='0']\"\n",
    "#path = \"//span[text()='Show more reviews']\" # successful\n",
    "#path = '//*[@id=\"all_reviews\"]/div[3]/div[1]/button' # NoSuchElementException\n",
    "\n",
    "driver.find_element(By.XPATH, path).click()\n",
    "time.sleep(1)\n",
    "\n",
    "# Show reviews by recent\n",
    "path = '//*[@data-testid=\"baseModalBackdrop\"]/div[2]/div[2]/div[2]/div/a[1]'\n",
    "\n",
    "driver.find_element(By.XPATH, path).click()\n",
    "time.sleep(1)"
   ]
  },
  {
   "cell_type": "markdown",
   "id": "712e4990-399f-45ea-83e3-fa28716e2ed8",
   "metadata": {},
   "source": [
    "# Get reviews"
   ]
  },
  {
   "cell_type": "code",
   "execution_count": 94,
   "id": "64c953ba-0ca5-4360-a078-cbca10b0526e",
   "metadata": {},
   "outputs": [],
   "source": [
    "class_review = \"communityReview__reviewText--2bfLj\"\n",
    "class_date = \"anchor_anchor__m8Qi- reviewAnchor__anchor--2NKFw reviewDate__reviewDate--49vpM undefined\"\n",
    "class_date = class_date.replace(' ', '.')\n",
    "   \n",
    "\n",
    "max_rev = 100\n",
    "max_scr = 5\n",
    "time_scr = 2\n",
    "\n",
    "def extract_text(class_name, driver=driver, by=By.CLASS_NAME):\n",
    "    l = driver.find_elements(by, class_name)\n",
    "    return [x.text for x in l]\n",
    "\n",
    "\n",
    "reviews = list()\n",
    "dates = list()\n",
    "n_scr = 0\n",
    "\n",
    "while True:\n",
    "    list_r = extract_text(class_review)\n",
    "    list_d = extract_text(class_date)\n",
    "\n",
    "    n = len(list_r) - len(reviews)\n",
    "    if n > 0: # get new n reviews\n",
    "        reviews.extend(list_r[-n:])\n",
    "        dates.extend(list_d[-n:])\n",
    "        n_scr = 0\n",
    "    else:\n",
    "        n_scr += 1\n",
    "\n",
    "    if ((len(reviews) > max_rev) or (n_scr > max_scr)):\n",
    "        break\n",
    "    else:\n",
    "        driver.find_element(By.TAG_NAME, 'body').send_keys(Keys.PAGE_DOWN)\n",
    "        time.sleep(time_scr)\n",
    "\n",
    "#len(reviews), len(dates)\n",
    "\n",
    "# close browser\n",
    "driver.close()"
   ]
  },
  {
   "cell_type": "markdown",
   "id": "3b5df7b5-0153-45c1-9633-9b73af7f4aa6",
   "metadata": {},
   "source": [
    "# Save reviews"
   ]
  },
  {
   "cell_type": "code",
   "execution_count": 95,
   "id": "9eb233d0-1221-4884-a2db-edeea8c29639",
   "metadata": {},
   "outputs": [
    {
     "data": {
      "text/html": [
       "<div>\n",
       "<style scoped>\n",
       "    .dataframe tbody tr th:only-of-type {\n",
       "        vertical-align: middle;\n",
       "    }\n",
       "\n",
       "    .dataframe tbody tr th {\n",
       "        vertical-align: top;\n",
       "    }\n",
       "\n",
       "    .dataframe thead th {\n",
       "        text-align: right;\n",
       "    }\n",
       "</style>\n",
       "<table border=\"1\" class=\"dataframe\">\n",
       "  <thead>\n",
       "    <tr style=\"text-align: right;\">\n",
       "      <th></th>\n",
       "      <th>date</th>\n",
       "      <th>review</th>\n",
       "    </tr>\n",
       "  </thead>\n",
       "  <tbody>\n",
       "    <tr>\n",
       "      <th>0</th>\n",
       "      <td>2024-01-24</td>\n",
       "      <td>Little too cherry on the front end for me</td>\n",
       "    </tr>\n",
       "    <tr>\n",
       "      <th>1</th>\n",
       "      <td>2024-01-20</td>\n",
       "      <td>En liten skarp knekk i smaken. Ok fredagsvin,m...</td>\n",
       "    </tr>\n",
       "    <tr>\n",
       "      <th>2</th>\n",
       "      <td>2024-01-19</td>\n",
       "      <td>Aight</td>\n",
       "    </tr>\n",
       "    <tr>\n",
       "      <th>3</th>\n",
       "      <td>2024-01-18</td>\n",
       "      <td>무난한 맛 가성비 좋은듯</td>\n",
       "    </tr>\n",
       "    <tr>\n",
       "      <th>4</th>\n",
       "      <td>2024-01-17</td>\n",
       "      <td>oak cherry black cherry chocolate blackcurrant...</td>\n",
       "    </tr>\n",
       "  </tbody>\n",
       "</table>\n",
       "</div>"
      ],
      "text/plain": [
       "        date                                             review\n",
       "0 2024-01-24          Little too cherry on the front end for me\n",
       "1 2024-01-20  En liten skarp knekk i smaken. Ok fredagsvin,m...\n",
       "2 2024-01-19                                              Aight\n",
       "3 2024-01-18                                      무난한 맛 가성비 좋은듯\n",
       "4 2024-01-17  oak cherry black cherry chocolate blackcurrant..."
      ]
     },
     "execution_count": 95,
     "metadata": {},
     "output_type": "execute_result"
    }
   ],
   "source": [
    "import pandas as pd\n",
    "\n",
    "df_reviews = pd.DataFrame.from_dict({'date':dates, 'review':reviews})\n",
    "df_reviews['date'] = pd.to_datetime(df_reviews['date'])\n",
    "df_reviews.head()"
   ]
  },
  {
   "cell_type": "code",
   "execution_count": 84,
   "id": "2e7b605f-df79-4c8a-bbd6-f7f930223faf",
   "metadata": {},
   "outputs": [],
   "source": [
    "f = 'wine_reviews'\n",
    "df_reviews.to_csv(f, index=False)  "
   ]
  },
  {
   "cell_type": "markdown",
   "id": "95403abb-b0b3-4526-960e-2a65030730ca",
   "metadata": {},
   "source": [
    "# Module"
   ]
  },
  {
   "cell_type": "code",
   "execution_count": 44,
   "id": "7da34904-10b6-4ff1-bdfb-2080a5ae3b3e",
   "metadata": {},
   "outputs": [],
   "source": [
    "# selenium의 webdriver를 사용하기 위한 import\n",
    "from selenium import webdriver\n",
    "\n",
    "# selenium으로 키를 조작하기 위한 import\n",
    "from selenium.webdriver.common.keys import Keys\n",
    "from selenium.webdriver.common.by import By\n",
    "\n",
    "from selenium.common.exceptions import ElementNotVisibleException, StaleElementReferenceException, NoSuchElementException\n",
    "\n",
    "# 페이지 로딩을 기다리는데에 사용할 time 모듈 import\n",
    "import time\n",
    "\n",
    "import pandas as pd \n",
    "import numpy as np\n",
    "from tqdm import tqdm\n",
    "from datetime import datetime"
   ]
  },
  {
   "cell_type": "code",
   "execution_count": 59,
   "id": "455c381d-4290-4719-85e6-c1c1bad14080",
   "metadata": {},
   "outputs": [],
   "source": [
    "def collect_reviews(class_name, driver, by=By.CLASS_NAME):\n",
    "    try:\n",
    "        l = driver.find_elements(by, class_name)\n",
    "        return [x.text for x in l]\n",
    "    except:\n",
    "        print(f'ERROR) Check locator: {class_name}')\n",
    "        driver.close()\n",
    "        return False\n",
    "\n",
    "\n",
    "def click_locator(driver, *args, **kwargs):\n",
    "    try:\n",
    "        driver.find_element(*args, **kwargs).click()\n",
    "        return True\n",
    "    #except NoSuchElementException:\n",
    "    except:\n",
    "        print(f'ERROR) Check locator: {args[1]}')\n",
    "        driver.close()\n",
    "        return False\n",
    "\n",
    "\n",
    "def vivino_reviews(wine_url, wine_name, \n",
    "                   end_date = '20230101',\n",
    "                   max_rev = 1e4, \n",
    "                   max_scr = 10, # max num of scroll for new review list \n",
    "                   time_scr = 3, # time to wait after scrolling. StaleElementReferenceException if not enough\n",
    "                   loc1=None, \n",
    "                   loc2=None, \n",
    "                   loc3=None, \n",
    "                   loc4=None,\n",
    "                   # take the final review list as the review page has same old reiviews at the end every update by scroll-down \n",
    "                   final_only = True,\n",
    "                   check_idx = 4, # community review list has 3 old reviews at the end of list every loading of new reviews\n",
    "                   rev_date_format = '%b %d, %Y'\n",
    "                  ):\n",
    "    driver = webdriver.Chrome() \n",
    "    driver.get(wine_url)\n",
    "    time.sleep(3)\n",
    "\n",
    "    # enter community reviews\n",
    "    if not click_locator(driver, By.XPATH, loc1):\n",
    "        return None\n",
    "    time.sleep(1)\n",
    "    \n",
    "    # Show reviews by recent\n",
    "    if not click_locator(driver, By.XPATH, loc2):\n",
    "        return None\n",
    "    time.sleep(1)\n",
    "\n",
    "    # collect reviews\n",
    "    loc3 = loc3.replace(' ', '.')\n",
    "    loc4 = loc4.replace(' ', '.')\n",
    "     \n",
    "    reviews = list()\n",
    "    dates = list()\n",
    "    n_scr = 0\n",
    "\n",
    "    #pbar = tqdm(total=max_rev, position=0)\n",
    "    pbar = tqdm(position=0)\n",
    "\n",
    "    list_r = collect_reviews(loc3, driver)\n",
    "    if not list_r:\n",
    "        return None\n",
    "    \n",
    "    list_d = collect_reviews(loc4, driver)\n",
    "    if not list_d:\n",
    "        return None\n",
    "    \n",
    "    while True:\n",
    "        n = len(list_r) - len(reviews)\n",
    "        if n > 0: # get new n reviews\n",
    "            if final_only: # replace review list with the latest scan\n",
    "                reviews = list_r\n",
    "                dates = list_d\n",
    "            else: # update review list with new reviews from the latest scan\n",
    "                reviews.extend(list_r[-n:])\n",
    "                dates.extend(list_d[-n:])\n",
    "            n_scr = 0\n",
    "            pbar.update(n)\n",
    "        else:\n",
    "            n_scr += 1\n",
    "\n",
    "        # testing\n",
    "        #return list_d\n",
    "\n",
    "        d1 = datetime.strptime(list_d[-check_idx], rev_date_format)\n",
    "        d2 = datetime.strptime(end_date, '%Y%m%d')\n",
    "        #print('testing:', d1)\n",
    "\n",
    "        if ((len(reviews) > max_rev) or (d1 < d2)):\n",
    "            print(f'{len(reviews)} reviews collected.')\n",
    "            break\n",
    "        elif (n_scr > max_scr):\n",
    "            # redundunt as n_try checking max_scr as well?\n",
    "            print(f'WARNING: No additional reviews after {max_scr} reloading.')\n",
    "            break\n",
    "        else:\n",
    "            driver.find_element(By.TAG_NAME, 'body').send_keys(Keys.PAGE_DOWN)\n",
    "            time.sleep(time_scr)\n",
    "\n",
    "            failed = True\n",
    "            n_try = 0\n",
    "            while failed:\n",
    "                try:\n",
    "                    list_r = collect_reviews(loc3, driver)\n",
    "                    list_d = collect_reviews(loc4, driver)\n",
    "                    failed = False\n",
    "                except StaleElementReferenceException:\n",
    "                    time.sleep(time_scr)\n",
    "                    n_try += 1\n",
    "                    \n",
    "                if n_try > max_scr:\n",
    "                    failed = False\n",
    "                    print('WARNING: fail to collect all reviews')\n",
    "\n",
    "    pbar.close()\n",
    "\n",
    "    # close browser\n",
    "    driver.close()\n",
    "\n",
    "    # save result\n",
    "    df_reviews = pd.DataFrame.from_dict({'date':dates, 'review':reviews})\n",
    "    df_reviews['date'] = pd.to_datetime(df_reviews['date'])\n",
    "    \n",
    "    if False: #deprecated\n",
    "        df_reviews.to_csv(filename, index=False)  \n",
    "\n",
    "    return df_reviews\n",
    "\n",
    "\n",
    "def generate_wine_id(df_reviews):\n",
    "    if df_reviews.empty:\n",
    "        wid = 0\n",
    "    else:\n",
    "        wid = df_reviews.id.max()\n",
    "        wid = 0 if wid is np.nan else wid+1 # check if no data row\n",
    "    return wid\n",
    "\n",
    "\n",
    "def concat_reviews(df_reviews, df, col_rev, save=True):\n",
    "    wine_id = generate_wine_id(df_reviews)\n",
    "    df[['id', 'wine']] = [wine_id, wine_name]\n",
    "    df = df.reindex(columns=col_rev)\n",
    "    if save:\n",
    "        df.to_csv(f'wine_{wine_id}.csv', index=False)\n",
    "    \n",
    "    df_reviews = pd.concat([df_reviews if not df_reviews.empty else None, df])\n",
    "    return df_reviews"
   ]
  },
  {
   "cell_type": "code",
   "execution_count": 28,
   "id": "51bfb2ea-38ff-4fc2-88af-7ea8171993dd",
   "metadata": {},
   "outputs": [],
   "source": [
    "locator_more = \"//button[@tabindex='0']\"\n",
    "locator_recent = '//*[@data-testid=\"baseModalBackdrop\"]/div[2]/div[2]/div[2]/div/a[1]'\n",
    "\n",
    "locator_review = \"communityReview__reviewText--2bfLj\"\n",
    "locator_date = \"anchor_anchor__m8Qi- reviewAnchor__anchor--2NKFw reviewDate__reviewDate--49vpM undefined\"\n",
    "\n",
    "kwargs = {'loc1': locator_more,\n",
    "          'loc2': locator_recent, \n",
    "          'loc3': locator_review,\n",
    "          'loc4': locator_date\n",
    "}"
   ]
  },
  {
   "cell_type": "code",
   "execution_count": 60,
   "id": "39f95682-cc61-428a-8e82-e8f1a16f68d9",
   "metadata": {},
   "outputs": [],
   "source": [
    "kwargs.update({\n",
    "    'end_date': '20230801',\n",
    "    #'max_rev': 100, \n",
    "    'max_scr': 10, 'time_scr': 2,\n",
    "})\n",
    "\n",
    "df_reviews = pd.DataFrame()\n",
    "col_rev = ['id', 'wine', 'date', 'review']"
   ]
  },
  {
   "cell_type": "code",
   "execution_count": 30,
   "id": "08a64951-3e25-4bf0-baeb-450352821263",
   "metadata": {},
   "outputs": [
    {
     "name": "stderr",
     "output_type": "stream",
     "text": [
      " 13%|████████                                                      | 13/100 [00:00<00:01, 62.72it/s]\n"
     ]
    }
   ],
   "source": [
    "# testing\n",
    "\n",
    "#kwargs.update({'loc1': locator_date})\n",
    "\n",
    "wine_name = 'Casillero del Diablo Cabernet Sauvignon (Reserva)'\n",
    "wine_url = 'https://www.vivino.com/casillero-del-diablo-cabernet-sauvignon-reserva-central-valley/w/1135067?ref=nav-search#all_reviews'\n",
    "\n",
    "list_d = vivino_reviews(wine_url, wine_name, **kwargs)\n",
    "\n"
   ]
  },
  {
   "cell_type": "code",
   "execution_count": 43,
   "id": "dec892c7-cf7e-4471-983a-7b0407509dff",
   "metadata": {},
   "outputs": [
    {
     "data": {
      "text/plain": [
       "True"
      ]
     },
     "execution_count": 43,
     "metadata": {},
     "output_type": "execute_result"
    }
   ],
   "source": [
    "from datetime import datetime\n",
    "\n",
    "format_specifier = '%b %d, %Y'\n",
    "datetime.strptime(list_d[-4], format_specifier) < datetime.strptime('20250101', '%Y%m%d')"
   ]
  },
  {
   "cell_type": "code",
   "execution_count": 42,
   "id": "f821319e-b816-483b-90bb-0fb82441285b",
   "metadata": {},
   "outputs": [
    {
     "data": {
      "text/plain": [
       "'Jan 8, 2024'"
      ]
     },
     "execution_count": 42,
     "metadata": {},
     "output_type": "execute_result"
    }
   ],
   "source": [
    "list_d[-4]\n",
    "#datetime.strptime('20230101', '%Y%m%d')"
   ]
  },
  {
   "cell_type": "code",
   "execution_count": 61,
   "id": "9cacbd25-04c4-41d3-9166-840029da2e8e",
   "metadata": {},
   "outputs": [
    {
     "name": "stderr",
     "output_type": "stream",
     "text": [
      "33it [00:18,  6.04it/s]"
     ]
    },
    {
     "name": "stdout",
     "output_type": "stream",
     "text": [
      "ERROR) Check locator: communityReview__reviewText--2bfLj\n",
      "ERROR) Check locator: anchor_anchor__m8Qi-.reviewAnchor__anchor--2NKFw.reviewDate__reviewDate--49vpM.undefined\n"
     ]
    },
    {
     "ename": "InvalidSessionIdException",
     "evalue": "Message: invalid session id\nStacktrace:\n#0 0x55e3cc10dd93 <unknown>\n#1 0x55e3cbdf1177 <unknown>\n#2 0x55e3cbe2ea5b <unknown>\n#3 0x55e3cbe5f324 <unknown>\n#4 0x55e3cbe59f50 <unknown>\n#5 0x55e3cbe597ab <unknown>\n#6 0x55e3cbdbd528 <unknown>\n#7 0x55e3cc0d1e4b <unknown>\n#8 0x55e3cc0d5dfa <unknown>\n#9 0x55e3cc0be6d5 <unknown>\n#10 0x55e3cc0d6a6f <unknown>\n#11 0x55e3cc0a269f <unknown>\n#12 0x55e3cbdbb8da <unknown>\n#13 0x7f922ba29d90 <unknown>\n",
     "output_type": "error",
     "traceback": [
      "\u001b[0;31m---------------------------------------------------------------------------\u001b[0m",
      "\u001b[0;31mInvalidSessionIdException\u001b[0m                 Traceback (most recent call last)",
      "Cell \u001b[0;32mIn[59], line 3\u001b[0m, in \u001b[0;36mcollect_reviews\u001b[0;34m(class_name, driver, by)\u001b[0m\n\u001b[1;32m      2\u001b[0m \u001b[38;5;28;01mtry\u001b[39;00m:\n\u001b[0;32m----> 3\u001b[0m     l \u001b[38;5;241m=\u001b[39m \u001b[43mdriver\u001b[49m\u001b[38;5;241;43m.\u001b[39;49m\u001b[43mfind_elements\u001b[49m\u001b[43m(\u001b[49m\u001b[43mby\u001b[49m\u001b[43m,\u001b[49m\u001b[43m \u001b[49m\u001b[43mclass_name\u001b[49m\u001b[43m)\u001b[49m\n\u001b[1;32m      4\u001b[0m     \u001b[38;5;28;01mreturn\u001b[39;00m [x\u001b[38;5;241m.\u001b[39mtext \u001b[38;5;28;01mfor\u001b[39;00m x \u001b[38;5;129;01min\u001b[39;00m l]\n",
      "File \u001b[0;32m~/.cache/pypoetry/virtualenvs/scrap2-pSsZr_wz-py3.9/lib/python3.9/site-packages/selenium/webdriver/remote/webdriver.py:771\u001b[0m, in \u001b[0;36mWebDriver.find_elements\u001b[0;34m(self, by, value)\u001b[0m\n\u001b[1;32m    769\u001b[0m \u001b[38;5;66;03m# Return empty list if driver returns null\u001b[39;00m\n\u001b[1;32m    770\u001b[0m \u001b[38;5;66;03m# See https://github.com/SeleniumHQ/selenium/issues/4555\u001b[39;00m\n\u001b[0;32m--> 771\u001b[0m \u001b[38;5;28;01mreturn\u001b[39;00m \u001b[38;5;28;43mself\u001b[39;49m\u001b[38;5;241;43m.\u001b[39;49m\u001b[43mexecute\u001b[49m\u001b[43m(\u001b[49m\u001b[43mCommand\u001b[49m\u001b[38;5;241;43m.\u001b[39;49m\u001b[43mFIND_ELEMENTS\u001b[49m\u001b[43m,\u001b[49m\u001b[43m \u001b[49m\u001b[43m{\u001b[49m\u001b[38;5;124;43m\"\u001b[39;49m\u001b[38;5;124;43musing\u001b[39;49m\u001b[38;5;124;43m\"\u001b[39;49m\u001b[43m:\u001b[49m\u001b[43m \u001b[49m\u001b[43mby\u001b[49m\u001b[43m,\u001b[49m\u001b[43m \u001b[49m\u001b[38;5;124;43m\"\u001b[39;49m\u001b[38;5;124;43mvalue\u001b[39;49m\u001b[38;5;124;43m\"\u001b[39;49m\u001b[43m:\u001b[49m\u001b[43m \u001b[49m\u001b[43mvalue\u001b[49m\u001b[43m}\u001b[49m\u001b[43m)\u001b[49m[\u001b[38;5;124m\"\u001b[39m\u001b[38;5;124mvalue\u001b[39m\u001b[38;5;124m\"\u001b[39m] \u001b[38;5;129;01mor\u001b[39;00m []\n",
      "File \u001b[0;32m~/.cache/pypoetry/virtualenvs/scrap2-pSsZr_wz-py3.9/lib/python3.9/site-packages/selenium/webdriver/remote/webdriver.py:347\u001b[0m, in \u001b[0;36mWebDriver.execute\u001b[0;34m(self, driver_command, params)\u001b[0m\n\u001b[1;32m    346\u001b[0m \u001b[38;5;28;01mif\u001b[39;00m response:\n\u001b[0;32m--> 347\u001b[0m     \u001b[38;5;28;43mself\u001b[39;49m\u001b[38;5;241;43m.\u001b[39;49m\u001b[43merror_handler\u001b[49m\u001b[38;5;241;43m.\u001b[39;49m\u001b[43mcheck_response\u001b[49m\u001b[43m(\u001b[49m\u001b[43mresponse\u001b[49m\u001b[43m)\u001b[49m\n\u001b[1;32m    348\u001b[0m     response[\u001b[38;5;124m\"\u001b[39m\u001b[38;5;124mvalue\u001b[39m\u001b[38;5;124m\"\u001b[39m] \u001b[38;5;241m=\u001b[39m \u001b[38;5;28mself\u001b[39m\u001b[38;5;241m.\u001b[39m_unwrap_value(response\u001b[38;5;241m.\u001b[39mget(\u001b[38;5;124m\"\u001b[39m\u001b[38;5;124mvalue\u001b[39m\u001b[38;5;124m\"\u001b[39m, \u001b[38;5;28;01mNone\u001b[39;00m))\n",
      "File \u001b[0;32m~/.cache/pypoetry/virtualenvs/scrap2-pSsZr_wz-py3.9/lib/python3.9/site-packages/selenium/webdriver/remote/errorhandler.py:229\u001b[0m, in \u001b[0;36mErrorHandler.check_response\u001b[0;34m(self, response)\u001b[0m\n\u001b[1;32m    228\u001b[0m     \u001b[38;5;28;01mraise\u001b[39;00m exception_class(message, screen, stacktrace, alert_text)  \u001b[38;5;66;03m# type: ignore[call-arg]  # mypy is not smart enough here\u001b[39;00m\n\u001b[0;32m--> 229\u001b[0m \u001b[38;5;28;01mraise\u001b[39;00m exception_class(message, screen, stacktrace)\n",
      "\u001b[0;31mInvalidSessionIdException\u001b[0m: Message: invalid session id\nStacktrace:\n#0 0x55e3cc10dd93 <unknown>\n#1 0x55e3cbdf1177 <unknown>\n#2 0x55e3cbe2f86c <unknown>\n#3 0x55e3cbe3013e <unknown>\n#4 0x55e3cc0d1e4b <unknown>\n#5 0x55e3cc0d5dfa <unknown>\n#6 0x55e3cc0be6d5 <unknown>\n#7 0x55e3cc0d6a6f <unknown>\n#8 0x55e3cc0a269f <unknown>\n#9 0x55e3cc0fb098 <unknown>\n#10 0x55e3cc0fb262 <unknown>\n#11 0x55e3cc10cf34 <unknown>\n#12 0x7f922ba94ac3 <unknown>\n",
      "\nDuring handling of the above exception, another exception occurred:\n",
      "\u001b[0;31mInvalidSessionIdException\u001b[0m                 Traceback (most recent call last)",
      "File \u001b[0;32m<timed exec>:4\u001b[0m\n",
      "Cell \u001b[0;32mIn[59], line 106\u001b[0m, in \u001b[0;36mvivino_reviews\u001b[0;34m(wine_url, wine_name, end_date, max_rev, max_scr, time_scr, loc1, loc2, loc3, loc4, final_only, check_idx, rev_date_format)\u001b[0m\n\u001b[1;32m    104\u001b[0m \u001b[38;5;28;01mtry\u001b[39;00m:\n\u001b[1;32m    105\u001b[0m     list_r \u001b[38;5;241m=\u001b[39m collect_reviews(loc3, driver)\n\u001b[0;32m--> 106\u001b[0m     list_d \u001b[38;5;241m=\u001b[39m \u001b[43mcollect_reviews\u001b[49m\u001b[43m(\u001b[49m\u001b[43mloc4\u001b[49m\u001b[43m,\u001b[49m\u001b[43m \u001b[49m\u001b[43mdriver\u001b[49m\u001b[43m)\u001b[49m\n\u001b[1;32m    107\u001b[0m     failed \u001b[38;5;241m=\u001b[39m \u001b[38;5;28;01mFalse\u001b[39;00m\n\u001b[1;32m    108\u001b[0m \u001b[38;5;28;01mexcept\u001b[39;00m StaleElementReferenceException:\n",
      "Cell \u001b[0;32mIn[59], line 7\u001b[0m, in \u001b[0;36mcollect_reviews\u001b[0;34m(class_name, driver, by)\u001b[0m\n\u001b[1;32m      5\u001b[0m \u001b[38;5;28;01mexcept\u001b[39;00m:\n\u001b[1;32m      6\u001b[0m     \u001b[38;5;28mprint\u001b[39m(\u001b[38;5;124mf\u001b[39m\u001b[38;5;124m'\u001b[39m\u001b[38;5;124mERROR) Check locator: \u001b[39m\u001b[38;5;132;01m{\u001b[39;00mclass_name\u001b[38;5;132;01m}\u001b[39;00m\u001b[38;5;124m'\u001b[39m)\n\u001b[0;32m----> 7\u001b[0m     \u001b[43mdriver\u001b[49m\u001b[38;5;241;43m.\u001b[39;49m\u001b[43mclose\u001b[49m\u001b[43m(\u001b[49m\u001b[43m)\u001b[49m\n\u001b[1;32m      8\u001b[0m     \u001b[38;5;28;01mreturn\u001b[39;00m \u001b[38;5;28;01mFalse\u001b[39;00m\n",
      "File \u001b[0;32m~/.cache/pypoetry/virtualenvs/scrap2-pSsZr_wz-py3.9/lib/python3.9/site-packages/selenium/webdriver/remote/webdriver.py:458\u001b[0m, in \u001b[0;36mWebDriver.close\u001b[0;34m(self)\u001b[0m\n\u001b[1;32m    450\u001b[0m \u001b[38;5;28;01mdef\u001b[39;00m \u001b[38;5;21mclose\u001b[39m(\u001b[38;5;28mself\u001b[39m) \u001b[38;5;241m-\u001b[39m\u001b[38;5;241m>\u001b[39m \u001b[38;5;28;01mNone\u001b[39;00m:\n\u001b[1;32m    451\u001b[0m \u001b[38;5;250m    \u001b[39m\u001b[38;5;124;03m\"\"\"Closes the current window.\u001b[39;00m\n\u001b[1;32m    452\u001b[0m \n\u001b[1;32m    453\u001b[0m \u001b[38;5;124;03m    :Usage:\u001b[39;00m\n\u001b[0;32m   (...)\u001b[0m\n\u001b[1;32m    456\u001b[0m \u001b[38;5;124;03m            driver.close()\u001b[39;00m\n\u001b[1;32m    457\u001b[0m \u001b[38;5;124;03m    \"\"\"\u001b[39;00m\n\u001b[0;32m--> 458\u001b[0m     \u001b[38;5;28;43mself\u001b[39;49m\u001b[38;5;241;43m.\u001b[39;49m\u001b[43mexecute\u001b[49m\u001b[43m(\u001b[49m\u001b[43mCommand\u001b[49m\u001b[38;5;241;43m.\u001b[39;49m\u001b[43mCLOSE\u001b[49m\u001b[43m)\u001b[49m\n",
      "File \u001b[0;32m~/.cache/pypoetry/virtualenvs/scrap2-pSsZr_wz-py3.9/lib/python3.9/site-packages/selenium/webdriver/remote/webdriver.py:347\u001b[0m, in \u001b[0;36mWebDriver.execute\u001b[0;34m(self, driver_command, params)\u001b[0m\n\u001b[1;32m    345\u001b[0m response \u001b[38;5;241m=\u001b[39m \u001b[38;5;28mself\u001b[39m\u001b[38;5;241m.\u001b[39mcommand_executor\u001b[38;5;241m.\u001b[39mexecute(driver_command, params)\n\u001b[1;32m    346\u001b[0m \u001b[38;5;28;01mif\u001b[39;00m response:\n\u001b[0;32m--> 347\u001b[0m     \u001b[38;5;28;43mself\u001b[39;49m\u001b[38;5;241;43m.\u001b[39;49m\u001b[43merror_handler\u001b[49m\u001b[38;5;241;43m.\u001b[39;49m\u001b[43mcheck_response\u001b[49m\u001b[43m(\u001b[49m\u001b[43mresponse\u001b[49m\u001b[43m)\u001b[49m\n\u001b[1;32m    348\u001b[0m     response[\u001b[38;5;124m\"\u001b[39m\u001b[38;5;124mvalue\u001b[39m\u001b[38;5;124m\"\u001b[39m] \u001b[38;5;241m=\u001b[39m \u001b[38;5;28mself\u001b[39m\u001b[38;5;241m.\u001b[39m_unwrap_value(response\u001b[38;5;241m.\u001b[39mget(\u001b[38;5;124m\"\u001b[39m\u001b[38;5;124mvalue\u001b[39m\u001b[38;5;124m\"\u001b[39m, \u001b[38;5;28;01mNone\u001b[39;00m))\n\u001b[1;32m    349\u001b[0m     \u001b[38;5;28;01mreturn\u001b[39;00m response\n",
      "File \u001b[0;32m~/.cache/pypoetry/virtualenvs/scrap2-pSsZr_wz-py3.9/lib/python3.9/site-packages/selenium/webdriver/remote/errorhandler.py:229\u001b[0m, in \u001b[0;36mErrorHandler.check_response\u001b[0;34m(self, response)\u001b[0m\n\u001b[1;32m    227\u001b[0m         alert_text \u001b[38;5;241m=\u001b[39m value[\u001b[38;5;124m\"\u001b[39m\u001b[38;5;124malert\u001b[39m\u001b[38;5;124m\"\u001b[39m]\u001b[38;5;241m.\u001b[39mget(\u001b[38;5;124m\"\u001b[39m\u001b[38;5;124mtext\u001b[39m\u001b[38;5;124m\"\u001b[39m)\n\u001b[1;32m    228\u001b[0m     \u001b[38;5;28;01mraise\u001b[39;00m exception_class(message, screen, stacktrace, alert_text)  \u001b[38;5;66;03m# type: ignore[call-arg]  # mypy is not smart enough here\u001b[39;00m\n\u001b[0;32m--> 229\u001b[0m \u001b[38;5;28;01mraise\u001b[39;00m exception_class(message, screen, stacktrace)\n",
      "\u001b[0;31mInvalidSessionIdException\u001b[0m: Message: invalid session id\nStacktrace:\n#0 0x55e3cc10dd93 <unknown>\n#1 0x55e3cbdf1177 <unknown>\n#2 0x55e3cbe2ea5b <unknown>\n#3 0x55e3cbe5f324 <unknown>\n#4 0x55e3cbe59f50 <unknown>\n#5 0x55e3cbe597ab <unknown>\n#6 0x55e3cbdbd528 <unknown>\n#7 0x55e3cc0d1e4b <unknown>\n#8 0x55e3cc0d5dfa <unknown>\n#9 0x55e3cc0be6d5 <unknown>\n#10 0x55e3cc0d6a6f <unknown>\n#11 0x55e3cc0a269f <unknown>\n#12 0x55e3cbdbb8da <unknown>\n#13 0x7f922ba29d90 <unknown>\n"
     ]
    }
   ],
   "source": [
    "%%time\n",
    "\n",
    "wine_name = 'Casillero del Diablo Cabernet Sauvignon (Reserva)'\n",
    "wine_url = 'https://www.vivino.com/casillero-del-diablo-cabernet-sauvignon-reserva-central-valley/w/1135067?ref=nav-search#all_reviews'\n",
    "\n",
    "df = vivino_reviews(wine_url, wine_name, **kwargs)\n",
    "\n",
    "df_reviews = concat_reviews(df_reviews, df, col_rev, save=True)"
   ]
  },
  {
   "cell_type": "code",
   "execution_count": 58,
   "id": "d3ee4ddc-7864-46be-b953-37b41284e1f2",
   "metadata": {},
   "outputs": [
    {
     "data": {
      "text/html": [
       "<div>\n",
       "<style scoped>\n",
       "    .dataframe tbody tr th:only-of-type {\n",
       "        vertical-align: middle;\n",
       "    }\n",
       "\n",
       "    .dataframe tbody tr th {\n",
       "        vertical-align: top;\n",
       "    }\n",
       "\n",
       "    .dataframe thead th {\n",
       "        text-align: right;\n",
       "    }\n",
       "</style>\n",
       "<table border=\"1\" class=\"dataframe\">\n",
       "  <thead>\n",
       "    <tr style=\"text-align: right;\">\n",
       "      <th></th>\n",
       "      <th>id</th>\n",
       "      <th>wine</th>\n",
       "      <th>date</th>\n",
       "      <th>review</th>\n",
       "    </tr>\n",
       "  </thead>\n",
       "  <tbody>\n",
       "    <tr>\n",
       "      <th>108</th>\n",
       "      <td>1</td>\n",
       "      <td>Casillero del Diablo Cabernet Sauvignon (Reserva)</td>\n",
       "      <td>2023-05-23</td>\n",
       "      <td>가성비로 무난 라이트함</td>\n",
       "    </tr>\n",
       "    <tr>\n",
       "      <th>109</th>\n",
       "      <td>1</td>\n",
       "      <td>Casillero del Diablo Cabernet Sauvignon (Reserva)</td>\n",
       "      <td>2023-05-23</td>\n",
       "      <td>Ótimo valor equiparado ao que oferece. Custo b...</td>\n",
       "    </tr>\n",
       "    <tr>\n",
       "      <th>110</th>\n",
       "      <td>1</td>\n",
       "      <td>Casillero del Diablo Cabernet Sauvignon (Reserva)</td>\n",
       "      <td>NaT</td>\n",
       "      <td></td>\n",
       "    </tr>\n",
       "    <tr>\n",
       "      <th>111</th>\n",
       "      <td>1</td>\n",
       "      <td>Casillero del Diablo Cabernet Sauvignon (Reserva)</td>\n",
       "      <td>2017-05-29</td>\n",
       "      <td>A decent Chilean cab served at the VIP lounge ...</td>\n",
       "    </tr>\n",
       "    <tr>\n",
       "      <th>112</th>\n",
       "      <td>1</td>\n",
       "      <td>Casillero del Diablo Cabernet Sauvignon (Reserva)</td>\n",
       "      <td>2020-02-02</td>\n",
       "      <td>One if the most popular Chilean wines this wel...</td>\n",
       "    </tr>\n",
       "  </tbody>\n",
       "</table>\n",
       "</div>"
      ],
      "text/plain": [
       "     id                                               wine       date  \\\n",
       "108   1  Casillero del Diablo Cabernet Sauvignon (Reserva) 2023-05-23   \n",
       "109   1  Casillero del Diablo Cabernet Sauvignon (Reserva) 2023-05-23   \n",
       "110   1  Casillero del Diablo Cabernet Sauvignon (Reserva)        NaT   \n",
       "111   1  Casillero del Diablo Cabernet Sauvignon (Reserva) 2017-05-29   \n",
       "112   1  Casillero del Diablo Cabernet Sauvignon (Reserva) 2020-02-02   \n",
       "\n",
       "                                                review  \n",
       "108                                       가성비로 무난 라이트함  \n",
       "109  Ótimo valor equiparado ao que oferece. Custo b...  \n",
       "110                                                     \n",
       "111  A decent Chilean cab served at the VIP lounge ...  \n",
       "112  One if the most popular Chilean wines this wel...  "
      ]
     },
     "execution_count": 58,
     "metadata": {},
     "output_type": "execute_result"
    }
   ],
   "source": [
    "df_reviews.tail()"
   ]
  },
  {
   "cell_type": "code",
   "execution_count": 213,
   "id": "fe66cf9e-8bbf-4e31-939b-aa2a3065ebc6",
   "metadata": {},
   "outputs": [
    {
     "name": "stderr",
     "output_type": "stream",
     "text": [
      "113it [02:26,  1.30s/it]                                                                            \n"
     ]
    }
   ],
   "source": [
    "wine_name = 'Yellow Tail Cabernet Sauvignon'\n",
    "wine_url = 'https://www.vivino.com/yellow-tail-cabernet-sauvignon/w/2549?ref=nav-search#all_reviews'\n",
    "\n",
    "df = vivino_reviews(wine_url, wine_name, **kwargs)\n",
    "\n",
    "df_reviews = concat_reviews(df_reviews, df, col_rev, save=True)"
   ]
  },
  {
   "cell_type": "code",
   "execution_count": 215,
   "id": "9b568948-b494-42d7-82e4-5a1d778ea879",
   "metadata": {},
   "outputs": [
    {
     "data": {
      "text/html": [
       "<div>\n",
       "<style scoped>\n",
       "    .dataframe tbody tr th:only-of-type {\n",
       "        vertical-align: middle;\n",
       "    }\n",
       "\n",
       "    .dataframe tbody tr th {\n",
       "        vertical-align: top;\n",
       "    }\n",
       "\n",
       "    .dataframe thead th {\n",
       "        text-align: right;\n",
       "    }\n",
       "</style>\n",
       "<table border=\"1\" class=\"dataframe\">\n",
       "  <thead>\n",
       "    <tr style=\"text-align: right;\">\n",
       "      <th></th>\n",
       "      <th>wine</th>\n",
       "      <th>date</th>\n",
       "      <th>review</th>\n",
       "    </tr>\n",
       "    <tr>\n",
       "      <th>id</th>\n",
       "      <th></th>\n",
       "      <th></th>\n",
       "      <th></th>\n",
       "    </tr>\n",
       "  </thead>\n",
       "  <tbody>\n",
       "    <tr>\n",
       "      <th>0</th>\n",
       "      <td>Casillero del Diablo Cabernet Sauvignon (Reserva)</td>\n",
       "      <td>2024-01-24</td>\n",
       "      <td>Little too cherry on the front end for me</td>\n",
       "    </tr>\n",
       "    <tr>\n",
       "      <th>0</th>\n",
       "      <td>Casillero del Diablo Cabernet Sauvignon (Reserva)</td>\n",
       "      <td>2024-01-20</td>\n",
       "      <td>En liten skarp knekk i smaken. Ok fredagsvin,m...</td>\n",
       "    </tr>\n",
       "    <tr>\n",
       "      <th>0</th>\n",
       "      <td>Casillero del Diablo Cabernet Sauvignon (Reserva)</td>\n",
       "      <td>2024-01-19</td>\n",
       "      <td>Aight</td>\n",
       "    </tr>\n",
       "    <tr>\n",
       "      <th>0</th>\n",
       "      <td>Casillero del Diablo Cabernet Sauvignon (Reserva)</td>\n",
       "      <td>2024-01-18</td>\n",
       "      <td>무난한 맛 가성비 좋은듯</td>\n",
       "    </tr>\n",
       "    <tr>\n",
       "      <th>0</th>\n",
       "      <td>Casillero del Diablo Cabernet Sauvignon (Reserva)</td>\n",
       "      <td>2024-01-17</td>\n",
       "      <td>oak cherry black cherry chocolate blackcurrant...</td>\n",
       "    </tr>\n",
       "    <tr>\n",
       "      <th>...</th>\n",
       "      <td>...</td>\n",
       "      <td>...</td>\n",
       "      <td>...</td>\n",
       "    </tr>\n",
       "    <tr>\n",
       "      <th>1</th>\n",
       "      <td>Yellow Tail Cabernet Sauvignon</td>\n",
       "      <td>2022-04-23</td>\n",
       "      <td>I liked the flavor of berries and the sweetnes...</td>\n",
       "    </tr>\n",
       "    <tr>\n",
       "      <th>1</th>\n",
       "      <td>Yellow Tail Cabernet Sauvignon</td>\n",
       "      <td>2022-04-22</td>\n",
       "      <td>Excellent for its value, bold, notes of blackb...</td>\n",
       "    </tr>\n",
       "    <tr>\n",
       "      <th>1</th>\n",
       "      <td>Yellow Tail Cabernet Sauvignon</td>\n",
       "      <td>2021-05-23</td>\n",
       "      <td></td>\n",
       "    </tr>\n",
       "    <tr>\n",
       "      <th>1</th>\n",
       "      <td>Yellow Tail Cabernet Sauvignon</td>\n",
       "      <td>2021-05-07</td>\n",
       "      <td>Not bad, not great. Didn’t find it particularl...</td>\n",
       "    </tr>\n",
       "    <tr>\n",
       "      <th>1</th>\n",
       "      <td>Yellow Tail Cabernet Sauvignon</td>\n",
       "      <td>2020-05-04</td>\n",
       "      <td>medium tannin, rather sweet than expected, wel...</td>\n",
       "    </tr>\n",
       "  </tbody>\n",
       "</table>\n",
       "<p>226 rows × 3 columns</p>\n",
       "</div>"
      ],
      "text/plain": [
       "                                                 wine       date  \\\n",
       "id                                                                 \n",
       "0   Casillero del Diablo Cabernet Sauvignon (Reserva) 2024-01-24   \n",
       "0   Casillero del Diablo Cabernet Sauvignon (Reserva) 2024-01-20   \n",
       "0   Casillero del Diablo Cabernet Sauvignon (Reserva) 2024-01-19   \n",
       "0   Casillero del Diablo Cabernet Sauvignon (Reserva) 2024-01-18   \n",
       "0   Casillero del Diablo Cabernet Sauvignon (Reserva) 2024-01-17   \n",
       "..                                                ...        ...   \n",
       "1                      Yellow Tail Cabernet Sauvignon 2022-04-23   \n",
       "1                      Yellow Tail Cabernet Sauvignon 2022-04-22   \n",
       "1                      Yellow Tail Cabernet Sauvignon 2021-05-23   \n",
       "1                      Yellow Tail Cabernet Sauvignon 2021-05-07   \n",
       "1                      Yellow Tail Cabernet Sauvignon 2020-05-04   \n",
       "\n",
       "                                               review  \n",
       "id                                                     \n",
       "0           Little too cherry on the front end for me  \n",
       "0   En liten skarp knekk i smaken. Ok fredagsvin,m...  \n",
       "0                                               Aight  \n",
       "0                                       무난한 맛 가성비 좋은듯  \n",
       "0   oak cherry black cherry chocolate blackcurrant...  \n",
       "..                                                ...  \n",
       "1   I liked the flavor of berries and the sweetnes...  \n",
       "1   Excellent for its value, bold, notes of blackb...  \n",
       "1                                                      \n",
       "1   Not bad, not great. Didn’t find it particularl...  \n",
       "1   medium tannin, rather sweet than expected, wel...  \n",
       "\n",
       "[226 rows x 3 columns]"
      ]
     },
     "execution_count": 215,
     "metadata": {},
     "output_type": "execute_result"
    }
   ],
   "source": [
    "df_reviews.set_index('id')"
   ]
  },
  {
   "cell_type": "code",
   "execution_count": 216,
   "id": "d1c707b6-a28d-46b6-a562-660a0090dd24",
   "metadata": {},
   "outputs": [
    {
     "name": "stdout",
     "output_type": "stream",
     "text": [
      "  adding: wine_0.csv (deflated 67%)\n",
      "  adding: wine_1.csv (deflated 57%)\n"
     ]
    }
   ],
   "source": [
    "!zip wine_reviews.zip wine*csv"
   ]
  },
  {
   "cell_type": "markdown",
   "id": "ba2055f7-376e-43c6-974d-cc747dcc3ed6",
   "metadata": {},
   "source": [
    "# lab"
   ]
  },
  {
   "cell_type": "markdown",
   "id": "d11c311b-d3b9-4b63-bd05-5e31d564c184",
   "metadata": {},
   "source": [
    "## locator check"
   ]
  },
  {
   "cell_type": "code",
   "execution_count": 5,
   "id": "678b1fcf-bf31-43ec-9804-f1266d848d77",
   "metadata": {},
   "outputs": [
    {
     "name": "stdout",
     "output_type": "stream",
     "text": [
      "Check locator: //*[@data-testid=\"baseModalBackdrop\"]/div[2]/div[2]/div[2]/div/a[10]\n"
     ]
    }
   ],
   "source": [
    "from selenium.common.exceptions import NoSuchElementException\n",
    "\n",
    "path = '//*[@data-testid=\"baseModalBackdrop\"]/div[2]/div[2]/div[2]/div/a[10]'\n",
    "\n",
    "try:\n",
    "    driver.find_element(By.XPATH, path).click()\n",
    "except NoSuchElementException:\n",
    "    print(f'Check locator: {path}')\n",
    "    \n",
    "time.sleep(1)"
   ]
  },
  {
   "cell_type": "code",
   "execution_count": 17,
   "id": "a9f7c2f9-76d8-45e0-a4d6-636b84c33543",
   "metadata": {},
   "outputs": [
    {
     "name": "stdout",
     "output_type": "stream",
     "text": [
      "Check locator: //*[@data-testid=\"baseModalBackdrop\"]/div[2]/div[2]/div[2]/div/a[1]\n"
     ]
    },
    {
     "ename": "AttributeError",
     "evalue": "'NoneType' object has no attribute 'click'",
     "output_type": "error",
     "traceback": [
      "\u001b[0;31m---------------------------------------------------------------------------\u001b[0m",
      "\u001b[0;31mAttributeError\u001b[0m                            Traceback (most recent call last)",
      "Cell \u001b[0;32mIn[17], line 12\u001b[0m\n\u001b[1;32m      9\u001b[0m     \u001b[38;5;28;01mreturn\u001b[39;00m wrapper\n\u001b[1;32m     11\u001b[0m find_elem \u001b[38;5;241m=\u001b[39m locator_check(driver\u001b[38;5;241m.\u001b[39mfind_element)\n\u001b[0;32m---> 12\u001b[0m \u001b[43mfind_elem\u001b[49m\u001b[43m(\u001b[49m\u001b[43mBy\u001b[49m\u001b[38;5;241;43m.\u001b[39;49m\u001b[43mXPATH\u001b[49m\u001b[43m,\u001b[49m\u001b[43m \u001b[49m\u001b[43mpath\u001b[49m\u001b[43m)\u001b[49m\u001b[38;5;241;43m.\u001b[39;49m\u001b[43mclick\u001b[49m()\n",
      "\u001b[0;31mAttributeError\u001b[0m: 'NoneType' object has no attribute 'click'"
     ]
    }
   ],
   "source": [
    "path = '//*[@data-testid=\"baseModalBackdrop\"]/div[2]/div[2]/div[2]/div/a[1]'\n",
    "\n",
    "def locator_check(func,  *args):\n",
    "    def wrapper(*args):\n",
    "        try:\n",
    "            func(*args)\n",
    "        except NoSuchElementException:\n",
    "            print(f'Check locator: {args[1]}')\n",
    "    return wrapper\n",
    "\n",
    "find_elem = locator_check(driver.find_element)\n",
    "find_elem(By.XPATH, path).click()"
   ]
  },
  {
   "cell_type": "code",
   "execution_count": 26,
   "id": "d978d577-e740-45a4-bd02-e944188e58f7",
   "metadata": {},
   "outputs": [
    {
     "name": "stdout",
     "output_type": "stream",
     "text": [
      "Check locator: //*[@data-testid=\"baseModalBackdrop\"]/div[2]/div[2]/div[2]/div/a[1]\n"
     ]
    },
    {
     "ename": "AttributeError",
     "evalue": "'WebDriver' object has no attribute 'click'",
     "output_type": "error",
     "traceback": [
      "\u001b[0;31m---------------------------------------------------------------------------\u001b[0m",
      "\u001b[0;31mAttributeError\u001b[0m                            Traceback (most recent call last)",
      "Cell \u001b[0;32mIn[26], line 13\u001b[0m\n\u001b[1;32m     11\u001b[0m driver\u001b[38;5;241m.\u001b[39mfind_element \u001b[38;5;241m=\u001b[39m locator_check(driver\u001b[38;5;241m.\u001b[39mfind_element)\n\u001b[1;32m     12\u001b[0m driver\u001b[38;5;241m.\u001b[39mfind_element(By\u001b[38;5;241m.\u001b[39mXPATH, path)\n\u001b[0;32m---> 13\u001b[0m \u001b[43mdriver\u001b[49m\u001b[38;5;241;43m.\u001b[39;49m\u001b[43mclick\u001b[49m()  \n",
      "\u001b[0;31mAttributeError\u001b[0m: 'WebDriver' object has no attribute 'click'"
     ]
    }
   ],
   "source": [
    "path = '//*[@data-testid=\"baseModalBackdrop\"]/div[2]/div[2]/div[2]/div/a[1]'\n",
    "\n",
    "def locator_check(func):\n",
    "    def wrapper(*args):\n",
    "        try:\n",
    "            return func(*args)\n",
    "        except NoSuchElementException:\n",
    "            print(f'Check locator: {args[1]}')\n",
    "    return wrapper\n",
    "\n",
    "driver.find_element = locator_check(driver.find_element)\n",
    "driver.find_element(By.XPATH, path)\n",
    "driver.click()  "
   ]
  },
  {
   "cell_type": "code",
   "execution_count": 27,
   "id": "f3dc4616-c0bf-4f7e-a3f0-50b427c9fc47",
   "metadata": {},
   "outputs": [
    {
     "name": "stdout",
     "output_type": "stream",
     "text": [
      "Check locator: //*[@data-testid=\"baseModalBackdrop\"]/div[2]/div[2]/div[2]/div/a[1]\n"
     ]
    },
    {
     "ename": "AttributeError",
     "evalue": "'NoneType' object has no attribute 'click'",
     "output_type": "error",
     "traceback": [
      "\u001b[0;31m---------------------------------------------------------------------------\u001b[0m",
      "\u001b[0;31mAttributeError\u001b[0m                            Traceback (most recent call last)",
      "Cell \u001b[0;32mIn[27], line 8\u001b[0m\n\u001b[1;32m      5\u001b[0m         \u001b[38;5;28mprint\u001b[39m(\u001b[38;5;124mf\u001b[39m\u001b[38;5;124m'\u001b[39m\u001b[38;5;124mCheck locator: \u001b[39m\u001b[38;5;132;01m{\u001b[39;00margs[\u001b[38;5;241m1\u001b[39m]\u001b[38;5;132;01m}\u001b[39;00m\u001b[38;5;124m'\u001b[39m)\n\u001b[1;32m      7\u001b[0m path \u001b[38;5;241m=\u001b[39m \u001b[38;5;124m'\u001b[39m\u001b[38;5;124m//*[@data-testid=\u001b[39m\u001b[38;5;124m\"\u001b[39m\u001b[38;5;124mbaseModalBackdrop\u001b[39m\u001b[38;5;124m\"\u001b[39m\u001b[38;5;124m]/div[2]/div[2]/div[2]/div/a[1]\u001b[39m\u001b[38;5;124m'\u001b[39m\n\u001b[0;32m----> 8\u001b[0m \u001b[43mclick_locator\u001b[49m\u001b[43m(\u001b[49m\u001b[43mBy\u001b[49m\u001b[38;5;241;43m.\u001b[39;49m\u001b[43mXPATH\u001b[49m\u001b[43m,\u001b[49m\u001b[43m \u001b[49m\u001b[43mpath\u001b[49m\u001b[43m)\u001b[49m\n",
      "Cell \u001b[0;32mIn[27], line 3\u001b[0m, in \u001b[0;36mclick_locator\u001b[0;34m(*args, **kwargs)\u001b[0m\n\u001b[1;32m      1\u001b[0m \u001b[38;5;28;01mdef\u001b[39;00m \u001b[38;5;21mclick_locator\u001b[39m(\u001b[38;5;241m*\u001b[39margs, \u001b[38;5;241m*\u001b[39m\u001b[38;5;241m*\u001b[39mkwargs):\n\u001b[1;32m      2\u001b[0m     \u001b[38;5;28;01mtry\u001b[39;00m:\n\u001b[0;32m----> 3\u001b[0m         \u001b[43mdriver\u001b[49m\u001b[38;5;241;43m.\u001b[39;49m\u001b[43mfind_element\u001b[49m\u001b[43m(\u001b[49m\u001b[38;5;241;43m*\u001b[39;49m\u001b[43margs\u001b[49m\u001b[43m,\u001b[49m\u001b[43m \u001b[49m\u001b[38;5;241;43m*\u001b[39;49m\u001b[38;5;241;43m*\u001b[39;49m\u001b[43mkwargs\u001b[49m\u001b[43m)\u001b[49m\u001b[38;5;241;43m.\u001b[39;49m\u001b[43mclick\u001b[49m()\n\u001b[1;32m      4\u001b[0m     \u001b[38;5;28;01mexcept\u001b[39;00m NoSuchElementException:\n\u001b[1;32m      5\u001b[0m         \u001b[38;5;28mprint\u001b[39m(\u001b[38;5;124mf\u001b[39m\u001b[38;5;124m'\u001b[39m\u001b[38;5;124mCheck locator: \u001b[39m\u001b[38;5;132;01m{\u001b[39;00margs[\u001b[38;5;241m1\u001b[39m]\u001b[38;5;132;01m}\u001b[39;00m\u001b[38;5;124m'\u001b[39m)\n",
      "\u001b[0;31mAttributeError\u001b[0m: 'NoneType' object has no attribute 'click'"
     ]
    }
   ],
   "source": [
    "def click_locator(*args, **kwargs):\n",
    "    try:\n",
    "        driver.find_element(*args, **kwargs).click()\n",
    "    except NoSuchElementException:\n",
    "        print(f'Check locator: {args[1]}')\n",
    "\n",
    "path = '//*[@data-testid=\"baseModalBackdrop\"]/div[2]/div[2]/div[2]/div/a[1]'\n",
    "click_locator(By.XPATH, path)"
   ]
  },
  {
   "cell_type": "code",
   "execution_count": 47,
   "id": "2ff63b21-a1e3-4395-811f-25d7aece5092",
   "metadata": {},
   "outputs": [],
   "source": [
    "# 크롬드라이버 실행. 4.6 버전부터 크롬드라이버 별도 다운로드 및 경로 설정 불필요\n",
    "driver = webdriver.Chrome() \n",
    "\n",
    "#크롬 드라이버에 url 주소 넣고 실행\n",
    "site = 'https://www.vivino.com/casillero-del-diablo-cabernet-sauvignon-reserva-central-valley/w/1135067?ref=nav-search#all_reviews'\n",
    "driver.get(site)\n",
    "\n",
    "# 페이지가 완전히 로딩되도록 3초동안 기다림\n",
    "time.sleep(3)"
   ]
  },
  {
   "cell_type": "code",
   "execution_count": 43,
   "id": "b792df13-07cf-447e-9660-9a0d90b9650d",
   "metadata": {},
   "outputs": [],
   "source": [
    "def click_locator(*args, **kwargs):\n",
    "    try:\n",
    "        driver.find_element(*args, **kwargs).click()\n",
    "    except NoSuchElementException:\n",
    "        print(f'Check locator: {args[1]}')\n"
   ]
  },
  {
   "cell_type": "code",
   "execution_count": 48,
   "id": "241b7256-a503-47d6-8860-5a882bb8ea77",
   "metadata": {},
   "outputs": [
    {
     "name": "stdout",
     "output_type": "stream",
     "text": [
      "Check locator: //*[@id=\"all_reviews\"]/div[3]/div[1]/button\n"
     ]
    }
   ],
   "source": [
    "# Open community review window by clicking Show more reviews\n",
    "path = \"//button[@tabindex='0']\"\n",
    "#path = \"//span[text()='Show more reviews']\" # successful\n",
    "#path = '//*[@id=\"all_reviews\"]/div[3]/div[1]/button' # NoSuchElementException\n",
    "\n",
    "click_locator(By.XPATH, path)\n",
    "time.sleep(1)\n",
    "\n",
    "# Show reviews by recent\n",
    "#path = '//*[@data-testid=\"baseModalBackdrop\"]/div[2]/div[2]/div[2]/div/a[1]'\n",
    "path = '//*[@id=\"all_reviews\"]/div[3]/div[1]/button' # NoSuchElementException\n",
    "\n",
    "click_locator(By.XPATH, path)\n",
    "time.sleep(1)"
   ]
  },
  {
   "cell_type": "code",
   "execution_count": 19,
   "id": "02cb8e13-0bbd-46c8-b562-f076751b97d2",
   "metadata": {},
   "outputs": [],
   "source": [
    "if not 'test':\n",
    "    print('True')"
   ]
  },
  {
   "cell_type": "code",
   "execution_count": null,
   "id": "dba31df3-d210-4613-9075-e7c852f7d231",
   "metadata": {},
   "outputs": [],
   "source": []
  }
 ],
 "metadata": {
  "kernelspec": {
   "display_name": "scrap2",
   "language": "python",
   "name": "scrap2"
  },
  "language_info": {
   "codemirror_mode": {
    "name": "ipython",
    "version": 3
   },
   "file_extension": ".py",
   "mimetype": "text/x-python",
   "name": "python",
   "nbconvert_exporter": "python",
   "pygments_lexer": "ipython3",
   "version": "3.9.18"
  }
 },
 "nbformat": 4,
 "nbformat_minor": 5
}
