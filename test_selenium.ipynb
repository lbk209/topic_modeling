{
 "cells": [
  {
   "cell_type": "code",
   "execution_count": 2,
   "id": "db150f0e-c8bc-413c-b640-45e2bfc753b7",
   "metadata": {},
   "outputs": [],
   "source": [
    "# selenium의 webdriver를 사용하기 위한 import\n",
    "from selenium import webdriver\n",
    "\n",
    "# selenium으로 키를 조작하기 위한 import\n",
    "from selenium.webdriver.common.keys import Keys\n",
    "from selenium.webdriver.common.by import By\n",
    "\n",
    "# 페이지 로딩을 기다리는데에 사용할 time 모듈 import\n",
    "import time"
   ]
  },
  {
   "cell_type": "markdown",
   "id": "170107d9-473f-411d-afd2-878a3c630396",
   "metadata": {},
   "source": [
    "# Open browser"
   ]
  },
  {
   "cell_type": "code",
   "execution_count": 57,
   "id": "8e3e5c4e-41bc-41d7-81b5-2f8a40371ced",
   "metadata": {},
   "outputs": [],
   "source": [
    "# 크롬드라이버 실행. 4.6 버전부터 크롬드라이버 별도 다운로드 및 경로 설정 불필요\n",
    "driver = webdriver.Chrome() \n",
    "\n",
    "#크롬 드라이버에 url 주소 넣고 실행\n",
    "site = 'https://www.vivino.com/casillero-del-diablo-cabernet-sauvignon-reserva-central-valley/w/1135067?ref=nav-search#all_reviews'\n",
    "driver.get(site)\n",
    "\n",
    "# 페이지가 완전히 로딩되도록 3초동안 기다림\n",
    "time.sleep(3)"
   ]
  },
  {
   "cell_type": "markdown",
   "id": "23a2ad30-90e3-4564-a45f-8bf343ededc2",
   "metadata": {},
   "source": [
    "# Get community review list"
   ]
  },
  {
   "cell_type": "code",
   "execution_count": 58,
   "id": "dc0f6e3e-9ac1-495e-a57c-c7859795fd89",
   "metadata": {},
   "outputs": [],
   "source": [
    "# Open community review window by clicking Show more reviews\n",
    "path = \"//button[@tabindex='0']\"\n",
    "#path = \"//span[text()='Show more reviews']\" # successful\n",
    "#path = '//*[@id=\"all_reviews\"]/div[3]/div[1]/button' # NoSuchElementException\n",
    "\n",
    "driver.find_element(By.XPATH, path).click()\n",
    "time.sleep(1)\n",
    "\n",
    "# Show reviews by recent\n",
    "path = '//*[@data-testid=\"baseModalBackdrop\"]/div[2]/div[2]/div[2]/div/a[1]'\n",
    "\n",
    "driver.find_element(By.XPATH, path).click()\n",
    "time.sleep(1)"
   ]
  },
  {
   "cell_type": "markdown",
   "id": "712e4990-399f-45ea-83e3-fa28716e2ed8",
   "metadata": {},
   "source": [
    "# Get reviews"
   ]
  },
  {
   "cell_type": "code",
   "execution_count": 59,
   "id": "64c953ba-0ca5-4360-a078-cbca10b0526e",
   "metadata": {},
   "outputs": [
    {
     "data": {
      "text/plain": [
       "(113, 113)"
      ]
     },
     "execution_count": 59,
     "metadata": {},
     "output_type": "execute_result"
    }
   ],
   "source": [
    "class_review = \"communityReview__reviewText--2bfLj\"\n",
    "class_date = \"anchor_anchor__m8Qi- reviewAnchor__anchor--2NKFw reviewDate__reviewDate--49vpM undefined\"\n",
    "class_date = class_date.replace(' ', '.')\n",
    "   \n",
    "\n",
    "max_rev = 100\n",
    "max_scr = 5\n",
    "time_scr = 2\n",
    "\n",
    "def extract_text(class_name, driver=driver, by=By.CLASS_NAME):\n",
    "    l = driver.find_elements(by, class_name)\n",
    "    return [x.text for x in l]\n",
    "\n",
    "\n",
    "reviews = list()\n",
    "dates = list()\n",
    "n_scr = 0\n",
    "\n",
    "while True:\n",
    "    list_r = extract_text(class_review)\n",
    "    list_d = extract_text(class_date)\n",
    "\n",
    "    n = len(list_r) - len(reviews)\n",
    "    if n > 0: # get new n reviews\n",
    "        reviews.extend(list_r[-n:])\n",
    "        dates.extend(list_d[-n:])\n",
    "        n_scr = 0\n",
    "    else:\n",
    "        n_scr += 1\n",
    "\n",
    "    if ((len(reviews) > max_rev) or (n_scr > max_scr)):\n",
    "        break\n",
    "    else:\n",
    "        driver.find_element(By.TAG_NAME, 'body').send_keys(Keys.PAGE_DOWN)\n",
    "        time.sleep(time_scr)\n",
    "\n",
    "#len(reviews), len(dates)\n",
    "\n",
    "# close browser\n",
    "driver.close()"
   ]
  },
  {
   "cell_type": "markdown",
   "id": "3b5df7b5-0153-45c1-9633-9b73af7f4aa6",
   "metadata": {},
   "source": [
    "# Save reviews"
   ]
  },
  {
   "cell_type": "code",
   "execution_count": 83,
   "id": "9eb233d0-1221-4884-a2db-edeea8c29639",
   "metadata": {},
   "outputs": [
    {
     "data": {
      "text/html": [
       "<div>\n",
       "<style scoped>\n",
       "    .dataframe tbody tr th:only-of-type {\n",
       "        vertical-align: middle;\n",
       "    }\n",
       "\n",
       "    .dataframe tbody tr th {\n",
       "        vertical-align: top;\n",
       "    }\n",
       "\n",
       "    .dataframe thead th {\n",
       "        text-align: right;\n",
       "    }\n",
       "</style>\n",
       "<table border=\"1\" class=\"dataframe\">\n",
       "  <thead>\n",
       "    <tr style=\"text-align: right;\">\n",
       "      <th></th>\n",
       "      <th>date</th>\n",
       "      <th>review</th>\n",
       "    </tr>\n",
       "  </thead>\n",
       "  <tbody>\n",
       "    <tr>\n",
       "      <th>0</th>\n",
       "      <td>2024-01-20</td>\n",
       "      <td>En liten skarp knekk i smaken. Ok fredagsvin,m...</td>\n",
       "    </tr>\n",
       "    <tr>\n",
       "      <th>1</th>\n",
       "      <td>2024-01-19</td>\n",
       "      <td>Aight</td>\n",
       "    </tr>\n",
       "    <tr>\n",
       "      <th>2</th>\n",
       "      <td>2024-01-18</td>\n",
       "      <td>무난한 맛 가성비 좋은듯</td>\n",
       "    </tr>\n",
       "    <tr>\n",
       "      <th>3</th>\n",
       "      <td>2024-01-17</td>\n",
       "      <td>oak cherry black cherry chocolate blackcurrant...</td>\n",
       "    </tr>\n",
       "    <tr>\n",
       "      <th>4</th>\n",
       "      <td>2024-01-17</td>\n",
       "      <td>Muito bom, combina muito bem com carnes vermel...</td>\n",
       "    </tr>\n",
       "  </tbody>\n",
       "</table>\n",
       "</div>"
      ],
      "text/plain": [
       "        date                                             review\n",
       "0 2024-01-20  En liten skarp knekk i smaken. Ok fredagsvin,m...\n",
       "1 2024-01-19                                              Aight\n",
       "2 2024-01-18                                      무난한 맛 가성비 좋은듯\n",
       "3 2024-01-17  oak cherry black cherry chocolate blackcurrant...\n",
       "4 2024-01-17  Muito bom, combina muito bem com carnes vermel..."
      ]
     },
     "execution_count": 83,
     "metadata": {},
     "output_type": "execute_result"
    }
   ],
   "source": [
    "import pandas as pd\n",
    "\n",
    "df_reviews = pd.DataFrame.from_dict({'date':dates, 'review':reviews})\n",
    "df_reviews['date'] = pd.to_datetime(df_reviews['date'])\n",
    "df_reviews.head()"
   ]
  },
  {
   "cell_type": "code",
   "execution_count": 84,
   "id": "2e7b605f-df79-4c8a-bbd6-f7f930223faf",
   "metadata": {},
   "outputs": [],
   "source": [
    "f = 'wine_reviews'\n",
    "df_reviews.to_csv(f, index=False)  "
   ]
  },
  {
   "cell_type": "code",
   "execution_count": null,
   "id": "4b44106c-7f79-4eb3-9788-8075c835bfe3",
   "metadata": {},
   "outputs": [],
   "source": []
  }
 ],
 "metadata": {
  "kernelspec": {
   "display_name": "scrap2",
   "language": "python",
   "name": "scrap2"
  },
  "language_info": {
   "codemirror_mode": {
    "name": "ipython",
    "version": 3
   },
   "file_extension": ".py",
   "mimetype": "text/x-python",
   "name": "python",
   "nbconvert_exporter": "python",
   "pygments_lexer": "ipython3",
   "version": "3.9.18"
  }
 },
 "nbformat": 4,
 "nbformat_minor": 5
}
