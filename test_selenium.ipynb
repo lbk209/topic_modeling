{
 "cells": [
  {
   "cell_type": "code",
   "execution_count": 6,
   "id": "db150f0e-c8bc-413c-b640-45e2bfc753b7",
   "metadata": {},
   "outputs": [],
   "source": [
    "# selenium의 webdriver를 사용하기 위한 import\n",
    "from selenium import webdriver\n",
    "\n",
    "# selenium으로 키를 조작하기 위한 import\n",
    "from selenium.webdriver.common.keys import Keys\n",
    "from selenium.webdriver.common.by import By\n",
    "\n",
    "# 페이지 로딩을 기다리는데에 사용할 time 모듈 import\n",
    "import time"
   ]
  },
  {
   "cell_type": "code",
   "execution_count": 37,
   "id": "8e3e5c4e-41bc-41d7-81b5-2f8a40371ced",
   "metadata": {},
   "outputs": [],
   "source": [
    "# 크롬드라이버 실행. 4.6 버전부터 크롬드라이버 별도 다운로드 및 경로 설정 불필요\n",
    "driver = webdriver.Chrome() \n",
    "\n",
    "#크롬 드라이버에 url 주소 넣고 실행\n",
    "site = 'https://www.vivino.com/casillero-del-diablo-cabernet-sauvignon-reserva-central-valley/w/1135067?ref=nav-search#all_reviews'\n",
    "driver.get(site)\n",
    "\n",
    "# 페이지가 완전히 로딩되도록 3초동안 기다림\n",
    "time.sleep(3)"
   ]
  },
  {
   "cell_type": "code",
   "execution_count": 39,
   "id": "dc0f6e3e-9ac1-495e-a57c-c7859795fd89",
   "metadata": {},
   "outputs": [],
   "source": [
    "# Open community review window by clicking Show more reviews\n",
    "path = \"//button[@tabindex='0']\"\n",
    "#path = \"//span[text()='Show more reviews']\" # successful\n",
    "#path = '//*[@id=\"all_reviews\"]/div[3]/div[1]/button' # NoSuchElementException\n",
    "\n",
    "driver.find_element(By.XPATH, path).click()\n",
    "time.sleep(1)\n",
    "\n",
    "# Show reviews by recent\n",
    "path = '//*[@data-testid=\"baseModalBackdrop\"]/div[2]/div[2]/div[2]/div/a[1]'\n",
    "\n",
    "driver.find_element(By.XPATH, path).click()\n",
    "time.sleep(1)"
   ]
  },
  {
   "cell_type": "code",
   "execution_count": null,
   "id": "0ef1f2c8-bb6f-467b-94c5-a6f4b910a8d8",
   "metadata": {},
   "outputs": [],
   "source": [
    "<span class=\"communityReview__reviewText--2bfLj\">Tem fama, mas poderia ser melhor</span>"
   ]
  },
  {
   "cell_type": "code",
   "execution_count": 40,
   "id": "da5ad4df-7bd8-4977-a790-55ac889da436",
   "metadata": {},
   "outputs": [
    {
     "name": "stdout",
     "output_type": "stream",
     "text": [
      "En liten skarp knekk i smaken. Ok fredagsvin,men ikke no mer.\n",
      "Aight\n",
      "무난한 맛 가성비 좋은듯\n",
      "oak cherry black cherry chocolate blackcurrant plum vanilla blackberry pepper\n",
      "Muito bom, combina muito bem com carnes vermelhas e massa...\n",
      "Så jävla sött\n",
      "Ready to drink, fresh, zingy Cab Sauv. Red fruit on the nose with some vanilla. Medium to heavy in body with notes of cherry and red berries. Sounds like a pinot noir at this stage but it’s not.\n",
      "가성비 훌륭함\n",
      "Kanse stått uppe för länge, så lite för besk.🍇\n",
      "僅かな甘みを持つがドライ、後味が苦く、空気に触れると酸味が増す オーク チェリー ピーマン\n",
      "Easy drinker with plenty of dark fruit on the nose (blackcurrants mainly) plus you can taste the oak and some pepper flavours.\n",
      "A decent Chilean cab served at the VIP lounge at the U2 concert. Flavors include: tobacco, cassis, fig, candied cherry, and leather.\n",
      "One if the most popular Chilean wines this well balanced cabernet is smooth and fruity with red berries flavors. Always a winner because it is also very affordable.\n"
     ]
    }
   ],
   "source": [
    "path = \"communityReview__reviewText--2bfLj\"\n",
    "reviews = driver.find_elements(By.CLASS_NAME, path)\n",
    "\n",
    "for i in reviews:\n",
    "    title = i.text\n",
    "    print(title)"
   ]
  },
  {
   "cell_type": "code",
   "execution_count": 41,
   "id": "c7961df9-2f9f-46ca-9930-a3972f2f5f95",
   "metadata": {},
   "outputs": [
    {
     "data": {
      "text/plain": [
       "13"
      ]
     },
     "execution_count": 41,
     "metadata": {},
     "output_type": "execute_result"
    }
   ],
   "source": [
    "len(reviews)"
   ]
  },
  {
   "cell_type": "code",
   "execution_count": 51,
   "id": "68d6f4c0-1905-4da9-810b-36da4e54ba91",
   "metadata": {},
   "outputs": [],
   "source": [
    "path = '//*[@data-testid=\"baseModalBackdrop\"]/div[2]/div[1]/h2'\n",
    "#path = '//*[@data-testid=\"baseModalBackdrop\"]/div[2]/div[1]'\n",
    "#path = '//*[@data-testid=\"baseModalBackdrop\"]/div[2]/div[2]/div[2]/div/a[1]'\n",
    "\n",
    "#driver.find_element(By.XPATH, path).send_keys(Keys.PAGE_DOWN)\n",
    "\n",
    "driver.find_element(By.TAG_NAME, 'body').send_keys(Keys.PAGE_DOWN)"
   ]
  },
  {
   "cell_type": "code",
   "execution_count": 52,
   "id": "bc34518e-7519-457b-a095-1b56690cc5c0",
   "metadata": {},
   "outputs": [
    {
     "name": "stdout",
     "output_type": "stream",
     "text": [
      "En liten skarp knekk i smaken. Ok fredagsvin,men ikke no mer.\n",
      "Aight\n",
      "무난한 맛 가성비 좋은듯\n",
      "oak cherry black cherry chocolate blackcurrant plum vanilla blackberry pepper\n",
      "Muito bom, combina muito bem com carnes vermelhas e massa...\n",
      "Så jävla sött\n",
      "Ready to drink, fresh, zingy Cab Sauv. Red fruit on the nose with some vanilla. Medium to heavy in body with notes of cherry and red berries. Sounds like a pinot noir at this stage but it’s not.\n",
      "가성비 훌륭함\n",
      "Kanse stått uppe för länge, så lite för besk.🍇\n",
      "僅かな甘みを持つがドライ、後味が苦く、空気に触れると酸味が増す オーク チェリー ピーマン\n",
      "Red wine\n",
      "Globe score 88; crowd pleasing style enjoyable fruity character soft creamy texture $17\n",
      "Ótimo vinho, preenche o paladar. Bacana para ocasiões especiais.\n",
      "Not too shabby Bought as am a little tiddled oak cherry black cherry\n",
      "적당히 느껴지는 무게감에 톡튀는 산미와 타인이 강한데도 잘 어우러지는편 가성비 와인으로 맛있게 먹었다\n",
      "Encorpado e tem acidez. Carnudo da para mastigar! 😀\n",
      "Forte e intenso, o primeiro gole é forte depois de deixar o vinho respirar ele fica suave ! Muito bom\n",
      "very bad\n",
      "Notes of oak, chocolate, black fruit and cranberries. Empty on the palate; a complete lack of concentration, complexity, structure. Used it for cooking.\n",
      "Same review\n",
      "Vill testa\n",
      "Schwer\n",
      "Chileno wine\n",
      "Full body. Cherry Plum tobacco pepper notes. So good for real men.\n",
      "Um vinho que o brasileiro gosta com suavidade e sabor\n",
      "As the name suggests, this wine must have been made either by or for the devil. Atrocious.\n",
      "Muito bom sabor\n",
      "didn’t enjoy, unpleasant in the mouth. tart and a hint of spice, yet somehow boring.\n",
      "Medium ruby color, nose of dark fruits dominant over reds, and oak. Medium high body, mdium acidity, medium high tannim, medium finish, dry, ends with quite high bitterness. Good for price.\n",
      "가성비굿\n",
      "Easy drinker with plenty of dark fruit on the nose (blackcurrants mainly) plus you can taste the oak and some pepper flavours.\n",
      "A decent Chilean cab served at the VIP lounge at the U2 concert. Flavors include: tobacco, cassis, fig, candied cherry, and leather.\n",
      "One if the most popular Chilean wines this well balanced cabernet is smooth and fruity with red berries flavors. Always a winner because it is also very affordable.\n"
     ]
    }
   ],
   "source": [
    "path = \"communityReview__reviewText--2bfLj\"\n",
    "reviews = driver.find_elements(By.CLASS_NAME, path)\n",
    "\n",
    "for i in reviews:\n",
    "    title = i.text\n",
    "    print(title)"
   ]
  },
  {
   "cell_type": "code",
   "execution_count": 53,
   "id": "13e08bbc-646e-4ba9-a19d-e7d931fa985a",
   "metadata": {},
   "outputs": [
    {
     "data": {
      "text/plain": [
       "33"
      ]
     },
     "execution_count": 53,
     "metadata": {},
     "output_type": "execute_result"
    }
   ],
   "source": [
    "len(reviews)"
   ]
  },
  {
   "cell_type": "code",
   "execution_count": 31,
   "id": "cb5a2a10-ce12-45bd-9f40-de50c8c50706",
   "metadata": {
    "collapsed": true,
    "jupyter": {
     "outputs_hidden": true
    }
   },
   "outputs": [
    {
     "ename": "NoSuchElementException",
     "evalue": "Message: no such element: Unable to locate element: {\"method\":\"xpath\",\"selector\":\"//span[text()='Recent']\"}\n  (Session info: chrome=120.0.6099.224); For documentation on this error, please visit: https://www.selenium.dev/documentation/webdriver/troubleshooting/errors#no-such-element-exception\nStacktrace:\n#0 0x5599df68cf83 <unknown>\n#1 0x5599df345cf7 <unknown>\n#2 0x5599df39599e <unknown>\n#3 0x5599df395aa1 <unknown>\n#4 0x5599df3e0d64 <unknown>\n#5 0x5599df3bf0dd <unknown>\n#6 0x5599df3de006 <unknown>\n#7 0x5599df3bee53 <unknown>\n#8 0x5599df386dd4 <unknown>\n#9 0x5599df3881de <unknown>\n#10 0x5599df651531 <unknown>\n#11 0x5599df655455 <unknown>\n#12 0x5599df63df55 <unknown>\n#13 0x5599df6560ef <unknown>\n#14 0x5599df62199f <unknown>\n#15 0x5599df67a008 <unknown>\n#16 0x5599df67a1d7 <unknown>\n#17 0x5599df68c124 <unknown>\n#18 0x7f4a88c94ac3 <unknown>\n",
     "output_type": "error",
     "traceback": [
      "\u001b[0;31m---------------------------------------------------------------------------\u001b[0m",
      "\u001b[0;31mNoSuchElementException\u001b[0m                    Traceback (most recent call last)",
      "Cell \u001b[0;32mIn[31], line 2\u001b[0m\n\u001b[1;32m      1\u001b[0m path \u001b[38;5;241m=\u001b[39m \u001b[38;5;124m\"\u001b[39m\u001b[38;5;124m//span[text()=\u001b[39m\u001b[38;5;124m'\u001b[39m\u001b[38;5;124mRecent\u001b[39m\u001b[38;5;124m'\u001b[39m\u001b[38;5;124m]\u001b[39m\u001b[38;5;124m\"\u001b[39m\n\u001b[0;32m----> 2\u001b[0m \u001b[43mdriver\u001b[49m\u001b[38;5;241;43m.\u001b[39;49m\u001b[43mfind_element\u001b[49m\u001b[43m(\u001b[49m\u001b[43mBy\u001b[49m\u001b[38;5;241;43m.\u001b[39;49m\u001b[43mXPATH\u001b[49m\u001b[43m,\u001b[49m\u001b[43m \u001b[49m\u001b[43mpath\u001b[49m\u001b[43m)\u001b[49m\n\u001b[1;32m      4\u001b[0m \u001b[38;5;66;03m#driver.find_element(By.XPATH, path).click()\u001b[39;00m\n\u001b[1;32m      5\u001b[0m \u001b[38;5;66;03m#driver.find_element(By.XPATH, path).send_keys(Keys.PAGE_DOWN)\u001b[39;00m\n",
      "File \u001b[0;32m~/.cache/pypoetry/virtualenvs/scrap2-pSsZr_wz-py3.9/lib/python3.9/site-packages/selenium/webdriver/remote/webdriver.py:741\u001b[0m, in \u001b[0;36mWebDriver.find_element\u001b[0;34m(self, by, value)\u001b[0m\n\u001b[1;32m    738\u001b[0m     by \u001b[38;5;241m=\u001b[39m By\u001b[38;5;241m.\u001b[39mCSS_SELECTOR\n\u001b[1;32m    739\u001b[0m     value \u001b[38;5;241m=\u001b[39m \u001b[38;5;124mf\u001b[39m\u001b[38;5;124m'\u001b[39m\u001b[38;5;124m[name=\u001b[39m\u001b[38;5;124m\"\u001b[39m\u001b[38;5;132;01m{\u001b[39;00mvalue\u001b[38;5;132;01m}\u001b[39;00m\u001b[38;5;124m\"\u001b[39m\u001b[38;5;124m]\u001b[39m\u001b[38;5;124m'\u001b[39m\n\u001b[0;32m--> 741\u001b[0m \u001b[38;5;28;01mreturn\u001b[39;00m \u001b[38;5;28;43mself\u001b[39;49m\u001b[38;5;241;43m.\u001b[39;49m\u001b[43mexecute\u001b[49m\u001b[43m(\u001b[49m\u001b[43mCommand\u001b[49m\u001b[38;5;241;43m.\u001b[39;49m\u001b[43mFIND_ELEMENT\u001b[49m\u001b[43m,\u001b[49m\u001b[43m \u001b[49m\u001b[43m{\u001b[49m\u001b[38;5;124;43m\"\u001b[39;49m\u001b[38;5;124;43musing\u001b[39;49m\u001b[38;5;124;43m\"\u001b[39;49m\u001b[43m:\u001b[49m\u001b[43m \u001b[49m\u001b[43mby\u001b[49m\u001b[43m,\u001b[49m\u001b[43m \u001b[49m\u001b[38;5;124;43m\"\u001b[39;49m\u001b[38;5;124;43mvalue\u001b[39;49m\u001b[38;5;124;43m\"\u001b[39;49m\u001b[43m:\u001b[49m\u001b[43m \u001b[49m\u001b[43mvalue\u001b[49m\u001b[43m}\u001b[49m\u001b[43m)\u001b[49m[\u001b[38;5;124m\"\u001b[39m\u001b[38;5;124mvalue\u001b[39m\u001b[38;5;124m\"\u001b[39m]\n",
      "File \u001b[0;32m~/.cache/pypoetry/virtualenvs/scrap2-pSsZr_wz-py3.9/lib/python3.9/site-packages/selenium/webdriver/remote/webdriver.py:347\u001b[0m, in \u001b[0;36mWebDriver.execute\u001b[0;34m(self, driver_command, params)\u001b[0m\n\u001b[1;32m    345\u001b[0m response \u001b[38;5;241m=\u001b[39m \u001b[38;5;28mself\u001b[39m\u001b[38;5;241m.\u001b[39mcommand_executor\u001b[38;5;241m.\u001b[39mexecute(driver_command, params)\n\u001b[1;32m    346\u001b[0m \u001b[38;5;28;01mif\u001b[39;00m response:\n\u001b[0;32m--> 347\u001b[0m     \u001b[38;5;28;43mself\u001b[39;49m\u001b[38;5;241;43m.\u001b[39;49m\u001b[43merror_handler\u001b[49m\u001b[38;5;241;43m.\u001b[39;49m\u001b[43mcheck_response\u001b[49m\u001b[43m(\u001b[49m\u001b[43mresponse\u001b[49m\u001b[43m)\u001b[49m\n\u001b[1;32m    348\u001b[0m     response[\u001b[38;5;124m\"\u001b[39m\u001b[38;5;124mvalue\u001b[39m\u001b[38;5;124m\"\u001b[39m] \u001b[38;5;241m=\u001b[39m \u001b[38;5;28mself\u001b[39m\u001b[38;5;241m.\u001b[39m_unwrap_value(response\u001b[38;5;241m.\u001b[39mget(\u001b[38;5;124m\"\u001b[39m\u001b[38;5;124mvalue\u001b[39m\u001b[38;5;124m\"\u001b[39m, \u001b[38;5;28;01mNone\u001b[39;00m))\n\u001b[1;32m    349\u001b[0m     \u001b[38;5;28;01mreturn\u001b[39;00m response\n",
      "File \u001b[0;32m~/.cache/pypoetry/virtualenvs/scrap2-pSsZr_wz-py3.9/lib/python3.9/site-packages/selenium/webdriver/remote/errorhandler.py:229\u001b[0m, in \u001b[0;36mErrorHandler.check_response\u001b[0;34m(self, response)\u001b[0m\n\u001b[1;32m    227\u001b[0m         alert_text \u001b[38;5;241m=\u001b[39m value[\u001b[38;5;124m\"\u001b[39m\u001b[38;5;124malert\u001b[39m\u001b[38;5;124m\"\u001b[39m]\u001b[38;5;241m.\u001b[39mget(\u001b[38;5;124m\"\u001b[39m\u001b[38;5;124mtext\u001b[39m\u001b[38;5;124m\"\u001b[39m)\n\u001b[1;32m    228\u001b[0m     \u001b[38;5;28;01mraise\u001b[39;00m exception_class(message, screen, stacktrace, alert_text)  \u001b[38;5;66;03m# type: ignore[call-arg]  # mypy is not smart enough here\u001b[39;00m\n\u001b[0;32m--> 229\u001b[0m \u001b[38;5;28;01mraise\u001b[39;00m exception_class(message, screen, stacktrace)\n",
      "\u001b[0;31mNoSuchElementException\u001b[0m: Message: no such element: Unable to locate element: {\"method\":\"xpath\",\"selector\":\"//span[text()='Recent']\"}\n  (Session info: chrome=120.0.6099.224); For documentation on this error, please visit: https://www.selenium.dev/documentation/webdriver/troubleshooting/errors#no-such-element-exception\nStacktrace:\n#0 0x5599df68cf83 <unknown>\n#1 0x5599df345cf7 <unknown>\n#2 0x5599df39599e <unknown>\n#3 0x5599df395aa1 <unknown>\n#4 0x5599df3e0d64 <unknown>\n#5 0x5599df3bf0dd <unknown>\n#6 0x5599df3de006 <unknown>\n#7 0x5599df3bee53 <unknown>\n#8 0x5599df386dd4 <unknown>\n#9 0x5599df3881de <unknown>\n#10 0x5599df651531 <unknown>\n#11 0x5599df655455 <unknown>\n#12 0x5599df63df55 <unknown>\n#13 0x5599df6560ef <unknown>\n#14 0x5599df62199f <unknown>\n#15 0x5599df67a008 <unknown>\n#16 0x5599df67a1d7 <unknown>\n#17 0x5599df68c124 <unknown>\n#18 0x7f4a88c94ac3 <unknown>\n"
     ]
    }
   ],
   "source": [
    "path = \"//span[text()='Recent']\"\n",
    "driver.find_element(By.XPATH, path)\n",
    "\n",
    "#driver.find_element(By.XPATH, path).click()\n",
    "#driver.find_element(By.XPATH, path).send_keys(Keys.PAGE_DOWN)"
   ]
  },
  {
   "cell_type": "code",
   "execution_count": null,
   "id": "4a8df29c-6363-46ee-b560-9a85e1c01316",
   "metadata": {
    "collapsed": true,
    "jupyter": {
     "outputs_hidden": true
    }
   },
   "outputs": [],
   "source": [
    "path = \"baseModal\"\n",
    "#driver.find_element(By.ID, path).click()\n",
    "driver.find_element(By.ID, path).send_keys(Keys.ENTER)"
   ]
  },
  {
   "cell_type": "code",
   "execution_count": 20,
   "id": "935f3493-bf6d-49a6-9911-f67f3ff2fdbb",
   "metadata": {},
   "outputs": [
    {
     "ename": "ElementNotInteractableException",
     "evalue": "Message: element not interactable\n  (Session info: chrome=120.0.6099.224)\nStacktrace:\n#0 0x5611517a3f83 <unknown>\n#1 0x56115145cb2b <unknown>\n#2 0x5611514a5eff <unknown>\n#3 0x5611514a41a0 <unknown>\n#4 0x5611514d60b2 <unknown>\n#5 0x56115149fb49 <unknown>\n#6 0x5611514d64ce <unknown>\n#7 0x5611514f5006 <unknown>\n#8 0x5611514d5e53 <unknown>\n#9 0x56115149ddd4 <unknown>\n#10 0x56115149f1de <unknown>\n#11 0x561151768531 <unknown>\n#12 0x56115176c455 <unknown>\n#13 0x561151754f55 <unknown>\n#14 0x56115176d0ef <unknown>\n#15 0x56115173899f <unknown>\n#16 0x561151791008 <unknown>\n#17 0x5611517911d7 <unknown>\n#18 0x5611517a3124 <unknown>\n#19 0x7f4128e94ac3 <unknown>\n",
     "output_type": "error",
     "traceback": [
      "\u001b[0;31m---------------------------------------------------------------------------\u001b[0m",
      "\u001b[0;31mElementNotInteractableException\u001b[0m           Traceback (most recent call last)",
      "Cell \u001b[0;32mIn[20], line 8\u001b[0m\n\u001b[1;32m      1\u001b[0m \u001b[38;5;66;03m##path = '//*[@id=\"baseModal\"]/div/div[2]/div[3]' # ElementNotInteractableException\u001b[39;00m\n\u001b[1;32m      2\u001b[0m \u001b[38;5;66;03m#path = 'allReviewsModal'\u001b[39;00m\n\u001b[1;32m      3\u001b[0m \n\u001b[1;32m      4\u001b[0m \u001b[38;5;66;03m#driver.find_element(By.NAME, path).send_keys(Keys.PAGE_DOWN)\u001b[39;00m\n\u001b[1;32m      6\u001b[0m path \u001b[38;5;241m=\u001b[39m \u001b[38;5;124m'\u001b[39m\u001b[38;5;124mallReviews__reviews--EpUem\u001b[39m\u001b[38;5;124m'\u001b[39m\n\u001b[0;32m----> 8\u001b[0m \u001b[43mdriver\u001b[49m\u001b[38;5;241;43m.\u001b[39;49m\u001b[43mfind_element\u001b[49m\u001b[43m(\u001b[49m\u001b[43mBy\u001b[49m\u001b[38;5;241;43m.\u001b[39;49m\u001b[43mCLASS_NAME\u001b[49m\u001b[43m,\u001b[49m\u001b[43m \u001b[49m\u001b[43mpath\u001b[49m\u001b[43m)\u001b[49m\u001b[38;5;241;43m.\u001b[39;49m\u001b[43msend_keys\u001b[49m\u001b[43m(\u001b[49m\u001b[43mKeys\u001b[49m\u001b[38;5;241;43m.\u001b[39;49m\u001b[43mPAGE_DOWN\u001b[49m\u001b[43m)\u001b[49m\n",
      "File \u001b[0;32m~/.cache/pypoetry/virtualenvs/scrap2-pSsZr_wz-py3.9/lib/python3.9/site-packages/selenium/webdriver/remote/webelement.py:231\u001b[0m, in \u001b[0;36mWebElement.send_keys\u001b[0;34m(self, *value)\u001b[0m\n\u001b[1;32m    228\u001b[0m             remote_files\u001b[38;5;241m.\u001b[39mappend(\u001b[38;5;28mself\u001b[39m\u001b[38;5;241m.\u001b[39m_upload(file))\n\u001b[1;32m    229\u001b[0m         value \u001b[38;5;241m=\u001b[39m \u001b[38;5;124m\"\u001b[39m\u001b[38;5;130;01m\\n\u001b[39;00m\u001b[38;5;124m\"\u001b[39m\u001b[38;5;241m.\u001b[39mjoin(remote_files)\n\u001b[0;32m--> 231\u001b[0m \u001b[38;5;28;43mself\u001b[39;49m\u001b[38;5;241;43m.\u001b[39;49m\u001b[43m_execute\u001b[49m\u001b[43m(\u001b[49m\n\u001b[1;32m    232\u001b[0m \u001b[43m    \u001b[49m\u001b[43mCommand\u001b[49m\u001b[38;5;241;43m.\u001b[39;49m\u001b[43mSEND_KEYS_TO_ELEMENT\u001b[49m\u001b[43m,\u001b[49m\u001b[43m \u001b[49m\u001b[43m{\u001b[49m\u001b[38;5;124;43m\"\u001b[39;49m\u001b[38;5;124;43mtext\u001b[39;49m\u001b[38;5;124;43m\"\u001b[39;49m\u001b[43m:\u001b[49m\u001b[43m \u001b[49m\u001b[38;5;124;43m\"\u001b[39;49m\u001b[38;5;124;43m\"\u001b[39;49m\u001b[38;5;241;43m.\u001b[39;49m\u001b[43mjoin\u001b[49m\u001b[43m(\u001b[49m\u001b[43mkeys_to_typing\u001b[49m\u001b[43m(\u001b[49m\u001b[43mvalue\u001b[49m\u001b[43m)\u001b[49m\u001b[43m)\u001b[49m\u001b[43m,\u001b[49m\u001b[43m \u001b[49m\u001b[38;5;124;43m\"\u001b[39;49m\u001b[38;5;124;43mvalue\u001b[39;49m\u001b[38;5;124;43m\"\u001b[39;49m\u001b[43m:\u001b[49m\u001b[43m \u001b[49m\u001b[43mkeys_to_typing\u001b[49m\u001b[43m(\u001b[49m\u001b[43mvalue\u001b[49m\u001b[43m)\u001b[49m\u001b[43m}\u001b[49m\n\u001b[1;32m    233\u001b[0m \u001b[43m\u001b[49m\u001b[43m)\u001b[49m\n",
      "File \u001b[0;32m~/.cache/pypoetry/virtualenvs/scrap2-pSsZr_wz-py3.9/lib/python3.9/site-packages/selenium/webdriver/remote/webelement.py:395\u001b[0m, in \u001b[0;36mWebElement._execute\u001b[0;34m(self, command, params)\u001b[0m\n\u001b[1;32m    393\u001b[0m     params \u001b[38;5;241m=\u001b[39m {}\n\u001b[1;32m    394\u001b[0m params[\u001b[38;5;124m\"\u001b[39m\u001b[38;5;124mid\u001b[39m\u001b[38;5;124m\"\u001b[39m] \u001b[38;5;241m=\u001b[39m \u001b[38;5;28mself\u001b[39m\u001b[38;5;241m.\u001b[39m_id\n\u001b[0;32m--> 395\u001b[0m \u001b[38;5;28;01mreturn\u001b[39;00m \u001b[38;5;28;43mself\u001b[39;49m\u001b[38;5;241;43m.\u001b[39;49m\u001b[43m_parent\u001b[49m\u001b[38;5;241;43m.\u001b[39;49m\u001b[43mexecute\u001b[49m\u001b[43m(\u001b[49m\u001b[43mcommand\u001b[49m\u001b[43m,\u001b[49m\u001b[43m \u001b[49m\u001b[43mparams\u001b[49m\u001b[43m)\u001b[49m\n",
      "File \u001b[0;32m~/.cache/pypoetry/virtualenvs/scrap2-pSsZr_wz-py3.9/lib/python3.9/site-packages/selenium/webdriver/remote/webdriver.py:347\u001b[0m, in \u001b[0;36mWebDriver.execute\u001b[0;34m(self, driver_command, params)\u001b[0m\n\u001b[1;32m    345\u001b[0m response \u001b[38;5;241m=\u001b[39m \u001b[38;5;28mself\u001b[39m\u001b[38;5;241m.\u001b[39mcommand_executor\u001b[38;5;241m.\u001b[39mexecute(driver_command, params)\n\u001b[1;32m    346\u001b[0m \u001b[38;5;28;01mif\u001b[39;00m response:\n\u001b[0;32m--> 347\u001b[0m     \u001b[38;5;28;43mself\u001b[39;49m\u001b[38;5;241;43m.\u001b[39;49m\u001b[43merror_handler\u001b[49m\u001b[38;5;241;43m.\u001b[39;49m\u001b[43mcheck_response\u001b[49m\u001b[43m(\u001b[49m\u001b[43mresponse\u001b[49m\u001b[43m)\u001b[49m\n\u001b[1;32m    348\u001b[0m     response[\u001b[38;5;124m\"\u001b[39m\u001b[38;5;124mvalue\u001b[39m\u001b[38;5;124m\"\u001b[39m] \u001b[38;5;241m=\u001b[39m \u001b[38;5;28mself\u001b[39m\u001b[38;5;241m.\u001b[39m_unwrap_value(response\u001b[38;5;241m.\u001b[39mget(\u001b[38;5;124m\"\u001b[39m\u001b[38;5;124mvalue\u001b[39m\u001b[38;5;124m\"\u001b[39m, \u001b[38;5;28;01mNone\u001b[39;00m))\n\u001b[1;32m    349\u001b[0m     \u001b[38;5;28;01mreturn\u001b[39;00m response\n",
      "File \u001b[0;32m~/.cache/pypoetry/virtualenvs/scrap2-pSsZr_wz-py3.9/lib/python3.9/site-packages/selenium/webdriver/remote/errorhandler.py:229\u001b[0m, in \u001b[0;36mErrorHandler.check_response\u001b[0;34m(self, response)\u001b[0m\n\u001b[1;32m    227\u001b[0m         alert_text \u001b[38;5;241m=\u001b[39m value[\u001b[38;5;124m\"\u001b[39m\u001b[38;5;124malert\u001b[39m\u001b[38;5;124m\"\u001b[39m]\u001b[38;5;241m.\u001b[39mget(\u001b[38;5;124m\"\u001b[39m\u001b[38;5;124mtext\u001b[39m\u001b[38;5;124m\"\u001b[39m)\n\u001b[1;32m    228\u001b[0m     \u001b[38;5;28;01mraise\u001b[39;00m exception_class(message, screen, stacktrace, alert_text)  \u001b[38;5;66;03m# type: ignore[call-arg]  # mypy is not smart enough here\u001b[39;00m\n\u001b[0;32m--> 229\u001b[0m \u001b[38;5;28;01mraise\u001b[39;00m exception_class(message, screen, stacktrace)\n",
      "\u001b[0;31mElementNotInteractableException\u001b[0m: Message: element not interactable\n  (Session info: chrome=120.0.6099.224)\nStacktrace:\n#0 0x5611517a3f83 <unknown>\n#1 0x56115145cb2b <unknown>\n#2 0x5611514a5eff <unknown>\n#3 0x5611514a41a0 <unknown>\n#4 0x5611514d60b2 <unknown>\n#5 0x56115149fb49 <unknown>\n#6 0x5611514d64ce <unknown>\n#7 0x5611514f5006 <unknown>\n#8 0x5611514d5e53 <unknown>\n#9 0x56115149ddd4 <unknown>\n#10 0x56115149f1de <unknown>\n#11 0x561151768531 <unknown>\n#12 0x56115176c455 <unknown>\n#13 0x561151754f55 <unknown>\n#14 0x56115176d0ef <unknown>\n#15 0x56115173899f <unknown>\n#16 0x561151791008 <unknown>\n#17 0x5611517911d7 <unknown>\n#18 0x5611517a3124 <unknown>\n#19 0x7f4128e94ac3 <unknown>\n"
     ]
    }
   ],
   "source": [
    "##path = '//*[@id=\"baseModal\"]/div/div[2]/div[3]' # ElementNotInteractableException\n",
    "#path = 'allReviewsModal'\n",
    "\n",
    "#driver.find_element(By.NAME, path).send_keys(Keys.PAGE_DOWN)\n",
    "\n",
    "path = 'allReviews__reviews--EpUem'\n",
    "\n",
    "driver.find_element(By.CLASS_NAME, path).send_keys(Keys.PAGE_DOWN)\n"
   ]
  },
  {
   "cell_type": "code",
   "execution_count": null,
   "id": "aad1092c-d105-4511-83d8-4f6d40668cb3",
   "metadata": {},
   "outputs": [],
   "source": []
  }
 ],
 "metadata": {
  "kernelspec": {
   "display_name": "scrap2",
   "language": "python",
   "name": "scrap2"
  },
  "language_info": {
   "codemirror_mode": {
    "name": "ipython",
    "version": 3
   },
   "file_extension": ".py",
   "mimetype": "text/x-python",
   "name": "python",
   "nbconvert_exporter": "python",
   "pygments_lexer": "ipython3",
   "version": "3.9.18"
  }
 },
 "nbformat": 4,
 "nbformat_minor": 5
}
