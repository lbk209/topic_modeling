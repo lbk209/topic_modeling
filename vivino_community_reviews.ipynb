{
 "cells": [
  {
   "cell_type": "code",
   "execution_count": 1,
   "id": "2fc3dc21-a8ca-410e-92a6-193b4b0321d5",
   "metadata": {},
   "outputs": [],
   "source": [
    "from vivino_community_reviews import vivino_reviews, concat_reviews\n",
    "\n",
    "import pandas as pd"
   ]
  },
  {
   "cell_type": "code",
   "execution_count": 2,
   "id": "51bfb2ea-38ff-4fc2-88af-7ea8171993dd",
   "metadata": {},
   "outputs": [],
   "source": [
    "locator_more = \"//button[@tabindex='0']\"\n",
    "locator_recent = '//*[@data-testid=\"baseModalBackdrop\"]/div[2]/div[2]/div[2]/div/a[1]'\n",
    "\n",
    "locator_review = \"communityReview__reviewText--2bfLj\"\n",
    "locator_date = \"anchor_anchor__m8Qi- reviewAnchor__anchor--2NKFw reviewDate__reviewDate--49vpM undefined\"\n",
    "\n",
    "kwargs = {\n",
    "    'loc1': locator_more,\n",
    "    'loc2': locator_recent, \n",
    "    'loc3': locator_review,\n",
    "    'loc4': locator_date\n",
    "}"
   ]
  },
  {
   "cell_type": "code",
   "execution_count": 3,
   "id": "39f95682-cc61-428a-8e82-e8f1a16f68d9",
   "metadata": {},
   "outputs": [],
   "source": [
    "kwargs.update({\n",
    "    #'end_date': '20220101',\n",
    "    'end_date': '20231101',\n",
    "    #'max_scr': 10, 'time_scr': 2, 'check_idx': 4,\n",
    "})"
   ]
  },
  {
   "cell_type": "code",
   "execution_count": 4,
   "id": "7ed12cd7-5f27-45c2-84b8-574e4db856dc",
   "metadata": {},
   "outputs": [],
   "source": [
    "wines = list()\n",
    "wines.append([\n",
    "    'Casillero del Diablo Cabernet Sauvignon (Reserva)',\n",
    "    'https://www.vivino.com/casillero-del-diablo-cabernet-sauvignon-reserva-central-valley/w/1135067?ref=nav-search#all_reviews'\n",
    "])\n",
    "wines.append([\n",
    "    'Yellow Tail Cabernet Sauvignon',\n",
    "    'https://www.vivino.com/yellow-tail-cabernet-sauvignon/w/2549?ref=nav-search#all_reviews'\n",
    "])"
   ]
  },
  {
   "cell_type": "code",
   "execution_count": 5,
   "id": "45e267b4-b7be-4b90-a57c-135c7d015236",
   "metadata": {},
   "outputs": [
    {
     "name": "stderr",
     "output_type": "stream",
     "text": [
      "53it [00:26,  2.03it/s]\n"
     ]
    },
    {
     "name": "stdout",
     "output_type": "stream",
     "text": [
      "53 reviews collected.\n"
     ]
    },
    {
     "name": "stderr",
     "output_type": "stream",
     "text": [
      "43it [00:12,  3.32it/s]\n"
     ]
    },
    {
     "name": "stdout",
     "output_type": "stream",
     "text": [
      "43 reviews collected.\n"
     ]
    }
   ],
   "source": [
    "df_reviews = pd.DataFrame()\n",
    "col_rev = ['id', 'wine', 'date', 'review']\n",
    "\n",
    "for wine_name, wine_url in wines:\n",
    "    df = vivino_reviews(wine_url, wine_name, **kwargs)\n",
    "    df_reviews = concat_reviews(df_reviews, df, wine_name, col_rev, save=True)"
   ]
  },
  {
   "cell_type": "code",
   "execution_count": 216,
   "id": "d1c707b6-a28d-46b6-a562-660a0090dd24",
   "metadata": {},
   "outputs": [
    {
     "name": "stdout",
     "output_type": "stream",
     "text": [
      "  adding: wine_0.csv (deflated 67%)\n",
      "  adding: wine_1.csv (deflated 57%)\n"
     ]
    }
   ],
   "source": [
    "!zip wine_reviews.zip wine*csv"
   ]
  },
  {
   "cell_type": "code",
   "execution_count": null,
   "id": "2d538f3f-0a46-401b-83d0-5e2798223aa2",
   "metadata": {},
   "outputs": [],
   "source": []
  }
 ],
 "metadata": {
  "kernelspec": {
   "display_name": "Python 3 (ipykernel)",
   "language": "python",
   "name": "python3"
  },
  "language_info": {
   "codemirror_mode": {
    "name": "ipython",
    "version": 3
   },
   "file_extension": ".py",
   "mimetype": "text/x-python",
   "name": "python",
   "nbconvert_exporter": "python",
   "pygments_lexer": "ipython3",
   "version": "3.12.1"
  }
 },
 "nbformat": 4,
 "nbformat_minor": 5
}
