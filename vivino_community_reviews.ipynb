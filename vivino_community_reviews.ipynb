{
 "cells": [
  {
   "cell_type": "markdown",
   "id": "b491eaed-de02-4a0f-b16e-54a840e94adb",
   "metadata": {},
   "source": [
    "# Utils"
   ]
  },
  {
   "cell_type": "code",
   "execution_count": 56,
   "id": "f2d79005-ab91-4e3d-8392-4bb091eab366",
   "metadata": {},
   "outputs": [],
   "source": [
    "import os\n",
    "\n",
    "def save_reviews(df_review, file, path='data'):\n",
    "    f = f'{path}/{file}'\n",
    "    if os.path.exists(f):\n",
    "        print(f'ERROR: {f} already exists')\n",
    "    else:\n",
    "        df_review.to_csv(f, index=False)\n",
    "        print(f'{f} saved.')\n",
    "    return None\n",
    "\n",
    "def load_reviews(file, path='data'):\n",
    "    f = f'{path}/{file}'\n",
    "    df = pd.read_csv(f, parse_dates=['date'])\n",
    "    print(f'{f} loaded.')\n",
    "    return df"
   ]
  },
  {
   "cell_type": "markdown",
   "id": "75b09696-2a65-463b-a4c4-76f1a194afd4",
   "metadata": {},
   "source": [
    "# Scraping"
   ]
  },
  {
   "cell_type": "code",
   "execution_count": 4,
   "id": "2fc3dc21-a8ca-410e-92a6-193b4b0321d5",
   "metadata": {},
   "outputs": [],
   "source": [
    "from vivino_community_reviews import vivino_reviews, concat_reviews\n",
    "\n",
    "import pandas as pd"
   ]
  },
  {
   "cell_type": "code",
   "execution_count": 2,
   "id": "51bfb2ea-38ff-4fc2-88af-7ea8171993dd",
   "metadata": {},
   "outputs": [],
   "source": [
    "locator_more = \"//button[@tabindex='0']\"\n",
    "locator_recent = '//*[@data-testid=\"baseModalBackdrop\"]/div[2]/div[2]/div[2]/div/a[1]'\n",
    "\n",
    "locator_review = \"communityReview__reviewText--2bfLj\"\n",
    "locator_date = \"anchor_anchor__m8Qi- reviewAnchor__anchor--2NKFw reviewDate__reviewDate--49vpM undefined\"\n",
    "\n",
    "kwargs = {\n",
    "    'loc1': locator_more,\n",
    "    'loc2': locator_recent, \n",
    "    'loc3': locator_review,\n",
    "    'loc4': locator_date\n",
    "}"
   ]
  },
  {
   "cell_type": "code",
   "execution_count": 3,
   "id": "39f95682-cc61-428a-8e82-e8f1a16f68d9",
   "metadata": {},
   "outputs": [],
   "source": [
    "kwargs.update({\n",
    "    'end_date': '20220101',\n",
    "    #'max_scr': 10, 'time_scr': 2, 'check_idx': 4,\n",
    "})"
   ]
  },
  {
   "cell_type": "code",
   "execution_count": 4,
   "id": "7ed12cd7-5f27-45c2-84b8-574e4db856dc",
   "metadata": {},
   "outputs": [],
   "source": [
    "wines = list()\n",
    "wines.append([\n",
    "    'Casillero del Diablo Cabernet Sauvignon (Reserva)',\n",
    "    'https://www.vivino.com/casillero-del-diablo-cabernet-sauvignon-reserva-central-valley/w/1135067?ref=nav-search#all_reviews'\n",
    "])\n",
    "wines.append([\n",
    "    'Yellow Tail Cabernet Sauvignon',\n",
    "    'https://www.vivino.com/yellow-tail-cabernet-sauvignon/w/2549?ref=nav-search#all_reviews'\n",
    "])\n",
    "\n",
    "id_start = 0"
   ]
  },
  {
   "cell_type": "code",
   "execution_count": 4,
   "id": "548bfb27-596d-49cd-8c7a-3a568924b92e",
   "metadata": {},
   "outputs": [],
   "source": [
    "wines = list()\n",
    "wines.append([\n",
    "    'Casillero del Diablo Chardonnay (Reserva)',\n",
    "    'https://www.vivino.com/casillero-del-diablo-chardonnay-reserva/w/1135140?ref=nav-search#all_reviews'\n",
    "])\n",
    "\n",
    "id_start = 6"
   ]
  },
  {
   "cell_type": "markdown",
   "id": "560396fb-1da8-49e6-8b5c-c8a9c79210db",
   "metadata": {},
   "source": [
    "**load existing reviews**"
   ]
  },
  {
   "cell_type": "code",
   "execution_count": 8,
   "id": "f89a4ef6-5943-4090-a191-1e8c2ea0d546",
   "metadata": {},
   "outputs": [
    {
     "name": "stdout",
     "output_type": "stream",
     "text": [
      "data/wine_6.csv loaded.\n"
     ]
    },
    {
     "data": {
      "text/plain": [
       "wid\n",
       "6    [Casillero del Diablo Chardonnay (Reserva)]\n",
       "Name: wine, dtype: object"
      ]
     },
     "execution_count": 8,
     "metadata": {},
     "output_type": "execute_result"
    }
   ],
   "source": [
    "#files = []\n",
    "files = ['wine_6']\n",
    "path = 'data'\n",
    "\n",
    "df_reviews = pd.DataFrame()\n",
    "for f in files:\n",
    "    df = load_reviews(f'{f}.csv', path=path)\n",
    "    df_reviews = pd.concat([df_reviews, df])\n",
    "\n",
    "# check duplicate wid\n",
    "df_reviews.groupby('wid').wine.unique()"
   ]
  },
  {
   "cell_type": "code",
   "execution_count": 5,
   "id": "45e267b4-b7be-4b90-a57c-135c7d015236",
   "metadata": {},
   "outputs": [
    {
     "name": "stderr",
     "output_type": "stream",
     "text": [
      "123it [01:54,  1.08it/s]"
     ]
    },
    {
     "name": "stdout",
     "output_type": "stream",
     "text": [
      "123 reviews collected.\n"
     ]
    },
    {
     "name": "stderr",
     "output_type": "stream",
     "text": [
      "\n"
     ]
    }
   ],
   "source": [
    "col_rev = ['id', 'wine', 'date', 'review']\n",
    "\n",
    "for wine_name, wine_url in wines:\n",
    "    df = vivino_reviews(wine_url, wine_name, **kwargs)\n",
    "    df_reviews = concat_reviews(df_reviews, df, wine_name, col_rev, save=True, id_start=id_start)"
   ]
  },
  {
   "cell_type": "markdown",
   "id": "fd1521a7-3988-4098-b430-c5e09fc6a4a2",
   "metadata": {},
   "source": [
    "**temp saving before translation**"
   ]
  },
  {
   "cell_type": "code",
   "execution_count": 14,
   "id": "1a4a8af7-781f-4f93-a279-db041f14f0d5",
   "metadata": {},
   "outputs": [
    {
     "name": "stdout",
     "output_type": "stream",
     "text": [
      "data/wine_reviews.csv saved.\n"
     ]
    }
   ],
   "source": [
    "save_reviews(df_reviews, 'wine_reviews.csv', 'data')"
   ]
  },
  {
   "cell_type": "markdown",
   "id": "d9f7f247-0751-46e4-bf66-48409773bb97",
   "metadata": {},
   "source": [
    "# Review data"
   ]
  },
  {
   "cell_type": "code",
   "execution_count": 40,
   "id": "af270968-963a-4a1a-a577-fb8187eb85d9",
   "metadata": {},
   "outputs": [
    {
     "name": "stdout",
     "output_type": "stream",
     "text": [
      "data/wine_reviews.csv loaded.\n"
     ]
    }
   ],
   "source": [
    "df_reviews = load_reviews('wine_reviews.csv', 'data')"
   ]
  },
  {
   "cell_type": "code",
   "execution_count": 41,
   "id": "36e8b2b4-f05e-4640-82e3-94f74672b445",
   "metadata": {},
   "outputs": [
    {
     "data": {
      "text/html": [
       "<div>\n",
       "<style scoped>\n",
       "    .dataframe tbody tr th:only-of-type {\n",
       "        vertical-align: middle;\n",
       "    }\n",
       "\n",
       "    .dataframe tbody tr th {\n",
       "        vertical-align: top;\n",
       "    }\n",
       "\n",
       "    .dataframe thead th {\n",
       "        text-align: right;\n",
       "    }\n",
       "</style>\n",
       "<table border=\"1\" class=\"dataframe\">\n",
       "  <thead>\n",
       "    <tr style=\"text-align: right;\">\n",
       "      <th></th>\n",
       "      <th>wid</th>\n",
       "      <th>wine</th>\n",
       "      <th>date</th>\n",
       "      <th>review</th>\n",
       "      <th>source</th>\n",
       "    </tr>\n",
       "  </thead>\n",
       "  <tbody>\n",
       "    <tr>\n",
       "      <th>120</th>\n",
       "      <td>6</td>\n",
       "      <td>Casillero del Diablo Chardonnay (Reserva)</td>\n",
       "      <td>NaT</td>\n",
       "      <td>NaN</td>\n",
       "      <td>vivino</td>\n",
       "    </tr>\n",
       "  </tbody>\n",
       "</table>\n",
       "</div>"
      ],
      "text/plain": [
       "     wid                                       wine date review  source\n",
       "120    6  Casillero del Diablo Chardonnay (Reserva)  NaT    NaN  vivino"
      ]
     },
     "execution_count": 41,
     "metadata": {},
     "output_type": "execute_result"
    }
   ],
   "source": [
    "cond = (df_reviews.date.isna()) | (df_reviews.review.isna())\n",
    "df_reviews.loc[cond]"
   ]
  },
  {
   "cell_type": "code",
   "execution_count": 42,
   "id": "1a192d4b-ef01-4279-9004-1abfb08ca53e",
   "metadata": {},
   "outputs": [],
   "source": [
    "df_reviews = df_reviews.loc[~cond].reset_index(drop=True)"
   ]
  },
  {
   "cell_type": "code",
   "execution_count": 43,
   "id": "8d9a594c-ae1f-44ba-ab72-997caa5d4094",
   "metadata": {},
   "outputs": [
    {
     "data": {
      "text/plain": [
       "date\n",
       "2024     5\n",
       "2023    47\n",
       "2022    67\n",
       "2021     3\n",
       "Name: count, dtype: int64"
      ]
     },
     "execution_count": 43,
     "metadata": {},
     "output_type": "execute_result"
    }
   ],
   "source": [
    "df_reviews.date.dt.year.value_counts().sort_index(ascending=False)"
   ]
  },
  {
   "cell_type": "code",
   "execution_count": 19,
   "id": "a3aafc5b-fc20-4e05-af1f-9197e8215b9e",
   "metadata": {},
   "outputs": [
    {
     "data": {
      "text/plain": [
       "<Axes: >"
      ]
     },
     "execution_count": 19,
     "metadata": {},
     "output_type": "execute_result"
    },
    {
     "data": {
      "image/png": "[encoded data removed]",
      "text/plain": [
       "<Figure size 640x480 with 1 Axes>"
      ]
     },
     "metadata": {},
     "output_type": "display_data"
    }
   ],
   "source": [
    "d = df_reviews.date.agg(['min', 'max']).to_list()\n",
    "date_range = pd.date_range(start=d[0], end=d[1]).to_period(\"M\").unique()\n",
    "\n",
    "(df_reviews\n",
    " .set_index('date').to_period(\"M\")\n",
    " .groupby(level=0).review.count()\n",
    " .sort_index()\n",
    " .reindex(date_range, fill_value=0)\n",
    " .plot(kind='barh')\n",
    ")"
   ]
  },
  {
   "cell_type": "code",
   "execution_count": 20,
   "id": "c1ce0430-3dea-4a97-a0b9-010a6580d0b0",
   "metadata": {},
   "outputs": [
    {
     "data": {
      "text/plain": [
       "<Axes: ylabel='wine'>"
      ]
     },
     "execution_count": 20,
     "metadata": {},
     "output_type": "execute_result"
    },
    {
     "data": {
      "image/png": "[encoded data removed]",
      "text/plain": [
       "<Figure size 640x480 with 1 Axes>"
      ]
     },
     "metadata": {},
     "output_type": "display_data"
    }
   ],
   "source": [
    "(df_reviews\n",
    " .groupby(by='wine').review.count()\n",
    " .plot(kind='barh')\n",
    ")"
   ]
  },
  {
   "cell_type": "code",
   "execution_count": 21,
   "id": "920c9d82-167b-4f27-b6d5-2ea7258a55fe",
   "metadata": {},
   "outputs": [
    {
     "data": {
      "text/html": [
       "<div>\n",
       "<style scoped>\n",
       "    .dataframe tbody tr th:only-of-type {\n",
       "        vertical-align: middle;\n",
       "    }\n",
       "\n",
       "    .dataframe tbody tr th {\n",
       "        vertical-align: top;\n",
       "    }\n",
       "\n",
       "    .dataframe thead th {\n",
       "        text-align: right;\n",
       "    }\n",
       "</style>\n",
       "<table border=\"1\" class=\"dataframe\">\n",
       "  <thead>\n",
       "    <tr style=\"text-align: right;\">\n",
       "      <th></th>\n",
       "      <th>wid</th>\n",
       "      <th>wine</th>\n",
       "      <th>date</th>\n",
       "      <th>review</th>\n",
       "      <th>source</th>\n",
       "    </tr>\n",
       "  </thead>\n",
       "  <tbody>\n",
       "    <tr>\n",
       "      <th>0</th>\n",
       "      <td>6</td>\n",
       "      <td>Casillero del Diablo Chardonnay (Reserva)</td>\n",
       "      <td>2024-02-03</td>\n",
       "      <td>cu 1.6 구매, 소비뇽블랑같은 맛</td>\n",
       "      <td>vivino</td>\n",
       "    </tr>\n",
       "    <tr>\n",
       "      <th>1</th>\n",
       "      <td>6</td>\n",
       "      <td>Casillero del Diablo Chardonnay (Reserva)</td>\n",
       "      <td>2024-02-02</td>\n",
       "      <td>Chardonnay da onipresente Concha y Toro. É agr...</td>\n",
       "      <td>vivino</td>\n",
       "    </tr>\n",
       "    <tr>\n",
       "      <th>2</th>\n",
       "      <td>6</td>\n",
       "      <td>Casillero del Diablo Chardonnay (Reserva)</td>\n",
       "      <td>2024-01-29</td>\n",
       "      <td>Aroma de pêssego bem presente!! Harmoniza bem ...</td>\n",
       "      <td>vivino</td>\n",
       "    </tr>\n",
       "    <tr>\n",
       "      <th>3</th>\n",
       "      <td>6</td>\n",
       "      <td>Casillero del Diablo Chardonnay (Reserva)</td>\n",
       "      <td>2024-01-26</td>\n",
       "      <td>It's a pretty rough Chardonnay, unbalanced and...</td>\n",
       "      <td>vivino</td>\n",
       "    </tr>\n",
       "    <tr>\n",
       "      <th>4</th>\n",
       "      <td>6</td>\n",
       "      <td>Casillero del Diablo Chardonnay (Reserva)</td>\n",
       "      <td>2024-01-01</td>\n",
       "      <td>Bom custo beneficio</td>\n",
       "      <td>vivino</td>\n",
       "    </tr>\n",
       "  </tbody>\n",
       "</table>\n",
       "</div>"
      ],
      "text/plain": [
       "   wid                                       wine       date  \\\n",
       "0    6  Casillero del Diablo Chardonnay (Reserva) 2024-02-03   \n",
       "1    6  Casillero del Diablo Chardonnay (Reserva) 2024-02-02   \n",
       "2    6  Casillero del Diablo Chardonnay (Reserva) 2024-01-29   \n",
       "3    6  Casillero del Diablo Chardonnay (Reserva) 2024-01-26   \n",
       "4    6  Casillero del Diablo Chardonnay (Reserva) 2024-01-01   \n",
       "\n",
       "                                              review  source  \n",
       "0                               cu 1.6 구매, 소비뇽블랑같은 맛  vivino  \n",
       "1  Chardonnay da onipresente Concha y Toro. É agr...  vivino  \n",
       "2  Aroma de pêssego bem presente!! Harmoniza bem ...  vivino  \n",
       "3  It's a pretty rough Chardonnay, unbalanced and...  vivino  \n",
       "4                                Bom custo beneficio  vivino  "
      ]
     },
     "execution_count": 21,
     "metadata": {},
     "output_type": "execute_result"
    }
   ],
   "source": [
    "df_reviews.head()"
   ]
  },
  {
   "cell_type": "markdown",
   "id": "eff4af90-e32e-48a3-937c-5f575f2b30b2",
   "metadata": {},
   "source": [
    "# Translate"
   ]
  },
  {
   "cell_type": "code",
   "execution_count": 22,
   "id": "ecb5329c-904f-4d51-bed5-61898c468786",
   "metadata": {},
   "outputs": [],
   "source": [
    "import langdetect\n",
    "import json\n",
    "from deep_translator import GoogleTranslator\n",
    "from tqdm import tqdm\n",
    "\n",
    "def detect_language(text):\n",
    "    try:\n",
    "        return langdetect.detect(text)\n",
    "    except KeyboardInterrupt as e:\n",
    "        raise(e)\n",
    "    except:\n",
    "        return '<-- ERROR -->'\n",
    "\n",
    "def get_translation(text):\n",
    "    try:\n",
    "        return GoogleTranslator(source='auto', target='en').translate(str(text))\n",
    "    except KeyboardInterrupt as e:\n",
    "        raise(e)\n",
    "    except:\n",
    "        return '<-- ERROR -->'"
   ]
  },
  {
   "cell_type": "code",
   "execution_count": 45,
   "id": "bdccba59-210d-4587-91bc-37ef80301dbe",
   "metadata": {},
   "outputs": [
    {
     "name": "stderr",
     "output_type": "stream",
     "text": [
      "100%|█████████████████████████████████████████████████████████████| 122/122 [01:54<00:00,  1.07it/s]\n"
     ]
    }
   ],
   "source": [
    "tmp_data = []\n",
    "\n",
    "for rec in tqdm(df_reviews.to_dict('records')):\n",
    "    tmp_data.append({\n",
    "        #'wid': rec['wid'],\n",
    "        'lang': detect_language(rec['review']),\n",
    "        'review_transl': get_translation(rec['review'])\n",
    "    })"
   ]
  },
  {
   "cell_type": "code",
   "execution_count": 48,
   "id": "f3e3ecd4-49dc-4827-9a0a-efd0dd1a5978",
   "metadata": {},
   "outputs": [
    {
     "data": {
      "text/html": [
       "<div>\n",
       "<style scoped>\n",
       "    .dataframe tbody tr th:only-of-type {\n",
       "        vertical-align: middle;\n",
       "    }\n",
       "\n",
       "    .dataframe tbody tr th {\n",
       "        vertical-align: top;\n",
       "    }\n",
       "\n",
       "    .dataframe thead th {\n",
       "        text-align: right;\n",
       "    }\n",
       "</style>\n",
       "<table border=\"1\" class=\"dataframe\">\n",
       "  <thead>\n",
       "    <tr style=\"text-align: right;\">\n",
       "      <th></th>\n",
       "      <th>wid</th>\n",
       "      <th>wine</th>\n",
       "      <th>date</th>\n",
       "      <th>review</th>\n",
       "      <th>source</th>\n",
       "      <th>lang</th>\n",
       "      <th>review_transl</th>\n",
       "    </tr>\n",
       "  </thead>\n",
       "  <tbody>\n",
       "    <tr>\n",
       "      <th>0</th>\n",
       "      <td>6</td>\n",
       "      <td>Casillero del Diablo Chardonnay (Reserva)</td>\n",
       "      <td>2024-02-03</td>\n",
       "      <td>cu 1.6 구매, 소비뇽블랑같은 맛</td>\n",
       "      <td>vivino</td>\n",
       "      <td>ko</td>\n",
       "      <td>Purchased cu 1.6, tastes like sauvignon blanc</td>\n",
       "    </tr>\n",
       "    <tr>\n",
       "      <th>1</th>\n",
       "      <td>6</td>\n",
       "      <td>Casillero del Diablo Chardonnay (Reserva)</td>\n",
       "      <td>2024-02-02</td>\n",
       "      <td>Chardonnay da onipresente Concha y Toro. É agr...</td>\n",
       "      <td>vivino</td>\n",
       "      <td>pt</td>\n",
       "      <td>Chardonnay from the ubiquitous Concha y Toro. ...</td>\n",
       "    </tr>\n",
       "    <tr>\n",
       "      <th>2</th>\n",
       "      <td>6</td>\n",
       "      <td>Casillero del Diablo Chardonnay (Reserva)</td>\n",
       "      <td>2024-01-29</td>\n",
       "      <td>Aroma de pêssego bem presente!! Harmoniza bem ...</td>\n",
       "      <td>vivino</td>\n",
       "      <td>pt</td>\n",
       "      <td>Peach aroma very present!! Pairs well with sea...</td>\n",
       "    </tr>\n",
       "    <tr>\n",
       "      <th>3</th>\n",
       "      <td>6</td>\n",
       "      <td>Casillero del Diablo Chardonnay (Reserva)</td>\n",
       "      <td>2024-01-26</td>\n",
       "      <td>It's a pretty rough Chardonnay, unbalanced and...</td>\n",
       "      <td>vivino</td>\n",
       "      <td>en</td>\n",
       "      <td>It's a pretty rough Chardonnay, unbalanced and...</td>\n",
       "    </tr>\n",
       "    <tr>\n",
       "      <th>4</th>\n",
       "      <td>6</td>\n",
       "      <td>Casillero del Diablo Chardonnay (Reserva)</td>\n",
       "      <td>2024-01-01</td>\n",
       "      <td>Bom custo beneficio</td>\n",
       "      <td>vivino</td>\n",
       "      <td>en</td>\n",
       "      <td>Good cost-benefit</td>\n",
       "    </tr>\n",
       "  </tbody>\n",
       "</table>\n",
       "</div>"
      ],
      "text/plain": [
       "   wid                                       wine       date  \\\n",
       "0    6  Casillero del Diablo Chardonnay (Reserva) 2024-02-03   \n",
       "1    6  Casillero del Diablo Chardonnay (Reserva) 2024-02-02   \n",
       "2    6  Casillero del Diablo Chardonnay (Reserva) 2024-01-29   \n",
       "3    6  Casillero del Diablo Chardonnay (Reserva) 2024-01-26   \n",
       "4    6  Casillero del Diablo Chardonnay (Reserva) 2024-01-01   \n",
       "\n",
       "                                              review  source lang  \\\n",
       "0                               cu 1.6 구매, 소비뇽블랑같은 맛  vivino   ko   \n",
       "1  Chardonnay da onipresente Concha y Toro. É agr...  vivino   pt   \n",
       "2  Aroma de pêssego bem presente!! Harmoniza bem ...  vivino   pt   \n",
       "3  It's a pretty rough Chardonnay, unbalanced and...  vivino   en   \n",
       "4                                Bom custo beneficio  vivino   en   \n",
       "\n",
       "                                       review_transl  \n",
       "0      Purchased cu 1.6, tastes like sauvignon blanc  \n",
       "1  Chardonnay from the ubiquitous Concha y Toro. ...  \n",
       "2  Peach aroma very present!! Pairs well with sea...  \n",
       "3  It's a pretty rough Chardonnay, unbalanced and...  \n",
       "4                                  Good cost-benefit  "
      ]
     },
     "execution_count": 48,
     "metadata": {},
     "output_type": "execute_result"
    }
   ],
   "source": [
    "df_reviews = df_reviews.merge(pd.DataFrame(tmp_data), left_index=True, right_index=True)\n",
    "df_reviews.head()"
   ]
  },
  {
   "cell_type": "markdown",
   "id": "25f7621f-96fa-4ffb-85e3-88f1053a85b5",
   "metadata": {},
   "source": [
    "**save final data**"
   ]
  },
  {
   "cell_type": "code",
   "execution_count": 58,
   "id": "b1204894-12cc-4b17-aec3-14198af29d2b",
   "metadata": {},
   "outputs": [
    {
     "name": "stdout",
     "output_type": "stream",
     "text": [
      "ERROR: data/wine_reviews_240207.csv already exists\n"
     ]
    }
   ],
   "source": [
    "from datetime import datetime\n",
    "d = datetime.today().strftime('%y%m%d')\n",
    "save_reviews(df_reviews, f'wine_reviews_{d}.csv')"
   ]
  },
  {
   "cell_type": "code",
   "execution_count": null,
   "id": "3111be6c-07fc-492a-a28a-5d37aeed5951",
   "metadata": {},
   "outputs": [],
   "source": []
  }
 ],
 "metadata": {
  "kernelspec": {
   "display_name": "scrap2",
   "language": "python",
   "name": "scrap2"
  },
  "language_info": {
   "codemirror_mode": {
    "name": "ipython",
    "version": 3
   },
   "file_extension": ".py",
   "mimetype": "text/x-python",
   "name": "python",
   "nbconvert_exporter": "python",
   "pygments_lexer": "ipython3",
   "version": "3.9.18"
  }
 },
 "nbformat": 4,
 "nbformat_minor": 5
}
