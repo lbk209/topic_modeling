{
 "cells": [
  {
   "cell_type": "code",
   "execution_count": 8,
   "id": "2fc3dc21-a8ca-410e-92a6-193b4b0321d5",
   "metadata": {},
   "outputs": [],
   "source": [
    "from vivino_community_reviews import vivino_reviews, concat_reviews\n",
    "\n",
    "import pandas as pd"
   ]
  },
  {
   "cell_type": "code",
   "execution_count": 2,
   "id": "51bfb2ea-38ff-4fc2-88af-7ea8171993dd",
   "metadata": {},
   "outputs": [],
   "source": [
    "locator_more = \"//button[@tabindex='0']\"\n",
    "locator_recent = '//*[@data-testid=\"baseModalBackdrop\"]/div[2]/div[2]/div[2]/div/a[1]'\n",
    "\n",
    "locator_review = \"communityReview__reviewText--2bfLj\"\n",
    "locator_date = \"anchor_anchor__m8Qi- reviewAnchor__anchor--2NKFw reviewDate__reviewDate--49vpM undefined\"\n",
    "\n",
    "kwargs = {\n",
    "    'loc1': locator_more,\n",
    "    'loc2': locator_recent, \n",
    "    'loc3': locator_review,\n",
    "    'loc4': locator_date\n",
    "}"
   ]
  },
  {
   "cell_type": "code",
   "execution_count": 3,
   "id": "39f95682-cc61-428a-8e82-e8f1a16f68d9",
   "metadata": {},
   "outputs": [],
   "source": [
    "kwargs.update({\n",
    "    'end_date': '20220101',\n",
    "    #'max_scr': 10, 'time_scr': 2, 'check_idx': 4,\n",
    "})"
   ]
  },
  {
   "cell_type": "code",
   "execution_count": 4,
   "id": "7ed12cd7-5f27-45c2-84b8-574e4db856dc",
   "metadata": {},
   "outputs": [],
   "source": [
    "wines = list()\n",
    "wines.append([\n",
    "    'Casillero del Diablo Cabernet Sauvignon (Reserva)',\n",
    "    'https://www.vivino.com/casillero-del-diablo-cabernet-sauvignon-reserva-central-valley/w/1135067?ref=nav-search#all_reviews'\n",
    "])\n",
    "wines.append([\n",
    "    'Yellow Tail Cabernet Sauvignon',\n",
    "    'https://www.vivino.com/yellow-tail-cabernet-sauvignon/w/2549?ref=nav-search#all_reviews'\n",
    "])"
   ]
  },
  {
   "cell_type": "code",
   "execution_count": 9,
   "id": "45e267b4-b7be-4b90-a57c-135c7d015236",
   "metadata": {},
   "outputs": [
    {
     "name": "stdout",
     "output_type": "stream",
     "text": [
      "ERROR) Check locator: //button[@tabindex='0']\n"
     ]
    },
    {
     "ename": "TypeError",
     "evalue": "'NoneType' object does not support item assignment",
     "output_type": "error",
     "traceback": [
      "\u001b[0;31m---------------------------------------------------------------------------\u001b[0m",
      "\u001b[0;31mTypeError\u001b[0m                                 Traceback (most recent call last)",
      "Cell \u001b[0;32mIn[9], line 6\u001b[0m\n\u001b[1;32m      4\u001b[0m \u001b[38;5;28;01mfor\u001b[39;00m wine_name, wine_url \u001b[38;5;129;01min\u001b[39;00m wines:\n\u001b[1;32m      5\u001b[0m     df \u001b[38;5;241m=\u001b[39m vivino_reviews(wine_url, wine_name, \u001b[38;5;241m*\u001b[39m\u001b[38;5;241m*\u001b[39mkwargs)\n\u001b[0;32m----> 6\u001b[0m     df_reviews \u001b[38;5;241m=\u001b[39m \u001b[43mconcat_reviews\u001b[49m\u001b[43m(\u001b[49m\u001b[43mdf_reviews\u001b[49m\u001b[43m,\u001b[49m\u001b[43m \u001b[49m\u001b[43mdf\u001b[49m\u001b[43m,\u001b[49m\u001b[43m \u001b[49m\u001b[43mwine_name\u001b[49m\u001b[43m,\u001b[49m\u001b[43m \u001b[49m\u001b[43mcol_rev\u001b[49m\u001b[43m,\u001b[49m\u001b[43m \u001b[49m\u001b[43msave\u001b[49m\u001b[38;5;241;43m=\u001b[39;49m\u001b[38;5;28;43;01mTrue\u001b[39;49;00m\u001b[43m)\u001b[49m\n",
      "File \u001b[0;32m~/works/scrap2/vivino_community_reviews.py:154\u001b[0m, in \u001b[0;36mconcat_reviews\u001b[0;34m(df_reviews, df, wine_name, col_rev, save)\u001b[0m\n\u001b[1;32m    152\u001b[0m \u001b[38;5;28;01mdef\u001b[39;00m \u001b[38;5;21mconcat_reviews\u001b[39m(df_reviews, df, wine_name, col_rev, save\u001b[38;5;241m=\u001b[39m\u001b[38;5;28;01mTrue\u001b[39;00m):\n\u001b[1;32m    153\u001b[0m     wine_id \u001b[38;5;241m=\u001b[39m generate_wine_id(df_reviews)\n\u001b[0;32m--> 154\u001b[0m     \u001b[43mdf\u001b[49m\u001b[43m[\u001b[49m\u001b[43m[\u001b[49m\u001b[38;5;124;43m'\u001b[39;49m\u001b[38;5;124;43mid\u001b[39;49m\u001b[38;5;124;43m'\u001b[39;49m\u001b[43m,\u001b[49m\u001b[43m \u001b[49m\u001b[38;5;124;43m'\u001b[39;49m\u001b[38;5;124;43mwine\u001b[39;49m\u001b[38;5;124;43m'\u001b[39;49m\u001b[43m]\u001b[49m\u001b[43m]\u001b[49m \u001b[38;5;241m=\u001b[39m [wine_id, wine_name]\n\u001b[1;32m    155\u001b[0m     df \u001b[38;5;241m=\u001b[39m df\u001b[38;5;241m.\u001b[39mreindex(columns\u001b[38;5;241m=\u001b[39mcol_rev)\n\u001b[1;32m    156\u001b[0m     \u001b[38;5;28;01mif\u001b[39;00m save:\n",
      "\u001b[0;31mTypeError\u001b[0m: 'NoneType' object does not support item assignment"
     ]
    }
   ],
   "source": [
    "df_reviews = pd.DataFrame()\n",
    "col_rev = ['id', 'wine', 'date', 'review']\n",
    "\n",
    "for wine_name, wine_url in wines:\n",
    "    df = vivino_reviews(wine_url, wine_name, **kwargs)\n",
    "    df_reviews = concat_reviews(df_reviews, df, wine_name, col_rev, save=True)"
   ]
  },
  {
   "cell_type": "code",
   "execution_count": 216,
   "id": "d1c707b6-a28d-46b6-a562-660a0090dd24",
   "metadata": {},
   "outputs": [
    {
     "name": "stdout",
     "output_type": "stream",
     "text": [
      "  adding: wine_0.csv (deflated 67%)\n",
      "  adding: wine_1.csv (deflated 57%)\n"
     ]
    }
   ],
   "source": [
    "!zip wine_reviews.zip wine*csv"
   ]
  },
  {
   "cell_type": "code",
   "execution_count": null,
   "id": "dba31df3-d210-4613-9075-e7c852f7d231",
   "metadata": {},
   "outputs": [],
   "source": []
  }
 ],
 "metadata": {
  "kernelspec": {
   "display_name": "scrap2",
   "language": "python",
   "name": "scrap2"
  },
  "language_info": {
   "codemirror_mode": {
    "name": "ipython",
    "version": 3
   },
   "file_extension": ".py",
   "mimetype": "text/x-python",
   "name": "python",
   "nbconvert_exporter": "python",
   "pygments_lexer": "ipython3",
   "version": "3.9.18"
  }
 },
 "nbformat": 4,
 "nbformat_minor": 5
}
