{
 "cells": [
  {
   "cell_type": "code",
   "execution_count": 1,
   "id": "48b78785-892f-420c-b7d3-4db00fd3c5ce",
   "metadata": {},
   "outputs": [],
   "source": [
    "from vivino_community_reviews import save_reviews, load_reviews"
   ]
  },
  {
   "cell_type": "code",
   "execution_count": 2,
   "id": "daebf455-6907-4c2b-8a65-d465954350bb",
   "metadata": {},
   "outputs": [],
   "source": [
    "import os\n",
    "import pandas as pd\n",
    "\n",
    "def read_csv(file, path_data, **kwargs):\n",
    "    \"\"\"\n",
    "    kwargs: keyword args for pd.read_csv\n",
    "    \"\"\"\n",
    "    files = [x for x in os.listdir(path_data) if x.startswith(file)]\n",
    "\n",
    "    df_reviews = pd.DataFrame()\n",
    "    for f in files:\n",
    "        df = pd.read_csv(f'{path_data}/{f}', **kwargs)\n",
    "        df_reviews = pd.concat([df_reviews, df])\n",
    "\n",
    "    return df_reviews.reset_index(drop=True)"
   ]
  },
  {
   "cell_type": "markdown",
   "id": "3453086d-7ea2-4ce6-939d-c5e07cd25e2a",
   "metadata": {},
   "source": [
    "# Existing"
   ]
  },
  {
   "cell_type": "code",
   "execution_count": 3,
   "id": "084738b8-29ec-4bcb-a762-820de3bb7ac6",
   "metadata": {},
   "outputs": [
    {
     "data": {
      "text/plain": [
       "wid  wine                                                \n",
       "4    Aguirre Dos Copas Cabernet Sauvignon                      7\n",
       "0    Casillero del Diablo Cabernet Sauvignon (Reserva)       472\n",
       "6    Casillero del Diablo Chardonnay (Reserva)               122\n",
       "11   Cono Sur Bicicleta Reserva Unoaked Chardonnay           109\n",
       "9    Frontera Cabernet Sauvignon                             207\n",
       "7    Kendall-Jackson Vintner's Reserve Cabernet Sauvignon    121\n",
       "10   Long Barn Chardonnay                                    142\n",
       "18   Montes Montes Alpha Cabernet Sauvignon                  220\n",
       "2    Roche Mazet Cuvée Spéciale Cabernet Sauvignon            61\n",
       "14   Roche Mazet Cuvée Spéciale Chardonnay                    31\n",
       "16   San Pedro 1865 Selected Vineyards Cabernet Sauvignon     41\n",
       "17   San Pedro 1865 Single Vineyard Cabernet Sauvignon        42\n",
       "3    San Pedro Gato Negro Cabernet Sauvignon                 879\n",
       "13   San Pedro Gato Negro Chardonnay                         230\n",
       "5    The 7th Generation - G7 Cabernet Sauvignon               26\n",
       "12   The 7th Generation - G7 Chardonnay                       42\n",
       "8    Viña Santa Helena Reservado Cabernet Sauvignon'          51\n",
       "1    Yellow Tail Cabernet Sauvignon                          136\n",
       "15   Yellow Tail Chardonnay                                  122\n",
       "Name: review_transl, dtype: int64"
      ]
     },
     "execution_count": 3,
     "metadata": {},
     "output_type": "execute_result"
    }
   ],
   "source": [
    "file = 'wine_reviews_'\n",
    "df_reviews = read_csv(file, 'data')\n",
    "df_reviews.groupby(['wid', 'wine']).review_transl.count().sort_index(level=1)"
   ]
  },
  {
   "cell_type": "markdown",
   "id": "75b09696-2a65-463b-a4c4-76f1a194afd4",
   "metadata": {},
   "source": [
    "# Scraping"
   ]
  },
  {
   "cell_type": "code",
   "execution_count": 4,
   "id": "2fc3dc21-a8ca-410e-92a6-193b4b0321d5",
   "metadata": {},
   "outputs": [],
   "source": [
    "from vivino_community_reviews import vivino_reviews, concat_reviews\n",
    "\n",
    "import pandas as pd"
   ]
  },
  {
   "cell_type": "code",
   "execution_count": 5,
   "id": "51bfb2ea-38ff-4fc2-88af-7ea8171993dd",
   "metadata": {},
   "outputs": [],
   "source": [
    "locator_ratings = \"//a[@href='#all_reviews']\"\n",
    "locator_more = \"//button[@tabindex='0']\"\n",
    "locator_recent = '//*[@data-testid=\"baseModalBackdrop\"]/div[2]/div[2]/div[2]/div/a[1]'\n",
    "\n",
    "locator_review = \"communityReview__reviewText--2bfLj\"\n",
    "locator_date = \"anchor_anchor__m8Qi- reviewAnchor__anchor--2NKFw reviewDate__reviewDate--49vpM undefined\"\n",
    "\n",
    "kwargs = {\n",
    "    'loc1': locator_ratings,\n",
    "    'loc2': locator_more,\n",
    "    'loc3': locator_recent, \n",
    "    'loc4': locator_review,\n",
    "    'loc5': locator_date\n",
    "}"
   ]
  },
  {
   "cell_type": "code",
   "execution_count": 6,
   "id": "39f95682-cc61-428a-8e82-e8f1a16f68d9",
   "metadata": {},
   "outputs": [],
   "source": [
    "kwargs.update({\n",
    "    'end_date': '20220101',\n",
    "    'source': 'vivino',\n",
    "    #'max_scr': 10, 'time_scr': 2, 'check_idx': 4\n",
    "})"
   ]
  },
  {
   "cell_type": "markdown",
   "id": "95f96412-7b0e-4342-a41f-f0644a23988b",
   "metadata": {},
   "source": [
    "## wine list"
   ]
  },
  {
   "cell_type": "code",
   "execution_count": 6,
   "id": "ca3c00fa-af34-48c3-aabc-4c5576395bc8",
   "metadata": {},
   "outputs": [],
   "source": [
    "w = \"\"\"\n",
    "Kendall-Jackson Vintner's Reserve Cabernet Sauvignon\n",
    "https://www.vivino.com/kendall-jackson-vintner-s-reserve-cabernet-sauvignon/w/2140?ref=nav-search#all_reviews\n",
    "Viña Santa Helena Reservado Cabernet Sauvignon'\n",
    "https://www.vivino.com/vina-santa-helena-central-valley-reservado-cabernet-sauvignon/w/1134409?ref=nav-search#all_reviews\n",
    "Frontera Cabernet Sauvignon\n",
    "https://www.vivino.com/cl-frontera-cabernet-sauvignon/w/1135072?ref=nav-search#all_reviews\n",
    "Long Barn Chardonnay\n",
    "https://www.vivino.com/long-barn-chardonnay/w/3980079?ref=nav-search#all_reviews\n",
    "Cono Sur Bicicleta Reserva Unoaked Chardonnay\n",
    "https://www.vivino.com/cono-sur-santiago-bicicleta-reserva-unoaked-chardonnay-central-valley/w/6467244?ref=nav-search#all_reviews\n",
    "The 7th Generation - G7 Chardonnay\n",
    "https://www.vivino.com/the-7th-generation-chardonnay/w/1577653#all_reviews\n",
    "San Pedro Gato Negro Chardonnay\n",
    "https://www.vivino.com/san-pedro-central-valley-vspt-gato-negro-chardonnay/w/5956#all_reviews\n",
    "Roche Mazet Cuvée Spéciale Chardonnay\n",
    "https://www.vivino.com/fr-roche-mazet-cuvee-speciale-chardonnay/w/2332011?ref=nav-search#all_reviews\n",
    "Yellow Tail Chardonnay\n",
    "https://www.vivino.com/yellow-tail-chardonnay/w/2546?ref=nav-search#all_reviews\n",
    "San Pedro 1865 Selected Vineyards Cabernet Sauvignon\n",
    "https://www.vivino.com/san-pedro-central-valley-vspt-eighteen-sixtyfive-selected-vineyards-cabernet-sauvignon/w/6158938?ref=nav-search#all_reviews\n",
    "San Pedro 1865 Single Vineyard Cabernet Sauvignon\n",
    "https://www.vivino.com/san-pedro-central-valley-vspt-eighteen-sixtyfive-single-vineyard-cabernet-sauvignon/w/5900?ref=nav-search#all_reviews\n",
    "Montes Montes Alpha Cabernet Sauvignon\n",
    "https://www.vivino.com/montes-casablanca-valley-montes-alpha-cabernet-sauvignon/w/71294?ref=nav-search#all_reviews\n",
    "\"\"\""
   ]
  },
  {
   "cell_type": "code",
   "execution_count": 7,
   "id": "bdf6b573-ec66-40c4-8549-ce0e07a0e53f",
   "metadata": {},
   "outputs": [],
   "source": [
    "w = \"\"\"\n",
    "Montes Montes Alpha Merlot\n",
    "https://www.vivino.com/montes-casablanca-valley-montes-alpha-merlot/w/71324?ref=nav-search\n",
    "Montes Montes Alpha Syrah\n",
    "https://www.vivino.com/montes-casablanca-valley-montes-alpha-syrah-colchagua-valley/w/10479900?ref=nav-search\n",
    "San Pedro 1865 Selected Vineyards Syrah\n",
    "https://www.vivino.com/san-pedro-central-valley-vspt-eighteen-sixtyfive-selected-vineyards-syrah-cachapoal/w/6371004\n",
    "San Pedro 1865 Single Vineyard Malbec\n",
    "https://www.vivino.com/san-pedro-central-valley-vspt-eighteen-sixtyfive-single-vineyard-malbec/w/1227330\n",
    "San Pedro 1865 Single Vineyard Syrah\n",
    "https://www.vivino.com/san-pedro-central-valley-vspt-eighteen-sixtyfive-single-vineyard-syrah/w/1226644\n",
    "Mollydooker The Boxer Shiraz\n",
    "https://www.vivino.com/mollydooker-winery-the-boxer-shiraz/w/950?ref=nav-search\n",
    "William Hill North Coast Cabernet Sauvignon\n",
    "https://www.vivino.com/william-hill-north-coast-cabernet-sauvignon-north-coast/w/2198238\n",
    "William Hill North Coast Chardonnay\n",
    "https://www.vivino.com/william-hill-north-coast-chardonnay-north-coast-white-wine-v-ihqmt/w/4609184?ref=nav-search\n",
    "Kendall-Jackson Vintner's Reserve Chardonnay\n",
    "https://www.vivino.com/kendall-jackson-vintner-s-reserve-chardonnay/w/2132?ref=nav-search\n",
    "Bread & Butter Pinot Noir\n",
    "https://www.vivino.com/bread-and-butter-pinot-noir/w/1724151?ref=nav-search\n",
    "Bread & Butter Cabernet Sauvignon\n",
    "https://www.vivino.com/bread-and-butter-cabernet-sauvignon-california-red-wine/w/6218579?ref=nav-search\n",
    "\"\"\""
   ]
  },
  {
   "cell_type": "code",
   "execution_count": null,
   "id": "d40a6e1d-7f93-4a5e-bfdc-fb6a1982edff",
   "metadata": {},
   "outputs": [],
   "source": []
  },
  {
   "cell_type": "code",
   "execution_count": 8,
   "id": "1c735f02-a23a-4908-9b3f-87b3486266bf",
   "metadata": {},
   "outputs": [
    {
     "data": {
      "text/plain": [
       "19"
      ]
     },
     "execution_count": 8,
     "metadata": {},
     "output_type": "execute_result"
    }
   ],
   "source": [
    "w = w.strip('\\n').split('\\n')\n",
    "wines = {w[i]:w[i+1] for i in range(0, len(w), 2)}\n",
    "\n",
    "id_start = df_reviews.wid.max() + 1\n",
    "id_start"
   ]
  },
  {
   "cell_type": "code",
   "execution_count": 9,
   "id": "b78127fe-3d9c-47e5-bff7-65a8b6183316",
   "metadata": {},
   "outputs": [],
   "source": [
    "# testing\n",
    "idx = 2\n",
    "#wines = {x[0]:x[1] for i,x in enumerate(wines.items()) if i >= idx}"
   ]
  },
  {
   "cell_type": "markdown",
   "id": "560396fb-1da8-49e6-8b5c-c8a9c79210db",
   "metadata": {},
   "source": [
    "**load if the reviewsof the wines not translated yet**"
   ]
  },
  {
   "cell_type": "code",
   "execution_count": 7,
   "id": "f89a4ef6-5943-4090-a191-1e8c2ea0d546",
   "metadata": {},
   "outputs": [
    {
     "name": "stdout",
     "output_type": "stream",
     "text": [
      "data/wine_6.csv loaded.\n"
     ]
    },
    {
     "data": {
      "text/plain": [
       "wid\n",
       "6    [Casillero del Diablo Chardonnay (Reserva)]\n",
       "Name: wine, dtype: object"
      ]
     },
     "execution_count": 7,
     "metadata": {},
     "output_type": "execute_result"
    }
   ],
   "source": [
    "#files = []\n",
    "files = ['wine_6']\n",
    "path = 'data'\n",
    "\n",
    "df_reviews = pd.DataFrame()\n",
    "for f in files:\n",
    "    df = load_reviews(f'{f}.csv', path=path)\n",
    "    df_reviews = pd.concat([df_reviews, df])\n",
    "\n",
    "# check duplicate wid\n",
    "df_reviews.groupby('wid').wine.unique()"
   ]
  },
  {
   "cell_type": "markdown",
   "id": "ae345a76-ebc9-4f1f-b784-4efeb8ffc82d",
   "metadata": {},
   "source": [
    "**reset dataframe if no reviews**"
   ]
  },
  {
   "cell_type": "code",
   "execution_count": 10,
   "id": "a7cdf2d7-2c0d-44cc-8a2f-ff889bacb3ba",
   "metadata": {},
   "outputs": [],
   "source": [
    "df_reviews = pd.DataFrame()"
   ]
  },
  {
   "cell_type": "code",
   "execution_count": 13,
   "id": "662d0122-b7f8-40d8-b3d9-e58df3e84ea2",
   "metadata": {},
   "outputs": [],
   "source": [
    "# run if any wine failed\n",
    "#wines = wines_failed"
   ]
  },
  {
   "cell_type": "code",
   "execution_count": 16,
   "id": "45e267b4-b7be-4b90-a57c-135c7d015236",
   "metadata": {},
   "outputs": [
    {
     "name": "stderr",
     "output_type": "stream",
     "text": [
      "53it [00:19,  2.77it/s]\n"
     ]
    },
    {
     "name": "stdout",
     "output_type": "stream",
     "text": [
      "53 reviews collected.\n",
      "data/wine_25.csv saved.\n"
     ]
    },
    {
     "name": "stderr",
     "output_type": "stream",
     "text": [
      "53it [00:34,  1.53it/s]\n"
     ]
    },
    {
     "name": "stdout",
     "output_type": "stream",
     "text": [
      "53 reviews collected.\n",
      "data/wine_26.csv saved.\n"
     ]
    },
    {
     "name": "stderr",
     "output_type": "stream",
     "text": [
      "563it [15:40,  1.67s/it]\n"
     ]
    },
    {
     "name": "stdout",
     "output_type": "stream",
     "text": [
      "563 reviews collected.\n",
      "data/wine_27.csv saved.\n"
     ]
    },
    {
     "name": "stderr",
     "output_type": "stream",
     "text": [
      "1253it [1:01:56,  2.97s/it]\n"
     ]
    },
    {
     "name": "stdout",
     "output_type": "stream",
     "text": [
      "1253 reviews collected.\n",
      "data/wine_28.csv saved.\n"
     ]
    },
    {
     "name": "stderr",
     "output_type": "stream",
     "text": [
      "33it [00:31,  1.05it/s]"
     ]
    },
    {
     "name": "stdout",
     "output_type": "stream",
     "text": [
      "WARNING: No additional reviews after 10 reloading.\n",
      "data/wine_29.csv saved.\n",
      "num of failed: 0\n"
     ]
    },
    {
     "name": "stderr",
     "output_type": "stream",
     "text": [
      "\n"
     ]
    }
   ],
   "source": [
    "col_rev = ['wid', 'wine', 'date', 'review', 'source']\n",
    "path = 'data'\n",
    "wines_failed = dict()\n",
    "\n",
    "#for wine_name, wine_url in wines:\n",
    "for wine_name, wine_url in wines.items():\n",
    "    try:\n",
    "        df = vivino_reviews(wine_url, wine_name, **kwargs)\n",
    "        df_reviews = concat_reviews(df_reviews, df, wine_name, col_rev, path=path, id_start=id_start)\n",
    "    except:\n",
    "        print(f'ERROR: check {wine_name}')\n",
    "        wines_failed.update({wine_name: wine_url})\n",
    "\n",
    "print(f'num of failed: {len(wines_failed)}')"
   ]
  },
  {
   "cell_type": "code",
   "execution_count": 18,
   "id": "46b107de-ba0e-4fdb-a7d4-19757dfc00dd",
   "metadata": {},
   "outputs": [
    {
     "data": {
      "text/html": [
       "<div>\n",
       "<style scoped>\n",
       "    .dataframe tbody tr th:only-of-type {\n",
       "        vertical-align: middle;\n",
       "    }\n",
       "\n",
       "    .dataframe tbody tr th {\n",
       "        vertical-align: top;\n",
       "    }\n",
       "\n",
       "    .dataframe thead th {\n",
       "        text-align: right;\n",
       "    }\n",
       "</style>\n",
       "<table border=\"1\" class=\"dataframe\">\n",
       "  <thead>\n",
       "    <tr style=\"text-align: right;\">\n",
       "      <th></th>\n",
       "      <th>wid</th>\n",
       "      <th>wine</th>\n",
       "      <th>date</th>\n",
       "      <th>review</th>\n",
       "      <th>source</th>\n",
       "    </tr>\n",
       "  </thead>\n",
       "  <tbody>\n",
       "    <tr>\n",
       "      <th>0</th>\n",
       "      <td>19</td>\n",
       "      <td>Montes Montes Alpha Merlot</td>\n",
       "      <td>2024-02-05</td>\n",
       "      <td>Enjoyed it with chicken tikka masala as its so...</td>\n",
       "      <td>vivino</td>\n",
       "    </tr>\n",
       "    <tr>\n",
       "      <th>1</th>\n",
       "      <td>19</td>\n",
       "      <td>Montes Montes Alpha Merlot</td>\n",
       "      <td>2023-12-31</td>\n",
       "      <td>Vintage 2021 very smooth, Well balanced with v...</td>\n",
       "      <td>vivino</td>\n",
       "    </tr>\n",
       "    <tr>\n",
       "      <th>2</th>\n",
       "      <td>19</td>\n",
       "      <td>Montes Montes Alpha Merlot</td>\n",
       "      <td>2023-11-26</td>\n",
       "      <td>oak plum tobacco Slightly bitter Worth of pric...</td>\n",
       "      <td>vivino</td>\n",
       "    </tr>\n",
       "    <tr>\n",
       "      <th>3</th>\n",
       "      <td>19</td>\n",
       "      <td>Montes Montes Alpha Merlot</td>\n",
       "      <td>2023-11-24</td>\n",
       "      <td>.</td>\n",
       "      <td>vivino</td>\n",
       "    </tr>\n",
       "    <tr>\n",
       "      <th>4</th>\n",
       "      <td>19</td>\n",
       "      <td>Montes Montes Alpha Merlot</td>\n",
       "      <td>2023-11-23</td>\n",
       "      <td>easy to drink table top merlot. it does not pr...</td>\n",
       "      <td>vivino</td>\n",
       "    </tr>\n",
       "    <tr>\n",
       "      <th>...</th>\n",
       "      <td>...</td>\n",
       "      <td>...</td>\n",
       "      <td>...</td>\n",
       "      <td>...</td>\n",
       "      <td>...</td>\n",
       "    </tr>\n",
       "    <tr>\n",
       "      <th>28</th>\n",
       "      <td>29</td>\n",
       "      <td>Bread &amp; Butter Cabernet Sauvignon</td>\n",
       "      <td>2023-12-22</td>\n",
       "      <td>Ok but oakey</td>\n",
       "      <td>vivino</td>\n",
       "    </tr>\n",
       "    <tr>\n",
       "      <th>29</th>\n",
       "      <td>29</td>\n",
       "      <td>Bread &amp; Butter Cabernet Sauvignon</td>\n",
       "      <td>2023-12-21</td>\n",
       "      <td>Wedding wine 🩷</td>\n",
       "      <td>vivino</td>\n",
       "    </tr>\n",
       "    <tr>\n",
       "      <th>30</th>\n",
       "      <td>29</td>\n",
       "      <td>Bread &amp; Butter Cabernet Sauvignon</td>\n",
       "      <td>2021-08-30</td>\n",
       "      <td></td>\n",
       "      <td>vivino</td>\n",
       "    </tr>\n",
       "    <tr>\n",
       "      <th>31</th>\n",
       "      <td>29</td>\n",
       "      <td>Bread &amp; Butter Cabernet Sauvignon</td>\n",
       "      <td>2022-03-07</td>\n",
       "      <td>Mielzynski. Lovely cab sav from Napa. Very fru...</td>\n",
       "      <td>vivino</td>\n",
       "    </tr>\n",
       "    <tr>\n",
       "      <th>32</th>\n",
       "      <td>29</td>\n",
       "      <td>Bread &amp; Butter Cabernet Sauvignon</td>\n",
       "      <td>2023-01-08</td>\n",
       "      <td>This remains one of the best value wines I kno...</td>\n",
       "      <td>vivino</td>\n",
       "    </tr>\n",
       "  </tbody>\n",
       "</table>\n",
       "<p>2423 rows × 5 columns</p>\n",
       "</div>"
      ],
      "text/plain": [
       "    wid                               wine       date  \\\n",
       "0    19         Montes Montes Alpha Merlot 2024-02-05   \n",
       "1    19         Montes Montes Alpha Merlot 2023-12-31   \n",
       "2    19         Montes Montes Alpha Merlot 2023-11-26   \n",
       "3    19         Montes Montes Alpha Merlot 2023-11-24   \n",
       "4    19         Montes Montes Alpha Merlot 2023-11-23   \n",
       "..  ...                                ...        ...   \n",
       "28   29  Bread & Butter Cabernet Sauvignon 2023-12-22   \n",
       "29   29  Bread & Butter Cabernet Sauvignon 2023-12-21   \n",
       "30   29  Bread & Butter Cabernet Sauvignon 2021-08-30   \n",
       "31   29  Bread & Butter Cabernet Sauvignon 2022-03-07   \n",
       "32   29  Bread & Butter Cabernet Sauvignon 2023-01-08   \n",
       "\n",
       "                                               review  source  \n",
       "0   Enjoyed it with chicken tikka masala as its so...  vivino  \n",
       "1   Vintage 2021 very smooth, Well balanced with v...  vivino  \n",
       "2   oak plum tobacco Slightly bitter Worth of pric...  vivino  \n",
       "3                                                   .  vivino  \n",
       "4   easy to drink table top merlot. it does not pr...  vivino  \n",
       "..                                                ...     ...  \n",
       "28                                       Ok but oakey  vivino  \n",
       "29                                     Wedding wine 🩷  vivino  \n",
       "30                                                     vivino  \n",
       "31  Mielzynski. Lovely cab sav from Napa. Very fru...  vivino  \n",
       "32  This remains one of the best value wines I kno...  vivino  \n",
       "\n",
       "[2423 rows x 5 columns]"
      ]
     },
     "execution_count": 18,
     "metadata": {},
     "output_type": "execute_result"
    }
   ],
   "source": [
    "df_reviews"
   ]
  },
  {
   "cell_type": "markdown",
   "id": "fd1521a7-3988-4098-b430-c5e09fc6a4a2",
   "metadata": {},
   "source": [
    "**temp saving before translation**"
   ]
  },
  {
   "cell_type": "code",
   "execution_count": 20,
   "id": "aa6aef77-4bf1-4b9d-8400-f17f380f9d88",
   "metadata": {},
   "outputs": [
    {
     "data": {
      "text/plain": [
       "wid  wine                                        \n",
       "29   Bread & Butter Cabernet Sauvignon                 33\n",
       "28   Bread & Butter Pinot Noir                       1253\n",
       "27   Kendall-Jackson Vintner's Reserve Chardonnay     563\n",
       "24   Mollydooker The Boxer Shiraz                     283\n",
       "19   Montes Montes Alpha Merlot                        63\n",
       "20   Montes Montes Alpha Syrah                         83\n",
       "21   San Pedro 1865 Selected Vineyards Syrah           13\n",
       "22   San Pedro 1865 Single Vineyard Malbec             13\n",
       "23   San Pedro 1865 Single Vineyard Syrah              13\n",
       "25   William Hill North Coast Cabernet Sauvignon       53\n",
       "26   William Hill North Coast Chardonnay               53\n",
       "Name: review, dtype: int64"
      ]
     },
     "execution_count": 20,
     "metadata": {},
     "output_type": "execute_result"
    }
   ],
   "source": [
    "df_reviews.groupby(['wid', 'wine']).review.count().sort_index(level=1)"
   ]
  },
  {
   "cell_type": "code",
   "execution_count": 22,
   "id": "1a4a8af7-781f-4f93-a279-db041f14f0d5",
   "metadata": {},
   "outputs": [
    {
     "name": "stdout",
     "output_type": "stream",
     "text": [
      "data/wine_reviews_tmp.csv saved.\n"
     ]
    }
   ],
   "source": [
    "save_reviews(df_reviews, 'wine_reviews_tmp.csv', 'data')"
   ]
  },
  {
   "cell_type": "markdown",
   "id": "d9f7f247-0751-46e4-bf66-48409773bb97",
   "metadata": {},
   "source": [
    "# Review data"
   ]
  },
  {
   "cell_type": "code",
   "execution_count": 14,
   "id": "af270968-963a-4a1a-a577-fb8187eb85d9",
   "metadata": {},
   "outputs": [
    {
     "name": "stdout",
     "output_type": "stream",
     "text": [
      "data/wine_reviews.csv loaded.\n"
     ]
    }
   ],
   "source": [
    "df_reviews = load_reviews('wine_reviews_tmp.csv', 'data')"
   ]
  },
  {
   "cell_type": "code",
   "execution_count": 23,
   "id": "36e8b2b4-f05e-4640-82e3-94f74672b445",
   "metadata": {},
   "outputs": [
    {
     "data": {
      "text/html": [
       "<div>\n",
       "<style scoped>\n",
       "    .dataframe tbody tr th:only-of-type {\n",
       "        vertical-align: middle;\n",
       "    }\n",
       "\n",
       "    .dataframe tbody tr th {\n",
       "        vertical-align: top;\n",
       "    }\n",
       "\n",
       "    .dataframe thead th {\n",
       "        text-align: right;\n",
       "    }\n",
       "</style>\n",
       "<table border=\"1\" class=\"dataframe\">\n",
       "  <thead>\n",
       "    <tr style=\"text-align: right;\">\n",
       "      <th></th>\n",
       "      <th>wid</th>\n",
       "      <th>wine</th>\n",
       "      <th>date</th>\n",
       "      <th>review</th>\n",
       "      <th>source</th>\n",
       "    </tr>\n",
       "  </thead>\n",
       "  <tbody>\n",
       "    <tr>\n",
       "      <th>60</th>\n",
       "      <td>19</td>\n",
       "      <td>Montes Montes Alpha Merlot</td>\n",
       "      <td>NaT</td>\n",
       "      <td></td>\n",
       "      <td>vivino</td>\n",
       "    </tr>\n",
       "    <tr>\n",
       "      <th>80</th>\n",
       "      <td>20</td>\n",
       "      <td>Montes Montes Alpha Syrah</td>\n",
       "      <td>NaT</td>\n",
       "      <td></td>\n",
       "      <td>vivino</td>\n",
       "    </tr>\n",
       "    <tr>\n",
       "      <th>10</th>\n",
       "      <td>23</td>\n",
       "      <td>San Pedro 1865 Single Vineyard Syrah</td>\n",
       "      <td>NaT</td>\n",
       "      <td></td>\n",
       "      <td>vivino</td>\n",
       "    </tr>\n",
       "    <tr>\n",
       "      <th>50</th>\n",
       "      <td>25</td>\n",
       "      <td>William Hill North Coast Cabernet Sauvignon</td>\n",
       "      <td>NaT</td>\n",
       "      <td></td>\n",
       "      <td>vivino</td>\n",
       "    </tr>\n",
       "    <tr>\n",
       "      <th>50</th>\n",
       "      <td>26</td>\n",
       "      <td>William Hill North Coast Chardonnay</td>\n",
       "      <td>NaT</td>\n",
       "      <td></td>\n",
       "      <td>vivino</td>\n",
       "    </tr>\n",
       "  </tbody>\n",
       "</table>\n",
       "</div>"
      ],
      "text/plain": [
       "    wid                                         wine date review  source\n",
       "60   19                   Montes Montes Alpha Merlot  NaT         vivino\n",
       "80   20                    Montes Montes Alpha Syrah  NaT         vivino\n",
       "10   23         San Pedro 1865 Single Vineyard Syrah  NaT         vivino\n",
       "50   25  William Hill North Coast Cabernet Sauvignon  NaT         vivino\n",
       "50   26          William Hill North Coast Chardonnay  NaT         vivino"
      ]
     },
     "execution_count": 23,
     "metadata": {},
     "output_type": "execute_result"
    }
   ],
   "source": [
    "cond = (df_reviews.date.isna()) | (df_reviews.review.isna())\n",
    "df_reviews.loc[cond]"
   ]
  },
  {
   "cell_type": "code",
   "execution_count": 24,
   "id": "1a192d4b-ef01-4279-9004-1abfb08ca53e",
   "metadata": {},
   "outputs": [],
   "source": [
    "df_reviews = df_reviews.loc[~cond].reset_index(drop=True)"
   ]
  },
  {
   "cell_type": "code",
   "execution_count": 25,
   "id": "8d9a594c-ae1f-44ba-ab72-997caa5d4094",
   "metadata": {},
   "outputs": [
    {
     "data": {
      "text/plain": [
       "date\n",
       "2024     148\n",
       "2023     910\n",
       "2022    1232\n",
       "2021     110\n",
       "2020      12\n",
       "2019       3\n",
       "2018       1\n",
       "2016       2\n",
       "Name: count, dtype: int64"
      ]
     },
     "execution_count": 25,
     "metadata": {},
     "output_type": "execute_result"
    }
   ],
   "source": [
    "df_reviews.date.dt.year.value_counts().sort_index(ascending=False)"
   ]
  },
  {
   "cell_type": "code",
   "execution_count": 26,
   "id": "a1f48e7a-a07e-402b-8857-6c5a8b1bebbd",
   "metadata": {},
   "outputs": [
    {
     "data": {
      "text/plain": [
       "'20220101'"
      ]
     },
     "execution_count": 26,
     "metadata": {},
     "output_type": "execute_result"
    }
   ],
   "source": [
    "kwargs['end_date']"
   ]
  },
  {
   "cell_type": "code",
   "execution_count": 27,
   "id": "a3aafc5b-fc20-4e05-af1f-9197e8215b9e",
   "metadata": {},
   "outputs": [
    {
     "data": {
      "text/plain": [
       "<Axes: >"
      ]
     },
     "execution_count": 27,
     "metadata": {},
     "output_type": "execute_result"
    },
    {
     "data": {
      "image/png": "[encoded data removed]",
      "text/plain": [
       "<Figure size 640x480 with 1 Axes>"
      ]
     },
     "metadata": {},
     "output_type": "display_data"
    }
   ],
   "source": [
    "#d = df_reviews.date.agg(['min', 'max']).to_list()\n",
    "d = [kwargs['end_date'], df_reviews.date.max()]\n",
    "\n",
    "date_range = pd.date_range(start=d[0], end=d[1]).to_period(\"M\").unique()\n",
    "\n",
    "(df_reviews\n",
    " .set_index('date').to_period(\"M\")\n",
    " .groupby(level=0).review.count()\n",
    " .sort_index()\n",
    " .reindex(date_range, fill_value=0)\n",
    " .plot(kind='barh')\n",
    ")"
   ]
  },
  {
   "cell_type": "code",
   "execution_count": 28,
   "id": "c1ce0430-3dea-4a97-a0b9-010a6580d0b0",
   "metadata": {},
   "outputs": [
    {
     "data": {
      "text/plain": [
       "<Axes: ylabel='wine'>"
      ]
     },
     "execution_count": 28,
     "metadata": {},
     "output_type": "execute_result"
    },
    {
     "data": {
      "image/png": "[encoded data removed]",
      "text/plain": [
       "<Figure size 640x480 with 1 Axes>"
      ]
     },
     "metadata": {},
     "output_type": "display_data"
    }
   ],
   "source": [
    "(df_reviews\n",
    " .groupby(by='wine').review.count()\n",
    " .plot(kind='barh')\n",
    ")"
   ]
  },
  {
   "cell_type": "code",
   "execution_count": 29,
   "id": "920c9d82-167b-4f27-b6d5-2ea7258a55fe",
   "metadata": {},
   "outputs": [
    {
     "data": {
      "text/html": [
       "<div>\n",
       "<style scoped>\n",
       "    .dataframe tbody tr th:only-of-type {\n",
       "        vertical-align: middle;\n",
       "    }\n",
       "\n",
       "    .dataframe tbody tr th {\n",
       "        vertical-align: top;\n",
       "    }\n",
       "\n",
       "    .dataframe thead th {\n",
       "        text-align: right;\n",
       "    }\n",
       "</style>\n",
       "<table border=\"1\" class=\"dataframe\">\n",
       "  <thead>\n",
       "    <tr style=\"text-align: right;\">\n",
       "      <th></th>\n",
       "      <th>wid</th>\n",
       "      <th>wine</th>\n",
       "      <th>date</th>\n",
       "      <th>review</th>\n",
       "      <th>source</th>\n",
       "    </tr>\n",
       "  </thead>\n",
       "  <tbody>\n",
       "    <tr>\n",
       "      <th>0</th>\n",
       "      <td>19</td>\n",
       "      <td>Montes Montes Alpha Merlot</td>\n",
       "      <td>2024-02-05</td>\n",
       "      <td>Enjoyed it with chicken tikka masala as its so...</td>\n",
       "      <td>vivino</td>\n",
       "    </tr>\n",
       "    <tr>\n",
       "      <th>1</th>\n",
       "      <td>19</td>\n",
       "      <td>Montes Montes Alpha Merlot</td>\n",
       "      <td>2023-12-31</td>\n",
       "      <td>Vintage 2021 very smooth, Well balanced with v...</td>\n",
       "      <td>vivino</td>\n",
       "    </tr>\n",
       "    <tr>\n",
       "      <th>2</th>\n",
       "      <td>19</td>\n",
       "      <td>Montes Montes Alpha Merlot</td>\n",
       "      <td>2023-11-26</td>\n",
       "      <td>oak plum tobacco Slightly bitter Worth of pric...</td>\n",
       "      <td>vivino</td>\n",
       "    </tr>\n",
       "    <tr>\n",
       "      <th>3</th>\n",
       "      <td>19</td>\n",
       "      <td>Montes Montes Alpha Merlot</td>\n",
       "      <td>2023-11-24</td>\n",
       "      <td>.</td>\n",
       "      <td>vivino</td>\n",
       "    </tr>\n",
       "    <tr>\n",
       "      <th>4</th>\n",
       "      <td>19</td>\n",
       "      <td>Montes Montes Alpha Merlot</td>\n",
       "      <td>2023-11-23</td>\n",
       "      <td>easy to drink table top merlot. it does not pr...</td>\n",
       "      <td>vivino</td>\n",
       "    </tr>\n",
       "  </tbody>\n",
       "</table>\n",
       "</div>"
      ],
      "text/plain": [
       "   wid                        wine       date  \\\n",
       "0   19  Montes Montes Alpha Merlot 2024-02-05   \n",
       "1   19  Montes Montes Alpha Merlot 2023-12-31   \n",
       "2   19  Montes Montes Alpha Merlot 2023-11-26   \n",
       "3   19  Montes Montes Alpha Merlot 2023-11-24   \n",
       "4   19  Montes Montes Alpha Merlot 2023-11-23   \n",
       "\n",
       "                                              review  source  \n",
       "0  Enjoyed it with chicken tikka masala as its so...  vivino  \n",
       "1  Vintage 2021 very smooth, Well balanced with v...  vivino  \n",
       "2  oak plum tobacco Slightly bitter Worth of pric...  vivino  \n",
       "3                                                  .  vivino  \n",
       "4  easy to drink table top merlot. it does not pr...  vivino  "
      ]
     },
     "execution_count": 29,
     "metadata": {},
     "output_type": "execute_result"
    }
   ],
   "source": [
    "df_reviews.head()"
   ]
  },
  {
   "cell_type": "markdown",
   "id": "eff4af90-e32e-48a3-937c-5f575f2b30b2",
   "metadata": {},
   "source": [
    "# Translate"
   ]
  },
  {
   "cell_type": "code",
   "execution_count": 30,
   "id": "ecb5329c-904f-4d51-bed5-61898c468786",
   "metadata": {},
   "outputs": [],
   "source": [
    "import langdetect\n",
    "import json\n",
    "from deep_translator import GoogleTranslator\n",
    "from tqdm import tqdm\n",
    "\n",
    "def detect_language(text):\n",
    "    try:\n",
    "        return langdetect.detect(text)\n",
    "    except KeyboardInterrupt as e:\n",
    "        raise(e)\n",
    "    except:\n",
    "        return '<-- ERROR -->'\n",
    "\n",
    "def get_translation(text):\n",
    "    try:\n",
    "        return GoogleTranslator(source='auto', target='en').translate(str(text))\n",
    "    except KeyboardInterrupt as e:\n",
    "        raise(e)\n",
    "    except:\n",
    "        return '<-- ERROR -->'"
   ]
  },
  {
   "cell_type": "code",
   "execution_count": 31,
   "id": "bdccba59-210d-4587-91bc-37ef80301dbe",
   "metadata": {},
   "outputs": [
    {
     "name": "stderr",
     "output_type": "stream",
     "text": [
      "100%|███████████████████████████████████████████████████████████| 2418/2418 [21:46<00:00,  1.85it/s]\n"
     ]
    }
   ],
   "source": [
    "tmp_data = []\n",
    "\n",
    "for rec in tqdm(df_reviews.to_dict('records')):\n",
    "    tmp_data.append({\n",
    "        #'wid': rec['wid'],\n",
    "        'lang': detect_language(rec['review']),\n",
    "        'review_transl': get_translation(rec['review'])\n",
    "    })"
   ]
  },
  {
   "cell_type": "code",
   "execution_count": 32,
   "id": "f3e3ecd4-49dc-4827-9a0a-efd0dd1a5978",
   "metadata": {},
   "outputs": [
    {
     "data": {
      "text/html": [
       "<div>\n",
       "<style scoped>\n",
       "    .dataframe tbody tr th:only-of-type {\n",
       "        vertical-align: middle;\n",
       "    }\n",
       "\n",
       "    .dataframe tbody tr th {\n",
       "        vertical-align: top;\n",
       "    }\n",
       "\n",
       "    .dataframe thead th {\n",
       "        text-align: right;\n",
       "    }\n",
       "</style>\n",
       "<table border=\"1\" class=\"dataframe\">\n",
       "  <thead>\n",
       "    <tr style=\"text-align: right;\">\n",
       "      <th></th>\n",
       "      <th>wid</th>\n",
       "      <th>wine</th>\n",
       "      <th>date</th>\n",
       "      <th>review</th>\n",
       "      <th>source</th>\n",
       "      <th>lang</th>\n",
       "      <th>review_transl</th>\n",
       "    </tr>\n",
       "  </thead>\n",
       "  <tbody>\n",
       "    <tr>\n",
       "      <th>0</th>\n",
       "      <td>19</td>\n",
       "      <td>Montes Montes Alpha Merlot</td>\n",
       "      <td>2024-02-05</td>\n",
       "      <td>Enjoyed it with chicken tikka masala as its so...</td>\n",
       "      <td>vivino</td>\n",
       "      <td>en</td>\n",
       "      <td>Enjoyed it with chicken tikka masala as its so...</td>\n",
       "    </tr>\n",
       "    <tr>\n",
       "      <th>1</th>\n",
       "      <td>19</td>\n",
       "      <td>Montes Montes Alpha Merlot</td>\n",
       "      <td>2023-12-31</td>\n",
       "      <td>Vintage 2021 very smooth, Well balanced with v...</td>\n",
       "      <td>vivino</td>\n",
       "      <td>en</td>\n",
       "      <td>Vintage 2021 very smooth, Well balanced with v...</td>\n",
       "    </tr>\n",
       "    <tr>\n",
       "      <th>2</th>\n",
       "      <td>19</td>\n",
       "      <td>Montes Montes Alpha Merlot</td>\n",
       "      <td>2023-11-26</td>\n",
       "      <td>oak plum tobacco Slightly bitter Worth of pric...</td>\n",
       "      <td>vivino</td>\n",
       "      <td>en</td>\n",
       "      <td>oak plum tobacco Slightly bitter Worth of pric...</td>\n",
       "    </tr>\n",
       "    <tr>\n",
       "      <th>3</th>\n",
       "      <td>19</td>\n",
       "      <td>Montes Montes Alpha Merlot</td>\n",
       "      <td>2023-11-24</td>\n",
       "      <td>.</td>\n",
       "      <td>vivino</td>\n",
       "      <td>&lt;-- ERROR --&gt;</td>\n",
       "      <td>None</td>\n",
       "    </tr>\n",
       "    <tr>\n",
       "      <th>4</th>\n",
       "      <td>19</td>\n",
       "      <td>Montes Montes Alpha Merlot</td>\n",
       "      <td>2023-11-23</td>\n",
       "      <td>easy to drink table top merlot. it does not pr...</td>\n",
       "      <td>vivino</td>\n",
       "      <td>en</td>\n",
       "      <td>easy to drink table top merlot. it does not pr...</td>\n",
       "    </tr>\n",
       "  </tbody>\n",
       "</table>\n",
       "</div>"
      ],
      "text/plain": [
       "   wid                        wine       date  \\\n",
       "0   19  Montes Montes Alpha Merlot 2024-02-05   \n",
       "1   19  Montes Montes Alpha Merlot 2023-12-31   \n",
       "2   19  Montes Montes Alpha Merlot 2023-11-26   \n",
       "3   19  Montes Montes Alpha Merlot 2023-11-24   \n",
       "4   19  Montes Montes Alpha Merlot 2023-11-23   \n",
       "\n",
       "                                              review  source           lang  \\\n",
       "0  Enjoyed it with chicken tikka masala as its so...  vivino             en   \n",
       "1  Vintage 2021 very smooth, Well balanced with v...  vivino             en   \n",
       "2  oak plum tobacco Slightly bitter Worth of pric...  vivino             en   \n",
       "3                                                  .  vivino  <-- ERROR -->   \n",
       "4  easy to drink table top merlot. it does not pr...  vivino             en   \n",
       "\n",
       "                                       review_transl  \n",
       "0  Enjoyed it with chicken tikka masala as its so...  \n",
       "1  Vintage 2021 very smooth, Well balanced with v...  \n",
       "2  oak plum tobacco Slightly bitter Worth of pric...  \n",
       "3                                               None  \n",
       "4  easy to drink table top merlot. it does not pr...  "
      ]
     },
     "execution_count": 32,
     "metadata": {},
     "output_type": "execute_result"
    }
   ],
   "source": [
    "df_reviews = df_reviews.merge(pd.DataFrame(tmp_data), left_index=True, right_index=True)\n",
    "df_reviews.head()"
   ]
  },
  {
   "cell_type": "markdown",
   "id": "31667a4a-9d5b-4b1a-a829-9300280e83e4",
   "metadata": {},
   "source": [
    "**check translation error**"
   ]
  },
  {
   "cell_type": "code",
   "execution_count": 34,
   "id": "4400c9e4-c634-4f1a-ab36-f4575d84d090",
   "metadata": {},
   "outputs": [
    {
     "data": {
      "text/html": [
       "<div>\n",
       "<style scoped>\n",
       "    .dataframe tbody tr th:only-of-type {\n",
       "        vertical-align: middle;\n",
       "    }\n",
       "\n",
       "    .dataframe tbody tr th {\n",
       "        vertical-align: top;\n",
       "    }\n",
       "\n",
       "    .dataframe thead th {\n",
       "        text-align: right;\n",
       "    }\n",
       "</style>\n",
       "<table border=\"1\" class=\"dataframe\">\n",
       "  <thead>\n",
       "    <tr style=\"text-align: right;\">\n",
       "      <th></th>\n",
       "      <th>wid</th>\n",
       "      <th>wine</th>\n",
       "      <th>date</th>\n",
       "      <th>review</th>\n",
       "      <th>source</th>\n",
       "      <th>lang</th>\n",
       "      <th>review_transl</th>\n",
       "    </tr>\n",
       "  </thead>\n",
       "  <tbody>\n",
       "    <tr>\n",
       "      <th>3</th>\n",
       "      <td>19</td>\n",
       "      <td>Montes Montes Alpha Merlot</td>\n",
       "      <td>2023-11-24</td>\n",
       "      <td>.</td>\n",
       "      <td>vivino</td>\n",
       "      <td>&lt;-- ERROR --&gt;</td>\n",
       "      <td>None</td>\n",
       "    </tr>\n",
       "    <tr>\n",
       "      <th>54</th>\n",
       "      <td>19</td>\n",
       "      <td>Montes Montes Alpha Merlot</td>\n",
       "      <td>2020-12-31</td>\n",
       "      <td>4</td>\n",
       "      <td>vivino</td>\n",
       "      <td>&lt;-- ERROR --&gt;</td>\n",
       "      <td>4</td>\n",
       "    </tr>\n",
       "    <tr>\n",
       "      <th>105</th>\n",
       "      <td>20</td>\n",
       "      <td>Montes Montes Alpha Syrah</td>\n",
       "      <td>2024-01-30</td>\n",
       "      <td>🇨🇱</td>\n",
       "      <td>vivino</td>\n",
       "      <td>&lt;-- ERROR --&gt;</td>\n",
       "      <td>None</td>\n",
       "    </tr>\n",
       "    <tr>\n",
       "      <th>261</th>\n",
       "      <td>24</td>\n",
       "      <td>Mollydooker The Boxer Shiraz</td>\n",
       "      <td>2023-03-03</td>\n",
       "      <td>2020</td>\n",
       "      <td>vivino</td>\n",
       "      <td>&lt;-- ERROR --&gt;</td>\n",
       "      <td>2020</td>\n",
       "    </tr>\n",
       "    <tr>\n",
       "      <th>295</th>\n",
       "      <td>24</td>\n",
       "      <td>Mollydooker The Boxer Shiraz</td>\n",
       "      <td>2022-12-19</td>\n",
       "      <td>♡♡♡</td>\n",
       "      <td>vivino</td>\n",
       "      <td>&lt;-- ERROR --&gt;</td>\n",
       "      <td>None</td>\n",
       "    </tr>\n",
       "    <tr>\n",
       "      <th>372</th>\n",
       "      <td>24</td>\n",
       "      <td>Mollydooker The Boxer Shiraz</td>\n",
       "      <td>2022-04-25</td>\n",
       "      <td>4,7</td>\n",
       "      <td>vivino</td>\n",
       "      <td>&lt;-- ERROR --&gt;</td>\n",
       "      <td>4,7</td>\n",
       "    </tr>\n",
       "    <tr>\n",
       "      <th>389</th>\n",
       "      <td>24</td>\n",
       "      <td>Mollydooker The Boxer Shiraz</td>\n",
       "      <td>2022-03-27</td>\n",
       "      <td></td>\n",
       "      <td>vivino</td>\n",
       "      <td>&lt;-- ERROR --&gt;</td>\n",
       "      <td></td>\n",
       "    </tr>\n",
       "    <tr>\n",
       "      <th>399</th>\n",
       "      <td>24</td>\n",
       "      <td>Mollydooker The Boxer Shiraz</td>\n",
       "      <td>2022-03-06</td>\n",
       "      <td></td>\n",
       "      <td>vivino</td>\n",
       "      <td>&lt;-- ERROR --&gt;</td>\n",
       "      <td></td>\n",
       "    </tr>\n",
       "    <tr>\n",
       "      <th>408</th>\n",
       "      <td>24</td>\n",
       "      <td>Mollydooker The Boxer Shiraz</td>\n",
       "      <td>2022-02-23</td>\n",
       "      <td>👍</td>\n",
       "      <td>vivino</td>\n",
       "      <td>&lt;-- ERROR --&gt;</td>\n",
       "      <td>None</td>\n",
       "    </tr>\n",
       "    <tr>\n",
       "      <th>455</th>\n",
       "      <td>24</td>\n",
       "      <td>Mollydooker The Boxer Shiraz</td>\n",
       "      <td>2021-12-24</td>\n",
       "      <td>😍😍😍</td>\n",
       "      <td>vivino</td>\n",
       "      <td>&lt;-- ERROR --&gt;</td>\n",
       "      <td>None</td>\n",
       "    </tr>\n",
       "    <tr>\n",
       "      <th>506</th>\n",
       "      <td>25</td>\n",
       "      <td>William Hill North Coast Cabernet Sauvignon</td>\n",
       "      <td>2021-09-23</td>\n",
       "      <td>3.6/5</td>\n",
       "      <td>vivino</td>\n",
       "      <td>&lt;-- ERROR --&gt;</td>\n",
       "      <td>3.6/5</td>\n",
       "    </tr>\n",
       "    <tr>\n",
       "      <th>549</th>\n",
       "      <td>26</td>\n",
       "      <td>William Hill North Coast Chardonnay</td>\n",
       "      <td>2022-02-26</td>\n",
       "      <td>3.8</td>\n",
       "      <td>vivino</td>\n",
       "      <td>&lt;-- ERROR --&gt;</td>\n",
       "      <td>3.8</td>\n",
       "    </tr>\n",
       "    <tr>\n",
       "      <th>658</th>\n",
       "      <td>27</td>\n",
       "      <td>Kendall-Jackson Vintner's Reserve Chardonnay</td>\n",
       "      <td>2023-08-01</td>\n",
       "      <td>🥂</td>\n",
       "      <td>vivino</td>\n",
       "      <td>&lt;-- ERROR --&gt;</td>\n",
       "      <td>None</td>\n",
       "    </tr>\n",
       "    <tr>\n",
       "      <th>703</th>\n",
       "      <td>27</td>\n",
       "      <td>Kendall-Jackson Vintner's Reserve Chardonnay</td>\n",
       "      <td>2023-05-10</td>\n",
       "      <td>1120</td>\n",
       "      <td>vivino</td>\n",
       "      <td>&lt;-- ERROR --&gt;</td>\n",
       "      <td>1120</td>\n",
       "    </tr>\n",
       "    <tr>\n",
       "      <th>767</th>\n",
       "      <td>27</td>\n",
       "      <td>Kendall-Jackson Vintner's Reserve Chardonnay</td>\n",
       "      <td>2023-02-17</td>\n",
       "      <td>💜</td>\n",
       "      <td>vivino</td>\n",
       "      <td>&lt;-- ERROR --&gt;</td>\n",
       "      <td>None</td>\n",
       "    </tr>\n",
       "    <tr>\n",
       "      <th>895</th>\n",
       "      <td>27</td>\n",
       "      <td>Kendall-Jackson Vintner's Reserve Chardonnay</td>\n",
       "      <td>2022-07-31</td>\n",
       "      <td>₩32900 -&gt; ₩28900</td>\n",
       "      <td>vivino</td>\n",
       "      <td>&lt;-- ERROR --&gt;</td>\n",
       "      <td>₩32900 -&gt; ₩28900</td>\n",
       "    </tr>\n",
       "    <tr>\n",
       "      <th>968</th>\n",
       "      <td>27</td>\n",
       "      <td>Kendall-Jackson Vintner's Reserve Chardonnay</td>\n",
       "      <td>2022-04-29</td>\n",
       "      <td></td>\n",
       "      <td>vivino</td>\n",
       "      <td>&lt;-- ERROR --&gt;</td>\n",
       "      <td></td>\n",
       "    </tr>\n",
       "    <tr>\n",
       "      <th>994</th>\n",
       "      <td>27</td>\n",
       "      <td>Kendall-Jackson Vintner's Reserve Chardonnay</td>\n",
       "      <td>2022-04-04</td>\n",
       "      <td>❤️❤️</td>\n",
       "      <td>vivino</td>\n",
       "      <td>&lt;-- ERROR --&gt;</td>\n",
       "      <td>None</td>\n",
       "    </tr>\n",
       "    <tr>\n",
       "      <th>1003</th>\n",
       "      <td>27</td>\n",
       "      <td>Kendall-Jackson Vintner's Reserve Chardonnay</td>\n",
       "      <td>2022-03-30</td>\n",
       "      <td>👍🏻</td>\n",
       "      <td>vivino</td>\n",
       "      <td>&lt;-- ERROR --&gt;</td>\n",
       "      <td>None</td>\n",
       "    </tr>\n",
       "    <tr>\n",
       "      <th>1022</th>\n",
       "      <td>27</td>\n",
       "      <td>Kendall-Jackson Vintner's Reserve Chardonnay</td>\n",
       "      <td>2022-03-09</td>\n",
       "      <td></td>\n",
       "      <td>vivino</td>\n",
       "      <td>&lt;-- ERROR --&gt;</td>\n",
       "      <td></td>\n",
       "    </tr>\n",
       "    <tr>\n",
       "      <th>1040</th>\n",
       "      <td>27</td>\n",
       "      <td>Kendall-Jackson Vintner's Reserve Chardonnay</td>\n",
       "      <td>2022-02-25</td>\n",
       "      <td></td>\n",
       "      <td>vivino</td>\n",
       "      <td>&lt;-- ERROR --&gt;</td>\n",
       "      <td></td>\n",
       "    </tr>\n",
       "    <tr>\n",
       "      <th>1076</th>\n",
       "      <td>27</td>\n",
       "      <td>Kendall-Jackson Vintner's Reserve Chardonnay</td>\n",
       "      <td>2022-01-28</td>\n",
       "      <td></td>\n",
       "      <td>vivino</td>\n",
       "      <td>&lt;-- ERROR --&gt;</td>\n",
       "      <td></td>\n",
       "    </tr>\n",
       "    <tr>\n",
       "      <th>1217</th>\n",
       "      <td>28</td>\n",
       "      <td>Bread &amp; Butter Pinot Noir</td>\n",
       "      <td>2023-12-23</td>\n",
       "      <td>@</td>\n",
       "      <td>vivino</td>\n",
       "      <td>&lt;-- ERROR --&gt;</td>\n",
       "      <td>None</td>\n",
       "    </tr>\n",
       "    <tr>\n",
       "      <th>1488</th>\n",
       "      <td>28</td>\n",
       "      <td>Bread &amp; Butter Pinot Noir</td>\n",
       "      <td>2023-05-28</td>\n",
       "      <td></td>\n",
       "      <td>vivino</td>\n",
       "      <td>&lt;-- ERROR --&gt;</td>\n",
       "      <td></td>\n",
       "    </tr>\n",
       "    <tr>\n",
       "      <th>1747</th>\n",
       "      <td>28</td>\n",
       "      <td>Bread &amp; Butter Pinot Noir</td>\n",
       "      <td>2022-12-19</td>\n",
       "      <td>♡♡</td>\n",
       "      <td>vivino</td>\n",
       "      <td>&lt;-- ERROR --&gt;</td>\n",
       "      <td>None</td>\n",
       "    </tr>\n",
       "    <tr>\n",
       "      <th>1855</th>\n",
       "      <td>28</td>\n",
       "      <td>Bread &amp; Butter Pinot Noir</td>\n",
       "      <td>2022-10-01</td>\n",
       "      <td>🫶🏼</td>\n",
       "      <td>vivino</td>\n",
       "      <td>&lt;-- ERROR --&gt;</td>\n",
       "      <td>None</td>\n",
       "    </tr>\n",
       "    <tr>\n",
       "      <th>1963</th>\n",
       "      <td>28</td>\n",
       "      <td>Bread &amp; Butter Pinot Noir</td>\n",
       "      <td>2022-07-27</td>\n",
       "      <td>👌🏻</td>\n",
       "      <td>vivino</td>\n",
       "      <td>&lt;-- ERROR --&gt;</td>\n",
       "      <td>None</td>\n",
       "    </tr>\n",
       "    <tr>\n",
       "      <th>1982</th>\n",
       "      <td>28</td>\n",
       "      <td>Bread &amp; Butter Pinot Noir</td>\n",
       "      <td>2022-07-19</td>\n",
       "      <td>.</td>\n",
       "      <td>vivino</td>\n",
       "      <td>&lt;-- ERROR --&gt;</td>\n",
       "      <td>None</td>\n",
       "    </tr>\n",
       "    <tr>\n",
       "      <th>2052</th>\n",
       "      <td>28</td>\n",
       "      <td>Bread &amp; Butter Pinot Noir</td>\n",
       "      <td>2022-05-19</td>\n",
       "      <td>👌🏼</td>\n",
       "      <td>vivino</td>\n",
       "      <td>&lt;-- ERROR --&gt;</td>\n",
       "      <td>None</td>\n",
       "    </tr>\n",
       "    <tr>\n",
       "      <th>2139</th>\n",
       "      <td>28</td>\n",
       "      <td>Bread &amp; Butter Pinot Noir</td>\n",
       "      <td>2022-03-28</td>\n",
       "      <td></td>\n",
       "      <td>vivino</td>\n",
       "      <td>&lt;-- ERROR --&gt;</td>\n",
       "      <td></td>\n",
       "    </tr>\n",
       "    <tr>\n",
       "      <th>2160</th>\n",
       "      <td>28</td>\n",
       "      <td>Bread &amp; Butter Pinot Noir</td>\n",
       "      <td>2022-03-20</td>\n",
       "      <td></td>\n",
       "      <td>vivino</td>\n",
       "      <td>&lt;-- ERROR --&gt;</td>\n",
       "      <td></td>\n",
       "    </tr>\n",
       "    <tr>\n",
       "      <th>2171</th>\n",
       "      <td>28</td>\n",
       "      <td>Bread &amp; Butter Pinot Noir</td>\n",
       "      <td>2022-03-14</td>\n",
       "      <td></td>\n",
       "      <td>vivino</td>\n",
       "      <td>&lt;-- ERROR --&gt;</td>\n",
       "      <td></td>\n",
       "    </tr>\n",
       "    <tr>\n",
       "      <th>2253</th>\n",
       "      <td>28</td>\n",
       "      <td>Bread &amp; Butter Pinot Noir</td>\n",
       "      <td>2022-02-10</td>\n",
       "      <td>🦖🦖</td>\n",
       "      <td>vivino</td>\n",
       "      <td>&lt;-- ERROR --&gt;</td>\n",
       "      <td>None</td>\n",
       "    </tr>\n",
       "    <tr>\n",
       "      <th>2264</th>\n",
       "      <td>28</td>\n",
       "      <td>Bread &amp; Butter Pinot Noir</td>\n",
       "      <td>2022-02-05</td>\n",
       "      <td></td>\n",
       "      <td>vivino</td>\n",
       "      <td>&lt;-- ERROR --&gt;</td>\n",
       "      <td></td>\n",
       "    </tr>\n",
       "    <tr>\n",
       "      <th>2288</th>\n",
       "      <td>28</td>\n",
       "      <td>Bread &amp; Butter Pinot Noir</td>\n",
       "      <td>2022-01-28</td>\n",
       "      <td></td>\n",
       "      <td>vivino</td>\n",
       "      <td>&lt;-- ERROR --&gt;</td>\n",
       "      <td></td>\n",
       "    </tr>\n",
       "    <tr>\n",
       "      <th>2294</th>\n",
       "      <td>28</td>\n",
       "      <td>Bread &amp; Butter Pinot Noir</td>\n",
       "      <td>2022-01-24</td>\n",
       "      <td></td>\n",
       "      <td>vivino</td>\n",
       "      <td>&lt;-- ERROR --&gt;</td>\n",
       "      <td></td>\n",
       "    </tr>\n",
       "    <tr>\n",
       "      <th>2302</th>\n",
       "      <td>28</td>\n",
       "      <td>Bread &amp; Butter Pinot Noir</td>\n",
       "      <td>2022-01-22</td>\n",
       "      <td></td>\n",
       "      <td>vivino</td>\n",
       "      <td>&lt;-- ERROR --&gt;</td>\n",
       "      <td></td>\n",
       "    </tr>\n",
       "    <tr>\n",
       "      <th>2356</th>\n",
       "      <td>28</td>\n",
       "      <td>Bread &amp; Butter Pinot Noir</td>\n",
       "      <td>2022-01-05</td>\n",
       "      <td></td>\n",
       "      <td>vivino</td>\n",
       "      <td>&lt;-- ERROR --&gt;</td>\n",
       "      <td></td>\n",
       "    </tr>\n",
       "    <tr>\n",
       "      <th>2382</th>\n",
       "      <td>28</td>\n",
       "      <td>Bread &amp; Butter Pinot Noir</td>\n",
       "      <td>2021-07-09</td>\n",
       "      <td></td>\n",
       "      <td>vivino</td>\n",
       "      <td>&lt;-- ERROR --&gt;</td>\n",
       "      <td></td>\n",
       "    </tr>\n",
       "    <tr>\n",
       "      <th>2415</th>\n",
       "      <td>29</td>\n",
       "      <td>Bread &amp; Butter Cabernet Sauvignon</td>\n",
       "      <td>2021-08-30</td>\n",
       "      <td></td>\n",
       "      <td>vivino</td>\n",
       "      <td>&lt;-- ERROR --&gt;</td>\n",
       "      <td></td>\n",
       "    </tr>\n",
       "  </tbody>\n",
       "</table>\n",
       "</div>"
      ],
      "text/plain": [
       "      wid                                          wine       date  \\\n",
       "3      19                    Montes Montes Alpha Merlot 2023-11-24   \n",
       "54     19                    Montes Montes Alpha Merlot 2020-12-31   \n",
       "105    20                     Montes Montes Alpha Syrah 2024-01-30   \n",
       "261    24                  Mollydooker The Boxer Shiraz 2023-03-03   \n",
       "295    24                  Mollydooker The Boxer Shiraz 2022-12-19   \n",
       "372    24                  Mollydooker The Boxer Shiraz 2022-04-25   \n",
       "389    24                  Mollydooker The Boxer Shiraz 2022-03-27   \n",
       "399    24                  Mollydooker The Boxer Shiraz 2022-03-06   \n",
       "408    24                  Mollydooker The Boxer Shiraz 2022-02-23   \n",
       "455    24                  Mollydooker The Boxer Shiraz 2021-12-24   \n",
       "506    25   William Hill North Coast Cabernet Sauvignon 2021-09-23   \n",
       "549    26           William Hill North Coast Chardonnay 2022-02-26   \n",
       "658    27  Kendall-Jackson Vintner's Reserve Chardonnay 2023-08-01   \n",
       "703    27  Kendall-Jackson Vintner's Reserve Chardonnay 2023-05-10   \n",
       "767    27  Kendall-Jackson Vintner's Reserve Chardonnay 2023-02-17   \n",
       "895    27  Kendall-Jackson Vintner's Reserve Chardonnay 2022-07-31   \n",
       "968    27  Kendall-Jackson Vintner's Reserve Chardonnay 2022-04-29   \n",
       "994    27  Kendall-Jackson Vintner's Reserve Chardonnay 2022-04-04   \n",
       "1003   27  Kendall-Jackson Vintner's Reserve Chardonnay 2022-03-30   \n",
       "1022   27  Kendall-Jackson Vintner's Reserve Chardonnay 2022-03-09   \n",
       "1040   27  Kendall-Jackson Vintner's Reserve Chardonnay 2022-02-25   \n",
       "1076   27  Kendall-Jackson Vintner's Reserve Chardonnay 2022-01-28   \n",
       "1217   28                     Bread & Butter Pinot Noir 2023-12-23   \n",
       "1488   28                     Bread & Butter Pinot Noir 2023-05-28   \n",
       "1747   28                     Bread & Butter Pinot Noir 2022-12-19   \n",
       "1855   28                     Bread & Butter Pinot Noir 2022-10-01   \n",
       "1963   28                     Bread & Butter Pinot Noir 2022-07-27   \n",
       "1982   28                     Bread & Butter Pinot Noir 2022-07-19   \n",
       "2052   28                     Bread & Butter Pinot Noir 2022-05-19   \n",
       "2139   28                     Bread & Butter Pinot Noir 2022-03-28   \n",
       "2160   28                     Bread & Butter Pinot Noir 2022-03-20   \n",
       "2171   28                     Bread & Butter Pinot Noir 2022-03-14   \n",
       "2253   28                     Bread & Butter Pinot Noir 2022-02-10   \n",
       "2264   28                     Bread & Butter Pinot Noir 2022-02-05   \n",
       "2288   28                     Bread & Butter Pinot Noir 2022-01-28   \n",
       "2294   28                     Bread & Butter Pinot Noir 2022-01-24   \n",
       "2302   28                     Bread & Butter Pinot Noir 2022-01-22   \n",
       "2356   28                     Bread & Butter Pinot Noir 2022-01-05   \n",
       "2382   28                     Bread & Butter Pinot Noir 2021-07-09   \n",
       "2415   29             Bread & Butter Cabernet Sauvignon 2021-08-30   \n",
       "\n",
       "                review  source           lang     review_transl  \n",
       "3                    .  vivino  <-- ERROR -->              None  \n",
       "54                   4  vivino  <-- ERROR -->                 4  \n",
       "105                 🇨🇱  vivino  <-- ERROR -->              None  \n",
       "261               2020  vivino  <-- ERROR -->              2020  \n",
       "295                ♡♡♡  vivino  <-- ERROR -->              None  \n",
       "372                4,7  vivino  <-- ERROR -->               4,7  \n",
       "389                     vivino  <-- ERROR -->                    \n",
       "399                     vivino  <-- ERROR -->                    \n",
       "408                  👍  vivino  <-- ERROR -->              None  \n",
       "455                😍😍😍  vivino  <-- ERROR -->              None  \n",
       "506              3.6/5  vivino  <-- ERROR -->             3.6/5  \n",
       "549                3.8  vivino  <-- ERROR -->               3.8  \n",
       "658                  🥂  vivino  <-- ERROR -->              None  \n",
       "703               1120  vivino  <-- ERROR -->              1120  \n",
       "767                  💜  vivino  <-- ERROR -->              None  \n",
       "895   ₩32900 -> ₩28900  vivino  <-- ERROR -->  ₩32900 -> ₩28900  \n",
       "968                     vivino  <-- ERROR -->                    \n",
       "994               ❤️❤️  vivino  <-- ERROR -->              None  \n",
       "1003                👍🏻  vivino  <-- ERROR -->              None  \n",
       "1022                    vivino  <-- ERROR -->                    \n",
       "1040                    vivino  <-- ERROR -->                    \n",
       "1076                    vivino  <-- ERROR -->                    \n",
       "1217                 @  vivino  <-- ERROR -->              None  \n",
       "1488                    vivino  <-- ERROR -->                    \n",
       "1747                ♡♡  vivino  <-- ERROR -->              None  \n",
       "1855                🫶🏼  vivino  <-- ERROR -->              None  \n",
       "1963                👌🏻  vivino  <-- ERROR -->              None  \n",
       "1982                 .  vivino  <-- ERROR -->              None  \n",
       "2052                👌🏼  vivino  <-- ERROR -->              None  \n",
       "2139                    vivino  <-- ERROR -->                    \n",
       "2160                    vivino  <-- ERROR -->                    \n",
       "2171                    vivino  <-- ERROR -->                    \n",
       "2253                🦖🦖  vivino  <-- ERROR -->              None  \n",
       "2264                    vivino  <-- ERROR -->                    \n",
       "2288                    vivino  <-- ERROR -->                    \n",
       "2294                    vivino  <-- ERROR -->                    \n",
       "2302                    vivino  <-- ERROR -->                    \n",
       "2356                    vivino  <-- ERROR -->                    \n",
       "2382                    vivino  <-- ERROR -->                    \n",
       "2415                    vivino  <-- ERROR -->                    "
      ]
     },
     "execution_count": 34,
     "metadata": {},
     "output_type": "execute_result"
    }
   ],
   "source": [
    "cond = df_reviews.lang.str.contains('ERROR')\n",
    "df_reviews.loc[cond]"
   ]
  },
  {
   "cell_type": "code",
   "execution_count": null,
   "id": "c61580ed-da11-4992-9fcf-47a5a88e5635",
   "metadata": {},
   "outputs": [],
   "source": [
    "cond = df_reviews.review_transl.isna()\n",
    "df_reviews.loc[cond]"
   ]
  },
  {
   "cell_type": "code",
   "execution_count": 35,
   "id": "792cbd88-2ee8-408e-afd3-a60cfc85c277",
   "metadata": {},
   "outputs": [],
   "source": [
    "df_reviews = df_reviews.loc[~cond]"
   ]
  },
  {
   "cell_type": "markdown",
   "id": "25f7621f-96fa-4ffb-85e3-88f1053a85b5",
   "metadata": {},
   "source": [
    "**save final data**"
   ]
  },
  {
   "cell_type": "code",
   "execution_count": 36,
   "id": "b1204894-12cc-4b17-aec3-14198af29d2b",
   "metadata": {},
   "outputs": [
    {
     "name": "stdout",
     "output_type": "stream",
     "text": [
      "data/wine_reviews_240212.csv saved.\n"
     ]
    }
   ],
   "source": [
    "from datetime import datetime\n",
    "d = datetime.today().strftime('%y%m%d')\n",
    "save_reviews(df_reviews, f'wine_reviews_{d}.csv')"
   ]
  },
  {
   "cell_type": "code",
   "execution_count": 40,
   "id": "4c61b011-4b52-4c34-8aee-1cb7e1c1b766",
   "metadata": {},
   "outputs": [
    {
     "name": "stdout",
     "output_type": "stream",
     "text": [
      "Archive:  wine_reviews.zip\n",
      "  Length      Date    Time    Name\n",
      "---------  ---------- -----   ----\n",
      "   343369  2024-02-07 16:58   wine_reviews_240124.csv\n",
      "   334512  2024-02-07 18:16   wine_reviews_240207.csv\n",
      "   529775  2024-02-12 20:13   wine_reviews_240212.csv\n",
      "---------                     -------\n",
      "  1207656                     3 files\n"
     ]
    }
   ],
   "source": [
    "!unzip -l wine_reviews.zip"
   ]
  },
  {
   "cell_type": "code",
   "execution_count": 39,
   "id": "fb6a923f-c010-44e3-82be-8938448ac6b3",
   "metadata": {},
   "outputs": [
    {
     "name": "stdout",
     "output_type": "stream",
     "text": [
      "  adding: wine_reviews_240212.csv (deflated 73%)\n"
     ]
    }
   ],
   "source": [
    "!zip -uj wine_reviews.zip data/wine_reviews_2*csv"
   ]
  },
  {
   "cell_type": "code",
   "execution_count": 31,
   "id": "530256d5-39f4-40f5-905a-b2e812e294cc",
   "metadata": {},
   "outputs": [
    {
     "name": "stdout",
     "output_type": "stream",
     "text": [
      "  adding: wine_reviews_240124.csv (deflated 70%)\n",
      "  adding: wine_reviews_240207.csv (deflated 69%)\n"
     ]
    }
   ],
   "source": [
    "#!zip -j wine_reviews.zip data/wine_reviews_2*csv"
   ]
  },
  {
   "cell_type": "code",
   "execution_count": null,
   "id": "621f3c85-a7cc-4cae-bab3-7c3e9c08cc9e",
   "metadata": {},
   "outputs": [],
   "source": []
  }
 ],
 "metadata": {
  "kernelspec": {
   "display_name": "scrap2",
   "language": "python",
   "name": "scrap2"
  },
  "language_info": {
   "codemirror_mode": {
    "name": "ipython",
    "version": 3
   },
   "file_extension": ".py",
   "mimetype": "text/x-python",
   "name": "python",
   "nbconvert_exporter": "python",
   "pygments_lexer": "ipython3",
   "version": "3.9.18"
  }
 },
 "nbformat": 4,
 "nbformat_minor": 5
}
