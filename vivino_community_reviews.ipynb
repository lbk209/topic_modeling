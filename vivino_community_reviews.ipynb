{
 "cells": [
  {
   "cell_type": "markdown",
   "id": "dfe9f533-a812-461d-a7d0-a2427be120e6",
   "metadata": {},
   "source": [
    "# Setting"
   ]
  },
  {
   "cell_type": "code",
   "execution_count": 48,
   "id": "48b78785-892f-420c-b7d3-4db00fd3c5ce",
   "metadata": {},
   "outputs": [],
   "source": [
    "from lbk_utils import save_csv, read_csv, SemanticSearch\n",
    "from vivino_utils import vivino_reviews, concat_reviews, check_url, check_duplicated, find_style, simple_scraper, translate_reviews\n",
    "\n",
    "import pandas as pd\n",
    "import time"
   ]
  },
  {
   "cell_type": "markdown",
   "id": "3453086d-7ea2-4ce6-939d-c5e07cd25e2a",
   "metadata": {},
   "source": [
    "# Existing"
   ]
  },
  {
   "cell_type": "code",
   "execution_count": 2,
   "id": "968df0c7-69dd-4a86-9fa6-e897b1c86f72",
   "metadata": {},
   "outputs": [
    {
     "name": "stdout",
     "output_type": "stream",
     "text": [
      "Archive:  wine_reviews.zip\n",
      "  Length      Date    Time    Name\n",
      "---------  ---------- -----   ----\n",
      "  2316472  2024-03-27 12:50   wine_reviews_240327.csv\n",
      "---------                     -------\n",
      "  2316472                     1 file\n"
     ]
    }
   ],
   "source": [
    "!unzip -l wine_reviews.zip"
   ]
  },
  {
   "cell_type": "code",
   "execution_count": 2,
   "id": "084738b8-29ec-4bcb-a762-820de3bb7ac6",
   "metadata": {},
   "outputs": [
    {
     "data": {
      "text/plain": [
       "9891"
      ]
     },
     "execution_count": 2,
     "metadata": {},
     "output_type": "execute_result"
    }
   ],
   "source": [
    "file = 'wine_reviews_2' # exclude wine_reviews_tmp.csv\n",
    "       \n",
    "df_reviews = read_csv(file, 'data', parse_dates=['date'])\n",
    "len(df_reviews)"
   ]
  },
  {
   "cell_type": "code",
   "execution_count": 3,
   "id": "083ea651-315c-401a-8b75-d60827b53168",
   "metadata": {},
   "outputs": [
    {
     "data": {
      "text/html": [
       "<div>\n",
       "<style scoped>\n",
       "    .dataframe tbody tr th:only-of-type {\n",
       "        vertical-align: middle;\n",
       "    }\n",
       "\n",
       "    .dataframe tbody tr th {\n",
       "        vertical-align: top;\n",
       "    }\n",
       "\n",
       "    .dataframe thead th {\n",
       "        text-align: right;\n",
       "    }\n",
       "</style>\n",
       "<table border=\"1\" class=\"dataframe\">\n",
       "  <thead>\n",
       "    <tr style=\"text-align: right;\">\n",
       "      <th></th>\n",
       "      <th>wid</th>\n",
       "      <th>wine</th>\n",
       "      <th>date</th>\n",
       "      <th>review</th>\n",
       "      <th>source</th>\n",
       "      <th>lang</th>\n",
       "      <th>review_transl</th>\n",
       "      <th>style</th>\n",
       "    </tr>\n",
       "  </thead>\n",
       "  <tbody>\n",
       "    <tr>\n",
       "      <th>0</th>\n",
       "      <td>40</td>\n",
       "      <td>Arione Moscato d'Asti</td>\n",
       "      <td>2023-11-06</td>\n",
       "      <td>pera pesca nota tropicale minerali</td>\n",
       "      <td>vivino</td>\n",
       "      <td>it</td>\n",
       "      <td>pear peach tropical note minerals</td>\n",
       "      <td>sparkling</td>\n",
       "    </tr>\n",
       "    <tr>\n",
       "      <th>1</th>\n",
       "      <td>40</td>\n",
       "      <td>Arione Moscato d'Asti</td>\n",
       "      <td>2023-10-17</td>\n",
       "      <td>Ottimo</td>\n",
       "      <td>vivino</td>\n",
       "      <td>it</td>\n",
       "      <td>Optimal</td>\n",
       "      <td>sparkling</td>\n",
       "    </tr>\n",
       "    <tr>\n",
       "      <th>2</th>\n",
       "      <td>40</td>\n",
       "      <td>Arione Moscato d'Asti</td>\n",
       "      <td>2023-10-09</td>\n",
       "      <td>조금 산뜻한 향, 처음 마시고 조금 있는 바디감, Saracco보다 조금 덜 달게 ...</td>\n",
       "      <td>vivino</td>\n",
       "      <td>ko</td>\n",
       "      <td>A slightly refreshing scent, a bit of body whe...</td>\n",
       "      <td>sparkling</td>\n",
       "    </tr>\n",
       "    <tr>\n",
       "      <th>3</th>\n",
       "      <td>40</td>\n",
       "      <td>Arione Moscato d'Asti</td>\n",
       "      <td>2023-10-08</td>\n",
       "      <td>Afrutado, delicioso.</td>\n",
       "      <td>vivino</td>\n",
       "      <td>es</td>\n",
       "      <td>Fruity, delicious.</td>\n",
       "      <td>sparkling</td>\n",
       "    </tr>\n",
       "    <tr>\n",
       "      <th>4</th>\n",
       "      <td>40</td>\n",
       "      <td>Arione Moscato d'Asti</td>\n",
       "      <td>2023-07-21</td>\n",
       "      <td>honey apple peach citrus Slight fizziness ligh...</td>\n",
       "      <td>vivino</td>\n",
       "      <td>en</td>\n",
       "      <td>honey apple peach citrus Slight fizziness ligh...</td>\n",
       "      <td>sparkling</td>\n",
       "    </tr>\n",
       "  </tbody>\n",
       "</table>\n",
       "</div>"
      ],
      "text/plain": [
       "   wid                   wine       date  \\\n",
       "0   40  Arione Moscato d'Asti 2023-11-06   \n",
       "1   40  Arione Moscato d'Asti 2023-10-17   \n",
       "2   40  Arione Moscato d'Asti 2023-10-09   \n",
       "3   40  Arione Moscato d'Asti 2023-10-08   \n",
       "4   40  Arione Moscato d'Asti 2023-07-21   \n",
       "\n",
       "                                              review  source lang  \\\n",
       "0                 pera pesca nota tropicale minerali  vivino   it   \n",
       "1                                             Ottimo  vivino   it   \n",
       "2  조금 산뜻한 향, 처음 마시고 조금 있는 바디감, Saracco보다 조금 덜 달게 ...  vivino   ko   \n",
       "3                               Afrutado, delicioso.  vivino   es   \n",
       "4  honey apple peach citrus Slight fizziness ligh...  vivino   en   \n",
       "\n",
       "                                       review_transl      style  \n",
       "0                  pear peach tropical note minerals  sparkling  \n",
       "1                                            Optimal  sparkling  \n",
       "2  A slightly refreshing scent, a bit of body whe...  sparkling  \n",
       "3                                 Fruity, delicious.  sparkling  \n",
       "4  honey apple peach citrus Slight fizziness ligh...  sparkling  "
      ]
     },
     "execution_count": 3,
     "metadata": {},
     "output_type": "execute_result"
    }
   ],
   "source": [
    "df_reviews.head()"
   ]
  },
  {
   "cell_type": "code",
   "execution_count": 4,
   "id": "45749522-6527-4830-ac95-7043b5494c2f",
   "metadata": {},
   "outputs": [
    {
     "data": {
      "text/plain": [
       "wid  wine                                                   \n",
       "0    Casillero del Diablo Cabernet Sauvignon (Reserva)          472\n",
       "1    Yellow Tail Cabernet Sauvignon                             136\n",
       "2    Roche Mazet Cuvée Spéciale Cabernet Sauvignon               61\n",
       "3    San Pedro Gato Negro Cabernet Sauvignon                    878\n",
       "4    Aguirre Dos Copas Cabernet Sauvignon                         7\n",
       "                                                               ... \n",
       "64   Dark Horse Cabernet Sauvignon                              275\n",
       "65   14 Hands Cabernet Sauvignon                                106\n",
       "66   Quebrada de Macul Alba de Domus                             28\n",
       "67   Montes Montes Alpha Special Cuvée Cabernet Sauvignon        37\n",
       "68   Masseria Borgo dei Trulli Lucale Appassimento Primitivo     63\n",
       "Name: review_transl, Length: 69, dtype: int64"
      ]
     },
     "execution_count": 4,
     "metadata": {},
     "output_type": "execute_result"
    }
   ],
   "source": [
    "df_reviews.groupby(['wid', 'wine']).review_transl.count().sort_index(level=0)"
   ]
  },
  {
   "cell_type": "code",
   "execution_count": 5,
   "id": "785c982e-9320-477d-9f1b-ad2aac029cb9",
   "metadata": {},
   "outputs": [
    {
     "data": {
      "text/plain": [
       "69"
      ]
     },
     "execution_count": 5,
     "metadata": {},
     "output_type": "execute_result"
    }
   ],
   "source": [
    "df_reviews.wid.nunique()"
   ]
  },
  {
   "cell_type": "code",
   "execution_count": 6,
   "id": "7471b029-1f3c-4358-9ab6-948088177007",
   "metadata": {},
   "outputs": [
    {
     "data": {
      "text/plain": [
       "69"
      ]
     },
     "execution_count": 6,
     "metadata": {},
     "output_type": "execute_result"
    }
   ],
   "source": [
    "id_start = df_reviews.wid.max() + 1\n",
    "id_start"
   ]
  },
  {
   "cell_type": "code",
   "execution_count": 7,
   "id": "64050c39-7fd2-4c26-b0ec-785302e37ad6",
   "metadata": {},
   "outputs": [
    {
     "data": {
      "text/plain": [
       "[]"
      ]
     },
     "execution_count": 7,
     "metadata": {},
     "output_type": "execute_result"
    }
   ],
   "source": [
    "# wid missing\n",
    "mwid = set(range(df_reviews.wid.max())) - set(df_reviews.wid.unique())\n",
    "mwid = list(mwid)\n",
    "mwid"
   ]
  },
  {
   "cell_type": "markdown",
   "id": "1e006be1-4ee4-4d5f-b2c0-532fd486fefb",
   "metadata": {},
   "source": [
    "## Check duplicates"
   ]
  },
  {
   "cell_type": "code",
   "execution_count": 9,
   "id": "62a2f100-e031-4761-8fed-14a4db9be4af",
   "metadata": {},
   "outputs": [
    {
     "data": {
      "text/html": [
       "<div>\n",
       "<style scoped>\n",
       "    .dataframe tbody tr th:only-of-type {\n",
       "        vertical-align: middle;\n",
       "    }\n",
       "\n",
       "    .dataframe tbody tr th {\n",
       "        vertical-align: top;\n",
       "    }\n",
       "\n",
       "    .dataframe thead th {\n",
       "        text-align: right;\n",
       "    }\n",
       "</style>\n",
       "<table border=\"1\" class=\"dataframe\">\n",
       "  <thead>\n",
       "    <tr style=\"text-align: right;\">\n",
       "      <th></th>\n",
       "      <th>wid</th>\n",
       "      <th>wine</th>\n",
       "      <th>date</th>\n",
       "      <th>review</th>\n",
       "      <th>source</th>\n",
       "      <th>lang</th>\n",
       "      <th>review_transl</th>\n",
       "      <th>style</th>\n",
       "    </tr>\n",
       "  </thead>\n",
       "  <tbody>\n",
       "  </tbody>\n",
       "</table>\n",
       "</div>"
      ],
      "text/plain": [
       "Empty DataFrame\n",
       "Columns: [wid, wine, date, review, source, lang, review_transl, style]\n",
       "Index: []"
      ]
     },
     "execution_count": 9,
     "metadata": {},
     "output_type": "execute_result"
    }
   ],
   "source": [
    "check_duplicated(df_reviews)"
   ]
  },
  {
   "cell_type": "markdown",
   "id": "13c4cf2a-7b1f-43d5-8eb9-188696ce3f5c",
   "metadata": {},
   "source": [
    "*uncomment if duplicates exist*"
   ]
  },
  {
   "cell_type": "code",
   "execution_count": 11,
   "id": "ae58e8d3-25c5-4721-b302-6f1d8fb8b8b0",
   "metadata": {},
   "outputs": [],
   "source": [
    "#df_reviews = check_duplicated(df_reviews, drop=True)"
   ]
  },
  {
   "cell_type": "code",
   "execution_count": 12,
   "id": "5cdcb700-7339-4ef9-b62a-3ca1210c22ae",
   "metadata": {},
   "outputs": [
    {
     "data": {
      "text/plain": [
       "9891"
      ]
     },
     "execution_count": 12,
     "metadata": {},
     "output_type": "execute_result"
    }
   ],
   "source": [
    "len(df_reviews)"
   ]
  },
  {
   "cell_type": "markdown",
   "id": "75b09696-2a65-463b-a4c4-76f1a194afd4",
   "metadata": {},
   "source": [
    "# Scraping"
   ]
  },
  {
   "cell_type": "markdown",
   "id": "ad718d1c-8263-42ca-bb55-f3dff78a29bb",
   "metadata": {},
   "source": [
    "## Wines"
   ]
  },
  {
   "cell_type": "code",
   "execution_count": 11,
   "id": "7c9a37c5-1d86-487b-a392-6329388955fe",
   "metadata": {},
   "outputs": [],
   "source": [
    "url = 'https://www.gsshop.com/shop/wine/plan.gs?planSeq=175966&planType=R&lseq=424328-5'\n",
    "wines, _ = simple_scraper(url, 'prd-name', 'prd-desc')"
   ]
  },
  {
   "cell_type": "code",
   "execution_count": 12,
   "id": "6a224e73-c40f-4e1c-99fc-772e6d0a62d2",
   "metadata": {},
   "outputs": [
    {
     "data": {
      "text/plain": [
       "{'몬테스)알파 블랙 카버네소비뇽': 'Montes Alpha Black C/S',\n",
       " '카니버 카버네 소비뇽': 'CARNIVOR CABERNET SAUVIGNON',\n",
       " '킬리카눈 코브넌트 쉬라즈': 'KILIKANOON COVENANT SHIRAZ',\n",
       " '투 핸즈)엔젤스 쉐어 쉬라즈': \"Two Hands Angel's Share\",\n",
       " '디아블로)블랙 카베르네 소비뇽': 'DIABLO BLACK CABERNET SAUVIGNON',\n",
       " '카를로 사니 수수마니엘로': 'Carlo Sani, Susumaniello',\n",
       " '다렌버그 하이 트렐리스 카베르네 소비뇽': 'The High Trellis Cabernet Sauvignon',\n",
       " '보데가스 란 그란 리제르바': 'BODEGAS LAN GRAN RESERVA',\n",
       " '포스타 레드와인(2입)': 'Four Star Red',\n",
       " '우드브릿지 까베르네 소비뇽': 'Woodbridge Cabernet Sauvignon',\n",
       " '까테나 자파타)까테나 까베르네소비뇽': 'Catena Zapata Catena Cabernet Sauvignon',\n",
       " '우나니메)피노누아': 'UNANIME PINOT NOIR',\n",
       " '끌로 드 로스 씨에떼': 'Clos de Los Siete',\n",
       " '필리프 수퍼 토스카나(피크닉 와인)': 'Philip (Super Toscana)',\n",
       " '라포스톨)그랑 셀렉션 메를로': 'Lapostolle Merlot',\n",
       " '델리카토)1924 포트 배럴 에이지드 피노누아': '1924 Port Barrel Aged Pinot Noir',\n",
       " '코폴라)다이아컬렉션 클라렛': 'Coppola-Diamond Collection Claret',\n",
       " '다크호스 카버네 소비뇽': 'DARK HORSE CABERNET SAUVIGNON',\n",
       " '14 핸즈 카베르네 소비뇽': '14Hands Cabernet Sauvignon',\n",
       " '알바 드 도머스': 'Alba de Domus',\n",
       " '파이오니어스 포인트 까베르네 소비뇽': \"Pioneer's Point Cabernet Sauvignon\",\n",
       " '루칼레 아파씨멘토': '',\n",
       " '타리마 힐': 'Tarima Hill'}"
      ]
     },
     "execution_count": 12,
     "metadata": {},
     "output_type": "execute_result"
    }
   ],
   "source": [
    "ws = dict(zip(wines['prd-name'], wines['prd-desc']))\n",
    "ws"
   ]
  },
  {
   "cell_type": "code",
   "execution_count": 16,
   "id": "82fd281a-04f8-4551-ae21-19102e7d2e66",
   "metadata": {},
   "outputs": [
    {
     "data": {
      "text/plain": [
       "{'몬테스)알파 블랙 카버네소비뇽': 'Montes Montes Alpha Special Cuvée Cabernet Sauvignon',\n",
       " '카니버 카버네 소비뇽': 'CARNIVOR CABERNET SAUVIGNON',\n",
       " '킬리카눈 코브넌트 쉬라즈': 'KILIKANOON COVENANT SHIRAZ',\n",
       " '투 핸즈)엔젤스 쉐어 쉬라즈': \"Two Hands Angel's Share\",\n",
       " '디아블로)블랙 카베르네 소비뇽': 'DIABLO BLACK CABERNET SAUVIGNON',\n",
       " '카를로 사니 수수마니엘로': 'Carlo Sani, Susumaniello',\n",
       " '다렌버그 하이 트렐리스 카베르네 소비뇽': 'The High Trellis Cabernet Sauvignon',\n",
       " '보데가스 란 그란 리제르바': 'BODEGAS LAN GRAN RESERVA',\n",
       " '포스타 레드와인(2입)': 'Four Star Red',\n",
       " '우드브릿지 까베르네 소비뇽': 'Woodbridge Cabernet Sauvignon',\n",
       " '까테나 자파타)까테나 까베르네소비뇽': 'Catena Zapata Catena Cabernet Sauvignon',\n",
       " '우나니메)피노누아': 'UNANIME PINOT NOIR',\n",
       " '끌로 드 로스 씨에떼': 'Clos de Los Siete',\n",
       " '필리프 수퍼 토스카나(피크닉 와인)': 'Philip (Super Toscana)',\n",
       " '라포스톨)그랑 셀렉션 메를로': 'Lapostolle Merlot',\n",
       " '델리카토)1924 포트 배럴 에이지드 피노누아': '1924 Port Barrel Aged Pinot Noir',\n",
       " '코폴라)다이아컬렉션 클라렛': 'Coppola-Diamond Collection Claret',\n",
       " '다크호스 카버네 소비뇽': 'DARK HORSE CABERNET SAUVIGNON',\n",
       " '14 핸즈 카베르네 소비뇽': '14Hands Cabernet Sauvignon',\n",
       " '알바 드 도머스': 'Alba de Domus',\n",
       " '파이오니어스 포인트 까베르네 소비뇽': \"Pioneer's Point Cabernet Sauvignon\",\n",
       " '루칼레 아파씨멘토': 'Lucale Appassimento',\n",
       " '타리마 힐': 'Tarima Hill'}"
      ]
     },
     "execution_count": 16,
     "metadata": {},
     "output_type": "execute_result"
    }
   ],
   "source": [
    "ws['몬테스)알파 블랙 카버네소비뇽'] = 'Montes Montes Alpha Special Cuvée Cabernet Sauvignon'\n",
    "ws['루칼레 아파씨멘토'] = 'Lucale Appassimento'\n",
    "ws"
   ]
  },
  {
   "cell_type": "markdown",
   "id": "06794cbd-1ae2-4442-9af1-103144b0f780",
   "metadata": {},
   "source": [
    "*search wines not in existing review data*"
   ]
  },
  {
   "cell_type": "code",
   "execution_count": 13,
   "id": "8e667571-9822-45f1-9646-ef8f5dbaf9b2",
   "metadata": {},
   "outputs": [
    {
     "name": "stderr",
     "output_type": "stream",
     "text": [
      "model.safetensors: 100%|███████████████████████████████████████| 90.9M/90.9M [00:07<00:00, 11.6MB/s]\n"
     ]
    },
    {
     "name": "stdout",
     "output_type": "stream",
     "text": [
      "Existing words (query: result)\n",
      "0: KILIKANOON COVENANT SHIRAZ / Kilikanoon Covenant Shiraz / 1.0\n",
      "1: DIABLO BLACK CABERNET SAUVIGNON / Diablo Black Cabernet Sauvignon / 1.0\n",
      "2: DARK HORSE CABERNET SAUVIGNON / Dark Horse Cabernet Sauvignon / 1.0\n",
      "3: CARNIVOR CABERNET SAUVIGNON / Carnivor Cabernet Sauvignon / 1.0\n",
      "4: Carlo Sani, Susumaniello / Carlo Sani Susumaniello / 0.958\n",
      "5: 14Hands Cabernet Sauvignon / 14 Hands Cabernet Sauvignon / 0.939\n",
      "6: Catena Zapata Catena Cabernet Sauvignon / Catena Cabernet Sauvignon / 0.913\n",
      "7: The High Trellis Cabernet Sauvignon / d'Arenberg The High Trellis Cabernet Sauvignon / 0.905\n",
      "8: Woodbridge Cabernet Sauvignon / Woodbridge by Robert Mondavi Cabernet Sauvignon / 0.895\n",
      "9: 1924 Port Barrel Aged Pinot Noir / 1924 Wines Port Barrel Aged Pinot Noir (Limited Edition) / 0.884\n",
      "10: Clos de Los Siete / Clos de los Siete Clos de Los Siete (by Michel Rolland) / 0.85\n",
      "11: Alba de Domus / Quebrada de Macul Alba de Domus / 0.841\n",
      "12: Pioneer's Point Cabernet Sauvignon / Kendall-Jackson Vintner's Reserve Cabernet Sauvignon / 0.824\n",
      "13: Lapostolle Merlot / Lapostolle Grand Selection Merlot / 0.799\n",
      "14: BODEGAS LAN GRAN RESERVA / Lan Gran Reserva Rioja / 0.765\n",
      "15: UNANIME PINOT NOIR / Bread & Butter Pinot Noir / 0.756\n",
      "16: Two Hands Angel's Share / Two Hands Angels' Share Shiraz / 0.746\n",
      "17: Montes Alpha Black C/S / Montes Montes Alpha Merlot / 0.714\n",
      "18: Coppola-Diamond Collection Claret / Francis Ford Coppola Winery Diamond Collection Claret / 0.675\n",
      "19: Philip (Super Toscana) / Mazzei Philip / 0.673\n",
      "20: Tarima Hill / Volver Tarima Hill Old Vines Monastrell / 0.516\n",
      "21: Four Star Red / Yellow Tail Chardonnay / 0.324\n",
      "22:  / Lan Gran Reserva Rioja / 0.203\n",
      "\n",
      "Returning existing words\n"
     ]
    }
   ],
   "source": [
    "threshold=0\n",
    "return_new=False # set to True if returning wines not in review db\n",
    "\n",
    "# existing wines in data\n",
    "wid_wine = df_reviews.drop_duplicates(['wid', 'wine'])[['wid', 'wine']].to_dict(orient='list')\n",
    "\n",
    "vocabulary = wid_wine['wine'] # voca of existing wines\n",
    "queries = list(ws.values()) # wines to search\n",
    "\n",
    "wdb = SemanticSearch(vocabulary, embedding_model='all-MiniLM-L6-v2')\n",
    "df = wdb.check_existence(queries, threshold=threshold, return_new=return_new, print_out=True)"
   ]
  },
  {
   "cell_type": "code",
   "execution_count": 14,
   "id": "b3e934c4-3f65-4dc4-ada3-62e477f2b957",
   "metadata": {},
   "outputs": [
    {
     "data": {
      "text/html": [
       "<div>\n",
       "<style scoped>\n",
       "    .dataframe tbody tr th:only-of-type {\n",
       "        vertical-align: middle;\n",
       "    }\n",
       "\n",
       "    .dataframe tbody tr th {\n",
       "        vertical-align: top;\n",
       "    }\n",
       "\n",
       "    .dataframe thead th {\n",
       "        text-align: right;\n",
       "    }\n",
       "</style>\n",
       "<table border=\"1\" class=\"dataframe\">\n",
       "  <thead>\n",
       "    <tr style=\"text-align: right;\">\n",
       "      <th></th>\n",
       "      <th>query</th>\n",
       "      <th>result</th>\n",
       "      <th>score</th>\n",
       "    </tr>\n",
       "  </thead>\n",
       "  <tbody>\n",
       "    <tr>\n",
       "      <th>0</th>\n",
       "      <td>KILIKANOON COVENANT SHIRAZ</td>\n",
       "      <td>Kilikanoon Covenant Shiraz</td>\n",
       "      <td>1.000</td>\n",
       "    </tr>\n",
       "    <tr>\n",
       "      <th>1</th>\n",
       "      <td>DIABLO BLACK CABERNET SAUVIGNON</td>\n",
       "      <td>Diablo Black Cabernet Sauvignon</td>\n",
       "      <td>1.000</td>\n",
       "    </tr>\n",
       "    <tr>\n",
       "      <th>2</th>\n",
       "      <td>DARK HORSE CABERNET SAUVIGNON</td>\n",
       "      <td>Dark Horse Cabernet Sauvignon</td>\n",
       "      <td>1.000</td>\n",
       "    </tr>\n",
       "    <tr>\n",
       "      <th>3</th>\n",
       "      <td>CARNIVOR CABERNET SAUVIGNON</td>\n",
       "      <td>Carnivor Cabernet Sauvignon</td>\n",
       "      <td>1.000</td>\n",
       "    </tr>\n",
       "    <tr>\n",
       "      <th>4</th>\n",
       "      <td>Carlo Sani, Susumaniello</td>\n",
       "      <td>Carlo Sani Susumaniello</td>\n",
       "      <td>0.958</td>\n",
       "    </tr>\n",
       "    <tr>\n",
       "      <th>5</th>\n",
       "      <td>14Hands Cabernet Sauvignon</td>\n",
       "      <td>14 Hands Cabernet Sauvignon</td>\n",
       "      <td>0.939</td>\n",
       "    </tr>\n",
       "    <tr>\n",
       "      <th>6</th>\n",
       "      <td>Catena Zapata Catena Cabernet Sauvignon</td>\n",
       "      <td>Catena Cabernet Sauvignon</td>\n",
       "      <td>0.913</td>\n",
       "    </tr>\n",
       "    <tr>\n",
       "      <th>7</th>\n",
       "      <td>The High Trellis Cabernet Sauvignon</td>\n",
       "      <td>d'Arenberg The High Trellis Cabernet Sauvignon</td>\n",
       "      <td>0.905</td>\n",
       "    </tr>\n",
       "    <tr>\n",
       "      <th>8</th>\n",
       "      <td>Woodbridge Cabernet Sauvignon</td>\n",
       "      <td>Woodbridge by Robert Mondavi Cabernet Sauvignon</td>\n",
       "      <td>0.895</td>\n",
       "    </tr>\n",
       "    <tr>\n",
       "      <th>9</th>\n",
       "      <td>1924 Port Barrel Aged Pinot Noir</td>\n",
       "      <td>1924 Wines Port Barrel Aged Pinot Noir (Limite...</td>\n",
       "      <td>0.884</td>\n",
       "    </tr>\n",
       "    <tr>\n",
       "      <th>10</th>\n",
       "      <td>Clos de Los Siete</td>\n",
       "      <td>Clos de los Siete Clos de Los Siete (by Michel...</td>\n",
       "      <td>0.850</td>\n",
       "    </tr>\n",
       "    <tr>\n",
       "      <th>11</th>\n",
       "      <td>Alba de Domus</td>\n",
       "      <td>Quebrada de Macul Alba de Domus</td>\n",
       "      <td>0.841</td>\n",
       "    </tr>\n",
       "    <tr>\n",
       "      <th>12</th>\n",
       "      <td>Pioneer's Point Cabernet Sauvignon</td>\n",
       "      <td>Kendall-Jackson Vintner's Reserve Cabernet Sau...</td>\n",
       "      <td>0.824</td>\n",
       "    </tr>\n",
       "    <tr>\n",
       "      <th>13</th>\n",
       "      <td>Lapostolle Merlot</td>\n",
       "      <td>Lapostolle Grand Selection Merlot</td>\n",
       "      <td>0.799</td>\n",
       "    </tr>\n",
       "    <tr>\n",
       "      <th>14</th>\n",
       "      <td>BODEGAS LAN GRAN RESERVA</td>\n",
       "      <td>Lan Gran Reserva Rioja</td>\n",
       "      <td>0.765</td>\n",
       "    </tr>\n",
       "    <tr>\n",
       "      <th>15</th>\n",
       "      <td>UNANIME PINOT NOIR</td>\n",
       "      <td>Bread &amp; Butter Pinot Noir</td>\n",
       "      <td>0.756</td>\n",
       "    </tr>\n",
       "    <tr>\n",
       "      <th>16</th>\n",
       "      <td>Two Hands Angel's Share</td>\n",
       "      <td>Two Hands Angels' Share Shiraz</td>\n",
       "      <td>0.746</td>\n",
       "    </tr>\n",
       "    <tr>\n",
       "      <th>17</th>\n",
       "      <td>Montes Alpha Black C/S</td>\n",
       "      <td>Montes Montes Alpha Merlot</td>\n",
       "      <td>0.714</td>\n",
       "    </tr>\n",
       "    <tr>\n",
       "      <th>18</th>\n",
       "      <td>Coppola-Diamond Collection Claret</td>\n",
       "      <td>Francis Ford Coppola Winery Diamond Collection...</td>\n",
       "      <td>0.675</td>\n",
       "    </tr>\n",
       "    <tr>\n",
       "      <th>19</th>\n",
       "      <td>Philip (Super Toscana)</td>\n",
       "      <td>Mazzei Philip</td>\n",
       "      <td>0.673</td>\n",
       "    </tr>\n",
       "    <tr>\n",
       "      <th>20</th>\n",
       "      <td>Tarima Hill</td>\n",
       "      <td>Volver Tarima Hill Old Vines Monastrell</td>\n",
       "      <td>0.516</td>\n",
       "    </tr>\n",
       "    <tr>\n",
       "      <th>21</th>\n",
       "      <td>Four Star Red</td>\n",
       "      <td>Yellow Tail Chardonnay</td>\n",
       "      <td>0.324</td>\n",
       "    </tr>\n",
       "    <tr>\n",
       "      <th>22</th>\n",
       "      <td></td>\n",
       "      <td>Lan Gran Reserva Rioja</td>\n",
       "      <td>0.203</td>\n",
       "    </tr>\n",
       "  </tbody>\n",
       "</table>\n",
       "</div>"
      ],
      "text/plain": [
       "                                      query  \\\n",
       "0                KILIKANOON COVENANT SHIRAZ   \n",
       "1           DIABLO BLACK CABERNET SAUVIGNON   \n",
       "2             DARK HORSE CABERNET SAUVIGNON   \n",
       "3               CARNIVOR CABERNET SAUVIGNON   \n",
       "4                  Carlo Sani, Susumaniello   \n",
       "5                14Hands Cabernet Sauvignon   \n",
       "6   Catena Zapata Catena Cabernet Sauvignon   \n",
       "7       The High Trellis Cabernet Sauvignon   \n",
       "8             Woodbridge Cabernet Sauvignon   \n",
       "9          1924 Port Barrel Aged Pinot Noir   \n",
       "10                        Clos de Los Siete   \n",
       "11                            Alba de Domus   \n",
       "12       Pioneer's Point Cabernet Sauvignon   \n",
       "13                        Lapostolle Merlot   \n",
       "14                 BODEGAS LAN GRAN RESERVA   \n",
       "15                       UNANIME PINOT NOIR   \n",
       "16                  Two Hands Angel's Share   \n",
       "17                   Montes Alpha Black C/S   \n",
       "18        Coppola-Diamond Collection Claret   \n",
       "19                   Philip (Super Toscana)   \n",
       "20                              Tarima Hill   \n",
       "21                            Four Star Red   \n",
       "22                                            \n",
       "\n",
       "                                               result  score  \n",
       "0                          Kilikanoon Covenant Shiraz  1.000  \n",
       "1                     Diablo Black Cabernet Sauvignon  1.000  \n",
       "2                       Dark Horse Cabernet Sauvignon  1.000  \n",
       "3                         Carnivor Cabernet Sauvignon  1.000  \n",
       "4                             Carlo Sani Susumaniello  0.958  \n",
       "5                         14 Hands Cabernet Sauvignon  0.939  \n",
       "6                           Catena Cabernet Sauvignon  0.913  \n",
       "7      d'Arenberg The High Trellis Cabernet Sauvignon  0.905  \n",
       "8     Woodbridge by Robert Mondavi Cabernet Sauvignon  0.895  \n",
       "9   1924 Wines Port Barrel Aged Pinot Noir (Limite...  0.884  \n",
       "10  Clos de los Siete Clos de Los Siete (by Michel...  0.850  \n",
       "11                    Quebrada de Macul Alba de Domus  0.841  \n",
       "12  Kendall-Jackson Vintner's Reserve Cabernet Sau...  0.824  \n",
       "13                  Lapostolle Grand Selection Merlot  0.799  \n",
       "14                             Lan Gran Reserva Rioja  0.765  \n",
       "15                          Bread & Butter Pinot Noir  0.756  \n",
       "16                     Two Hands Angels' Share Shiraz  0.746  \n",
       "17                         Montes Montes Alpha Merlot  0.714  \n",
       "18  Francis Ford Coppola Winery Diamond Collection...  0.675  \n",
       "19                                      Mazzei Philip  0.673  \n",
       "20            Volver Tarima Hill Old Vines Monastrell  0.516  \n",
       "21                             Yellow Tail Chardonnay  0.324  \n",
       "22                             Lan Gran Reserva Rioja  0.203  "
      ]
     },
     "execution_count": 14,
     "metadata": {},
     "output_type": "execute_result"
    }
   ],
   "source": [
    "#idx = [1, 4, 10]\n",
    "#df = df.loc[df.index.isin(idx)]\n",
    "df"
   ]
  },
  {
   "cell_type": "code",
   "execution_count": 24,
   "id": "12705953-f17f-40c6-b6be-fd45f8d0efa3",
   "metadata": {},
   "outputs": [
    {
     "data": {
      "text/plain": [
       "['Montes Montes Alpha Special Cuvée Cabernet Sauvignon',\n",
       " 'Dark Horse Cabernet Sauvignon',\n",
       " 'Kilikanoon Covenant Shiraz',\n",
       " 'Diablo Black Cabernet Sauvignon',\n",
       " 'Carnivor Cabernet Sauvignon',\n",
       " 'Carlo Sani Susumaniello',\n",
       " '14 Hands Cabernet Sauvignon',\n",
       " 'Catena Cabernet Sauvignon',\n",
       " \"d'Arenberg The High Trellis Cabernet Sauvignon\",\n",
       " 'Woodbridge by Robert Mondavi Cabernet Sauvignon',\n",
       " '1924 Wines Port Barrel Aged Pinot Noir (Limited Edition)',\n",
       " 'Clos de los Siete Clos de Los Siete (by Michel Rolland)',\n",
       " 'Quebrada de Macul Alba de Domus',\n",
       " 'Lapostolle Grand Selection Merlot',\n",
       " 'Lan Gran Reserva Rioja',\n",
       " \"Two Hands Angels' Share Shiraz\",\n",
       " 'Francis Ford Coppola Winery Diamond Collection Claret',\n",
       " 'Mazzei Philip',\n",
       " 'Masseria Borgo dei Trulli Lucale Appassimento Primitivo',\n",
       " 'Volver Tarima Hill Old Vines Monastrell']"
      ]
     },
     "execution_count": 24,
     "metadata": {},
     "output_type": "execute_result"
    }
   ],
   "source": [
    "df.loc[~df.index.isin([13,16,22]), 'result'].to_list()"
   ]
  },
  {
   "cell_type": "code",
   "execution_count": 15,
   "id": "301cd131-dd78-4bbe-b789-b3b88f4d2f27",
   "metadata": {},
   "outputs": [
    {
     "name": "stdout",
     "output_type": "stream",
     "text": [
      "Existing words (query: result)\n",
      "0: KILIKANOON COVENANT SHIRAZ / Kilikanoon Covenant Shiraz / 1.0\n",
      "1: DIABLO BLACK CABERNET SAUVIGNON / Diablo Black Cabernet Sauvignon / 1.0\n",
      "2: DARK HORSE CABERNET SAUVIGNON / Dark Horse Cabernet Sauvignon / 1.0\n",
      "3: CARNIVOR CABERNET SAUVIGNON / Carnivor Cabernet Sauvignon / 1.0\n",
      "4: Carlo Sani, Susumaniello / Carlo Sani Susumaniello / 0.958\n",
      "5: 14Hands Cabernet Sauvignon / 14 Hands Cabernet Sauvignon / 0.939\n",
      "6: Catena Zapata Catena Cabernet Sauvignon / Catena Cabernet Sauvignon / 0.913\n",
      "7: The High Trellis Cabernet Sauvignon / d'Arenberg The High Trellis Cabernet Sauvignon / 0.905\n",
      "8: Woodbridge Cabernet Sauvignon / Woodbridge by Robert Mondavi Cabernet Sauvignon / 0.895\n",
      "9: 1924 Port Barrel Aged Pinot Noir / 1924 Wines Port Barrel Aged Pinot Noir (Limited Edition) / 0.884\n",
      "10: Clos de Los Siete / Clos de los Siete Clos de Los Siete (by Michel Rolland) / 0.85\n",
      "11: Alba de Domus / Quebrada de Macul Alba de Domus / 0.841\n",
      "12: Pioneer's Point Cabernet Sauvignon / Kendall-Jackson Vintner's Reserve Cabernet Sauvignon / 0.824\n",
      "13: Lapostolle Merlot / Lapostolle Grand Selection Merlot / 0.799\n",
      "14: BODEGAS LAN GRAN RESERVA / Lan Gran Reserva Rioja / 0.765\n",
      "15: UNANIME PINOT NOIR / Bread & Butter Pinot Noir / 0.756\n",
      "16: Two Hands Angel's Share / Two Hands Angels' Share Shiraz / 0.746\n",
      "17: Montes Alpha Black C/S / Montes Montes Alpha Merlot / 0.714\n",
      "18: Coppola-Diamond Collection Claret / Francis Ford Coppola Winery Diamond Collection Claret / 0.675\n",
      "19: Philip (Super Toscana) / Mazzei Philip / 0.673\n",
      "20: Tarima Hill / Volver Tarima Hill Old Vines Monastrell / 0.516\n",
      "21: Four Star Red / Yellow Tail Chardonnay / 0.324\n",
      "22:  / Lan Gran Reserva Rioja / 0.203\n",
      "\n",
      "Returning new words\n"
     ]
    }
   ],
   "source": [
    "q = df['query'].tolist()\n",
    "_ = wdb.check_existence(q, threshold=0)"
   ]
  },
  {
   "cell_type": "code",
   "execution_count": 22,
   "id": "a18cbf30-f94f-4dfc-be50-529ea1c3ba40",
   "metadata": {},
   "outputs": [
    {
     "name": "stdout",
     "output_type": "stream",
     "text": [
      "Pioneer's Point Cabernet Sauvignon\n",
      "UNANIME PINOT NOIR\n",
      "Four Star Red\n"
     ]
    }
   ],
   "source": [
    "_ = [print(x) for x in q]"
   ]
  },
  {
   "cell_type": "code",
   "execution_count": 16,
   "id": "6bdae126-4fc1-452d-9c7e-0b27d5310baa",
   "metadata": {},
   "outputs": [
    {
     "name": "stdout",
     "output_type": "stream",
     "text": [
      "Existing words (query: result)\n",
      "0: Mascota Vineyards Unánime Pinot Noir / Mascota Vineyards Unánime Pinot Noir / 1.0\n",
      "\n",
      "Returning new words\n"
     ]
    }
   ],
   "source": [
    "q = ['Mascota Vineyards Unánime Pinot Noir']\n",
    "_ = wdb.check_existence(q, threshold=0)"
   ]
  },
  {
   "cell_type": "markdown",
   "id": "9c3de2cf-252c-4e53-a9ef-a41647c926e0",
   "metadata": {},
   "source": [
    "*keep log of wine scraping*"
   ]
  },
  {
   "cell_type": "code",
   "execution_count": 24,
   "id": "632a2aea-d8c6-4e84-9041-f3c8b5ac0b8b",
   "metadata": {},
   "outputs": [
    {
     "data": {
      "text/html": [
       "<div>\n",
       "<style scoped>\n",
       "    .dataframe tbody tr th:only-of-type {\n",
       "        vertical-align: middle;\n",
       "    }\n",
       "\n",
       "    .dataframe tbody tr th {\n",
       "        vertical-align: top;\n",
       "    }\n",
       "\n",
       "    .dataframe thead th {\n",
       "        text-align: right;\n",
       "    }\n",
       "</style>\n",
       "<table border=\"1\" class=\"dataframe\">\n",
       "  <thead>\n",
       "    <tr style=\"text-align: right;\">\n",
       "      <th></th>\n",
       "      <th>date</th>\n",
       "      <th>wine</th>\n",
       "      <th>comment</th>\n",
       "      <th>source</th>\n",
       "    </tr>\n",
       "  </thead>\n",
       "  <tbody>\n",
       "    <tr>\n",
       "      <th>0</th>\n",
       "      <td>2024-03-27</td>\n",
       "      <td>Four Star Red</td>\n",
       "      <td>no recent reviews in vivino</td>\n",
       "      <td>vivino</td>\n",
       "    </tr>\n",
       "    <tr>\n",
       "      <th>1</th>\n",
       "      <td>2024-03-27</td>\n",
       "      <td>Pioneer's Point Cabernet Sauvignon</td>\n",
       "      <td>not enough ratings in vivino</td>\n",
       "      <td>vivino</td>\n",
       "    </tr>\n",
       "    <tr>\n",
       "      <th>2</th>\n",
       "      <td>2024-03-27</td>\n",
       "      <td>Mascota Vineyards Unánime Pinot Noir</td>\n",
       "      <td>fail to find in review db as UNANIME PINOT NOIR</td>\n",
       "      <td>NaN</td>\n",
       "    </tr>\n",
       "  </tbody>\n",
       "</table>\n",
       "</div>"
      ],
      "text/plain": [
       "        date                                   wine  \\\n",
       "0 2024-03-27                          Four Star Red   \n",
       "1 2024-03-27     Pioneer's Point Cabernet Sauvignon   \n",
       "2 2024-03-27   Mascota Vineyards Unánime Pinot Noir   \n",
       "\n",
       "                                            comment   source  \n",
       "0                       no recent reviews in vivino   vivino  \n",
       "1                      not enough ratings in vivino   vivino  \n",
       "2   fail to find in review db as UNANIME PINOT NOIR      NaN  "
      ]
     },
     "execution_count": 24,
     "metadata": {},
     "output_type": "execute_result"
    }
   ],
   "source": [
    "df = read_csv('wine_log.txt', parse_dates=['date'])\n",
    "df"
   ]
  },
  {
   "cell_type": "markdown",
   "id": "5582df65-b029-494e-868d-69d3fc136b1d",
   "metadata": {},
   "source": [
    "### Check URL"
   ]
  },
  {
   "cell_type": "code",
   "execution_count": 16,
   "id": "4fb68fca-5487-4d8b-95ea-d3141626a7b3",
   "metadata": {
    "scrolled": true
   },
   "outputs": [
    {
     "name": "stdout",
     "output_type": "stream",
     "text": [
      "Four Star Red\n",
      "https://www.vivino.com/US-CA/en/four-star-red/w/4235576?ref=nav-search\n",
      "Arione Moscato d'Asti\n",
      "https://www.vivino.com/arione-moscato-d-asti/w/1154484?ref=nav-search\n",
      "Catena Cabernet Sauvignon\n",
      "https://www.vivino.com/catena-mendoza-cabernet-sauvignon/w/1268655?ref=nav-search\n"
     ]
    }
   ],
   "source": [
    "file = 'data/wines_to_collect.txt'\n",
    "\n",
    "with open(file, 'r') as f:\n",
    "    w = f.read()\n",
    "print(w)"
   ]
  },
  {
   "cell_type": "code",
   "execution_count": 17,
   "id": "442cce28-1e22-45e0-853c-1800094f11c6",
   "metadata": {},
   "outputs": [
    {
     "data": {
      "text/plain": [
       "3"
      ]
     },
     "execution_count": 17,
     "metadata": {},
     "output_type": "execute_result"
    }
   ],
   "source": [
    "w = w.strip('\\n').split('\\n')\n",
    "wines = {w[i]:w[i+1] for i in range(0, len(w), 2)}\n",
    "len(wines)"
   ]
  },
  {
   "cell_type": "code",
   "execution_count": 18,
   "id": "df8d756a-b520-4c3e-95f1-e12be27e4089",
   "metadata": {},
   "outputs": [
    {
     "name": "stdout",
     "output_type": "stream",
     "text": [
      "The top 5 pairs of least similarity:\n",
      "0.85) Arione Moscato d'Asti: arione-moscato-d-asti\n",
      "0.89) Catena Cabernet Sauvignon: catena-mendoza-cabernet-sauvignon\n",
      "0.92) Four Star Red: four-star-red\n"
     ]
    }
   ],
   "source": [
    "# check if wine name and its url match or not\n",
    "df = check_url(wines)"
   ]
  },
  {
   "cell_type": "markdown",
   "id": "95df6be2-cc93-43f7-a840-56c221d5c0d8",
   "metadata": {},
   "source": [
    "## Setting"
   ]
  },
  {
   "cell_type": "code",
   "execution_count": 11,
   "id": "51bfb2ea-38ff-4fc2-88af-7ea8171993dd",
   "metadata": {},
   "outputs": [],
   "source": [
    "locator_ratings = \"//a[@href='#all_reviews']\"\n",
    "locator_more = \"//button[@tabindex='0']\"\n",
    "locator_recent = '//*[@data-testid=\"baseModalBackdrop\"]/div[2]/div[2]/div[2]/div/a[1]'\n",
    "\n",
    "locator_review = \"communityReview__reviewText--2bfLj\"\n",
    "locator_date = \"anchor_anchor__m8Qi- reviewAnchor__anchor--2NKFw reviewDate__reviewDate--49vpM undefined\"\n",
    "\n",
    "kwargs = {\n",
    "    'loc1': locator_ratings,\n",
    "    'loc2': locator_more,\n",
    "    'loc3': locator_recent, \n",
    "    'loc4': locator_review,\n",
    "    'loc5': locator_date\n",
    "}"
   ]
  },
  {
   "cell_type": "code",
   "execution_count": 12,
   "id": "39f95682-cc61-428a-8e82-e8f1a16f68d9",
   "metadata": {},
   "outputs": [],
   "source": [
    "kwargs.update({\n",
    "    'end_date': '20220101',\n",
    "    'source': 'vivino',\n",
    "    #'headless': True, # failed for background running \n",
    "    #'max_scr': 10, 'time_scr': 2, 'check_idx': 4\n",
    "})"
   ]
  },
  {
   "cell_type": "markdown",
   "id": "88813fbe-b0b8-450b-9aa2-8177add91a71",
   "metadata": {},
   "source": [
    "## Collect"
   ]
  },
  {
   "cell_type": "markdown",
   "id": "560396fb-1da8-49e6-8b5c-c8a9c79210db",
   "metadata": {},
   "source": [
    "*load reviews of wines not translated yet*"
   ]
  },
  {
   "cell_type": "code",
   "execution_count": 24,
   "id": "a0cdb17b-dd27-4e72-ba57-08fecffa6d79",
   "metadata": {},
   "outputs": [
    {
     "data": {
      "text/plain": [
       "wid\n",
       "8    [Viña Santa Helena Reservado Cabernet Sauvignon']\n",
       "Name: wine, dtype: object"
      ]
     },
     "execution_count": 24,
     "metadata": {},
     "output_type": "execute_result"
    }
   ],
   "source": [
    "#file = 'wine_\\d+\\.csv'\n",
    "file = 'wine_8'\n",
    "\n",
    "df_reviews = pd.DataFrame()\n",
    "\n",
    "df = read_csv(file, 'data', parse_dates=['date'])\n",
    "df_reviews = pd.concat([df_reviews, df])\n",
    "\n",
    "# check duplicate wid\n",
    "df_reviews.groupby('wid').wine.unique()"
   ]
  },
  {
   "cell_type": "code",
   "execution_count": 25,
   "id": "4e6b360b-9861-4f74-b0a3-0edf7432491f",
   "metadata": {},
   "outputs": [
    {
     "data": {
      "text/plain": [
       "9"
      ]
     },
     "execution_count": 25,
     "metadata": {},
     "output_type": "execute_result"
    }
   ],
   "source": [
    "id_start = df_reviews.wid.max() + 1\n",
    "id_start"
   ]
  },
  {
   "cell_type": "markdown",
   "id": "ae345a76-ebc9-4f1f-b784-4efeb8ffc82d",
   "metadata": {},
   "source": [
    "*uncomment if no reviews unfinished*"
   ]
  },
  {
   "cell_type": "code",
   "execution_count": 19,
   "id": "a7cdf2d7-2c0d-44cc-8a2f-ff889bacb3ba",
   "metadata": {},
   "outputs": [],
   "source": [
    "df_reviews = pd.DataFrame()"
   ]
  },
  {
   "cell_type": "code",
   "execution_count": 20,
   "id": "4c34e46f-b8c6-490a-95ca-f00703bbbaf3",
   "metadata": {},
   "outputs": [
    {
     "name": "stdout",
     "output_type": "stream",
     "text": [
      "scraping 1 ********************\n",
      "ERROR) Check locator: //*[@data-testid=\"baseModalBackdrop\"]/div[2]/div[2]/div[2]/div/a[1]\n",
      "ERROR: check Four Star Red\n"
     ]
    },
    {
     "name": "stderr",
     "output_type": "stream",
     "text": [
      "33it [00:16,  2.01it/s]\n"
     ]
    },
    {
     "name": "stdout",
     "output_type": "stream",
     "text": [
      "Arione Moscato d'Asti: 33 reviews collected.\n",
      "data/wine_69.csv saved.\n"
     ]
    },
    {
     "name": "stderr",
     "output_type": "stream",
     "text": [
      "123it [01:43,  1.18it/s]\n"
     ]
    },
    {
     "name": "stdout",
     "output_type": "stream",
     "text": [
      "Catena Cabernet Sauvignon: 123 reviews collected.\n",
      "data/wine_70.csv saved.\n",
      "num of failed: 1\n",
      "\n"
     ]
    }
   ],
   "source": [
    "num_try = 1 # num of try to scrape for failed wines\n",
    "\n",
    "col_rev = ['wid', 'wine', 'date', 'review', 'source']\n",
    "path = 'data'\n",
    "wines_failed = dict()\n",
    "\n",
    "for i in range(num_try):\n",
    "    print(f'scraping {i+1}', '*'*20)\n",
    "    #for wine_name, wine_url in wines:\n",
    "    for wine_name, wine_url in wines.items():\n",
    "        try:\n",
    "            df = vivino_reviews(wine_url, wine_name, **kwargs)\n",
    "            df_reviews = concat_reviews(df_reviews, df, wine_name, col_rev, path=path, id_start=id_start)\n",
    "        except:\n",
    "            print(f'ERROR: check {wine_name}')\n",
    "            wines_failed.update({wine_name: wine_url})\n",
    "        time.sleep(3)\n",
    "\n",
    "    if len(wines_failed) > 0:\n",
    "        print(f'num of failed: {len(wines_failed)}\\n')\n",
    "        wines = wines_failed\n",
    "        wines_failed = dict()\n",
    "        time.sleep(3)\n",
    "    else:\n",
    "        break"
   ]
  },
  {
   "cell_type": "markdown",
   "id": "fd1521a7-3988-4098-b430-c5e09fc6a4a2",
   "metadata": {},
   "source": [
    "**temp saving before translation**"
   ]
  },
  {
   "cell_type": "code",
   "execution_count": 23,
   "id": "aa6aef77-4bf1-4b9d-8400-f17f380f9d88",
   "metadata": {},
   "outputs": [
    {
     "data": {
      "text/plain": [
       "wid  wine                     \n",
       "69   Arione Moscato d'Asti         33\n",
       "70   Catena Cabernet Sauvignon    123\n",
       "Name: review, dtype: int64"
      ]
     },
     "execution_count": 23,
     "metadata": {},
     "output_type": "execute_result"
    }
   ],
   "source": [
    "df_reviews.groupby(['wid', 'wine']).review.count().sort_index(level=0)"
   ]
  },
  {
   "cell_type": "code",
   "execution_count": 24,
   "id": "1a4a8af7-781f-4f93-a279-db041f14f0d5",
   "metadata": {},
   "outputs": [
    {
     "name": "stdout",
     "output_type": "stream",
     "text": [
      "data/wine_reviews_tmp.csv saved.\n"
     ]
    }
   ],
   "source": [
    "save_csv(df_reviews, 'wine_reviews_tmp.csv', 'data', overwrite=True)"
   ]
  },
  {
   "cell_type": "markdown",
   "id": "d9f7f247-0751-46e4-bf66-48409773bb97",
   "metadata": {},
   "source": [
    "# Review data"
   ]
  },
  {
   "cell_type": "code",
   "execution_count": 29,
   "id": "af270968-963a-4a1a-a577-fb8187eb85d9",
   "metadata": {},
   "outputs": [],
   "source": [
    "df_reviews = read_csv('wine_reviews_tmp.csv', 'data', parse_dates=['date'])"
   ]
  },
  {
   "cell_type": "code",
   "execution_count": 30,
   "id": "36e8b2b4-f05e-4640-82e3-94f74672b445",
   "metadata": {},
   "outputs": [
    {
     "data": {
      "text/html": [
       "<div>\n",
       "<style scoped>\n",
       "    .dataframe tbody tr th:only-of-type {\n",
       "        vertical-align: middle;\n",
       "    }\n",
       "\n",
       "    .dataframe tbody tr th {\n",
       "        vertical-align: top;\n",
       "    }\n",
       "\n",
       "    .dataframe thead th {\n",
       "        text-align: right;\n",
       "    }\n",
       "</style>\n",
       "<table border=\"1\" class=\"dataframe\">\n",
       "  <thead>\n",
       "    <tr style=\"text-align: right;\">\n",
       "      <th></th>\n",
       "      <th>wid</th>\n",
       "      <th>wine</th>\n",
       "      <th>date</th>\n",
       "      <th>review</th>\n",
       "      <th>source</th>\n",
       "    </tr>\n",
       "  </thead>\n",
       "  <tbody>\n",
       "    <tr>\n",
       "      <th>29</th>\n",
       "      <td>69</td>\n",
       "      <td>Arione Moscato d'Asti</td>\n",
       "      <td>2021-10-30</td>\n",
       "      <td>NaN</td>\n",
       "      <td>vivino</td>\n",
       "    </tr>\n",
       "    <tr>\n",
       "      <th>100</th>\n",
       "      <td>70</td>\n",
       "      <td>Catena Cabernet Sauvignon</td>\n",
       "      <td>2022-06-27</td>\n",
       "      <td>NaN</td>\n",
       "      <td>vivino</td>\n",
       "    </tr>\n",
       "    <tr>\n",
       "      <th>123</th>\n",
       "      <td>70</td>\n",
       "      <td>Catena Cabernet Sauvignon</td>\n",
       "      <td>2022-01-27</td>\n",
       "      <td>NaN</td>\n",
       "      <td>vivino</td>\n",
       "    </tr>\n",
       "    <tr>\n",
       "      <th>146</th>\n",
       "      <td>70</td>\n",
       "      <td>Catena Cabernet Sauvignon</td>\n",
       "      <td>2021-11-12</td>\n",
       "      <td>NaN</td>\n",
       "      <td>vivino</td>\n",
       "    </tr>\n",
       "    <tr>\n",
       "      <th>153</th>\n",
       "      <td>70</td>\n",
       "      <td>Catena Cabernet Sauvignon</td>\n",
       "      <td>2016-06-10</td>\n",
       "      <td>NaN</td>\n",
       "      <td>vivino</td>\n",
       "    </tr>\n",
       "  </tbody>\n",
       "</table>\n",
       "</div>"
      ],
      "text/plain": [
       "     wid                       wine       date review  source\n",
       "29    69      Arione Moscato d'Asti 2021-10-30    NaN  vivino\n",
       "100   70  Catena Cabernet Sauvignon 2022-06-27    NaN  vivino\n",
       "123   70  Catena Cabernet Sauvignon 2022-01-27    NaN  vivino\n",
       "146   70  Catena Cabernet Sauvignon 2021-11-12    NaN  vivino\n",
       "153   70  Catena Cabernet Sauvignon 2016-06-10    NaN  vivino"
      ]
     },
     "execution_count": 30,
     "metadata": {},
     "output_type": "execute_result"
    }
   ],
   "source": [
    "cond = (df_reviews.date.isna()) | (df_reviews.review.isna())\n",
    "df_reviews.loc[cond]"
   ]
  },
  {
   "cell_type": "code",
   "execution_count": 31,
   "id": "1a192d4b-ef01-4279-9004-1abfb08ca53e",
   "metadata": {},
   "outputs": [],
   "source": [
    "df_reviews = df_reviews.loc[~cond].reset_index(drop=True)"
   ]
  },
  {
   "cell_type": "code",
   "execution_count": 32,
   "id": "8d9a594c-ae1f-44ba-ab72-997caa5d4094",
   "metadata": {},
   "outputs": [
    {
     "data": {
      "text/plain": [
       "date\n",
       "2024    12\n",
       "2023    42\n",
       "2022    70\n",
       "2021    24\n",
       "2020     2\n",
       "2018     1\n",
       "Name: count, dtype: int64"
      ]
     },
     "execution_count": 32,
     "metadata": {},
     "output_type": "execute_result"
    }
   ],
   "source": [
    "df_reviews.date.dt.year.value_counts().sort_index(ascending=False)"
   ]
  },
  {
   "cell_type": "code",
   "execution_count": 33,
   "id": "a1f48e7a-a07e-402b-8857-6c5a8b1bebbd",
   "metadata": {},
   "outputs": [
    {
     "data": {
      "text/plain": [
       "'20220101'"
      ]
     },
     "execution_count": 33,
     "metadata": {},
     "output_type": "execute_result"
    }
   ],
   "source": [
    "kwargs['end_date']"
   ]
  },
  {
   "cell_type": "code",
   "execution_count": 34,
   "id": "74aba128-d059-4951-93fd-2acb697e3641",
   "metadata": {},
   "outputs": [],
   "source": [
    "df_reviews = df_reviews.loc[df_reviews.date >= kwargs['end_date']]"
   ]
  },
  {
   "cell_type": "code",
   "execution_count": 35,
   "id": "a3aafc5b-fc20-4e05-af1f-9197e8215b9e",
   "metadata": {},
   "outputs": [
    {
     "data": {
      "text/plain": [
       "<Axes: >"
      ]
     },
     "execution_count": 35,
     "metadata": {},
     "output_type": "execute_result"
    },
    {
     "data": {
      "image/png": "[encoded data removed]",
      "text/plain": [
       "<Figure size 640x480 with 1 Axes>"
      ]
     },
     "metadata": {},
     "output_type": "display_data"
    }
   ],
   "source": [
    "#d = df_reviews.date.agg(['min', 'max']).to_list()\n",
    "d = [kwargs['end_date'], df_reviews.date.max()]\n",
    "\n",
    "date_range = pd.date_range(start=d[0], end=d[1]).to_period(\"M\").unique()\n",
    "\n",
    "(df_reviews\n",
    " .set_index('date').to_period(\"M\")\n",
    " .groupby(level=0).review.count()\n",
    " .sort_index()\n",
    " .reindex(date_range, fill_value=0)\n",
    " .plot(kind='barh')\n",
    ")"
   ]
  },
  {
   "cell_type": "code",
   "execution_count": 36,
   "id": "c1ce0430-3dea-4a97-a0b9-010a6580d0b0",
   "metadata": {},
   "outputs": [
    {
     "data": {
      "text/plain": [
       "<Axes: ylabel='wine'>"
      ]
     },
     "execution_count": 36,
     "metadata": {},
     "output_type": "execute_result"
    },
    {
     "data": {
      "image/png": "[encoded data removed]",
      "text/plain": [
       "<Figure size 640x480 with 1 Axes>"
      ]
     },
     "metadata": {},
     "output_type": "display_data"
    }
   ],
   "source": [
    "(df_reviews\n",
    " .groupby(by='wine').review.count()\n",
    " .plot(kind='barh')\n",
    ")"
   ]
  },
  {
   "cell_type": "code",
   "execution_count": 75,
   "id": "920c9d82-167b-4f27-b6d5-2ea7258a55fe",
   "metadata": {},
   "outputs": [
    {
     "data": {
      "text/html": [
       "<div>\n",
       "<style scoped>\n",
       "    .dataframe tbody tr th:only-of-type {\n",
       "        vertical-align: middle;\n",
       "    }\n",
       "\n",
       "    .dataframe tbody tr th {\n",
       "        vertical-align: top;\n",
       "    }\n",
       "\n",
       "    .dataframe thead th {\n",
       "        text-align: right;\n",
       "    }\n",
       "</style>\n",
       "<table border=\"1\" class=\"dataframe\">\n",
       "  <thead>\n",
       "    <tr style=\"text-align: right;\">\n",
       "      <th></th>\n",
       "      <th>wid</th>\n",
       "      <th>wine</th>\n",
       "      <th>date</th>\n",
       "      <th>review</th>\n",
       "      <th>source</th>\n",
       "    </tr>\n",
       "  </thead>\n",
       "  <tbody>\n",
       "    <tr>\n",
       "      <th>0</th>\n",
       "      <td>67</td>\n",
       "      <td>Montes Montes Alpha Special Cuvée Cabernet Sau...</td>\n",
       "      <td>2024-03-14</td>\n",
       "      <td>Vinho muito, mas muito bom da excelente vinícu...</td>\n",
       "      <td>vivino</td>\n",
       "    </tr>\n",
       "    <tr>\n",
       "      <th>1</th>\n",
       "      <td>67</td>\n",
       "      <td>Montes Montes Alpha Special Cuvée Cabernet Sau...</td>\n",
       "      <td>2024-01-20</td>\n",
       "      <td>oak tobacco black fruit blackberry pepper smok...</td>\n",
       "      <td>vivino</td>\n",
       "    </tr>\n",
       "    <tr>\n",
       "      <th>2</th>\n",
       "      <td>67</td>\n",
       "      <td>Montes Montes Alpha Special Cuvée Cabernet Sau...</td>\n",
       "      <td>2024-01-11</td>\n",
       "      <td>Adoramos! Frutas vermelhas. Ameixa. Pimentão v...</td>\n",
       "      <td>vivino</td>\n",
       "    </tr>\n",
       "    <tr>\n",
       "      <th>3</th>\n",
       "      <td>67</td>\n",
       "      <td>Montes Montes Alpha Special Cuvée Cabernet Sau...</td>\n",
       "      <td>2023-12-17</td>\n",
       "      <td>Boda en SMA Clau y Polo</td>\n",
       "      <td>vivino</td>\n",
       "    </tr>\n",
       "    <tr>\n",
       "      <th>4</th>\n",
       "      <td>67</td>\n",
       "      <td>Montes Montes Alpha Special Cuvée Cabernet Sau...</td>\n",
       "      <td>2023-12-02</td>\n",
       "      <td>Gedronken bij Marcel en Marius. Qua smaakprofi...</td>\n",
       "      <td>vivino</td>\n",
       "    </tr>\n",
       "  </tbody>\n",
       "</table>\n",
       "</div>"
      ],
      "text/plain": [
       "   wid                                               wine       date  \\\n",
       "0   67  Montes Montes Alpha Special Cuvée Cabernet Sau... 2024-03-14   \n",
       "1   67  Montes Montes Alpha Special Cuvée Cabernet Sau... 2024-01-20   \n",
       "2   67  Montes Montes Alpha Special Cuvée Cabernet Sau... 2024-01-11   \n",
       "3   67  Montes Montes Alpha Special Cuvée Cabernet Sau... 2023-12-17   \n",
       "4   67  Montes Montes Alpha Special Cuvée Cabernet Sau... 2023-12-02   \n",
       "\n",
       "                                              review  source  \n",
       "0  Vinho muito, mas muito bom da excelente vinícu...  vivino  \n",
       "1  oak tobacco black fruit blackberry pepper smok...  vivino  \n",
       "2  Adoramos! Frutas vermelhas. Ameixa. Pimentão v...  vivino  \n",
       "3                            Boda en SMA Clau y Polo  vivino  \n",
       "4  Gedronken bij Marcel en Marius. Qua smaakprofi...  vivino  "
      ]
     },
     "execution_count": 75,
     "metadata": {},
     "output_type": "execute_result"
    }
   ],
   "source": [
    "df_reviews.head()"
   ]
  },
  {
   "cell_type": "markdown",
   "id": "077e4f2e-b08b-4636-97fa-0fff64caa675",
   "metadata": {},
   "source": [
    "[Check duplicates](#Check-duplicates)"
   ]
  },
  {
   "cell_type": "markdown",
   "id": "431378b4-8df9-4be4-bacf-d0cff9a37a05",
   "metadata": {},
   "source": [
    "## Wine ID"
   ]
  },
  {
   "cell_type": "code",
   "execution_count": 79,
   "id": "f0207080-50fb-408f-9abe-b5b15883af93",
   "metadata": {},
   "outputs": [
    {
     "data": {
      "text/html": [
       "<div>\n",
       "<style scoped>\n",
       "    .dataframe tbody tr th:only-of-type {\n",
       "        vertical-align: middle;\n",
       "    }\n",
       "\n",
       "    .dataframe tbody tr th {\n",
       "        vertical-align: top;\n",
       "    }\n",
       "\n",
       "    .dataframe thead th {\n",
       "        text-align: right;\n",
       "    }\n",
       "</style>\n",
       "<table border=\"1\" class=\"dataframe\">\n",
       "  <thead>\n",
       "    <tr style=\"text-align: right;\">\n",
       "      <th></th>\n",
       "      <th>wid</th>\n",
       "      <th>wine</th>\n",
       "      <th>date</th>\n",
       "      <th>review</th>\n",
       "      <th>source</th>\n",
       "    </tr>\n",
       "  </thead>\n",
       "  <tbody>\n",
       "    <tr>\n",
       "      <th>0</th>\n",
       "      <td>67</td>\n",
       "      <td>Montes Montes Alpha Special Cuvée Cabernet Sau...</td>\n",
       "      <td>2024-03-14</td>\n",
       "      <td>Vinho muito, mas muito bom da excelente vinícu...</td>\n",
       "      <td>vivino</td>\n",
       "    </tr>\n",
       "    <tr>\n",
       "      <th>1</th>\n",
       "      <td>67</td>\n",
       "      <td>Montes Montes Alpha Special Cuvée Cabernet Sau...</td>\n",
       "      <td>2024-01-20</td>\n",
       "      <td>oak tobacco black fruit blackberry pepper smok...</td>\n",
       "      <td>vivino</td>\n",
       "    </tr>\n",
       "    <tr>\n",
       "      <th>2</th>\n",
       "      <td>67</td>\n",
       "      <td>Montes Montes Alpha Special Cuvée Cabernet Sau...</td>\n",
       "      <td>2024-01-11</td>\n",
       "      <td>Adoramos! Frutas vermelhas. Ameixa. Pimentão v...</td>\n",
       "      <td>vivino</td>\n",
       "    </tr>\n",
       "    <tr>\n",
       "      <th>3</th>\n",
       "      <td>67</td>\n",
       "      <td>Montes Montes Alpha Special Cuvée Cabernet Sau...</td>\n",
       "      <td>2023-12-17</td>\n",
       "      <td>Boda en SMA Clau y Polo</td>\n",
       "      <td>vivino</td>\n",
       "    </tr>\n",
       "    <tr>\n",
       "      <th>4</th>\n",
       "      <td>67</td>\n",
       "      <td>Montes Montes Alpha Special Cuvée Cabernet Sau...</td>\n",
       "      <td>2023-12-02</td>\n",
       "      <td>Gedronken bij Marcel en Marius. Qua smaakprofi...</td>\n",
       "      <td>vivino</td>\n",
       "    </tr>\n",
       "    <tr>\n",
       "      <th>...</th>\n",
       "      <td>...</td>\n",
       "      <td>...</td>\n",
       "      <td>...</td>\n",
       "      <td>...</td>\n",
       "      <td>...</td>\n",
       "    </tr>\n",
       "    <tr>\n",
       "      <th>181</th>\n",
       "      <td>69</td>\n",
       "      <td>Volver Tarima Hill Old Vines Monastrell</td>\n",
       "      <td>2022-01-20</td>\n",
       "      <td>Vino espectacular, 14 meses en barrica frances...</td>\n",
       "      <td>vivino</td>\n",
       "    </tr>\n",
       "    <tr>\n",
       "      <th>182</th>\n",
       "      <td>69</td>\n",
       "      <td>Volver Tarima Hill Old Vines Monastrell</td>\n",
       "      <td>2022-01-15</td>\n",
       "      <td>Dry, Dark, Bold with great flavor</td>\n",
       "      <td>vivino</td>\n",
       "    </tr>\n",
       "    <tr>\n",
       "      <th>183</th>\n",
       "      <td>69</td>\n",
       "      <td>Volver Tarima Hill Old Vines Monastrell</td>\n",
       "      <td>2022-01-10</td>\n",
       "      <td>Muy bueno</td>\n",
       "      <td>vivino</td>\n",
       "    </tr>\n",
       "    <tr>\n",
       "      <th>184</th>\n",
       "      <td>69</td>\n",
       "      <td>Volver Tarima Hill Old Vines Monastrell</td>\n",
       "      <td>2022-01-10</td>\n",
       "      <td>A very flavorful wine it also has a very nice ...</td>\n",
       "      <td>vivino</td>\n",
       "    </tr>\n",
       "    <tr>\n",
       "      <th>185</th>\n",
       "      <td>69</td>\n",
       "      <td>Volver Tarima Hill Old Vines Monastrell</td>\n",
       "      <td>2022-01-08</td>\n",
       "      <td>4.2 풀바디. 적당한 탄닌. 탄산감 없음. 맛있어!</td>\n",
       "      <td>vivino</td>\n",
       "    </tr>\n",
       "  </tbody>\n",
       "</table>\n",
       "<p>173 rows × 5 columns</p>\n",
       "</div>"
      ],
      "text/plain": [
       "     wid                                               wine       date  \\\n",
       "0     67  Montes Montes Alpha Special Cuvée Cabernet Sau... 2024-03-14   \n",
       "1     67  Montes Montes Alpha Special Cuvée Cabernet Sau... 2024-01-20   \n",
       "2     67  Montes Montes Alpha Special Cuvée Cabernet Sau... 2024-01-11   \n",
       "3     67  Montes Montes Alpha Special Cuvée Cabernet Sau... 2023-12-17   \n",
       "4     67  Montes Montes Alpha Special Cuvée Cabernet Sau... 2023-12-02   \n",
       "..   ...                                                ...        ...   \n",
       "181   69            Volver Tarima Hill Old Vines Monastrell 2022-01-20   \n",
       "182   69            Volver Tarima Hill Old Vines Monastrell 2022-01-15   \n",
       "183   69            Volver Tarima Hill Old Vines Monastrell 2022-01-10   \n",
       "184   69            Volver Tarima Hill Old Vines Monastrell 2022-01-10   \n",
       "185   69            Volver Tarima Hill Old Vines Monastrell 2022-01-08   \n",
       "\n",
       "                                                review  source  \n",
       "0    Vinho muito, mas muito bom da excelente vinícu...  vivino  \n",
       "1    oak tobacco black fruit blackberry pepper smok...  vivino  \n",
       "2    Adoramos! Frutas vermelhas. Ameixa. Pimentão v...  vivino  \n",
       "3                              Boda en SMA Clau y Polo  vivino  \n",
       "4    Gedronken bij Marcel en Marius. Qua smaakprofi...  vivino  \n",
       "..                                                 ...     ...  \n",
       "181  Vino espectacular, 14 meses en barrica frances...  vivino  \n",
       "182                  Dry, Dark, Bold with great flavor  vivino  \n",
       "183                                          Muy bueno  vivino  \n",
       "184  A very flavorful wine it also has a very nice ...  vivino  \n",
       "185                      4.2 풀바디. 적당한 탄닌. 탄산감 없음. 맛있어!  vivino  \n",
       "\n",
       "[173 rows x 5 columns]"
      ]
     },
     "execution_count": 79,
     "metadata": {},
     "output_type": "execute_result"
    }
   ],
   "source": [
    "df_reviews"
   ]
  },
  {
   "cell_type": "code",
   "execution_count": 37,
   "id": "c1194ba8-8188-4418-b6a2-e75cbf8f62f9",
   "metadata": {},
   "outputs": [
    {
     "data": {
      "text/plain": [
       "9891"
      ]
     },
     "execution_count": 37,
     "metadata": {},
     "output_type": "execute_result"
    }
   ],
   "source": [
    "file = 'wine_reviews_2' # exclude wine_reviews_tmp.csv\n",
    "df_reviews_db = read_csv(file, 'data', parse_dates=['date'])\n",
    "len(df_reviews_db)"
   ]
  },
  {
   "cell_type": "code",
   "execution_count": 81,
   "id": "f1f9e908-ed29-48ca-b0fd-2e538c9db56c",
   "metadata": {},
   "outputs": [
    {
     "data": {
      "text/plain": [
       "{41}"
      ]
     },
     "execution_count": 81,
     "metadata": {},
     "output_type": "execute_result"
    }
   ],
   "source": [
    "set(range(df_reviews_db.wid.max()+1)) - set(df_reviews_db.wid.unique())"
   ]
  },
  {
   "cell_type": "code",
   "execution_count": 82,
   "id": "7c7611e7-8662-4baa-afaa-2b50b3d7ae76",
   "metadata": {},
   "outputs": [],
   "source": [
    "wid_f, wid_t = 69, 41"
   ]
  },
  {
   "cell_type": "code",
   "execution_count": 83,
   "id": "bcd396d5-011f-4678-b961-0a2c77655aa1",
   "metadata": {},
   "outputs": [],
   "source": [
    "df_reviews.loc[df_reviews.wid == wid_f, 'wid'] = wid_t"
   ]
  },
  {
   "cell_type": "code",
   "execution_count": 84,
   "id": "50dc9f6b-b90a-4031-a5e8-d6c8944555c9",
   "metadata": {},
   "outputs": [
    {
     "data": {
      "text/plain": [
       "wid\n",
       "41    73\n",
       "67    37\n",
       "68    63\n",
       "Name: wine, dtype: int64"
      ]
     },
     "execution_count": 84,
     "metadata": {},
     "output_type": "execute_result"
    }
   ],
   "source": [
    "df_reviews.groupby('wid').wine.count()"
   ]
  },
  {
   "cell_type": "code",
   "execution_count": 89,
   "id": "15234aec-4fad-41e1-b5e2-03e0c6d68818",
   "metadata": {},
   "outputs": [
    {
     "name": "stdout",
     "output_type": "stream",
     "text": [
      "data/wine_41.csv saved.\n"
     ]
    }
   ],
   "source": [
    "file_f = f'wine_{wid_f}.csv'\n",
    "df = read_csv(file_f, 'data', parse_dates=['date'])\n",
    "df['wid'] = wid_t\n",
    "\n",
    "# TODO: update with new function name\n",
    "save_csv(df, f'wine_{wid_t}.csv', 'data')"
   ]
  },
  {
   "cell_type": "code",
   "execution_count": 91,
   "id": "5afe7685-5ffe-4868-8860-efb35fe218ea",
   "metadata": {},
   "outputs": [],
   "source": [
    "!rm data/{file_f}"
   ]
  },
  {
   "cell_type": "markdown",
   "id": "1e0ed09d-89e9-48da-9c1c-0ef375608229",
   "metadata": {},
   "source": [
    "## Wine style"
   ]
  },
  {
   "cell_type": "code",
   "execution_count": 38,
   "id": "fc5416ad-c6e8-4e14-be10-f5275ec3f9f4",
   "metadata": {},
   "outputs": [
    {
     "data": {
      "text/plain": [
       "124"
      ]
     },
     "execution_count": 38,
     "metadata": {},
     "output_type": "execute_result"
    }
   ],
   "source": [
    "len(df_reviews)"
   ]
  },
  {
   "cell_type": "code",
   "execution_count": 39,
   "id": "77b8d2c0-f422-4f5b-aeeb-397863130277",
   "metadata": {},
   "outputs": [
    {
     "data": {
      "text/html": [
       "<div>\n",
       "<style scoped>\n",
       "    .dataframe tbody tr th:only-of-type {\n",
       "        vertical-align: middle;\n",
       "    }\n",
       "\n",
       "    .dataframe tbody tr th {\n",
       "        vertical-align: top;\n",
       "    }\n",
       "\n",
       "    .dataframe thead th {\n",
       "        text-align: right;\n",
       "    }\n",
       "</style>\n",
       "<table border=\"1\" class=\"dataframe\">\n",
       "  <thead>\n",
       "    <tr style=\"text-align: right;\">\n",
       "      <th></th>\n",
       "      <th>wid</th>\n",
       "      <th>wine</th>\n",
       "      <th>date</th>\n",
       "      <th>review</th>\n",
       "      <th>source</th>\n",
       "    </tr>\n",
       "  </thead>\n",
       "  <tbody>\n",
       "    <tr>\n",
       "      <th>0</th>\n",
       "      <td>69</td>\n",
       "      <td>Arione Moscato d'Asti</td>\n",
       "      <td>2024-02-16</td>\n",
       "      <td>Plus pétillant que le Canelli</td>\n",
       "      <td>vivino</td>\n",
       "    </tr>\n",
       "    <tr>\n",
       "      <th>1</th>\n",
       "      <td>69</td>\n",
       "      <td>Arione Moscato d'Asti</td>\n",
       "      <td>2023-11-06</td>\n",
       "      <td>pera pesca nota tropicale minerali</td>\n",
       "      <td>vivino</td>\n",
       "    </tr>\n",
       "    <tr>\n",
       "      <th>2</th>\n",
       "      <td>69</td>\n",
       "      <td>Arione Moscato d'Asti</td>\n",
       "      <td>2023-10-17</td>\n",
       "      <td>Ottimo</td>\n",
       "      <td>vivino</td>\n",
       "    </tr>\n",
       "    <tr>\n",
       "      <th>3</th>\n",
       "      <td>69</td>\n",
       "      <td>Arione Moscato d'Asti</td>\n",
       "      <td>2023-10-09</td>\n",
       "      <td>조금 산뜻한 향, 처음 마시고 조금 있는 바디감, Saracco보다 조금 덜 달게 ...</td>\n",
       "      <td>vivino</td>\n",
       "    </tr>\n",
       "    <tr>\n",
       "      <th>4</th>\n",
       "      <td>69</td>\n",
       "      <td>Arione Moscato d'Asti</td>\n",
       "      <td>2023-10-08</td>\n",
       "      <td>Afrutado, delicioso.</td>\n",
       "      <td>vivino</td>\n",
       "    </tr>\n",
       "  </tbody>\n",
       "</table>\n",
       "</div>"
      ],
      "text/plain": [
       "   wid                   wine       date  \\\n",
       "0   69  Arione Moscato d'Asti 2024-02-16   \n",
       "1   69  Arione Moscato d'Asti 2023-11-06   \n",
       "2   69  Arione Moscato d'Asti 2023-10-17   \n",
       "3   69  Arione Moscato d'Asti 2023-10-09   \n",
       "4   69  Arione Moscato d'Asti 2023-10-08   \n",
       "\n",
       "                                              review  source  \n",
       "0                      Plus pétillant que le Canelli  vivino  \n",
       "1                 pera pesca nota tropicale minerali  vivino  \n",
       "2                                             Ottimo  vivino  \n",
       "3  조금 산뜻한 향, 처음 마시고 조금 있는 바디감, Saracco보다 조금 덜 달게 ...  vivino  \n",
       "4                               Afrutado, delicioso.  vivino  "
      ]
     },
     "execution_count": 39,
     "metadata": {},
     "output_type": "execute_result"
    }
   ],
   "source": [
    "df_reviews.head()"
   ]
  },
  {
   "cell_type": "code",
   "execution_count": 40,
   "id": "b3c8badf-bdf1-40cd-a4db-da8050852a81",
   "metadata": {},
   "outputs": [
    {
     "ename": "KeyError",
     "evalue": "\"['style'] not in index\"",
     "output_type": "error",
     "traceback": [
      "\u001b[0;31m---------------------------------------------------------------------------\u001b[0m",
      "\u001b[0;31mKeyError\u001b[0m                                  Traceback (most recent call last)",
      "Cell \u001b[0;32mIn[40], line 2\u001b[0m\n\u001b[1;32m      1\u001b[0m \u001b[38;5;66;03m#df_reviews.nunique()\u001b[39;00m\n\u001b[0;32m----> 2\u001b[0m \u001b[43mdf_reviews\u001b[49m\u001b[43m[\u001b[49m\u001b[43m[\u001b[49m\u001b[38;5;124;43m'\u001b[39;49m\u001b[38;5;124;43mwid\u001b[39;49m\u001b[38;5;124;43m'\u001b[39;49m\u001b[43m,\u001b[49m\u001b[38;5;124;43m'\u001b[39;49m\u001b[38;5;124;43mwine\u001b[39;49m\u001b[38;5;124;43m'\u001b[39;49m\u001b[43m,\u001b[49m\u001b[38;5;124;43m'\u001b[39;49m\u001b[38;5;124;43mstyle\u001b[39;49m\u001b[38;5;124;43m'\u001b[39;49m\u001b[43m]\u001b[49m\u001b[43m]\u001b[49m\u001b[38;5;241m.\u001b[39mdrop_duplicates()\u001b[38;5;241m.\u001b[39mgroupby(\u001b[38;5;124m'\u001b[39m\u001b[38;5;124mstyle\u001b[39m\u001b[38;5;124m'\u001b[39m)\u001b[38;5;241m.\u001b[39mwid\u001b[38;5;241m.\u001b[39mcount()\n",
      "File \u001b[0;32m~/.cache/pypoetry/virtualenvs/scrap2-pSsZr_wz-py3.9/lib/python3.9/site-packages/pandas/core/frame.py:4096\u001b[0m, in \u001b[0;36mDataFrame.__getitem__\u001b[0;34m(self, key)\u001b[0m\n\u001b[1;32m   4094\u001b[0m     \u001b[38;5;28;01mif\u001b[39;00m is_iterator(key):\n\u001b[1;32m   4095\u001b[0m         key \u001b[38;5;241m=\u001b[39m \u001b[38;5;28mlist\u001b[39m(key)\n\u001b[0;32m-> 4096\u001b[0m     indexer \u001b[38;5;241m=\u001b[39m \u001b[38;5;28;43mself\u001b[39;49m\u001b[38;5;241;43m.\u001b[39;49m\u001b[43mcolumns\u001b[49m\u001b[38;5;241;43m.\u001b[39;49m\u001b[43m_get_indexer_strict\u001b[49m\u001b[43m(\u001b[49m\u001b[43mkey\u001b[49m\u001b[43m,\u001b[49m\u001b[43m \u001b[49m\u001b[38;5;124;43m\"\u001b[39;49m\u001b[38;5;124;43mcolumns\u001b[39;49m\u001b[38;5;124;43m\"\u001b[39;49m\u001b[43m)\u001b[49m[\u001b[38;5;241m1\u001b[39m]\n\u001b[1;32m   4098\u001b[0m \u001b[38;5;66;03m# take() does not accept boolean indexers\u001b[39;00m\n\u001b[1;32m   4099\u001b[0m \u001b[38;5;28;01mif\u001b[39;00m \u001b[38;5;28mgetattr\u001b[39m(indexer, \u001b[38;5;124m\"\u001b[39m\u001b[38;5;124mdtype\u001b[39m\u001b[38;5;124m\"\u001b[39m, \u001b[38;5;28;01mNone\u001b[39;00m) \u001b[38;5;241m==\u001b[39m \u001b[38;5;28mbool\u001b[39m:\n",
      "File \u001b[0;32m~/.cache/pypoetry/virtualenvs/scrap2-pSsZr_wz-py3.9/lib/python3.9/site-packages/pandas/core/indexes/base.py:6199\u001b[0m, in \u001b[0;36mIndex._get_indexer_strict\u001b[0;34m(self, key, axis_name)\u001b[0m\n\u001b[1;32m   6196\u001b[0m \u001b[38;5;28;01melse\u001b[39;00m:\n\u001b[1;32m   6197\u001b[0m     keyarr, indexer, new_indexer \u001b[38;5;241m=\u001b[39m \u001b[38;5;28mself\u001b[39m\u001b[38;5;241m.\u001b[39m_reindex_non_unique(keyarr)\n\u001b[0;32m-> 6199\u001b[0m \u001b[38;5;28;43mself\u001b[39;49m\u001b[38;5;241;43m.\u001b[39;49m\u001b[43m_raise_if_missing\u001b[49m\u001b[43m(\u001b[49m\u001b[43mkeyarr\u001b[49m\u001b[43m,\u001b[49m\u001b[43m \u001b[49m\u001b[43mindexer\u001b[49m\u001b[43m,\u001b[49m\u001b[43m \u001b[49m\u001b[43maxis_name\u001b[49m\u001b[43m)\u001b[49m\n\u001b[1;32m   6201\u001b[0m keyarr \u001b[38;5;241m=\u001b[39m \u001b[38;5;28mself\u001b[39m\u001b[38;5;241m.\u001b[39mtake(indexer)\n\u001b[1;32m   6202\u001b[0m \u001b[38;5;28;01mif\u001b[39;00m \u001b[38;5;28misinstance\u001b[39m(key, Index):\n\u001b[1;32m   6203\u001b[0m     \u001b[38;5;66;03m# GH 42790 - Preserve name from an Index\u001b[39;00m\n",
      "File \u001b[0;32m~/.cache/pypoetry/virtualenvs/scrap2-pSsZr_wz-py3.9/lib/python3.9/site-packages/pandas/core/indexes/base.py:6251\u001b[0m, in \u001b[0;36mIndex._raise_if_missing\u001b[0;34m(self, key, indexer, axis_name)\u001b[0m\n\u001b[1;32m   6248\u001b[0m     \u001b[38;5;28;01mraise\u001b[39;00m \u001b[38;5;167;01mKeyError\u001b[39;00m(\u001b[38;5;124mf\u001b[39m\u001b[38;5;124m\"\u001b[39m\u001b[38;5;124mNone of [\u001b[39m\u001b[38;5;132;01m{\u001b[39;00mkey\u001b[38;5;132;01m}\u001b[39;00m\u001b[38;5;124m] are in the [\u001b[39m\u001b[38;5;132;01m{\u001b[39;00maxis_name\u001b[38;5;132;01m}\u001b[39;00m\u001b[38;5;124m]\u001b[39m\u001b[38;5;124m\"\u001b[39m)\n\u001b[1;32m   6250\u001b[0m not_found \u001b[38;5;241m=\u001b[39m \u001b[38;5;28mlist\u001b[39m(ensure_index(key)[missing_mask\u001b[38;5;241m.\u001b[39mnonzero()[\u001b[38;5;241m0\u001b[39m]]\u001b[38;5;241m.\u001b[39munique())\n\u001b[0;32m-> 6251\u001b[0m \u001b[38;5;28;01mraise\u001b[39;00m \u001b[38;5;167;01mKeyError\u001b[39;00m(\u001b[38;5;124mf\u001b[39m\u001b[38;5;124m\"\u001b[39m\u001b[38;5;132;01m{\u001b[39;00mnot_found\u001b[38;5;132;01m}\u001b[39;00m\u001b[38;5;124m not in index\u001b[39m\u001b[38;5;124m\"\u001b[39m)\n",
      "\u001b[0;31mKeyError\u001b[0m: \"['style'] not in index\""
     ]
    }
   ],
   "source": [
    "#df_reviews.nunique()\n",
    "df_reviews[['wid','wine','style']].drop_duplicates().groupby('style').wid.count()"
   ]
  },
  {
   "cell_type": "code",
   "execution_count": 41,
   "id": "fadcfa1c-bcf1-4ae5-a98a-05301dbf1b6d",
   "metadata": {
    "scrolled": true
   },
   "outputs": [
    {
     "data": {
      "text/plain": [
       "[\"Arione Moscato d'Asti\", 'Catena Cabernet Sauvignon']"
      ]
     },
     "execution_count": 41,
     "metadata": {},
     "output_type": "execute_result"
    }
   ],
   "source": [
    "wid_wine = df_reviews[['wid', 'wine']].drop_duplicates().to_dict(orient='list')\n",
    "wid_wine['wine']"
   ]
  },
  {
   "cell_type": "code",
   "execution_count": 42,
   "id": "eb59c2a9-3f56-4d2d-b0ad-ef35fc7da293",
   "metadata": {},
   "outputs": [],
   "source": [
    "wines =  wid_wine['wine']\n",
    "df_style = find_style(wines)"
   ]
  },
  {
   "cell_type": "code",
   "execution_count": 43,
   "id": "747da0d3-ca9f-4191-91db-9a1593e8771f",
   "metadata": {},
   "outputs": [
    {
     "data": {
      "text/html": [
       "<div>\n",
       "<style scoped>\n",
       "    .dataframe tbody tr th:only-of-type {\n",
       "        vertical-align: middle;\n",
       "    }\n",
       "\n",
       "    .dataframe tbody tr th {\n",
       "        vertical-align: top;\n",
       "    }\n",
       "\n",
       "    .dataframe thead th {\n",
       "        text-align: right;\n",
       "    }\n",
       "</style>\n",
       "<table border=\"1\" class=\"dataframe\">\n",
       "  <thead>\n",
       "    <tr style=\"text-align: right;\">\n",
       "      <th></th>\n",
       "      <th>wine</th>\n",
       "      <th>style</th>\n",
       "      <th>score</th>\n",
       "      <th>word</th>\n",
       "    </tr>\n",
       "  </thead>\n",
       "  <tbody>\n",
       "    <tr>\n",
       "      <th>1</th>\n",
       "      <td>Catena Cabernet Sauvignon</td>\n",
       "      <td>red</td>\n",
       "      <td>0.905312</td>\n",
       "      <td>cabernet sauvignon</td>\n",
       "    </tr>\n",
       "  </tbody>\n",
       "</table>\n",
       "</div>"
      ],
      "text/plain": [
       "                        wine style     score                word\n",
       "1  Catena Cabernet Sauvignon   red  0.905312  cabernet sauvignon"
      ]
     },
     "execution_count": 43,
     "metadata": {},
     "output_type": "execute_result"
    }
   ],
   "source": [
    "#s = 'sparkling'\n",
    "s = 'red'\n",
    "#s = 'white'\n",
    "#WINE_STYLE[s]\n",
    "\n",
    "thr = 0.\n",
    "\n",
    "cond = (df_style['style'] == s)\n",
    "cond = cond & (df_style['score'] >= thr)\n",
    "df_style.loc[cond].sort_values('score', ascending=False)"
   ]
  },
  {
   "cell_type": "code",
   "execution_count": 50,
   "id": "2149e07c-5874-4d8a-9e0f-4481dc8392d7",
   "metadata": {},
   "outputs": [
    {
     "data": {
      "text/html": [
       "<div>\n",
       "<style scoped>\n",
       "    .dataframe tbody tr th:only-of-type {\n",
       "        vertical-align: middle;\n",
       "    }\n",
       "\n",
       "    .dataframe tbody tr th {\n",
       "        vertical-align: top;\n",
       "    }\n",
       "\n",
       "    .dataframe thead th {\n",
       "        text-align: right;\n",
       "    }\n",
       "</style>\n",
       "<table border=\"1\" class=\"dataframe\">\n",
       "  <thead>\n",
       "    <tr style=\"text-align: right;\">\n",
       "      <th></th>\n",
       "      <th>wine</th>\n",
       "      <th>style</th>\n",
       "      <th>score</th>\n",
       "      <th>word</th>\n",
       "    </tr>\n",
       "  </thead>\n",
       "  <tbody>\n",
       "    <tr>\n",
       "      <th>1</th>\n",
       "      <td>Two Hands Angels' Share Shiraz</td>\n",
       "      <td>red</td>\n",
       "      <td>0.608343</td>\n",
       "      <td>shiraz</td>\n",
       "    </tr>\n",
       "    <tr>\n",
       "      <th>2</th>\n",
       "      <td>Two Hands Gnarly Dudes Shiraz</td>\n",
       "      <td>red</td>\n",
       "      <td>0.692881</td>\n",
       "      <td>shiraz</td>\n",
       "    </tr>\n",
       "    <tr>\n",
       "      <th>3</th>\n",
       "      <td>Two Hands Sexy Beast Cabernet Sauvignon</td>\n",
       "      <td>red</td>\n",
       "      <td>0.817742</td>\n",
       "      <td>cabernet sauvignon</td>\n",
       "    </tr>\n",
       "    <tr>\n",
       "      <th>4</th>\n",
       "      <td>Cono Sur Single Vineyard Syrah</td>\n",
       "      <td>red</td>\n",
       "      <td>0.414768</td>\n",
       "      <td>syrah</td>\n",
       "    </tr>\n",
       "    <tr>\n",
       "      <th>5</th>\n",
       "      <td>Cono Sur Single Vineyard Cabernet Sauvignon</td>\n",
       "      <td>red</td>\n",
       "      <td>0.797582</td>\n",
       "      <td>cabernet sauvignon</td>\n",
       "    </tr>\n",
       "    <tr>\n",
       "      <th>6</th>\n",
       "      <td>Cono Sur Single Vineyard Pinot Noir</td>\n",
       "      <td>red</td>\n",
       "      <td>0.716799</td>\n",
       "      <td>pinot noir</td>\n",
       "    </tr>\n",
       "    <tr>\n",
       "      <th>7</th>\n",
       "      <td>Cono Sur Single Vineyard Carmenere</td>\n",
       "      <td>red</td>\n",
       "      <td>0.590391</td>\n",
       "      <td>carmenere</td>\n",
       "    </tr>\n",
       "    <tr>\n",
       "      <th>9</th>\n",
       "      <td>Montes Montes Alpha Merlot</td>\n",
       "      <td>red</td>\n",
       "      <td>0.568740</td>\n",
       "      <td>merlot</td>\n",
       "    </tr>\n",
       "    <tr>\n",
       "      <th>10</th>\n",
       "      <td>Montes Montes Alpha Syrah</td>\n",
       "      <td>red</td>\n",
       "      <td>0.453137</td>\n",
       "      <td>syrah</td>\n",
       "    </tr>\n",
       "    <tr>\n",
       "      <th>11</th>\n",
       "      <td>San Pedro 1865 Selected Vineyards Syrah</td>\n",
       "      <td>red</td>\n",
       "      <td>0.355353</td>\n",
       "      <td>syrah</td>\n",
       "    </tr>\n",
       "    <tr>\n",
       "      <th>12</th>\n",
       "      <td>San Pedro 1865 Single Vineyard Malbec</td>\n",
       "      <td>red</td>\n",
       "      <td>0.457537</td>\n",
       "      <td>malbec</td>\n",
       "    </tr>\n",
       "    <tr>\n",
       "      <th>13</th>\n",
       "      <td>San Pedro 1865 Single Vineyard Syrah</td>\n",
       "      <td>red</td>\n",
       "      <td>0.403221</td>\n",
       "      <td>syrah</td>\n",
       "    </tr>\n",
       "    <tr>\n",
       "      <th>14</th>\n",
       "      <td>Mollydooker The Boxer Shiraz</td>\n",
       "      <td>red</td>\n",
       "      <td>0.554684</td>\n",
       "      <td>shiraz</td>\n",
       "    </tr>\n",
       "    <tr>\n",
       "      <th>15</th>\n",
       "      <td>William Hill North Coast Cabernet Sauvignon</td>\n",
       "      <td>red</td>\n",
       "      <td>0.850044</td>\n",
       "      <td>cabernet sauvignon</td>\n",
       "    </tr>\n",
       "    <tr>\n",
       "      <th>18</th>\n",
       "      <td>Bread &amp; Butter Pinot Noir</td>\n",
       "      <td>red</td>\n",
       "      <td>0.804025</td>\n",
       "      <td>pinot noir</td>\n",
       "    </tr>\n",
       "    <tr>\n",
       "      <th>19</th>\n",
       "      <td>Bread &amp; Butter Cabernet Sauvignon</td>\n",
       "      <td>red</td>\n",
       "      <td>0.869521</td>\n",
       "      <td>cabernet sauvignon</td>\n",
       "    </tr>\n",
       "    <tr>\n",
       "      <th>20</th>\n",
       "      <td>Casillero del Diablo Cabernet Sauvignon (Reserva)</td>\n",
       "      <td>red</td>\n",
       "      <td>0.786161</td>\n",
       "      <td>cabernet sauvignon</td>\n",
       "    </tr>\n",
       "    <tr>\n",
       "      <th>21</th>\n",
       "      <td>Yellow Tail Cabernet Sauvignon</td>\n",
       "      <td>red</td>\n",
       "      <td>0.841174</td>\n",
       "      <td>cabernet sauvignon</td>\n",
       "    </tr>\n",
       "    <tr>\n",
       "      <th>22</th>\n",
       "      <td>Roche Mazet Cuvée Spéciale Cabernet Sauvignon</td>\n",
       "      <td>red</td>\n",
       "      <td>0.838010</td>\n",
       "      <td>cabernet sauvignon</td>\n",
       "    </tr>\n",
       "    <tr>\n",
       "      <th>23</th>\n",
       "      <td>San Pedro Gato Negro Cabernet Sauvignon</td>\n",
       "      <td>red</td>\n",
       "      <td>0.778570</td>\n",
       "      <td>cabernet sauvignon</td>\n",
       "    </tr>\n",
       "    <tr>\n",
       "      <th>24</th>\n",
       "      <td>Aguirre Dos Copas Cabernet Sauvignon</td>\n",
       "      <td>red</td>\n",
       "      <td>0.822253</td>\n",
       "      <td>cabernet sauvignon</td>\n",
       "    </tr>\n",
       "    <tr>\n",
       "      <th>25</th>\n",
       "      <td>The 7th Generation - G7 Cabernet Sauvignon</td>\n",
       "      <td>red</td>\n",
       "      <td>0.841232</td>\n",
       "      <td>cabernet sauvignon</td>\n",
       "    </tr>\n",
       "    <tr>\n",
       "      <th>27</th>\n",
       "      <td>Kendall-Jackson Vintner's Reserve Cabernet Sau...</td>\n",
       "      <td>red</td>\n",
       "      <td>0.875123</td>\n",
       "      <td>cabernet sauvignon</td>\n",
       "    </tr>\n",
       "    <tr>\n",
       "      <th>28</th>\n",
       "      <td>Viña Santa Helena Reservado Cabernet Sauvignon'</td>\n",
       "      <td>red</td>\n",
       "      <td>0.807782</td>\n",
       "      <td>cabernet sauvignon</td>\n",
       "    </tr>\n",
       "    <tr>\n",
       "      <th>29</th>\n",
       "      <td>Frontera Cabernet Sauvignon</td>\n",
       "      <td>red</td>\n",
       "      <td>0.901531</td>\n",
       "      <td>cabernet sauvignon</td>\n",
       "    </tr>\n",
       "    <tr>\n",
       "      <th>36</th>\n",
       "      <td>San Pedro 1865 Selected Vineyards Cabernet Sau...</td>\n",
       "      <td>red</td>\n",
       "      <td>0.720431</td>\n",
       "      <td>cabernet sauvignon</td>\n",
       "    </tr>\n",
       "    <tr>\n",
       "      <th>37</th>\n",
       "      <td>San Pedro 1865 Single Vineyard Cabernet Sauvignon</td>\n",
       "      <td>red</td>\n",
       "      <td>0.757834</td>\n",
       "      <td>cabernet sauvignon</td>\n",
       "    </tr>\n",
       "    <tr>\n",
       "      <th>38</th>\n",
       "      <td>Montes Montes Alpha Cabernet Sauvignon</td>\n",
       "      <td>red</td>\n",
       "      <td>0.779355</td>\n",
       "      <td>cabernet sauvignon</td>\n",
       "    </tr>\n",
       "    <tr>\n",
       "      <th>40</th>\n",
       "      <td>Villa M Bianco</td>\n",
       "      <td>white</td>\n",
       "      <td>0.421203</td>\n",
       "      <td>manual</td>\n",
       "    </tr>\n",
       "    <tr>\n",
       "      <th>49</th>\n",
       "      <td>Carnivor Cabernet Sauvignon</td>\n",
       "      <td>red</td>\n",
       "      <td>0.944130</td>\n",
       "      <td>cabernet sauvignon</td>\n",
       "    </tr>\n",
       "    <tr>\n",
       "      <th>50</th>\n",
       "      <td>Kilikanoon Covenant Shiraz</td>\n",
       "      <td>red</td>\n",
       "      <td>0.610068</td>\n",
       "      <td>shiraz</td>\n",
       "    </tr>\n",
       "    <tr>\n",
       "      <th>51</th>\n",
       "      <td>Diablo Black Cabernet Sauvignon</td>\n",
       "      <td>red</td>\n",
       "      <td>0.837882</td>\n",
       "      <td>cabernet sauvignon</td>\n",
       "    </tr>\n",
       "    <tr>\n",
       "      <th>52</th>\n",
       "      <td>Carlo Sani Susumaniello</td>\n",
       "      <td>red</td>\n",
       "      <td>0.421865</td>\n",
       "      <td>carmenere</td>\n",
       "    </tr>\n",
       "    <tr>\n",
       "      <th>53</th>\n",
       "      <td>d'Arenberg The High Trellis Cabernet Sauvignon</td>\n",
       "      <td>red</td>\n",
       "      <td>0.805475</td>\n",
       "      <td>cabernet sauvignon</td>\n",
       "    </tr>\n",
       "    <tr>\n",
       "      <th>54</th>\n",
       "      <td>Lan Gran Reserva Rioja</td>\n",
       "      <td>red</td>\n",
       "      <td>0.419791</td>\n",
       "      <td>manual</td>\n",
       "    </tr>\n",
       "    <tr>\n",
       "      <th>55</th>\n",
       "      <td>Woodbridge by Robert Mondavi Cabernet Sauvignon</td>\n",
       "      <td>red</td>\n",
       "      <td>0.761344</td>\n",
       "      <td>cabernet sauvignon</td>\n",
       "    </tr>\n",
       "    <tr>\n",
       "      <th>56</th>\n",
       "      <td>Mascota Vineyards Unánime Pinot Noir</td>\n",
       "      <td>red</td>\n",
       "      <td>0.716233</td>\n",
       "      <td>pinot noir</td>\n",
       "    </tr>\n",
       "    <tr>\n",
       "      <th>57</th>\n",
       "      <td>Clos de los Siete Clos de Los Siete (by Michel...</td>\n",
       "      <td>red</td>\n",
       "      <td>0.282462</td>\n",
       "      <td>manual</td>\n",
       "    </tr>\n",
       "    <tr>\n",
       "      <th>58</th>\n",
       "      <td>Mazzei Philip</td>\n",
       "      <td>red</td>\n",
       "      <td>0.413221</td>\n",
       "      <td>manual</td>\n",
       "    </tr>\n",
       "    <tr>\n",
       "      <th>59</th>\n",
       "      <td>Lapostolle Grand Selection Merlot</td>\n",
       "      <td>red</td>\n",
       "      <td>0.624894</td>\n",
       "      <td>merlot</td>\n",
       "    </tr>\n",
       "    <tr>\n",
       "      <th>60</th>\n",
       "      <td>1924 Wines Port Barrel Aged Pinot Noir (Limite...</td>\n",
       "      <td>red</td>\n",
       "      <td>0.605996</td>\n",
       "      <td>pinot noir</td>\n",
       "    </tr>\n",
       "    <tr>\n",
       "      <th>61</th>\n",
       "      <td>Francis Ford Coppola Winery Diamond Collection...</td>\n",
       "      <td>red</td>\n",
       "      <td>0.448123</td>\n",
       "      <td>cabernet sauvignon</td>\n",
       "    </tr>\n",
       "    <tr>\n",
       "      <th>62</th>\n",
       "      <td>Dark Horse Cabernet Sauvignon</td>\n",
       "      <td>red</td>\n",
       "      <td>0.874460</td>\n",
       "      <td>cabernet sauvignon</td>\n",
       "    </tr>\n",
       "    <tr>\n",
       "      <th>63</th>\n",
       "      <td>14 Hands Cabernet Sauvignon</td>\n",
       "      <td>red</td>\n",
       "      <td>0.842160</td>\n",
       "      <td>cabernet sauvignon</td>\n",
       "    </tr>\n",
       "    <tr>\n",
       "      <th>64</th>\n",
       "      <td>Quebrada de Macul Alba de Domus</td>\n",
       "      <td>red</td>\n",
       "      <td>0.328080</td>\n",
       "      <td>malbec</td>\n",
       "    </tr>\n",
       "    <tr>\n",
       "      <th>65</th>\n",
       "      <td>Catena Cabernet Sauvignon</td>\n",
       "      <td>red</td>\n",
       "      <td>0.905312</td>\n",
       "      <td>cabernet sauvignon</td>\n",
       "    </tr>\n",
       "    <tr>\n",
       "      <th>66</th>\n",
       "      <td>Montes Montes Alpha Special Cuvée Cabernet Sau...</td>\n",
       "      <td>red</td>\n",
       "      <td>0.771209</td>\n",
       "      <td>cabernet sauvignon</td>\n",
       "    </tr>\n",
       "    <tr>\n",
       "      <th>67</th>\n",
       "      <td>Masseria Borgo dei Trulli Lucale Appassimento ...</td>\n",
       "      <td>red</td>\n",
       "      <td>0.387562</td>\n",
       "      <td>manual</td>\n",
       "    </tr>\n",
       "    <tr>\n",
       "      <th>68</th>\n",
       "      <td>Volver Tarima Hill Old Vines Monastrell</td>\n",
       "      <td>red</td>\n",
       "      <td>0.362301</td>\n",
       "      <td>cabernet sauvignon</td>\n",
       "    </tr>\n",
       "  </tbody>\n",
       "</table>\n",
       "</div>"
      ],
      "text/plain": [
       "                                                 wine  style     score  \\\n",
       "1                      Two Hands Angels' Share Shiraz    red  0.608343   \n",
       "2                       Two Hands Gnarly Dudes Shiraz    red  0.692881   \n",
       "3             Two Hands Sexy Beast Cabernet Sauvignon    red  0.817742   \n",
       "4                      Cono Sur Single Vineyard Syrah    red  0.414768   \n",
       "5         Cono Sur Single Vineyard Cabernet Sauvignon    red  0.797582   \n",
       "6                 Cono Sur Single Vineyard Pinot Noir    red  0.716799   \n",
       "7                  Cono Sur Single Vineyard Carmenere    red  0.590391   \n",
       "9                          Montes Montes Alpha Merlot    red  0.568740   \n",
       "10                          Montes Montes Alpha Syrah    red  0.453137   \n",
       "11            San Pedro 1865 Selected Vineyards Syrah    red  0.355353   \n",
       "12              San Pedro 1865 Single Vineyard Malbec    red  0.457537   \n",
       "13               San Pedro 1865 Single Vineyard Syrah    red  0.403221   \n",
       "14                       Mollydooker The Boxer Shiraz    red  0.554684   \n",
       "15        William Hill North Coast Cabernet Sauvignon    red  0.850044   \n",
       "18                          Bread & Butter Pinot Noir    red  0.804025   \n",
       "19                  Bread & Butter Cabernet Sauvignon    red  0.869521   \n",
       "20  Casillero del Diablo Cabernet Sauvignon (Reserva)    red  0.786161   \n",
       "21                     Yellow Tail Cabernet Sauvignon    red  0.841174   \n",
       "22      Roche Mazet Cuvée Spéciale Cabernet Sauvignon    red  0.838010   \n",
       "23            San Pedro Gato Negro Cabernet Sauvignon    red  0.778570   \n",
       "24               Aguirre Dos Copas Cabernet Sauvignon    red  0.822253   \n",
       "25         The 7th Generation - G7 Cabernet Sauvignon    red  0.841232   \n",
       "27  Kendall-Jackson Vintner's Reserve Cabernet Sau...    red  0.875123   \n",
       "28    Viña Santa Helena Reservado Cabernet Sauvignon'    red  0.807782   \n",
       "29                        Frontera Cabernet Sauvignon    red  0.901531   \n",
       "36  San Pedro 1865 Selected Vineyards Cabernet Sau...    red  0.720431   \n",
       "37  San Pedro 1865 Single Vineyard Cabernet Sauvignon    red  0.757834   \n",
       "38             Montes Montes Alpha Cabernet Sauvignon    red  0.779355   \n",
       "40                                     Villa M Bianco  white  0.421203   \n",
       "49                        Carnivor Cabernet Sauvignon    red  0.944130   \n",
       "50                         Kilikanoon Covenant Shiraz    red  0.610068   \n",
       "51                    Diablo Black Cabernet Sauvignon    red  0.837882   \n",
       "52                            Carlo Sani Susumaniello    red  0.421865   \n",
       "53     d'Arenberg The High Trellis Cabernet Sauvignon    red  0.805475   \n",
       "54                             Lan Gran Reserva Rioja    red  0.419791   \n",
       "55    Woodbridge by Robert Mondavi Cabernet Sauvignon    red  0.761344   \n",
       "56               Mascota Vineyards Unánime Pinot Noir    red  0.716233   \n",
       "57  Clos de los Siete Clos de Los Siete (by Michel...    red  0.282462   \n",
       "58                                      Mazzei Philip    red  0.413221   \n",
       "59                  Lapostolle Grand Selection Merlot    red  0.624894   \n",
       "60  1924 Wines Port Barrel Aged Pinot Noir (Limite...    red  0.605996   \n",
       "61  Francis Ford Coppola Winery Diamond Collection...    red  0.448123   \n",
       "62                      Dark Horse Cabernet Sauvignon    red  0.874460   \n",
       "63                        14 Hands Cabernet Sauvignon    red  0.842160   \n",
       "64                    Quebrada de Macul Alba de Domus    red  0.328080   \n",
       "65                          Catena Cabernet Sauvignon    red  0.905312   \n",
       "66  Montes Montes Alpha Special Cuvée Cabernet Sau...    red  0.771209   \n",
       "67  Masseria Borgo dei Trulli Lucale Appassimento ...    red  0.387562   \n",
       "68            Volver Tarima Hill Old Vines Monastrell    red  0.362301   \n",
       "\n",
       "                  word  \n",
       "1               shiraz  \n",
       "2               shiraz  \n",
       "3   cabernet sauvignon  \n",
       "4                syrah  \n",
       "5   cabernet sauvignon  \n",
       "6           pinot noir  \n",
       "7            carmenere  \n",
       "9               merlot  \n",
       "10               syrah  \n",
       "11               syrah  \n",
       "12              malbec  \n",
       "13               syrah  \n",
       "14              shiraz  \n",
       "15  cabernet sauvignon  \n",
       "18          pinot noir  \n",
       "19  cabernet sauvignon  \n",
       "20  cabernet sauvignon  \n",
       "21  cabernet sauvignon  \n",
       "22  cabernet sauvignon  \n",
       "23  cabernet sauvignon  \n",
       "24  cabernet sauvignon  \n",
       "25  cabernet sauvignon  \n",
       "27  cabernet sauvignon  \n",
       "28  cabernet sauvignon  \n",
       "29  cabernet sauvignon  \n",
       "36  cabernet sauvignon  \n",
       "37  cabernet sauvignon  \n",
       "38  cabernet sauvignon  \n",
       "40              manual  \n",
       "49  cabernet sauvignon  \n",
       "50              shiraz  \n",
       "51  cabernet sauvignon  \n",
       "52           carmenere  \n",
       "53  cabernet sauvignon  \n",
       "54              manual  \n",
       "55  cabernet sauvignon  \n",
       "56          pinot noir  \n",
       "57              manual  \n",
       "58              manual  \n",
       "59              merlot  \n",
       "60          pinot noir  \n",
       "61  cabernet sauvignon  \n",
       "62  cabernet sauvignon  \n",
       "63  cabernet sauvignon  \n",
       "64              malbec  \n",
       "65  cabernet sauvignon  \n",
       "66  cabernet sauvignon  \n",
       "67              manual  \n",
       "68  cabernet sauvignon  "
      ]
     },
     "execution_count": 50,
     "metadata": {},
     "output_type": "execute_result"
    }
   ],
   "source": [
    "#idx = [54,58,67,57]\n",
    "idx = [40] # sparkling\n",
    "df_style.loc[idx, ['style','word']] = ['white', 'manual']\n",
    "df_style.loc[cond]"
   ]
  },
  {
   "cell_type": "code",
   "execution_count": 51,
   "id": "82efba95-5d1b-4b7b-9234-56e49456adeb",
   "metadata": {},
   "outputs": [],
   "source": [
    "# testing\n",
    "#df_reviews = df_reviews.drop(columns=['style', 'score', 'word'])\n",
    "df_reviews = df_reviews.drop(columns=['style'])"
   ]
  },
  {
   "cell_type": "code",
   "execution_count": 52,
   "id": "6c6b38d0-0946-4bb2-9708-7b0be7f00feb",
   "metadata": {},
   "outputs": [
    {
     "data": {
      "text/html": [
       "<div>\n",
       "<style scoped>\n",
       "    .dataframe tbody tr th:only-of-type {\n",
       "        vertical-align: middle;\n",
       "    }\n",
       "\n",
       "    .dataframe tbody tr th {\n",
       "        vertical-align: top;\n",
       "    }\n",
       "\n",
       "    .dataframe thead th {\n",
       "        text-align: right;\n",
       "    }\n",
       "</style>\n",
       "<table border=\"1\" class=\"dataframe\">\n",
       "  <thead>\n",
       "    <tr style=\"text-align: right;\">\n",
       "      <th></th>\n",
       "      <th>wid</th>\n",
       "      <th>wine</th>\n",
       "      <th>date</th>\n",
       "      <th>review</th>\n",
       "      <th>source</th>\n",
       "      <th>lang</th>\n",
       "      <th>review_transl</th>\n",
       "      <th>style</th>\n",
       "    </tr>\n",
       "  </thead>\n",
       "  <tbody>\n",
       "    <tr>\n",
       "      <th>0</th>\n",
       "      <td>40</td>\n",
       "      <td>Arione Moscato d'Asti</td>\n",
       "      <td>2023-11-06</td>\n",
       "      <td>pera pesca nota tropicale minerali</td>\n",
       "      <td>vivino</td>\n",
       "      <td>it</td>\n",
       "      <td>pear peach tropical note minerals</td>\n",
       "      <td>sparkling</td>\n",
       "    </tr>\n",
       "    <tr>\n",
       "      <th>1</th>\n",
       "      <td>40</td>\n",
       "      <td>Arione Moscato d'Asti</td>\n",
       "      <td>2023-10-17</td>\n",
       "      <td>Ottimo</td>\n",
       "      <td>vivino</td>\n",
       "      <td>it</td>\n",
       "      <td>Optimal</td>\n",
       "      <td>sparkling</td>\n",
       "    </tr>\n",
       "    <tr>\n",
       "      <th>2</th>\n",
       "      <td>40</td>\n",
       "      <td>Arione Moscato d'Asti</td>\n",
       "      <td>2023-10-09</td>\n",
       "      <td>조금 산뜻한 향, 처음 마시고 조금 있는 바디감, Saracco보다 조금 덜 달게 ...</td>\n",
       "      <td>vivino</td>\n",
       "      <td>ko</td>\n",
       "      <td>A slightly refreshing scent, a bit of body whe...</td>\n",
       "      <td>sparkling</td>\n",
       "    </tr>\n",
       "    <tr>\n",
       "      <th>3</th>\n",
       "      <td>40</td>\n",
       "      <td>Arione Moscato d'Asti</td>\n",
       "      <td>2023-10-08</td>\n",
       "      <td>Afrutado, delicioso.</td>\n",
       "      <td>vivino</td>\n",
       "      <td>es</td>\n",
       "      <td>Fruity, delicious.</td>\n",
       "      <td>sparkling</td>\n",
       "    </tr>\n",
       "    <tr>\n",
       "      <th>4</th>\n",
       "      <td>40</td>\n",
       "      <td>Arione Moscato d'Asti</td>\n",
       "      <td>2023-07-21</td>\n",
       "      <td>honey apple peach citrus Slight fizziness ligh...</td>\n",
       "      <td>vivino</td>\n",
       "      <td>en</td>\n",
       "      <td>honey apple peach citrus Slight fizziness ligh...</td>\n",
       "      <td>sparkling</td>\n",
       "    </tr>\n",
       "  </tbody>\n",
       "</table>\n",
       "</div>"
      ],
      "text/plain": [
       "   wid                   wine        date  \\\n",
       "0   40  Arione Moscato d'Asti  2023-11-06   \n",
       "1   40  Arione Moscato d'Asti  2023-10-17   \n",
       "2   40  Arione Moscato d'Asti  2023-10-09   \n",
       "3   40  Arione Moscato d'Asti  2023-10-08   \n",
       "4   40  Arione Moscato d'Asti  2023-07-21   \n",
       "\n",
       "                                              review  source lang  \\\n",
       "0                 pera pesca nota tropicale minerali  vivino   it   \n",
       "1                                             Ottimo  vivino   it   \n",
       "2  조금 산뜻한 향, 처음 마시고 조금 있는 바디감, Saracco보다 조금 덜 달게 ...  vivino   ko   \n",
       "3                               Afrutado, delicioso.  vivino   es   \n",
       "4  honey apple peach citrus Slight fizziness ligh...  vivino   en   \n",
       "\n",
       "                                       review_transl      style  \n",
       "0                  pear peach tropical note minerals  sparkling  \n",
       "1                                            Optimal  sparkling  \n",
       "2  A slightly refreshing scent, a bit of body whe...  sparkling  \n",
       "3                                 Fruity, delicious.  sparkling  \n",
       "4  honey apple peach citrus Slight fizziness ligh...  sparkling  "
      ]
     },
     "execution_count": 52,
     "metadata": {},
     "output_type": "execute_result"
    }
   ],
   "source": [
    "#df_reviews['style'] = df_reviews.apply(lambda x: wine_style[x.wine], axis=1)\n",
    "df_reviews = df_reviews.join(df_style.set_index('wine')['style'], how='left', on='wine')\n",
    "df_reviews.head()"
   ]
  },
  {
   "cell_type": "code",
   "execution_count": 81,
   "id": "7941259e-c38a-4e6d-87c2-da41de35b20a",
   "metadata": {},
   "outputs": [
    {
     "data": {
      "text/html": [
       "<div>\n",
       "<style scoped>\n",
       "    .dataframe tbody tr th:only-of-type {\n",
       "        vertical-align: middle;\n",
       "    }\n",
       "\n",
       "    .dataframe tbody tr th {\n",
       "        vertical-align: top;\n",
       "    }\n",
       "\n",
       "    .dataframe thead th {\n",
       "        text-align: right;\n",
       "    }\n",
       "</style>\n",
       "<table border=\"1\" class=\"dataframe\">\n",
       "  <thead>\n",
       "    <tr style=\"text-align: right;\">\n",
       "      <th></th>\n",
       "      <th>wid</th>\n",
       "      <th>wine</th>\n",
       "      <th>date</th>\n",
       "      <th>review</th>\n",
       "      <th>source</th>\n",
       "      <th>lang</th>\n",
       "      <th>review_transl</th>\n",
       "      <th>style</th>\n",
       "    </tr>\n",
       "  </thead>\n",
       "  <tbody>\n",
       "    <tr>\n",
       "      <th>6086</th>\n",
       "      <td>31</td>\n",
       "      <td>Villa M Bianco</td>\n",
       "      <td>2024-01-08</td>\n",
       "      <td>달달하니 맛있다</td>\n",
       "      <td>vivino</td>\n",
       "      <td>ko</td>\n",
       "      <td>It's sweet and delicious</td>\n",
       "      <td>white</td>\n",
       "    </tr>\n",
       "    <tr>\n",
       "      <th>6087</th>\n",
       "      <td>31</td>\n",
       "      <td>Villa M Bianco</td>\n",
       "      <td>2023-12-24</td>\n",
       "      <td>달달 그 잡채 넘넘 맛있당~~~~~~!!!&gt;ㅁ&lt; @짝꿍이네집 앞 GS편의점 2023.11</td>\n",
       "      <td>vivino</td>\n",
       "      <td>ko</td>\n",
       "      <td>That sweet japchae is so delicious~~~~~~!!!&gt;ㅁ&lt;...</td>\n",
       "      <td>white</td>\n",
       "    </tr>\n",
       "    <tr>\n",
       "      <th>6088</th>\n",
       "      <td>31</td>\n",
       "      <td>Villa M Bianco</td>\n",
       "      <td>2023-06-27</td>\n",
       "      <td>달달한 와인 가격대비는 아직 잘 모르겠다</td>\n",
       "      <td>vivino</td>\n",
       "      <td>ko</td>\n",
       "      <td>I'm still not sure about the price of sweet wine.</td>\n",
       "      <td>white</td>\n",
       "    </tr>\n",
       "    <tr>\n",
       "      <th>6089</th>\n",
       "      <td>31</td>\n",
       "      <td>Villa M Bianco</td>\n",
       "      <td>2023-04-29</td>\n",
       "      <td>sweet desert wine</td>\n",
       "      <td>vivino</td>\n",
       "      <td>af</td>\n",
       "      <td>sweet desert wine</td>\n",
       "      <td>white</td>\n",
       "    </tr>\n",
       "    <tr>\n",
       "      <th>6090</th>\n",
       "      <td>31</td>\n",
       "      <td>Villa M Bianco</td>\n",
       "      <td>2023-03-14</td>\n",
       "      <td>좀 달달하지만 짠 대게랑 마시니 너무 맛남!! 해산물과 먹어야쥐</td>\n",
       "      <td>vivino</td>\n",
       "      <td>ko</td>\n",
       "      <td>It's a bit sweet, but it's so delicious when y...</td>\n",
       "      <td>white</td>\n",
       "    </tr>\n",
       "  </tbody>\n",
       "</table>\n",
       "</div>"
      ],
      "text/plain": [
       "      wid            wine        date  \\\n",
       "6086   31  Villa M Bianco  2024-01-08   \n",
       "6087   31  Villa M Bianco  2023-12-24   \n",
       "6088   31  Villa M Bianco  2023-06-27   \n",
       "6089   31  Villa M Bianco  2023-04-29   \n",
       "6090   31  Villa M Bianco  2023-03-14   \n",
       "\n",
       "                                                 review  source lang  \\\n",
       "6086                                           달달하니 맛있다  vivino   ko   \n",
       "6087  달달 그 잡채 넘넘 맛있당~~~~~~!!!>ㅁ< @짝꿍이네집 앞 GS편의점 2023.11  vivino   ko   \n",
       "6088                             달달한 와인 가격대비는 아직 잘 모르겠다  vivino   ko   \n",
       "6089                                  sweet desert wine  vivino   af   \n",
       "6090                좀 달달하지만 짠 대게랑 마시니 너무 맛남!! 해산물과 먹어야쥐  vivino   ko   \n",
       "\n",
       "                                          review_transl  style  \n",
       "6086                           It's sweet and delicious  white  \n",
       "6087  That sweet japchae is so delicious~~~~~~!!!>ㅁ<...  white  \n",
       "6088  I'm still not sure about the price of sweet wine.  white  \n",
       "6089                                  sweet desert wine  white  \n",
       "6090  It's a bit sweet, but it's so delicious when y...  white  "
      ]
     },
     "execution_count": 81,
     "metadata": {},
     "output_type": "execute_result"
    }
   ],
   "source": [
    "df_reviews.loc[df_reviews.wine.str.contains('Bianco')].head()"
   ]
  },
  {
   "cell_type": "markdown",
   "id": "eff4af90-e32e-48a3-937c-5f575f2b30b2",
   "metadata": {},
   "source": [
    "# Translate"
   ]
  },
  {
   "cell_type": "code",
   "execution_count": 44,
   "id": "dad6c683-d335-4109-a415-5fb94a0856e6",
   "metadata": {},
   "outputs": [
    {
     "data": {
      "text/plain": [
       "124"
      ]
     },
     "execution_count": 44,
     "metadata": {},
     "output_type": "execute_result"
    }
   ],
   "source": [
    "len(df_reviews)"
   ]
  },
  {
   "cell_type": "code",
   "execution_count": 45,
   "id": "337b1c30-18e4-4542-b6af-f82bbf6c04b9",
   "metadata": {},
   "outputs": [
    {
     "data": {
      "text/html": [
       "<div>\n",
       "<style scoped>\n",
       "    .dataframe tbody tr th:only-of-type {\n",
       "        vertical-align: middle;\n",
       "    }\n",
       "\n",
       "    .dataframe tbody tr th {\n",
       "        vertical-align: top;\n",
       "    }\n",
       "\n",
       "    .dataframe thead th {\n",
       "        text-align: right;\n",
       "    }\n",
       "</style>\n",
       "<table border=\"1\" class=\"dataframe\">\n",
       "  <thead>\n",
       "    <tr style=\"text-align: right;\">\n",
       "      <th></th>\n",
       "      <th>wid</th>\n",
       "      <th>wine</th>\n",
       "      <th>date</th>\n",
       "      <th>review</th>\n",
       "      <th>source</th>\n",
       "    </tr>\n",
       "  </thead>\n",
       "  <tbody>\n",
       "    <tr>\n",
       "      <th>0</th>\n",
       "      <td>69</td>\n",
       "      <td>Arione Moscato d'Asti</td>\n",
       "      <td>2024-02-16</td>\n",
       "      <td>Plus pétillant que le Canelli</td>\n",
       "      <td>vivino</td>\n",
       "    </tr>\n",
       "    <tr>\n",
       "      <th>1</th>\n",
       "      <td>69</td>\n",
       "      <td>Arione Moscato d'Asti</td>\n",
       "      <td>2023-11-06</td>\n",
       "      <td>pera pesca nota tropicale minerali</td>\n",
       "      <td>vivino</td>\n",
       "    </tr>\n",
       "    <tr>\n",
       "      <th>2</th>\n",
       "      <td>69</td>\n",
       "      <td>Arione Moscato d'Asti</td>\n",
       "      <td>2023-10-17</td>\n",
       "      <td>Ottimo</td>\n",
       "      <td>vivino</td>\n",
       "    </tr>\n",
       "    <tr>\n",
       "      <th>3</th>\n",
       "      <td>69</td>\n",
       "      <td>Arione Moscato d'Asti</td>\n",
       "      <td>2023-10-09</td>\n",
       "      <td>조금 산뜻한 향, 처음 마시고 조금 있는 바디감, Saracco보다 조금 덜 달게 ...</td>\n",
       "      <td>vivino</td>\n",
       "    </tr>\n",
       "    <tr>\n",
       "      <th>4</th>\n",
       "      <td>69</td>\n",
       "      <td>Arione Moscato d'Asti</td>\n",
       "      <td>2023-10-08</td>\n",
       "      <td>Afrutado, delicioso.</td>\n",
       "      <td>vivino</td>\n",
       "    </tr>\n",
       "  </tbody>\n",
       "</table>\n",
       "</div>"
      ],
      "text/plain": [
       "   wid                   wine       date  \\\n",
       "0   69  Arione Moscato d'Asti 2024-02-16   \n",
       "1   69  Arione Moscato d'Asti 2023-11-06   \n",
       "2   69  Arione Moscato d'Asti 2023-10-17   \n",
       "3   69  Arione Moscato d'Asti 2023-10-09   \n",
       "4   69  Arione Moscato d'Asti 2023-10-08   \n",
       "\n",
       "                                              review  source  \n",
       "0                      Plus pétillant que le Canelli  vivino  \n",
       "1                 pera pesca nota tropicale minerali  vivino  \n",
       "2                                             Ottimo  vivino  \n",
       "3  조금 산뜻한 향, 처음 마시고 조금 있는 바디감, Saracco보다 조금 덜 달게 ...  vivino  \n",
       "4                               Afrutado, delicioso.  vivino  "
      ]
     },
     "execution_count": 45,
     "metadata": {},
     "output_type": "execute_result"
    }
   ],
   "source": [
    "df_reviews.head()"
   ]
  },
  {
   "cell_type": "code",
   "execution_count": null,
   "id": "f3e3ecd4-49dc-4827-9a0a-efd0dd1a5978",
   "metadata": {},
   "outputs": [],
   "source": [
    "df_reviews = translate_reviews(df_reviews)  \n",
    "df_reviews.head()"
   ]
  },
  {
   "cell_type": "markdown",
   "id": "31667a4a-9d5b-4b1a-a829-9300280e83e4",
   "metadata": {},
   "source": [
    "**check translation error**"
   ]
  },
  {
   "cell_type": "code",
   "execution_count": 95,
   "id": "4400c9e4-c634-4f1a-ab36-f4575d84d090",
   "metadata": {},
   "outputs": [
    {
     "data": {
      "text/html": [
       "<div>\n",
       "<style scoped>\n",
       "    .dataframe tbody tr th:only-of-type {\n",
       "        vertical-align: middle;\n",
       "    }\n",
       "\n",
       "    .dataframe tbody tr th {\n",
       "        vertical-align: top;\n",
       "    }\n",
       "\n",
       "    .dataframe thead th {\n",
       "        text-align: right;\n",
       "    }\n",
       "</style>\n",
       "<table border=\"1\" class=\"dataframe\">\n",
       "  <thead>\n",
       "    <tr style=\"text-align: right;\">\n",
       "      <th></th>\n",
       "      <th>wid</th>\n",
       "      <th>wine</th>\n",
       "      <th>date</th>\n",
       "      <th>review</th>\n",
       "      <th>source</th>\n",
       "      <th>lang</th>\n",
       "      <th>review_transl</th>\n",
       "    </tr>\n",
       "  </thead>\n",
       "  <tbody>\n",
       "  </tbody>\n",
       "</table>\n",
       "</div>"
      ],
      "text/plain": [
       "Empty DataFrame\n",
       "Columns: [wid, wine, date, review, source, lang, review_transl]\n",
       "Index: []"
      ]
     },
     "execution_count": 95,
     "metadata": {},
     "output_type": "execute_result"
    }
   ],
   "source": [
    "cond = df_reviews.lang.str.contains('ERROR')\n",
    "df_reviews.loc[cond]"
   ]
  },
  {
   "cell_type": "code",
   "execution_count": null,
   "id": "3cb4fe3e-109b-4ec0-9292-b9bbcdd2c943",
   "metadata": {},
   "outputs": [],
   "source": [
    "df_err = df_reviews.loc[cond].drop(columns=['lang', 'review_transl'])\n",
    "df_err = translate_reviews(df_err, merge=True)  \n",
    "df_err"
   ]
  },
  {
   "cell_type": "code",
   "execution_count": 76,
   "id": "c1539869-c5f6-47d9-b351-37c10b07cc21",
   "metadata": {},
   "outputs": [
    {
     "data": {
      "text/html": [
       "<div>\n",
       "<style scoped>\n",
       "    .dataframe tbody tr th:only-of-type {\n",
       "        vertical-align: middle;\n",
       "    }\n",
       "\n",
       "    .dataframe tbody tr th {\n",
       "        vertical-align: top;\n",
       "    }\n",
       "\n",
       "    .dataframe thead th {\n",
       "        text-align: right;\n",
       "    }\n",
       "</style>\n",
       "<table border=\"1\" class=\"dataframe\">\n",
       "  <thead>\n",
       "    <tr style=\"text-align: right;\">\n",
       "      <th></th>\n",
       "      <th>wid</th>\n",
       "      <th>wine</th>\n",
       "      <th>date</th>\n",
       "      <th>review</th>\n",
       "      <th>source</th>\n",
       "      <th>lang</th>\n",
       "      <th>review_transl</th>\n",
       "    </tr>\n",
       "  </thead>\n",
       "  <tbody>\n",
       "    <tr>\n",
       "      <th>1</th>\n",
       "      <td>52</td>\n",
       "      <td>Diablo Black Cabernet Sauvignon</td>\n",
       "      <td>2023-06-27</td>\n",
       "      <td>👍</td>\n",
       "      <td>vivino</td>\n",
       "      <td>&lt;-- ERROR --&gt;</td>\n",
       "      <td>None</td>\n",
       "    </tr>\n",
       "    <tr>\n",
       "      <th>8</th>\n",
       "      <td>56</td>\n",
       "      <td>Woodbridge by Robert Mondavi Cabernet Sauvignon</td>\n",
       "      <td>2022-11-20</td>\n",
       "      <td>Luísa</td>\n",
       "      <td>vivino</td>\n",
       "      <td>ca</td>\n",
       "      <td>Luisa</td>\n",
       "    </tr>\n",
       "    <tr>\n",
       "      <th>10</th>\n",
       "      <td>56</td>\n",
       "      <td>Woodbridge by Robert Mondavi Cabernet Sauvignon</td>\n",
       "      <td>2022-07-17</td>\n",
       "      <td>B2</td>\n",
       "      <td>vivino</td>\n",
       "      <td>de</td>\n",
       "      <td>B2</td>\n",
       "    </tr>\n",
       "  </tbody>\n",
       "</table>\n",
       "</div>"
      ],
      "text/plain": [
       "    wid                                             wine       date review  \\\n",
       "1    52                  Diablo Black Cabernet Sauvignon 2023-06-27      👍   \n",
       "8    56  Woodbridge by Robert Mondavi Cabernet Sauvignon 2022-11-20  Luísa   \n",
       "10   56  Woodbridge by Robert Mondavi Cabernet Sauvignon 2022-07-17     B2   \n",
       "\n",
       "    source           lang review_transl  \n",
       "1   vivino  <-- ERROR -->          None  \n",
       "8   vivino             ca         Luisa  \n",
       "10  vivino             de            B2  "
      ]
     },
     "execution_count": 76,
     "metadata": {},
     "output_type": "execute_result"
    }
   ],
   "source": [
    "cond_err = df_err.index.isin([1,8,10])\n",
    "df_err.loc[cond_err]"
   ]
  },
  {
   "cell_type": "code",
   "execution_count": 82,
   "id": "c76ffbf7-3231-40a3-8331-2ee974a6294c",
   "metadata": {},
   "outputs": [],
   "source": [
    "df_reviews = pd.concat([df_reviews.loc[~cond], df_err.loc[~cond_err]]).reset_index(drop=True)"
   ]
  },
  {
   "cell_type": "code",
   "execution_count": 64,
   "id": "c61580ed-da11-4992-9fcf-47a5a88e5635",
   "metadata": {},
   "outputs": [
    {
     "data": {
      "text/html": [
       "<div>\n",
       "<style scoped>\n",
       "    .dataframe tbody tr th:only-of-type {\n",
       "        vertical-align: middle;\n",
       "    }\n",
       "\n",
       "    .dataframe tbody tr th {\n",
       "        vertical-align: top;\n",
       "    }\n",
       "\n",
       "    .dataframe thead th {\n",
       "        text-align: right;\n",
       "    }\n",
       "</style>\n",
       "<table border=\"1\" class=\"dataframe\">\n",
       "  <thead>\n",
       "    <tr style=\"text-align: right;\">\n",
       "      <th></th>\n",
       "      <th>wid</th>\n",
       "      <th>wine</th>\n",
       "      <th>date</th>\n",
       "      <th>review</th>\n",
       "      <th>source</th>\n",
       "      <th>lang</th>\n",
       "      <th>review_transl</th>\n",
       "    </tr>\n",
       "  </thead>\n",
       "  <tbody>\n",
       "  </tbody>\n",
       "</table>\n",
       "</div>"
      ],
      "text/plain": [
       "Empty DataFrame\n",
       "Columns: [wid, wine, date, review, source, lang, review_transl]\n",
       "Index: []"
      ]
     },
     "execution_count": 64,
     "metadata": {},
     "output_type": "execute_result"
    }
   ],
   "source": [
    "cond = df_reviews.review_transl.isna()\n",
    "df_reviews.loc[cond]"
   ]
  },
  {
   "cell_type": "code",
   "execution_count": 65,
   "id": "792cbd88-2ee8-408e-afd3-a60cfc85c277",
   "metadata": {},
   "outputs": [],
   "source": [
    "df_reviews = df_reviews.loc[~cond]"
   ]
  },
  {
   "cell_type": "markdown",
   "id": "25f7621f-96fa-4ffb-85e3-88f1053a85b5",
   "metadata": {},
   "source": [
    "# save"
   ]
  },
  {
   "cell_type": "code",
   "execution_count": 25,
   "id": "ee5daaff-22f8-4874-8ff4-c4ae1b9be077",
   "metadata": {},
   "outputs": [],
   "source": [
    "file = 'wine_reviews'\n",
    "zfile = f'{file}.zip'"
   ]
  },
  {
   "cell_type": "code",
   "execution_count": 26,
   "id": "64369ad3-0112-4031-b8c5-26962a47c8c4",
   "metadata": {},
   "outputs": [
    {
     "name": "stdout",
     "output_type": "stream",
     "text": [
      "Archive:  wine_reviews.zip\n",
      "  Length      Date    Time    Name\n",
      "---------  ---------- -----   ----\n",
      "  2316472  2024-03-27 12:50   data/wine_reviews_240327.csv\n",
      "---------                     -------\n",
      "  2316472                     1 file\n"
     ]
    }
   ],
   "source": [
    "!unzip -l {zfile}"
   ]
  },
  {
   "cell_type": "code",
   "execution_count": 27,
   "id": "b1204894-12cc-4b17-aec3-14198af29d2b",
   "metadata": {},
   "outputs": [
    {
     "name": "stdout",
     "output_type": "stream",
     "text": [
      "ERROR: data/wine_reviews_240327.csv already exists\n"
     ]
    }
   ],
   "source": [
    "from datetime import datetime\n",
    "d = datetime.today().strftime('%y%m%d')\n",
    "#d = f'{d}b'\n",
    "\n",
    "cfile = f'{file}_{d}.csv'\n",
    "save_csv(df_reviews, cfile)"
   ]
  },
  {
   "cell_type": "code",
   "execution_count": 28,
   "id": "54032ce7-f801-46a4-b3d7-8f7b6af3a998",
   "metadata": {},
   "outputs": [
    {
     "name": "stdout",
     "output_type": "stream",
     "text": [
      "\tzip warning: wine_reviews.zip not found or empty\n",
      "  adding: wine_reviews_240327.csv (deflated 72%)\n"
     ]
    }
   ],
   "source": [
    "!zip -uj {zfile} data/{cfile}\n",
    "#!zip -uj wine_reviews.zip data/wine_reviews_2*e.csv"
   ]
  },
  {
   "cell_type": "code",
   "execution_count": 29,
   "id": "4c61b011-4b52-4c34-8aee-1cb7e1c1b766",
   "metadata": {},
   "outputs": [
    {
     "name": "stdout",
     "output_type": "stream",
     "text": [
      "Archive:  wine_reviews.zip\n",
      "  Length      Date    Time    Name\n",
      "---------  ---------- -----   ----\n",
      "  2316472  2024-03-27 12:50   wine_reviews_240327.csv\n",
      "---------                     -------\n",
      "  2316472                     1 file\n"
     ]
    }
   ],
   "source": [
    "!unzip -l {zfile}"
   ]
  },
  {
   "cell_type": "code",
   "execution_count": null,
   "id": "bf57bc8f-9d4e-4e08-bdab-3cc49b4bc88c",
   "metadata": {},
   "outputs": [],
   "source": [
    "import re\n",
    "\n",
    "pattern = r\"'wine_\\d+\\.csv'\"\n",
    "\n",
    "# Find matches\n",
    "matches = [s for s in data if re.match(pattern, s)]"
   ]
  },
  {
   "cell_type": "code",
   "execution_count": 31,
   "id": "8729f652-4ee0-41b8-a635-741a39351777",
   "metadata": {},
   "outputs": [],
   "source": [
    "import os\n",
    "\n",
    "path = 'data'\n",
    "#files = [x for x in os.listdir(path) if x.startswith(file)]\n",
    "files = [x for x in os.listdir(path)]"
   ]
  },
  {
   "cell_type": "code",
   "execution_count": 44,
   "id": "81920f93-8ba8-4129-a2cb-fe9dcc74dd95",
   "metadata": {},
   "outputs": [
    {
     "data": {
      "text/plain": [
       "['wine_reviews_240327.csv']"
      ]
     },
     "execution_count": 44,
     "metadata": {},
     "output_type": "execute_result"
    }
   ],
   "source": [
    "files\n",
    "\n",
    "import re\n",
    "pattern = r'wine_\\d+\\.csv'\n",
    "pattern = 'wine_reviews_2'\n",
    "\n",
    "[s for s in files if re.match(pattern, s)]"
   ]
  },
  {
   "cell_type": "code",
   "execution_count": 41,
   "id": "32d65af3-d076-4383-b8ce-0acdd4c064ea",
   "metadata": {},
   "outputs": [
    {
     "data": {
      "text/plain": [
       "<re.Match object; span=(0, 11), match='wine_55.csv'>"
      ]
     },
     "execution_count": 41,
     "metadata": {},
     "output_type": "execute_result"
    }
   ],
   "source": [
    "re.match(pattern, 'wine_55.csv')"
   ]
  },
  {
   "cell_type": "code",
   "execution_count": null,
   "id": "f1621b10-f1ca-4456-a772-76def33d5ba0",
   "metadata": {},
   "outputs": [],
   "source": []
  }
 ],
 "metadata": {
  "kernelspec": {
   "display_name": "scrap2",
   "language": "python",
   "name": "scrap2"
  },
  "language_info": {
   "codemirror_mode": {
    "name": "ipython",
    "version": 3
   },
   "file_extension": ".py",
   "mimetype": "text/x-python",
   "name": "python",
   "nbconvert_exporter": "python",
   "pygments_lexer": "ipython3",
   "version": "3.9.18"
  }
 },
 "nbformat": 4,
 "nbformat_minor": 5
}
