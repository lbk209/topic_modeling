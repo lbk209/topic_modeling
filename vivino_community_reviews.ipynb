{
 "cells": [
  {
   "cell_type": "code",
   "execution_count": 1,
   "id": "48b78785-892f-420c-b7d3-4db00fd3c5ce",
   "metadata": {},
   "outputs": [],
   "source": [
    "from vivino_community_reviews import save_reviews, load_reviews"
   ]
  },
  {
   "cell_type": "code",
   "execution_count": 2,
   "id": "daebf455-6907-4c2b-8a65-d465954350bb",
   "metadata": {},
   "outputs": [],
   "source": [
    "import os\n",
    "import pandas as pd\n",
    "\n",
    "def read_csv(file, path_data, **kwargs):\n",
    "    \"\"\"\n",
    "    kwargs: keyword args for pd.read_csv\n",
    "    \"\"\"\n",
    "    files = [x for x in os.listdir(path_data) if x.startswith(file)]\n",
    "\n",
    "    df_reviews = pd.DataFrame()\n",
    "    for f in files:\n",
    "        df = pd.read_csv(f'{path_data}/{f}', **kwargs)\n",
    "        df_reviews = pd.concat([df_reviews, df])\n",
    "\n",
    "    return df_reviews.reset_index(drop=True)"
   ]
  },
  {
   "cell_type": "markdown",
   "id": "3453086d-7ea2-4ce6-939d-c5e07cd25e2a",
   "metadata": {},
   "source": [
    "# Existing"
   ]
  },
  {
   "cell_type": "code",
   "execution_count": 21,
   "id": "084738b8-29ec-4bcb-a762-820de3bb7ac6",
   "metadata": {},
   "outputs": [
    {
     "data": {
      "text/plain": [
       "wid  wine                                                \n",
       "4    Aguirre Dos Copas Cabernet Sauvignon                      7\n",
       "0    Casillero del Diablo Cabernet Sauvignon (Reserva)       472\n",
       "6    Casillero del Diablo Chardonnay (Reserva)               122\n",
       "11   Cono Sur Bicicleta Reserva Unoaked Chardonnay           109\n",
       "9    Frontera Cabernet Sauvignon                             207\n",
       "7    Kendall-Jackson Vintner's Reserve Cabernet Sauvignon    121\n",
       "10   Long Barn Chardonnay                                    142\n",
       "18   Montes Montes Alpha Cabernet Sauvignon                  220\n",
       "2    Roche Mazet Cuvée Spéciale Cabernet Sauvignon            61\n",
       "14   Roche Mazet Cuvée Spéciale Chardonnay                    31\n",
       "16   San Pedro 1865 Selected Vineyards Cabernet Sauvignon     41\n",
       "17   San Pedro 1865 Single Vineyard Cabernet Sauvignon        42\n",
       "3    San Pedro Gato Negro Cabernet Sauvignon                 879\n",
       "13   San Pedro Gato Negro Chardonnay                         230\n",
       "5    The 7th Generation - G7 Cabernet Sauvignon               26\n",
       "12   The 7th Generation - G7 Chardonnay                       42\n",
       "8    Viña Santa Helena Reservado Cabernet Sauvignon'          51\n",
       "1    Yellow Tail Cabernet Sauvignon                          136\n",
       "15   Yellow Tail Chardonnay                                  122\n",
       "Name: review_transl, dtype: int64"
      ]
     },
     "execution_count": 21,
     "metadata": {},
     "output_type": "execute_result"
    }
   ],
   "source": [
    "file = 'wine_reviews_'\n",
    "df_reviews = read_csv(file, 'data')\n",
    "df_reviews.groupby(['wid', 'wine']).review_transl.count().sort_index(level=1)"
   ]
  },
  {
   "cell_type": "markdown",
   "id": "75b09696-2a65-463b-a4c4-76f1a194afd4",
   "metadata": {},
   "source": [
    "# Scraping"
   ]
  },
  {
   "cell_type": "code",
   "execution_count": 4,
   "id": "2fc3dc21-a8ca-410e-92a6-193b4b0321d5",
   "metadata": {},
   "outputs": [],
   "source": [
    "from vivino_community_reviews import vivino_reviews, concat_reviews\n",
    "\n",
    "import pandas as pd"
   ]
  },
  {
   "cell_type": "code",
   "execution_count": 60,
   "id": "51bfb2ea-38ff-4fc2-88af-7ea8171993dd",
   "metadata": {},
   "outputs": [],
   "source": [
    "locator_ratings = \"//a[@href='#all_reviews']\"\n",
    "locator_more = \"//button[@tabindex='0']\"\n",
    "locator_recent = '//*[@data-testid=\"baseModalBackdrop\"]/div[2]/div[2]/div[2]/div/a[1]'\n",
    "\n",
    "locator_review = \"communityReview__reviewText--2bfLj\"\n",
    "locator_date = \"anchor_anchor__m8Qi- reviewAnchor__anchor--2NKFw reviewDate__reviewDate--49vpM undefined\"\n",
    "\n",
    "kwargs = {\n",
    "    'loc1': locator_ratings,\n",
    "    'loc2': locator_more,\n",
    "    'loc3': locator_recent, \n",
    "    'loc4': locator_review,\n",
    "    'loc5': locator_date\n",
    "}"
   ]
  },
  {
   "cell_type": "code",
   "execution_count": 6,
   "id": "39f95682-cc61-428a-8e82-e8f1a16f68d9",
   "metadata": {},
   "outputs": [],
   "source": [
    "kwargs.update({\n",
    "    'end_date': '20220101',\n",
    "    'source': 'vivino',\n",
    "    #'max_scr': 10, 'time_scr': 2, 'check_idx': 4\n",
    "})"
   ]
  },
  {
   "cell_type": "markdown",
   "id": "95f96412-7b0e-4342-a41f-f0644a23988b",
   "metadata": {},
   "source": [
    "## wine list"
   ]
  },
  {
   "cell_type": "code",
   "execution_count": 6,
   "id": "ca3c00fa-af34-48c3-aabc-4c5576395bc8",
   "metadata": {},
   "outputs": [],
   "source": [
    "w = \"\"\"\n",
    "Kendall-Jackson Vintner's Reserve Cabernet Sauvignon\n",
    "https://www.vivino.com/kendall-jackson-vintner-s-reserve-cabernet-sauvignon/w/2140?ref=nav-search#all_reviews\n",
    "Viña Santa Helena Reservado Cabernet Sauvignon'\n",
    "https://www.vivino.com/vina-santa-helena-central-valley-reservado-cabernet-sauvignon/w/1134409?ref=nav-search#all_reviews\n",
    "Frontera Cabernet Sauvignon\n",
    "https://www.vivino.com/cl-frontera-cabernet-sauvignon/w/1135072?ref=nav-search#all_reviews\n",
    "Long Barn Chardonnay\n",
    "https://www.vivino.com/long-barn-chardonnay/w/3980079?ref=nav-search#all_reviews\n",
    "Cono Sur Bicicleta Reserva Unoaked Chardonnay\n",
    "https://www.vivino.com/cono-sur-santiago-bicicleta-reserva-unoaked-chardonnay-central-valley/w/6467244?ref=nav-search#all_reviews\n",
    "The 7th Generation - G7 Chardonnay\n",
    "https://www.vivino.com/the-7th-generation-chardonnay/w/1577653#all_reviews\n",
    "San Pedro Gato Negro Chardonnay\n",
    "https://www.vivino.com/san-pedro-central-valley-vspt-gato-negro-chardonnay/w/5956#all_reviews\n",
    "Roche Mazet Cuvée Spéciale Chardonnay\n",
    "https://www.vivino.com/fr-roche-mazet-cuvee-speciale-chardonnay/w/2332011?ref=nav-search#all_reviews\n",
    "Yellow Tail Chardonnay\n",
    "https://www.vivino.com/yellow-tail-chardonnay/w/2546?ref=nav-search#all_reviews\n",
    "San Pedro 1865 Selected Vineyards Cabernet Sauvignon\n",
    "https://www.vivino.com/san-pedro-central-valley-vspt-eighteen-sixtyfive-selected-vineyards-cabernet-sauvignon/w/6158938?ref=nav-search#all_reviews\n",
    "San Pedro 1865 Single Vineyard Cabernet Sauvignon\n",
    "https://www.vivino.com/san-pedro-central-valley-vspt-eighteen-sixtyfive-single-vineyard-cabernet-sauvignon/w/5900?ref=nav-search#all_reviews\n",
    "Montes Montes Alpha Cabernet Sauvignon\n",
    "https://www.vivino.com/montes-casablanca-valley-montes-alpha-cabernet-sauvignon/w/71294?ref=nav-search#all_reviews\n",
    "\"\"\""
   ]
  },
  {
   "cell_type": "code",
   "execution_count": 63,
   "id": "bdf6b573-ec66-40c4-8549-ce0e07a0e53f",
   "metadata": {},
   "outputs": [],
   "source": [
    "w = \"\"\"\n",
    "Montes Montes Alpha Merlot\n",
    "https://www.vivino.com/montes-casablanca-valley-montes-alpha-merlot/w/71324?ref=nav-search\n",
    "Montes Montes Alpha Syrah\n",
    "https://www.vivino.com/montes-casablanca-valley-montes-alpha-syrah-colchagua-valley/w/10479900?ref=nav-search#all_reviews\n",
    "San Pedro 1865 Selected Vineyards Syrah\n",
    "https://www.vivino.com/san-pedro-central-valley-vspt-eighteen-sixtyfive-selected-vineyards-syrah-cachapoal/w/6371004#all_reviews\n",
    "San Pedro 1865 Single Vineyard Malbec\n",
    "https://www.vivino.com/san-pedro-central-valley-vspt-eighteen-sixtyfive-single-vineyard-malbec/w/1227330#all_reviews\n",
    "San Pedro 1865 Single Vineyard Syrah\n",
    "https://www.vivino.com/san-pedro-central-valley-vspt-eighteen-sixtyfive-single-vineyard-syrah/w/1226644#all_reviews\n",
    "Mollydooker The Boxer Shiraz\n",
    "https://www.vivino.com/mollydooker-winery-the-boxer-shiraz/w/950?ref=nav-search#all_reviews\n",
    "William Hill North Coast Cabernet Sauvignon\n",
    "https://www.vivino.com/william-hill-north-coast-cabernet-sauvignon-north-coast/w/2198238#all_reviews\n",
    "William Hill North Coast Chardonnay\n",
    "https://www.vivino.com/william-hill-north-coast-chardonnay-north-coast-white-wine-v-ihqmt/w/4609184?ref=nav-search#all_reviews\n",
    "Kendall-Jackson Vintner's Reserve Chardonnay\n",
    "https://www.vivino.com/kendall-jackson-vintner-s-reserve-chardonnay/w/2132?ref=nav-search#all_reviews\n",
    "Bread & Butter Pinot Noir\n",
    "https://www.vivino.com/bread-and-butter-pinot-noir/w/1724151?ref=nav-search#all_reviews\n",
    "Bread & Butter Cabernet Sauvignon\n",
    "https://www.vivino.com/bread-and-butter-cabernet-sauvignon-california-red-wine/w/6218579?ref=nav-search#all_reviews\n",
    "\"\"\""
   ]
  },
  {
   "cell_type": "code",
   "execution_count": null,
   "id": "d40a6e1d-7f93-4a5e-bfdc-fb6a1982edff",
   "metadata": {},
   "outputs": [],
   "source": []
  },
  {
   "cell_type": "code",
   "execution_count": 22,
   "id": "1c735f02-a23a-4908-9b3f-87b3486266bf",
   "metadata": {},
   "outputs": [
    {
     "data": {
      "text/plain": [
       "19"
      ]
     },
     "execution_count": 22,
     "metadata": {},
     "output_type": "execute_result"
    }
   ],
   "source": [
    "w = w.strip('\\n').split('\\n')\n",
    "wines = {w[i]:w[i+1] for i in range(0, len(w), 2)}\n",
    "\n",
    "id_start = df_reviews.wid.max() + 1\n",
    "id_start"
   ]
  },
  {
   "cell_type": "code",
   "execution_count": 33,
   "id": "b78127fe-3d9c-47e5-bff7-65a8b6183316",
   "metadata": {},
   "outputs": [],
   "source": [
    "wines = {x[0]:x[1] for i,x in enumerate(wines.items()) if i >1}"
   ]
  },
  {
   "cell_type": "markdown",
   "id": "560396fb-1da8-49e6-8b5c-c8a9c79210db",
   "metadata": {},
   "source": [
    "**load the reviewsof the wines not translated yet**"
   ]
  },
  {
   "cell_type": "code",
   "execution_count": 7,
   "id": "f89a4ef6-5943-4090-a191-1e8c2ea0d546",
   "metadata": {},
   "outputs": [
    {
     "name": "stdout",
     "output_type": "stream",
     "text": [
      "data/wine_6.csv loaded.\n"
     ]
    },
    {
     "data": {
      "text/plain": [
       "wid\n",
       "6    [Casillero del Diablo Chardonnay (Reserva)]\n",
       "Name: wine, dtype: object"
      ]
     },
     "execution_count": 7,
     "metadata": {},
     "output_type": "execute_result"
    }
   ],
   "source": [
    "#files = []\n",
    "files = ['wine_6']\n",
    "path = 'data'\n",
    "\n",
    "df_reviews = pd.DataFrame()\n",
    "for f in files:\n",
    "    df = load_reviews(f'{f}.csv', path=path)\n",
    "    df_reviews = pd.concat([df_reviews, df])\n",
    "\n",
    "# check duplicate wid\n",
    "df_reviews.groupby('wid').wine.unique()"
   ]
  },
  {
   "cell_type": "markdown",
   "id": "ae345a76-ebc9-4f1f-b784-4efeb8ffc82d",
   "metadata": {},
   "source": [
    "**reset dataframe if no reviews**"
   ]
  },
  {
   "cell_type": "code",
   "execution_count": 61,
   "id": "f7776f47-85b9-46d3-a47e-c9d28a8834d0",
   "metadata": {},
   "outputs": [],
   "source": [
    "# selenium의 webdriver를 사용하기 위한 import\n",
    "from selenium import webdriver\n",
    "\n",
    "# selenium으로 키를 조작하기 위한 import\n",
    "from selenium.webdriver.common.keys import Keys\n",
    "from selenium.webdriver.common.by import By\n",
    "\n",
    "from selenium.common.exceptions import ElementNotVisibleException, StaleElementReferenceException, NoSuchElementException\n",
    "\n",
    "# 페이지 로딩을 기다리는데에 사용할 time 모듈 import\n",
    "import time\n",
    "\n",
    "import pandas as pd \n",
    "import numpy as np\n",
    "from tqdm import tqdm\n",
    "from datetime import datetime\n",
    "\n",
    "import os\n",
    "\n",
    "\n",
    "def collect_reviews(class_name, driver, by=By.CLASS_NAME):\n",
    "    l = driver.find_elements(by, class_name)\n",
    "    return [x.text for x in l]\n",
    "    \n",
    "\n",
    "def vivino_reviews(wine_url, wine_name, \n",
    "                   end_date = '20230101',\n",
    "                   max_rev = 1e4, \n",
    "                   max_scr = 10, # max num of scroll for new review list \n",
    "                   time_scr = 2, # time to wait after scrolling. StaleElementReferenceException if not enough\n",
    "                   loc1=None, \n",
    "                   loc2=None, \n",
    "                   loc3=None, \n",
    "                   loc4=None, # class name\n",
    "                   loc5=None, # class name\n",
    "                   # take the final review list as the review page has same old reiviews at the end every update by scroll-down \n",
    "                   final_only = True,\n",
    "                   check_idx = 4, # community review list has 3 old reviews at the end of list every loading of new reviews\n",
    "                   rev_date_format = '%b %d, %Y',\n",
    "                   #headless = False # fail to locate loc1 if set to True,\n",
    "                   source='vivino'\n",
    "                  ):\n",
    "\n",
    "    #if headless:\n",
    "    if False:\n",
    "        options = webdriver.ChromeOptions()\n",
    "        options.add_argument('headless')\n",
    "    else:\n",
    "        options = None\n",
    "\n",
    "    driver = webdriver.Chrome(options=options) \n",
    "    driver.get(wine_url)\n",
    "    time.sleep(3)\n",
    "\n",
    "    loc4 = loc4.replace(' ', '.')\n",
    "    loc5 = loc5.replace(' ', '.')\n",
    "\n",
    "    try:\n",
    "        # click all_reviews\n",
    "        l = loc1\n",
    "        driver.find_element(By.XPATH, loc1).click()\n",
    "        \n",
    "        # enter community reviews\n",
    "        l = loc2\n",
    "        driver.find_element(By.XPATH, loc2).click()\n",
    "        time.sleep(1)\n",
    "        \n",
    "        # Show reviews by recent\n",
    "        l = loc3\n",
    "        driver.find_element(By.XPATH, loc3).click()\n",
    "        time.sleep(1)\n",
    "\n",
    "        l = loc4\n",
    "        list_r = collect_reviews(loc4, driver)\n",
    "        l = loc5\n",
    "        list_d = collect_reviews(loc5, driver)\n",
    "    except:\n",
    "        print(f'ERROR) Check locator: {l}')\n",
    "        driver.quit()\n",
    "        return None\n",
    "     \n",
    "    reviews = list()\n",
    "    dates = list()\n",
    "    n_scr = 0\n",
    "\n",
    "    #pbar = tqdm(total=max_rev, position=0)\n",
    "    pbar = tqdm(position=0)\n",
    "    \n",
    "    while True:\n",
    "        n = len(list_r) - len(reviews)\n",
    "        if n > 0: # get new n reviews\n",
    "            if final_only: # replace review list with the latest scan\n",
    "                reviews = list_r\n",
    "                dates = list_d\n",
    "            else: # update review list with new reviews from the latest scan\n",
    "                reviews.extend(list_r[-n:])\n",
    "                dates.extend(list_d[-n:])\n",
    "            n_scr = 0\n",
    "            pbar.update(n)\n",
    "        else:\n",
    "            n_scr += 1\n",
    "\n",
    "        # testing\n",
    "        #return list_d\n",
    "\n",
    "        d1 = datetime.strptime(list_d[-check_idx], rev_date_format)\n",
    "        d2 = datetime.strptime(end_date, '%Y%m%d')\n",
    "        #print('testing:', d1)\n",
    "\n",
    "        if ((len(reviews) > max_rev) or (d1 < d2)):\n",
    "            print(f'{len(reviews)} reviews collected.')\n",
    "            break\n",
    "        elif (n_scr > max_scr):\n",
    "            # redundunt as n_try checking max_scr as well?\n",
    "            print(f'WARNING: No additional reviews after {max_scr} reloading.')\n",
    "            break\n",
    "        else:\n",
    "            driver.find_element(By.TAG_NAME, 'body').send_keys(Keys.PAGE_DOWN)\n",
    "            time.sleep(time_scr)\n",
    "\n",
    "            failed = True\n",
    "            n_try = 0\n",
    "            while failed:\n",
    "                try:\n",
    "                    list_r = collect_reviews(loc4, driver)\n",
    "                    list_d = collect_reviews(loc5, driver)\n",
    "                    failed = False\n",
    "                except StaleElementReferenceException:\n",
    "                    time.sleep(time_scr)\n",
    "                    n_try += 1\n",
    "                    \n",
    "                if n_try > max_scr:\n",
    "                    failed = False\n",
    "                    print('WARNING: fail to collect all reviews')\n",
    "\n",
    "    pbar.close()\n",
    "\n",
    "    # close browser\n",
    "    driver.quit()\n",
    "\n",
    "    # save result\n",
    "    df_reviews = pd.DataFrame.from_dict({'date':dates, 'review':reviews})\n",
    "    df_reviews['date'] = pd.to_datetime(df_reviews['date'], format=rev_date_format)\n",
    "    df_reviews['source'] = source\n",
    "    \n",
    "    if False: #deprecated\n",
    "        df_reviews.to_csv(filename, index=False)  \n",
    "\n",
    "    return df_reviews"
   ]
  },
  {
   "cell_type": "code",
   "execution_count": 64,
   "id": "a7cdf2d7-2c0d-44cc-8a2f-ff889bacb3ba",
   "metadata": {},
   "outputs": [],
   "source": [
    "df_reviews = pd.DataFrame()"
   ]
  },
  {
   "cell_type": "code",
   "execution_count": 65,
   "id": "45e267b4-b7be-4b90-a57c-135c7d015236",
   "metadata": {},
   "outputs": [
    {
     "name": "stderr",
     "output_type": "stream",
     "text": [
      "13it [00:00, 114550.32it/s]"
     ]
    },
    {
     "name": "stdout",
     "output_type": "stream",
     "text": [
      "13 reviews collected.\n",
      "data/wine_19.csv saved.\n"
     ]
    },
    {
     "name": "stderr",
     "output_type": "stream",
     "text": [
      "\n"
     ]
    }
   ],
   "source": [
    "col_rev = ['wid', 'wine', 'date', 'review', 'source']\n",
    "path = 'data'\n",
    "\n",
    "#for wine_name, wine_url in wines:\n",
    "for wine_name, wine_url in wines.items():\n",
    "    df = vivino_reviews(wine_url, wine_name, **kwargs)\n",
    "    df_reviews = concat_reviews(df_reviews, df, wine_name, col_rev, path=path, id_start=id_start)\n",
    "    break # testing"
   ]
  },
  {
   "cell_type": "code",
   "execution_count": 27,
   "id": "8bc281cc-bc48-4403-b988-a617c4f0a88d",
   "metadata": {},
   "outputs": [
    {
     "data": {
      "text/plain": [
       "datetime.datetime(2023, 1, 16, 0, 0)"
      ]
     },
     "execution_count": 27,
     "metadata": {},
     "output_type": "execute_result"
    }
   ],
   "source": [
    "from datetime import datetime\n",
    "datetime.strptime(\"Jan 16, 2023\", '%b %d, %Y')"
   ]
  },
  {
   "cell_type": "code",
   "execution_count": 41,
   "id": "7e522418-8f19-4af1-a692-85d60b817ffa",
   "metadata": {},
   "outputs": [],
   "source": [
    "dates, reviews = df"
   ]
  },
  {
   "cell_type": "code",
   "execution_count": 42,
   "id": "2ebd46ec-e2a6-4eb4-b116-57c2226c93be",
   "metadata": {},
   "outputs": [],
   "source": [
    "df_reviews = pd.DataFrame.from_dict({'date':dates, 'review':reviews})"
   ]
  },
  {
   "cell_type": "code",
   "execution_count": 43,
   "id": "cdb3b741-a04f-4b86-80f9-b65dbf1fa617",
   "metadata": {},
   "outputs": [
    {
     "data": {
      "text/html": [
       "<div>\n",
       "<style scoped>\n",
       "    .dataframe tbody tr th:only-of-type {\n",
       "        vertical-align: middle;\n",
       "    }\n",
       "\n",
       "    .dataframe tbody tr th {\n",
       "        vertical-align: top;\n",
       "    }\n",
       "\n",
       "    .dataframe thead th {\n",
       "        text-align: right;\n",
       "    }\n",
       "</style>\n",
       "<table border=\"1\" class=\"dataframe\">\n",
       "  <thead>\n",
       "    <tr style=\"text-align: right;\">\n",
       "      <th></th>\n",
       "      <th>date</th>\n",
       "      <th>review</th>\n",
       "    </tr>\n",
       "  </thead>\n",
       "  <tbody>\n",
       "    <tr>\n",
       "      <th>0</th>\n",
       "      <td>May 20, 2023</td>\n",
       "      <td>맛있었음 적당한 감칠맛</td>\n",
       "    </tr>\n",
       "    <tr>\n",
       "      <th>1</th>\n",
       "      <td>Jan 16, 2023</td>\n",
       "      <td>Too spicy for me</td>\n",
       "    </tr>\n",
       "    <tr>\n",
       "      <th>2</th>\n",
       "      <td>Dec 24, 2022</td>\n",
       "      <td>좀 묽다</td>\n",
       "    </tr>\n",
       "    <tr>\n",
       "      <th>3</th>\n",
       "      <td>Aug 1, 2022</td>\n",
       "      <td>too dry would be better with oilly food</td>\n",
       "    </tr>\n",
       "    <tr>\n",
       "      <th>4</th>\n",
       "      <td>May 8, 2022</td>\n",
       "      <td>oak plum blackberry cherry</td>\n",
       "    </tr>\n",
       "    <tr>\n",
       "      <th>5</th>\n",
       "      <td>Mar 6, 2022</td>\n",
       "      <td>검은과실 오크 바닐라 초콜릿 / 좋음 산미3-4 탄닌3 당도1-2 알콜4 (김치찌개...</td>\n",
       "    </tr>\n",
       "    <tr>\n",
       "      <th>6</th>\n",
       "      <td>Feb 28, 2022</td>\n",
       "      <td>Nice</td>\n",
       "    </tr>\n",
       "    <tr>\n",
       "      <th>7</th>\n",
       "      <td>Dec 30, 2021</td>\n",
       "      <td>가격 대비 무난한 시라 품종. 강렬한 스모크와 스파이스로 끝맛이 오래 남는 와인.</td>\n",
       "    </tr>\n",
       "    <tr>\n",
       "      <th>8</th>\n",
       "      <td>Nov 27, 2021</td>\n",
       "      <td>Cereja</td>\n",
       "    </tr>\n",
       "    <tr>\n",
       "      <th>9</th>\n",
       "      <td>Nov 20, 2021</td>\n",
       "      <td>blackberry plum cherry oak</td>\n",
       "    </tr>\n",
       "    <tr>\n",
       "      <th>10</th>\n",
       "      <td>Nov 20, 2021</td>\n",
       "      <td>blackberry plum cherry oak</td>\n",
       "    </tr>\n",
       "    <tr>\n",
       "      <th>11</th>\n",
       "      <td>May 8, 2022</td>\n",
       "      <td>oak plum blackberry cherry</td>\n",
       "    </tr>\n",
       "    <tr>\n",
       "      <th>12</th>\n",
       "      <td>Jul 6, 2021</td>\n",
       "      <td>cherry oak blackberry</td>\n",
       "    </tr>\n",
       "  </tbody>\n",
       "</table>\n",
       "</div>"
      ],
      "text/plain": [
       "            date                                             review\n",
       "0   May 20, 2023                                       맛있었음 적당한 감칠맛\n",
       "1   Jan 16, 2023                                   Too spicy for me\n",
       "2   Dec 24, 2022                                               좀 묽다\n",
       "3    Aug 1, 2022            too dry would be better with oilly food\n",
       "4    May 8, 2022                         oak plum blackberry cherry\n",
       "5    Mar 6, 2022  검은과실 오크 바닐라 초콜릿 / 좋음 산미3-4 탄닌3 당도1-2 알콜4 (김치찌개...\n",
       "6   Feb 28, 2022                                               Nice\n",
       "7   Dec 30, 2021      가격 대비 무난한 시라 품종. 강렬한 스모크와 스파이스로 끝맛이 오래 남는 와인.\n",
       "8   Nov 27, 2021                                             Cereja\n",
       "9   Nov 20, 2021                         blackberry plum cherry oak\n",
       "10  Nov 20, 2021                         blackberry plum cherry oak\n",
       "11   May 8, 2022                         oak plum blackberry cherry\n",
       "12   Jul 6, 2021                              cherry oak blackberry"
      ]
     },
     "execution_count": 43,
     "metadata": {},
     "output_type": "execute_result"
    }
   ],
   "source": [
    "df_reviews"
   ]
  },
  {
   "cell_type": "code",
   "execution_count": 53,
   "id": "8fa70e08-e0e7-4251-84c2-f89971510914",
   "metadata": {},
   "outputs": [
    {
     "data": {
      "text/plain": [
       "datetime.datetime(2022, 12, 24, 0, 0)"
      ]
     },
     "execution_count": 53,
     "metadata": {},
     "output_type": "execute_result"
    }
   ],
   "source": [
    "x = df_reviews['date'][2]\n",
    "\n",
    "from datetime import datetime\n",
    "datetime.strptime(x, '%b %d, %Y')"
   ]
  },
  {
   "cell_type": "code",
   "execution_count": 51,
   "id": "9eb127a5-5d61-417c-9759-30a83e9a1ec8",
   "metadata": {},
   "outputs": [
    {
     "ename": "ValueError",
     "evalue": "time data \"Jan 16, 2023\" doesn't match format \"%B %d, %Y\", at position 1. You might want to try:\n    - passing `format` if your strings have a consistent format;\n    - passing `format='ISO8601'` if your strings are all ISO8601 but not necessarily in exactly the same format;\n    - passing `format='mixed'`, and the format will be inferred for each element individually. You might want to use `dayfirst` alongside this.",
     "output_type": "error",
     "traceback": [
      "\u001b[0;31m---------------------------------------------------------------------------\u001b[0m",
      "\u001b[0;31mValueError\u001b[0m                                Traceback (most recent call last)",
      "Cell \u001b[0;32mIn[51], line 1\u001b[0m\n\u001b[0;32m----> 1\u001b[0m \u001b[43mpd\u001b[49m\u001b[38;5;241;43m.\u001b[39;49m\u001b[43mto_datetime\u001b[49m\u001b[43m(\u001b[49m\u001b[43mdf_reviews\u001b[49m\u001b[43m[\u001b[49m\u001b[38;5;124;43m'\u001b[39;49m\u001b[38;5;124;43mdate\u001b[39;49m\u001b[38;5;124;43m'\u001b[39;49m\u001b[43m]\u001b[49m\u001b[43m)\u001b[49m\n",
      "File \u001b[0;32m~/.cache/pypoetry/virtualenvs/scrap2-pSsZr_wz-py3.9/lib/python3.9/site-packages/pandas/core/tools/datetimes.py:1067\u001b[0m, in \u001b[0;36mto_datetime\u001b[0;34m(arg, errors, dayfirst, yearfirst, utc, format, exact, unit, infer_datetime_format, origin, cache)\u001b[0m\n\u001b[1;32m   1065\u001b[0m         result \u001b[38;5;241m=\u001b[39m arg\u001b[38;5;241m.\u001b[39mmap(cache_array)\n\u001b[1;32m   1066\u001b[0m     \u001b[38;5;28;01melse\u001b[39;00m:\n\u001b[0;32m-> 1067\u001b[0m         values \u001b[38;5;241m=\u001b[39m \u001b[43mconvert_listlike\u001b[49m\u001b[43m(\u001b[49m\u001b[43marg\u001b[49m\u001b[38;5;241;43m.\u001b[39;49m\u001b[43m_values\u001b[49m\u001b[43m,\u001b[49m\u001b[43m \u001b[49m\u001b[38;5;28;43mformat\u001b[39;49m\u001b[43m)\u001b[49m\n\u001b[1;32m   1068\u001b[0m         result \u001b[38;5;241m=\u001b[39m arg\u001b[38;5;241m.\u001b[39m_constructor(values, index\u001b[38;5;241m=\u001b[39marg\u001b[38;5;241m.\u001b[39mindex, name\u001b[38;5;241m=\u001b[39marg\u001b[38;5;241m.\u001b[39mname)\n\u001b[1;32m   1069\u001b[0m \u001b[38;5;28;01melif\u001b[39;00m \u001b[38;5;28misinstance\u001b[39m(arg, (ABCDataFrame, abc\u001b[38;5;241m.\u001b[39mMutableMapping)):\n",
      "File \u001b[0;32m~/.cache/pypoetry/virtualenvs/scrap2-pSsZr_wz-py3.9/lib/python3.9/site-packages/pandas/core/tools/datetimes.py:433\u001b[0m, in \u001b[0;36m_convert_listlike_datetimes\u001b[0;34m(arg, format, name, utc, unit, errors, dayfirst, yearfirst, exact)\u001b[0m\n\u001b[1;32m    431\u001b[0m \u001b[38;5;66;03m# `format` could be inferred, or user didn't ask for mixed-format parsing.\u001b[39;00m\n\u001b[1;32m    432\u001b[0m \u001b[38;5;28;01mif\u001b[39;00m \u001b[38;5;28mformat\u001b[39m \u001b[38;5;129;01mis\u001b[39;00m \u001b[38;5;129;01mnot\u001b[39;00m \u001b[38;5;28;01mNone\u001b[39;00m \u001b[38;5;129;01mand\u001b[39;00m \u001b[38;5;28mformat\u001b[39m \u001b[38;5;241m!=\u001b[39m \u001b[38;5;124m\"\u001b[39m\u001b[38;5;124mmixed\u001b[39m\u001b[38;5;124m\"\u001b[39m:\n\u001b[0;32m--> 433\u001b[0m     \u001b[38;5;28;01mreturn\u001b[39;00m \u001b[43m_array_strptime_with_fallback\u001b[49m\u001b[43m(\u001b[49m\u001b[43marg\u001b[49m\u001b[43m,\u001b[49m\u001b[43m \u001b[49m\u001b[43mname\u001b[49m\u001b[43m,\u001b[49m\u001b[43m \u001b[49m\u001b[43mutc\u001b[49m\u001b[43m,\u001b[49m\u001b[43m \u001b[49m\u001b[38;5;28;43mformat\u001b[39;49m\u001b[43m,\u001b[49m\u001b[43m \u001b[49m\u001b[43mexact\u001b[49m\u001b[43m,\u001b[49m\u001b[43m \u001b[49m\u001b[43merrors\u001b[49m\u001b[43m)\u001b[49m\n\u001b[1;32m    435\u001b[0m result, tz_parsed \u001b[38;5;241m=\u001b[39m objects_to_datetime64(\n\u001b[1;32m    436\u001b[0m     arg,\n\u001b[1;32m    437\u001b[0m     dayfirst\u001b[38;5;241m=\u001b[39mdayfirst,\n\u001b[0;32m   (...)\u001b[0m\n\u001b[1;32m    441\u001b[0m     allow_object\u001b[38;5;241m=\u001b[39m\u001b[38;5;28;01mTrue\u001b[39;00m,\n\u001b[1;32m    442\u001b[0m )\n\u001b[1;32m    444\u001b[0m \u001b[38;5;28;01mif\u001b[39;00m tz_parsed \u001b[38;5;129;01mis\u001b[39;00m \u001b[38;5;129;01mnot\u001b[39;00m \u001b[38;5;28;01mNone\u001b[39;00m:\n\u001b[1;32m    445\u001b[0m     \u001b[38;5;66;03m# We can take a shortcut since the datetime64 numpy array\u001b[39;00m\n\u001b[1;32m    446\u001b[0m     \u001b[38;5;66;03m# is in UTC\u001b[39;00m\n",
      "File \u001b[0;32m~/.cache/pypoetry/virtualenvs/scrap2-pSsZr_wz-py3.9/lib/python3.9/site-packages/pandas/core/tools/datetimes.py:467\u001b[0m, in \u001b[0;36m_array_strptime_with_fallback\u001b[0;34m(arg, name, utc, fmt, exact, errors)\u001b[0m\n\u001b[1;32m    456\u001b[0m \u001b[38;5;28;01mdef\u001b[39;00m \u001b[38;5;21m_array_strptime_with_fallback\u001b[39m(\n\u001b[1;32m    457\u001b[0m     arg,\n\u001b[1;32m    458\u001b[0m     name,\n\u001b[0;32m   (...)\u001b[0m\n\u001b[1;32m    462\u001b[0m     errors: \u001b[38;5;28mstr\u001b[39m,\n\u001b[1;32m    463\u001b[0m ) \u001b[38;5;241m-\u001b[39m\u001b[38;5;241m>\u001b[39m Index:\n\u001b[1;32m    464\u001b[0m \u001b[38;5;250m    \u001b[39m\u001b[38;5;124;03m\"\"\"\u001b[39;00m\n\u001b[1;32m    465\u001b[0m \u001b[38;5;124;03m    Call array_strptime, with fallback behavior depending on 'errors'.\u001b[39;00m\n\u001b[1;32m    466\u001b[0m \u001b[38;5;124;03m    \"\"\"\u001b[39;00m\n\u001b[0;32m--> 467\u001b[0m     result, tz_out \u001b[38;5;241m=\u001b[39m \u001b[43marray_strptime\u001b[49m\u001b[43m(\u001b[49m\u001b[43marg\u001b[49m\u001b[43m,\u001b[49m\u001b[43m \u001b[49m\u001b[43mfmt\u001b[49m\u001b[43m,\u001b[49m\u001b[43m \u001b[49m\u001b[43mexact\u001b[49m\u001b[38;5;241;43m=\u001b[39;49m\u001b[43mexact\u001b[49m\u001b[43m,\u001b[49m\u001b[43m \u001b[49m\u001b[43merrors\u001b[49m\u001b[38;5;241;43m=\u001b[39;49m\u001b[43merrors\u001b[49m\u001b[43m,\u001b[49m\u001b[43m \u001b[49m\u001b[43mutc\u001b[49m\u001b[38;5;241;43m=\u001b[39;49m\u001b[43mutc\u001b[49m\u001b[43m)\u001b[49m\n\u001b[1;32m    468\u001b[0m     \u001b[38;5;28;01mif\u001b[39;00m tz_out \u001b[38;5;129;01mis\u001b[39;00m \u001b[38;5;129;01mnot\u001b[39;00m \u001b[38;5;28;01mNone\u001b[39;00m:\n\u001b[1;32m    469\u001b[0m         unit \u001b[38;5;241m=\u001b[39m np\u001b[38;5;241m.\u001b[39mdatetime_data(result\u001b[38;5;241m.\u001b[39mdtype)[\u001b[38;5;241m0\u001b[39m]\n",
      "File \u001b[0;32mstrptime.pyx:501\u001b[0m, in \u001b[0;36mpandas._libs.tslibs.strptime.array_strptime\u001b[0;34m()\u001b[0m\n",
      "File \u001b[0;32mstrptime.pyx:451\u001b[0m, in \u001b[0;36mpandas._libs.tslibs.strptime.array_strptime\u001b[0;34m()\u001b[0m\n",
      "File \u001b[0;32mstrptime.pyx:583\u001b[0m, in \u001b[0;36mpandas._libs.tslibs.strptime._parse_with_format\u001b[0;34m()\u001b[0m\n",
      "\u001b[0;31mValueError\u001b[0m: time data \"Jan 16, 2023\" doesn't match format \"%B %d, %Y\", at position 1. You might want to try:\n    - passing `format` if your strings have a consistent format;\n    - passing `format='ISO8601'` if your strings are all ISO8601 but not necessarily in exactly the same format;\n    - passing `format='mixed'`, and the format will be inferred for each element individually. You might want to use `dayfirst` alongside this."
     ]
    }
   ],
   "source": [
    "pd.to_datetime(df_reviews['date'])"
   ]
  },
  {
   "cell_type": "code",
   "execution_count": null,
   "id": "df2e8e62-4894-4f65-9e38-8fdbcf7c16a3",
   "metadata": {},
   "outputs": [],
   "source": []
  },
  {
   "cell_type": "code",
   "execution_count": null,
   "id": "f899c6db-e39b-49c7-b48f-6deb875850ca",
   "metadata": {},
   "outputs": [],
   "source": []
  },
  {
   "cell_type": "markdown",
   "id": "fd1521a7-3988-4098-b430-c5e09fc6a4a2",
   "metadata": {},
   "source": [
    "**temp saving before translation**"
   ]
  },
  {
   "cell_type": "code",
   "execution_count": 25,
   "id": "aa6aef77-4bf1-4b9d-8400-f17f380f9d88",
   "metadata": {},
   "outputs": [
    {
     "data": {
      "text/html": [
       "<div>\n",
       "<style scoped>\n",
       "    .dataframe tbody tr th:only-of-type {\n",
       "        vertical-align: middle;\n",
       "    }\n",
       "\n",
       "    .dataframe tbody tr th {\n",
       "        vertical-align: top;\n",
       "    }\n",
       "\n",
       "    .dataframe thead th {\n",
       "        text-align: right;\n",
       "    }\n",
       "</style>\n",
       "<table border=\"1\" class=\"dataframe\">\n",
       "  <thead>\n",
       "    <tr style=\"text-align: right;\">\n",
       "      <th></th>\n",
       "      <th>wid</th>\n",
       "      <th>wine</th>\n",
       "      <th>date</th>\n",
       "      <th>review</th>\n",
       "      <th>source</th>\n",
       "    </tr>\n",
       "  </thead>\n",
       "  <tbody>\n",
       "    <tr>\n",
       "      <th>0</th>\n",
       "      <td>19</td>\n",
       "      <td>Montes Montes Alpha Merlot</td>\n",
       "      <td>2024-02-05</td>\n",
       "      <td>Enjoyed it with chicken tikka masala as its so...</td>\n",
       "      <td>vivino</td>\n",
       "    </tr>\n",
       "    <tr>\n",
       "      <th>1</th>\n",
       "      <td>19</td>\n",
       "      <td>Montes Montes Alpha Merlot</td>\n",
       "      <td>2023-12-31</td>\n",
       "      <td>Vintage 2021 very smooth, Well balanced with v...</td>\n",
       "      <td>vivino</td>\n",
       "    </tr>\n",
       "    <tr>\n",
       "      <th>2</th>\n",
       "      <td>19</td>\n",
       "      <td>Montes Montes Alpha Merlot</td>\n",
       "      <td>2023-11-26</td>\n",
       "      <td>oak plum tobacco Slightly bitter Worth of pric...</td>\n",
       "      <td>vivino</td>\n",
       "    </tr>\n",
       "    <tr>\n",
       "      <th>3</th>\n",
       "      <td>19</td>\n",
       "      <td>Montes Montes Alpha Merlot</td>\n",
       "      <td>2023-11-24</td>\n",
       "      <td>.</td>\n",
       "      <td>vivino</td>\n",
       "    </tr>\n",
       "    <tr>\n",
       "      <th>4</th>\n",
       "      <td>19</td>\n",
       "      <td>Montes Montes Alpha Merlot</td>\n",
       "      <td>2023-11-23</td>\n",
       "      <td>easy to drink table top merlot. it does not pr...</td>\n",
       "      <td>vivino</td>\n",
       "    </tr>\n",
       "    <tr>\n",
       "      <th>...</th>\n",
       "      <td>...</td>\n",
       "      <td>...</td>\n",
       "      <td>...</td>\n",
       "      <td>...</td>\n",
       "      <td>...</td>\n",
       "    </tr>\n",
       "    <tr>\n",
       "      <th>48</th>\n",
       "      <td>20</td>\n",
       "      <td>Montes Montes Alpha Syrah</td>\n",
       "      <td>2024-01-27</td>\n",
       "      <td>Delicioso Syrah. No aroma, blueberry, amora, c...</td>\n",
       "      <td>vivino</td>\n",
       "    </tr>\n",
       "    <tr>\n",
       "      <th>49</th>\n",
       "      <td>20</td>\n",
       "      <td>Montes Montes Alpha Syrah</td>\n",
       "      <td>2024-01-27</td>\n",
       "      <td>Very good</td>\n",
       "      <td>vivino</td>\n",
       "    </tr>\n",
       "    <tr>\n",
       "      <th>50</th>\n",
       "      <td>20</td>\n",
       "      <td>Montes Montes Alpha Syrah</td>\n",
       "      <td>NaT</td>\n",
       "      <td></td>\n",
       "      <td>vivino</td>\n",
       "    </tr>\n",
       "    <tr>\n",
       "      <th>51</th>\n",
       "      <td>20</td>\n",
       "      <td>Montes Montes Alpha Syrah</td>\n",
       "      <td>2023-05-12</td>\n",
       "      <td>Was out for supper with a friend, this was the...</td>\n",
       "      <td>vivino</td>\n",
       "    </tr>\n",
       "    <tr>\n",
       "      <th>52</th>\n",
       "      <td>20</td>\n",
       "      <td>Montes Montes Alpha Syrah</td>\n",
       "      <td>2022-12-26</td>\n",
       "      <td>First Chilean wine in Chile! Super tasty, burs...</td>\n",
       "      <td>vivino</td>\n",
       "    </tr>\n",
       "  </tbody>\n",
       "</table>\n",
       "<p>116 rows × 5 columns</p>\n",
       "</div>"
      ],
      "text/plain": [
       "    wid                        wine       date  \\\n",
       "0    19  Montes Montes Alpha Merlot 2024-02-05   \n",
       "1    19  Montes Montes Alpha Merlot 2023-12-31   \n",
       "2    19  Montes Montes Alpha Merlot 2023-11-26   \n",
       "3    19  Montes Montes Alpha Merlot 2023-11-24   \n",
       "4    19  Montes Montes Alpha Merlot 2023-11-23   \n",
       "..  ...                         ...        ...   \n",
       "48   20   Montes Montes Alpha Syrah 2024-01-27   \n",
       "49   20   Montes Montes Alpha Syrah 2024-01-27   \n",
       "50   20   Montes Montes Alpha Syrah        NaT   \n",
       "51   20   Montes Montes Alpha Syrah 2023-05-12   \n",
       "52   20   Montes Montes Alpha Syrah 2022-12-26   \n",
       "\n",
       "                                               review  source  \n",
       "0   Enjoyed it with chicken tikka masala as its so...  vivino  \n",
       "1   Vintage 2021 very smooth, Well balanced with v...  vivino  \n",
       "2   oak plum tobacco Slightly bitter Worth of pric...  vivino  \n",
       "3                                                   .  vivino  \n",
       "4   easy to drink table top merlot. it does not pr...  vivino  \n",
       "..                                                ...     ...  \n",
       "48  Delicioso Syrah. No aroma, blueberry, amora, c...  vivino  \n",
       "49                                          Very good  vivino  \n",
       "50                                                     vivino  \n",
       "51  Was out for supper with a friend, this was the...  vivino  \n",
       "52  First Chilean wine in Chile! Super tasty, burs...  vivino  \n",
       "\n",
       "[116 rows x 5 columns]"
      ]
     },
     "execution_count": 25,
     "metadata": {},
     "output_type": "execute_result"
    }
   ],
   "source": [
    "df_reviews"
   ]
  },
  {
   "cell_type": "code",
   "execution_count": 13,
   "id": "1a4a8af7-781f-4f93-a279-db041f14f0d5",
   "metadata": {},
   "outputs": [
    {
     "name": "stdout",
     "output_type": "stream",
     "text": [
      "data/wine_reviews.csv saved.\n"
     ]
    }
   ],
   "source": [
    "save_reviews(df_reviews, 'wine_reviews_tmp.csv', 'data')"
   ]
  },
  {
   "cell_type": "markdown",
   "id": "d9f7f247-0751-46e4-bf66-48409773bb97",
   "metadata": {},
   "source": [
    "# Review data"
   ]
  },
  {
   "cell_type": "code",
   "execution_count": 14,
   "id": "af270968-963a-4a1a-a577-fb8187eb85d9",
   "metadata": {},
   "outputs": [
    {
     "name": "stdout",
     "output_type": "stream",
     "text": [
      "data/wine_reviews.csv loaded.\n"
     ]
    }
   ],
   "source": [
    "df_reviews = load_reviews('wine_reviews_tmp.csv', 'data')"
   ]
  },
  {
   "cell_type": "code",
   "execution_count": 15,
   "id": "36e8b2b4-f05e-4640-82e3-94f74672b445",
   "metadata": {},
   "outputs": [
    {
     "data": {
      "text/html": [
       "<div>\n",
       "<style scoped>\n",
       "    .dataframe tbody tr th:only-of-type {\n",
       "        vertical-align: middle;\n",
       "    }\n",
       "\n",
       "    .dataframe tbody tr th {\n",
       "        vertical-align: top;\n",
       "    }\n",
       "\n",
       "    .dataframe thead th {\n",
       "        text-align: right;\n",
       "    }\n",
       "</style>\n",
       "<table border=\"1\" class=\"dataframe\">\n",
       "  <thead>\n",
       "    <tr style=\"text-align: right;\">\n",
       "      <th></th>\n",
       "      <th>wid</th>\n",
       "      <th>wine</th>\n",
       "      <th>date</th>\n",
       "      <th>review</th>\n",
       "      <th>source</th>\n",
       "    </tr>\n",
       "  </thead>\n",
       "  <tbody>\n",
       "    <tr>\n",
       "      <th>120</th>\n",
       "      <td>6</td>\n",
       "      <td>Casillero del Diablo Chardonnay (Reserva)</td>\n",
       "      <td>NaT</td>\n",
       "      <td>NaN</td>\n",
       "      <td>vivino</td>\n",
       "    </tr>\n",
       "    <tr>\n",
       "      <th>243</th>\n",
       "      <td>7</td>\n",
       "      <td>Kendall-Jackson Vintner's Reserve Cabernet Sau...</td>\n",
       "      <td>2022-04-09</td>\n",
       "      <td>NaN</td>\n",
       "      <td>vivino</td>\n",
       "    </tr>\n",
       "    <tr>\n",
       "      <th>296</th>\n",
       "      <td>8</td>\n",
       "      <td>Viña Santa Helena Reservado Cabernet Sauvignon'</td>\n",
       "      <td>NaT</td>\n",
       "      <td>NaN</td>\n",
       "      <td>vivino</td>\n",
       "    </tr>\n",
       "    <tr>\n",
       "      <th>297</th>\n",
       "      <td>8</td>\n",
       "      <td>Viña Santa Helena Reservado Cabernet Sauvignon'</td>\n",
       "      <td>2022-07-23</td>\n",
       "      <td>NaN</td>\n",
       "      <td>vivino</td>\n",
       "    </tr>\n",
       "    <tr>\n",
       "      <th>475</th>\n",
       "      <td>9</td>\n",
       "      <td>Frontera Cabernet Sauvignon</td>\n",
       "      <td>2022-02-23</td>\n",
       "      <td>NaN</td>\n",
       "      <td>vivino</td>\n",
       "    </tr>\n",
       "    <tr>\n",
       "      <th>480</th>\n",
       "      <td>9</td>\n",
       "      <td>Frontera Cabernet Sauvignon</td>\n",
       "      <td>2022-02-15</td>\n",
       "      <td>NaN</td>\n",
       "      <td>vivino</td>\n",
       "    </tr>\n",
       "    <tr>\n",
       "      <th>495</th>\n",
       "      <td>9</td>\n",
       "      <td>Frontera Cabernet Sauvignon</td>\n",
       "      <td>2022-01-16</td>\n",
       "      <td>NaN</td>\n",
       "      <td>vivino</td>\n",
       "    </tr>\n",
       "    <tr>\n",
       "      <th>509</th>\n",
       "      <td>9</td>\n",
       "      <td>Frontera Cabernet Sauvignon</td>\n",
       "      <td>NaT</td>\n",
       "      <td>NaN</td>\n",
       "      <td>vivino</td>\n",
       "    </tr>\n",
       "    <tr>\n",
       "      <th>652</th>\n",
       "      <td>10</td>\n",
       "      <td>Long Barn Chardonnay</td>\n",
       "      <td>NaT</td>\n",
       "      <td>NaN</td>\n",
       "      <td>vivino</td>\n",
       "    </tr>\n",
       "    <tr>\n",
       "      <th>724</th>\n",
       "      <td>11</td>\n",
       "      <td>Cono Sur Bicicleta Reserva Unoaked Chardonnay</td>\n",
       "      <td>2022-02-13</td>\n",
       "      <td>NaN</td>\n",
       "      <td>vivino</td>\n",
       "    </tr>\n",
       "    <tr>\n",
       "      <th>738</th>\n",
       "      <td>11</td>\n",
       "      <td>Cono Sur Bicicleta Reserva Unoaked Chardonnay</td>\n",
       "      <td>2021-12-25</td>\n",
       "      <td>NaN</td>\n",
       "      <td>vivino</td>\n",
       "    </tr>\n",
       "    <tr>\n",
       "      <th>757</th>\n",
       "      <td>11</td>\n",
       "      <td>Cono Sur Bicicleta Reserva Unoaked Chardonnay</td>\n",
       "      <td>2021-09-18</td>\n",
       "      <td>NaN</td>\n",
       "      <td>vivino</td>\n",
       "    </tr>\n",
       "    <tr>\n",
       "      <th>765</th>\n",
       "      <td>11</td>\n",
       "      <td>Cono Sur Bicicleta Reserva Unoaked Chardonnay</td>\n",
       "      <td>NaT</td>\n",
       "      <td>NaN</td>\n",
       "      <td>vivino</td>\n",
       "    </tr>\n",
       "    <tr>\n",
       "      <th>1012</th>\n",
       "      <td>13</td>\n",
       "      <td>San Pedro Gato Negro Chardonnay</td>\n",
       "      <td>2022-02-04</td>\n",
       "      <td>NaN</td>\n",
       "      <td>vivino</td>\n",
       "    </tr>\n",
       "    <tr>\n",
       "      <th>1041</th>\n",
       "      <td>13</td>\n",
       "      <td>San Pedro Gato Negro Chardonnay</td>\n",
       "      <td>NaT</td>\n",
       "      <td>NaN</td>\n",
       "      <td>vivino</td>\n",
       "    </tr>\n",
       "    <tr>\n",
       "      <th>1060</th>\n",
       "      <td>14</td>\n",
       "      <td>Roche Mazet Cuvée Spéciale Chardonnay</td>\n",
       "      <td>2022-02-28</td>\n",
       "      <td>NaN</td>\n",
       "      <td>vivino</td>\n",
       "    </tr>\n",
       "    <tr>\n",
       "      <th>1074</th>\n",
       "      <td>14</td>\n",
       "      <td>Roche Mazet Cuvée Spéciale Chardonnay</td>\n",
       "      <td>NaT</td>\n",
       "      <td>NaN</td>\n",
       "      <td>vivino</td>\n",
       "    </tr>\n",
       "    <tr>\n",
       "      <th>1197</th>\n",
       "      <td>15</td>\n",
       "      <td>Yellow Tail Chardonnay</td>\n",
       "      <td>2019-09-12</td>\n",
       "      <td>NaN</td>\n",
       "      <td>vivino</td>\n",
       "    </tr>\n",
       "    <tr>\n",
       "      <th>1211</th>\n",
       "      <td>16</td>\n",
       "      <td>San Pedro 1865 Selected Vineyards Cabernet Sau...</td>\n",
       "      <td>2021-11-20</td>\n",
       "      <td>NaN</td>\n",
       "      <td>vivino</td>\n",
       "    </tr>\n",
       "    <tr>\n",
       "      <th>1239</th>\n",
       "      <td>16</td>\n",
       "      <td>San Pedro 1865 Selected Vineyards Cabernet Sau...</td>\n",
       "      <td>2019-01-13</td>\n",
       "      <td>NaN</td>\n",
       "      <td>vivino</td>\n",
       "    </tr>\n",
       "    <tr>\n",
       "      <th>1283</th>\n",
       "      <td>17</td>\n",
       "      <td>San Pedro 1865 Single Vineyard Cabernet Sauvignon</td>\n",
       "      <td>2021-08-24</td>\n",
       "      <td>NaN</td>\n",
       "      <td>vivino</td>\n",
       "    </tr>\n",
       "    <tr>\n",
       "      <th>1506</th>\n",
       "      <td>18</td>\n",
       "      <td>Montes Montes Alpha Cabernet Sauvignon</td>\n",
       "      <td>NaT</td>\n",
       "      <td>NaN</td>\n",
       "      <td>vivino</td>\n",
       "    </tr>\n",
       "  </tbody>\n",
       "</table>\n",
       "</div>"
      ],
      "text/plain": [
       "      wid                                               wine       date  \\\n",
       "120     6          Casillero del Diablo Chardonnay (Reserva)        NaT   \n",
       "243     7  Kendall-Jackson Vintner's Reserve Cabernet Sau... 2022-04-09   \n",
       "296     8    Viña Santa Helena Reservado Cabernet Sauvignon'        NaT   \n",
       "297     8    Viña Santa Helena Reservado Cabernet Sauvignon' 2022-07-23   \n",
       "475     9                        Frontera Cabernet Sauvignon 2022-02-23   \n",
       "480     9                        Frontera Cabernet Sauvignon 2022-02-15   \n",
       "495     9                        Frontera Cabernet Sauvignon 2022-01-16   \n",
       "509     9                        Frontera Cabernet Sauvignon        NaT   \n",
       "652    10                               Long Barn Chardonnay        NaT   \n",
       "724    11      Cono Sur Bicicleta Reserva Unoaked Chardonnay 2022-02-13   \n",
       "738    11      Cono Sur Bicicleta Reserva Unoaked Chardonnay 2021-12-25   \n",
       "757    11      Cono Sur Bicicleta Reserva Unoaked Chardonnay 2021-09-18   \n",
       "765    11      Cono Sur Bicicleta Reserva Unoaked Chardonnay        NaT   \n",
       "1012   13                    San Pedro Gato Negro Chardonnay 2022-02-04   \n",
       "1041   13                    San Pedro Gato Negro Chardonnay        NaT   \n",
       "1060   14              Roche Mazet Cuvée Spéciale Chardonnay 2022-02-28   \n",
       "1074   14              Roche Mazet Cuvée Spéciale Chardonnay        NaT   \n",
       "1197   15                             Yellow Tail Chardonnay 2019-09-12   \n",
       "1211   16  San Pedro 1865 Selected Vineyards Cabernet Sau... 2021-11-20   \n",
       "1239   16  San Pedro 1865 Selected Vineyards Cabernet Sau... 2019-01-13   \n",
       "1283   17  San Pedro 1865 Single Vineyard Cabernet Sauvignon 2021-08-24   \n",
       "1506   18             Montes Montes Alpha Cabernet Sauvignon        NaT   \n",
       "\n",
       "     review  source  \n",
       "120     NaN  vivino  \n",
       "243     NaN  vivino  \n",
       "296     NaN  vivino  \n",
       "297     NaN  vivino  \n",
       "475     NaN  vivino  \n",
       "480     NaN  vivino  \n",
       "495     NaN  vivino  \n",
       "509     NaN  vivino  \n",
       "652     NaN  vivino  \n",
       "724     NaN  vivino  \n",
       "738     NaN  vivino  \n",
       "757     NaN  vivino  \n",
       "765     NaN  vivino  \n",
       "1012    NaN  vivino  \n",
       "1041    NaN  vivino  \n",
       "1060    NaN  vivino  \n",
       "1074    NaN  vivino  \n",
       "1197    NaN  vivino  \n",
       "1211    NaN  vivino  \n",
       "1239    NaN  vivino  \n",
       "1283    NaN  vivino  \n",
       "1506    NaN  vivino  "
      ]
     },
     "execution_count": 15,
     "metadata": {},
     "output_type": "execute_result"
    }
   ],
   "source": [
    "cond = (df_reviews.date.isna()) | (df_reviews.review.isna())\n",
    "df_reviews.loc[cond]"
   ]
  },
  {
   "cell_type": "code",
   "execution_count": 16,
   "id": "1a192d4b-ef01-4279-9004-1abfb08ca53e",
   "metadata": {},
   "outputs": [],
   "source": [
    "df_reviews = df_reviews.loc[~cond].reset_index(drop=True)"
   ]
  },
  {
   "cell_type": "code",
   "execution_count": 17,
   "id": "8d9a594c-ae1f-44ba-ab72-997caa5d4094",
   "metadata": {},
   "outputs": [
    {
     "data": {
      "text/plain": [
       "date\n",
       "2024     56\n",
       "2023    501\n",
       "2022    745\n",
       "2021    165\n",
       "2020     13\n",
       "2019      2\n",
       "2018      3\n",
       "2016      2\n",
       "Name: count, dtype: int64"
      ]
     },
     "execution_count": 17,
     "metadata": {},
     "output_type": "execute_result"
    }
   ],
   "source": [
    "df_reviews.date.dt.year.value_counts().sort_index(ascending=False)"
   ]
  },
  {
   "cell_type": "code",
   "execution_count": 19,
   "id": "a1f48e7a-a07e-402b-8857-6c5a8b1bebbd",
   "metadata": {},
   "outputs": [
    {
     "data": {
      "text/plain": [
       "'20220101'"
      ]
     },
     "execution_count": 19,
     "metadata": {},
     "output_type": "execute_result"
    }
   ],
   "source": [
    "kwargs['end_date']"
   ]
  },
  {
   "cell_type": "code",
   "execution_count": 22,
   "id": "a3aafc5b-fc20-4e05-af1f-9197e8215b9e",
   "metadata": {},
   "outputs": [
    {
     "data": {
      "text/plain": [
       "<Axes: >"
      ]
     },
     "execution_count": 22,
     "metadata": {},
     "output_type": "execute_result"
    },
    {
     "data": {
      "image/png": "[encoded data removed]",
      "text/plain": [
       "<Figure size 640x480 with 1 Axes>"
      ]
     },
     "metadata": {},
     "output_type": "display_data"
    }
   ],
   "source": [
    "#d = df_reviews.date.agg(['min', 'max']).to_list()\n",
    "d = [kwargs['end_date'], df_reviews.date.max()]\n",
    "\n",
    "date_range = pd.date_range(start=d[0], end=d[1]).to_period(\"M\").unique()\n",
    "\n",
    "(df_reviews\n",
    " .set_index('date').to_period(\"M\")\n",
    " .groupby(level=0).review.count()\n",
    " .sort_index()\n",
    " .reindex(date_range, fill_value=0)\n",
    " .plot(kind='barh')\n",
    ")"
   ]
  },
  {
   "cell_type": "code",
   "execution_count": 23,
   "id": "c1ce0430-3dea-4a97-a0b9-010a6580d0b0",
   "metadata": {},
   "outputs": [
    {
     "data": {
      "text/plain": [
       "<Axes: ylabel='wine'>"
      ]
     },
     "execution_count": 23,
     "metadata": {},
     "output_type": "execute_result"
    },
    {
     "data": {
      "image/png": "[encoded data removed]",
      "text/plain": [
       "<Figure size 640x480 with 1 Axes>"
      ]
     },
     "metadata": {},
     "output_type": "display_data"
    }
   ],
   "source": [
    "(df_reviews\n",
    " .groupby(by='wine').review.count()\n",
    " .plot(kind='barh')\n",
    ")"
   ]
  },
  {
   "cell_type": "code",
   "execution_count": 24,
   "id": "920c9d82-167b-4f27-b6d5-2ea7258a55fe",
   "metadata": {},
   "outputs": [
    {
     "data": {
      "text/html": [
       "<div>\n",
       "<style scoped>\n",
       "    .dataframe tbody tr th:only-of-type {\n",
       "        vertical-align: middle;\n",
       "    }\n",
       "\n",
       "    .dataframe tbody tr th {\n",
       "        vertical-align: top;\n",
       "    }\n",
       "\n",
       "    .dataframe thead th {\n",
       "        text-align: right;\n",
       "    }\n",
       "</style>\n",
       "<table border=\"1\" class=\"dataframe\">\n",
       "  <thead>\n",
       "    <tr style=\"text-align: right;\">\n",
       "      <th></th>\n",
       "      <th>wid</th>\n",
       "      <th>wine</th>\n",
       "      <th>date</th>\n",
       "      <th>review</th>\n",
       "      <th>source</th>\n",
       "    </tr>\n",
       "  </thead>\n",
       "  <tbody>\n",
       "    <tr>\n",
       "      <th>0</th>\n",
       "      <td>6</td>\n",
       "      <td>Casillero del Diablo Chardonnay (Reserva)</td>\n",
       "      <td>2024-02-03</td>\n",
       "      <td>cu 1.6 구매, 소비뇽블랑같은 맛</td>\n",
       "      <td>vivino</td>\n",
       "    </tr>\n",
       "    <tr>\n",
       "      <th>1</th>\n",
       "      <td>6</td>\n",
       "      <td>Casillero del Diablo Chardonnay (Reserva)</td>\n",
       "      <td>2024-02-02</td>\n",
       "      <td>Chardonnay da onipresente Concha y Toro. É agr...</td>\n",
       "      <td>vivino</td>\n",
       "    </tr>\n",
       "    <tr>\n",
       "      <th>2</th>\n",
       "      <td>6</td>\n",
       "      <td>Casillero del Diablo Chardonnay (Reserva)</td>\n",
       "      <td>2024-01-29</td>\n",
       "      <td>Aroma de pêssego bem presente!! Harmoniza bem ...</td>\n",
       "      <td>vivino</td>\n",
       "    </tr>\n",
       "    <tr>\n",
       "      <th>3</th>\n",
       "      <td>6</td>\n",
       "      <td>Casillero del Diablo Chardonnay (Reserva)</td>\n",
       "      <td>2024-01-26</td>\n",
       "      <td>It's a pretty rough Chardonnay, unbalanced and...</td>\n",
       "      <td>vivino</td>\n",
       "    </tr>\n",
       "    <tr>\n",
       "      <th>4</th>\n",
       "      <td>6</td>\n",
       "      <td>Casillero del Diablo Chardonnay (Reserva)</td>\n",
       "      <td>2024-01-01</td>\n",
       "      <td>Bom custo beneficio</td>\n",
       "      <td>vivino</td>\n",
       "    </tr>\n",
       "  </tbody>\n",
       "</table>\n",
       "</div>"
      ],
      "text/plain": [
       "   wid                                       wine       date  \\\n",
       "0    6  Casillero del Diablo Chardonnay (Reserva) 2024-02-03   \n",
       "1    6  Casillero del Diablo Chardonnay (Reserva) 2024-02-02   \n",
       "2    6  Casillero del Diablo Chardonnay (Reserva) 2024-01-29   \n",
       "3    6  Casillero del Diablo Chardonnay (Reserva) 2024-01-26   \n",
       "4    6  Casillero del Diablo Chardonnay (Reserva) 2024-01-01   \n",
       "\n",
       "                                              review  source  \n",
       "0                               cu 1.6 구매, 소비뇽블랑같은 맛  vivino  \n",
       "1  Chardonnay da onipresente Concha y Toro. É agr...  vivino  \n",
       "2  Aroma de pêssego bem presente!! Harmoniza bem ...  vivino  \n",
       "3  It's a pretty rough Chardonnay, unbalanced and...  vivino  \n",
       "4                                Bom custo beneficio  vivino  "
      ]
     },
     "execution_count": 24,
     "metadata": {},
     "output_type": "execute_result"
    }
   ],
   "source": [
    "df_reviews.head()"
   ]
  },
  {
   "cell_type": "markdown",
   "id": "eff4af90-e32e-48a3-937c-5f575f2b30b2",
   "metadata": {},
   "source": [
    "# Translate"
   ]
  },
  {
   "cell_type": "code",
   "execution_count": 25,
   "id": "ecb5329c-904f-4d51-bed5-61898c468786",
   "metadata": {},
   "outputs": [],
   "source": [
    "import langdetect\n",
    "import json\n",
    "from deep_translator import GoogleTranslator\n",
    "from tqdm import tqdm\n",
    "\n",
    "def detect_language(text):\n",
    "    try:\n",
    "        return langdetect.detect(text)\n",
    "    except KeyboardInterrupt as e:\n",
    "        raise(e)\n",
    "    except:\n",
    "        return '<-- ERROR -->'\n",
    "\n",
    "def get_translation(text):\n",
    "    try:\n",
    "        return GoogleTranslator(source='auto', target='en').translate(str(text))\n",
    "    except KeyboardInterrupt as e:\n",
    "        raise(e)\n",
    "    except:\n",
    "        return '<-- ERROR -->'"
   ]
  },
  {
   "cell_type": "code",
   "execution_count": 26,
   "id": "bdccba59-210d-4587-91bc-37ef80301dbe",
   "metadata": {},
   "outputs": [
    {
     "name": "stderr",
     "output_type": "stream",
     "text": [
      "100%|███████████████████████████████████████████████████████████| 1487/1487 [19:30<00:00,  1.27it/s]\n"
     ]
    }
   ],
   "source": [
    "tmp_data = []\n",
    "\n",
    "for rec in tqdm(df_reviews.to_dict('records')):\n",
    "    tmp_data.append({\n",
    "        #'wid': rec['wid'],\n",
    "        'lang': detect_language(rec['review']),\n",
    "        'review_transl': get_translation(rec['review'])\n",
    "    })"
   ]
  },
  {
   "cell_type": "code",
   "execution_count": 27,
   "id": "f3e3ecd4-49dc-4827-9a0a-efd0dd1a5978",
   "metadata": {},
   "outputs": [
    {
     "data": {
      "text/html": [
       "<div>\n",
       "<style scoped>\n",
       "    .dataframe tbody tr th:only-of-type {\n",
       "        vertical-align: middle;\n",
       "    }\n",
       "\n",
       "    .dataframe tbody tr th {\n",
       "        vertical-align: top;\n",
       "    }\n",
       "\n",
       "    .dataframe thead th {\n",
       "        text-align: right;\n",
       "    }\n",
       "</style>\n",
       "<table border=\"1\" class=\"dataframe\">\n",
       "  <thead>\n",
       "    <tr style=\"text-align: right;\">\n",
       "      <th></th>\n",
       "      <th>wid</th>\n",
       "      <th>wine</th>\n",
       "      <th>date</th>\n",
       "      <th>review</th>\n",
       "      <th>source</th>\n",
       "      <th>lang</th>\n",
       "      <th>review_transl</th>\n",
       "    </tr>\n",
       "  </thead>\n",
       "  <tbody>\n",
       "    <tr>\n",
       "      <th>0</th>\n",
       "      <td>6</td>\n",
       "      <td>Casillero del Diablo Chardonnay (Reserva)</td>\n",
       "      <td>2024-02-03</td>\n",
       "      <td>cu 1.6 구매, 소비뇽블랑같은 맛</td>\n",
       "      <td>vivino</td>\n",
       "      <td>ko</td>\n",
       "      <td>Purchased cu 1.6, tastes like sauvignon blanc</td>\n",
       "    </tr>\n",
       "    <tr>\n",
       "      <th>1</th>\n",
       "      <td>6</td>\n",
       "      <td>Casillero del Diablo Chardonnay (Reserva)</td>\n",
       "      <td>2024-02-02</td>\n",
       "      <td>Chardonnay da onipresente Concha y Toro. É agr...</td>\n",
       "      <td>vivino</td>\n",
       "      <td>pt</td>\n",
       "      <td>Chardonnay from the ubiquitous Concha y Toro. ...</td>\n",
       "    </tr>\n",
       "    <tr>\n",
       "      <th>2</th>\n",
       "      <td>6</td>\n",
       "      <td>Casillero del Diablo Chardonnay (Reserva)</td>\n",
       "      <td>2024-01-29</td>\n",
       "      <td>Aroma de pêssego bem presente!! Harmoniza bem ...</td>\n",
       "      <td>vivino</td>\n",
       "      <td>pt</td>\n",
       "      <td>Peach aroma very present!! Pairs well with sea...</td>\n",
       "    </tr>\n",
       "    <tr>\n",
       "      <th>3</th>\n",
       "      <td>6</td>\n",
       "      <td>Casillero del Diablo Chardonnay (Reserva)</td>\n",
       "      <td>2024-01-26</td>\n",
       "      <td>It's a pretty rough Chardonnay, unbalanced and...</td>\n",
       "      <td>vivino</td>\n",
       "      <td>en</td>\n",
       "      <td>It's a pretty rough Chardonnay, unbalanced and...</td>\n",
       "    </tr>\n",
       "    <tr>\n",
       "      <th>4</th>\n",
       "      <td>6</td>\n",
       "      <td>Casillero del Diablo Chardonnay (Reserva)</td>\n",
       "      <td>2024-01-01</td>\n",
       "      <td>Bom custo beneficio</td>\n",
       "      <td>vivino</td>\n",
       "      <td>en</td>\n",
       "      <td>Good cost-benefit</td>\n",
       "    </tr>\n",
       "  </tbody>\n",
       "</table>\n",
       "</div>"
      ],
      "text/plain": [
       "   wid                                       wine       date  \\\n",
       "0    6  Casillero del Diablo Chardonnay (Reserva) 2024-02-03   \n",
       "1    6  Casillero del Diablo Chardonnay (Reserva) 2024-02-02   \n",
       "2    6  Casillero del Diablo Chardonnay (Reserva) 2024-01-29   \n",
       "3    6  Casillero del Diablo Chardonnay (Reserva) 2024-01-26   \n",
       "4    6  Casillero del Diablo Chardonnay (Reserva) 2024-01-01   \n",
       "\n",
       "                                              review  source lang  \\\n",
       "0                               cu 1.6 구매, 소비뇽블랑같은 맛  vivino   ko   \n",
       "1  Chardonnay da onipresente Concha y Toro. É agr...  vivino   pt   \n",
       "2  Aroma de pêssego bem presente!! Harmoniza bem ...  vivino   pt   \n",
       "3  It's a pretty rough Chardonnay, unbalanced and...  vivino   en   \n",
       "4                                Bom custo beneficio  vivino   en   \n",
       "\n",
       "                                       review_transl  \n",
       "0      Purchased cu 1.6, tastes like sauvignon blanc  \n",
       "1  Chardonnay from the ubiquitous Concha y Toro. ...  \n",
       "2  Peach aroma very present!! Pairs well with sea...  \n",
       "3  It's a pretty rough Chardonnay, unbalanced and...  \n",
       "4                                  Good cost-benefit  "
      ]
     },
     "execution_count": 27,
     "metadata": {},
     "output_type": "execute_result"
    }
   ],
   "source": [
    "df_reviews = df_reviews.merge(pd.DataFrame(tmp_data), left_index=True, right_index=True)\n",
    "df_reviews.head()"
   ]
  },
  {
   "cell_type": "markdown",
   "id": "31667a4a-9d5b-4b1a-a829-9300280e83e4",
   "metadata": {},
   "source": [
    "**check translation error**"
   ]
  },
  {
   "cell_type": "code",
   "execution_count": null,
   "id": "4400c9e4-c634-4f1a-ab36-f4575d84d090",
   "metadata": {},
   "outputs": [],
   "source": [
    "df_reviews.loc[df_reviews.lang.str.contains('ERROR')]"
   ]
  },
  {
   "cell_type": "code",
   "execution_count": null,
   "id": "c61580ed-da11-4992-9fcf-47a5a88e5635",
   "metadata": {},
   "outputs": [],
   "source": [
    "cond = df_reviews.review_transl.isna()\n",
    "df_reviews.loc[cond]"
   ]
  },
  {
   "cell_type": "code",
   "execution_count": null,
   "id": "792cbd88-2ee8-408e-afd3-a60cfc85c277",
   "metadata": {},
   "outputs": [],
   "source": [
    "#df_reviews = df_reviews.loc[~cond]"
   ]
  },
  {
   "cell_type": "markdown",
   "id": "25f7621f-96fa-4ffb-85e3-88f1053a85b5",
   "metadata": {},
   "source": [
    "**save final data**"
   ]
  },
  {
   "cell_type": "code",
   "execution_count": 28,
   "id": "b1204894-12cc-4b17-aec3-14198af29d2b",
   "metadata": {},
   "outputs": [
    {
     "name": "stdout",
     "output_type": "stream",
     "text": [
      "data/wine_reviews_240207.csv saved.\n"
     ]
    }
   ],
   "source": [
    "from datetime import datetime\n",
    "d = datetime.today().strftime('%y%m%d')\n",
    "save_reviews(df_reviews, f'wine_reviews_{d}.csv')"
   ]
  },
  {
   "cell_type": "code",
   "execution_count": 31,
   "id": "530256d5-39f4-40f5-905a-b2e812e294cc",
   "metadata": {},
   "outputs": [
    {
     "name": "stdout",
     "output_type": "stream",
     "text": [
      "  adding: wine_reviews_240124.csv (deflated 70%)\n",
      "  adding: wine_reviews_240207.csv (deflated 69%)\n"
     ]
    }
   ],
   "source": [
    "!zip -j wine_reviews.zip data/wine_reviews_2*csv"
   ]
  },
  {
   "cell_type": "code",
   "execution_count": null,
   "id": "4c61b011-4b52-4c34-8aee-1cb7e1c1b766",
   "metadata": {},
   "outputs": [],
   "source": []
  }
 ],
 "metadata": {
  "kernelspec": {
   "display_name": "scrap2",
   "language": "python",
   "name": "scrap2"
  },
  "language_info": {
   "codemirror_mode": {
    "name": "ipython",
    "version": 3
   },
   "file_extension": ".py",
   "mimetype": "text/x-python",
   "name": "python",
   "nbconvert_exporter": "python",
   "pygments_lexer": "ipython3",
   "version": "3.9.18"
  }
 },
 "nbformat": 4,
 "nbformat_minor": 5
}
