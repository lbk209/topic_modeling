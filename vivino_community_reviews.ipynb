{
 "cells": [
  {
   "cell_type": "code",
   "execution_count": 1,
   "id": "48b78785-892f-420c-b7d3-4db00fd3c5ce",
   "metadata": {},
   "outputs": [
    {
     "name": "stderr",
     "output_type": "stream",
     "text": [
      "/home/lbk/.cache/pypoetry/virtualenvs/scrap2-pSsZr_wz-py3.9/lib/python3.9/site-packages/tqdm/auto.py:21: TqdmWarning: IProgress not found. Please update jupyter and ipywidgets. See https://ipywidgets.readthedocs.io/en/stable/user_install.html\n",
      "  from .autonotebook import tqdm as notebook_tqdm\n"
     ]
    }
   ],
   "source": [
    "from vivino_community_reviews import save_reviews, load_reviews\n",
    "from vivino_community_reviews import vivino_reviews, concat_reviews, check_url"
   ]
  },
  {
   "cell_type": "code",
   "execution_count": 2,
   "id": "daebf455-6907-4c2b-8a65-d465954350bb",
   "metadata": {},
   "outputs": [],
   "source": [
    "import os\n",
    "import pandas as pd\n",
    "import time\n",
    "\n",
    "def read_csv(file, path_data, **kwargs):\n",
    "    \"\"\"\n",
    "    kwargs: keyword args for pd.read_csv\n",
    "    \"\"\"\n",
    "    files = [x for x in os.listdir(path_data) if x.startswith(file)]\n",
    "\n",
    "    df_reviews = pd.DataFrame()\n",
    "    for f in files:\n",
    "        df = pd.read_csv(f'{path_data}/{f}', **kwargs)\n",
    "        df_reviews = pd.concat([df_reviews, df])\n",
    "\n",
    "    return df_reviews.reset_index(drop=True)"
   ]
  },
  {
   "cell_type": "markdown",
   "id": "3453086d-7ea2-4ce6-939d-c5e07cd25e2a",
   "metadata": {},
   "source": [
    "# Existing"
   ]
  },
  {
   "cell_type": "code",
   "execution_count": 3,
   "id": "084738b8-29ec-4bcb-a762-820de3bb7ac6",
   "metadata": {},
   "outputs": [
    {
     "data": {
      "text/plain": [
       "wid  wine                                                \n",
       "4    Aguirre Dos Copas Cabernet Sauvignon                       7\n",
       "35   Balbi Soprani Moscato d'Asti                              31\n",
       "29   Bread & Butter Cabernet Sauvignon                         32\n",
       "28   Bread & Butter Pinot Noir                               1236\n",
       "33   Canti Moscato d'Asti                                      71\n",
       "0    Casillero del Diablo Cabernet Sauvignon (Reserva)        472\n",
       "6    Casillero del Diablo Chardonnay (Reserva)                122\n",
       "39   Castello del Poggio Moscato d'Asti                        80\n",
       "11   Cono Sur Bicicleta Reserva Unoaked Chardonnay            109\n",
       "9    Frontera Cabernet Sauvignon                              207\n",
       "38   G.D. Vajra Moscato d'Asti                                 52\n",
       "36   Gancia Moscato d'Asti N.V.                               160\n",
       "7    Kendall-Jackson Vintner's Reserve Cabernet Sauvignon     121\n",
       "27   Kendall-Jackson Vintner's Reserve Chardonnay             553\n",
       "10   Long Barn Chardonnay                                     142\n",
       "32   Michele Chiarlo Moscato d'Asti Nivole                    482\n",
       "24   Mollydooker The Boxer Shiraz                             276\n",
       "18   Montes Montes Alpha Cabernet Sauvignon                   220\n",
       "19   Montes Montes Alpha Merlot                                60\n",
       "20   Montes Montes Alpha Syrah                                 81\n",
       "2    Roche Mazet Cuvée Spéciale Cabernet Sauvignon             61\n",
       "14   Roche Mazet Cuvée Spéciale Chardonnay                     31\n",
       "16   San Pedro 1865 Selected Vineyards Cabernet Sauvignon      41\n",
       "21   San Pedro 1865 Selected Vineyards Syrah                   13\n",
       "17   San Pedro 1865 Single Vineyard Cabernet Sauvignon         42\n",
       "22   San Pedro 1865 Single Vineyard Malbec                     13\n",
       "23   San Pedro 1865 Single Vineyard Syrah                      12\n",
       "3    San Pedro Gato Negro Cabernet Sauvignon                  879\n",
       "13   San Pedro Gato Negro Chardonnay                          230\n",
       "5    The 7th Generation - G7 Cabernet Sauvignon                26\n",
       "12   The 7th Generation - G7 Chardonnay                        42\n",
       "37   Tosti Moscato d'Asti                                      31\n",
       "34   Vallebelbo Moscato d'Asti                                 32\n",
       "30   Vietti Moscato d'Asti                                     41\n",
       "31   Villa M Bianco                                            42\n",
       "8    Viña Santa Helena Reservado Cabernet Sauvignon'           51\n",
       "25   William Hill North Coast Cabernet Sauvignon               51\n",
       "26   William Hill North Coast Chardonnay                       51\n",
       "1    Yellow Tail Cabernet Sauvignon                           136\n",
       "15   Yellow Tail Chardonnay                                   122\n",
       "Name: review_transl, dtype: int64"
      ]
     },
     "execution_count": 3,
     "metadata": {},
     "output_type": "execute_result"
    }
   ],
   "source": [
    "file = 'wine_reviews_'\n",
    "df_reviews = read_csv(file, 'data')\n",
    "df_reviews.groupby(['wid', 'wine']).review_transl.count().sort_index(level=1)"
   ]
  },
  {
   "cell_type": "markdown",
   "id": "75b09696-2a65-463b-a4c4-76f1a194afd4",
   "metadata": {},
   "source": [
    "# Scraping"
   ]
  },
  {
   "cell_type": "markdown",
   "id": "95df6be2-cc93-43f7-a840-56c221d5c0d8",
   "metadata": {},
   "source": [
    "## Setting"
   ]
  },
  {
   "cell_type": "code",
   "execution_count": 4,
   "id": "51bfb2ea-38ff-4fc2-88af-7ea8171993dd",
   "metadata": {},
   "outputs": [],
   "source": [
    "locator_ratings = \"//a[@href='#all_reviews']\"\n",
    "locator_more = \"//button[@tabindex='0']\"\n",
    "locator_recent = '//*[@data-testid=\"baseModalBackdrop\"]/div[2]/div[2]/div[2]/div/a[1]'\n",
    "\n",
    "locator_review = \"communityReview__reviewText--2bfLj\"\n",
    "locator_date = \"anchor_anchor__m8Qi- reviewAnchor__anchor--2NKFw reviewDate__reviewDate--49vpM undefined\"\n",
    "\n",
    "kwargs = {\n",
    "    'loc1': locator_ratings,\n",
    "    'loc2': locator_more,\n",
    "    'loc3': locator_recent, \n",
    "    'loc4': locator_review,\n",
    "    'loc5': locator_date\n",
    "}"
   ]
  },
  {
   "cell_type": "code",
   "execution_count": 5,
   "id": "39f95682-cc61-428a-8e82-e8f1a16f68d9",
   "metadata": {},
   "outputs": [],
   "source": [
    "kwargs.update({\n",
    "    'end_date': '20220101',\n",
    "    'source': 'vivino',\n",
    "    #'headless': True, # failed for background running \n",
    "    #'max_scr': 10, 'time_scr': 2, 'check_idx': 4\n",
    "})"
   ]
  },
  {
   "cell_type": "markdown",
   "id": "95f96412-7b0e-4342-a41f-f0644a23988b",
   "metadata": {},
   "source": [
    "## wine list"
   ]
  },
  {
   "cell_type": "code",
   "execution_count": 6,
   "id": "442cce28-1e22-45e0-853c-1800094f11c6",
   "metadata": {},
   "outputs": [
    {
     "data": {
      "text/plain": [
       "10"
      ]
     },
     "execution_count": 6,
     "metadata": {},
     "output_type": "execute_result"
    }
   ],
   "source": [
    "file = 'data/wines_to_collect.txt'\n",
    "\n",
    "with open(file, 'r') as f:\n",
    "    w = f.read()\n",
    "\n",
    "w = w.strip('\\n').split('\\n')\n",
    "wines = {w[i]:w[i+1] for i in range(0, len(w), 2)}\n",
    "len(wines)"
   ]
  },
  {
   "cell_type": "code",
   "execution_count": 7,
   "id": "c78e6939-25d8-4a16-90d2-6037b0d91b8c",
   "metadata": {},
   "outputs": [
    {
     "name": "stdout",
     "output_type": "stream",
     "text": [
      "The top 5 pairs of least similarity:\n",
      "0.69) Cono Sur Single Vineyard Syrah: cono-sur-santiago-single-vineyard-syrah-valle-de-san-antonio\n",
      "0.83) Cono Sur Single Vineyard Cabernet Sauvignon: cono-sur-santiago-single-vineyard-cabernet-sauvignon\n",
      "0.84) Cono Sur Single Vineyard Carmenere: cono-sur-santiago-single-vineyard-carmenere\n",
      "0.85) Arione Moscato d'Asti: arione-moscato-d-asti\n",
      "0.86) Cono Sur Single Vineyard Pinot Noir: cono-sur-santiago-single-vineyard-pinot-noir\n"
     ]
    }
   ],
   "source": [
    "# check if wine name and its url match or not\n",
    "df = check_url(wines)"
   ]
  },
  {
   "cell_type": "code",
   "execution_count": 8,
   "id": "1c735f02-a23a-4908-9b3f-87b3486266bf",
   "metadata": {},
   "outputs": [
    {
     "data": {
      "text/plain": [
       "40"
      ]
     },
     "execution_count": 8,
     "metadata": {},
     "output_type": "execute_result"
    }
   ],
   "source": [
    "id_start = df_reviews.wid.max() + 1\n",
    "id_start"
   ]
  },
  {
   "cell_type": "markdown",
   "id": "560396fb-1da8-49e6-8b5c-c8a9c79210db",
   "metadata": {},
   "source": [
    "**load if the reviews of the wines not translated yet**"
   ]
  },
  {
   "cell_type": "code",
   "execution_count": 7,
   "id": "f89a4ef6-5943-4090-a191-1e8c2ea0d546",
   "metadata": {},
   "outputs": [
    {
     "name": "stdout",
     "output_type": "stream",
     "text": [
      "data/wine_6.csv loaded.\n"
     ]
    },
    {
     "data": {
      "text/plain": [
       "wid\n",
       "6    [Casillero del Diablo Chardonnay (Reserva)]\n",
       "Name: wine, dtype: object"
      ]
     },
     "execution_count": 7,
     "metadata": {},
     "output_type": "execute_result"
    }
   ],
   "source": [
    "#files = []\n",
    "files = ['wine_6']\n",
    "path = 'data'\n",
    "\n",
    "df_reviews = pd.DataFrame()\n",
    "for f in files:\n",
    "    df = load_reviews(f'{f}.csv', path=path)\n",
    "    df_reviews = pd.concat([df_reviews, df])\n",
    "\n",
    "# check duplicate wid\n",
    "df_reviews.groupby('wid').wine.unique()"
   ]
  },
  {
   "cell_type": "markdown",
   "id": "88813fbe-b0b8-450b-9aa2-8177add91a71",
   "metadata": {},
   "source": [
    "## Collect"
   ]
  },
  {
   "cell_type": "markdown",
   "id": "ae345a76-ebc9-4f1f-b784-4efeb8ffc82d",
   "metadata": {},
   "source": [
    "**reset dataframe if no reviews unfinished**"
   ]
  },
  {
   "cell_type": "code",
   "execution_count": 9,
   "id": "a7cdf2d7-2c0d-44cc-8a2f-ff889bacb3ba",
   "metadata": {},
   "outputs": [],
   "source": [
    "df_reviews = pd.DataFrame()"
   ]
  },
  {
   "cell_type": "code",
   "execution_count": 10,
   "id": "4c34e46f-b8c6-490a-95ca-f00703bbbaf3",
   "metadata": {},
   "outputs": [
    {
     "name": "stdout",
     "output_type": "stream",
     "text": [
      "scraping 1 ********************\n"
     ]
    },
    {
     "name": "stderr",
     "output_type": "stream",
     "text": [
      "33it [00:04,  7.13it/s]\n"
     ]
    },
    {
     "name": "stdout",
     "output_type": "stream",
     "text": [
      "Arione Moscato d'Asti: 33 reviews collected.\n",
      "data/wine_40.csv saved.\n"
     ]
    },
    {
     "name": "stderr",
     "output_type": "stream",
     "text": [
      "23it [00:25,  1.10s/it]"
     ]
    },
    {
     "name": "stdout",
     "output_type": "stream",
     "text": [
      "WARNING: No additional reviews after 10 reloading.\n",
      "Catena Cabernet Sauvignon: 23 reviews collected.\n",
      "data/wine_41.csv saved.\n"
     ]
    },
    {
     "name": "stderr",
     "output_type": "stream",
     "text": [
      "\n",
      "0it [00:00, ?it/s]\n"
     ]
    },
    {
     "name": "stdout",
     "output_type": "stream",
     "text": [
      "ERROR: check Cono Sur Single Vineyard Syrah\n"
     ]
    },
    {
     "name": "stderr",
     "output_type": "stream",
     "text": [
      "0it [00:00, ?it/s]\n"
     ]
    },
    {
     "name": "stdout",
     "output_type": "stream",
     "text": [
      "ERROR: check Cono Sur Single Vineyard Cabernet Sauvignon\n"
     ]
    },
    {
     "name": "stderr",
     "output_type": "stream",
     "text": [
      "0it [00:00, ?it/s]\n"
     ]
    },
    {
     "name": "stdout",
     "output_type": "stream",
     "text": [
      "ERROR: check Cono Sur Single Vineyard Pinot Noir\n"
     ]
    },
    {
     "name": "stderr",
     "output_type": "stream",
     "text": [
      "0it [00:00, ?it/s]\n"
     ]
    },
    {
     "name": "stdout",
     "output_type": "stream",
     "text": [
      "ERROR: check Cono Sur Single Vineyard Carmenere\n"
     ]
    },
    {
     "name": "stderr",
     "output_type": "stream",
     "text": [
      "0it [00:00, ?it/s]\n"
     ]
    },
    {
     "name": "stdout",
     "output_type": "stream",
     "text": [
      "ERROR: check Cono Sur Single Vineyard Chardonnay\n"
     ]
    },
    {
     "name": "stderr",
     "output_type": "stream",
     "text": [
      "83it [01:23,  1.01s/it]"
     ]
    },
    {
     "name": "stdout",
     "output_type": "stream",
     "text": [
      "WARNING: No additional reviews after 10 reloading.\n",
      "Two Hands Angels' Share Shiraz: 83 reviews collected.\n",
      "data/wine_42.csv saved.\n"
     ]
    },
    {
     "name": "stderr",
     "output_type": "stream",
     "text": [
      "\n",
      "103it [01:14,  1.38it/s]\n"
     ]
    },
    {
     "name": "stdout",
     "output_type": "stream",
     "text": [
      "Two Hands Gnarly Dudes Shiraz: 103 reviews collected.\n",
      "data/wine_43.csv saved.\n"
     ]
    },
    {
     "name": "stderr",
     "output_type": "stream",
     "text": [
      "83it [00:57,  1.44it/s]\n"
     ]
    },
    {
     "name": "stdout",
     "output_type": "stream",
     "text": [
      "Two Hands Sexy Beast Cabernet Sauvignon: 83 reviews collected.\n",
      "data/wine_44.csv saved.\n",
      "num of failed: 5\n",
      "\n",
      "scraping 2 ********************\n"
     ]
    },
    {
     "name": "stderr",
     "output_type": "stream",
     "text": [
      "33it [00:04,  6.90it/s]\n"
     ]
    },
    {
     "name": "stdout",
     "output_type": "stream",
     "text": [
      "Cono Sur Single Vineyard Syrah: 33 reviews collected.\n",
      "data/wine_45.csv saved.\n"
     ]
    },
    {
     "name": "stderr",
     "output_type": "stream",
     "text": [
      "33it [00:04,  6.90it/s]\n"
     ]
    },
    {
     "name": "stdout",
     "output_type": "stream",
     "text": [
      "Cono Sur Single Vineyard Cabernet Sauvignon: 33 reviews collected.\n",
      "data/wine_46.csv saved.\n"
     ]
    },
    {
     "name": "stderr",
     "output_type": "stream",
     "text": [
      "43it [00:07,  6.09it/s]\n"
     ]
    },
    {
     "name": "stdout",
     "output_type": "stream",
     "text": [
      "Cono Sur Single Vineyard Pinot Noir: 43 reviews collected.\n",
      "data/wine_47.csv saved.\n"
     ]
    },
    {
     "name": "stderr",
     "output_type": "stream",
     "text": [
      "13it [00:00, 38452.72it/s]\n"
     ]
    },
    {
     "name": "stdout",
     "output_type": "stream",
     "text": [
      "Cono Sur Single Vineyard Carmenere: 13 reviews collected.\n",
      "data/wine_48.csv saved.\n"
     ]
    },
    {
     "name": "stderr",
     "output_type": "stream",
     "text": [
      "243it [05:06,  1.26s/it]"
     ]
    },
    {
     "name": "stdout",
     "output_type": "stream",
     "text": [
      "Cono Sur Single Vineyard Chardonnay: 243 reviews collected.\n",
      "data/wine_49.csv saved.\n"
     ]
    },
    {
     "name": "stderr",
     "output_type": "stream",
     "text": [
      "\n"
     ]
    }
   ],
   "source": [
    "num_try = 3 # num of try to scrape for failed wines\n",
    "\n",
    "col_rev = ['wid', 'wine', 'date', 'review', 'source']\n",
    "path = 'data'\n",
    "wines_failed = dict()\n",
    "\n",
    "for i in range(num_try):\n",
    "    print(f'scraping {i+1}', '*'*20)\n",
    "    #for wine_name, wine_url in wines:\n",
    "    for wine_name, wine_url in wines.items():\n",
    "        try:\n",
    "            df = vivino_reviews(wine_url, wine_name, **kwargs)\n",
    "            df_reviews = concat_reviews(df_reviews, df, wine_name, col_rev, path=path, id_start=id_start)\n",
    "        except:\n",
    "            print(f'ERROR: check {wine_name}')\n",
    "            wines_failed.update({wine_name: wine_url})\n",
    "\n",
    "    if len(wines_failed) > 0:\n",
    "        print(f'num of failed: {len(wines_failed)}\\n')\n",
    "        wines = wines_failed\n",
    "        wines_failed = dict()\n",
    "        time.sleep(3)\n",
    "    else:\n",
    "        break"
   ]
  },
  {
   "cell_type": "code",
   "execution_count": 11,
   "id": "46b107de-ba0e-4fdb-a7d4-19757dfc00dd",
   "metadata": {},
   "outputs": [
    {
     "data": {
      "text/html": [
       "<div>\n",
       "<style scoped>\n",
       "    .dataframe tbody tr th:only-of-type {\n",
       "        vertical-align: middle;\n",
       "    }\n",
       "\n",
       "    .dataframe tbody tr th {\n",
       "        vertical-align: top;\n",
       "    }\n",
       "\n",
       "    .dataframe thead th {\n",
       "        text-align: right;\n",
       "    }\n",
       "</style>\n",
       "<table border=\"1\" class=\"dataframe\">\n",
       "  <thead>\n",
       "    <tr style=\"text-align: right;\">\n",
       "      <th></th>\n",
       "      <th>wid</th>\n",
       "      <th>wine</th>\n",
       "      <th>date</th>\n",
       "      <th>review</th>\n",
       "      <th>source</th>\n",
       "    </tr>\n",
       "  </thead>\n",
       "  <tbody>\n",
       "    <tr>\n",
       "      <th>0</th>\n",
       "      <td>40</td>\n",
       "      <td>Arione Moscato d'Asti</td>\n",
       "      <td>2023-11-06</td>\n",
       "      <td>pera pesca nota tropicale minerali</td>\n",
       "      <td>vivino</td>\n",
       "    </tr>\n",
       "    <tr>\n",
       "      <th>1</th>\n",
       "      <td>40</td>\n",
       "      <td>Arione Moscato d'Asti</td>\n",
       "      <td>2023-10-17</td>\n",
       "      <td>Ottimo</td>\n",
       "      <td>vivino</td>\n",
       "    </tr>\n",
       "    <tr>\n",
       "      <th>2</th>\n",
       "      <td>40</td>\n",
       "      <td>Arione Moscato d'Asti</td>\n",
       "      <td>2023-10-09</td>\n",
       "      <td>조금 산뜻한 향, 처음 마시고 조금 있는 바디감, Saracco보다 조금 덜 달게 ...</td>\n",
       "      <td>vivino</td>\n",
       "    </tr>\n",
       "    <tr>\n",
       "      <th>3</th>\n",
       "      <td>40</td>\n",
       "      <td>Arione Moscato d'Asti</td>\n",
       "      <td>2023-10-08</td>\n",
       "      <td>Afrutado, delicioso.</td>\n",
       "      <td>vivino</td>\n",
       "    </tr>\n",
       "    <tr>\n",
       "      <th>4</th>\n",
       "      <td>40</td>\n",
       "      <td>Arione Moscato d'Asti</td>\n",
       "      <td>2023-07-21</td>\n",
       "      <td>honey apple peach citrus Slight fizziness ligh...</td>\n",
       "      <td>vivino</td>\n",
       "    </tr>\n",
       "    <tr>\n",
       "      <th>...</th>\n",
       "      <td>...</td>\n",
       "      <td>...</td>\n",
       "      <td>...</td>\n",
       "      <td>...</td>\n",
       "      <td>...</td>\n",
       "    </tr>\n",
       "    <tr>\n",
       "      <th>238</th>\n",
       "      <td>49</td>\n",
       "      <td>Cono Sur Single Vineyard Chardonnay</td>\n",
       "      <td>2021-11-05</td>\n",
       "      <td>Citrus top note Decent Chardonnay</td>\n",
       "      <td>vivino</td>\n",
       "    </tr>\n",
       "    <tr>\n",
       "      <th>239</th>\n",
       "      <td>49</td>\n",
       "      <td>Cono Sur Single Vineyard Chardonnay</td>\n",
       "      <td>2021-10-31</td>\n",
       "      <td>Good. Balanced.</td>\n",
       "      <td>vivino</td>\n",
       "    </tr>\n",
       "    <tr>\n",
       "      <th>240</th>\n",
       "      <td>49</td>\n",
       "      <td>Cono Sur Single Vineyard Chardonnay</td>\n",
       "      <td>2017-09-13</td>\n",
       "      <td>Bright straw colour. Pure nose unoaked style w...</td>\n",
       "      <td>vivino</td>\n",
       "    </tr>\n",
       "    <tr>\n",
       "      <th>241</th>\n",
       "      <td>49</td>\n",
       "      <td>Cono Sur Single Vineyard Chardonnay</td>\n",
       "      <td>2022-08-20</td>\n",
       "      <td>butter citrus nice chardonnay under 20$</td>\n",
       "      <td>vivino</td>\n",
       "    </tr>\n",
       "    <tr>\n",
       "      <th>242</th>\n",
       "      <td>49</td>\n",
       "      <td>Cono Sur Single Vineyard Chardonnay</td>\n",
       "      <td>2021-08-22</td>\n",
       "      <td>Citrus and green apples, minerals. Good match ...</td>\n",
       "      <td>vivino</td>\n",
       "    </tr>\n",
       "  </tbody>\n",
       "</table>\n",
       "<p>690 rows × 5 columns</p>\n",
       "</div>"
      ],
      "text/plain": [
       "     wid                                 wine       date  \\\n",
       "0     40                Arione Moscato d'Asti 2023-11-06   \n",
       "1     40                Arione Moscato d'Asti 2023-10-17   \n",
       "2     40                Arione Moscato d'Asti 2023-10-09   \n",
       "3     40                Arione Moscato d'Asti 2023-10-08   \n",
       "4     40                Arione Moscato d'Asti 2023-07-21   \n",
       "..   ...                                  ...        ...   \n",
       "238   49  Cono Sur Single Vineyard Chardonnay 2021-11-05   \n",
       "239   49  Cono Sur Single Vineyard Chardonnay 2021-10-31   \n",
       "240   49  Cono Sur Single Vineyard Chardonnay 2017-09-13   \n",
       "241   49  Cono Sur Single Vineyard Chardonnay 2022-08-20   \n",
       "242   49  Cono Sur Single Vineyard Chardonnay 2021-08-22   \n",
       "\n",
       "                                                review  source  \n",
       "0                   pera pesca nota tropicale minerali  vivino  \n",
       "1                                               Ottimo  vivino  \n",
       "2    조금 산뜻한 향, 처음 마시고 조금 있는 바디감, Saracco보다 조금 덜 달게 ...  vivino  \n",
       "3                                 Afrutado, delicioso.  vivino  \n",
       "4    honey apple peach citrus Slight fizziness ligh...  vivino  \n",
       "..                                                 ...     ...  \n",
       "238                  Citrus top note Decent Chardonnay  vivino  \n",
       "239                                    Good. Balanced.  vivino  \n",
       "240  Bright straw colour. Pure nose unoaked style w...  vivino  \n",
       "241            butter citrus nice chardonnay under 20$  vivino  \n",
       "242  Citrus and green apples, minerals. Good match ...  vivino  \n",
       "\n",
       "[690 rows x 5 columns]"
      ]
     },
     "execution_count": 11,
     "metadata": {},
     "output_type": "execute_result"
    }
   ],
   "source": [
    "df_reviews"
   ]
  },
  {
   "cell_type": "markdown",
   "id": "fd1521a7-3988-4098-b430-c5e09fc6a4a2",
   "metadata": {},
   "source": [
    "**temp saving before translation**"
   ]
  },
  {
   "cell_type": "code",
   "execution_count": 12,
   "id": "aa6aef77-4bf1-4b9d-8400-f17f380f9d88",
   "metadata": {},
   "outputs": [
    {
     "data": {
      "text/plain": [
       "wid  wine                                       \n",
       "40   Arione Moscato d'Asti                           33\n",
       "41   Catena Cabernet Sauvignon                       23\n",
       "46   Cono Sur Single Vineyard Cabernet Sauvignon     33\n",
       "48   Cono Sur Single Vineyard Carmenere              13\n",
       "49   Cono Sur Single Vineyard Chardonnay            243\n",
       "47   Cono Sur Single Vineyard Pinot Noir             43\n",
       "45   Cono Sur Single Vineyard Syrah                  33\n",
       "42   Two Hands Angels' Share Shiraz                  83\n",
       "43   Two Hands Gnarly Dudes Shiraz                  103\n",
       "44   Two Hands Sexy Beast Cabernet Sauvignon         83\n",
       "Name: review, dtype: int64"
      ]
     },
     "execution_count": 12,
     "metadata": {},
     "output_type": "execute_result"
    }
   ],
   "source": [
    "df_reviews.groupby(['wid', 'wine']).review.count().sort_index(level=1)"
   ]
  },
  {
   "cell_type": "code",
   "execution_count": 13,
   "id": "1a4a8af7-781f-4f93-a279-db041f14f0d5",
   "metadata": {},
   "outputs": [
    {
     "name": "stdout",
     "output_type": "stream",
     "text": [
      "data/wine_reviews_tmp.csv saved.\n"
     ]
    }
   ],
   "source": [
    "save_reviews(df_reviews, 'wine_reviews_tmp.csv', 'data', overwrite=True)"
   ]
  },
  {
   "cell_type": "markdown",
   "id": "d9f7f247-0751-46e4-bf66-48409773bb97",
   "metadata": {},
   "source": [
    "# Review data"
   ]
  },
  {
   "cell_type": "code",
   "execution_count": 14,
   "id": "af270968-963a-4a1a-a577-fb8187eb85d9",
   "metadata": {},
   "outputs": [
    {
     "name": "stdout",
     "output_type": "stream",
     "text": [
      "data/wine_reviews_tmp.csv loaded.\n"
     ]
    }
   ],
   "source": [
    "df_reviews = load_reviews('wine_reviews_tmp.csv', 'data')"
   ]
  },
  {
   "cell_type": "code",
   "execution_count": 15,
   "id": "36e8b2b4-f05e-4640-82e3-94f74672b445",
   "metadata": {},
   "outputs": [
    {
     "data": {
      "text/html": [
       "<div>\n",
       "<style scoped>\n",
       "    .dataframe tbody tr th:only-of-type {\n",
       "        vertical-align: middle;\n",
       "    }\n",
       "\n",
       "    .dataframe tbody tr th {\n",
       "        vertical-align: top;\n",
       "    }\n",
       "\n",
       "    .dataframe thead th {\n",
       "        text-align: right;\n",
       "    }\n",
       "</style>\n",
       "<table border=\"1\" class=\"dataframe\">\n",
       "  <thead>\n",
       "    <tr style=\"text-align: right;\">\n",
       "      <th></th>\n",
       "      <th>wid</th>\n",
       "      <th>wine</th>\n",
       "      <th>date</th>\n",
       "      <th>review</th>\n",
       "      <th>source</th>\n",
       "    </tr>\n",
       "  </thead>\n",
       "  <tbody>\n",
       "    <tr>\n",
       "      <th>18</th>\n",
       "      <td>40</td>\n",
       "      <td>Arione Moscato d'Asti</td>\n",
       "      <td>2021-10-30</td>\n",
       "      <td>NaN</td>\n",
       "      <td>vivino</td>\n",
       "    </tr>\n",
       "    <tr>\n",
       "      <th>33</th>\n",
       "      <td>41</td>\n",
       "      <td>Catena Cabernet Sauvignon</td>\n",
       "      <td>2024-02-05</td>\n",
       "      <td>NaN</td>\n",
       "      <td>vivino</td>\n",
       "    </tr>\n",
       "    <tr>\n",
       "      <th>34</th>\n",
       "      <td>41</td>\n",
       "      <td>Catena Cabernet Sauvignon</td>\n",
       "      <td>2024-02-04</td>\n",
       "      <td>NaN</td>\n",
       "      <td>vivino</td>\n",
       "    </tr>\n",
       "    <tr>\n",
       "      <th>35</th>\n",
       "      <td>41</td>\n",
       "      <td>Catena Cabernet Sauvignon</td>\n",
       "      <td>2024-01-27</td>\n",
       "      <td>NaN</td>\n",
       "      <td>vivino</td>\n",
       "    </tr>\n",
       "    <tr>\n",
       "      <th>53</th>\n",
       "      <td>41</td>\n",
       "      <td>Catena Cabernet Sauvignon</td>\n",
       "      <td>2016-06-10</td>\n",
       "      <td>NaN</td>\n",
       "      <td>vivino</td>\n",
       "    </tr>\n",
       "    <tr>\n",
       "      <th>136</th>\n",
       "      <td>42</td>\n",
       "      <td>Two Hands Angels' Share Shiraz</td>\n",
       "      <td>2020-03-01</td>\n",
       "      <td>NaN</td>\n",
       "      <td>vivino</td>\n",
       "    </tr>\n",
       "    <tr>\n",
       "      <th>239</th>\n",
       "      <td>43</td>\n",
       "      <td>Two Hands Gnarly Dudes Shiraz</td>\n",
       "      <td>2023-08-22</td>\n",
       "      <td>NaN</td>\n",
       "      <td>vivino</td>\n",
       "    </tr>\n",
       "    <tr>\n",
       "      <th>322</th>\n",
       "      <td>44</td>\n",
       "      <td>Two Hands Sexy Beast Cabernet Sauvignon</td>\n",
       "      <td>NaT</td>\n",
       "      <td>NaN</td>\n",
       "      <td>vivino</td>\n",
       "    </tr>\n",
       "    <tr>\n",
       "      <th>355</th>\n",
       "      <td>45</td>\n",
       "      <td>Cono Sur Single Vineyard Syrah</td>\n",
       "      <td>2018-11-16</td>\n",
       "      <td>NaN</td>\n",
       "      <td>vivino</td>\n",
       "    </tr>\n",
       "    <tr>\n",
       "      <th>380</th>\n",
       "      <td>46</td>\n",
       "      <td>Cono Sur Single Vineyard Cabernet Sauvignon</td>\n",
       "      <td>2021-01-24</td>\n",
       "      <td>NaN</td>\n",
       "      <td>vivino</td>\n",
       "    </tr>\n",
       "    <tr>\n",
       "      <th>420</th>\n",
       "      <td>47</td>\n",
       "      <td>Cono Sur Single Vineyard Pinot Noir</td>\n",
       "      <td>2020-10-10</td>\n",
       "      <td>NaN</td>\n",
       "      <td>vivino</td>\n",
       "    </tr>\n",
       "    <tr>\n",
       "      <th>431</th>\n",
       "      <td>47</td>\n",
       "      <td>Cono Sur Single Vineyard Pinot Noir</td>\n",
       "      <td>2021-05-23</td>\n",
       "      <td>NaN</td>\n",
       "      <td>vivino</td>\n",
       "    </tr>\n",
       "    <tr>\n",
       "      <th>635</th>\n",
       "      <td>49</td>\n",
       "      <td>Cono Sur Single Vineyard Chardonnay</td>\n",
       "      <td>2022-02-27</td>\n",
       "      <td>NaN</td>\n",
       "      <td>vivino</td>\n",
       "    </tr>\n",
       "  </tbody>\n",
       "</table>\n",
       "</div>"
      ],
      "text/plain": [
       "     wid                                         wine       date review  \\\n",
       "18    40                        Arione Moscato d'Asti 2021-10-30    NaN   \n",
       "33    41                    Catena Cabernet Sauvignon 2024-02-05    NaN   \n",
       "34    41                    Catena Cabernet Sauvignon 2024-02-04    NaN   \n",
       "35    41                    Catena Cabernet Sauvignon 2024-01-27    NaN   \n",
       "53    41                    Catena Cabernet Sauvignon 2016-06-10    NaN   \n",
       "136   42               Two Hands Angels' Share Shiraz 2020-03-01    NaN   \n",
       "239   43                Two Hands Gnarly Dudes Shiraz 2023-08-22    NaN   \n",
       "322   44      Two Hands Sexy Beast Cabernet Sauvignon        NaT    NaN   \n",
       "355   45               Cono Sur Single Vineyard Syrah 2018-11-16    NaN   \n",
       "380   46  Cono Sur Single Vineyard Cabernet Sauvignon 2021-01-24    NaN   \n",
       "420   47          Cono Sur Single Vineyard Pinot Noir 2020-10-10    NaN   \n",
       "431   47          Cono Sur Single Vineyard Pinot Noir 2021-05-23    NaN   \n",
       "635   49          Cono Sur Single Vineyard Chardonnay 2022-02-27    NaN   \n",
       "\n",
       "     source  \n",
       "18   vivino  \n",
       "33   vivino  \n",
       "34   vivino  \n",
       "35   vivino  \n",
       "53   vivino  \n",
       "136  vivino  \n",
       "239  vivino  \n",
       "322  vivino  \n",
       "355  vivino  \n",
       "380  vivino  \n",
       "420  vivino  \n",
       "431  vivino  \n",
       "635  vivino  "
      ]
     },
     "execution_count": 15,
     "metadata": {},
     "output_type": "execute_result"
    }
   ],
   "source": [
    "cond = (df_reviews.date.isna()) | (df_reviews.review.isna())\n",
    "df_reviews.loc[cond]"
   ]
  },
  {
   "cell_type": "code",
   "execution_count": 16,
   "id": "1a192d4b-ef01-4279-9004-1abfb08ca53e",
   "metadata": {},
   "outputs": [],
   "source": [
    "df_reviews = df_reviews.loc[~cond].reset_index(drop=True)"
   ]
  },
  {
   "cell_type": "code",
   "execution_count": 17,
   "id": "8d9a594c-ae1f-44ba-ab72-997caa5d4094",
   "metadata": {},
   "outputs": [
    {
     "data": {
      "text/plain": [
       "date\n",
       "2024     24\n",
       "2023    259\n",
       "2022    248\n",
       "2021     96\n",
       "2020     35\n",
       "2019      6\n",
       "2018      2\n",
       "2017      4\n",
       "2016      3\n",
       "Name: count, dtype: int64"
      ]
     },
     "execution_count": 17,
     "metadata": {},
     "output_type": "execute_result"
    }
   ],
   "source": [
    "df_reviews.date.dt.year.value_counts().sort_index(ascending=False)"
   ]
  },
  {
   "cell_type": "code",
   "execution_count": 18,
   "id": "a1f48e7a-a07e-402b-8857-6c5a8b1bebbd",
   "metadata": {},
   "outputs": [
    {
     "data": {
      "text/plain": [
       "'20220101'"
      ]
     },
     "execution_count": 18,
     "metadata": {},
     "output_type": "execute_result"
    }
   ],
   "source": [
    "kwargs['end_date']"
   ]
  },
  {
   "cell_type": "code",
   "execution_count": 19,
   "id": "a3aafc5b-fc20-4e05-af1f-9197e8215b9e",
   "metadata": {},
   "outputs": [
    {
     "data": {
      "text/plain": [
       "<Axes: >"
      ]
     },
     "execution_count": 19,
     "metadata": {},
     "output_type": "execute_result"
    },
    {
     "data": {
      "image/png": "[encoded data removed]",
      "text/plain": [
       "<Figure size 640x480 with 1 Axes>"
      ]
     },
     "metadata": {},
     "output_type": "display_data"
    }
   ],
   "source": [
    "#d = df_reviews.date.agg(['min', 'max']).to_list()\n",
    "d = [kwargs['end_date'], df_reviews.date.max()]\n",
    "\n",
    "date_range = pd.date_range(start=d[0], end=d[1]).to_period(\"M\").unique()\n",
    "\n",
    "(df_reviews\n",
    " .set_index('date').to_period(\"M\")\n",
    " .groupby(level=0).review.count()\n",
    " .sort_index()\n",
    " .reindex(date_range, fill_value=0)\n",
    " .plot(kind='barh')\n",
    ")"
   ]
  },
  {
   "cell_type": "code",
   "execution_count": 20,
   "id": "c1ce0430-3dea-4a97-a0b9-010a6580d0b0",
   "metadata": {},
   "outputs": [
    {
     "data": {
      "text/plain": [
       "<Axes: ylabel='wine'>"
      ]
     },
     "execution_count": 20,
     "metadata": {},
     "output_type": "execute_result"
    },
    {
     "data": {
      "image/png": "[encoded data removed]",
      "text/plain": [
       "<Figure size 640x480 with 1 Axes>"
      ]
     },
     "metadata": {},
     "output_type": "display_data"
    }
   ],
   "source": [
    "(df_reviews\n",
    " .groupby(by='wine').review.count()\n",
    " .plot(kind='barh')\n",
    ")"
   ]
  },
  {
   "cell_type": "code",
   "execution_count": 21,
   "id": "920c9d82-167b-4f27-b6d5-2ea7258a55fe",
   "metadata": {},
   "outputs": [
    {
     "data": {
      "text/html": [
       "<div>\n",
       "<style scoped>\n",
       "    .dataframe tbody tr th:only-of-type {\n",
       "        vertical-align: middle;\n",
       "    }\n",
       "\n",
       "    .dataframe tbody tr th {\n",
       "        vertical-align: top;\n",
       "    }\n",
       "\n",
       "    .dataframe thead th {\n",
       "        text-align: right;\n",
       "    }\n",
       "</style>\n",
       "<table border=\"1\" class=\"dataframe\">\n",
       "  <thead>\n",
       "    <tr style=\"text-align: right;\">\n",
       "      <th></th>\n",
       "      <th>wid</th>\n",
       "      <th>wine</th>\n",
       "      <th>date</th>\n",
       "      <th>review</th>\n",
       "      <th>source</th>\n",
       "    </tr>\n",
       "  </thead>\n",
       "  <tbody>\n",
       "    <tr>\n",
       "      <th>0</th>\n",
       "      <td>40</td>\n",
       "      <td>Arione Moscato d'Asti</td>\n",
       "      <td>2023-11-06</td>\n",
       "      <td>pera pesca nota tropicale minerali</td>\n",
       "      <td>vivino</td>\n",
       "    </tr>\n",
       "    <tr>\n",
       "      <th>1</th>\n",
       "      <td>40</td>\n",
       "      <td>Arione Moscato d'Asti</td>\n",
       "      <td>2023-10-17</td>\n",
       "      <td>Ottimo</td>\n",
       "      <td>vivino</td>\n",
       "    </tr>\n",
       "    <tr>\n",
       "      <th>2</th>\n",
       "      <td>40</td>\n",
       "      <td>Arione Moscato d'Asti</td>\n",
       "      <td>2023-10-09</td>\n",
       "      <td>조금 산뜻한 향, 처음 마시고 조금 있는 바디감, Saracco보다 조금 덜 달게 ...</td>\n",
       "      <td>vivino</td>\n",
       "    </tr>\n",
       "    <tr>\n",
       "      <th>3</th>\n",
       "      <td>40</td>\n",
       "      <td>Arione Moscato d'Asti</td>\n",
       "      <td>2023-10-08</td>\n",
       "      <td>Afrutado, delicioso.</td>\n",
       "      <td>vivino</td>\n",
       "    </tr>\n",
       "    <tr>\n",
       "      <th>4</th>\n",
       "      <td>40</td>\n",
       "      <td>Arione Moscato d'Asti</td>\n",
       "      <td>2023-07-21</td>\n",
       "      <td>honey apple peach citrus Slight fizziness ligh...</td>\n",
       "      <td>vivino</td>\n",
       "    </tr>\n",
       "  </tbody>\n",
       "</table>\n",
       "</div>"
      ],
      "text/plain": [
       "   wid                   wine       date  \\\n",
       "0   40  Arione Moscato d'Asti 2023-11-06   \n",
       "1   40  Arione Moscato d'Asti 2023-10-17   \n",
       "2   40  Arione Moscato d'Asti 2023-10-09   \n",
       "3   40  Arione Moscato d'Asti 2023-10-08   \n",
       "4   40  Arione Moscato d'Asti 2023-07-21   \n",
       "\n",
       "                                              review  source  \n",
       "0                 pera pesca nota tropicale minerali  vivino  \n",
       "1                                             Ottimo  vivino  \n",
       "2  조금 산뜻한 향, 처음 마시고 조금 있는 바디감, Saracco보다 조금 덜 달게 ...  vivino  \n",
       "3                               Afrutado, delicioso.  vivino  \n",
       "4  honey apple peach citrus Slight fizziness ligh...  vivino  "
      ]
     },
     "execution_count": 21,
     "metadata": {},
     "output_type": "execute_result"
    }
   ],
   "source": [
    "df_reviews.head()"
   ]
  },
  {
   "cell_type": "markdown",
   "id": "eff4af90-e32e-48a3-937c-5f575f2b30b2",
   "metadata": {},
   "source": [
    "# Translate"
   ]
  },
  {
   "cell_type": "code",
   "execution_count": 22,
   "id": "ecb5329c-904f-4d51-bed5-61898c468786",
   "metadata": {},
   "outputs": [],
   "source": [
    "import langdetect\n",
    "import json\n",
    "from deep_translator import GoogleTranslator\n",
    "from tqdm import tqdm\n",
    "\n",
    "def detect_language(text):\n",
    "    try:\n",
    "        return langdetect.detect(text)\n",
    "    except KeyboardInterrupt as e:\n",
    "        raise(e)\n",
    "    except:\n",
    "        return '<-- ERROR -->'\n",
    "\n",
    "def get_translation(text):\n",
    "    try:\n",
    "        return GoogleTranslator(source='auto', target='en').translate(str(text))\n",
    "    except KeyboardInterrupt as e:\n",
    "        raise(e)\n",
    "    except:\n",
    "        return '<-- ERROR -->'"
   ]
  },
  {
   "cell_type": "code",
   "execution_count": 23,
   "id": "bdccba59-210d-4587-91bc-37ef80301dbe",
   "metadata": {},
   "outputs": [
    {
     "name": "stderr",
     "output_type": "stream",
     "text": [
      "100%|█████████████████████████████████████████████████████████████| 677/677 [07:52<00:00,  1.43it/s]\n"
     ]
    }
   ],
   "source": [
    "tmp_data = []\n",
    "\n",
    "for rec in tqdm(df_reviews.to_dict('records')):\n",
    "    tmp_data.append({\n",
    "        #'wid': rec['wid'],\n",
    "        'lang': detect_language(rec['review']),\n",
    "        'review_transl': get_translation(rec['review'])\n",
    "    })"
   ]
  },
  {
   "cell_type": "code",
   "execution_count": 24,
   "id": "f3e3ecd4-49dc-4827-9a0a-efd0dd1a5978",
   "metadata": {},
   "outputs": [
    {
     "data": {
      "text/html": [
       "<div>\n",
       "<style scoped>\n",
       "    .dataframe tbody tr th:only-of-type {\n",
       "        vertical-align: middle;\n",
       "    }\n",
       "\n",
       "    .dataframe tbody tr th {\n",
       "        vertical-align: top;\n",
       "    }\n",
       "\n",
       "    .dataframe thead th {\n",
       "        text-align: right;\n",
       "    }\n",
       "</style>\n",
       "<table border=\"1\" class=\"dataframe\">\n",
       "  <thead>\n",
       "    <tr style=\"text-align: right;\">\n",
       "      <th></th>\n",
       "      <th>wid</th>\n",
       "      <th>wine</th>\n",
       "      <th>date</th>\n",
       "      <th>review</th>\n",
       "      <th>source</th>\n",
       "      <th>lang</th>\n",
       "      <th>review_transl</th>\n",
       "    </tr>\n",
       "  </thead>\n",
       "  <tbody>\n",
       "    <tr>\n",
       "      <th>0</th>\n",
       "      <td>40</td>\n",
       "      <td>Arione Moscato d'Asti</td>\n",
       "      <td>2023-11-06</td>\n",
       "      <td>pera pesca nota tropicale minerali</td>\n",
       "      <td>vivino</td>\n",
       "      <td>it</td>\n",
       "      <td>pear peach tropical note minerals</td>\n",
       "    </tr>\n",
       "    <tr>\n",
       "      <th>1</th>\n",
       "      <td>40</td>\n",
       "      <td>Arione Moscato d'Asti</td>\n",
       "      <td>2023-10-17</td>\n",
       "      <td>Ottimo</td>\n",
       "      <td>vivino</td>\n",
       "      <td>it</td>\n",
       "      <td>Optimal</td>\n",
       "    </tr>\n",
       "    <tr>\n",
       "      <th>2</th>\n",
       "      <td>40</td>\n",
       "      <td>Arione Moscato d'Asti</td>\n",
       "      <td>2023-10-09</td>\n",
       "      <td>조금 산뜻한 향, 처음 마시고 조금 있는 바디감, Saracco보다 조금 덜 달게 ...</td>\n",
       "      <td>vivino</td>\n",
       "      <td>ko</td>\n",
       "      <td>A slightly refreshing scent, a bit of body whe...</td>\n",
       "    </tr>\n",
       "    <tr>\n",
       "      <th>3</th>\n",
       "      <td>40</td>\n",
       "      <td>Arione Moscato d'Asti</td>\n",
       "      <td>2023-10-08</td>\n",
       "      <td>Afrutado, delicioso.</td>\n",
       "      <td>vivino</td>\n",
       "      <td>es</td>\n",
       "      <td>Fruity, delicious.</td>\n",
       "    </tr>\n",
       "    <tr>\n",
       "      <th>4</th>\n",
       "      <td>40</td>\n",
       "      <td>Arione Moscato d'Asti</td>\n",
       "      <td>2023-07-21</td>\n",
       "      <td>honey apple peach citrus Slight fizziness ligh...</td>\n",
       "      <td>vivino</td>\n",
       "      <td>en</td>\n",
       "      <td>honey apple peach citrus Slight fizziness ligh...</td>\n",
       "    </tr>\n",
       "  </tbody>\n",
       "</table>\n",
       "</div>"
      ],
      "text/plain": [
       "   wid                   wine       date  \\\n",
       "0   40  Arione Moscato d'Asti 2023-11-06   \n",
       "1   40  Arione Moscato d'Asti 2023-10-17   \n",
       "2   40  Arione Moscato d'Asti 2023-10-09   \n",
       "3   40  Arione Moscato d'Asti 2023-10-08   \n",
       "4   40  Arione Moscato d'Asti 2023-07-21   \n",
       "\n",
       "                                              review  source lang  \\\n",
       "0                 pera pesca nota tropicale minerali  vivino   it   \n",
       "1                                             Ottimo  vivino   it   \n",
       "2  조금 산뜻한 향, 처음 마시고 조금 있는 바디감, Saracco보다 조금 덜 달게 ...  vivino   ko   \n",
       "3                               Afrutado, delicioso.  vivino   es   \n",
       "4  honey apple peach citrus Slight fizziness ligh...  vivino   en   \n",
       "\n",
       "                                       review_transl  \n",
       "0                  pear peach tropical note minerals  \n",
       "1                                            Optimal  \n",
       "2  A slightly refreshing scent, a bit of body whe...  \n",
       "3                                 Fruity, delicious.  \n",
       "4  honey apple peach citrus Slight fizziness ligh...  "
      ]
     },
     "execution_count": 24,
     "metadata": {},
     "output_type": "execute_result"
    }
   ],
   "source": [
    "df_reviews = df_reviews.merge(pd.DataFrame(tmp_data), left_index=True, right_index=True)\n",
    "df_reviews.head()"
   ]
  },
  {
   "cell_type": "markdown",
   "id": "31667a4a-9d5b-4b1a-a829-9300280e83e4",
   "metadata": {},
   "source": [
    "**check translation error**"
   ]
  },
  {
   "cell_type": "code",
   "execution_count": 25,
   "id": "4400c9e4-c634-4f1a-ab36-f4575d84d090",
   "metadata": {},
   "outputs": [
    {
     "data": {
      "text/html": [
       "<div>\n",
       "<style scoped>\n",
       "    .dataframe tbody tr th:only-of-type {\n",
       "        vertical-align: middle;\n",
       "    }\n",
       "\n",
       "    .dataframe tbody tr th {\n",
       "        vertical-align: top;\n",
       "    }\n",
       "\n",
       "    .dataframe thead th {\n",
       "        text-align: right;\n",
       "    }\n",
       "</style>\n",
       "<table border=\"1\" class=\"dataframe\">\n",
       "  <thead>\n",
       "    <tr style=\"text-align: right;\">\n",
       "      <th></th>\n",
       "      <th>wid</th>\n",
       "      <th>wine</th>\n",
       "      <th>date</th>\n",
       "      <th>review</th>\n",
       "      <th>source</th>\n",
       "      <th>lang</th>\n",
       "      <th>review_transl</th>\n",
       "    </tr>\n",
       "  </thead>\n",
       "  <tbody>\n",
       "    <tr>\n",
       "      <th>337</th>\n",
       "      <td>45</td>\n",
       "      <td>Cono Sur Single Vineyard Syrah</td>\n",
       "      <td>2021-05-23</td>\n",
       "      <td>2.0</td>\n",
       "      <td>vivino</td>\n",
       "      <td>&lt;-- ERROR --&gt;</td>\n",
       "      <td>2.0</td>\n",
       "    </tr>\n",
       "    <tr>\n",
       "      <th>411</th>\n",
       "      <td>47</td>\n",
       "      <td>Cono Sur Single Vineyard Pinot Noir</td>\n",
       "      <td>2020-10-01</td>\n",
       "      <td>👍</td>\n",
       "      <td>vivino</td>\n",
       "      <td>&lt;-- ERROR --&gt;</td>\n",
       "      <td>None</td>\n",
       "    </tr>\n",
       "    <tr>\n",
       "      <th>455</th>\n",
       "      <td>49</td>\n",
       "      <td>Cono Sur Single Vineyard Chardonnay</td>\n",
       "      <td>2019-07-23</td>\n",
       "      <td>19,</td>\n",
       "      <td>vivino</td>\n",
       "      <td>&lt;-- ERROR --&gt;</td>\n",
       "      <td>19,</td>\n",
       "    </tr>\n",
       "    <tr>\n",
       "      <th>553</th>\n",
       "      <td>49</td>\n",
       "      <td>Cono Sur Single Vineyard Chardonnay</td>\n",
       "      <td>2022-09-19</td>\n",
       "      <td>20220919</td>\n",
       "      <td>vivino</td>\n",
       "      <td>&lt;-- ERROR --&gt;</td>\n",
       "      <td>20220919</td>\n",
       "    </tr>\n",
       "    <tr>\n",
       "      <th>591</th>\n",
       "      <td>49</td>\n",
       "      <td>Cono Sur Single Vineyard Chardonnay</td>\n",
       "      <td>2022-05-11</td>\n",
       "      <td>79</td>\n",
       "      <td>vivino</td>\n",
       "      <td>&lt;-- ERROR --&gt;</td>\n",
       "      <td>79</td>\n",
       "    </tr>\n",
       "    <tr>\n",
       "      <th>634</th>\n",
       "      <td>49</td>\n",
       "      <td>Cono Sur Single Vineyard Chardonnay</td>\n",
       "      <td>2022-02-10</td>\n",
       "      <td>ㅇㅇ</td>\n",
       "      <td>vivino</td>\n",
       "      <td>&lt;-- ERROR --&gt;</td>\n",
       "      <td>yep</td>\n",
       "    </tr>\n",
       "  </tbody>\n",
       "</table>\n",
       "</div>"
      ],
      "text/plain": [
       "     wid                                 wine       date    review  source  \\\n",
       "337   45       Cono Sur Single Vineyard Syrah 2021-05-23       2.0  vivino   \n",
       "411   47  Cono Sur Single Vineyard Pinot Noir 2020-10-01         👍  vivino   \n",
       "455   49  Cono Sur Single Vineyard Chardonnay 2019-07-23       19,  vivino   \n",
       "553   49  Cono Sur Single Vineyard Chardonnay 2022-09-19  20220919  vivino   \n",
       "591   49  Cono Sur Single Vineyard Chardonnay 2022-05-11        79  vivino   \n",
       "634   49  Cono Sur Single Vineyard Chardonnay 2022-02-10        ㅇㅇ  vivino   \n",
       "\n",
       "              lang review_transl  \n",
       "337  <-- ERROR -->           2.0  \n",
       "411  <-- ERROR -->          None  \n",
       "455  <-- ERROR -->           19,  \n",
       "553  <-- ERROR -->      20220919  \n",
       "591  <-- ERROR -->            79  \n",
       "634  <-- ERROR -->           yep  "
      ]
     },
     "execution_count": 25,
     "metadata": {},
     "output_type": "execute_result"
    }
   ],
   "source": [
    "cond = df_reviews.lang.str.contains('ERROR')\n",
    "df_reviews.loc[cond]"
   ]
  },
  {
   "cell_type": "code",
   "execution_count": null,
   "id": "c61580ed-da11-4992-9fcf-47a5a88e5635",
   "metadata": {},
   "outputs": [],
   "source": [
    "#cond = df_reviews.review_transl.isna()\n",
    "#df_reviews.loc[cond]"
   ]
  },
  {
   "cell_type": "code",
   "execution_count": 26,
   "id": "792cbd88-2ee8-408e-afd3-a60cfc85c277",
   "metadata": {},
   "outputs": [],
   "source": [
    "df_reviews = df_reviews.loc[~cond]"
   ]
  },
  {
   "cell_type": "markdown",
   "id": "25f7621f-96fa-4ffb-85e3-88f1053a85b5",
   "metadata": {},
   "source": [
    "**save final data**"
   ]
  },
  {
   "cell_type": "code",
   "execution_count": 28,
   "id": "b1204894-12cc-4b17-aec3-14198af29d2b",
   "metadata": {},
   "outputs": [
    {
     "name": "stdout",
     "output_type": "stream",
     "text": [
      "data/wine_reviews_240213b.csv saved.\n"
     ]
    }
   ],
   "source": [
    "from datetime import datetime\n",
    "d = datetime.today().strftime('%y%m%d')\n",
    "#d = f'{d}b'\n",
    "save_reviews(df_reviews, f'wine_reviews_{d}.csv')"
   ]
  },
  {
   "cell_type": "code",
   "execution_count": 33,
   "id": "4c61b011-4b52-4c34-8aee-1cb7e1c1b766",
   "metadata": {},
   "outputs": [
    {
     "name": "stdout",
     "output_type": "stream",
     "text": [
      "Archive:  wine_reviews.zip\n",
      "  Length      Date    Time    Name\n",
      "---------  ---------- -----   ----\n",
      "   343369  2024-02-07 16:58   wine_reviews_240124.csv\n",
      "   334512  2024-02-07 18:16   wine_reviews_240207.csv\n",
      "   529775  2024-02-12 20:13   wine_reviews_240212.csv\n",
      "   213076  2024-02-13 16:19   wine_reviews_240213a.csv\n",
      "   176652  2024-02-13 18:27   wine_reviews_240213b.csv\n",
      "---------                     -------\n",
      "  1597384                     5 files\n"
     ]
    }
   ],
   "source": [
    "!unzip -l wine_reviews.zip"
   ]
  },
  {
   "cell_type": "code",
   "execution_count": 30,
   "id": "fb6a923f-c010-44e3-82be-8938448ac6b3",
   "metadata": {},
   "outputs": [
    {
     "name": "stdout",
     "output_type": "stream",
     "text": [
      "  adding: wine_reviews_240213.csv (deflated 71%)\n"
     ]
    }
   ],
   "source": [
    "!zip -uj wine_reviews.zip data/wine_reviews_2*csv"
   ]
  },
  {
   "cell_type": "code",
   "execution_count": 32,
   "id": "530256d5-39f4-40f5-905a-b2e812e294cc",
   "metadata": {},
   "outputs": [
    {
     "name": "stdout",
     "output_type": "stream",
     "text": [
      "  adding: wine_reviews_240124.csv (deflated 70%)\n",
      "  adding: wine_reviews_240207.csv (deflated 69%)\n",
      "  adding: wine_reviews_240212.csv (deflated 73%)\n",
      "  adding: wine_reviews_240213a.csv (deflated 71%)\n",
      "  adding: wine_reviews_240213b.csv (deflated 69%)\n"
     ]
    }
   ],
   "source": [
    "!zip -j wine_reviews.zip data/wine_reviews_2*csv"
   ]
  },
  {
   "cell_type": "code",
   "execution_count": null,
   "id": "621f3c85-a7cc-4cae-bab3-7c3e9c08cc9e",
   "metadata": {},
   "outputs": [],
   "source": []
  }
 ],
 "metadata": {
  "kernelspec": {
   "display_name": "scrap2",
   "language": "python",
   "name": "scrap2"
  },
  "language_info": {
   "codemirror_mode": {
    "name": "ipython",
    "version": 3
   },
   "file_extension": ".py",
   "mimetype": "text/x-python",
   "name": "python",
   "nbconvert_exporter": "python",
   "pygments_lexer": "ipython3",
   "version": "3.9.18"
  }
 },
 "nbformat": 4,
 "nbformat_minor": 5
}
