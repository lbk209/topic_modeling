{
 "cells": [
  {
   "cell_type": "code",
   "execution_count": 1,
   "id": "48b78785-892f-420c-b7d3-4db00fd3c5ce",
   "metadata": {},
   "outputs": [
    {
     "name": "stderr",
     "output_type": "stream",
     "text": [
      "/home/lbk/.cache/pypoetry/virtualenvs/scrap2-pSsZr_wz-py3.9/lib/python3.9/site-packages/tqdm/auto.py:21: TqdmWarning: IProgress not found. Please update jupyter and ipywidgets. See https://ipywidgets.readthedocs.io/en/stable/user_install.html\n",
      "  from .autonotebook import tqdm as notebook_tqdm\n"
     ]
    }
   ],
   "source": [
    "from vivino_community_reviews import save_reviews, load_reviews\n",
    "from vivino_community_reviews import vivino_reviews, concat_reviews, check_url"
   ]
  },
  {
   "cell_type": "code",
   "execution_count": 2,
   "id": "daebf455-6907-4c2b-8a65-d465954350bb",
   "metadata": {},
   "outputs": [],
   "source": [
    "import os\n",
    "import pandas as pd\n",
    "import time\n",
    "\n",
    "def read_csv(file, path_data, **kwargs):\n",
    "    \"\"\"\n",
    "    kwargs: keyword args for pd.read_csv\n",
    "    \"\"\"\n",
    "    files = [x for x in os.listdir(path_data) if x.startswith(file)]\n",
    "\n",
    "    df_reviews = pd.DataFrame()\n",
    "    for f in files:\n",
    "        df = pd.read_csv(f'{path_data}/{f}', **kwargs)\n",
    "        df_reviews = pd.concat([df_reviews, df])\n",
    "\n",
    "    return df_reviews.reset_index(drop=True)"
   ]
  },
  {
   "cell_type": "markdown",
   "id": "3453086d-7ea2-4ce6-939d-c5e07cd25e2a",
   "metadata": {},
   "source": [
    "# Existing"
   ]
  },
  {
   "cell_type": "code",
   "execution_count": 3,
   "id": "084738b8-29ec-4bcb-a762-820de3bb7ac6",
   "metadata": {},
   "outputs": [
    {
     "data": {
      "text/plain": [
       "wid  wine                                                \n",
       "4    Aguirre Dos Copas Cabernet Sauvignon                       7\n",
       "35   Balbi Soprani Moscato d'Asti                              31\n",
       "29   Bread & Butter Cabernet Sauvignon                         32\n",
       "28   Bread & Butter Pinot Noir                               1236\n",
       "33   Canti Moscato d'Asti                                      71\n",
       "0    Casillero del Diablo Cabernet Sauvignon (Reserva)        472\n",
       "6    Casillero del Diablo Chardonnay (Reserva)                122\n",
       "39   Castello del Poggio Moscato d'Asti                        80\n",
       "11   Cono Sur Bicicleta Reserva Unoaked Chardonnay            109\n",
       "9    Frontera Cabernet Sauvignon                              207\n",
       "38   G.D. Vajra Moscato d'Asti                                 52\n",
       "36   Gancia Moscato d'Asti N.V.                               160\n",
       "7    Kendall-Jackson Vintner's Reserve Cabernet Sauvignon     121\n",
       "27   Kendall-Jackson Vintner's Reserve Chardonnay             553\n",
       "10   Long Barn Chardonnay                                     142\n",
       "32   Michele Chiarlo Moscato d'Asti Nivole                    482\n",
       "24   Mollydooker The Boxer Shiraz                             276\n",
       "18   Montes Montes Alpha Cabernet Sauvignon                   220\n",
       "19   Montes Montes Alpha Merlot                                60\n",
       "20   Montes Montes Alpha Syrah                                 81\n",
       "2    Roche Mazet Cuvée Spéciale Cabernet Sauvignon             61\n",
       "14   Roche Mazet Cuvée Spéciale Chardonnay                     31\n",
       "16   San Pedro 1865 Selected Vineyards Cabernet Sauvignon      41\n",
       "21   San Pedro 1865 Selected Vineyards Syrah                   13\n",
       "17   San Pedro 1865 Single Vineyard Cabernet Sauvignon         42\n",
       "22   San Pedro 1865 Single Vineyard Malbec                     13\n",
       "23   San Pedro 1865 Single Vineyard Syrah                      12\n",
       "3    San Pedro Gato Negro Cabernet Sauvignon                  879\n",
       "13   San Pedro Gato Negro Chardonnay                          230\n",
       "5    The 7th Generation - G7 Cabernet Sauvignon                26\n",
       "12   The 7th Generation - G7 Chardonnay                        42\n",
       "37   Tosti Moscato d'Asti                                      31\n",
       "34   Vallebelbo Moscato d'Asti                                 32\n",
       "30   Vietti Moscato d'Asti                                     41\n",
       "31   Villa M Bianco                                            42\n",
       "8    Viña Santa Helena Reservado Cabernet Sauvignon'           51\n",
       "25   William Hill North Coast Cabernet Sauvignon               51\n",
       "26   William Hill North Coast Chardonnay                       51\n",
       "1    Yellow Tail Cabernet Sauvignon                           136\n",
       "15   Yellow Tail Chardonnay                                   122\n",
       "Name: review_transl, dtype: int64"
      ]
     },
     "execution_count": 3,
     "metadata": {},
     "output_type": "execute_result"
    }
   ],
   "source": [
    "file = 'wine_reviews_'\n",
    "df_reviews = read_csv(file, 'data')\n",
    "df_reviews.groupby(['wid', 'wine']).review_transl.count().sort_index(level=1)"
   ]
  },
  {
   "cell_type": "markdown",
   "id": "75b09696-2a65-463b-a4c4-76f1a194afd4",
   "metadata": {},
   "source": [
    "# Scraping"
   ]
  },
  {
   "cell_type": "markdown",
   "id": "95df6be2-cc93-43f7-a840-56c221d5c0d8",
   "metadata": {},
   "source": [
    "## Setting"
   ]
  },
  {
   "cell_type": "code",
   "execution_count": 4,
   "id": "51bfb2ea-38ff-4fc2-88af-7ea8171993dd",
   "metadata": {},
   "outputs": [],
   "source": [
    "locator_ratings = \"//a[@href='#all_reviews']\"\n",
    "locator_more = \"//button[@tabindex='0']\"\n",
    "locator_recent = '//*[@data-testid=\"baseModalBackdrop\"]/div[2]/div[2]/div[2]/div/a[1]'\n",
    "\n",
    "locator_review = \"communityReview__reviewText--2bfLj\"\n",
    "locator_date = \"anchor_anchor__m8Qi- reviewAnchor__anchor--2NKFw reviewDate__reviewDate--49vpM undefined\"\n",
    "\n",
    "kwargs = {\n",
    "    'loc1': locator_ratings,\n",
    "    'loc2': locator_more,\n",
    "    'loc3': locator_recent, \n",
    "    'loc4': locator_review,\n",
    "    'loc5': locator_date\n",
    "}"
   ]
  },
  {
   "cell_type": "code",
   "execution_count": 5,
   "id": "39f95682-cc61-428a-8e82-e8f1a16f68d9",
   "metadata": {},
   "outputs": [],
   "source": [
    "kwargs.update({\n",
    "    'end_date': '20220101',\n",
    "    'source': 'vivino',\n",
    "    #'max_scr': 10, 'time_scr': 2, 'check_idx': 4\n",
    "})"
   ]
  },
  {
   "cell_type": "markdown",
   "id": "95f96412-7b0e-4342-a41f-f0644a23988b",
   "metadata": {},
   "source": [
    "## wine list"
   ]
  },
  {
   "cell_type": "code",
   "execution_count": 19,
   "id": "ced4786b-33d3-48fc-a941-9feb831ed712",
   "metadata": {},
   "outputs": [
    {
     "name": "stdout",
     "output_type": "stream",
     "text": [
      "Arione Moscato d'Asti: 3\n",
      "Catena Cabernet Sauvignon: 3\n",
      "Cono Sur Single Vineyard Syrah: 3\n",
      "Cono Sur Single Vineyard Cabernet Sauvignon: 3\n",
      "Cono Sur Single Vineyard Pinot Noir: 3\n",
      "Cono Sur Single Vineyard Carmenere: 3\n",
      "Cono Sur Single Vineyard Chardonnay: 3\n",
      "Two Hands Angels' Share Shiraz: 3\n",
      "Two Hands Gnarly Dudes Shiraz: 3\n",
      "Two Hands Sexy Beast Cabernet Sauvignon: 3\n"
     ]
    }
   ],
   "source": [
    "from sentence_transformers import SentenceTransformer, util\n",
    "\n",
    "def check_wines(wines, split='/'):\n",
    "    model = SentenceTransformer('sentence-transformers/all-MiniLM-L6-v2')\n",
    "    encode = lambda x: model.encode(x, convert_to_tensor=True)\n",
    "    for name, url in wines.items():\n",
    "        e1 = encode(name)\n",
    "        csims = [util.pytorch_cos_sim(e1, encode(x)) for x in url.split(split)]\n",
    "        #csim = max(csims)\n",
    "        #print(csim)\n",
    "        name2 = csims.index(max(csims))\n",
    "        print(f'{name}: {name2}')\n",
    "\n",
    "check_wines(wines)"
   ]
  },
  {
   "cell_type": "code",
   "execution_count": 39,
   "id": "76b7b4ce-bd5f-4c6e-8fc9-7ddf85095fa1",
   "metadata": {},
   "outputs": [
    {
     "name": "stdout",
     "output_type": "stream",
     "text": [
      "0.85) Arione Moscato d'Asti: arione-moscato-d-asti\n",
      "0.89) Catena Cabernet Sauvignon: catena-mendoza-cabernet-sauvignon\n",
      "0.69) Cono Sur Single Vineyard Syrah: cono-sur-santiago-single-vineyard-syrah-valle-de-san-antonio\n",
      "0.83) Cono Sur Single Vineyard Cabernet Sauvignon: cono-sur-santiago-single-vineyard-cabernet-sauvignon\n",
      "0.86) Cono Sur Single Vineyard Pinot Noir: cono-sur-santiago-single-vineyard-pinot-noir\n",
      "0.84) Cono Sur Single Vineyard Carmenere: cono-sur-santiago-single-vineyard-carmenere\n",
      "0.88) Cono Sur Single Vineyard Chardonnay: cono-sur-santiago-single-vineyard-chardonnay\n",
      "0.91) Two Hands Angels' Share Shiraz: two-hands-angels-share-shiraz\n",
      "0.89) Two Hands Gnarly Dudes Shiraz: two-hands-gnarly-dudes-shiraz\n",
      "0.96) Two Hands Sexy Beast Cabernet Sauvignon: two-hands-sexy-beast-cabernet-sauvignon\n"
     ]
    }
   ],
   "source": [
    "from sentence_transformers import SentenceTransformer, util\n",
    "\n",
    "def check_wines(wines, split='/'):\n",
    "    model = SentenceTransformer('sentence-transformers/all-MiniLM-L6-v2')\n",
    "    encode = lambda x: model.encode(x, convert_to_tensor=True)\n",
    "    for name, url in wines.items():\n",
    "        e1 = encode(name)\n",
    "        parts = url.split(split)\n",
    "        csims = [util.pytorch_cos_sim(e1, encode(x)) for x in parts]\n",
    "        mc = max(csims)\n",
    "        name2 = parts[csims.index(mc)]\n",
    "        print(f'{mc.item():.2f}) {name}: {name2}')\n",
    "\n",
    "check_wines(wines)"
   ]
  },
  {
   "cell_type": "code",
   "execution_count": 43,
   "id": "6b648d68-e61d-4e79-b248-c13b305c4d3f",
   "metadata": {},
   "outputs": [
    {
     "data": {
      "text/plain": [
       "{\"Arione Moscato d'Asti\": 'https://www.vivino.com/arione-moscato-d-asti/w/1154484?ref=nav-search',\n",
       " 'Catena Cabernet Sauvignon': 'https://www.vivino.com/catena-mendoza-cabernet-sauvignon/w/1268655?ref=nav-search',\n",
       " 'Cono Sur Single Vineyard Syrah': 'https://www.vivino.com/cono-sur-santiago-single-vineyard-syrah-valle-de-san-antonio/w/4750037?ref=nav-search',\n",
       " 'Cono Sur Single Vineyard Cabernet Sauvignon': 'https://www.vivino.com/cono-sur-santiago-single-vineyard-cabernet-sauvignon/w/3875243?ref=nav-search',\n",
       " 'Cono Sur Single Vineyard Pinot Noir': 'https://www.vivino.com/cono-sur-santiago-single-vineyard-pinot-noir/w/4303583?ref=nav-search',\n",
       " 'Cono Sur Single Vineyard Carmenere': 'https://www.vivino.com/cono-sur-santiago-single-vineyard-carmenere/w/3884025?ref=nav-search',\n",
       " 'Cono Sur Single Vineyard Chardonnay': 'https://www.vivino.com/cono-sur-santiago-single-vineyard-chardonnay/w/4348680?ref=nav-search',\n",
       " \"Two Hands Angels' Share Shiraz\": 'https://www.vivino.com/two-hands-angels-share-shiraz/w/6168?ref=nav-search',\n",
       " 'Two Hands Gnarly Dudes Shiraz': 'https://www.vivino.com/two-hands-gnarly-dudes-shiraz/w/6169?ref=nav-search',\n",
       " 'Two Hands Sexy Beast Cabernet Sauvignon': 'https://www.vivino.com/two-hands-sexy-beast-cabernet-sauvignon/w/1208743?ref=nav-search'}"
      ]
     },
     "execution_count": 43,
     "metadata": {},
     "output_type": "execute_result"
    }
   ],
   "source": [
    "#pd.DataFrame().from_dict(wines)\n",
    "wines"
   ]
  },
  {
   "cell_type": "code",
   "execution_count": 46,
   "id": "ad36ef85-48e8-4284-9ec3-f20003c72b88",
   "metadata": {},
   "outputs": [
    {
     "data": {
      "text/html": [
       "<div>\n",
       "<style scoped>\n",
       "    .dataframe tbody tr th:only-of-type {\n",
       "        vertical-align: middle;\n",
       "    }\n",
       "\n",
       "    .dataframe tbody tr th {\n",
       "        vertical-align: top;\n",
       "    }\n",
       "\n",
       "    .dataframe thead th {\n",
       "        text-align: right;\n",
       "    }\n",
       "</style>\n",
       "<table border=\"1\" class=\"dataframe\">\n",
       "  <thead>\n",
       "    <tr style=\"text-align: right;\">\n",
       "      <th></th>\n",
       "      <th>wine</th>\n",
       "      <th>url</th>\n",
       "      <th>similarity</th>\n",
       "    </tr>\n",
       "  </thead>\n",
       "  <tbody>\n",
       "    <tr>\n",
       "      <th>2</th>\n",
       "      <td>Cono Sur Single Vineyard Syrah</td>\n",
       "      <td>cono-sur-santiago-single-vineyard-syrah-valle-...</td>\n",
       "      <td>0.687737</td>\n",
       "    </tr>\n",
       "    <tr>\n",
       "      <th>3</th>\n",
       "      <td>Cono Sur Single Vineyard Cabernet Sauvignon</td>\n",
       "      <td>cono-sur-santiago-single-vineyard-cabernet-sau...</td>\n",
       "      <td>0.832239</td>\n",
       "    </tr>\n",
       "    <tr>\n",
       "      <th>5</th>\n",
       "      <td>Cono Sur Single Vineyard Carmenere</td>\n",
       "      <td>cono-sur-santiago-single-vineyard-carmenere</td>\n",
       "      <td>0.841585</td>\n",
       "    </tr>\n",
       "    <tr>\n",
       "      <th>0</th>\n",
       "      <td>Arione Moscato d'Asti</td>\n",
       "      <td>arione-moscato-d-asti</td>\n",
       "      <td>0.852157</td>\n",
       "    </tr>\n",
       "    <tr>\n",
       "      <th>4</th>\n",
       "      <td>Cono Sur Single Vineyard Pinot Noir</td>\n",
       "      <td>cono-sur-santiago-single-vineyard-pinot-noir</td>\n",
       "      <td>0.855775</td>\n",
       "    </tr>\n",
       "    <tr>\n",
       "      <th>6</th>\n",
       "      <td>Cono Sur Single Vineyard Chardonnay</td>\n",
       "      <td>cono-sur-santiago-single-vineyard-chardonnay</td>\n",
       "      <td>0.875668</td>\n",
       "    </tr>\n",
       "    <tr>\n",
       "      <th>1</th>\n",
       "      <td>Catena Cabernet Sauvignon</td>\n",
       "      <td>catena-mendoza-cabernet-sauvignon</td>\n",
       "      <td>0.888164</td>\n",
       "    </tr>\n",
       "    <tr>\n",
       "      <th>8</th>\n",
       "      <td>Two Hands Gnarly Dudes Shiraz</td>\n",
       "      <td>two-hands-gnarly-dudes-shiraz</td>\n",
       "      <td>0.891697</td>\n",
       "    </tr>\n",
       "    <tr>\n",
       "      <th>7</th>\n",
       "      <td>Two Hands Angels' Share Shiraz</td>\n",
       "      <td>two-hands-angels-share-shiraz</td>\n",
       "      <td>0.905157</td>\n",
       "    </tr>\n",
       "    <tr>\n",
       "      <th>9</th>\n",
       "      <td>Two Hands Sexy Beast Cabernet Sauvignon</td>\n",
       "      <td>two-hands-sexy-beast-cabernet-sauvignon</td>\n",
       "      <td>0.957168</td>\n",
       "    </tr>\n",
       "  </tbody>\n",
       "</table>\n",
       "</div>"
      ],
      "text/plain": [
       "                                          wine  \\\n",
       "2               Cono Sur Single Vineyard Syrah   \n",
       "3  Cono Sur Single Vineyard Cabernet Sauvignon   \n",
       "5           Cono Sur Single Vineyard Carmenere   \n",
       "0                        Arione Moscato d'Asti   \n",
       "4          Cono Sur Single Vineyard Pinot Noir   \n",
       "6          Cono Sur Single Vineyard Chardonnay   \n",
       "1                    Catena Cabernet Sauvignon   \n",
       "8                Two Hands Gnarly Dudes Shiraz   \n",
       "7               Two Hands Angels' Share Shiraz   \n",
       "9      Two Hands Sexy Beast Cabernet Sauvignon   \n",
       "\n",
       "                                                 url  similarity  \n",
       "2  cono-sur-santiago-single-vineyard-syrah-valle-...    0.687737  \n",
       "3  cono-sur-santiago-single-vineyard-cabernet-sau...    0.832239  \n",
       "5        cono-sur-santiago-single-vineyard-carmenere    0.841585  \n",
       "0                              arione-moscato-d-asti    0.852157  \n",
       "4       cono-sur-santiago-single-vineyard-pinot-noir    0.855775  \n",
       "6       cono-sur-santiago-single-vineyard-chardonnay    0.875668  \n",
       "1                  catena-mendoza-cabernet-sauvignon    0.888164  \n",
       "8                      two-hands-gnarly-dudes-shiraz    0.891697  \n",
       "7                      two-hands-angels-share-shiraz    0.905157  \n",
       "9            two-hands-sexy-beast-cabernet-sauvignon    0.957168  "
      ]
     },
     "execution_count": 46,
     "metadata": {},
     "output_type": "execute_result"
    }
   ],
   "source": [
    "from sentence_transformers import SentenceTransformer, util\n",
    "\n",
    "def check_wines(wines, split='/'):\n",
    "    model = SentenceTransformer('sentence-transformers/all-MiniLM-L6-v2')\n",
    "    encode = lambda x: model.encode(x, convert_to_tensor=True)\n",
    "\n",
    "    list_n = list()\n",
    "    list_u = list()\n",
    "    list_s = list()\n",
    "    \n",
    "    for name, url in wines.items():\n",
    "        e1 = encode(name)\n",
    "        parts = url.split(split)\n",
    "        csims = [util.pytorch_cos_sim(e1, encode(x)) for x in parts]\n",
    "        mc = max(csims).item()\n",
    "        name2 = parts[csims.index(mc)]\n",
    "        #print(f'{mc.item():.2f}) {name}: {name2}')\n",
    "        list_n.append(name)\n",
    "        list_u.append(name2)\n",
    "        list_s.append(mc)\n",
    "\n",
    "    return (pd.DataFrame()\n",
    "            .from_dict({'wine':list_n, 'url':list_u, 'similarity': list_s})\n",
    "           .sort_values('similarity'))\n",
    "\n",
    "df = check_wines(wines)\n",
    "df"
   ]
  },
  {
   "cell_type": "code",
   "execution_count": 12,
   "id": "442cce28-1e22-45e0-853c-1800094f11c6",
   "metadata": {},
   "outputs": [
    {
     "data": {
      "text/plain": [
       "10"
      ]
     },
     "execution_count": 12,
     "metadata": {},
     "output_type": "execute_result"
    }
   ],
   "source": [
    "f = 'data/wines_to_collect.txt'\n",
    "\n",
    "with open(f, 'r') as file:\n",
    "    w = file.read()\n",
    "\n",
    "w = w.strip('\\n').split('\\n')\n",
    "wines = {w[i]:w[i+1] for i in range(0, len(w), 2)}\n",
    "len(wines)"
   ]
  },
  {
   "cell_type": "code",
   "execution_count": 13,
   "id": "1c735f02-a23a-4908-9b3f-87b3486266bf",
   "metadata": {},
   "outputs": [
    {
     "data": {
      "text/plain": [
       "40"
      ]
     },
     "execution_count": 13,
     "metadata": {},
     "output_type": "execute_result"
    }
   ],
   "source": [
    "id_start = df_reviews.wid.max() + 1\n",
    "id_start"
   ]
  },
  {
   "cell_type": "markdown",
   "id": "560396fb-1da8-49e6-8b5c-c8a9c79210db",
   "metadata": {},
   "source": [
    "**load if the reviews of the wines not translated yet**"
   ]
  },
  {
   "cell_type": "code",
   "execution_count": 7,
   "id": "f89a4ef6-5943-4090-a191-1e8c2ea0d546",
   "metadata": {},
   "outputs": [
    {
     "name": "stdout",
     "output_type": "stream",
     "text": [
      "data/wine_6.csv loaded.\n"
     ]
    },
    {
     "data": {
      "text/plain": [
       "wid\n",
       "6    [Casillero del Diablo Chardonnay (Reserva)]\n",
       "Name: wine, dtype: object"
      ]
     },
     "execution_count": 7,
     "metadata": {},
     "output_type": "execute_result"
    }
   ],
   "source": [
    "#files = []\n",
    "files = ['wine_6']\n",
    "path = 'data'\n",
    "\n",
    "df_reviews = pd.DataFrame()\n",
    "for f in files:\n",
    "    df = load_reviews(f'{f}.csv', path=path)\n",
    "    df_reviews = pd.concat([df_reviews, df])\n",
    "\n",
    "# check duplicate wid\n",
    "df_reviews.groupby('wid').wine.unique()"
   ]
  },
  {
   "cell_type": "markdown",
   "id": "ae345a76-ebc9-4f1f-b784-4efeb8ffc82d",
   "metadata": {},
   "source": [
    "**reset dataframe if no reviews unfinished**"
   ]
  },
  {
   "cell_type": "code",
   "execution_count": 9,
   "id": "a7cdf2d7-2c0d-44cc-8a2f-ff889bacb3ba",
   "metadata": {},
   "outputs": [],
   "source": [
    "df_reviews = pd.DataFrame()"
   ]
  },
  {
   "cell_type": "code",
   "execution_count": 10,
   "id": "662d0122-b7f8-40d8-b3d9-e58df3e84ea2",
   "metadata": {},
   "outputs": [],
   "source": [
    "# run if any wine failed\n",
    "#wines = wines_failed"
   ]
  },
  {
   "cell_type": "code",
   "execution_count": null,
   "id": "d00acb9f-6ca1-4622-a4f9-8a3552516c29",
   "metadata": {},
   "outputs": [],
   "source": [
    "sleep()"
   ]
  },
  {
   "cell_type": "code",
   "execution_count": 11,
   "id": "4c34e46f-b8c6-490a-95ca-f00703bbbaf3",
   "metadata": {},
   "outputs": [
    {
     "name": "stdout",
     "output_type": "stream",
     "text": [
      "scraping 1 ********************\n"
     ]
    },
    {
     "name": "stderr",
     "output_type": "stream",
     "text": [
      "43it [00:34,  1.25it/s]"
     ]
    },
    {
     "name": "stdout",
     "output_type": "stream",
     "text": [
      "WARNING: No additional reviews after 10 reloading.\n",
      "Vietti Moscato d'Asti: 43 reviews collected.\n",
      "data/wine_30.csv saved.\n"
     ]
    },
    {
     "name": "stderr",
     "output_type": "stream",
     "text": [
      "\n",
      "43it [00:04,  9.11it/s]\n"
     ]
    },
    {
     "name": "stdout",
     "output_type": "stream",
     "text": [
      "Villa M Bianco: 43 reviews collected.\n",
      "data/wine_31.csv saved.\n"
     ]
    },
    {
     "name": "stderr",
     "output_type": "stream",
     "text": [
      "493it [12:04,  1.47s/it]\n"
     ]
    },
    {
     "name": "stdout",
     "output_type": "stream",
     "text": [
      "Michele Chiarlo Moscato d'Asti Nivole: 493 reviews collected.\n",
      "data/wine_32.csv saved.\n"
     ]
    },
    {
     "name": "stderr",
     "output_type": "stream",
     "text": [
      "73it [00:45,  1.61it/s]\n"
     ]
    },
    {
     "name": "stdout",
     "output_type": "stream",
     "text": [
      "Canti Moscato d'Asti: 73 reviews collected.\n",
      "data/wine_33.csv saved.\n"
     ]
    },
    {
     "name": "stderr",
     "output_type": "stream",
     "text": [
      "33it [00:04,  7.05it/s]\n"
     ]
    },
    {
     "name": "stdout",
     "output_type": "stream",
     "text": [
      "Vallebelbo Moscato d'Asti: 33 reviews collected.\n",
      "data/wine_34.csv saved.\n"
     ]
    },
    {
     "name": "stderr",
     "output_type": "stream",
     "text": [
      "0it [00:00, ?it/s]\n"
     ]
    },
    {
     "name": "stdout",
     "output_type": "stream",
     "text": [
      "ERROR: check Tosti Moscato d'Asti\n"
     ]
    },
    {
     "name": "stderr",
     "output_type": "stream",
     "text": [
      "33it [00:08,  3.72it/s]\n"
     ]
    },
    {
     "name": "stdout",
     "output_type": "stream",
     "text": [
      "Balbi Soprani Moscato d'Asti: 33 reviews collected.\n",
      "data/wine_35.csv saved.\n"
     ]
    },
    {
     "name": "stderr",
     "output_type": "stream",
     "text": [
      "0it [00:00, ?it/s]\n"
     ]
    },
    {
     "name": "stdout",
     "output_type": "stream",
     "text": [
      "ERROR: check G.D. Vajra Moscato d'Asti\n"
     ]
    },
    {
     "name": "stderr",
     "output_type": "stream",
     "text": [
      "0it [00:00, ?it/s]\n"
     ]
    },
    {
     "name": "stdout",
     "output_type": "stream",
     "text": [
      "ERROR: check Castello del Poggio Moscato d'Asti\n"
     ]
    },
    {
     "name": "stderr",
     "output_type": "stream",
     "text": [
      "163it [02:13,  1.22it/s]\n"
     ]
    },
    {
     "name": "stdout",
     "output_type": "stream",
     "text": [
      "Gancia Moscato d'Asti N.V.: 163 reviews collected.\n",
      "data/wine_36.csv saved.\n",
      "num of failed: 3\n",
      "\n",
      "scraping 2 ********************\n"
     ]
    },
    {
     "name": "stderr",
     "output_type": "stream",
     "text": [
      "33it [00:04,  7.21it/s]\n"
     ]
    },
    {
     "name": "stdout",
     "output_type": "stream",
     "text": [
      "Tosti Moscato d'Asti: 33 reviews collected.\n",
      "data/wine_37.csv saved.\n"
     ]
    },
    {
     "name": "stderr",
     "output_type": "stream",
     "text": [
      "53it [00:23,  2.21it/s]\n"
     ]
    },
    {
     "name": "stdout",
     "output_type": "stream",
     "text": [
      "G.D. Vajra Moscato d'Asti: 53 reviews collected.\n",
      "data/wine_38.csv saved.\n"
     ]
    },
    {
     "name": "stderr",
     "output_type": "stream",
     "text": [
      "83it [00:43,  1.91it/s]"
     ]
    },
    {
     "name": "stdout",
     "output_type": "stream",
     "text": [
      "Castello del Poggio Moscato d'Asti: 83 reviews collected.\n",
      "data/wine_39.csv saved.\n"
     ]
    },
    {
     "name": "stderr",
     "output_type": "stream",
     "text": [
      "\n"
     ]
    }
   ],
   "source": [
    "num_try = 3\n",
    "\n",
    "col_rev = ['wid', 'wine', 'date', 'review', 'source']\n",
    "path = 'data'\n",
    "wines_failed = dict()\n",
    "\n",
    "for i in range(num_try):\n",
    "    print(f'scraping {i+1}', '*'*20)\n",
    "    #for wine_name, wine_url in wines:\n",
    "    for wine_name, wine_url in wines.items():\n",
    "        try:\n",
    "            df = vivino_reviews(wine_url, wine_name, **kwargs)\n",
    "            df_reviews = concat_reviews(df_reviews, df, wine_name, col_rev, path=path, id_start=id_start)\n",
    "        except:\n",
    "            print(f'ERROR: check {wine_name}')\n",
    "            wines_failed.update({wine_name: wine_url})\n",
    "\n",
    "    if len(wines_failed) > 0:\n",
    "        print(f'num of failed: {len(wines_failed)}\\n')\n",
    "        wines = wines_failed\n",
    "        wines_failed = dict()\n",
    "        time.sleep(3)\n",
    "    else:\n",
    "        break"
   ]
  },
  {
   "cell_type": "code",
   "execution_count": 12,
   "id": "46b107de-ba0e-4fdb-a7d4-19757dfc00dd",
   "metadata": {},
   "outputs": [
    {
     "data": {
      "text/html": [
       "<div>\n",
       "<style scoped>\n",
       "    .dataframe tbody tr th:only-of-type {\n",
       "        vertical-align: middle;\n",
       "    }\n",
       "\n",
       "    .dataframe tbody tr th {\n",
       "        vertical-align: top;\n",
       "    }\n",
       "\n",
       "    .dataframe thead th {\n",
       "        text-align: right;\n",
       "    }\n",
       "</style>\n",
       "<table border=\"1\" class=\"dataframe\">\n",
       "  <thead>\n",
       "    <tr style=\"text-align: right;\">\n",
       "      <th></th>\n",
       "      <th>wid</th>\n",
       "      <th>wine</th>\n",
       "      <th>date</th>\n",
       "      <th>review</th>\n",
       "      <th>source</th>\n",
       "    </tr>\n",
       "  </thead>\n",
       "  <tbody>\n",
       "    <tr>\n",
       "      <th>0</th>\n",
       "      <td>30</td>\n",
       "      <td>Vietti Moscato d'Asti</td>\n",
       "      <td>2024-01-21</td>\n",
       "      <td>Moscato molto buono. Non eccessivamente gassat...</td>\n",
       "      <td>vivino</td>\n",
       "    </tr>\n",
       "    <tr>\n",
       "      <th>1</th>\n",
       "      <td>30</td>\n",
       "      <td>Vietti Moscato d'Asti</td>\n",
       "      <td>2024-01-21</td>\n",
       "      <td>This wine has a strong fruity scent and a plea...</td>\n",
       "      <td>vivino</td>\n",
       "    </tr>\n",
       "    <tr>\n",
       "      <th>2</th>\n",
       "      <td>30</td>\n",
       "      <td>Vietti Moscato d'Asti</td>\n",
       "      <td>2024-01-15</td>\n",
       "      <td>Slightly sweeter but served cold. Really tasty...</td>\n",
       "      <td>vivino</td>\n",
       "    </tr>\n",
       "    <tr>\n",
       "      <th>3</th>\n",
       "      <td>30</td>\n",
       "      <td>Vietti Moscato d'Asti</td>\n",
       "      <td>2024-01-05</td>\n",
       "      <td>Wedding mascato!!</td>\n",
       "      <td>vivino</td>\n",
       "    </tr>\n",
       "    <tr>\n",
       "      <th>4</th>\n",
       "      <td>30</td>\n",
       "      <td>Vietti Moscato d'Asti</td>\n",
       "      <td>2024-01-04</td>\n",
       "      <td>Комплексное, нежное игристое. Очень ароматное,...</td>\n",
       "      <td>vivino</td>\n",
       "    </tr>\n",
       "    <tr>\n",
       "      <th>...</th>\n",
       "      <td>...</td>\n",
       "      <td>...</td>\n",
       "      <td>...</td>\n",
       "      <td>...</td>\n",
       "      <td>...</td>\n",
       "    </tr>\n",
       "    <tr>\n",
       "      <th>78</th>\n",
       "      <td>39</td>\n",
       "      <td>Castello del Poggio Moscato d'Asti</td>\n",
       "      <td>2021-10-24</td>\n",
       "      <td>Excellent</td>\n",
       "      <td>vivino</td>\n",
       "    </tr>\n",
       "    <tr>\n",
       "      <th>79</th>\n",
       "      <td>39</td>\n",
       "      <td>Castello del Poggio Moscato d'Asti</td>\n",
       "      <td>2021-10-24</td>\n",
       "      <td>Purchased at Nautical Wheelers on 10/23/2021 f...</td>\n",
       "      <td>vivino</td>\n",
       "    </tr>\n",
       "    <tr>\n",
       "      <th>80</th>\n",
       "      <td>39</td>\n",
       "      <td>Castello del Poggio Moscato d'Asti</td>\n",
       "      <td>2017-03-26</td>\n",
       "      <td>Really enjoyed this one-full bodied with perfe...</td>\n",
       "      <td>vivino</td>\n",
       "    </tr>\n",
       "    <tr>\n",
       "      <th>81</th>\n",
       "      <td>39</td>\n",
       "      <td>Castello del Poggio Moscato d'Asti</td>\n",
       "      <td>2016-09-15</td>\n",
       "      <td>Shoutout to the Romans and Greeks!</td>\n",
       "      <td>vivino</td>\n",
       "    </tr>\n",
       "    <tr>\n",
       "      <th>82</th>\n",
       "      <td>39</td>\n",
       "      <td>Castello del Poggio Moscato d'Asti</td>\n",
       "      <td>2022-12-10</td>\n",
       "      <td>2021 vintage. Peach, pear, apple on the palett...</td>\n",
       "      <td>vivino</td>\n",
       "    </tr>\n",
       "  </tbody>\n",
       "</table>\n",
       "<p>1050 rows × 5 columns</p>\n",
       "</div>"
      ],
      "text/plain": [
       "    wid                                wine       date  \\\n",
       "0    30               Vietti Moscato d'Asti 2024-01-21   \n",
       "1    30               Vietti Moscato d'Asti 2024-01-21   \n",
       "2    30               Vietti Moscato d'Asti 2024-01-15   \n",
       "3    30               Vietti Moscato d'Asti 2024-01-05   \n",
       "4    30               Vietti Moscato d'Asti 2024-01-04   \n",
       "..  ...                                 ...        ...   \n",
       "78   39  Castello del Poggio Moscato d'Asti 2021-10-24   \n",
       "79   39  Castello del Poggio Moscato d'Asti 2021-10-24   \n",
       "80   39  Castello del Poggio Moscato d'Asti 2017-03-26   \n",
       "81   39  Castello del Poggio Moscato d'Asti 2016-09-15   \n",
       "82   39  Castello del Poggio Moscato d'Asti 2022-12-10   \n",
       "\n",
       "                                               review  source  \n",
       "0   Moscato molto buono. Non eccessivamente gassat...  vivino  \n",
       "1   This wine has a strong fruity scent and a plea...  vivino  \n",
       "2   Slightly sweeter but served cold. Really tasty...  vivino  \n",
       "3                                   Wedding mascato!!  vivino  \n",
       "4   Комплексное, нежное игристое. Очень ароматное,...  vivino  \n",
       "..                                                ...     ...  \n",
       "78                                          Excellent  vivino  \n",
       "79  Purchased at Nautical Wheelers on 10/23/2021 f...  vivino  \n",
       "80  Really enjoyed this one-full bodied with perfe...  vivino  \n",
       "81                 Shoutout to the Romans and Greeks!  vivino  \n",
       "82  2021 vintage. Peach, pear, apple on the palett...  vivino  \n",
       "\n",
       "[1050 rows x 5 columns]"
      ]
     },
     "execution_count": 12,
     "metadata": {},
     "output_type": "execute_result"
    }
   ],
   "source": [
    "df_reviews"
   ]
  },
  {
   "cell_type": "markdown",
   "id": "fd1521a7-3988-4098-b430-c5e09fc6a4a2",
   "metadata": {},
   "source": [
    "**temp saving before translation**"
   ]
  },
  {
   "cell_type": "code",
   "execution_count": 13,
   "id": "aa6aef77-4bf1-4b9d-8400-f17f380f9d88",
   "metadata": {},
   "outputs": [
    {
     "data": {
      "text/plain": [
       "wid  wine                                 \n",
       "35   Balbi Soprani Moscato d'Asti              33\n",
       "33   Canti Moscato d'Asti                      73\n",
       "39   Castello del Poggio Moscato d'Asti        83\n",
       "38   G.D. Vajra Moscato d'Asti                 53\n",
       "36   Gancia Moscato d'Asti N.V.               163\n",
       "32   Michele Chiarlo Moscato d'Asti Nivole    493\n",
       "37   Tosti Moscato d'Asti                      33\n",
       "34   Vallebelbo Moscato d'Asti                 33\n",
       "30   Vietti Moscato d'Asti                     43\n",
       "31   Villa M Bianco                            43\n",
       "Name: review, dtype: int64"
      ]
     },
     "execution_count": 13,
     "metadata": {},
     "output_type": "execute_result"
    }
   ],
   "source": [
    "df_reviews.groupby(['wid', 'wine']).review.count().sort_index(level=1)"
   ]
  },
  {
   "cell_type": "code",
   "execution_count": 14,
   "id": "1a4a8af7-781f-4f93-a279-db041f14f0d5",
   "metadata": {},
   "outputs": [
    {
     "name": "stdout",
     "output_type": "stream",
     "text": [
      "data/wine_reviews_tmp.csv saved.\n"
     ]
    }
   ],
   "source": [
    "save_reviews(df_reviews, 'wine_reviews_tmp.csv', 'data', overwrite=True)"
   ]
  },
  {
   "cell_type": "markdown",
   "id": "d9f7f247-0751-46e4-bf66-48409773bb97",
   "metadata": {},
   "source": [
    "# Review data"
   ]
  },
  {
   "cell_type": "code",
   "execution_count": 15,
   "id": "af270968-963a-4a1a-a577-fb8187eb85d9",
   "metadata": {},
   "outputs": [
    {
     "name": "stdout",
     "output_type": "stream",
     "text": [
      "data/wine_reviews_tmp.csv loaded.\n"
     ]
    }
   ],
   "source": [
    "df_reviews = load_reviews('wine_reviews_tmp.csv', 'data')"
   ]
  },
  {
   "cell_type": "code",
   "execution_count": 16,
   "id": "36e8b2b4-f05e-4640-82e3-94f74672b445",
   "metadata": {},
   "outputs": [
    {
     "data": {
      "text/html": [
       "<div>\n",
       "<style scoped>\n",
       "    .dataframe tbody tr th:only-of-type {\n",
       "        vertical-align: middle;\n",
       "    }\n",
       "\n",
       "    .dataframe tbody tr th {\n",
       "        vertical-align: top;\n",
       "    }\n",
       "\n",
       "    .dataframe thead th {\n",
       "        text-align: right;\n",
       "    }\n",
       "</style>\n",
       "<table border=\"1\" class=\"dataframe\">\n",
       "  <thead>\n",
       "    <tr style=\"text-align: right;\">\n",
       "      <th></th>\n",
       "      <th>wid</th>\n",
       "      <th>wine</th>\n",
       "      <th>date</th>\n",
       "      <th>review</th>\n",
       "      <th>source</th>\n",
       "    </tr>\n",
       "  </thead>\n",
       "  <tbody>\n",
       "    <tr>\n",
       "      <th>40</th>\n",
       "      <td>30</td>\n",
       "      <td>Vietti Moscato d'Asti</td>\n",
       "      <td>2019-04-15</td>\n",
       "      <td>NaN</td>\n",
       "      <td>vivino</td>\n",
       "    </tr>\n",
       "    <tr>\n",
       "      <th>83</th>\n",
       "      <td>31</td>\n",
       "      <td>Villa M Bianco</td>\n",
       "      <td>NaT</td>\n",
       "      <td>NaN</td>\n",
       "      <td>vivino</td>\n",
       "    </tr>\n",
       "    <tr>\n",
       "      <th>566</th>\n",
       "      <td>32</td>\n",
       "      <td>Michele Chiarlo Moscato d'Asti Nivole</td>\n",
       "      <td>2022-01-01</td>\n",
       "      <td>NaN</td>\n",
       "      <td>vivino</td>\n",
       "    </tr>\n",
       "    <tr>\n",
       "      <th>576</th>\n",
       "      <td>32</td>\n",
       "      <td>Michele Chiarlo Moscato d'Asti Nivole</td>\n",
       "      <td>2022-02-07</td>\n",
       "      <td>NaN</td>\n",
       "      <td>vivino</td>\n",
       "    </tr>\n",
       "    <tr>\n",
       "      <th>715</th>\n",
       "      <td>35</td>\n",
       "      <td>Balbi Soprani Moscato d'Asti</td>\n",
       "      <td>2020-10-19</td>\n",
       "      <td>NaN</td>\n",
       "      <td>vivino</td>\n",
       "    </tr>\n",
       "    <tr>\n",
       "      <th>878</th>\n",
       "      <td>36</td>\n",
       "      <td>Gancia Moscato d'Asti N.V.</td>\n",
       "      <td>NaT</td>\n",
       "      <td>NaN</td>\n",
       "      <td>vivino</td>\n",
       "    </tr>\n",
       "    <tr>\n",
       "      <th>911</th>\n",
       "      <td>37</td>\n",
       "      <td>Tosti Moscato d'Asti</td>\n",
       "      <td>2018-05-28</td>\n",
       "      <td>NaN</td>\n",
       "      <td>vivino</td>\n",
       "    </tr>\n",
       "    <tr>\n",
       "      <th>964</th>\n",
       "      <td>38</td>\n",
       "      <td>G.D. Vajra Moscato d'Asti</td>\n",
       "      <td>NaT</td>\n",
       "      <td>NaN</td>\n",
       "      <td>vivino</td>\n",
       "    </tr>\n",
       "    <tr>\n",
       "      <th>1036</th>\n",
       "      <td>39</td>\n",
       "      <td>Castello del Poggio Moscato d'Asti</td>\n",
       "      <td>2021-12-17</td>\n",
       "      <td>NaN</td>\n",
       "      <td>vivino</td>\n",
       "    </tr>\n",
       "  </tbody>\n",
       "</table>\n",
       "</div>"
      ],
      "text/plain": [
       "      wid                                   wine       date review  source\n",
       "40     30                  Vietti Moscato d'Asti 2019-04-15    NaN  vivino\n",
       "83     31                         Villa M Bianco        NaT    NaN  vivino\n",
       "566    32  Michele Chiarlo Moscato d'Asti Nivole 2022-01-01    NaN  vivino\n",
       "576    32  Michele Chiarlo Moscato d'Asti Nivole 2022-02-07    NaN  vivino\n",
       "715    35           Balbi Soprani Moscato d'Asti 2020-10-19    NaN  vivino\n",
       "878    36             Gancia Moscato d'Asti N.V.        NaT    NaN  vivino\n",
       "911    37                   Tosti Moscato d'Asti 2018-05-28    NaN  vivino\n",
       "964    38              G.D. Vajra Moscato d'Asti        NaT    NaN  vivino\n",
       "1036   39     Castello del Poggio Moscato d'Asti 2021-12-17    NaN  vivino"
      ]
     },
     "execution_count": 16,
     "metadata": {},
     "output_type": "execute_result"
    }
   ],
   "source": [
    "cond = (df_reviews.date.isna()) | (df_reviews.review.isna())\n",
    "df_reviews.loc[cond]"
   ]
  },
  {
   "cell_type": "code",
   "execution_count": 17,
   "id": "1a192d4b-ef01-4279-9004-1abfb08ca53e",
   "metadata": {},
   "outputs": [],
   "source": [
    "df_reviews = df_reviews.loc[~cond].reset_index(drop=True)"
   ]
  },
  {
   "cell_type": "code",
   "execution_count": 18,
   "id": "8d9a594c-ae1f-44ba-ab72-997caa5d4094",
   "metadata": {},
   "outputs": [
    {
     "data": {
      "text/plain": [
       "date\n",
       "2024     31\n",
       "2023    315\n",
       "2022    566\n",
       "2021    110\n",
       "2020     13\n",
       "2019      3\n",
       "2017      1\n",
       "2016      1\n",
       "2014      1\n",
       "Name: count, dtype: int64"
      ]
     },
     "execution_count": 18,
     "metadata": {},
     "output_type": "execute_result"
    }
   ],
   "source": [
    "df_reviews.date.dt.year.value_counts().sort_index(ascending=False)"
   ]
  },
  {
   "cell_type": "code",
   "execution_count": 19,
   "id": "a1f48e7a-a07e-402b-8857-6c5a8b1bebbd",
   "metadata": {},
   "outputs": [
    {
     "data": {
      "text/plain": [
       "'20220101'"
      ]
     },
     "execution_count": 19,
     "metadata": {},
     "output_type": "execute_result"
    }
   ],
   "source": [
    "kwargs['end_date']"
   ]
  },
  {
   "cell_type": "code",
   "execution_count": 20,
   "id": "a3aafc5b-fc20-4e05-af1f-9197e8215b9e",
   "metadata": {},
   "outputs": [
    {
     "data": {
      "text/plain": [
       "<Axes: >"
      ]
     },
     "execution_count": 20,
     "metadata": {},
     "output_type": "execute_result"
    },
    {
     "data": {
      "image/png": "[encoded data removed]",
      "text/plain": [
       "<Figure size 640x480 with 1 Axes>"
      ]
     },
     "metadata": {},
     "output_type": "display_data"
    }
   ],
   "source": [
    "#d = df_reviews.date.agg(['min', 'max']).to_list()\n",
    "d = [kwargs['end_date'], df_reviews.date.max()]\n",
    "\n",
    "date_range = pd.date_range(start=d[0], end=d[1]).to_period(\"M\").unique()\n",
    "\n",
    "(df_reviews\n",
    " .set_index('date').to_period(\"M\")\n",
    " .groupby(level=0).review.count()\n",
    " .sort_index()\n",
    " .reindex(date_range, fill_value=0)\n",
    " .plot(kind='barh')\n",
    ")"
   ]
  },
  {
   "cell_type": "code",
   "execution_count": 21,
   "id": "c1ce0430-3dea-4a97-a0b9-010a6580d0b0",
   "metadata": {},
   "outputs": [
    {
     "data": {
      "text/plain": [
       "<Axes: ylabel='wine'>"
      ]
     },
     "execution_count": 21,
     "metadata": {},
     "output_type": "execute_result"
    },
    {
     "data": {
      "image/png": "[encoded data removed]",
      "text/plain": [
       "<Figure size 640x480 with 1 Axes>"
      ]
     },
     "metadata": {},
     "output_type": "display_data"
    }
   ],
   "source": [
    "(df_reviews\n",
    " .groupby(by='wine').review.count()\n",
    " .plot(kind='barh')\n",
    ")"
   ]
  },
  {
   "cell_type": "code",
   "execution_count": 22,
   "id": "920c9d82-167b-4f27-b6d5-2ea7258a55fe",
   "metadata": {},
   "outputs": [
    {
     "data": {
      "text/html": [
       "<div>\n",
       "<style scoped>\n",
       "    .dataframe tbody tr th:only-of-type {\n",
       "        vertical-align: middle;\n",
       "    }\n",
       "\n",
       "    .dataframe tbody tr th {\n",
       "        vertical-align: top;\n",
       "    }\n",
       "\n",
       "    .dataframe thead th {\n",
       "        text-align: right;\n",
       "    }\n",
       "</style>\n",
       "<table border=\"1\" class=\"dataframe\">\n",
       "  <thead>\n",
       "    <tr style=\"text-align: right;\">\n",
       "      <th></th>\n",
       "      <th>wid</th>\n",
       "      <th>wine</th>\n",
       "      <th>date</th>\n",
       "      <th>review</th>\n",
       "      <th>source</th>\n",
       "    </tr>\n",
       "  </thead>\n",
       "  <tbody>\n",
       "    <tr>\n",
       "      <th>0</th>\n",
       "      <td>30</td>\n",
       "      <td>Vietti Moscato d'Asti</td>\n",
       "      <td>2024-01-21</td>\n",
       "      <td>Moscato molto buono. Non eccessivamente gassat...</td>\n",
       "      <td>vivino</td>\n",
       "    </tr>\n",
       "    <tr>\n",
       "      <th>1</th>\n",
       "      <td>30</td>\n",
       "      <td>Vietti Moscato d'Asti</td>\n",
       "      <td>2024-01-21</td>\n",
       "      <td>This wine has a strong fruity scent and a plea...</td>\n",
       "      <td>vivino</td>\n",
       "    </tr>\n",
       "    <tr>\n",
       "      <th>2</th>\n",
       "      <td>30</td>\n",
       "      <td>Vietti Moscato d'Asti</td>\n",
       "      <td>2024-01-15</td>\n",
       "      <td>Slightly sweeter but served cold. Really tasty...</td>\n",
       "      <td>vivino</td>\n",
       "    </tr>\n",
       "    <tr>\n",
       "      <th>3</th>\n",
       "      <td>30</td>\n",
       "      <td>Vietti Moscato d'Asti</td>\n",
       "      <td>2024-01-05</td>\n",
       "      <td>Wedding mascato!!</td>\n",
       "      <td>vivino</td>\n",
       "    </tr>\n",
       "    <tr>\n",
       "      <th>4</th>\n",
       "      <td>30</td>\n",
       "      <td>Vietti Moscato d'Asti</td>\n",
       "      <td>2024-01-04</td>\n",
       "      <td>Комплексное, нежное игристое. Очень ароматное,...</td>\n",
       "      <td>vivino</td>\n",
       "    </tr>\n",
       "  </tbody>\n",
       "</table>\n",
       "</div>"
      ],
      "text/plain": [
       "   wid                   wine       date  \\\n",
       "0   30  Vietti Moscato d'Asti 2024-01-21   \n",
       "1   30  Vietti Moscato d'Asti 2024-01-21   \n",
       "2   30  Vietti Moscato d'Asti 2024-01-15   \n",
       "3   30  Vietti Moscato d'Asti 2024-01-05   \n",
       "4   30  Vietti Moscato d'Asti 2024-01-04   \n",
       "\n",
       "                                              review  source  \n",
       "0  Moscato molto buono. Non eccessivamente gassat...  vivino  \n",
       "1  This wine has a strong fruity scent and a plea...  vivino  \n",
       "2  Slightly sweeter but served cold. Really tasty...  vivino  \n",
       "3                                  Wedding mascato!!  vivino  \n",
       "4  Комплексное, нежное игристое. Очень ароматное,...  vivino  "
      ]
     },
     "execution_count": 22,
     "metadata": {},
     "output_type": "execute_result"
    }
   ],
   "source": [
    "df_reviews.head()"
   ]
  },
  {
   "cell_type": "markdown",
   "id": "eff4af90-e32e-48a3-937c-5f575f2b30b2",
   "metadata": {},
   "source": [
    "# Translate"
   ]
  },
  {
   "cell_type": "code",
   "execution_count": 23,
   "id": "ecb5329c-904f-4d51-bed5-61898c468786",
   "metadata": {},
   "outputs": [],
   "source": [
    "import langdetect\n",
    "import json\n",
    "from deep_translator import GoogleTranslator\n",
    "from tqdm import tqdm\n",
    "\n",
    "def detect_language(text):\n",
    "    try:\n",
    "        return langdetect.detect(text)\n",
    "    except KeyboardInterrupt as e:\n",
    "        raise(e)\n",
    "    except:\n",
    "        return '<-- ERROR -->'\n",
    "\n",
    "def get_translation(text):\n",
    "    try:\n",
    "        return GoogleTranslator(source='auto', target='en').translate(str(text))\n",
    "    except KeyboardInterrupt as e:\n",
    "        raise(e)\n",
    "    except:\n",
    "        return '<-- ERROR -->'"
   ]
  },
  {
   "cell_type": "code",
   "execution_count": 24,
   "id": "bdccba59-210d-4587-91bc-37ef80301dbe",
   "metadata": {},
   "outputs": [
    {
     "name": "stderr",
     "output_type": "stream",
     "text": [
      "100%|███████████████████████████████████████████████████████████| 1041/1041 [13:23<00:00,  1.30it/s]\n"
     ]
    }
   ],
   "source": [
    "tmp_data = []\n",
    "\n",
    "for rec in tqdm(df_reviews.to_dict('records')):\n",
    "    tmp_data.append({\n",
    "        #'wid': rec['wid'],\n",
    "        'lang': detect_language(rec['review']),\n",
    "        'review_transl': get_translation(rec['review'])\n",
    "    })"
   ]
  },
  {
   "cell_type": "code",
   "execution_count": 25,
   "id": "f3e3ecd4-49dc-4827-9a0a-efd0dd1a5978",
   "metadata": {},
   "outputs": [
    {
     "data": {
      "text/html": [
       "<div>\n",
       "<style scoped>\n",
       "    .dataframe tbody tr th:only-of-type {\n",
       "        vertical-align: middle;\n",
       "    }\n",
       "\n",
       "    .dataframe tbody tr th {\n",
       "        vertical-align: top;\n",
       "    }\n",
       "\n",
       "    .dataframe thead th {\n",
       "        text-align: right;\n",
       "    }\n",
       "</style>\n",
       "<table border=\"1\" class=\"dataframe\">\n",
       "  <thead>\n",
       "    <tr style=\"text-align: right;\">\n",
       "      <th></th>\n",
       "      <th>wid</th>\n",
       "      <th>wine</th>\n",
       "      <th>date</th>\n",
       "      <th>review</th>\n",
       "      <th>source</th>\n",
       "      <th>lang</th>\n",
       "      <th>review_transl</th>\n",
       "    </tr>\n",
       "  </thead>\n",
       "  <tbody>\n",
       "    <tr>\n",
       "      <th>0</th>\n",
       "      <td>30</td>\n",
       "      <td>Vietti Moscato d'Asti</td>\n",
       "      <td>2024-01-21</td>\n",
       "      <td>Moscato molto buono. Non eccessivamente gassat...</td>\n",
       "      <td>vivino</td>\n",
       "      <td>it</td>\n",
       "      <td>Very good Moscato. Not overly carbonated and n...</td>\n",
       "    </tr>\n",
       "    <tr>\n",
       "      <th>1</th>\n",
       "      <td>30</td>\n",
       "      <td>Vietti Moscato d'Asti</td>\n",
       "      <td>2024-01-21</td>\n",
       "      <td>This wine has a strong fruity scent and a plea...</td>\n",
       "      <td>vivino</td>\n",
       "      <td>en</td>\n",
       "      <td>This wine has a strong fruity scent and a plea...</td>\n",
       "    </tr>\n",
       "    <tr>\n",
       "      <th>2</th>\n",
       "      <td>30</td>\n",
       "      <td>Vietti Moscato d'Asti</td>\n",
       "      <td>2024-01-15</td>\n",
       "      <td>Slightly sweeter but served cold. Really tasty...</td>\n",
       "      <td>vivino</td>\n",
       "      <td>en</td>\n",
       "      <td>Slightly sweeter but served cold. Really tasty...</td>\n",
       "    </tr>\n",
       "    <tr>\n",
       "      <th>3</th>\n",
       "      <td>30</td>\n",
       "      <td>Vietti Moscato d'Asti</td>\n",
       "      <td>2024-01-05</td>\n",
       "      <td>Wedding mascato!!</td>\n",
       "      <td>vivino</td>\n",
       "      <td>it</td>\n",
       "      <td>Mascato wedding!!</td>\n",
       "    </tr>\n",
       "    <tr>\n",
       "      <th>4</th>\n",
       "      <td>30</td>\n",
       "      <td>Vietti Moscato d'Asti</td>\n",
       "      <td>2024-01-04</td>\n",
       "      <td>Комплексное, нежное игристое. Очень ароматное,...</td>\n",
       "      <td>vivino</td>\n",
       "      <td>ru</td>\n",
       "      <td>Complex, delicate sparkling. Very aromatic, li...</td>\n",
       "    </tr>\n",
       "  </tbody>\n",
       "</table>\n",
       "</div>"
      ],
      "text/plain": [
       "   wid                   wine       date  \\\n",
       "0   30  Vietti Moscato d'Asti 2024-01-21   \n",
       "1   30  Vietti Moscato d'Asti 2024-01-21   \n",
       "2   30  Vietti Moscato d'Asti 2024-01-15   \n",
       "3   30  Vietti Moscato d'Asti 2024-01-05   \n",
       "4   30  Vietti Moscato d'Asti 2024-01-04   \n",
       "\n",
       "                                              review  source lang  \\\n",
       "0  Moscato molto buono. Non eccessivamente gassat...  vivino   it   \n",
       "1  This wine has a strong fruity scent and a plea...  vivino   en   \n",
       "2  Slightly sweeter but served cold. Really tasty...  vivino   en   \n",
       "3                                  Wedding mascato!!  vivino   it   \n",
       "4  Комплексное, нежное игристое. Очень ароматное,...  vivino   ru   \n",
       "\n",
       "                                       review_transl  \n",
       "0  Very good Moscato. Not overly carbonated and n...  \n",
       "1  This wine has a strong fruity scent and a plea...  \n",
       "2  Slightly sweeter but served cold. Really tasty...  \n",
       "3                                  Mascato wedding!!  \n",
       "4  Complex, delicate sparkling. Very aromatic, li...  "
      ]
     },
     "execution_count": 25,
     "metadata": {},
     "output_type": "execute_result"
    }
   ],
   "source": [
    "df_reviews = df_reviews.merge(pd.DataFrame(tmp_data), left_index=True, right_index=True)\n",
    "df_reviews.head()"
   ]
  },
  {
   "cell_type": "markdown",
   "id": "31667a4a-9d5b-4b1a-a829-9300280e83e4",
   "metadata": {},
   "source": [
    "**check translation error**"
   ]
  },
  {
   "cell_type": "code",
   "execution_count": 26,
   "id": "4400c9e4-c634-4f1a-ab36-f4575d84d090",
   "metadata": {},
   "outputs": [
    {
     "data": {
      "text/html": [
       "<div>\n",
       "<style scoped>\n",
       "    .dataframe tbody tr th:only-of-type {\n",
       "        vertical-align: middle;\n",
       "    }\n",
       "\n",
       "    .dataframe tbody tr th {\n",
       "        vertical-align: top;\n",
       "    }\n",
       "\n",
       "    .dataframe thead th {\n",
       "        text-align: right;\n",
       "    }\n",
       "</style>\n",
       "<table border=\"1\" class=\"dataframe\">\n",
       "  <thead>\n",
       "    <tr style=\"text-align: right;\">\n",
       "      <th></th>\n",
       "      <th>wid</th>\n",
       "      <th>wine</th>\n",
       "      <th>date</th>\n",
       "      <th>review</th>\n",
       "      <th>source</th>\n",
       "      <th>lang</th>\n",
       "      <th>review_transl</th>\n",
       "    </tr>\n",
       "  </thead>\n",
       "  <tbody>\n",
       "    <tr>\n",
       "      <th>21</th>\n",
       "      <td>30</td>\n",
       "      <td>Vietti Moscato d'Asti</td>\n",
       "      <td>2023-04-03</td>\n",
       "      <td>😙😙😙</td>\n",
       "      <td>vivino</td>\n",
       "      <td>&lt;-- ERROR --&gt;</td>\n",
       "      <td>None</td>\n",
       "    </tr>\n",
       "    <tr>\n",
       "      <th>134</th>\n",
       "      <td>32</td>\n",
       "      <td>Michele Chiarlo Moscato d'Asti Nivole</td>\n",
       "      <td>2023-07-01</td>\n",
       "      <td>❤️❤️❤️❤️❤️</td>\n",
       "      <td>vivino</td>\n",
       "      <td>&lt;-- ERROR --&gt;</td>\n",
       "      <td>None</td>\n",
       "    </tr>\n",
       "    <tr>\n",
       "      <th>256</th>\n",
       "      <td>32</td>\n",
       "      <td>Michele Chiarlo Moscato d'Asti Nivole</td>\n",
       "      <td>2022-12-17</td>\n",
       "      <td>6/7</td>\n",
       "      <td>vivino</td>\n",
       "      <td>&lt;-- ERROR --&gt;</td>\n",
       "      <td>6/7</td>\n",
       "    </tr>\n",
       "    <tr>\n",
       "      <th>352</th>\n",
       "      <td>32</td>\n",
       "      <td>Michele Chiarlo Moscato d'Asti Nivole</td>\n",
       "      <td>2022-07-28</td>\n",
       "      <td>👍🏻</td>\n",
       "      <td>vivino</td>\n",
       "      <td>&lt;-- ERROR --&gt;</td>\n",
       "      <td>None</td>\n",
       "    </tr>\n",
       "    <tr>\n",
       "      <th>450</th>\n",
       "      <td>32</td>\n",
       "      <td>Michele Chiarlo Moscato d'Asti Nivole</td>\n",
       "      <td>2022-03-08</td>\n",
       "      <td>😊👍</td>\n",
       "      <td>vivino</td>\n",
       "      <td>&lt;-- ERROR --&gt;</td>\n",
       "      <td>None</td>\n",
       "    </tr>\n",
       "    <tr>\n",
       "      <th>459</th>\n",
       "      <td>32</td>\n",
       "      <td>Michele Chiarlo Moscato d'Asti Nivole</td>\n",
       "      <td>2022-03-01</td>\n",
       "      <td>4.0 ⭐️</td>\n",
       "      <td>vivino</td>\n",
       "      <td>&lt;-- ERROR --&gt;</td>\n",
       "      <td>4.0 ⭐️</td>\n",
       "    </tr>\n",
       "    <tr>\n",
       "      <th>469</th>\n",
       "      <td>32</td>\n",
       "      <td>Michele Chiarlo Moscato d'Asti Nivole</td>\n",
       "      <td>2022-02-22</td>\n",
       "      <td>👌🏾👌🏾👌🏾</td>\n",
       "      <td>vivino</td>\n",
       "      <td>&lt;-- ERROR --&gt;</td>\n",
       "      <td>None</td>\n",
       "    </tr>\n",
       "    <tr>\n",
       "      <th>506</th>\n",
       "      <td>32</td>\n",
       "      <td>Michele Chiarlo Moscato d'Asti Nivole</td>\n",
       "      <td>2022-01-21</td>\n",
       "      <td>!</td>\n",
       "      <td>vivino</td>\n",
       "      <td>&lt;-- ERROR --&gt;</td>\n",
       "      <td>None</td>\n",
       "    </tr>\n",
       "    <tr>\n",
       "      <th>529</th>\n",
       "      <td>32</td>\n",
       "      <td>Michele Chiarlo Moscato d'Asti Nivole</td>\n",
       "      <td>2022-01-08</td>\n",
       "      <td>.</td>\n",
       "      <td>vivino</td>\n",
       "      <td>&lt;-- ERROR --&gt;</td>\n",
       "      <td>None</td>\n",
       "    </tr>\n",
       "    <tr>\n",
       "      <th>545</th>\n",
       "      <td>32</td>\n",
       "      <td>Michele Chiarlo Moscato d'Asti Nivole</td>\n",
       "      <td>2022-01-01</td>\n",
       "      <td>4.1</td>\n",
       "      <td>vivino</td>\n",
       "      <td>&lt;-- ERROR --&gt;</td>\n",
       "      <td>4.1</td>\n",
       "    </tr>\n",
       "    <tr>\n",
       "      <th>620</th>\n",
       "      <td>33</td>\n",
       "      <td>Canti Moscato d'Asti</td>\n",
       "      <td>2022-02-18</td>\n",
       "      <td>+ 0.5</td>\n",
       "      <td>vivino</td>\n",
       "      <td>&lt;-- ERROR --&gt;</td>\n",
       "      <td>+ 0.5</td>\n",
       "    </tr>\n",
       "    <tr>\n",
       "      <th>624</th>\n",
       "      <td>33</td>\n",
       "      <td>Canti Moscato d'Asti</td>\n",
       "      <td>2022-02-11</td>\n",
       "      <td>21.02.10</td>\n",
       "      <td>vivino</td>\n",
       "      <td>&lt;-- ERROR --&gt;</td>\n",
       "      <td>21.02.10</td>\n",
       "    </tr>\n",
       "    <tr>\n",
       "      <th>674</th>\n",
       "      <td>34</td>\n",
       "      <td>Vallebelbo Moscato d'Asti</td>\n",
       "      <td>2022-01-14</td>\n",
       "      <td>12,000</td>\n",
       "      <td>vivino</td>\n",
       "      <td>&lt;-- ERROR --&gt;</td>\n",
       "      <td>12,000</td>\n",
       "    </tr>\n",
       "    <tr>\n",
       "      <th>704</th>\n",
       "      <td>35</td>\n",
       "      <td>Balbi Soprani Moscato d'Asti</td>\n",
       "      <td>2022-01-21</td>\n",
       "      <td>5</td>\n",
       "      <td>vivino</td>\n",
       "      <td>&lt;-- ERROR --&gt;</td>\n",
       "      <td>5</td>\n",
       "    </tr>\n",
       "    <tr>\n",
       "      <th>807</th>\n",
       "      <td>36</td>\n",
       "      <td>Gancia Moscato d'Asti N.V.</td>\n",
       "      <td>2022-05-19</td>\n",
       "      <td>👌🥂🥂🥂 🇮🇹</td>\n",
       "      <td>vivino</td>\n",
       "      <td>&lt;-- ERROR --&gt;</td>\n",
       "      <td>None</td>\n",
       "    </tr>\n",
       "    <tr>\n",
       "      <th>859</th>\n",
       "      <td>36</td>\n",
       "      <td>Gancia Moscato d'Asti N.V.</td>\n",
       "      <td>2021-12-25</td>\n",
       "      <td>.</td>\n",
       "      <td>vivino</td>\n",
       "      <td>&lt;-- ERROR --&gt;</td>\n",
       "      <td>None</td>\n",
       "    </tr>\n",
       "    <tr>\n",
       "      <th>904</th>\n",
       "      <td>37</td>\n",
       "      <td>Tosti Moscato d'Asti</td>\n",
       "      <td>2021-08-29</td>\n",
       "      <td>ㅡㅡ</td>\n",
       "      <td>vivino</td>\n",
       "      <td>&lt;-- ERROR --&gt;</td>\n",
       "      <td>ㅡㅡ</td>\n",
       "    </tr>\n",
       "    <tr>\n",
       "      <th>1022</th>\n",
       "      <td>39</td>\n",
       "      <td>Castello del Poggio Moscato d'Asti</td>\n",
       "      <td>2022-01-21</td>\n",
       "      <td>4</td>\n",
       "      <td>vivino</td>\n",
       "      <td>&lt;-- ERROR --&gt;</td>\n",
       "      <td>4</td>\n",
       "    </tr>\n",
       "    <tr>\n",
       "      <th>1023</th>\n",
       "      <td>39</td>\n",
       "      <td>Castello del Poggio Moscato d'Asti</td>\n",
       "      <td>2022-01-16</td>\n",
       "      <td>3.9</td>\n",
       "      <td>vivino</td>\n",
       "      <td>&lt;-- ERROR --&gt;</td>\n",
       "      <td>3.9</td>\n",
       "    </tr>\n",
       "  </tbody>\n",
       "</table>\n",
       "</div>"
      ],
      "text/plain": [
       "      wid                                   wine       date      review  \\\n",
       "21     30                  Vietti Moscato d'Asti 2023-04-03         😙😙😙   \n",
       "134    32  Michele Chiarlo Moscato d'Asti Nivole 2023-07-01  ❤️❤️❤️❤️❤️   \n",
       "256    32  Michele Chiarlo Moscato d'Asti Nivole 2022-12-17         6/7   \n",
       "352    32  Michele Chiarlo Moscato d'Asti Nivole 2022-07-28          👍🏻   \n",
       "450    32  Michele Chiarlo Moscato d'Asti Nivole 2022-03-08          😊👍   \n",
       "459    32  Michele Chiarlo Moscato d'Asti Nivole 2022-03-01      4.0 ⭐️   \n",
       "469    32  Michele Chiarlo Moscato d'Asti Nivole 2022-02-22      👌🏾👌🏾👌🏾   \n",
       "506    32  Michele Chiarlo Moscato d'Asti Nivole 2022-01-21           !   \n",
       "529    32  Michele Chiarlo Moscato d'Asti Nivole 2022-01-08           .   \n",
       "545    32  Michele Chiarlo Moscato d'Asti Nivole 2022-01-01         4.1   \n",
       "620    33                   Canti Moscato d'Asti 2022-02-18       + 0.5   \n",
       "624    33                   Canti Moscato d'Asti 2022-02-11    21.02.10   \n",
       "674    34              Vallebelbo Moscato d'Asti 2022-01-14      12,000   \n",
       "704    35           Balbi Soprani Moscato d'Asti 2022-01-21           5   \n",
       "807    36             Gancia Moscato d'Asti N.V. 2022-05-19     👌🥂🥂🥂 🇮🇹   \n",
       "859    36             Gancia Moscato d'Asti N.V. 2021-12-25           .   \n",
       "904    37                   Tosti Moscato d'Asti 2021-08-29          ㅡㅡ   \n",
       "1022   39     Castello del Poggio Moscato d'Asti 2022-01-21           4   \n",
       "1023   39     Castello del Poggio Moscato d'Asti 2022-01-16         3.9   \n",
       "\n",
       "      source           lang review_transl  \n",
       "21    vivino  <-- ERROR -->          None  \n",
       "134   vivino  <-- ERROR -->          None  \n",
       "256   vivino  <-- ERROR -->           6/7  \n",
       "352   vivino  <-- ERROR -->          None  \n",
       "450   vivino  <-- ERROR -->          None  \n",
       "459   vivino  <-- ERROR -->        4.0 ⭐️  \n",
       "469   vivino  <-- ERROR -->          None  \n",
       "506   vivino  <-- ERROR -->          None  \n",
       "529   vivino  <-- ERROR -->          None  \n",
       "545   vivino  <-- ERROR -->           4.1  \n",
       "620   vivino  <-- ERROR -->         + 0.5  \n",
       "624   vivino  <-- ERROR -->      21.02.10  \n",
       "674   vivino  <-- ERROR -->        12,000  \n",
       "704   vivino  <-- ERROR -->             5  \n",
       "807   vivino  <-- ERROR -->          None  \n",
       "859   vivino  <-- ERROR -->          None  \n",
       "904   vivino  <-- ERROR -->            ㅡㅡ  \n",
       "1022  vivino  <-- ERROR -->             4  \n",
       "1023  vivino  <-- ERROR -->           3.9  "
      ]
     },
     "execution_count": 26,
     "metadata": {},
     "output_type": "execute_result"
    }
   ],
   "source": [
    "cond = df_reviews.lang.str.contains('ERROR')\n",
    "df_reviews.loc[cond]"
   ]
  },
  {
   "cell_type": "code",
   "execution_count": null,
   "id": "c61580ed-da11-4992-9fcf-47a5a88e5635",
   "metadata": {},
   "outputs": [],
   "source": [
    "#cond = df_reviews.review_transl.isna()\n",
    "#df_reviews.loc[cond]"
   ]
  },
  {
   "cell_type": "code",
   "execution_count": 27,
   "id": "792cbd88-2ee8-408e-afd3-a60cfc85c277",
   "metadata": {},
   "outputs": [],
   "source": [
    "df_reviews = df_reviews.loc[~cond]"
   ]
  },
  {
   "cell_type": "markdown",
   "id": "25f7621f-96fa-4ffb-85e3-88f1053a85b5",
   "metadata": {},
   "source": [
    "**save final data**"
   ]
  },
  {
   "cell_type": "code",
   "execution_count": 28,
   "id": "b1204894-12cc-4b17-aec3-14198af29d2b",
   "metadata": {},
   "outputs": [
    {
     "name": "stdout",
     "output_type": "stream",
     "text": [
      "data/wine_reviews_240213.csv saved.\n"
     ]
    }
   ],
   "source": [
    "from datetime import datetime\n",
    "d = datetime.today().strftime('%y%m%d')\n",
    "save_reviews(df_reviews, f'wine_reviews_{d}.csv')"
   ]
  },
  {
   "cell_type": "code",
   "execution_count": 31,
   "id": "4c61b011-4b52-4c34-8aee-1cb7e1c1b766",
   "metadata": {},
   "outputs": [
    {
     "name": "stdout",
     "output_type": "stream",
     "text": [
      "Archive:  wine_reviews.zip\n",
      "  Length      Date    Time    Name\n",
      "---------  ---------- -----   ----\n",
      "   343369  2024-02-07 16:58   wine_reviews_240124.csv\n",
      "   334512  2024-02-07 18:16   wine_reviews_240207.csv\n",
      "   529775  2024-02-12 20:13   wine_reviews_240212.csv\n",
      "   213076  2024-02-13 16:19   wine_reviews_240213.csv\n",
      "---------                     -------\n",
      "  1420732                     4 files\n"
     ]
    }
   ],
   "source": [
    "!unzip -l wine_reviews.zip"
   ]
  },
  {
   "cell_type": "code",
   "execution_count": 30,
   "id": "fb6a923f-c010-44e3-82be-8938448ac6b3",
   "metadata": {},
   "outputs": [
    {
     "name": "stdout",
     "output_type": "stream",
     "text": [
      "  adding: wine_reviews_240213.csv (deflated 71%)\n"
     ]
    }
   ],
   "source": [
    "!zip -uj wine_reviews.zip data/wine_reviews_2*csv"
   ]
  },
  {
   "cell_type": "code",
   "execution_count": 31,
   "id": "530256d5-39f4-40f5-905a-b2e812e294cc",
   "metadata": {},
   "outputs": [
    {
     "name": "stdout",
     "output_type": "stream",
     "text": [
      "  adding: wine_reviews_240124.csv (deflated 70%)\n",
      "  adding: wine_reviews_240207.csv (deflated 69%)\n"
     ]
    }
   ],
   "source": [
    "#!zip -j wine_reviews.zip data/wine_reviews_2*csv"
   ]
  },
  {
   "cell_type": "code",
   "execution_count": null,
   "id": "621f3c85-a7cc-4cae-bab3-7c3e9c08cc9e",
   "metadata": {},
   "outputs": [],
   "source": []
  }
 ],
 "metadata": {
  "kernelspec": {
   "display_name": "scrap2",
   "language": "python",
   "name": "scrap2"
  },
  "language_info": {
   "codemirror_mode": {
    "name": "ipython",
    "version": 3
   },
   "file_extension": ".py",
   "mimetype": "text/x-python",
   "name": "python",
   "nbconvert_exporter": "python",
   "pygments_lexer": "ipython3",
   "version": "3.9.18"
  }
 },
 "nbformat": 4,
 "nbformat_minor": 5
}
