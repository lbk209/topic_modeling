{
 "cells": [
  {
   "cell_type": "markdown",
   "id": "dfe9f533-a812-461d-a7d0-a2427be120e6",
   "metadata": {},
   "source": [
    "# Setting"
   ]
  },
  {
   "cell_type": "code",
   "execution_count": 1,
   "id": "48b78785-892f-420c-b7d3-4db00fd3c5ce",
   "metadata": {},
   "outputs": [
    {
     "name": "stderr",
     "output_type": "stream",
     "text": [
      "/home/lbk/.cache/pypoetry/virtualenvs/scrap2-pSsZr_wz-py3.9/lib/python3.9/site-packages/tqdm/auto.py:21: TqdmWarning: IProgress not found. Please update jupyter and ipywidgets. See https://ipywidgets.readthedocs.io/en/stable/user_install.html\n",
      "  from .autonotebook import tqdm as notebook_tqdm\n"
     ]
    }
   ],
   "source": [
    "from vivino_community_reviews import save_reviews, load_reviews\n",
    "from vivino_community_reviews import vivino_reviews, concat_reviews, check_url, check_duplicated, check_wine"
   ]
  },
  {
   "cell_type": "code",
   "execution_count": 2,
   "id": "daebf455-6907-4c2b-8a65-d465954350bb",
   "metadata": {},
   "outputs": [],
   "source": [
    "import os\n",
    "import pandas as pd\n",
    "import time\n",
    "\n",
    "def read_csv(files, path_data, **kwargs):\n",
    "    \"\"\"\n",
    "    kwargs: keyword args for pd.read_csv\n",
    "    \"\"\"\n",
    "    if not isinstance(files, list):\n",
    "        files = [x for x in os.listdir(path_data) if x.startswith(files)]\n",
    "\n",
    "    df_reviews = pd.DataFrame()\n",
    "    for f in files:\n",
    "        df = pd.read_csv(f'{path_data}/{f}', **kwargs)\n",
    "        df_reviews = pd.concat([df_reviews, df])\n",
    "\n",
    "    return df_reviews.reset_index(drop=True)\n",
    "\n",
    "\n",
    "import langdetect\n",
    "import json\n",
    "from deep_translator import GoogleTranslator\n",
    "from tqdm import tqdm\n",
    "\n",
    "def detect_language(text):\n",
    "    try:\n",
    "        return langdetect.detect(text)\n",
    "    except KeyboardInterrupt as e:\n",
    "        raise(e)\n",
    "    except:\n",
    "        return '<-- ERROR -->'\n",
    "\n",
    "\n",
    "def get_translation(text):\n",
    "    try:\n",
    "        return GoogleTranslator(source='auto', target='en').translate(str(text))\n",
    "    except KeyboardInterrupt as e:\n",
    "        raise(e)\n",
    "    except:\n",
    "        return '<-- ERROR -->'\n",
    "\n",
    "\n",
    "def translate_reviews(df, merge=True):\n",
    "    df = df.reset_index(drop=True)\n",
    "    \n",
    "    tmp_data = []\n",
    "    for rec in tqdm(df.to_dict('records')):\n",
    "        tmp_data.append({\n",
    "            #'wid': rec['wid'],\n",
    "            'lang': detect_language(rec['review']),\n",
    "            'review_transl': get_translation(rec['review'])\n",
    "        })\n",
    "\n",
    "    df_trans = pd.DataFrame(tmp_data)\n",
    "    if merge:\n",
    "        df_trans = df.merge(df_trans, left_index=True, right_index=True)\n",
    "\n",
    "    return df_trans"
   ]
  },
  {
   "cell_type": "markdown",
   "id": "3453086d-7ea2-4ce6-939d-c5e07cd25e2a",
   "metadata": {},
   "source": [
    "# Existing"
   ]
  },
  {
   "cell_type": "code",
   "execution_count": 74,
   "id": "968df0c7-69dd-4a86-9fa6-e897b1c86f72",
   "metadata": {},
   "outputs": [
    {
     "name": "stdout",
     "output_type": "stream",
     "text": [
      "Archive:  wine_reviews.zip\n",
      "  Length      Date    Time    Name\n",
      "---------  ---------- -----   ----\n",
      "  2316640  2024-03-19 20:37   wine_reviews_240319e.csv\n",
      "---------                     -------\n",
      "  2316640                     1 file\n"
     ]
    }
   ],
   "source": [
    "!unzip -l wine_reviews.zip"
   ]
  },
  {
   "cell_type": "code",
   "execution_count": 75,
   "id": "084738b8-29ec-4bcb-a762-820de3bb7ac6",
   "metadata": {},
   "outputs": [
    {
     "data": {
      "text/plain": [
       "9891"
      ]
     },
     "execution_count": 75,
     "metadata": {},
     "output_type": "execute_result"
    }
   ],
   "source": [
    "file = 'wine_reviews_2' # exclude wine_reviews_tmp.csv\n",
    "#file = ['wine_reviews_240319b.csv', 'wine_reviews_240319c.csv', 'wine_reviews_240319d.csv']\n",
    "#file = ['wine_reviews_240319e.csv']\n",
    "        \n",
    "df_reviews = read_csv(file, 'data')\n",
    "len(df_reviews)"
   ]
  },
  {
   "cell_type": "code",
   "execution_count": 76,
   "id": "083ea651-315c-401a-8b75-d60827b53168",
   "metadata": {},
   "outputs": [
    {
     "data": {
      "text/html": [
       "<div>\n",
       "<style scoped>\n",
       "    .dataframe tbody tr th:only-of-type {\n",
       "        vertical-align: middle;\n",
       "    }\n",
       "\n",
       "    .dataframe tbody tr th {\n",
       "        vertical-align: top;\n",
       "    }\n",
       "\n",
       "    .dataframe thead th {\n",
       "        text-align: right;\n",
       "    }\n",
       "</style>\n",
       "<table border=\"1\" class=\"dataframe\">\n",
       "  <thead>\n",
       "    <tr style=\"text-align: right;\">\n",
       "      <th></th>\n",
       "      <th>wid</th>\n",
       "      <th>wine</th>\n",
       "      <th>date</th>\n",
       "      <th>review</th>\n",
       "      <th>source</th>\n",
       "      <th>lang</th>\n",
       "      <th>review_transl</th>\n",
       "      <th>style</th>\n",
       "    </tr>\n",
       "  </thead>\n",
       "  <tbody>\n",
       "    <tr>\n",
       "      <th>0</th>\n",
       "      <td>40</td>\n",
       "      <td>Arione Moscato d'Asti</td>\n",
       "      <td>2023-11-06</td>\n",
       "      <td>pera pesca nota tropicale minerali</td>\n",
       "      <td>vivino</td>\n",
       "      <td>it</td>\n",
       "      <td>pear peach tropical note minerals</td>\n",
       "      <td>sparkling</td>\n",
       "    </tr>\n",
       "    <tr>\n",
       "      <th>1</th>\n",
       "      <td>40</td>\n",
       "      <td>Arione Moscato d'Asti</td>\n",
       "      <td>2023-10-17</td>\n",
       "      <td>Ottimo</td>\n",
       "      <td>vivino</td>\n",
       "      <td>it</td>\n",
       "      <td>Optimal</td>\n",
       "      <td>sparkling</td>\n",
       "    </tr>\n",
       "    <tr>\n",
       "      <th>2</th>\n",
       "      <td>40</td>\n",
       "      <td>Arione Moscato d'Asti</td>\n",
       "      <td>2023-10-09</td>\n",
       "      <td>조금 산뜻한 향, 처음 마시고 조금 있는 바디감, Saracco보다 조금 덜 달게 ...</td>\n",
       "      <td>vivino</td>\n",
       "      <td>ko</td>\n",
       "      <td>A slightly refreshing scent, a bit of body whe...</td>\n",
       "      <td>sparkling</td>\n",
       "    </tr>\n",
       "    <tr>\n",
       "      <th>3</th>\n",
       "      <td>40</td>\n",
       "      <td>Arione Moscato d'Asti</td>\n",
       "      <td>2023-10-08</td>\n",
       "      <td>Afrutado, delicioso.</td>\n",
       "      <td>vivino</td>\n",
       "      <td>es</td>\n",
       "      <td>Fruity, delicious.</td>\n",
       "      <td>sparkling</td>\n",
       "    </tr>\n",
       "    <tr>\n",
       "      <th>4</th>\n",
       "      <td>40</td>\n",
       "      <td>Arione Moscato d'Asti</td>\n",
       "      <td>2023-07-21</td>\n",
       "      <td>honey apple peach citrus Slight fizziness ligh...</td>\n",
       "      <td>vivino</td>\n",
       "      <td>en</td>\n",
       "      <td>honey apple peach citrus Slight fizziness ligh...</td>\n",
       "      <td>sparkling</td>\n",
       "    </tr>\n",
       "  </tbody>\n",
       "</table>\n",
       "</div>"
      ],
      "text/plain": [
       "   wid                   wine        date  \\\n",
       "0   40  Arione Moscato d'Asti  2023-11-06   \n",
       "1   40  Arione Moscato d'Asti  2023-10-17   \n",
       "2   40  Arione Moscato d'Asti  2023-10-09   \n",
       "3   40  Arione Moscato d'Asti  2023-10-08   \n",
       "4   40  Arione Moscato d'Asti  2023-07-21   \n",
       "\n",
       "                                              review  source lang  \\\n",
       "0                 pera pesca nota tropicale minerali  vivino   it   \n",
       "1                                             Ottimo  vivino   it   \n",
       "2  조금 산뜻한 향, 처음 마시고 조금 있는 바디감, Saracco보다 조금 덜 달게 ...  vivino   ko   \n",
       "3                               Afrutado, delicioso.  vivino   es   \n",
       "4  honey apple peach citrus Slight fizziness ligh...  vivino   en   \n",
       "\n",
       "                                       review_transl      style  \n",
       "0                  pear peach tropical note minerals  sparkling  \n",
       "1                                            Optimal  sparkling  \n",
       "2  A slightly refreshing scent, a bit of body whe...  sparkling  \n",
       "3                                 Fruity, delicious.  sparkling  \n",
       "4  honey apple peach citrus Slight fizziness ligh...  sparkling  "
      ]
     },
     "execution_count": 76,
     "metadata": {},
     "output_type": "execute_result"
    }
   ],
   "source": [
    "df_reviews.head()"
   ]
  },
  {
   "cell_type": "code",
   "execution_count": 69,
   "id": "45749522-6527-4830-ac95-7043b5494c2f",
   "metadata": {},
   "outputs": [
    {
     "data": {
      "text/plain": [
       "wid  wine                                                   \n",
       "0    Casillero del Diablo Cabernet Sauvignon (Reserva)          472\n",
       "1    Yellow Tail Cabernet Sauvignon                             136\n",
       "2    Roche Mazet Cuvée Spéciale Cabernet Sauvignon               61\n",
       "3    San Pedro Gato Negro Cabernet Sauvignon                    878\n",
       "4    Aguirre Dos Copas Cabernet Sauvignon                         7\n",
       "                                                               ... \n",
       "64   Dark Horse Cabernet Sauvignon                              275\n",
       "65   14 Hands Cabernet Sauvignon                                106\n",
       "66   Quebrada de Macul Alba de Domus                             28\n",
       "67   Montes Montes Alpha Special Cuvée Cabernet Sauvignon        37\n",
       "68   Masseria Borgo dei Trulli Lucale Appassimento Primitivo     63\n",
       "Name: review_transl, Length: 69, dtype: int64"
      ]
     },
     "execution_count": 69,
     "metadata": {},
     "output_type": "execute_result"
    }
   ],
   "source": [
    "df_reviews.groupby(['wid', 'wine']).review_transl.count().sort_index(level=0)"
   ]
  },
  {
   "cell_type": "code",
   "execution_count": 6,
   "id": "785c982e-9320-477d-9f1b-ad2aac029cb9",
   "metadata": {},
   "outputs": [
    {
     "data": {
      "text/plain": [
       "69"
      ]
     },
     "execution_count": 6,
     "metadata": {},
     "output_type": "execute_result"
    }
   ],
   "source": [
    "df_reviews.wid.nunique()"
   ]
  },
  {
   "cell_type": "code",
   "execution_count": 7,
   "id": "7471b029-1f3c-4358-9ab6-948088177007",
   "metadata": {},
   "outputs": [
    {
     "data": {
      "text/plain": [
       "69"
      ]
     },
     "execution_count": 7,
     "metadata": {},
     "output_type": "execute_result"
    }
   ],
   "source": [
    "id_start = df_reviews.wid.max() + 1\n",
    "id_start"
   ]
  },
  {
   "cell_type": "code",
   "execution_count": 8,
   "id": "64050c39-7fd2-4c26-b0ec-785302e37ad6",
   "metadata": {},
   "outputs": [
    {
     "data": {
      "text/plain": [
       "[]"
      ]
     },
     "execution_count": 8,
     "metadata": {},
     "output_type": "execute_result"
    }
   ],
   "source": [
    "# wid missing\n",
    "mwid = set(range(df_reviews.wid.max())) - set(df_reviews.wid.unique())\n",
    "mwid = list(mwid)\n",
    "mwid"
   ]
  },
  {
   "cell_type": "markdown",
   "id": "1e006be1-4ee4-4d5f-b2c0-532fd486fefb",
   "metadata": {},
   "source": [
    "## Check duplicates"
   ]
  },
  {
   "cell_type": "code",
   "execution_count": 9,
   "id": "62a2f100-e031-4761-8fed-14a4db9be4af",
   "metadata": {},
   "outputs": [
    {
     "data": {
      "text/html": [
       "<div>\n",
       "<style scoped>\n",
       "    .dataframe tbody tr th:only-of-type {\n",
       "        vertical-align: middle;\n",
       "    }\n",
       "\n",
       "    .dataframe tbody tr th {\n",
       "        vertical-align: top;\n",
       "    }\n",
       "\n",
       "    .dataframe thead th {\n",
       "        text-align: right;\n",
       "    }\n",
       "</style>\n",
       "<table border=\"1\" class=\"dataframe\">\n",
       "  <thead>\n",
       "    <tr style=\"text-align: right;\">\n",
       "      <th></th>\n",
       "      <th>wid</th>\n",
       "      <th>wine</th>\n",
       "      <th>date</th>\n",
       "      <th>review</th>\n",
       "      <th>source</th>\n",
       "      <th>lang</th>\n",
       "      <th>review_transl</th>\n",
       "    </tr>\n",
       "  </thead>\n",
       "  <tbody>\n",
       "  </tbody>\n",
       "</table>\n",
       "</div>"
      ],
      "text/plain": [
       "Empty DataFrame\n",
       "Columns: [wid, wine, date, review, source, lang, review_transl]\n",
       "Index: []"
      ]
     },
     "execution_count": 9,
     "metadata": {},
     "output_type": "execute_result"
    }
   ],
   "source": [
    "check_duplicated(df_reviews)"
   ]
  },
  {
   "cell_type": "markdown",
   "id": "13c4cf2a-7b1f-43d5-8eb9-188696ce3f5c",
   "metadata": {},
   "source": [
    "*uncomment if duplicates exist*"
   ]
  },
  {
   "cell_type": "code",
   "execution_count": 77,
   "id": "ae58e8d3-25c5-4721-b302-6f1d8fb8b8b0",
   "metadata": {},
   "outputs": [],
   "source": [
    "df_reviews = check_duplicated(df_reviews, drop=True)"
   ]
  },
  {
   "cell_type": "code",
   "execution_count": 78,
   "id": "5cdcb700-7339-4ef9-b62a-3ca1210c22ae",
   "metadata": {},
   "outputs": [
    {
     "data": {
      "text/plain": [
       "173"
      ]
     },
     "execution_count": 78,
     "metadata": {},
     "output_type": "execute_result"
    }
   ],
   "source": [
    "len(df_reviews)"
   ]
  },
  {
   "cell_type": "markdown",
   "id": "75b09696-2a65-463b-a4c4-76f1a194afd4",
   "metadata": {},
   "source": [
    "# Scraping"
   ]
  },
  {
   "cell_type": "markdown",
   "id": "ad718d1c-8263-42ca-bb55-f3dff78a29bb",
   "metadata": {},
   "source": [
    "## Wines"
   ]
  },
  {
   "cell_type": "code",
   "execution_count": 12,
   "id": "9b9b7b41-ee3f-4e00-86b3-688501e5e9cf",
   "metadata": {},
   "outputs": [],
   "source": [
    "from wine_scrapers import simple_scraper"
   ]
  },
  {
   "cell_type": "code",
   "execution_count": 13,
   "id": "7c9a37c5-1d86-487b-a392-6329388955fe",
   "metadata": {},
   "outputs": [],
   "source": [
    "url = 'https://www.gsshop.com/shop/wine/plan.gs?planSeq=175966&planType=R&lseq=424328-5'\n",
    "wines, _ = simple_scraper(url, 'prd-name', 'prd-desc')"
   ]
  },
  {
   "cell_type": "code",
   "execution_count": 14,
   "id": "6a224e73-c40f-4e1c-99fc-772e6d0a62d2",
   "metadata": {},
   "outputs": [
    {
     "data": {
      "text/plain": [
       "{'몬테스)알파 블랙 카버네소비뇽': 'Montes Alpha Black C/S',\n",
       " '카니버 카버네 소비뇽': 'CARNIVOR CABERNET SAUVIGNON',\n",
       " '킬리카눈 코브넌트 쉬라즈': 'KILIKANOON COVENANT SHIRAZ',\n",
       " '투 핸즈)엔젤스 쉐어 쉬라즈': \"Two Hands Angel's Share\",\n",
       " '디아블로)블랙 카베르네 소비뇽': 'DIABLO BLACK CABERNET SAUVIGNON',\n",
       " '카를로 사니 수수마니엘로': 'Carlo Sani, Susumaniello',\n",
       " '다렌버그 하이 트렐리스 카베르네 소비뇽': 'The High Trellis Cabernet Sauvignon',\n",
       " '보데가스 란 그란 리제르바': 'BODEGAS LAN GRAN RESERVA',\n",
       " '포스타 레드와인(2입)': 'Four Star Red',\n",
       " '우드브릿지 까베르네 소비뇽': 'Woodbridge Cabernet Sauvignon',\n",
       " '까테나 자파타)까테나 까베르네소비뇽': 'Catena Zapata Catena Cabernet Sauvignon',\n",
       " '우나니메)피노누아': 'UNANIME PINOT NOIR',\n",
       " '끌로 드 로스 씨에떼': 'Clos de Los Siete',\n",
       " '필리프 수퍼 토스카나(선물추천)': 'Philip (Super Toscana)',\n",
       " '라포스톨)그랑 셀렉션 메를로': 'Lapostolle Merlot',\n",
       " '델리카토)1924 포트 배럴 에이지드 피노누아': '1924 Port Barrel Aged Pinot Noir',\n",
       " '코폴라)다이아컬렉션 클라렛': 'Coppola-Diamond Collection Claret',\n",
       " '다크호스 카버네 소비뇽': 'DARK HORSE CABERNET SAUVIGNON',\n",
       " '14 핸즈 카베르네 소비뇽': '14Hands Cabernet Sauvignon',\n",
       " '알바 드 도머스': 'Alba de Domus',\n",
       " '파이오니어스 포인트 까베르네 소비뇽': \"Pioneer's Point Cabernet Sauvignon\",\n",
       " '루칼레 아파씨멘토': '',\n",
       " '타리마 힐': 'Tarima Hill'}"
      ]
     },
     "execution_count": 14,
     "metadata": {},
     "output_type": "execute_result"
    }
   ],
   "source": [
    "ws = dict(zip(wines['prd-name'], wines['prd-desc']))\n",
    "ws"
   ]
  },
  {
   "cell_type": "code",
   "execution_count": 15,
   "id": "82fd281a-04f8-4551-ae21-19102e7d2e66",
   "metadata": {},
   "outputs": [
    {
     "data": {
      "text/plain": [
       "{'몬테스)알파 블랙 카버네소비뇽': 'Montes Montes Alpha Special Cuvée Cabernet Sauvignon',\n",
       " '카니버 카버네 소비뇽': 'CARNIVOR CABERNET SAUVIGNON',\n",
       " '킬리카눈 코브넌트 쉬라즈': 'KILIKANOON COVENANT SHIRAZ',\n",
       " '투 핸즈)엔젤스 쉐어 쉬라즈': \"Two Hands Angel's Share\",\n",
       " '디아블로)블랙 카베르네 소비뇽': 'DIABLO BLACK CABERNET SAUVIGNON',\n",
       " '카를로 사니 수수마니엘로': 'Carlo Sani, Susumaniello',\n",
       " '다렌버그 하이 트렐리스 카베르네 소비뇽': 'The High Trellis Cabernet Sauvignon',\n",
       " '보데가스 란 그란 리제르바': 'BODEGAS LAN GRAN RESERVA',\n",
       " '포스타 레드와인(2입)': 'Four Star Red',\n",
       " '우드브릿지 까베르네 소비뇽': 'Woodbridge Cabernet Sauvignon',\n",
       " '까테나 자파타)까테나 까베르네소비뇽': 'Catena Zapata Catena Cabernet Sauvignon',\n",
       " '우나니메)피노누아': 'UNANIME PINOT NOIR',\n",
       " '끌로 드 로스 씨에떼': 'Clos de Los Siete',\n",
       " '필리프 수퍼 토스카나(선물추천)': 'Philip (Super Toscana)',\n",
       " '라포스톨)그랑 셀렉션 메를로': 'Lapostolle Merlot',\n",
       " '델리카토)1924 포트 배럴 에이지드 피노누아': '1924 Port Barrel Aged Pinot Noir',\n",
       " '코폴라)다이아컬렉션 클라렛': 'Coppola-Diamond Collection Claret',\n",
       " '다크호스 카버네 소비뇽': 'DARK HORSE CABERNET SAUVIGNON',\n",
       " '14 핸즈 카베르네 소비뇽': '14Hands Cabernet Sauvignon',\n",
       " '알바 드 도머스': 'Alba de Domus',\n",
       " '파이오니어스 포인트 까베르네 소비뇽': \"Pioneer's Point Cabernet Sauvignon\",\n",
       " '루칼레 아파씨멘토': 'Lucale Appassimento',\n",
       " '타리마 힐': 'Tarima Hill'}"
      ]
     },
     "execution_count": 15,
     "metadata": {},
     "output_type": "execute_result"
    }
   ],
   "source": [
    "ws['몬테스)알파 블랙 카버네소비뇽'] = 'Montes Montes Alpha Special Cuvée Cabernet Sauvignon'\n",
    "ws['루칼레 아파씨멘토'] = 'Lucale Appassimento'\n",
    "ws"
   ]
  },
  {
   "cell_type": "code",
   "execution_count": 16,
   "id": "ca4d3764-1375-4e31-9162-5f6043e2ae6e",
   "metadata": {},
   "outputs": [],
   "source": [
    "wines = list(ws.values())"
   ]
  },
  {
   "cell_type": "code",
   "execution_count": 18,
   "id": "d078e065-a4ad-4565-b798-169a6b5a587e",
   "metadata": {},
   "outputs": [
    {
     "name": "stdout",
     "output_type": "stream",
     "text": [
      "0) Montes Montes Alpha Special Cuvée Cabernet Sauvignon: score 0.95 with Montes Montes Alpha Cabernet Sauvignon\n",
      "1) CARNIVOR CABERNET SAUVIGNON: score 1.00 with Carnivor Cabernet Sauvignon\n",
      "2) KILIKANOON COVENANT SHIRAZ: score 1.00 with Kilikanoon Covenant Shiraz\n",
      "3) Two Hands Angel's Share: score 0.75 with Two Hands Angels' Share Shiraz\n",
      "4) DIABLO BLACK CABERNET SAUVIGNON: score 1.00 with Diablo Black Cabernet Sauvignon\n",
      "5) Carlo Sani, Susumaniello: score 0.96 with Carlo Sani Susumaniello\n",
      "6) The High Trellis Cabernet Sauvignon: score 0.91 with d'Arenberg The High Trellis Cabernet Sauvignon\n",
      "7) BODEGAS LAN GRAN RESERVA: score 0.77 with Lan Gran Reserva Rioja\n",
      "8) Four Star Red: score 0.32 with Yellow Tail Chardonnay\n",
      "9) Woodbridge Cabernet Sauvignon: score 0.90 with Woodbridge by Robert Mondavi Cabernet Sauvignon\n",
      "10) Catena Zapata Catena Cabernet Sauvignon: score 0.91 with Catena Cabernet Sauvignon\n",
      "11) UNANIME PINOT NOIR: score 0.76 with Bread & Butter Pinot Noir\n",
      "12) Clos de Los Siete: score 0.85 with Clos de los Siete Clos de Los Siete (by Michel Rolland)\n",
      "13) Philip (Super Toscana): score 0.67 with Mazzei Philip\n",
      "14) Lapostolle Merlot: score 0.80 with Lapostolle Grand Selection Merlot\n",
      "15) 1924 Port Barrel Aged Pinot Noir: score 0.88 with 1924 Wines Port Barrel Aged Pinot Noir (Limited Edition)\n",
      "16) Coppola-Diamond Collection Claret: score 0.67 with Francis Ford Coppola Winery Diamond Collection Claret\n",
      "17) DARK HORSE CABERNET SAUVIGNON: score 1.00 with Dark Horse Cabernet Sauvignon\n",
      "18) 14Hands Cabernet Sauvignon: score 0.94 with 14 Hands Cabernet Sauvignon\n",
      "19) Alba de Domus: score 0.84 with Quebrada de Macul Alba de Domus\n",
      "20) Pioneer's Point Cabernet Sauvignon: score 0.82 with Kendall-Jackson Vintner's Reserve Cabernet Sauvignon\n",
      "21) Lucale Appassimento: score 0.41 with Balbi Soprani Moscato d'Asti\n",
      "22) Tarima Hill: score 0.43 with William Hill North Coast Chardonnay\n"
     ]
    }
   ],
   "source": [
    "wid_wine = df_reviews.drop_duplicates(['wid', 'wine'])[['wid', 'wine']].to_dict(orient='list')\n",
    "wid_list = []\n",
    "print_list = []\n",
    "\n",
    "for i, w in enumerate(wines):\n",
    "    idx, sc = check_wine(w, wid_wine['wine'], print_result=False)\n",
    "    wn = wid_wine['wine'][idx]\n",
    "    wid = wid_wine['wid'][idx]\n",
    "    wid_list.append(wid)\n",
    "    p = f'{i}) {w}: score {sc:.2f} with {wn}'\n",
    "    print(p)\n",
    "    print_list.append(p)"
   ]
  },
  {
   "cell_type": "code",
   "execution_count": 19,
   "id": "0eaa56d7-f815-4a8a-a58e-2fcf8ba26989",
   "metadata": {},
   "outputs": [
    {
     "name": "stdout",
     "output_type": "stream",
     "text": [
      "0) Montes Montes Alpha Special Cuvée Cabernet Sauvignon: score 0.95 with Montes Montes Alpha Cabernet Sauvignon\n",
      "8) Four Star Red: score 0.32 with Yellow Tail Chardonnay\n",
      "11) UNANIME PINOT NOIR: score 0.76 with Bread & Butter Pinot Noir\n",
      "20) Pioneer's Point Cabernet Sauvignon: score 0.82 with Kendall-Jackson Vintner's Reserve Cabernet Sauvignon\n",
      "21) Lucale Appassimento: score 0.41 with Balbi Soprani Moscato d'Asti\n",
      "22) Tarima Hill: score 0.43 with William Hill North Coast Chardonnay\n"
     ]
    }
   ],
   "source": [
    "# review candidate wines before scraping\n",
    "\"\"\"\n",
    "Montes Montes Alpha black is Special Cuvée\n",
    "Four Star Red: no recent reviews\n",
    "UNANIME PINOT NOIR is Mascota Vineyards Unánime Pinot Noir which is in db\n",
    "Pioneer's Point: no enough ratings\n",
    "\"\"\"\n",
    "\n",
    "idx = [0, 8, 11, 20, 21, 22]\n",
    "_ = [print(print_list[x]) for x in idx]"
   ]
  },
  {
   "cell_type": "code",
   "execution_count": 28,
   "id": "921d55fa-250c-4532-a4c7-01e10d8dbec3",
   "metadata": {},
   "outputs": [
    {
     "data": {
      "text/html": [
       "<div>\n",
       "<style scoped>\n",
       "    .dataframe tbody tr th:only-of-type {\n",
       "        vertical-align: middle;\n",
       "    }\n",
       "\n",
       "    .dataframe tbody tr th {\n",
       "        vertical-align: top;\n",
       "    }\n",
       "\n",
       "    .dataframe thead th {\n",
       "        text-align: right;\n",
       "    }\n",
       "</style>\n",
       "<table border=\"1\" class=\"dataframe\">\n",
       "  <thead>\n",
       "    <tr style=\"text-align: right;\">\n",
       "      <th></th>\n",
       "      <th>wid</th>\n",
       "      <th>wine</th>\n",
       "      <th>date</th>\n",
       "      <th>review</th>\n",
       "      <th>source</th>\n",
       "      <th>lang</th>\n",
       "      <th>review_transl</th>\n",
       "    </tr>\n",
       "  </thead>\n",
       "  <tbody>\n",
       "  </tbody>\n",
       "</table>\n",
       "</div>"
      ],
      "text/plain": [
       "Empty DataFrame\n",
       "Columns: [wid, wine, date, review, source, lang, review_transl]\n",
       "Index: []"
      ]
     },
     "execution_count": 28,
     "metadata": {},
     "output_type": "execute_result"
    }
   ],
   "source": [
    "name = 'Volver'\n",
    "df_reviews.loc[df_reviews.wine.str.contains(name)]"
   ]
  },
  {
   "cell_type": "code",
   "execution_count": null,
   "id": "2886d7d0-45ad-429f-bc92-58da4bfa8221",
   "metadata": {},
   "outputs": [],
   "source": [
    "#df_reviews.loc[df_reviews.wid.isin(wid_list)][['wid', 'wine']].drop_duplicates()"
   ]
  },
  {
   "cell_type": "markdown",
   "id": "5582df65-b029-494e-868d-69d3fc136b1d",
   "metadata": {},
   "source": [
    "### Check URL"
   ]
  },
  {
   "cell_type": "code",
   "execution_count": 29,
   "id": "4fb68fca-5487-4d8b-95ea-d3141626a7b3",
   "metadata": {
    "scrolled": true
   },
   "outputs": [
    {
     "name": "stdout",
     "output_type": "stream",
     "text": [
      "Montes Montes Alpha Special Cuvée Cabernet Sauvignon\n",
      "https://www.vivino.com/montes-casablanca-valley-montes-alpha-special-cuvee-cabernet-sauvignon-colchagua-valley/w/5006161\n",
      "Masseria Borgo dei Trulli Lucale Appassimento Primitivo\n",
      "https://www.vivino.com/masseria-borgo-dei-trulli-lucale-appassimento-primitivo/w/4972078?ref=nav-search\n",
      "Volver Tarima Hill Old Vines Monastrell\n",
      "https://www.vivino.com/tarima-tarima-hill-old-vines-monastrell/w/1603076?ref=nav-search#all_reviews\n",
      "\n"
     ]
    }
   ],
   "source": [
    "file = 'data/wines_to_collect.txt'\n",
    "\n",
    "with open(file, 'r') as f:\n",
    "    w = f.read()\n",
    "print(w)"
   ]
  },
  {
   "cell_type": "code",
   "execution_count": 30,
   "id": "442cce28-1e22-45e0-853c-1800094f11c6",
   "metadata": {},
   "outputs": [
    {
     "data": {
      "text/plain": [
       "3"
      ]
     },
     "execution_count": 30,
     "metadata": {},
     "output_type": "execute_result"
    }
   ],
   "source": [
    "w = w.strip('\\n').split('\\n')\n",
    "wines = {w[i]:w[i+1] for i in range(0, len(w), 2)}\n",
    "len(wines)"
   ]
  },
  {
   "cell_type": "code",
   "execution_count": 31,
   "id": "c78e6939-25d8-4a16-90d2-6037b0d91b8c",
   "metadata": {},
   "outputs": [
    {
     "name": "stdout",
     "output_type": "stream",
     "text": [
      "The top 5 pairs of least similarity:\n",
      "0.74) Montes Montes Alpha Special Cuvée Cabernet Sauvignon: montes-casablanca-valley-montes-alpha-special-cuvee-cabernet-sauvignon-colchagua-valley\n",
      "0.76) Volver Tarima Hill Old Vines Monastrell: tarima-tarima-hill-old-vines-monastrell\n",
      "0.90) Masseria Borgo dei Trulli Lucale Appassimento Primitivo: masseria-borgo-dei-trulli-lucale-appassimento-primitivo\n"
     ]
    }
   ],
   "source": [
    "# check if wine name and its url match or not\n",
    "df = check_url(wines)"
   ]
  },
  {
   "cell_type": "markdown",
   "id": "95df6be2-cc93-43f7-a840-56c221d5c0d8",
   "metadata": {},
   "source": [
    "## Setting"
   ]
  },
  {
   "cell_type": "code",
   "execution_count": 35,
   "id": "51bfb2ea-38ff-4fc2-88af-7ea8171993dd",
   "metadata": {},
   "outputs": [],
   "source": [
    "locator_ratings = \"//a[@href='#all_reviews']\"\n",
    "locator_more = \"//button[@tabindex='0']\"\n",
    "locator_recent = '//*[@data-testid=\"baseModalBackdrop\"]/div[2]/div[2]/div[2]/div/a[1]'\n",
    "\n",
    "locator_review = \"communityReview__reviewText--2bfLj\"\n",
    "locator_date = \"anchor_anchor__m8Qi- reviewAnchor__anchor--2NKFw reviewDate__reviewDate--49vpM undefined\"\n",
    "\n",
    "kwargs = {\n",
    "    'loc1': locator_ratings,\n",
    "    'loc2': locator_more,\n",
    "    'loc3': locator_recent, \n",
    "    'loc4': locator_review,\n",
    "    'loc5': locator_date\n",
    "}"
   ]
  },
  {
   "cell_type": "code",
   "execution_count": 36,
   "id": "39f95682-cc61-428a-8e82-e8f1a16f68d9",
   "metadata": {},
   "outputs": [],
   "source": [
    "kwargs.update({\n",
    "    'end_date': '20220101',\n",
    "    'source': 'vivino',\n",
    "    #'headless': True, # failed for background running \n",
    "    #'max_scr': 10, 'time_scr': 2, 'check_idx': 4\n",
    "})"
   ]
  },
  {
   "cell_type": "markdown",
   "id": "88813fbe-b0b8-450b-9aa2-8177add91a71",
   "metadata": {},
   "source": [
    "## Collect"
   ]
  },
  {
   "cell_type": "markdown",
   "id": "560396fb-1da8-49e6-8b5c-c8a9c79210db",
   "metadata": {},
   "source": [
    "**load if the reviews of the wines not translated yet**"
   ]
  },
  {
   "cell_type": "code",
   "execution_count": null,
   "id": "f89a4ef6-5943-4090-a191-1e8c2ea0d546",
   "metadata": {},
   "outputs": [],
   "source": [
    "files = []\n",
    "#files = ['wine_50', 'wine_51', 'wine_52', 'wine_53', 'wine_54']\n",
    "#files = [f'wine_{i}' for i in range(50,64)]\n",
    "path = 'data'\n",
    "\n",
    "df_reviews = pd.DataFrame()\n",
    "for f in files:\n",
    "    df = load_reviews(f'{f}.csv', path=path)\n",
    "    df_reviews = pd.concat([df_reviews, df])\n",
    "\n",
    "# check duplicate wid\n",
    "df_reviews.groupby('wid').wine.unique()"
   ]
  },
  {
   "cell_type": "code",
   "execution_count": 34,
   "id": "4e6b360b-9861-4f74-b0a3-0edf7432491f",
   "metadata": {},
   "outputs": [
    {
     "data": {
      "text/plain": [
       "67"
      ]
     },
     "execution_count": 34,
     "metadata": {},
     "output_type": "execute_result"
    }
   ],
   "source": [
    "#id_start = df_reviews.wid.max() + 1\n",
    "#id_start"
   ]
  },
  {
   "cell_type": "markdown",
   "id": "ae345a76-ebc9-4f1f-b784-4efeb8ffc82d",
   "metadata": {},
   "source": [
    "*uncomment if no reviews unfinished*"
   ]
  },
  {
   "cell_type": "code",
   "execution_count": 37,
   "id": "a7cdf2d7-2c0d-44cc-8a2f-ff889bacb3ba",
   "metadata": {},
   "outputs": [],
   "source": [
    "df_reviews = pd.DataFrame()"
   ]
  },
  {
   "cell_type": "code",
   "execution_count": 38,
   "id": "4c34e46f-b8c6-490a-95ca-f00703bbbaf3",
   "metadata": {},
   "outputs": [
    {
     "name": "stdout",
     "output_type": "stream",
     "text": [
      "scraping 1 ********************\n"
     ]
    },
    {
     "name": "stderr",
     "output_type": "stream",
     "text": [
      "43it [00:33,  1.29it/s]\n"
     ]
    },
    {
     "name": "stdout",
     "output_type": "stream",
     "text": [
      "Montes Montes Alpha Special Cuvée Cabernet Sauvignon: 43 reviews collected.\n",
      "data/wine_67.csv saved.\n"
     ]
    },
    {
     "name": "stderr",
     "output_type": "stream",
     "text": [
      "73it [00:55,  1.33it/s]\n"
     ]
    },
    {
     "name": "stdout",
     "output_type": "stream",
     "text": [
      "Masseria Borgo dei Trulli Lucale Appassimento Primitivo: 73 reviews collected.\n",
      "data/wine_68.csv saved.\n"
     ]
    },
    {
     "name": "stderr",
     "output_type": "stream",
     "text": [
      "83it [01:30,  1.09s/it]\n"
     ]
    },
    {
     "name": "stdout",
     "output_type": "stream",
     "text": [
      "Volver Tarima Hill Old Vines Monastrell: 83 reviews collected.\n",
      "data/wine_69.csv saved.\n"
     ]
    }
   ],
   "source": [
    "num_try = 1 # num of try to scrape for failed wines\n",
    "\n",
    "col_rev = ['wid', 'wine', 'date', 'review', 'source']\n",
    "path = 'data'\n",
    "wines_failed = dict()\n",
    "\n",
    "for i in range(num_try):\n",
    "    print(f'scraping {i+1}', '*'*20)\n",
    "    #for wine_name, wine_url in wines:\n",
    "    for wine_name, wine_url in wines.items():\n",
    "        try:\n",
    "            df = vivino_reviews(wine_url, wine_name, **kwargs)\n",
    "            df_reviews = concat_reviews(df_reviews, df, wine_name, col_rev, path=path, id_start=id_start)\n",
    "        except:\n",
    "            print(f'ERROR: check {wine_name}')\n",
    "            wines_failed.update({wine_name: wine_url})\n",
    "        time.sleep(3)\n",
    "\n",
    "    if len(wines_failed) > 0:\n",
    "        print(f'num of failed: {len(wines_failed)}\\n')\n",
    "        wines = wines_failed\n",
    "        wines_failed = dict()\n",
    "        time.sleep(3)\n",
    "    else:\n",
    "        break"
   ]
  },
  {
   "cell_type": "code",
   "execution_count": 39,
   "id": "46b107de-ba0e-4fdb-a7d4-19757dfc00dd",
   "metadata": {},
   "outputs": [
    {
     "data": {
      "text/html": [
       "<div>\n",
       "<style scoped>\n",
       "    .dataframe tbody tr th:only-of-type {\n",
       "        vertical-align: middle;\n",
       "    }\n",
       "\n",
       "    .dataframe tbody tr th {\n",
       "        vertical-align: top;\n",
       "    }\n",
       "\n",
       "    .dataframe thead th {\n",
       "        text-align: right;\n",
       "    }\n",
       "</style>\n",
       "<table border=\"1\" class=\"dataframe\">\n",
       "  <thead>\n",
       "    <tr style=\"text-align: right;\">\n",
       "      <th></th>\n",
       "      <th>wid</th>\n",
       "      <th>wine</th>\n",
       "      <th>date</th>\n",
       "      <th>review</th>\n",
       "      <th>source</th>\n",
       "    </tr>\n",
       "  </thead>\n",
       "  <tbody>\n",
       "    <tr>\n",
       "      <th>0</th>\n",
       "      <td>67</td>\n",
       "      <td>Montes Montes Alpha Special Cuvée Cabernet Sau...</td>\n",
       "      <td>2024-03-14</td>\n",
       "      <td>Vinho muito, mas muito bom da excelente vinícu...</td>\n",
       "      <td>vivino</td>\n",
       "    </tr>\n",
       "    <tr>\n",
       "      <th>1</th>\n",
       "      <td>67</td>\n",
       "      <td>Montes Montes Alpha Special Cuvée Cabernet Sau...</td>\n",
       "      <td>2024-01-20</td>\n",
       "      <td>oak tobacco black fruit blackberry pepper smok...</td>\n",
       "      <td>vivino</td>\n",
       "    </tr>\n",
       "    <tr>\n",
       "      <th>2</th>\n",
       "      <td>67</td>\n",
       "      <td>Montes Montes Alpha Special Cuvée Cabernet Sau...</td>\n",
       "      <td>2024-01-11</td>\n",
       "      <td>Adoramos! Frutas vermelhas. Ameixa. Pimentão v...</td>\n",
       "      <td>vivino</td>\n",
       "    </tr>\n",
       "    <tr>\n",
       "      <th>3</th>\n",
       "      <td>67</td>\n",
       "      <td>Montes Montes Alpha Special Cuvée Cabernet Sau...</td>\n",
       "      <td>2023-12-17</td>\n",
       "      <td>Boda en SMA Clau y Polo</td>\n",
       "      <td>vivino</td>\n",
       "    </tr>\n",
       "    <tr>\n",
       "      <th>4</th>\n",
       "      <td>67</td>\n",
       "      <td>Montes Montes Alpha Special Cuvée Cabernet Sau...</td>\n",
       "      <td>2023-12-02</td>\n",
       "      <td>Gedronken bij Marcel en Marius. Qua smaakprofi...</td>\n",
       "      <td>vivino</td>\n",
       "    </tr>\n",
       "    <tr>\n",
       "      <th>...</th>\n",
       "      <td>...</td>\n",
       "      <td>...</td>\n",
       "      <td>...</td>\n",
       "      <td>...</td>\n",
       "      <td>...</td>\n",
       "    </tr>\n",
       "    <tr>\n",
       "      <th>78</th>\n",
       "      <td>69</td>\n",
       "      <td>Volver Tarima Hill Old Vines Monastrell</td>\n",
       "      <td>2021-12-01</td>\n",
       "      <td>가성비 굿</td>\n",
       "      <td>vivino</td>\n",
       "    </tr>\n",
       "    <tr>\n",
       "      <th>79</th>\n",
       "      <td>69</td>\n",
       "      <td>Volver Tarima Hill Old Vines Monastrell</td>\n",
       "      <td>2021-11-14</td>\n",
       "      <td>In the Cambrian probiert. Sehr intensiv, schwe...</td>\n",
       "      <td>vivino</td>\n",
       "    </tr>\n",
       "    <tr>\n",
       "      <th>80</th>\n",
       "      <td>69</td>\n",
       "      <td>Volver Tarima Hill Old Vines Monastrell</td>\n",
       "      <td>2020-05-09</td>\n",
       "      <td>Deep purple full bodied wine with notes of plu...</td>\n",
       "      <td>vivino</td>\n",
       "    </tr>\n",
       "    <tr>\n",
       "      <th>81</th>\n",
       "      <td>69</td>\n",
       "      <td>Volver Tarima Hill Old Vines Monastrell</td>\n",
       "      <td>2023-07-24</td>\n",
       "      <td>Medium Body, Black Peppers, Licorice, chocolat...</td>\n",
       "      <td>vivino</td>\n",
       "    </tr>\n",
       "    <tr>\n",
       "      <th>82</th>\n",
       "      <td>69</td>\n",
       "      <td>Volver Tarima Hill Old Vines Monastrell</td>\n",
       "      <td>2020-02-22</td>\n",
       "      <td>Oaky nose with a slight oak flavor with a bit ...</td>\n",
       "      <td>vivino</td>\n",
       "    </tr>\n",
       "  </tbody>\n",
       "</table>\n",
       "<p>199 rows × 5 columns</p>\n",
       "</div>"
      ],
      "text/plain": [
       "    wid                                               wine       date  \\\n",
       "0    67  Montes Montes Alpha Special Cuvée Cabernet Sau... 2024-03-14   \n",
       "1    67  Montes Montes Alpha Special Cuvée Cabernet Sau... 2024-01-20   \n",
       "2    67  Montes Montes Alpha Special Cuvée Cabernet Sau... 2024-01-11   \n",
       "3    67  Montes Montes Alpha Special Cuvée Cabernet Sau... 2023-12-17   \n",
       "4    67  Montes Montes Alpha Special Cuvée Cabernet Sau... 2023-12-02   \n",
       "..  ...                                                ...        ...   \n",
       "78   69            Volver Tarima Hill Old Vines Monastrell 2021-12-01   \n",
       "79   69            Volver Tarima Hill Old Vines Monastrell 2021-11-14   \n",
       "80   69            Volver Tarima Hill Old Vines Monastrell 2020-05-09   \n",
       "81   69            Volver Tarima Hill Old Vines Monastrell 2023-07-24   \n",
       "82   69            Volver Tarima Hill Old Vines Monastrell 2020-02-22   \n",
       "\n",
       "                                               review  source  \n",
       "0   Vinho muito, mas muito bom da excelente vinícu...  vivino  \n",
       "1   oak tobacco black fruit blackberry pepper smok...  vivino  \n",
       "2   Adoramos! Frutas vermelhas. Ameixa. Pimentão v...  vivino  \n",
       "3                             Boda en SMA Clau y Polo  vivino  \n",
       "4   Gedronken bij Marcel en Marius. Qua smaakprofi...  vivino  \n",
       "..                                                ...     ...  \n",
       "78                                              가성비 굿  vivino  \n",
       "79  In the Cambrian probiert. Sehr intensiv, schwe...  vivino  \n",
       "80  Deep purple full bodied wine with notes of plu...  vivino  \n",
       "81  Medium Body, Black Peppers, Licorice, chocolat...  vivino  \n",
       "82  Oaky nose with a slight oak flavor with a bit ...  vivino  \n",
       "\n",
       "[199 rows x 5 columns]"
      ]
     },
     "execution_count": 39,
     "metadata": {},
     "output_type": "execute_result"
    }
   ],
   "source": [
    "df_reviews"
   ]
  },
  {
   "cell_type": "markdown",
   "id": "fd1521a7-3988-4098-b430-c5e09fc6a4a2",
   "metadata": {},
   "source": [
    "**temp saving before translation**"
   ]
  },
  {
   "cell_type": "code",
   "execution_count": 40,
   "id": "aa6aef77-4bf1-4b9d-8400-f17f380f9d88",
   "metadata": {},
   "outputs": [
    {
     "data": {
      "text/plain": [
       "wid  wine                                                   \n",
       "67   Montes Montes Alpha Special Cuvée Cabernet Sauvignon       43\n",
       "68   Masseria Borgo dei Trulli Lucale Appassimento Primitivo    73\n",
       "69   Volver Tarima Hill Old Vines Monastrell                    83\n",
       "Name: review, dtype: int64"
      ]
     },
     "execution_count": 40,
     "metadata": {},
     "output_type": "execute_result"
    }
   ],
   "source": [
    "df_reviews.groupby(['wid', 'wine']).review.count().sort_index(level=0)"
   ]
  },
  {
   "cell_type": "code",
   "execution_count": 41,
   "id": "1a4a8af7-781f-4f93-a279-db041f14f0d5",
   "metadata": {},
   "outputs": [
    {
     "name": "stdout",
     "output_type": "stream",
     "text": [
      "data/wine_reviews_tmp.csv saved.\n"
     ]
    }
   ],
   "source": [
    "save_reviews(df_reviews, 'wine_reviews_tmp.csv', 'data', overwrite=True)"
   ]
  },
  {
   "cell_type": "markdown",
   "id": "d9f7f247-0751-46e4-bf66-48409773bb97",
   "metadata": {},
   "source": [
    "# Review data"
   ]
  },
  {
   "cell_type": "code",
   "execution_count": 67,
   "id": "af270968-963a-4a1a-a577-fb8187eb85d9",
   "metadata": {},
   "outputs": [
    {
     "name": "stdout",
     "output_type": "stream",
     "text": [
      "data/wine_reviews_tmp.csv loaded.\n"
     ]
    }
   ],
   "source": [
    "df_reviews = load_reviews('wine_reviews_tmp.csv', 'data')"
   ]
  },
  {
   "cell_type": "code",
   "execution_count": 68,
   "id": "36e8b2b4-f05e-4640-82e3-94f74672b445",
   "metadata": {},
   "outputs": [
    {
     "data": {
      "text/html": [
       "<div>\n",
       "<style scoped>\n",
       "    .dataframe tbody tr th:only-of-type {\n",
       "        vertical-align: middle;\n",
       "    }\n",
       "\n",
       "    .dataframe tbody tr th {\n",
       "        vertical-align: top;\n",
       "    }\n",
       "\n",
       "    .dataframe thead th {\n",
       "        text-align: right;\n",
       "    }\n",
       "</style>\n",
       "<table border=\"1\" class=\"dataframe\">\n",
       "  <thead>\n",
       "    <tr style=\"text-align: right;\">\n",
       "      <th></th>\n",
       "      <th>wid</th>\n",
       "      <th>wine</th>\n",
       "      <th>date</th>\n",
       "      <th>review</th>\n",
       "      <th>source</th>\n",
       "    </tr>\n",
       "  </thead>\n",
       "  <tbody>\n",
       "    <tr>\n",
       "      <th>40</th>\n",
       "      <td>67</td>\n",
       "      <td>Montes Montes Alpha Special Cuvée Cabernet Sau...</td>\n",
       "      <td>2020-07-25</td>\n",
       "      <td>NaN</td>\n",
       "      <td>vivino</td>\n",
       "    </tr>\n",
       "    <tr>\n",
       "      <th>101</th>\n",
       "      <td>68</td>\n",
       "      <td>Masseria Borgo dei Trulli Lucale Appassimento ...</td>\n",
       "      <td>2022-01-29</td>\n",
       "      <td>NaN</td>\n",
       "      <td>vivino</td>\n",
       "    </tr>\n",
       "    <tr>\n",
       "      <th>113</th>\n",
       "      <td>68</td>\n",
       "      <td>Masseria Borgo dei Trulli Lucale Appassimento ...</td>\n",
       "      <td>2022-02-17</td>\n",
       "      <td>NaN</td>\n",
       "      <td>vivino</td>\n",
       "    </tr>\n",
       "    <tr>\n",
       "      <th>184</th>\n",
       "      <td>69</td>\n",
       "      <td>Volver Tarima Hill Old Vines Monastrell</td>\n",
       "      <td>2022-01-29</td>\n",
       "      <td>NaN</td>\n",
       "      <td>vivino</td>\n",
       "    </tr>\n",
       "    <tr>\n",
       "      <th>191</th>\n",
       "      <td>69</td>\n",
       "      <td>Volver Tarima Hill Old Vines Monastrell</td>\n",
       "      <td>2021-12-26</td>\n",
       "      <td>NaN</td>\n",
       "      <td>vivino</td>\n",
       "    </tr>\n",
       "  </tbody>\n",
       "</table>\n",
       "</div>"
      ],
      "text/plain": [
       "     wid                                               wine       date review  \\\n",
       "40    67  Montes Montes Alpha Special Cuvée Cabernet Sau... 2020-07-25    NaN   \n",
       "101   68  Masseria Borgo dei Trulli Lucale Appassimento ... 2022-01-29    NaN   \n",
       "113   68  Masseria Borgo dei Trulli Lucale Appassimento ... 2022-02-17    NaN   \n",
       "184   69            Volver Tarima Hill Old Vines Monastrell 2022-01-29    NaN   \n",
       "191   69            Volver Tarima Hill Old Vines Monastrell 2021-12-26    NaN   \n",
       "\n",
       "     source  \n",
       "40   vivino  \n",
       "101  vivino  \n",
       "113  vivino  \n",
       "184  vivino  \n",
       "191  vivino  "
      ]
     },
     "execution_count": 68,
     "metadata": {},
     "output_type": "execute_result"
    }
   ],
   "source": [
    "cond = (df_reviews.date.isna()) | (df_reviews.review.isna())\n",
    "df_reviews.loc[cond]"
   ]
  },
  {
   "cell_type": "code",
   "execution_count": 69,
   "id": "1a192d4b-ef01-4279-9004-1abfb08ca53e",
   "metadata": {},
   "outputs": [],
   "source": [
    "df_reviews = df_reviews.loc[~cond].reset_index(drop=True)"
   ]
  },
  {
   "cell_type": "code",
   "execution_count": 70,
   "id": "8d9a594c-ae1f-44ba-ab72-997caa5d4094",
   "metadata": {},
   "outputs": [
    {
     "data": {
      "text/plain": [
       "date\n",
       "2024    26\n",
       "2023    75\n",
       "2022    75\n",
       "2021    15\n",
       "2020     2\n",
       "2019     1\n",
       "Name: count, dtype: int64"
      ]
     },
     "execution_count": 70,
     "metadata": {},
     "output_type": "execute_result"
    }
   ],
   "source": [
    "df_reviews.date.dt.year.value_counts().sort_index(ascending=False)"
   ]
  },
  {
   "cell_type": "code",
   "execution_count": 71,
   "id": "a1f48e7a-a07e-402b-8857-6c5a8b1bebbd",
   "metadata": {},
   "outputs": [
    {
     "data": {
      "text/plain": [
       "'20220101'"
      ]
     },
     "execution_count": 71,
     "metadata": {},
     "output_type": "execute_result"
    }
   ],
   "source": [
    "kwargs['end_date']"
   ]
  },
  {
   "cell_type": "code",
   "execution_count": 72,
   "id": "74aba128-d059-4951-93fd-2acb697e3641",
   "metadata": {},
   "outputs": [],
   "source": [
    "df_reviews = df_reviews.loc[df_reviews.date >= kwargs['end_date']]"
   ]
  },
  {
   "cell_type": "code",
   "execution_count": 73,
   "id": "a3aafc5b-fc20-4e05-af1f-9197e8215b9e",
   "metadata": {},
   "outputs": [
    {
     "data": {
      "text/plain": [
       "<Axes: >"
      ]
     },
     "execution_count": 73,
     "metadata": {},
     "output_type": "execute_result"
    },
    {
     "data": {
      "image/png": "[encoded data removed]",
      "text/plain": [
       "<Figure size 640x480 with 1 Axes>"
      ]
     },
     "metadata": {},
     "output_type": "display_data"
    }
   ],
   "source": [
    "#d = df_reviews.date.agg(['min', 'max']).to_list()\n",
    "d = [kwargs['end_date'], df_reviews.date.max()]\n",
    "\n",
    "date_range = pd.date_range(start=d[0], end=d[1]).to_period(\"M\").unique()\n",
    "\n",
    "(df_reviews\n",
    " .set_index('date').to_period(\"M\")\n",
    " .groupby(level=0).review.count()\n",
    " .sort_index()\n",
    " .reindex(date_range, fill_value=0)\n",
    " .plot(kind='barh')\n",
    ")"
   ]
  },
  {
   "cell_type": "code",
   "execution_count": 74,
   "id": "c1ce0430-3dea-4a97-a0b9-010a6580d0b0",
   "metadata": {},
   "outputs": [
    {
     "data": {
      "text/plain": [
       "<Axes: ylabel='wine'>"
      ]
     },
     "execution_count": 74,
     "metadata": {},
     "output_type": "execute_result"
    },
    {
     "data": {
      "image/png": "[encoded data removed]",
      "text/plain": [
       "<Figure size 640x480 with 1 Axes>"
      ]
     },
     "metadata": {},
     "output_type": "display_data"
    }
   ],
   "source": [
    "(df_reviews\n",
    " .groupby(by='wine').review.count()\n",
    " .plot(kind='barh')\n",
    ")"
   ]
  },
  {
   "cell_type": "code",
   "execution_count": 75,
   "id": "920c9d82-167b-4f27-b6d5-2ea7258a55fe",
   "metadata": {},
   "outputs": [
    {
     "data": {
      "text/html": [
       "<div>\n",
       "<style scoped>\n",
       "    .dataframe tbody tr th:only-of-type {\n",
       "        vertical-align: middle;\n",
       "    }\n",
       "\n",
       "    .dataframe tbody tr th {\n",
       "        vertical-align: top;\n",
       "    }\n",
       "\n",
       "    .dataframe thead th {\n",
       "        text-align: right;\n",
       "    }\n",
       "</style>\n",
       "<table border=\"1\" class=\"dataframe\">\n",
       "  <thead>\n",
       "    <tr style=\"text-align: right;\">\n",
       "      <th></th>\n",
       "      <th>wid</th>\n",
       "      <th>wine</th>\n",
       "      <th>date</th>\n",
       "      <th>review</th>\n",
       "      <th>source</th>\n",
       "    </tr>\n",
       "  </thead>\n",
       "  <tbody>\n",
       "    <tr>\n",
       "      <th>0</th>\n",
       "      <td>67</td>\n",
       "      <td>Montes Montes Alpha Special Cuvée Cabernet Sau...</td>\n",
       "      <td>2024-03-14</td>\n",
       "      <td>Vinho muito, mas muito bom da excelente vinícu...</td>\n",
       "      <td>vivino</td>\n",
       "    </tr>\n",
       "    <tr>\n",
       "      <th>1</th>\n",
       "      <td>67</td>\n",
       "      <td>Montes Montes Alpha Special Cuvée Cabernet Sau...</td>\n",
       "      <td>2024-01-20</td>\n",
       "      <td>oak tobacco black fruit blackberry pepper smok...</td>\n",
       "      <td>vivino</td>\n",
       "    </tr>\n",
       "    <tr>\n",
       "      <th>2</th>\n",
       "      <td>67</td>\n",
       "      <td>Montes Montes Alpha Special Cuvée Cabernet Sau...</td>\n",
       "      <td>2024-01-11</td>\n",
       "      <td>Adoramos! Frutas vermelhas. Ameixa. Pimentão v...</td>\n",
       "      <td>vivino</td>\n",
       "    </tr>\n",
       "    <tr>\n",
       "      <th>3</th>\n",
       "      <td>67</td>\n",
       "      <td>Montes Montes Alpha Special Cuvée Cabernet Sau...</td>\n",
       "      <td>2023-12-17</td>\n",
       "      <td>Boda en SMA Clau y Polo</td>\n",
       "      <td>vivino</td>\n",
       "    </tr>\n",
       "    <tr>\n",
       "      <th>4</th>\n",
       "      <td>67</td>\n",
       "      <td>Montes Montes Alpha Special Cuvée Cabernet Sau...</td>\n",
       "      <td>2023-12-02</td>\n",
       "      <td>Gedronken bij Marcel en Marius. Qua smaakprofi...</td>\n",
       "      <td>vivino</td>\n",
       "    </tr>\n",
       "  </tbody>\n",
       "</table>\n",
       "</div>"
      ],
      "text/plain": [
       "   wid                                               wine       date  \\\n",
       "0   67  Montes Montes Alpha Special Cuvée Cabernet Sau... 2024-03-14   \n",
       "1   67  Montes Montes Alpha Special Cuvée Cabernet Sau... 2024-01-20   \n",
       "2   67  Montes Montes Alpha Special Cuvée Cabernet Sau... 2024-01-11   \n",
       "3   67  Montes Montes Alpha Special Cuvée Cabernet Sau... 2023-12-17   \n",
       "4   67  Montes Montes Alpha Special Cuvée Cabernet Sau... 2023-12-02   \n",
       "\n",
       "                                              review  source  \n",
       "0  Vinho muito, mas muito bom da excelente vinícu...  vivino  \n",
       "1  oak tobacco black fruit blackberry pepper smok...  vivino  \n",
       "2  Adoramos! Frutas vermelhas. Ameixa. Pimentão v...  vivino  \n",
       "3                            Boda en SMA Clau y Polo  vivino  \n",
       "4  Gedronken bij Marcel en Marius. Qua smaakprofi...  vivino  "
      ]
     },
     "execution_count": 75,
     "metadata": {},
     "output_type": "execute_result"
    }
   ],
   "source": [
    "df_reviews.head()"
   ]
  },
  {
   "cell_type": "markdown",
   "id": "077e4f2e-b08b-4636-97fa-0fff64caa675",
   "metadata": {},
   "source": [
    "[Check duplicates](#Check-duplicates)"
   ]
  },
  {
   "cell_type": "markdown",
   "id": "431378b4-8df9-4be4-bacf-d0cff9a37a05",
   "metadata": {},
   "source": [
    "## Wine ID"
   ]
  },
  {
   "cell_type": "code",
   "execution_count": 79,
   "id": "f0207080-50fb-408f-9abe-b5b15883af93",
   "metadata": {},
   "outputs": [
    {
     "data": {
      "text/html": [
       "<div>\n",
       "<style scoped>\n",
       "    .dataframe tbody tr th:only-of-type {\n",
       "        vertical-align: middle;\n",
       "    }\n",
       "\n",
       "    .dataframe tbody tr th {\n",
       "        vertical-align: top;\n",
       "    }\n",
       "\n",
       "    .dataframe thead th {\n",
       "        text-align: right;\n",
       "    }\n",
       "</style>\n",
       "<table border=\"1\" class=\"dataframe\">\n",
       "  <thead>\n",
       "    <tr style=\"text-align: right;\">\n",
       "      <th></th>\n",
       "      <th>wid</th>\n",
       "      <th>wine</th>\n",
       "      <th>date</th>\n",
       "      <th>review</th>\n",
       "      <th>source</th>\n",
       "    </tr>\n",
       "  </thead>\n",
       "  <tbody>\n",
       "    <tr>\n",
       "      <th>0</th>\n",
       "      <td>67</td>\n",
       "      <td>Montes Montes Alpha Special Cuvée Cabernet Sau...</td>\n",
       "      <td>2024-03-14</td>\n",
       "      <td>Vinho muito, mas muito bom da excelente vinícu...</td>\n",
       "      <td>vivino</td>\n",
       "    </tr>\n",
       "    <tr>\n",
       "      <th>1</th>\n",
       "      <td>67</td>\n",
       "      <td>Montes Montes Alpha Special Cuvée Cabernet Sau...</td>\n",
       "      <td>2024-01-20</td>\n",
       "      <td>oak tobacco black fruit blackberry pepper smok...</td>\n",
       "      <td>vivino</td>\n",
       "    </tr>\n",
       "    <tr>\n",
       "      <th>2</th>\n",
       "      <td>67</td>\n",
       "      <td>Montes Montes Alpha Special Cuvée Cabernet Sau...</td>\n",
       "      <td>2024-01-11</td>\n",
       "      <td>Adoramos! Frutas vermelhas. Ameixa. Pimentão v...</td>\n",
       "      <td>vivino</td>\n",
       "    </tr>\n",
       "    <tr>\n",
       "      <th>3</th>\n",
       "      <td>67</td>\n",
       "      <td>Montes Montes Alpha Special Cuvée Cabernet Sau...</td>\n",
       "      <td>2023-12-17</td>\n",
       "      <td>Boda en SMA Clau y Polo</td>\n",
       "      <td>vivino</td>\n",
       "    </tr>\n",
       "    <tr>\n",
       "      <th>4</th>\n",
       "      <td>67</td>\n",
       "      <td>Montes Montes Alpha Special Cuvée Cabernet Sau...</td>\n",
       "      <td>2023-12-02</td>\n",
       "      <td>Gedronken bij Marcel en Marius. Qua smaakprofi...</td>\n",
       "      <td>vivino</td>\n",
       "    </tr>\n",
       "    <tr>\n",
       "      <th>...</th>\n",
       "      <td>...</td>\n",
       "      <td>...</td>\n",
       "      <td>...</td>\n",
       "      <td>...</td>\n",
       "      <td>...</td>\n",
       "    </tr>\n",
       "    <tr>\n",
       "      <th>181</th>\n",
       "      <td>69</td>\n",
       "      <td>Volver Tarima Hill Old Vines Monastrell</td>\n",
       "      <td>2022-01-20</td>\n",
       "      <td>Vino espectacular, 14 meses en barrica frances...</td>\n",
       "      <td>vivino</td>\n",
       "    </tr>\n",
       "    <tr>\n",
       "      <th>182</th>\n",
       "      <td>69</td>\n",
       "      <td>Volver Tarima Hill Old Vines Monastrell</td>\n",
       "      <td>2022-01-15</td>\n",
       "      <td>Dry, Dark, Bold with great flavor</td>\n",
       "      <td>vivino</td>\n",
       "    </tr>\n",
       "    <tr>\n",
       "      <th>183</th>\n",
       "      <td>69</td>\n",
       "      <td>Volver Tarima Hill Old Vines Monastrell</td>\n",
       "      <td>2022-01-10</td>\n",
       "      <td>Muy bueno</td>\n",
       "      <td>vivino</td>\n",
       "    </tr>\n",
       "    <tr>\n",
       "      <th>184</th>\n",
       "      <td>69</td>\n",
       "      <td>Volver Tarima Hill Old Vines Monastrell</td>\n",
       "      <td>2022-01-10</td>\n",
       "      <td>A very flavorful wine it also has a very nice ...</td>\n",
       "      <td>vivino</td>\n",
       "    </tr>\n",
       "    <tr>\n",
       "      <th>185</th>\n",
       "      <td>69</td>\n",
       "      <td>Volver Tarima Hill Old Vines Monastrell</td>\n",
       "      <td>2022-01-08</td>\n",
       "      <td>4.2 풀바디. 적당한 탄닌. 탄산감 없음. 맛있어!</td>\n",
       "      <td>vivino</td>\n",
       "    </tr>\n",
       "  </tbody>\n",
       "</table>\n",
       "<p>173 rows × 5 columns</p>\n",
       "</div>"
      ],
      "text/plain": [
       "     wid                                               wine       date  \\\n",
       "0     67  Montes Montes Alpha Special Cuvée Cabernet Sau... 2024-03-14   \n",
       "1     67  Montes Montes Alpha Special Cuvée Cabernet Sau... 2024-01-20   \n",
       "2     67  Montes Montes Alpha Special Cuvée Cabernet Sau... 2024-01-11   \n",
       "3     67  Montes Montes Alpha Special Cuvée Cabernet Sau... 2023-12-17   \n",
       "4     67  Montes Montes Alpha Special Cuvée Cabernet Sau... 2023-12-02   \n",
       "..   ...                                                ...        ...   \n",
       "181   69            Volver Tarima Hill Old Vines Monastrell 2022-01-20   \n",
       "182   69            Volver Tarima Hill Old Vines Monastrell 2022-01-15   \n",
       "183   69            Volver Tarima Hill Old Vines Monastrell 2022-01-10   \n",
       "184   69            Volver Tarima Hill Old Vines Monastrell 2022-01-10   \n",
       "185   69            Volver Tarima Hill Old Vines Monastrell 2022-01-08   \n",
       "\n",
       "                                                review  source  \n",
       "0    Vinho muito, mas muito bom da excelente vinícu...  vivino  \n",
       "1    oak tobacco black fruit blackberry pepper smok...  vivino  \n",
       "2    Adoramos! Frutas vermelhas. Ameixa. Pimentão v...  vivino  \n",
       "3                              Boda en SMA Clau y Polo  vivino  \n",
       "4    Gedronken bij Marcel en Marius. Qua smaakprofi...  vivino  \n",
       "..                                                 ...     ...  \n",
       "181  Vino espectacular, 14 meses en barrica frances...  vivino  \n",
       "182                  Dry, Dark, Bold with great flavor  vivino  \n",
       "183                                          Muy bueno  vivino  \n",
       "184  A very flavorful wine it also has a very nice ...  vivino  \n",
       "185                      4.2 풀바디. 적당한 탄닌. 탄산감 없음. 맛있어!  vivino  \n",
       "\n",
       "[173 rows x 5 columns]"
      ]
     },
     "execution_count": 79,
     "metadata": {},
     "output_type": "execute_result"
    }
   ],
   "source": [
    "df_reviews"
   ]
  },
  {
   "cell_type": "code",
   "execution_count": 80,
   "id": "c1194ba8-8188-4418-b6a2-e75cbf8f62f9",
   "metadata": {},
   "outputs": [
    {
     "data": {
      "text/plain": [
       "9718"
      ]
     },
     "execution_count": 80,
     "metadata": {},
     "output_type": "execute_result"
    }
   ],
   "source": [
    "file = 'wine_reviews_2' # exclude wine_reviews_tmp.csv\n",
    "df_reviews_db = read_csv(file, 'data')\n",
    "len(df_reviews_db)"
   ]
  },
  {
   "cell_type": "code",
   "execution_count": 81,
   "id": "f1f9e908-ed29-48ca-b0fd-2e538c9db56c",
   "metadata": {},
   "outputs": [
    {
     "data": {
      "text/plain": [
       "{41}"
      ]
     },
     "execution_count": 81,
     "metadata": {},
     "output_type": "execute_result"
    }
   ],
   "source": [
    "set(range(df_reviews_db.wid.max()+1)) - set(df_reviews_db.wid.unique())"
   ]
  },
  {
   "cell_type": "code",
   "execution_count": 82,
   "id": "7c7611e7-8662-4baa-afaa-2b50b3d7ae76",
   "metadata": {},
   "outputs": [],
   "source": [
    "wid_f, wid_t = 69, 41"
   ]
  },
  {
   "cell_type": "code",
   "execution_count": 83,
   "id": "bcd396d5-011f-4678-b961-0a2c77655aa1",
   "metadata": {},
   "outputs": [],
   "source": [
    "df_reviews.loc[df_reviews.wid == wid_f, 'wid'] = wid_t"
   ]
  },
  {
   "cell_type": "code",
   "execution_count": 84,
   "id": "50dc9f6b-b90a-4031-a5e8-d6c8944555c9",
   "metadata": {},
   "outputs": [
    {
     "data": {
      "text/plain": [
       "wid\n",
       "41    73\n",
       "67    37\n",
       "68    63\n",
       "Name: wine, dtype: int64"
      ]
     },
     "execution_count": 84,
     "metadata": {},
     "output_type": "execute_result"
    }
   ],
   "source": [
    "df_reviews.groupby('wid').wine.count()"
   ]
  },
  {
   "cell_type": "code",
   "execution_count": 89,
   "id": "15234aec-4fad-41e1-b5e2-03e0c6d68818",
   "metadata": {},
   "outputs": [
    {
     "name": "stdout",
     "output_type": "stream",
     "text": [
      "data/wine_41.csv saved.\n"
     ]
    }
   ],
   "source": [
    "file_f = f'wine_{wid_f}.csv'\n",
    "df = read_csv(file_f, 'data')\n",
    "df['wid'] = wid_t\n",
    "save_reviews(df, f'wine_{wid_t}.csv', 'data')"
   ]
  },
  {
   "cell_type": "code",
   "execution_count": 91,
   "id": "5afe7685-5ffe-4868-8860-efb35fe218ea",
   "metadata": {},
   "outputs": [],
   "source": [
    "!rm data/{file_f}"
   ]
  },
  {
   "cell_type": "markdown",
   "id": "1e0ed09d-89e9-48da-9c1c-0ef375608229",
   "metadata": {},
   "source": [
    "## varietal"
   ]
  },
  {
   "cell_type": "code",
   "execution_count": 10,
   "id": "fc5416ad-c6e8-4e14-be10-f5275ec3f9f4",
   "metadata": {},
   "outputs": [
    {
     "data": {
      "text/plain": [
       "9891"
      ]
     },
     "execution_count": 10,
     "metadata": {},
     "output_type": "execute_result"
    }
   ],
   "source": [
    "len(df_reviews)"
   ]
  },
  {
   "cell_type": "code",
   "execution_count": 11,
   "id": "77b8d2c0-f422-4f5b-aeeb-397863130277",
   "metadata": {},
   "outputs": [
    {
     "data": {
      "text/html": [
       "<div>\n",
       "<style scoped>\n",
       "    .dataframe tbody tr th:only-of-type {\n",
       "        vertical-align: middle;\n",
       "    }\n",
       "\n",
       "    .dataframe tbody tr th {\n",
       "        vertical-align: top;\n",
       "    }\n",
       "\n",
       "    .dataframe thead th {\n",
       "        text-align: right;\n",
       "    }\n",
       "</style>\n",
       "<table border=\"1\" class=\"dataframe\">\n",
       "  <thead>\n",
       "    <tr style=\"text-align: right;\">\n",
       "      <th></th>\n",
       "      <th>wid</th>\n",
       "      <th>wine</th>\n",
       "      <th>date</th>\n",
       "      <th>review</th>\n",
       "      <th>source</th>\n",
       "      <th>lang</th>\n",
       "      <th>review_transl</th>\n",
       "    </tr>\n",
       "  </thead>\n",
       "  <tbody>\n",
       "    <tr>\n",
       "      <th>0</th>\n",
       "      <td>40</td>\n",
       "      <td>Arione Moscato d'Asti</td>\n",
       "      <td>2023-11-06</td>\n",
       "      <td>pera pesca nota tropicale minerali</td>\n",
       "      <td>vivino</td>\n",
       "      <td>it</td>\n",
       "      <td>pear peach tropical note minerals</td>\n",
       "    </tr>\n",
       "    <tr>\n",
       "      <th>1</th>\n",
       "      <td>40</td>\n",
       "      <td>Arione Moscato d'Asti</td>\n",
       "      <td>2023-10-17</td>\n",
       "      <td>Ottimo</td>\n",
       "      <td>vivino</td>\n",
       "      <td>it</td>\n",
       "      <td>Optimal</td>\n",
       "    </tr>\n",
       "    <tr>\n",
       "      <th>2</th>\n",
       "      <td>40</td>\n",
       "      <td>Arione Moscato d'Asti</td>\n",
       "      <td>2023-10-09</td>\n",
       "      <td>조금 산뜻한 향, 처음 마시고 조금 있는 바디감, Saracco보다 조금 덜 달게 ...</td>\n",
       "      <td>vivino</td>\n",
       "      <td>ko</td>\n",
       "      <td>A slightly refreshing scent, a bit of body whe...</td>\n",
       "    </tr>\n",
       "    <tr>\n",
       "      <th>3</th>\n",
       "      <td>40</td>\n",
       "      <td>Arione Moscato d'Asti</td>\n",
       "      <td>2023-10-08</td>\n",
       "      <td>Afrutado, delicioso.</td>\n",
       "      <td>vivino</td>\n",
       "      <td>es</td>\n",
       "      <td>Fruity, delicious.</td>\n",
       "    </tr>\n",
       "    <tr>\n",
       "      <th>4</th>\n",
       "      <td>40</td>\n",
       "      <td>Arione Moscato d'Asti</td>\n",
       "      <td>2023-07-21</td>\n",
       "      <td>honey apple peach citrus Slight fizziness ligh...</td>\n",
       "      <td>vivino</td>\n",
       "      <td>en</td>\n",
       "      <td>honey apple peach citrus Slight fizziness ligh...</td>\n",
       "    </tr>\n",
       "  </tbody>\n",
       "</table>\n",
       "</div>"
      ],
      "text/plain": [
       "   wid                   wine        date  \\\n",
       "0   40  Arione Moscato d'Asti  2023-11-06   \n",
       "1   40  Arione Moscato d'Asti  2023-10-17   \n",
       "2   40  Arione Moscato d'Asti  2023-10-09   \n",
       "3   40  Arione Moscato d'Asti  2023-10-08   \n",
       "4   40  Arione Moscato d'Asti  2023-07-21   \n",
       "\n",
       "                                              review  source lang  \\\n",
       "0                 pera pesca nota tropicale minerali  vivino   it   \n",
       "1                                             Ottimo  vivino   it   \n",
       "2  조금 산뜻한 향, 처음 마시고 조금 있는 바디감, Saracco보다 조금 덜 달게 ...  vivino   ko   \n",
       "3                               Afrutado, delicioso.  vivino   es   \n",
       "4  honey apple peach citrus Slight fizziness ligh...  vivino   en   \n",
       "\n",
       "                                       review_transl  \n",
       "0                  pear peach tropical note minerals  \n",
       "1                                            Optimal  \n",
       "2  A slightly refreshing scent, a bit of body whe...  \n",
       "3                                 Fruity, delicious.  \n",
       "4  honey apple peach citrus Slight fizziness ligh...  "
      ]
     },
     "execution_count": 11,
     "metadata": {},
     "output_type": "execute_result"
    }
   ],
   "source": [
    "df_reviews.head()"
   ]
  },
  {
   "cell_type": "code",
   "execution_count": 12,
   "id": "b3c8badf-bdf1-40cd-a4db-da8050852a81",
   "metadata": {},
   "outputs": [
    {
     "data": {
      "text/plain": [
       "wid                69\n",
       "wine               69\n",
       "date             1095\n",
       "review           9500\n",
       "source              1\n",
       "lang               41\n",
       "review_transl    9369\n",
       "dtype: int64"
      ]
     },
     "execution_count": 12,
     "metadata": {},
     "output_type": "execute_result"
    }
   ],
   "source": [
    "df_reviews.nunique()"
   ]
  },
  {
   "cell_type": "code",
   "execution_count": 16,
   "id": "fadcfa1c-bcf1-4ae5-a98a-05301dbf1b6d",
   "metadata": {
    "scrolled": true
   },
   "outputs": [
    {
     "data": {
      "text/plain": [
       "[\"Arione Moscato d'Asti\",\n",
       " \"Two Hands Angels' Share Shiraz\",\n",
       " 'Two Hands Gnarly Dudes Shiraz',\n",
       " 'Two Hands Sexy Beast Cabernet Sauvignon',\n",
       " 'Cono Sur Single Vineyard Syrah',\n",
       " 'Cono Sur Single Vineyard Cabernet Sauvignon',\n",
       " 'Cono Sur Single Vineyard Pinot Noir',\n",
       " 'Cono Sur Single Vineyard Carmenere',\n",
       " 'Cono Sur Single Vineyard Chardonnay',\n",
       " 'Montes Montes Alpha Merlot',\n",
       " 'Montes Montes Alpha Syrah',\n",
       " 'San Pedro 1865 Selected Vineyards Syrah',\n",
       " 'San Pedro 1865 Single Vineyard Malbec',\n",
       " 'San Pedro 1865 Single Vineyard Syrah',\n",
       " 'Mollydooker The Boxer Shiraz',\n",
       " 'William Hill North Coast Cabernet Sauvignon',\n",
       " 'William Hill North Coast Chardonnay',\n",
       " \"Kendall-Jackson Vintner's Reserve Chardonnay\",\n",
       " 'Bread & Butter Pinot Noir',\n",
       " 'Bread & Butter Cabernet Sauvignon',\n",
       " 'Casillero del Diablo Cabernet Sauvignon (Reserva)',\n",
       " 'Yellow Tail Cabernet Sauvignon',\n",
       " 'Roche Mazet Cuvée Spéciale Cabernet Sauvignon',\n",
       " 'San Pedro Gato Negro Cabernet Sauvignon',\n",
       " 'Aguirre Dos Copas Cabernet Sauvignon',\n",
       " 'The 7th Generation - G7 Cabernet Sauvignon',\n",
       " 'Casillero del Diablo Chardonnay (Reserva)',\n",
       " \"Kendall-Jackson Vintner's Reserve Cabernet Sauvignon\",\n",
       " \"Viña Santa Helena Reservado Cabernet Sauvignon'\",\n",
       " 'Frontera Cabernet Sauvignon',\n",
       " 'Long Barn Chardonnay',\n",
       " 'Cono Sur Bicicleta Reserva Unoaked Chardonnay',\n",
       " 'The 7th Generation - G7 Chardonnay',\n",
       " 'San Pedro Gato Negro Chardonnay',\n",
       " 'Roche Mazet Cuvée Spéciale Chardonnay',\n",
       " 'Yellow Tail Chardonnay',\n",
       " 'San Pedro 1865 Selected Vineyards Cabernet Sauvignon',\n",
       " 'San Pedro 1865 Single Vineyard Cabernet Sauvignon',\n",
       " 'Montes Montes Alpha Cabernet Sauvignon',\n",
       " \"Vietti Moscato d'Asti\",\n",
       " 'Villa M Bianco',\n",
       " \"Michele Chiarlo Moscato d'Asti Nivole\",\n",
       " \"Canti Moscato d'Asti\",\n",
       " \"Vallebelbo Moscato d'Asti\",\n",
       " \"Balbi Soprani Moscato d'Asti\",\n",
       " \"Gancia Moscato d'Asti N.V.\",\n",
       " \"Tosti Moscato d'Asti\",\n",
       " \"G.D. Vajra Moscato d'Asti\",\n",
       " \"Castello del Poggio Moscato d'Asti\",\n",
       " 'Carnivor Cabernet Sauvignon',\n",
       " 'Kilikanoon Covenant Shiraz',\n",
       " 'Diablo Black Cabernet Sauvignon',\n",
       " 'Carlo Sani Susumaniello',\n",
       " \"d'Arenberg The High Trellis Cabernet Sauvignon\",\n",
       " 'Lan Gran Reserva Rioja',\n",
       " 'Woodbridge by Robert Mondavi Cabernet Sauvignon',\n",
       " 'Mascota Vineyards Unánime Pinot Noir',\n",
       " 'Clos de los Siete Clos de Los Siete (by Michel Rolland)',\n",
       " 'Mazzei Philip',\n",
       " 'Lapostolle Grand Selection Merlot',\n",
       " '1924 Wines Port Barrel Aged Pinot Noir (Limited Edition)',\n",
       " 'Francis Ford Coppola Winery Diamond Collection Claret',\n",
       " 'Dark Horse Cabernet Sauvignon',\n",
       " '14 Hands Cabernet Sauvignon',\n",
       " 'Quebrada de Macul Alba de Domus',\n",
       " 'Catena Cabernet Sauvignon',\n",
       " 'Montes Montes Alpha Special Cuvée Cabernet Sauvignon',\n",
       " 'Masseria Borgo dei Trulli Lucale Appassimento Primitivo',\n",
       " 'Volver Tarima Hill Old Vines Monastrell']"
      ]
     },
     "execution_count": 16,
     "metadata": {},
     "output_type": "execute_result"
    }
   ],
   "source": [
    "wid_wine = df_reviews[['wid', 'wine']].drop_duplicates().to_dict(orient='list')\n",
    "wid_wine['wine']"
   ]
  },
  {
   "cell_type": "code",
   "execution_count": 26,
   "id": "0167b58f-b2f7-4aeb-9b6c-707baf687353",
   "metadata": {},
   "outputs": [
    {
     "name": "stdout",
     "output_type": "stream",
     "text": [
      "ambiguous\n",
      "ambiguous\n",
      "ambiguous\n",
      "ambiguous\n",
      "ambiguous\n",
      "ambiguous\n",
      "ambiguous\n",
      "ambiguous\n",
      "ambiguous\n",
      "ambiguous\n",
      "ambiguous\n"
     ]
    }
   ],
   "source": [
    "def find_style(name):\n",
    "    style_dict = {\n",
    "        'red': ['cabernet', 'shiraz', 'syrah', 'pinot', 'merlot', 'carmenere', 'malbec'],\n",
    "        'white': ['chardonnay', 'blanc'],\n",
    "        'sparkling': ['champagne', 'moscato'],\n",
    "        'desert': []\n",
    "    }\n",
    "    style = [s for s, words in style_dict.items() for w in words if w in name.lower()]\n",
    "    if len(style) == 1:\n",
    "        return style[0]\n",
    "    else:\n",
    "        print('ambiguous')\n",
    "        return None\n",
    "\n",
    "\n",
    "#w = 'Mollydooker The Boxer Shira'\n",
    "#find_style(w)\n",
    "\n",
    "styles = []\n",
    "for w in wid_wine['wine']:\n",
    "    s = find_style(w)\n",
    "    styles.append(s)"
   ]
  },
  {
   "cell_type": "code",
   "execution_count": 29,
   "id": "6bae18e8-a554-4c89-83cf-06a221724649",
   "metadata": {},
   "outputs": [
    {
     "data": {
      "text/plain": [
       "['Cono Sur Single Vineyard Carmenere',\n",
       " 'San Pedro 1865 Single Vineyard Malbec',\n",
       " 'Villa M Bianco',\n",
       " 'Carlo Sani Susumaniello',\n",
       " 'Lan Gran Reserva Rioja',\n",
       " 'Clos de los Siete Clos de Los Siete (by Michel Rolland)',\n",
       " 'Mazzei Philip',\n",
       " 'Francis Ford Coppola Winery Diamond Collection Claret',\n",
       " 'Quebrada de Macul Alba de Domus',\n",
       " 'Masseria Borgo dei Trulli Lucale Appassimento Primitivo',\n",
       " 'Volver Tarima Hill Old Vines Monastrell']"
      ]
     },
     "execution_count": 29,
     "metadata": {},
     "output_type": "execute_result"
    }
   ],
   "source": [
    "idx = [i for i,s in enumerate(styles) if s is None]\n",
    "w2 = [wid_wine['wine'][i] for i in idx]\n",
    "w2"
   ]
  },
  {
   "cell_type": "code",
   "execution_count": 30,
   "id": "eb64c1ea-65aa-4b97-b229-82a59abb0746",
   "metadata": {},
   "outputs": [
    {
     "name": "stdout",
     "output_type": "stream",
     "text": [
      "red: Cono Sur Single Vineyard Carmenere\n",
      "red: San Pedro 1865 Single Vineyard Malbec\n",
      "sparkling: Villa M Bianco\n",
      "red: Carlo Sani Susumaniello\n",
      "red: Lan Gran Reserva Rioja\n",
      "red: Clos de los Siete Clos de Los Siete (by Michel Rolland)\n",
      "red: Mazzei Philip\n",
      "red: Francis Ford Coppola Winery Diamond Collection Claret\n",
      "red: Quebrada de Macul Alba de Domus\n",
      "red: Masseria Borgo dei Trulli Lucale Appassimento Primitivo\n",
      "red: Volver Tarima Hill Old Vines Monastrell\n"
     ]
    }
   ],
   "source": [
    "s2 = ['red', 'red', 'sparkling', 'red', 'red', 'red', 'red', 'red', 'red', 'red', 'red']\n",
    "_ = [print(f'{s}: {w}') for w, s in zip(w2, s2)]"
   ]
  },
  {
   "cell_type": "code",
   "execution_count": 32,
   "id": "c832295c-9709-419f-9f97-dba2d80240dd",
   "metadata": {},
   "outputs": [
    {
     "data": {
      "text/plain": [
       "[]"
      ]
     },
     "execution_count": 32,
     "metadata": {},
     "output_type": "execute_result"
    }
   ],
   "source": [
    "for i, x in enumerate(idx):\n",
    "    styles[x] = s2[i]\n",
    "\n",
    "[x for x in styles if x is None]"
   ]
  },
  {
   "cell_type": "code",
   "execution_count": 58,
   "id": "0321f2f0-ce46-4f80-88b7-252f4fec68f1",
   "metadata": {
    "scrolled": true
   },
   "outputs": [
    {
     "name": "stdout",
     "output_type": "stream",
     "text": [
      "sparkling: Arione Moscato d'Asti\n",
      "red: Two Hands Angels' Share Shiraz\n",
      "red: Two Hands Gnarly Dudes Shiraz\n",
      "red: Two Hands Sexy Beast Cabernet Sauvignon\n",
      "red: Cono Sur Single Vineyard Syrah\n",
      "red: Cono Sur Single Vineyard Cabernet Sauvignon\n",
      "red: Cono Sur Single Vineyard Pinot Noir\n",
      "red: Cono Sur Single Vineyard Carmenere\n",
      "white: Cono Sur Single Vineyard Chardonnay\n",
      "red: Montes Montes Alpha Merlot\n",
      "red: Montes Montes Alpha Syrah\n",
      "red: San Pedro 1865 Selected Vineyards Syrah\n",
      "red: San Pedro 1865 Single Vineyard Malbec\n",
      "red: San Pedro 1865 Single Vineyard Syrah\n",
      "red: Mollydooker The Boxer Shiraz\n",
      "red: William Hill North Coast Cabernet Sauvignon\n",
      "white: William Hill North Coast Chardonnay\n",
      "white: Kendall-Jackson Vintner's Reserve Chardonnay\n",
      "red: Bread & Butter Pinot Noir\n",
      "red: Bread & Butter Cabernet Sauvignon\n",
      "red: Casillero del Diablo Cabernet Sauvignon (Reserva)\n",
      "red: Yellow Tail Cabernet Sauvignon\n",
      "red: Roche Mazet Cuvée Spéciale Cabernet Sauvignon\n",
      "red: San Pedro Gato Negro Cabernet Sauvignon\n",
      "red: Aguirre Dos Copas Cabernet Sauvignon\n",
      "red: The 7th Generation - G7 Cabernet Sauvignon\n",
      "white: Casillero del Diablo Chardonnay (Reserva)\n",
      "red: Kendall-Jackson Vintner's Reserve Cabernet Sauvignon\n",
      "red: Viña Santa Helena Reservado Cabernet Sauvignon'\n",
      "red: Frontera Cabernet Sauvignon\n",
      "white: Long Barn Chardonnay\n",
      "white: Cono Sur Bicicleta Reserva Unoaked Chardonnay\n",
      "white: The 7th Generation - G7 Chardonnay\n",
      "white: San Pedro Gato Negro Chardonnay\n",
      "white: Roche Mazet Cuvée Spéciale Chardonnay\n",
      "white: Yellow Tail Chardonnay\n",
      "red: San Pedro 1865 Selected Vineyards Cabernet Sauvignon\n",
      "red: San Pedro 1865 Single Vineyard Cabernet Sauvignon\n",
      "red: Montes Montes Alpha Cabernet Sauvignon\n",
      "sparkling: Vietti Moscato d'Asti\n",
      "sparkling: Villa M Bianco\n",
      "sparkling: Michele Chiarlo Moscato d'Asti Nivole\n",
      "sparkling: Canti Moscato d'Asti\n",
      "sparkling: Vallebelbo Moscato d'Asti\n",
      "sparkling: Balbi Soprani Moscato d'Asti\n",
      "sparkling: Gancia Moscato d'Asti N.V.\n",
      "sparkling: Tosti Moscato d'Asti\n",
      "sparkling: G.D. Vajra Moscato d'Asti\n",
      "sparkling: Castello del Poggio Moscato d'Asti\n",
      "red: Carnivor Cabernet Sauvignon\n",
      "red: Kilikanoon Covenant Shiraz\n",
      "red: Diablo Black Cabernet Sauvignon\n",
      "red: Carlo Sani Susumaniello\n",
      "red: d'Arenberg The High Trellis Cabernet Sauvignon\n",
      "red: Lan Gran Reserva Rioja\n",
      "red: Woodbridge by Robert Mondavi Cabernet Sauvignon\n",
      "red: Mascota Vineyards Unánime Pinot Noir\n",
      "red: Clos de los Siete Clos de Los Siete (by Michel Rolland)\n",
      "red: Mazzei Philip\n",
      "red: Lapostolle Grand Selection Merlot\n",
      "red: 1924 Wines Port Barrel Aged Pinot Noir (Limited Edition)\n",
      "red: Francis Ford Coppola Winery Diamond Collection Claret\n",
      "red: Dark Horse Cabernet Sauvignon\n",
      "red: 14 Hands Cabernet Sauvignon\n",
      "red: Quebrada de Macul Alba de Domus\n",
      "red: Catena Cabernet Sauvignon\n",
      "red: Montes Montes Alpha Special Cuvée Cabernet Sauvignon\n",
      "red: Masseria Borgo dei Trulli Lucale Appassimento Primitivo\n",
      "red: Volver Tarima Hill Old Vines Monastrell\n"
     ]
    }
   ],
   "source": [
    "wine_style = dict(zip(wid_wine['wine'], styles))\n",
    "_ = [print(f'{s}: {w}') for w, s in wine_style.items()]"
   ]
  },
  {
   "cell_type": "code",
   "execution_count": 61,
   "id": "6c6b38d0-0946-4bb2-9708-7b0be7f00feb",
   "metadata": {},
   "outputs": [
    {
     "data": {
      "text/html": [
       "<div>\n",
       "<style scoped>\n",
       "    .dataframe tbody tr th:only-of-type {\n",
       "        vertical-align: middle;\n",
       "    }\n",
       "\n",
       "    .dataframe tbody tr th {\n",
       "        vertical-align: top;\n",
       "    }\n",
       "\n",
       "    .dataframe thead th {\n",
       "        text-align: right;\n",
       "    }\n",
       "</style>\n",
       "<table border=\"1\" class=\"dataframe\">\n",
       "  <thead>\n",
       "    <tr style=\"text-align: right;\">\n",
       "      <th></th>\n",
       "      <th>wid</th>\n",
       "      <th>wine</th>\n",
       "      <th>date</th>\n",
       "      <th>review</th>\n",
       "      <th>source</th>\n",
       "      <th>lang</th>\n",
       "      <th>review_transl</th>\n",
       "      <th>style</th>\n",
       "    </tr>\n",
       "  </thead>\n",
       "  <tbody>\n",
       "    <tr>\n",
       "      <th>0</th>\n",
       "      <td>40</td>\n",
       "      <td>Arione Moscato d'Asti</td>\n",
       "      <td>2023-11-06</td>\n",
       "      <td>pera pesca nota tropicale minerali</td>\n",
       "      <td>vivino</td>\n",
       "      <td>it</td>\n",
       "      <td>pear peach tropical note minerals</td>\n",
       "      <td>sparkling</td>\n",
       "    </tr>\n",
       "    <tr>\n",
       "      <th>1</th>\n",
       "      <td>40</td>\n",
       "      <td>Arione Moscato d'Asti</td>\n",
       "      <td>2023-10-17</td>\n",
       "      <td>Ottimo</td>\n",
       "      <td>vivino</td>\n",
       "      <td>it</td>\n",
       "      <td>Optimal</td>\n",
       "      <td>sparkling</td>\n",
       "    </tr>\n",
       "    <tr>\n",
       "      <th>2</th>\n",
       "      <td>40</td>\n",
       "      <td>Arione Moscato d'Asti</td>\n",
       "      <td>2023-10-09</td>\n",
       "      <td>조금 산뜻한 향, 처음 마시고 조금 있는 바디감, Saracco보다 조금 덜 달게 ...</td>\n",
       "      <td>vivino</td>\n",
       "      <td>ko</td>\n",
       "      <td>A slightly refreshing scent, a bit of body whe...</td>\n",
       "      <td>sparkling</td>\n",
       "    </tr>\n",
       "    <tr>\n",
       "      <th>3</th>\n",
       "      <td>40</td>\n",
       "      <td>Arione Moscato d'Asti</td>\n",
       "      <td>2023-10-08</td>\n",
       "      <td>Afrutado, delicioso.</td>\n",
       "      <td>vivino</td>\n",
       "      <td>es</td>\n",
       "      <td>Fruity, delicious.</td>\n",
       "      <td>sparkling</td>\n",
       "    </tr>\n",
       "    <tr>\n",
       "      <th>4</th>\n",
       "      <td>40</td>\n",
       "      <td>Arione Moscato d'Asti</td>\n",
       "      <td>2023-07-21</td>\n",
       "      <td>honey apple peach citrus Slight fizziness ligh...</td>\n",
       "      <td>vivino</td>\n",
       "      <td>en</td>\n",
       "      <td>honey apple peach citrus Slight fizziness ligh...</td>\n",
       "      <td>sparkling</td>\n",
       "    </tr>\n",
       "  </tbody>\n",
       "</table>\n",
       "</div>"
      ],
      "text/plain": [
       "   wid                   wine        date  \\\n",
       "0   40  Arione Moscato d'Asti  2023-11-06   \n",
       "1   40  Arione Moscato d'Asti  2023-10-17   \n",
       "2   40  Arione Moscato d'Asti  2023-10-09   \n",
       "3   40  Arione Moscato d'Asti  2023-10-08   \n",
       "4   40  Arione Moscato d'Asti  2023-07-21   \n",
       "\n",
       "                                              review  source lang  \\\n",
       "0                 pera pesca nota tropicale minerali  vivino   it   \n",
       "1                                             Ottimo  vivino   it   \n",
       "2  조금 산뜻한 향, 처음 마시고 조금 있는 바디감, Saracco보다 조금 덜 달게 ...  vivino   ko   \n",
       "3                               Afrutado, delicioso.  vivino   es   \n",
       "4  honey apple peach citrus Slight fizziness ligh...  vivino   en   \n",
       "\n",
       "                                       review_transl      style  \n",
       "0                  pear peach tropical note minerals  sparkling  \n",
       "1                                            Optimal  sparkling  \n",
       "2  A slightly refreshing scent, a bit of body whe...  sparkling  \n",
       "3                                 Fruity, delicious.  sparkling  \n",
       "4  honey apple peach citrus Slight fizziness ligh...  sparkling  "
      ]
     },
     "execution_count": 61,
     "metadata": {},
     "output_type": "execute_result"
    }
   ],
   "source": [
    "df_reviews['style'] = df_reviews.apply(lambda x: wine_style[x.wine], axis=1)\n",
    "df_reviews.head()"
   ]
  },
  {
   "cell_type": "code",
   "execution_count": 63,
   "id": "4a7ae805-f8f9-4777-8fb3-2fc6342b61ee",
   "metadata": {},
   "outputs": [
    {
     "data": {
      "text/html": [
       "<div>\n",
       "<style scoped>\n",
       "    .dataframe tbody tr th:only-of-type {\n",
       "        vertical-align: middle;\n",
       "    }\n",
       "\n",
       "    .dataframe tbody tr th {\n",
       "        vertical-align: top;\n",
       "    }\n",
       "\n",
       "    .dataframe thead th {\n",
       "        text-align: right;\n",
       "    }\n",
       "</style>\n",
       "<table border=\"1\" class=\"dataframe\">\n",
       "  <thead>\n",
       "    <tr style=\"text-align: right;\">\n",
       "      <th></th>\n",
       "      <th>wid</th>\n",
       "      <th>wine</th>\n",
       "      <th>date</th>\n",
       "      <th>review</th>\n",
       "      <th>source</th>\n",
       "      <th>lang</th>\n",
       "      <th>review_transl</th>\n",
       "      <th>style</th>\n",
       "    </tr>\n",
       "  </thead>\n",
       "  <tbody>\n",
       "    <tr>\n",
       "      <th>9886</th>\n",
       "      <td>41</td>\n",
       "      <td>Volver Tarima Hill Old Vines Monastrell</td>\n",
       "      <td>2022-01-20</td>\n",
       "      <td>Vino espectacular, 14 meses en barrica frances...</td>\n",
       "      <td>vivino</td>\n",
       "      <td>es</td>\n",
       "      <td>Spectacular wine, 14 months in French barrels....</td>\n",
       "      <td>red</td>\n",
       "    </tr>\n",
       "    <tr>\n",
       "      <th>9887</th>\n",
       "      <td>41</td>\n",
       "      <td>Volver Tarima Hill Old Vines Monastrell</td>\n",
       "      <td>2022-01-15</td>\n",
       "      <td>Dry, Dark, Bold with great flavor</td>\n",
       "      <td>vivino</td>\n",
       "      <td>en</td>\n",
       "      <td>Dry, Dark, Bold with great flavor</td>\n",
       "      <td>red</td>\n",
       "    </tr>\n",
       "    <tr>\n",
       "      <th>9888</th>\n",
       "      <td>41</td>\n",
       "      <td>Volver Tarima Hill Old Vines Monastrell</td>\n",
       "      <td>2022-01-10</td>\n",
       "      <td>Muy bueno</td>\n",
       "      <td>vivino</td>\n",
       "      <td>es</td>\n",
       "      <td>Very good</td>\n",
       "      <td>red</td>\n",
       "    </tr>\n",
       "    <tr>\n",
       "      <th>9889</th>\n",
       "      <td>41</td>\n",
       "      <td>Volver Tarima Hill Old Vines Monastrell</td>\n",
       "      <td>2022-01-10</td>\n",
       "      <td>A very flavorful wine it also has a very nice ...</td>\n",
       "      <td>vivino</td>\n",
       "      <td>en</td>\n",
       "      <td>A very flavorful wine it also has a very nice ...</td>\n",
       "      <td>red</td>\n",
       "    </tr>\n",
       "    <tr>\n",
       "      <th>9890</th>\n",
       "      <td>41</td>\n",
       "      <td>Volver Tarima Hill Old Vines Monastrell</td>\n",
       "      <td>2022-01-08</td>\n",
       "      <td>4.2 풀바디. 적당한 탄닌. 탄산감 없음. 맛있어!</td>\n",
       "      <td>vivino</td>\n",
       "      <td>ko</td>\n",
       "      <td>4.2 Full body. Moderate tannin. No carbonation...</td>\n",
       "      <td>red</td>\n",
       "    </tr>\n",
       "  </tbody>\n",
       "</table>\n",
       "</div>"
      ],
      "text/plain": [
       "      wid                                     wine        date  \\\n",
       "9886   41  Volver Tarima Hill Old Vines Monastrell  2022-01-20   \n",
       "9887   41  Volver Tarima Hill Old Vines Monastrell  2022-01-15   \n",
       "9888   41  Volver Tarima Hill Old Vines Monastrell  2022-01-10   \n",
       "9889   41  Volver Tarima Hill Old Vines Monastrell  2022-01-10   \n",
       "9890   41  Volver Tarima Hill Old Vines Monastrell  2022-01-08   \n",
       "\n",
       "                                                 review  source lang  \\\n",
       "9886  Vino espectacular, 14 meses en barrica frances...  vivino   es   \n",
       "9887                  Dry, Dark, Bold with great flavor  vivino   en   \n",
       "9888                                          Muy bueno  vivino   es   \n",
       "9889  A very flavorful wine it also has a very nice ...  vivino   en   \n",
       "9890                      4.2 풀바디. 적당한 탄닌. 탄산감 없음. 맛있어!  vivino   ko   \n",
       "\n",
       "                                          review_transl style  \n",
       "9886  Spectacular wine, 14 months in French barrels....   red  \n",
       "9887                  Dry, Dark, Bold with great flavor   red  \n",
       "9888                                          Very good   red  \n",
       "9889  A very flavorful wine it also has a very nice ...   red  \n",
       "9890  4.2 Full body. Moderate tannin. No carbonation...   red  "
      ]
     },
     "execution_count": 63,
     "metadata": {},
     "output_type": "execute_result"
    }
   ],
   "source": [
    "df_reviews.tail()"
   ]
  },
  {
   "cell_type": "markdown",
   "id": "eff4af90-e32e-48a3-937c-5f575f2b30b2",
   "metadata": {},
   "source": [
    "# Translate"
   ]
  },
  {
   "cell_type": "code",
   "execution_count": 92,
   "id": "dad6c683-d335-4109-a415-5fb94a0856e6",
   "metadata": {},
   "outputs": [
    {
     "data": {
      "text/plain": [
       "173"
      ]
     },
     "execution_count": 92,
     "metadata": {},
     "output_type": "execute_result"
    }
   ],
   "source": [
    "len(df_reviews)"
   ]
  },
  {
   "cell_type": "code",
   "execution_count": 93,
   "id": "337b1c30-18e4-4542-b6af-f82bbf6c04b9",
   "metadata": {},
   "outputs": [
    {
     "data": {
      "text/html": [
       "<div>\n",
       "<style scoped>\n",
       "    .dataframe tbody tr th:only-of-type {\n",
       "        vertical-align: middle;\n",
       "    }\n",
       "\n",
       "    .dataframe tbody tr th {\n",
       "        vertical-align: top;\n",
       "    }\n",
       "\n",
       "    .dataframe thead th {\n",
       "        text-align: right;\n",
       "    }\n",
       "</style>\n",
       "<table border=\"1\" class=\"dataframe\">\n",
       "  <thead>\n",
       "    <tr style=\"text-align: right;\">\n",
       "      <th></th>\n",
       "      <th>wid</th>\n",
       "      <th>wine</th>\n",
       "      <th>date</th>\n",
       "      <th>review</th>\n",
       "      <th>source</th>\n",
       "    </tr>\n",
       "  </thead>\n",
       "  <tbody>\n",
       "    <tr>\n",
       "      <th>0</th>\n",
       "      <td>67</td>\n",
       "      <td>Montes Montes Alpha Special Cuvée Cabernet Sau...</td>\n",
       "      <td>2024-03-14</td>\n",
       "      <td>Vinho muito, mas muito bom da excelente vinícu...</td>\n",
       "      <td>vivino</td>\n",
       "    </tr>\n",
       "    <tr>\n",
       "      <th>1</th>\n",
       "      <td>67</td>\n",
       "      <td>Montes Montes Alpha Special Cuvée Cabernet Sau...</td>\n",
       "      <td>2024-01-20</td>\n",
       "      <td>oak tobacco black fruit blackberry pepper smok...</td>\n",
       "      <td>vivino</td>\n",
       "    </tr>\n",
       "    <tr>\n",
       "      <th>2</th>\n",
       "      <td>67</td>\n",
       "      <td>Montes Montes Alpha Special Cuvée Cabernet Sau...</td>\n",
       "      <td>2024-01-11</td>\n",
       "      <td>Adoramos! Frutas vermelhas. Ameixa. Pimentão v...</td>\n",
       "      <td>vivino</td>\n",
       "    </tr>\n",
       "    <tr>\n",
       "      <th>3</th>\n",
       "      <td>67</td>\n",
       "      <td>Montes Montes Alpha Special Cuvée Cabernet Sau...</td>\n",
       "      <td>2023-12-17</td>\n",
       "      <td>Boda en SMA Clau y Polo</td>\n",
       "      <td>vivino</td>\n",
       "    </tr>\n",
       "    <tr>\n",
       "      <th>4</th>\n",
       "      <td>67</td>\n",
       "      <td>Montes Montes Alpha Special Cuvée Cabernet Sau...</td>\n",
       "      <td>2023-12-02</td>\n",
       "      <td>Gedronken bij Marcel en Marius. Qua smaakprofi...</td>\n",
       "      <td>vivino</td>\n",
       "    </tr>\n",
       "  </tbody>\n",
       "</table>\n",
       "</div>"
      ],
      "text/plain": [
       "   wid                                               wine       date  \\\n",
       "0   67  Montes Montes Alpha Special Cuvée Cabernet Sau... 2024-03-14   \n",
       "1   67  Montes Montes Alpha Special Cuvée Cabernet Sau... 2024-01-20   \n",
       "2   67  Montes Montes Alpha Special Cuvée Cabernet Sau... 2024-01-11   \n",
       "3   67  Montes Montes Alpha Special Cuvée Cabernet Sau... 2023-12-17   \n",
       "4   67  Montes Montes Alpha Special Cuvée Cabernet Sau... 2023-12-02   \n",
       "\n",
       "                                              review  source  \n",
       "0  Vinho muito, mas muito bom da excelente vinícu...  vivino  \n",
       "1  oak tobacco black fruit blackberry pepper smok...  vivino  \n",
       "2  Adoramos! Frutas vermelhas. Ameixa. Pimentão v...  vivino  \n",
       "3                            Boda en SMA Clau y Polo  vivino  \n",
       "4  Gedronken bij Marcel en Marius. Qua smaakprofi...  vivino  "
      ]
     },
     "execution_count": 93,
     "metadata": {},
     "output_type": "execute_result"
    }
   ],
   "source": [
    "df_reviews.head()"
   ]
  },
  {
   "cell_type": "code",
   "execution_count": 94,
   "id": "f3e3ecd4-49dc-4827-9a0a-efd0dd1a5978",
   "metadata": {},
   "outputs": [
    {
     "name": "stderr",
     "output_type": "stream",
     "text": [
      "100%|█████████████████████████████████████████████████████████████| 173/173 [01:51<00:00,  1.55it/s]\n"
     ]
    },
    {
     "data": {
      "text/html": [
       "<div>\n",
       "<style scoped>\n",
       "    .dataframe tbody tr th:only-of-type {\n",
       "        vertical-align: middle;\n",
       "    }\n",
       "\n",
       "    .dataframe tbody tr th {\n",
       "        vertical-align: top;\n",
       "    }\n",
       "\n",
       "    .dataframe thead th {\n",
       "        text-align: right;\n",
       "    }\n",
       "</style>\n",
       "<table border=\"1\" class=\"dataframe\">\n",
       "  <thead>\n",
       "    <tr style=\"text-align: right;\">\n",
       "      <th></th>\n",
       "      <th>wid</th>\n",
       "      <th>wine</th>\n",
       "      <th>date</th>\n",
       "      <th>review</th>\n",
       "      <th>source</th>\n",
       "      <th>lang</th>\n",
       "      <th>review_transl</th>\n",
       "    </tr>\n",
       "  </thead>\n",
       "  <tbody>\n",
       "    <tr>\n",
       "      <th>0</th>\n",
       "      <td>67</td>\n",
       "      <td>Montes Montes Alpha Special Cuvée Cabernet Sau...</td>\n",
       "      <td>2024-03-14</td>\n",
       "      <td>Vinho muito, mas muito bom da excelente vinícu...</td>\n",
       "      <td>vivino</td>\n",
       "      <td>pt</td>\n",
       "      <td>Very, very good wine from the excellent Montes...</td>\n",
       "    </tr>\n",
       "    <tr>\n",
       "      <th>1</th>\n",
       "      <td>67</td>\n",
       "      <td>Montes Montes Alpha Special Cuvée Cabernet Sau...</td>\n",
       "      <td>2024-01-20</td>\n",
       "      <td>oak tobacco black fruit blackberry pepper smok...</td>\n",
       "      <td>vivino</td>\n",
       "      <td>en</td>\n",
       "      <td>oak tobacco black fruit blackberry pepper smok...</td>\n",
       "    </tr>\n",
       "    <tr>\n",
       "      <th>2</th>\n",
       "      <td>67</td>\n",
       "      <td>Montes Montes Alpha Special Cuvée Cabernet Sau...</td>\n",
       "      <td>2024-01-11</td>\n",
       "      <td>Adoramos! Frutas vermelhas. Ameixa. Pimentão v...</td>\n",
       "      <td>vivino</td>\n",
       "      <td>pt</td>\n",
       "      <td>We love it! Red fruits. Plum. Red pepper. Coff...</td>\n",
       "    </tr>\n",
       "    <tr>\n",
       "      <th>3</th>\n",
       "      <td>67</td>\n",
       "      <td>Montes Montes Alpha Special Cuvée Cabernet Sau...</td>\n",
       "      <td>2023-12-17</td>\n",
       "      <td>Boda en SMA Clau y Polo</td>\n",
       "      <td>vivino</td>\n",
       "      <td>cy</td>\n",
       "      <td>Wedding at SMA Clau y Polo</td>\n",
       "    </tr>\n",
       "    <tr>\n",
       "      <th>4</th>\n",
       "      <td>67</td>\n",
       "      <td>Montes Montes Alpha Special Cuvée Cabernet Sau...</td>\n",
       "      <td>2023-12-02</td>\n",
       "      <td>Gedronken bij Marcel en Marius. Qua smaakprofi...</td>\n",
       "      <td>vivino</td>\n",
       "      <td>nl</td>\n",
       "      <td>Had drinks with Marcel and Marius. In terms of...</td>\n",
       "    </tr>\n",
       "  </tbody>\n",
       "</table>\n",
       "</div>"
      ],
      "text/plain": [
       "   wid                                               wine       date  \\\n",
       "0   67  Montes Montes Alpha Special Cuvée Cabernet Sau... 2024-03-14   \n",
       "1   67  Montes Montes Alpha Special Cuvée Cabernet Sau... 2024-01-20   \n",
       "2   67  Montes Montes Alpha Special Cuvée Cabernet Sau... 2024-01-11   \n",
       "3   67  Montes Montes Alpha Special Cuvée Cabernet Sau... 2023-12-17   \n",
       "4   67  Montes Montes Alpha Special Cuvée Cabernet Sau... 2023-12-02   \n",
       "\n",
       "                                              review  source lang  \\\n",
       "0  Vinho muito, mas muito bom da excelente vinícu...  vivino   pt   \n",
       "1  oak tobacco black fruit blackberry pepper smok...  vivino   en   \n",
       "2  Adoramos! Frutas vermelhas. Ameixa. Pimentão v...  vivino   pt   \n",
       "3                            Boda en SMA Clau y Polo  vivino   cy   \n",
       "4  Gedronken bij Marcel en Marius. Qua smaakprofi...  vivino   nl   \n",
       "\n",
       "                                       review_transl  \n",
       "0  Very, very good wine from the excellent Montes...  \n",
       "1  oak tobacco black fruit blackberry pepper smok...  \n",
       "2  We love it! Red fruits. Plum. Red pepper. Coff...  \n",
       "3                         Wedding at SMA Clau y Polo  \n",
       "4  Had drinks with Marcel and Marius. In terms of...  "
      ]
     },
     "execution_count": 94,
     "metadata": {},
     "output_type": "execute_result"
    }
   ],
   "source": [
    "df_reviews = translate_reviews(df_reviews)  \n",
    "df_reviews.head()"
   ]
  },
  {
   "cell_type": "markdown",
   "id": "31667a4a-9d5b-4b1a-a829-9300280e83e4",
   "metadata": {},
   "source": [
    "**check translation error**"
   ]
  },
  {
   "cell_type": "code",
   "execution_count": 95,
   "id": "4400c9e4-c634-4f1a-ab36-f4575d84d090",
   "metadata": {},
   "outputs": [
    {
     "data": {
      "text/html": [
       "<div>\n",
       "<style scoped>\n",
       "    .dataframe tbody tr th:only-of-type {\n",
       "        vertical-align: middle;\n",
       "    }\n",
       "\n",
       "    .dataframe tbody tr th {\n",
       "        vertical-align: top;\n",
       "    }\n",
       "\n",
       "    .dataframe thead th {\n",
       "        text-align: right;\n",
       "    }\n",
       "</style>\n",
       "<table border=\"1\" class=\"dataframe\">\n",
       "  <thead>\n",
       "    <tr style=\"text-align: right;\">\n",
       "      <th></th>\n",
       "      <th>wid</th>\n",
       "      <th>wine</th>\n",
       "      <th>date</th>\n",
       "      <th>review</th>\n",
       "      <th>source</th>\n",
       "      <th>lang</th>\n",
       "      <th>review_transl</th>\n",
       "    </tr>\n",
       "  </thead>\n",
       "  <tbody>\n",
       "  </tbody>\n",
       "</table>\n",
       "</div>"
      ],
      "text/plain": [
       "Empty DataFrame\n",
       "Columns: [wid, wine, date, review, source, lang, review_transl]\n",
       "Index: []"
      ]
     },
     "execution_count": 95,
     "metadata": {},
     "output_type": "execute_result"
    }
   ],
   "source": [
    "cond = df_reviews.lang.str.contains('ERROR')\n",
    "df_reviews.loc[cond]"
   ]
  },
  {
   "cell_type": "code",
   "execution_count": null,
   "id": "3cb4fe3e-109b-4ec0-9292-b9bbcdd2c943",
   "metadata": {},
   "outputs": [],
   "source": [
    "df_err = df_reviews.loc[cond].drop(columns=['lang', 'review_transl'])\n",
    "df_err = translate_reviews(df_err, merge=True)  \n",
    "df_err"
   ]
  },
  {
   "cell_type": "code",
   "execution_count": 76,
   "id": "c1539869-c5f6-47d9-b351-37c10b07cc21",
   "metadata": {},
   "outputs": [
    {
     "data": {
      "text/html": [
       "<div>\n",
       "<style scoped>\n",
       "    .dataframe tbody tr th:only-of-type {\n",
       "        vertical-align: middle;\n",
       "    }\n",
       "\n",
       "    .dataframe tbody tr th {\n",
       "        vertical-align: top;\n",
       "    }\n",
       "\n",
       "    .dataframe thead th {\n",
       "        text-align: right;\n",
       "    }\n",
       "</style>\n",
       "<table border=\"1\" class=\"dataframe\">\n",
       "  <thead>\n",
       "    <tr style=\"text-align: right;\">\n",
       "      <th></th>\n",
       "      <th>wid</th>\n",
       "      <th>wine</th>\n",
       "      <th>date</th>\n",
       "      <th>review</th>\n",
       "      <th>source</th>\n",
       "      <th>lang</th>\n",
       "      <th>review_transl</th>\n",
       "    </tr>\n",
       "  </thead>\n",
       "  <tbody>\n",
       "    <tr>\n",
       "      <th>1</th>\n",
       "      <td>52</td>\n",
       "      <td>Diablo Black Cabernet Sauvignon</td>\n",
       "      <td>2023-06-27</td>\n",
       "      <td>👍</td>\n",
       "      <td>vivino</td>\n",
       "      <td>&lt;-- ERROR --&gt;</td>\n",
       "      <td>None</td>\n",
       "    </tr>\n",
       "    <tr>\n",
       "      <th>8</th>\n",
       "      <td>56</td>\n",
       "      <td>Woodbridge by Robert Mondavi Cabernet Sauvignon</td>\n",
       "      <td>2022-11-20</td>\n",
       "      <td>Luísa</td>\n",
       "      <td>vivino</td>\n",
       "      <td>ca</td>\n",
       "      <td>Luisa</td>\n",
       "    </tr>\n",
       "    <tr>\n",
       "      <th>10</th>\n",
       "      <td>56</td>\n",
       "      <td>Woodbridge by Robert Mondavi Cabernet Sauvignon</td>\n",
       "      <td>2022-07-17</td>\n",
       "      <td>B2</td>\n",
       "      <td>vivino</td>\n",
       "      <td>de</td>\n",
       "      <td>B2</td>\n",
       "    </tr>\n",
       "  </tbody>\n",
       "</table>\n",
       "</div>"
      ],
      "text/plain": [
       "    wid                                             wine       date review  \\\n",
       "1    52                  Diablo Black Cabernet Sauvignon 2023-06-27      👍   \n",
       "8    56  Woodbridge by Robert Mondavi Cabernet Sauvignon 2022-11-20  Luísa   \n",
       "10   56  Woodbridge by Robert Mondavi Cabernet Sauvignon 2022-07-17     B2   \n",
       "\n",
       "    source           lang review_transl  \n",
       "1   vivino  <-- ERROR -->          None  \n",
       "8   vivino             ca         Luisa  \n",
       "10  vivino             de            B2  "
      ]
     },
     "execution_count": 76,
     "metadata": {},
     "output_type": "execute_result"
    }
   ],
   "source": [
    "cond_err = df_err.index.isin([1,8,10])\n",
    "df_err.loc[cond_err]"
   ]
  },
  {
   "cell_type": "code",
   "execution_count": 82,
   "id": "c76ffbf7-3231-40a3-8331-2ee974a6294c",
   "metadata": {},
   "outputs": [],
   "source": [
    "df_reviews = pd.concat([df_reviews.loc[~cond], df_err.loc[~cond_err]]).reset_index(drop=True)"
   ]
  },
  {
   "cell_type": "code",
   "execution_count": 64,
   "id": "c61580ed-da11-4992-9fcf-47a5a88e5635",
   "metadata": {},
   "outputs": [
    {
     "data": {
      "text/html": [
       "<div>\n",
       "<style scoped>\n",
       "    .dataframe tbody tr th:only-of-type {\n",
       "        vertical-align: middle;\n",
       "    }\n",
       "\n",
       "    .dataframe tbody tr th {\n",
       "        vertical-align: top;\n",
       "    }\n",
       "\n",
       "    .dataframe thead th {\n",
       "        text-align: right;\n",
       "    }\n",
       "</style>\n",
       "<table border=\"1\" class=\"dataframe\">\n",
       "  <thead>\n",
       "    <tr style=\"text-align: right;\">\n",
       "      <th></th>\n",
       "      <th>wid</th>\n",
       "      <th>wine</th>\n",
       "      <th>date</th>\n",
       "      <th>review</th>\n",
       "      <th>source</th>\n",
       "      <th>lang</th>\n",
       "      <th>review_transl</th>\n",
       "    </tr>\n",
       "  </thead>\n",
       "  <tbody>\n",
       "  </tbody>\n",
       "</table>\n",
       "</div>"
      ],
      "text/plain": [
       "Empty DataFrame\n",
       "Columns: [wid, wine, date, review, source, lang, review_transl]\n",
       "Index: []"
      ]
     },
     "execution_count": 64,
     "metadata": {},
     "output_type": "execute_result"
    }
   ],
   "source": [
    "cond = df_reviews.review_transl.isna()\n",
    "df_reviews.loc[cond]"
   ]
  },
  {
   "cell_type": "code",
   "execution_count": 65,
   "id": "792cbd88-2ee8-408e-afd3-a60cfc85c277",
   "metadata": {},
   "outputs": [],
   "source": [
    "df_reviews = df_reviews.loc[~cond]"
   ]
  },
  {
   "cell_type": "markdown",
   "id": "25f7621f-96fa-4ffb-85e3-88f1053a85b5",
   "metadata": {},
   "source": [
    "# save"
   ]
  },
  {
   "cell_type": "code",
   "execution_count": 64,
   "id": "b1204894-12cc-4b17-aec3-14198af29d2b",
   "metadata": {},
   "outputs": [
    {
     "name": "stdout",
     "output_type": "stream",
     "text": [
      "data/wine_reviews_240319e.csv saved.\n"
     ]
    }
   ],
   "source": [
    "from datetime import datetime\n",
    "d = datetime.today().strftime('%y%m%d')\n",
    "#d = f'{d}b'\n",
    "\n",
    "file = f'wine_reviews_{d}e.csv'\n",
    "save_reviews(df_reviews, file)"
   ]
  },
  {
   "cell_type": "code",
   "execution_count": 65,
   "id": "54032ce7-f801-46a4-b3d7-8f7b6af3a998",
   "metadata": {},
   "outputs": [
    {
     "name": "stdout",
     "output_type": "stream",
     "text": [
      "\tzip warning: wine_reviews.zip not found or empty\n",
      "  adding: wine_reviews_240319e.csv (deflated 72%)\n"
     ]
    }
   ],
   "source": [
    "#!zip -uj wine_reviews.zip data/{file}\n",
    "!zip -uj wine_reviews.zip data/wine_reviews_2*e.csv"
   ]
  },
  {
   "cell_type": "code",
   "execution_count": 66,
   "id": "4c61b011-4b52-4c34-8aee-1cb7e1c1b766",
   "metadata": {},
   "outputs": [
    {
     "name": "stdout",
     "output_type": "stream",
     "text": [
      "Archive:  wine_reviews.zip\n",
      "  Length      Date    Time    Name\n",
      "---------  ---------- -----   ----\n",
      "  2316640  2024-03-19 20:37   wine_reviews_240319e.csv\n",
      "---------                     -------\n",
      "  2316640                     1 file\n"
     ]
    }
   ],
   "source": [
    "!unzip -l wine_reviews.zip"
   ]
  },
  {
   "cell_type": "code",
   "execution_count": null,
   "id": "621f3c85-a7cc-4cae-bab3-7c3e9c08cc9e",
   "metadata": {},
   "outputs": [],
   "source": []
  }
 ],
 "metadata": {
  "kernelspec": {
   "display_name": "scrap2",
   "language": "python",
   "name": "scrap2"
  },
  "language_info": {
   "codemirror_mode": {
    "name": "ipython",
    "version": 3
   },
   "file_extension": ".py",
   "mimetype": "text/x-python",
   "name": "python",
   "nbconvert_exporter": "python",
   "pygments_lexer": "ipython3",
   "version": "3.9.18"
  }
 },
 "nbformat": 4,
 "nbformat_minor": 5
}
